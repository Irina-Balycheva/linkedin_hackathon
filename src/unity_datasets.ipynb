{
 "cells": [
  {
   "cell_type": "markdown",
   "id": "ca874eb4",
   "metadata": {},
   "source": [
    "# Подключение библиотеки"
   ]
  },
  {
   "cell_type": "code",
   "execution_count": 1,
   "id": "8cca673a",
   "metadata": {},
   "outputs": [],
   "source": [
    "import time\n",
    "import configparser\n",
    "import random\n",
    "import re\n",
    "import os.path\n",
    "\n",
    "import pandas as pd\n",
    "import numpy as np\n",
    "from bs4 import BeautifulSoup\n",
    "from selenium import webdriver\n",
    "from selenium.webdriver.common.keys import Keys\n",
    "from selenium.webdriver.common.by import By\n",
    "import pymorphy2\n",
    "import nltk\n",
    "from nltk.corpus import stopwords\n",
    "from sklearn.decomposition import LatentDirichletAllocation, NMF\n",
    "from sklearn.feature_extraction.text import TfidfVectorizer\n",
    "import matplotlib.pyplot as plt\n",
    "import seaborn as sns\n",
    "from itertools import product\n",
    "\n",
    "sns.set_theme(style='whitegrid', palette='Set2')\n",
    "pd.set_option('display.max_rows', None)\n",
    "pd.set_option('display.max_columns', None)\n",
    "pd.set_option('display.max_colwidth', None)\n",
    "\n",
    "SEED = 42"
   ]
  },
  {
   "cell_type": "code",
   "execution_count": 2,
   "id": "f7148a44",
   "metadata": {},
   "outputs": [],
   "source": [
    "# задаем директорию\n",
    "file_path = '../datasets/'"
   ]
  },
  {
   "cell_type": "markdown",
   "id": "2c0b635f",
   "metadata": {},
   "source": [
    "# Датасеты команды"
   ]
  },
  {
   "cell_type": "markdown",
   "id": "8de27d27",
   "metadata": {},
   "source": [
    "## Датасет команды 2"
   ]
  },
  {
   "cell_type": "code",
   "execution_count": 3,
   "id": "5748e673",
   "metadata": {},
   "outputs": [],
   "source": [
    "dataset_from_team_2 = pd.read_csv(os.path.join(file_path, 'linkedin.csv'), index_col=0)"
   ]
  },
  {
   "cell_type": "code",
   "execution_count": 4,
   "id": "93faa068",
   "metadata": {},
   "outputs": [
    {
     "name": "stdout",
     "output_type": "stream",
     "text": [
      "<class 'pandas.core.frame.DataFrame'>\n",
      "Index: 2230 entries, 0 to 2239\n",
      "Data columns (total 16 columns):\n",
      " #   Column            Non-Null Count  Dtype \n",
      "---  ------            --------------  ----- \n",
      " 0   user_id           2230 non-null   object\n",
      " 1   post              2230 non-null   object\n",
      " 2   likes             2230 non-null   int64 \n",
      " 3   comments          2230 non-null   int64 \n",
      " 4   reposts           2230 non-null   int64 \n",
      " 5   hashtags          1427 non-null   object\n",
      " 6   post_lemmatized   2230 non-null   object\n",
      " 7   user_name         2230 non-null   object\n",
      " 8   user_head         2230 non-null   object\n",
      " 9   user_work         2142 non-null   object\n",
      " 10  user_position     2230 non-null   object\n",
      " 11  user_tags         575 non-null    object\n",
      " 12  user_location     2223 non-null   object\n",
      " 13  user_viewers      2230 non-null   object\n",
      " 14  user_contacts     2230 non-null   object\n",
      " 15  user_common_info  2043 non-null   object\n",
      "dtypes: int64(3), object(13)\n",
      "memory usage: 296.2+ KB\n"
     ]
    }
   ],
   "source": [
    "dataset_from_team_2.info()"
   ]
  },
  {
   "cell_type": "code",
   "execution_count": 5,
   "id": "052049a2",
   "metadata": {},
   "outputs": [
    {
     "data": {
      "text/plain": [
       "user_id                0\n",
       "post                   0\n",
       "likes                  0\n",
       "comments               0\n",
       "reposts                0\n",
       "hashtags             803\n",
       "post_lemmatized        0\n",
       "user_name              0\n",
       "user_head              0\n",
       "user_work             88\n",
       "user_position          0\n",
       "user_tags           1655\n",
       "user_location          7\n",
       "user_viewers           0\n",
       "user_contacts          0\n",
       "user_common_info     187\n",
       "dtype: int64"
      ]
     },
     "execution_count": 5,
     "metadata": {},
     "output_type": "execute_result"
    }
   ],
   "source": [
    "# Проверка на пропущенные значения\n",
    "dataset_from_team_2.isna().sum()"
   ]
  },
  {
   "cell_type": "code",
   "execution_count": 6,
   "id": "f2fbe239",
   "metadata": {
    "scrolled": true
   },
   "outputs": [
    {
     "data": {
      "text/html": [
       "<div>\n",
       "<style scoped>\n",
       "    .dataframe tbody tr th:only-of-type {\n",
       "        vertical-align: middle;\n",
       "    }\n",
       "\n",
       "    .dataframe tbody tr th {\n",
       "        vertical-align: top;\n",
       "    }\n",
       "\n",
       "    .dataframe thead th {\n",
       "        text-align: right;\n",
       "    }\n",
       "</style>\n",
       "<table border=\"1\" class=\"dataframe\">\n",
       "  <thead>\n",
       "    <tr style=\"text-align: right;\">\n",
       "      <th></th>\n",
       "      <th>user_id</th>\n",
       "      <th>post</th>\n",
       "      <th>likes</th>\n",
       "      <th>comments</th>\n",
       "      <th>reposts</th>\n",
       "      <th>hashtags</th>\n",
       "      <th>post_lemmatized</th>\n",
       "      <th>user_name</th>\n",
       "      <th>user_head</th>\n",
       "      <th>user_work</th>\n",
       "      <th>user_position</th>\n",
       "      <th>user_tags</th>\n",
       "      <th>user_location</th>\n",
       "      <th>user_viewers</th>\n",
       "      <th>user_contacts</th>\n",
       "      <th>user_common_info</th>\n",
       "    </tr>\n",
       "  </thead>\n",
       "  <tbody>\n",
       "    <tr>\n",
       "      <th>0</th>\n",
       "      <td>ali-wodan</td>\n",
       "      <td>Кстати говоря. Теперь подкаст Миражи доступен в соцсети Вконтакте: https://lnkd.in/gKkrJX9Я наконец разобрался как туда прикрутить RSS :-) #podcast #миражи</td>\n",
       "      <td>1</td>\n",
       "      <td>0</td>\n",
       "      <td>0</td>\n",
       "      <td>podcast, миражи</td>\n",
       "      <td>говоря подкаст мираж доступный соцсеть вконтакте разобраться прикрутить</td>\n",
       "      <td>Ali Wodan</td>\n",
       "      <td>Head of Design</td>\n",
       "      <td>Performix</td>\n",
       "      <td>Head Of Design</td>\n",
       "      <td>podcast, it</td>\n",
       "      <td>Москва, Московская область, Россия</td>\n",
       "      <td>2 391</td>\n",
       "      <td>500+</td>\n",
       "      <td>I am a digital product design lead. I've been designing digital systems for years. Teams creating, management, design process building, user research, analytics etc. it's all that i like to do. Also I am into psychology, music, philosophy.</td>\n",
       "    </tr>\n",
       "    <tr>\n",
       "      <th>1</th>\n",
       "      <td>ali-wodan</td>\n",
       "      <td>Хэй честной народ! Ищу векторного иллюстратора на проект, с возможным длительным сотрудничеством по итогу. Можно удаленно. Уровень иллюстраций не хуже чем в примере https://lnkd.in/gkrvhxYРепост, пожалуйста)Если ты умеешь так рисовать, напиши мне в личку :-)Hey! I am looking for an Illustrator who can help us with a project! You need to have skills like in the example below or upper. Text me to discuss prices and due :-)#вакансия #vacancy #illustration #иллюстрация #project #проект</td>\n",
       "      <td>6</td>\n",
       "      <td>0</td>\n",
       "      <td>0</td>\n",
       "      <td>вакансия, vacancy, illustration, иллюстрация, project, проект</td>\n",
       "      <td>честной народ искать векторный иллюстратор возможный длительный сотрудничество итогу удаленно уровень иллюстрация уметь рисовать</td>\n",
       "      <td>Ali Wodan</td>\n",
       "      <td>Head of Design</td>\n",
       "      <td>Performix</td>\n",
       "      <td>Head Of Design</td>\n",
       "      <td>podcast, it</td>\n",
       "      <td>Москва, Московская область, Россия</td>\n",
       "      <td>2 391</td>\n",
       "      <td>500+</td>\n",
       "      <td>I am a digital product design lead. I've been designing digital systems for years. Teams creating, management, design process building, user research, analytics etc. it's all that i like to do. Also I am into psychology, music, philosophy.</td>\n",
       "    </tr>\n",
       "    <tr>\n",
       "      <th>2</th>\n",
       "      <td>ali-wodan</td>\n",
       "      <td>Новый пост подкаста \"Миражи\" на всех платформах:В аудио: https://lnkd.in/giWuSVNВ инстаграме: https://lnkd.in/gbV6yxKН #automotive # # #cars #а патреоне: https://lnkd.in/gfShqTU#саморазвитие #психология #психологиячеловека #психологияжизни #психологияличности #личностныйрост #подкаст #подкастмиражи #маркетинг #осознанность #мысли #мысливслух #установки #влияние #подсознаниеИспользованные звуки, музыка и картинки:Аудиоцитата из фильма \"Формула любви\" Марка ЗахароваJardins du Luxembourg by Jahzzar is licensed under a Attribution-ShareAlike 3.0 International License.prisoner by Luis Prado from the Noun Project</td>\n",
       "      <td>1</td>\n",
       "      <td>0</td>\n",
       "      <td>0</td>\n",
       "      <td>automotive, cars, а, саморазвитие, психология, психологиячеловека, психологияжизни, психологияличности, личностныйрост, подкаст, подкастмиражи, маркетинг, осознанность, мысли, мысливслух, установки, влияние, подсознаниеИспользованные</td>\n",
       "      <td>подкаст миражи платформах аудио инстаграме патреоне звуки музыка картинки аудиоцитат фильм формула любви марк захарова</td>\n",
       "      <td>Ali Wodan</td>\n",
       "      <td>Head of Design</td>\n",
       "      <td>Performix</td>\n",
       "      <td>Head Of Design</td>\n",
       "      <td>podcast, it</td>\n",
       "      <td>Москва, Московская область, Россия</td>\n",
       "      <td>2 391</td>\n",
       "      <td>500+</td>\n",
       "      <td>I am a digital product design lead. I've been designing digital systems for years. Teams creating, management, design process building, user research, analytics etc. it's all that i like to do. Also I am into psychology, music, philosophy.</td>\n",
       "    </tr>\n",
       "    <tr>\n",
       "      <th>3</th>\n",
       "      <td>ali-wodan</td>\n",
       "      <td>Подкаст Миражи, Эпизод 13Ошибка невозвратных затратpodcast.ru/1539345144#подкаст #podcast #it #podcasts #psychology #психология #miragespodcast</td>\n",
       "      <td>2</td>\n",
       "      <td>0</td>\n",
       "      <td>0</td>\n",
       "      <td>подкаст, podcast, it, podcasts, psychology, психология, miragespodcast</td>\n",
       "      <td>подкаст миражи эпизод ошибка невозвратный затрат</td>\n",
       "      <td>Ali Wodan</td>\n",
       "      <td>Head of Design</td>\n",
       "      <td>Performix</td>\n",
       "      <td>Head Of Design</td>\n",
       "      <td>podcast, it</td>\n",
       "      <td>Москва, Московская область, Россия</td>\n",
       "      <td>2 391</td>\n",
       "      <td>500+</td>\n",
       "      <td>I am a digital product design lead. I've been designing digital systems for years. Teams creating, management, design process building, user research, analytics etc. it's all that i like to do. Also I am into psychology, music, philosophy.</td>\n",
       "    </tr>\n",
       "    <tr>\n",
       "      <th>4</th>\n",
       "      <td>ali-wodan</td>\n",
       "      <td>Новый эпизод об эффекте ИКЕА на всех платформах podcast.ru/1539345144</td>\n",
       "      <td>1</td>\n",
       "      <td>0</td>\n",
       "      <td>0</td>\n",
       "      <td>NaN</td>\n",
       "      <td>эпизод эффект икеа платформа</td>\n",
       "      <td>Ali Wodan</td>\n",
       "      <td>Head of Design</td>\n",
       "      <td>Performix</td>\n",
       "      <td>Head Of Design</td>\n",
       "      <td>podcast, it</td>\n",
       "      <td>Москва, Московская область, Россия</td>\n",
       "      <td>2 391</td>\n",
       "      <td>500+</td>\n",
       "      <td>I am a digital product design lead. I've been designing digital systems for years. Teams creating, management, design process building, user research, analytics etc. it's all that i like to do. Also I am into psychology, music, philosophy.</td>\n",
       "    </tr>\n",
       "  </tbody>\n",
       "</table>\n",
       "</div>"
      ],
      "text/plain": [
       "     user_id  \\\n",
       "0  ali-wodan   \n",
       "1  ali-wodan   \n",
       "2  ali-wodan   \n",
       "3  ali-wodan   \n",
       "4  ali-wodan   \n",
       "\n",
       "                                                                                                                                                                                                                                                                                                                                                                                                                                                                                                                                                                                                                                     post  \\\n",
       "0                                                                                                                                                                                                                                                                                                                                                                                                                                                                             Кстати говоря. Теперь подкаст Миражи доступен в соцсети Вконтакте: https://lnkd.in/gKkrJX9Я наконец разобрался как туда прикрутить RSS :-) #podcast #миражи   \n",
       "1                                                                                                                                  Хэй честной народ! Ищу векторного иллюстратора на проект, с возможным длительным сотрудничеством по итогу. Можно удаленно. Уровень иллюстраций не хуже чем в примере https://lnkd.in/gkrvhxYРепост, пожалуйста)Если ты умеешь так рисовать, напиши мне в личку :-)Hey! I am looking for an Illustrator who can help us with a project! You need to have skills like in the example below or upper. Text me to discuss prices and due :-)#вакансия #vacancy #illustration #иллюстрация #project #проект   \n",
       "2  Новый пост подкаста \"Миражи\" на всех платформах:В аудио: https://lnkd.in/giWuSVNВ инстаграме: https://lnkd.in/gbV6yxKН #automotive # # #cars #а патреоне: https://lnkd.in/gfShqTU#саморазвитие #психология #психологиячеловека #психологияжизни #психологияличности #личностныйрост #подкаст #подкастмиражи #маркетинг #осознанность #мысли #мысливслух #установки #влияние #подсознаниеИспользованные звуки, музыка и картинки:Аудиоцитата из фильма \"Формула любви\" Марка ЗахароваJardins du Luxembourg by Jahzzar is licensed under a Attribution-ShareAlike 3.0 International License.prisoner by Luis Prado from the Noun Project   \n",
       "3                                                                                                                                                                                                                                                                                                                                                                                                                                                                                         Подкаст Миражи, Эпизод 13Ошибка невозвратных затратpodcast.ru/1539345144#подкаст #podcast #it #podcasts #psychology #психология #miragespodcast   \n",
       "4                                                                                                                                                                                                                                                                                                                                                                                                                                                                                                                                                                   Новый эпизод об эффекте ИКЕА на всех платформах podcast.ru/1539345144   \n",
       "\n",
       "   likes  comments  reposts  \\\n",
       "0      1         0        0   \n",
       "1      6         0        0   \n",
       "2      1         0        0   \n",
       "3      2         0        0   \n",
       "4      1         0        0   \n",
       "\n",
       "                                                                                                                                                                                                                                    hashtags  \\\n",
       "0                                                                                                                                                                                                                            podcast, миражи   \n",
       "1                                                                                                                                                                              вакансия, vacancy, illustration, иллюстрация, project, проект   \n",
       "2  automotive, cars, а, саморазвитие, психология, психологиячеловека, психологияжизни, психологияличности, личностныйрост, подкаст, подкастмиражи, маркетинг, осознанность, мысли, мысливслух, установки, влияние, подсознаниеИспользованные   \n",
       "3                                                                                                                                                                     подкаст, podcast, it, podcasts, psychology, психология, miragespodcast   \n",
       "4                                                                                                                                                                                                                                        NaN   \n",
       "\n",
       "                                                                                                                    post_lemmatized  \\\n",
       "0                                                           говоря подкаст мираж доступный соцсеть вконтакте разобраться прикрутить   \n",
       "1  честной народ искать векторный иллюстратор возможный длительный сотрудничество итогу удаленно уровень иллюстрация уметь рисовать   \n",
       "2            подкаст миражи платформах аудио инстаграме патреоне звуки музыка картинки аудиоцитат фильм формула любви марк захарова   \n",
       "3                                                                                  подкаст миражи эпизод ошибка невозвратный затрат   \n",
       "4                                                                                                      эпизод эффект икеа платформа   \n",
       "\n",
       "   user_name       user_head  user_work   user_position    user_tags  \\\n",
       "0  Ali Wodan  Head of Design  Performix  Head Of Design  podcast, it   \n",
       "1  Ali Wodan  Head of Design  Performix  Head Of Design  podcast, it   \n",
       "2  Ali Wodan  Head of Design  Performix  Head Of Design  podcast, it   \n",
       "3  Ali Wodan  Head of Design  Performix  Head Of Design  podcast, it   \n",
       "4  Ali Wodan  Head of Design  Performix  Head Of Design  podcast, it   \n",
       "\n",
       "                        user_location user_viewers user_contacts  \\\n",
       "0  Москва, Московская область, Россия        2 391          500+   \n",
       "1  Москва, Московская область, Россия        2 391          500+   \n",
       "2  Москва, Московская область, Россия        2 391          500+   \n",
       "3  Москва, Московская область, Россия        2 391          500+   \n",
       "4  Москва, Московская область, Россия        2 391          500+   \n",
       "\n",
       "                                                                                                                                                                                                                                  user_common_info  \n",
       "0  I am a digital product design lead. I've been designing digital systems for years. Teams creating, management, design process building, user research, analytics etc. it's all that i like to do. Also I am into psychology, music, philosophy.  \n",
       "1  I am a digital product design lead. I've been designing digital systems for years. Teams creating, management, design process building, user research, analytics etc. it's all that i like to do. Also I am into psychology, music, philosophy.  \n",
       "2  I am a digital product design lead. I've been designing digital systems for years. Teams creating, management, design process building, user research, analytics etc. it's all that i like to do. Also I am into psychology, music, philosophy.  \n",
       "3  I am a digital product design lead. I've been designing digital systems for years. Teams creating, management, design process building, user research, analytics etc. it's all that i like to do. Also I am into psychology, music, philosophy.  \n",
       "4  I am a digital product design lead. I've been designing digital systems for years. Teams creating, management, design process building, user research, analytics etc. it's all that i like to do. Also I am into psychology, music, philosophy.  "
      ]
     },
     "metadata": {},
     "output_type": "display_data"
    },
    {
     "data": {
      "text/html": [
       "<div>\n",
       "<style scoped>\n",
       "    .dataframe tbody tr th:only-of-type {\n",
       "        vertical-align: middle;\n",
       "    }\n",
       "\n",
       "    .dataframe tbody tr th {\n",
       "        vertical-align: top;\n",
       "    }\n",
       "\n",
       "    .dataframe thead th {\n",
       "        text-align: right;\n",
       "    }\n",
       "</style>\n",
       "<table border=\"1\" class=\"dataframe\">\n",
       "  <thead>\n",
       "    <tr style=\"text-align: right;\">\n",
       "      <th></th>\n",
       "      <th>user_id</th>\n",
       "      <th>post</th>\n",
       "      <th>likes</th>\n",
       "      <th>comments</th>\n",
       "      <th>reposts</th>\n",
       "      <th>hashtags</th>\n",
       "      <th>post_lemmatized</th>\n",
       "      <th>user_name</th>\n",
       "      <th>user_head</th>\n",
       "      <th>user_work</th>\n",
       "      <th>user_position</th>\n",
       "      <th>user_tags</th>\n",
       "      <th>user_location</th>\n",
       "      <th>user_viewers</th>\n",
       "      <th>user_contacts</th>\n",
       "      <th>user_common_info</th>\n",
       "    </tr>\n",
       "  </thead>\n",
       "  <tbody>\n",
       "    <tr>\n",
       "      <th>2235</th>\n",
       "      <td>leraginzburg</td>\n",
       "      <td>Hi Linkedin :) I'm Lera, a designer with a technical background and wide experience in graphics. I am currently looking for a UX/UI designer role in a product company. I have basic skills and an understanding of real workflows in this direction.I would be happy to consider different options, I am mainly interested in projects in Health- Fin- and EdTech.My expertise is:  prototyping; working with design systems; conducting market and target audience analysis.Besides that: My experience in business management taught me to be flexible, take responsibility for my actions and not be afraid of unforeseen situations. I am an excellent team player, ready to work in hybrid teams and establish effective communications. I can work independently and make decisions.I would appreciate your help in sharing this post. It could shorten my path to my dream job My Portfolio: http://lera-ginzburg.com/Contacts:https://t.me/LeraGinzburgginzburg.lera@gmail.com#uxuidesigner #productdesigner #cv #opentowork #resume ________Всем привет! Я Лера - дизайнер с техническим бэкграундом и большим опытом работы в графике. На данный момент, ищу роль UX/UI дизайнера в продуктовой компании. Буду рада рассмотреть разные варианты, но преимущественно интересуют проекты в сферах Health- Fin- и EdTech.Моя основная экспертиза прототипирование; работа с дизайн-системами; проведение анализа рынка и ЦА, количественных и качественных интервью.А также:  Имею опыт в управлении бизнесом, который научил меня быть гибкой, брать ответственность за свои действия и не бояться непредвиденных ситуаций;  Я отличный командный игрок, готовый работать в гибридных командах и налаживать эффективные коммуникации; Могу самостоятельно работать и принимать решения. Буду благодарна за вашу помощь в распространении этого поста, надеюсь, он сократит мой путь к работе мечты Портфолио: http://lera-ginzburg.com/Контакты:https://t.me/LeraGinzburgginzburg.lera@gmail.com</td>\n",
       "      <td>32</td>\n",
       "      <td>2</td>\n",
       "      <td>7</td>\n",
       "      <td>uxuidesigner, productdesigner, cv, opentowork, resume</td>\n",
       "      <td>лера дизайнер технический бэкграунд опыт графике искать роль дизайнер продуктовый компании варианты преимущественно интересовать сфера основный экспертиза прототипирование дизайн системами проведение анализ рынок ца количественный качественный интервью опыт управление бизнесом научить гибкой ответственность действие бояться непредвиденный ситуаций командный игрок гибридный команда налаживать эффективный коммуникации самостоятельно принимать решения помощь распространение сократить путь мечта портфолио контакты</td>\n",
       "      <td>Валерия Гинзбург</td>\n",
       "      <td>UX/UI дизайнер || продуктовый дизайнер || дизайнер интерфейсов</td>\n",
       "      <td>Izhevsk State Technical University (ISTU)</td>\n",
       "      <td>UX/UI Дизайнер - стажер</td>\n",
       "      <td>NaN</td>\n",
       "      <td>Тель-Авив, Тель-Авивский округ, Израиль</td>\n",
       "      <td>493 контакта</td>\n",
       "      <td>0</td>\n",
       "      <td>Я Лера - дизайнер с техническим бэкграундом и большим опытом работы в графике. На данный момент, ищу роль UX/UI дизайнера в продуктовой компании. Прошла стажировку в команде с менторами, поэтому уже имею представление о процессах в работе.Буду рада рассмотреть разные варианты, но преимущественно интересуют проекты в сферах Health- Fin- и EdTech.Моя основная экспертиза - прототипирование, работа с дизайн-системами, проведение анализа рынка и ЦА, количественных и качественных интервью. Кроме этого:• опыт в управлении бизнесом научил меня быть гибкой, брать ответственность за свои действия и не бояться непредвиденных ситуаций;• я отличный командный игрок, готовый работать в гибридных командах и налаживать эффективные коммуникации;• могу самостоятельно работать и принимать решения, но рассчитываю на менторство со стороны старших коллег, так я смогу учиться и приносить с каждым разом всё больше пользы.Портфолио: http://lera-ginzburg.com/Телеграмм для связи: https://t.me/LeraGinzburg</td>\n",
       "    </tr>\n",
       "    <tr>\n",
       "      <th>2236</th>\n",
       "      <td>leraginzburg</td>\n",
       "      <td>Всем привет!Собеседование на английском языке - это маленький стресс для русскоговорящих специалистов. Хочу поделиться с вами бесплатным тренажером от Google. Особенно подходит тем, кому не хватает разговорной практики или опыта. Очень круто, что можно по итогу собеседования получить обратную связь.  Interview Warmup предлагает потренировать типичные вопросы для разных специальностей:• Data Analytics • E-Commerce • IT Support • Project Management • UX Design• General  Система обращает внимание на: - чрезмерное употребление каких-то слов (подскажет синонимы) - воду и отвлеченные рассуждения- отсутствие профессиональной лексики Прекрасная возможность потренировать speaking skills    Потренироваться: https://lnkd.in/dSdgaUQU#projectmanagement #interview #commerce #google #dataanalytics #uxdesign #english #englishcommunication #pm</td>\n",
       "      <td>592</td>\n",
       "      <td>35</td>\n",
       "      <td>75</td>\n",
       "      <td>projectmanagement, interview, commerce, google, dataanalytics, uxdesign, english, englishcommunication, pm</td>\n",
       "      <td>собеседование английский стресс русскоговорящий специалистов поделиться тренажёр разговорный практика опыта итог собеседование получить связь предлагать потренировать типичный специальностей система обращать внимание чрезмерный употребление слово подсказать синонимы вода отвлечь рассуждения отсутствие профессиональный лексика возможность потренировать потренироваться</td>\n",
       "      <td>Валерия Гинзбург</td>\n",
       "      <td>UX/UI дизайнер || продуктовый дизайнер || дизайнер интерфейсов</td>\n",
       "      <td>Izhevsk State Technical University (ISTU)</td>\n",
       "      <td>UX/UI Дизайнер - стажер</td>\n",
       "      <td>NaN</td>\n",
       "      <td>Тель-Авив, Тель-Авивский округ, Израиль</td>\n",
       "      <td>493 контакта</td>\n",
       "      <td>0</td>\n",
       "      <td>Я Лера - дизайнер с техническим бэкграундом и большим опытом работы в графике. На данный момент, ищу роль UX/UI дизайнера в продуктовой компании. Прошла стажировку в команде с менторами, поэтому уже имею представление о процессах в работе.Буду рада рассмотреть разные варианты, но преимущественно интересуют проекты в сферах Health- Fin- и EdTech.Моя основная экспертиза - прототипирование, работа с дизайн-системами, проведение анализа рынка и ЦА, количественных и качественных интервью. Кроме этого:• опыт в управлении бизнесом научил меня быть гибкой, брать ответственность за свои действия и не бояться непредвиденных ситуаций;• я отличный командный игрок, готовый работать в гибридных командах и налаживать эффективные коммуникации;• могу самостоятельно работать и принимать решения, но рассчитываю на менторство со стороны старших коллег, так я смогу учиться и приносить с каждым разом всё больше пользы.Портфолио: http://lera-ginzburg.com/Телеграмм для связи: https://t.me/LeraGinzburg</td>\n",
       "    </tr>\n",
       "    <tr>\n",
       "      <th>2237</th>\n",
       "      <td>hayk-grigoryan1</td>\n",
       "      <td>Здравствуйте, я в поиске новой карьерной возможности и буду признателен(а) за вашу поддержку. Заранее благодарю за все рекомендации контактов, советы или возможности, которые вы можете предложить. #OpenToWork</td>\n",
       "      <td>2</td>\n",
       "      <td>0</td>\n",
       "      <td>1</td>\n",
       "      <td>OpenToWork</td>\n",
       "      <td>поиск карьерный возможность поддержку рекомендация контактов совет возможности</td>\n",
       "      <td>Hayk Grigoryan</td>\n",
       "      <td>Senior UX Designer︱Co-Founder at UXACADEMY ︱Design Tutor</td>\n",
       "      <td>UXACADEMY</td>\n",
       "      <td>Co-Founder</td>\n",
       "      <td>ui, ux, design, uidesign, uxdesign</td>\n",
       "      <td>Ереван, Ереван, Армения</td>\n",
       "      <td>15 024</td>\n",
       "      <td>500+</td>\n",
       "      <td>I'm UX/UI designer for over 7 years. Experienced in Mobile and Web UI/UX design with a demonstrated history of working in the Finance, Health, Insurance, E-Commerce, HoReCa, Education, and Gambling industries.Skilled in UX Strategy, UX Research, User-centered Design, UX Design, Information Architecture, Wireframing, Prototyping, Interaction Design, Interactive Prototyping, UI Design, Mobile Design, Web Design, A/B Testing, Data Analysis, Heatmap Analysis, Persona Hypothesis, Usability Testing, Motion Design, Graphic DesignI strive to create responsive design experiences that are clean, simple, and user-focused.</td>\n",
       "    </tr>\n",
       "    <tr>\n",
       "      <th>2238</th>\n",
       "      <td>liudmila-klimusheuskaja-a5601192</td>\n",
       "      <td>Как в крупной IT компании организовать взаимодействие между подразделениями для подготовки контент-материалов? Делимся нашим опытом.</td>\n",
       "      <td>7</td>\n",
       "      <td>0</td>\n",
       "      <td>0</td>\n",
       "      <td>NaN</td>\n",
       "      <td>крупный организовать взаимодействие подразделение подготовка контент материалов делиться опытом</td>\n",
       "      <td>Liudmila Klimusheuskaja</td>\n",
       "      <td>IoT | AI | FinTech | Blockchain | Consulting in software development | 1,500+ experienced IT developers</td>\n",
       "      <td>Innowise Group</td>\n",
       "      <td>Account Based Marketing Manager</td>\n",
       "      <td>fintech, blockchain, itconsulting, softwaredevelopment, artificialintelligence</td>\n",
       "      <td>Варшава, Мазовецкое воеводство, Польша</td>\n",
       "      <td>5 815</td>\n",
       "      <td>500+</td>\n",
       "      <td>I am passionate about marketing, digital marketing tools and IT technologies. My knowledge includes outbound and inbound lead generation, digital marketing, content plan management, SEO, competitors analysis, SMM.  My interests also include FinTech, Blockchain, AI/ML, software development trends and more.</td>\n",
       "    </tr>\n",
       "    <tr>\n",
       "      <th>2239</th>\n",
       "      <td>liudmila-klimusheuskaja-a5601192</td>\n",
       "      <td>Exadel при сотрудничестве с Брестским государственным техническим университетом объявляет о митапе “DevOps. Первые шаги”, 22 октября, в 18.00, online.Спикер Роман Хващевский - DevOps Software Engineer, DevOps Community Leader и DevOps Solution Lead в минском офисе компании Exadel. У Романа 4-х летний опыт разработки, внедрения и поддержки программных приложений и услуг.План митапа:Что такое DevOpsКто такой DevOps инженер и какие его основные задачиЧто нужно знать, чтобы стать DevOps инженеромПерспективы развития DevOps инженера и карьерный ростПримеры задачВопросы и ответыСреди участников разыгрываем призы. Принять участие в митапе можно только после предварительной регистрации:http://bit.ly/2CQUPhM#ExadelDevOpsmeetup #DevOpsmeetup #DevOps</td>\n",
       "      <td>0</td>\n",
       "      <td>0</td>\n",
       "      <td>0</td>\n",
       "      <td>ExadelDevOpsmeetup, DevOpsmeetup, DevOps</td>\n",
       "      <td>сотрудничество брестский государственный технический университет объявлять митапа шаги октября спикер роман хващевский минский офис роман летний опыт разработки внедрение поддержка программный приложение услуг план митапа инженер основной задачичто инженеромперспектив развитие инженер карьерный ростпример задачвопрос ответысреди участник разыгрывать призы принять участие митапа предварительный регистрации</td>\n",
       "      <td>Liudmila Klimusheuskaja</td>\n",
       "      <td>IoT | AI | FinTech | Blockchain | Consulting in software development | 1,500+ experienced IT developers</td>\n",
       "      <td>Innowise Group</td>\n",
       "      <td>Account Based Marketing Manager</td>\n",
       "      <td>fintech, blockchain, itconsulting, softwaredevelopment, artificialintelligence</td>\n",
       "      <td>Варшава, Мазовецкое воеводство, Польша</td>\n",
       "      <td>5 815</td>\n",
       "      <td>500+</td>\n",
       "      <td>I am passionate about marketing, digital marketing tools and IT technologies. My knowledge includes outbound and inbound lead generation, digital marketing, content plan management, SEO, competitors analysis, SMM.  My interests also include FinTech, Blockchain, AI/ML, software development trends and more.</td>\n",
       "    </tr>\n",
       "  </tbody>\n",
       "</table>\n",
       "</div>"
      ],
      "text/plain": [
       "                               user_id  \\\n",
       "2235                      leraginzburg   \n",
       "2236                      leraginzburg   \n",
       "2237                   hayk-grigoryan1   \n",
       "2238  liudmila-klimusheuskaja-a5601192   \n",
       "2239  liudmila-klimusheuskaja-a5601192   \n",
       "\n",
       "                                                                                                                                                                                                                                                                                                                                                                                                                                                                                                                                                                                                                                                                                                                                                                                                                                                                                                                                                                                                                                                                                                                                                                                                                                                                                                                                                                                                                                                                                                                                                                                                                                                                                                                                                                                                                                                                                                                                                                                                           post  \\\n",
       "2235  Hi Linkedin :) I'm Lera, a designer with a technical background and wide experience in graphics. I am currently looking for a UX/UI designer role in a product company. I have basic skills and an understanding of real workflows in this direction.I would be happy to consider different options, I am mainly interested in projects in Health- Fin- and EdTech.My expertise is:  prototyping; working with design systems; conducting market and target audience analysis.Besides that: My experience in business management taught me to be flexible, take responsibility for my actions and not be afraid of unforeseen situations. I am an excellent team player, ready to work in hybrid teams and establish effective communications. I can work independently and make decisions.I would appreciate your help in sharing this post. It could shorten my path to my dream job My Portfolio: http://lera-ginzburg.com/Contacts:https://t.me/LeraGinzburgginzburg.lera@gmail.com#uxuidesigner #productdesigner #cv #opentowork #resume ________Всем привет! Я Лера - дизайнер с техническим бэкграундом и большим опытом работы в графике. На данный момент, ищу роль UX/UI дизайнера в продуктовой компании. Буду рада рассмотреть разные варианты, но преимущественно интересуют проекты в сферах Health- Fin- и EdTech.Моя основная экспертиза прототипирование; работа с дизайн-системами; проведение анализа рынка и ЦА, количественных и качественных интервью.А также:  Имею опыт в управлении бизнесом, который научил меня быть гибкой, брать ответственность за свои действия и не бояться непредвиденных ситуаций;  Я отличный командный игрок, готовый работать в гибридных командах и налаживать эффективные коммуникации; Могу самостоятельно работать и принимать решения. Буду благодарна за вашу помощь в распространении этого поста, надеюсь, он сократит мой путь к работе мечты Портфолио: http://lera-ginzburg.com/Контакты:https://t.me/LeraGinzburgginzburg.lera@gmail.com   \n",
       "2236                                                                                                                                                                                                                                                                                                                                                                                                                                                                                                                                                                                                                                                                                                                                                                                                                                                                                                                                                                                                                                                                                                                                     Всем привет!Собеседование на английском языке - это маленький стресс для русскоговорящих специалистов. Хочу поделиться с вами бесплатным тренажером от Google. Особенно подходит тем, кому не хватает разговорной практики или опыта. Очень круто, что можно по итогу собеседования получить обратную связь.  Interview Warmup предлагает потренировать типичные вопросы для разных специальностей:• Data Analytics • E-Commerce • IT Support • Project Management • UX Design• General  Система обращает внимание на: - чрезмерное употребление каких-то слов (подскажет синонимы) - воду и отвлеченные рассуждения- отсутствие профессиональной лексики Прекрасная возможность потренировать speaking skills    Потренироваться: https://lnkd.in/dSdgaUQU#projectmanagement #interview #commerce #google #dataanalytics #uxdesign #english #englishcommunication #pm   \n",
       "2237                                                                                                                                                                                                                                                                                                                                                                                                                                                                                                                                                                                                                                                                                                                                                                                                                                                                                                                                                                                                                                                                                                                                                                                                                                                                                                                                                                                                                                                                                                                                                                                                                                                                                                                                                                                           Здравствуйте, я в поиске новой карьерной возможности и буду признателен(а) за вашу поддержку. Заранее благодарю за все рекомендации контактов, советы или возможности, которые вы можете предложить. #OpenToWork   \n",
       "2238                                                                                                                                                                                                                                                                                                                                                                                                                                                                                                                                                                                                                                                                                                                                                                                                                                                                                                                                                                                                                                                                                                                                                                                                                                                                                                                                                                                                                                                                                                                                                                                                                                                                                                                                                                                                                                                                       Как в крупной IT компании организовать взаимодействие между подразделениями для подготовки контент-материалов? Делимся нашим опытом.   \n",
       "2239                                                                                                                                                                                                                                                                                                                                                                                                                                                                                                                                                                                                                                                                                                                                                                                                                                                                                                                                                                                                                                                                                                                                                                                                                              Exadel при сотрудничестве с Брестским государственным техническим университетом объявляет о митапе “DevOps. Первые шаги”, 22 октября, в 18.00, online.Спикер Роман Хващевский - DevOps Software Engineer, DevOps Community Leader и DevOps Solution Lead в минском офисе компании Exadel. У Романа 4-х летний опыт разработки, внедрения и поддержки программных приложений и услуг.План митапа:Что такое DevOpsКто такой DevOps инженер и какие его основные задачиЧто нужно знать, чтобы стать DevOps инженеромПерспективы развития DevOps инженера и карьерный ростПримеры задачВопросы и ответыСреди участников разыгрываем призы. Принять участие в митапе можно только после предварительной регистрации:http://bit.ly/2CQUPhM#ExadelDevOpsmeetup #DevOpsmeetup #DevOps   \n",
       "\n",
       "      likes  comments  reposts  \\\n",
       "2235     32         2        7   \n",
       "2236    592        35       75   \n",
       "2237      2         0        1   \n",
       "2238      7         0        0   \n",
       "2239      0         0        0   \n",
       "\n",
       "                                                                                                        hashtags  \\\n",
       "2235                                                       uxuidesigner, productdesigner, cv, opentowork, resume   \n",
       "2236  projectmanagement, interview, commerce, google, dataanalytics, uxdesign, english, englishcommunication, pm   \n",
       "2237                                                                                                  OpenToWork   \n",
       "2238                                                                                                         NaN   \n",
       "2239                                                                    ExadelDevOpsmeetup, DevOpsmeetup, DevOps   \n",
       "\n",
       "                                                                                                                                                                                                                                                                                                                                                                                                                                                                                                                          post_lemmatized  \\\n",
       "2235  лера дизайнер технический бэкграунд опыт графике искать роль дизайнер продуктовый компании варианты преимущественно интересовать сфера основный экспертиза прототипирование дизайн системами проведение анализ рынок ца количественный качественный интервью опыт управление бизнесом научить гибкой ответственность действие бояться непредвиденный ситуаций командный игрок гибридный команда налаживать эффективный коммуникации самостоятельно принимать решения помощь распространение сократить путь мечта портфолио контакты   \n",
       "2236                                                                                                                                                    собеседование английский стресс русскоговорящий специалистов поделиться тренажёр разговорный практика опыта итог собеседование получить связь предлагать потренировать типичный специальностей система обращать внимание чрезмерный употребление слово подсказать синонимы вода отвлечь рассуждения отсутствие профессиональный лексика возможность потренировать потренироваться   \n",
       "2237                                                                                                                                                                                                                                                                                                                                                                                                                                                       поиск карьерный возможность поддержку рекомендация контактов совет возможности   \n",
       "2238                                                                                                                                                                                                                                                                                                                                                                                                                                      крупный организовать взаимодействие подразделение подготовка контент материалов делиться опытом   \n",
       "2239                                                                                                             сотрудничество брестский государственный технический университет объявлять митапа шаги октября спикер роман хващевский минский офис роман летний опыт разработки внедрение поддержка программный приложение услуг план митапа инженер основной задачичто инженеромперспектив развитие инженер карьерный ростпример задачвопрос ответысреди участник разыгрывать призы принять участие митапа предварительный регистрации   \n",
       "\n",
       "                    user_name  \\\n",
       "2235         Валерия Гинзбург   \n",
       "2236         Валерия Гинзбург   \n",
       "2237           Hayk Grigoryan   \n",
       "2238  Liudmila Klimusheuskaja   \n",
       "2239  Liudmila Klimusheuskaja   \n",
       "\n",
       "                                                                                                    user_head  \\\n",
       "2235                                           UX/UI дизайнер || продуктовый дизайнер || дизайнер интерфейсов   \n",
       "2236                                           UX/UI дизайнер || продуктовый дизайнер || дизайнер интерфейсов   \n",
       "2237                                                 Senior UX Designer︱Co-Founder at UXACADEMY ︱Design Tutor   \n",
       "2238  IoT | AI | FinTech | Blockchain | Consulting in software development | 1,500+ experienced IT developers   \n",
       "2239  IoT | AI | FinTech | Blockchain | Consulting in software development | 1,500+ experienced IT developers   \n",
       "\n",
       "                                      user_work  \\\n",
       "2235  Izhevsk State Technical University (ISTU)   \n",
       "2236  Izhevsk State Technical University (ISTU)   \n",
       "2237                                  UXACADEMY   \n",
       "2238                             Innowise Group   \n",
       "2239                             Innowise Group   \n",
       "\n",
       "                        user_position  \\\n",
       "2235          UX/UI Дизайнер - стажер   \n",
       "2236          UX/UI Дизайнер - стажер   \n",
       "2237                       Co-Founder   \n",
       "2238  Account Based Marketing Manager   \n",
       "2239  Account Based Marketing Manager   \n",
       "\n",
       "                                                                           user_tags  \\\n",
       "2235                                                                             NaN   \n",
       "2236                                                                             NaN   \n",
       "2237                                              ui, ux, design, uidesign, uxdesign   \n",
       "2238  fintech, blockchain, itconsulting, softwaredevelopment, artificialintelligence   \n",
       "2239  fintech, blockchain, itconsulting, softwaredevelopment, artificialintelligence   \n",
       "\n",
       "                                user_location  user_viewers user_contacts  \\\n",
       "2235  Тель-Авив, Тель-Авивский округ, Израиль  493 контакта             0   \n",
       "2236  Тель-Авив, Тель-Авивский округ, Израиль  493 контакта             0   \n",
       "2237                  Ереван, Ереван, Армения        15 024          500+   \n",
       "2238   Варшава, Мазовецкое воеводство, Польша         5 815          500+   \n",
       "2239   Варшава, Мазовецкое воеводство, Польша         5 815          500+   \n",
       "\n",
       "                                                                                                                                                                                                                                                                                                                                                                                                                                                                                                                                                                                                                                                                                                                                                                                                                                                                                                                                                                                                                      user_common_info  \n",
       "2235  Я Лера - дизайнер с техническим бэкграундом и большим опытом работы в графике. На данный момент, ищу роль UX/UI дизайнера в продуктовой компании. Прошла стажировку в команде с менторами, поэтому уже имею представление о процессах в работе.Буду рада рассмотреть разные варианты, но преимущественно интересуют проекты в сферах Health- Fin- и EdTech.Моя основная экспертиза - прототипирование, работа с дизайн-системами, проведение анализа рынка и ЦА, количественных и качественных интервью. Кроме этого:• опыт в управлении бизнесом научил меня быть гибкой, брать ответственность за свои действия и не бояться непредвиденных ситуаций;• я отличный командный игрок, готовый работать в гибридных командах и налаживать эффективные коммуникации;• могу самостоятельно работать и принимать решения, но рассчитываю на менторство со стороны старших коллег, так я смогу учиться и приносить с каждым разом всё больше пользы.Портфолио: http://lera-ginzburg.com/Телеграмм для связи: https://t.me/LeraGinzburg  \n",
       "2236  Я Лера - дизайнер с техническим бэкграундом и большим опытом работы в графике. На данный момент, ищу роль UX/UI дизайнера в продуктовой компании. Прошла стажировку в команде с менторами, поэтому уже имею представление о процессах в работе.Буду рада рассмотреть разные варианты, но преимущественно интересуют проекты в сферах Health- Fin- и EdTech.Моя основная экспертиза - прототипирование, работа с дизайн-системами, проведение анализа рынка и ЦА, количественных и качественных интервью. Кроме этого:• опыт в управлении бизнесом научил меня быть гибкой, брать ответственность за свои действия и не бояться непредвиденных ситуаций;• я отличный командный игрок, готовый работать в гибридных командах и налаживать эффективные коммуникации;• могу самостоятельно работать и принимать решения, но рассчитываю на менторство со стороны старших коллег, так я смогу учиться и приносить с каждым разом всё больше пользы.Портфолио: http://lera-ginzburg.com/Телеграмм для связи: https://t.me/LeraGinzburg  \n",
       "2237                                                                                                                                                                                                                                                                                                                                                                                        I'm UX/UI designer for over 7 years. Experienced in Mobile and Web UI/UX design with a demonstrated history of working in the Finance, Health, Insurance, E-Commerce, HoReCa, Education, and Gambling industries.Skilled in UX Strategy, UX Research, User-centered Design, UX Design, Information Architecture, Wireframing, Prototyping, Interaction Design, Interactive Prototyping, UI Design, Mobile Design, Web Design, A/B Testing, Data Analysis, Heatmap Analysis, Persona Hypothesis, Usability Testing, Motion Design, Graphic DesignI strive to create responsive design experiences that are clean, simple, and user-focused.  \n",
       "2238                                                                                                                                                                                                                                                                                                                                                                                                                                                                                                                                                                                                                                                                                                                I am passionate about marketing, digital marketing tools and IT technologies. My knowledge includes outbound and inbound lead generation, digital marketing, content plan management, SEO, competitors analysis, SMM.  My interests also include FinTech, Blockchain, AI/ML, software development trends and more.  \n",
       "2239                                                                                                                                                                                                                                                                                                                                                                                                                                                                                                                                                                                                                                                                                                                I am passionate about marketing, digital marketing tools and IT technologies. My knowledge includes outbound and inbound lead generation, digital marketing, content plan management, SEO, competitors analysis, SMM.  My interests also include FinTech, Blockchain, AI/ML, software development trends and more.  "
      ]
     },
     "metadata": {},
     "output_type": "display_data"
    }
   ],
   "source": [
    "display(dataset_from_team_2.head())\n",
    "\n",
    "display(dataset_from_team_2.tail())"
   ]
  },
  {
   "cell_type": "markdown",
   "id": "e58032a4",
   "metadata": {},
   "source": [
    "## Датасет команды 3"
   ]
  },
  {
   "cell_type": "code",
   "execution_count": 7,
   "id": "f006c804",
   "metadata": {},
   "outputs": [],
   "source": [
    "dataset_from_team_3 = pd.read_csv(os.path.join(file_path, 'dataset_from_team_3.csv'), index_col=0)"
   ]
  },
  {
   "cell_type": "code",
   "execution_count": 8,
   "id": "a77b3fd3",
   "metadata": {},
   "outputs": [
    {
     "name": "stdout",
     "output_type": "stream",
     "text": [
      "<class 'pandas.core.frame.DataFrame'>\n",
      "Index: 304 entries, 0 to 487\n",
      "Data columns (total 8 columns):\n",
      " #   Column        Non-Null Count  Dtype  \n",
      "---  ------        --------------  -----  \n",
      " 0   name          304 non-null    object \n",
      " 1   status        304 non-null    object \n",
      " 2   company       304 non-null    object \n",
      " 3   url           304 non-null    object \n",
      " 4   text          304 non-null    object \n",
      " 5   likes_cnt     297 non-null    float64\n",
      " 6   reposts_cnt   304 non-null    int64  \n",
      " 7   comments_cnt  304 non-null    int64  \n",
      "dtypes: float64(1), int64(2), object(5)\n",
      "memory usage: 21.4+ KB\n"
     ]
    }
   ],
   "source": [
    "dataset_from_team_3.info()"
   ]
  },
  {
   "cell_type": "code",
   "execution_count": 9,
   "id": "6c48dd3a",
   "metadata": {},
   "outputs": [
    {
     "data": {
      "text/plain": [
       "48"
      ]
     },
     "execution_count": 9,
     "metadata": {},
     "output_type": "execute_result"
    }
   ],
   "source": [
    "# Проверим на наличие дубликатов \n",
    "dataset_from_team_3.duplicated().sum()"
   ]
  },
  {
   "cell_type": "code",
   "execution_count": 10,
   "id": "36c6c7fc",
   "metadata": {},
   "outputs": [],
   "source": [
    "# Устраняем их\n",
    "dataset_from_team_3.drop_duplicates(inplace=True)"
   ]
  },
  {
   "cell_type": "code",
   "execution_count": 11,
   "id": "4d25a93c",
   "metadata": {},
   "outputs": [
    {
     "data": {
      "text/plain": [
       "name            0\n",
       "status          0\n",
       "company         0\n",
       "url             0\n",
       "text            0\n",
       "likes_cnt       7\n",
       "reposts_cnt     0\n",
       "comments_cnt    0\n",
       "dtype: int64"
      ]
     },
     "execution_count": 11,
     "metadata": {},
     "output_type": "execute_result"
    }
   ],
   "source": [
    "# Проверка на пропущенные значения\n",
    "dataset_from_team_3.isna().sum()"
   ]
  },
  {
   "cell_type": "code",
   "execution_count": 12,
   "id": "87bf96d5",
   "metadata": {},
   "outputs": [],
   "source": [
    "dataset_from_team_3 = dataset_from_team_3.rename(columns={'text': 'post', 'name': 'user_name', 'status': 'user_head', 'company': 'user_work', 'likes_cnt': 'likes', 'reposts_cnt': 'reposts', 'comments_cnt': 'comments'})"
   ]
  },
  {
   "cell_type": "code",
   "execution_count": 13,
   "id": "23c31dca",
   "metadata": {
    "scrolled": true
   },
   "outputs": [
    {
     "data": {
      "text/html": [
       "<div>\n",
       "<style scoped>\n",
       "    .dataframe tbody tr th:only-of-type {\n",
       "        vertical-align: middle;\n",
       "    }\n",
       "\n",
       "    .dataframe tbody tr th {\n",
       "        vertical-align: top;\n",
       "    }\n",
       "\n",
       "    .dataframe thead th {\n",
       "        text-align: right;\n",
       "    }\n",
       "</style>\n",
       "<table border=\"1\" class=\"dataframe\">\n",
       "  <thead>\n",
       "    <tr style=\"text-align: right;\">\n",
       "      <th></th>\n",
       "      <th>user_name</th>\n",
       "      <th>user_head</th>\n",
       "      <th>user_work</th>\n",
       "      <th>url</th>\n",
       "      <th>post</th>\n",
       "      <th>likes</th>\n",
       "      <th>reposts</th>\n",
       "      <th>comments</th>\n",
       "    </tr>\n",
       "  </thead>\n",
       "  <tbody>\n",
       "    <tr>\n",
       "      <th>0</th>\n",
       "      <td>Michil Egorov</td>\n",
       "      <td>Middle Software Engineer - Yandex</td>\n",
       "      <td>Yandex</td>\n",
       "      <td>https://www.linkedin.com/in/michilegorov</td>\n",
       "      <td>Всем привет!Выпустил свою первую статью на хабр!https://lnkd.in/dt9N6D7BСтатья про историю и технологии разработки игры https://guess-word.com и как мы создали игру с элементами машинного обучения и вышли в ноль за 2 месяцаПри внимательном прочтении вы даже сможете запустить первую версию игры!</td>\n",
       "      <td>17.0</td>\n",
       "      <td>0</td>\n",
       "      <td>0</td>\n",
       "    </tr>\n",
       "    <tr>\n",
       "      <th>1</th>\n",
       "      <td>Michil Egorov</td>\n",
       "      <td>Middle Software Engineer - Yandex</td>\n",
       "      <td>Yandex</td>\n",
       "      <td>https://www.linkedin.com/in/michilegorov</td>\n",
       "      <td>Если вам интересно позалипать в слова, я запустил игру!https://guess-word.com/Особенно понравится братьям NLP-шникам)</td>\n",
       "      <td>6.0</td>\n",
       "      <td>0</td>\n",
       "      <td>2</td>\n",
       "    </tr>\n",
       "    <tr>\n",
       "      <th>2</th>\n",
       "      <td>Michil Egorov</td>\n",
       "      <td>Middle Software Engineer - Yandex</td>\n",
       "      <td>Yandex</td>\n",
       "      <td>https://www.linkedin.com/in/michilegorov</td>\n",
       "      <td>Если вам интересно позалипать в слова, я запустил игру!https://guess-word.com/Особенно понравится братьям NLP-шникам)</td>\n",
       "      <td>17.0</td>\n",
       "      <td>6</td>\n",
       "      <td>0</td>\n",
       "    </tr>\n",
       "    <tr>\n",
       "      <th>3</th>\n",
       "      <td>Michil Egorov</td>\n",
       "      <td>Middle Software Engineer - Yandex</td>\n",
       "      <td>Yandex</td>\n",
       "      <td>https://www.linkedin.com/in/michilegorov</td>\n",
       "      <td>Hi everyone - I am looking for a new role and would appreciate your support. Thank you in advance for any connections, advice, or opportunities you can offer. #OpenToWork</td>\n",
       "      <td>2.0</td>\n",
       "      <td>0</td>\n",
       "      <td>0</td>\n",
       "    </tr>\n",
       "    <tr>\n",
       "      <th>4</th>\n",
       "      <td>Diana Bogdanova</td>\n",
       "      <td>IT Recruiter</td>\n",
       "      <td>X5 Digital</td>\n",
       "      <td>https://www.linkedin.com/in/diana-bogdanova-026860206</td>\n",
       "      <td>I’m happy to share that I’m starting a new position as an IT Recruiter!</td>\n",
       "      <td>34.0</td>\n",
       "      <td>0</td>\n",
       "      <td>5</td>\n",
       "    </tr>\n",
       "  </tbody>\n",
       "</table>\n",
       "</div>"
      ],
      "text/plain": [
       "         user_name                          user_head   user_work  \\\n",
       "0    Michil Egorov  Middle Software Engineer - Yandex      Yandex   \n",
       "1    Michil Egorov  Middle Software Engineer - Yandex      Yandex   \n",
       "2    Michil Egorov  Middle Software Engineer - Yandex      Yandex   \n",
       "3    Michil Egorov  Middle Software Engineer - Yandex      Yandex   \n",
       "4  Diana Bogdanova                       IT Recruiter  X5 Digital   \n",
       "\n",
       "                                                     url  \\\n",
       "0               https://www.linkedin.com/in/michilegorov   \n",
       "1               https://www.linkedin.com/in/michilegorov   \n",
       "2               https://www.linkedin.com/in/michilegorov   \n",
       "3               https://www.linkedin.com/in/michilegorov   \n",
       "4  https://www.linkedin.com/in/diana-bogdanova-026860206   \n",
       "\n",
       "                                                                                                                                                                                                                                                                                                      post  \\\n",
       "0  Всем привет!Выпустил свою первую статью на хабр!https://lnkd.in/dt9N6D7BСтатья про историю и технологии разработки игры https://guess-word.com и как мы создали игру с элементами машинного обучения и вышли в ноль за 2 месяцаПри внимательном прочтении вы даже сможете запустить первую версию игры!   \n",
       "1                                                                                                                                                                                    Если вам интересно позалипать в слова, я запустил игру!https://guess-word.com/Особенно понравится братьям NLP-шникам)   \n",
       "2                                                                                                                                                                                    Если вам интересно позалипать в слова, я запустил игру!https://guess-word.com/Особенно понравится братьям NLP-шникам)   \n",
       "3                                                                                                                               Hi everyone - I am looking for a new role and would appreciate your support. Thank you in advance for any connections, advice, or opportunities you can offer. #OpenToWork   \n",
       "4                                                                                                                                                                                                                                  I’m happy to share that I’m starting a new position as an IT Recruiter!   \n",
       "\n",
       "   likes  reposts  comments  \n",
       "0   17.0        0         0  \n",
       "1    6.0        0         2  \n",
       "2   17.0        6         0  \n",
       "3    2.0        0         0  \n",
       "4   34.0        0         5  "
      ]
     },
     "metadata": {},
     "output_type": "display_data"
    },
    {
     "data": {
      "text/html": [
       "<div>\n",
       "<style scoped>\n",
       "    .dataframe tbody tr th:only-of-type {\n",
       "        vertical-align: middle;\n",
       "    }\n",
       "\n",
       "    .dataframe tbody tr th {\n",
       "        vertical-align: top;\n",
       "    }\n",
       "\n",
       "    .dataframe thead th {\n",
       "        text-align: right;\n",
       "    }\n",
       "</style>\n",
       "<table border=\"1\" class=\"dataframe\">\n",
       "  <thead>\n",
       "    <tr style=\"text-align: right;\">\n",
       "      <th></th>\n",
       "      <th>user_name</th>\n",
       "      <th>user_head</th>\n",
       "      <th>user_work</th>\n",
       "      <th>url</th>\n",
       "      <th>post</th>\n",
       "      <th>likes</th>\n",
       "      <th>reposts</th>\n",
       "      <th>comments</th>\n",
       "    </tr>\n",
       "  </thead>\n",
       "  <tbody>\n",
       "    <tr>\n",
       "      <th>450</th>\n",
       "      <td>Matvey Popov</td>\n",
       "      <td>Software Engineer at Yandex</td>\n",
       "      <td>Yandex</td>\n",
       "      <td>https://www.linkedin.com/in/ma-popovv</td>\n",
       "      <td>Quote of the day. #QOTD</td>\n",
       "      <td>6.0</td>\n",
       "      <td>554</td>\n",
       "      <td>87</td>\n",
       "    </tr>\n",
       "    <tr>\n",
       "      <th>451</th>\n",
       "      <td>Matvey Popov</td>\n",
       "      <td>Software Engineer at Yandex</td>\n",
       "      <td>Yandex</td>\n",
       "      <td>https://www.linkedin.com/in/ma-popovv</td>\n",
       "      <td>How To Develop REST CRUD API Using Spring Boot?https://lnkd.in/d9i_A_qc#spring #springframework #javaspring #javaspringboot #springmvc #springboot #springdata  #springcloud #springmvc #springsecurity #java #javaprogramming #javaprogramminglanguage #javadeveloper #javadevelopment #javadevelopers #javadeveloperjobs #javabackend #javabackenddeveloper #javafullstack #javafullstackdeveloper #javadeveloper #javaprogrammer #javatraining #javaee #j2ee #j2eedeveloper #java8 #microservices #microservicesarchitecture #microservice #microservicios #javamicroservices</td>\n",
       "      <td>635.0</td>\n",
       "      <td>33</td>\n",
       "      <td>0</td>\n",
       "    </tr>\n",
       "    <tr>\n",
       "      <th>452</th>\n",
       "      <td>Matvey Popov</td>\n",
       "      <td>Software Engineer at Yandex</td>\n",
       "      <td>Yandex</td>\n",
       "      <td>https://www.linkedin.com/in/ma-popovv</td>\n",
       "      <td>I received a message from a lady who retired from working for \"a very mean tyrant boss.\" These were her words in quotations. She realizes now, that the stress, anxiety, and yelling that she endured was not worth 21 years of her life. She mentioned that his reason for running his business was always that he always did things this way since the 1980s. She wishes she was brave enough to seek better for herself.This made me think:▪️A salary does not guarantee you peace of mind. Change can be good.The most dangerous phrase is: “We’ve always  done it this way.”▪️Finding ways to improve can help you avoid regrets later.▪️Your happiness and peace are priceless. Do you agree?- Rachel Mitchell ©✔️Follow me on LinkedIn daily for inspiration and original content.🔺 It is a pleasure to connect people from all industries .You can hire me for a private 1:1 consultation &amp; to connect you.🔺Click the Network-NetWorth link at the top of my profile and let me know what you need.Send a follow request  to my private instagram: @Lady_LongevityI can connect with you there too.#rachelmitchell  my hashtag: #LadyLongevity #NetworkNetWorthx100 connecting innovative people in tech,retail, and sustainability</td>\n",
       "      <td>1.0</td>\n",
       "      <td>214</td>\n",
       "      <td>380</td>\n",
       "    </tr>\n",
       "    <tr>\n",
       "      <th>453</th>\n",
       "      <td>Matvey Popov</td>\n",
       "      <td>Software Engineer at Yandex</td>\n",
       "      <td>Yandex</td>\n",
       "      <td>https://www.linkedin.com/in/ma-popovv</td>\n",
       "      <td>My Russian speaking friends keep getting discriminated due to the language they speak. To all of my friends globally, please remember few things:1. Russian speaking does not equal Russian. There were 15 countries in the USSR. All of those countries still have Russian speaking minorities. It doesn't mean they are Russian or identify themselves as Russian. Just like Irish does not equal English or Spanish does not equal Mexican.2. Russian does not equal aggressor. None of the Russians support the war. Some just don't understand what is happening due to the limited information that they are getting. There is no free media left in Russia.3. Ukrainians also speak Russian, some just Russian. Next time you tell a Russian speaker you wont serve them, think about which side you're taking. The person approaching you might have a relative sitting in the bomb shelter right now. 4. Russian name also does not equal Russian. My name is Russian. I was born in Latvia, my parents were born is Latvia. I have Latvian, Ukrainian, Polish, Turkish, Romanian and probably many more ethnicities in me. I grew up in Ireland. My Russian surname was inherited from my great grandfather who was a pacifist, he went through the war and wouldn't ever stand by what's happening right now. Many Ukrainians have Russian surnames too. 5. The anger you're translating on to innocent people is not going to solve the problem, it's going to create more problems and hatred. There are many ways to help, but hating on others is definitely not one of the ways.#StandWithUkraine 🇺🇦</td>\n",
       "      <td>0.0</td>\n",
       "      <td>0</td>\n",
       "      <td>0</td>\n",
       "    </tr>\n",
       "    <tr>\n",
       "      <th>454</th>\n",
       "      <td>Matvey Popov</td>\n",
       "      <td>Software Engineer at Yandex</td>\n",
       "      <td>Yandex</td>\n",
       "      <td>https://www.linkedin.com/in/ma-popovv</td>\n",
       "      <td>I’m happy to share that I’m starting a new position as Software Engineer at Tinkoff !</td>\n",
       "      <td>0.0</td>\n",
       "      <td>0</td>\n",
       "      <td>0</td>\n",
       "    </tr>\n",
       "  </tbody>\n",
       "</table>\n",
       "</div>"
      ],
      "text/plain": [
       "        user_name                    user_head user_work  \\\n",
       "450  Matvey Popov  Software Engineer at Yandex    Yandex   \n",
       "451  Matvey Popov  Software Engineer at Yandex    Yandex   \n",
       "452  Matvey Popov  Software Engineer at Yandex    Yandex   \n",
       "453  Matvey Popov  Software Engineer at Yandex    Yandex   \n",
       "454  Matvey Popov  Software Engineer at Yandex    Yandex   \n",
       "\n",
       "                                       url  \\\n",
       "450  https://www.linkedin.com/in/ma-popovv   \n",
       "451  https://www.linkedin.com/in/ma-popovv   \n",
       "452  https://www.linkedin.com/in/ma-popovv   \n",
       "453  https://www.linkedin.com/in/ma-popovv   \n",
       "454  https://www.linkedin.com/in/ma-popovv   \n",
       "\n",
       "                                                                                                                                                                                                                                                                                                                                                                                                                                                                                                                                                                                                                                                                                                                                                                                                                                                                                                                                                                                                                                                                                                                                                                                                                                                                                                                                                                                                                                                                                                                                                                                                                     post  \\\n",
       "450                                                                                                                                                                                                                                                                                                                                                                                                                                                                                                                                                                                                                                                                                                                                                                                                                                                                                                                                                                                                                                                                                                                                                                                                                                                                                                                                                                                                                                                                                                                                                                                               Quote of the day. #QOTD   \n",
       "451                                                                                                                                                                                                                                                                                                                                                                                                                                                                                                                                                                                                                                                                                                                                                                                                                                                                                                                                                                                                                                      How To Develop REST CRUD API Using Spring Boot?https://lnkd.in/d9i_A_qc#spring #springframework #javaspring #javaspringboot #springmvc #springboot #springdata  #springcloud #springmvc #springsecurity #java #javaprogramming #javaprogramminglanguage #javadeveloper #javadevelopment #javadevelopers #javadeveloperjobs #javabackend #javabackenddeveloper #javafullstack #javafullstackdeveloper #javadeveloper #javaprogrammer #javatraining #javaee #j2ee #j2eedeveloper #java8 #microservices #microservicesarchitecture #microservice #microservicios #javamicroservices   \n",
       "452                                                                                                                                                                                                                                                                                                                                                                           I received a message from a lady who retired from working for \"a very mean tyrant boss.\" These were her words in quotations. She realizes now, that the stress, anxiety, and yelling that she endured was not worth 21 years of her life. She mentioned that his reason for running his business was always that he always did things this way since the 1980s. She wishes she was brave enough to seek better for herself.This made me think:▪️A salary does not guarantee you peace of mind. Change can be good.The most dangerous phrase is: “We’ve always  done it this way.”▪️Finding ways to improve can help you avoid regrets later.▪️Your happiness and peace are priceless. Do you agree?- Rachel Mitchell ©✔️Follow me on LinkedIn daily for inspiration and original content.🔺 It is a pleasure to connect people from all industries .You can hire me for a private 1:1 consultation & to connect you.🔺Click the Network-NetWorth link at the top of my profile and let me know what you need.Send a follow request  to my private instagram: @Lady_LongevityI can connect with you there too.#rachelmitchell  my hashtag: #LadyLongevity #NetworkNetWorthx100 connecting innovative people in tech,retail, and sustainability   \n",
       "453  My Russian speaking friends keep getting discriminated due to the language they speak. To all of my friends globally, please remember few things:1. Russian speaking does not equal Russian. There were 15 countries in the USSR. All of those countries still have Russian speaking minorities. It doesn't mean they are Russian or identify themselves as Russian. Just like Irish does not equal English or Spanish does not equal Mexican.2. Russian does not equal aggressor. None of the Russians support the war. Some just don't understand what is happening due to the limited information that they are getting. There is no free media left in Russia.3. Ukrainians also speak Russian, some just Russian. Next time you tell a Russian speaker you wont serve them, think about which side you're taking. The person approaching you might have a relative sitting in the bomb shelter right now. 4. Russian name also does not equal Russian. My name is Russian. I was born in Latvia, my parents were born is Latvia. I have Latvian, Ukrainian, Polish, Turkish, Romanian and probably many more ethnicities in me. I grew up in Ireland. My Russian surname was inherited from my great grandfather who was a pacifist, he went through the war and wouldn't ever stand by what's happening right now. Many Ukrainians have Russian surnames too. 5. The anger you're translating on to innocent people is not going to solve the problem, it's going to create more problems and hatred. There are many ways to help, but hating on others is definitely not one of the ways.#StandWithUkraine 🇺🇦   \n",
       "454                                                                                                                                                                                                                                                                                                                                                                                                                                                                                                                                                                                                                                                                                                                                                                                                                                                                                                                                                                                                                                                                                                                                                                                                                                                                                                                                                                                                                                                                                                                                 I’m happy to share that I’m starting a new position as Software Engineer at Tinkoff !   \n",
       "\n",
       "     likes  reposts  comments  \n",
       "450    6.0      554        87  \n",
       "451  635.0       33         0  \n",
       "452    1.0      214       380  \n",
       "453    0.0        0         0  \n",
       "454    0.0        0         0  "
      ]
     },
     "metadata": {},
     "output_type": "display_data"
    }
   ],
   "source": [
    "display(dataset_from_team_3.head())\n",
    "\n",
    "display(dataset_from_team_3.tail())"
   ]
  },
  {
   "cell_type": "markdown",
   "id": "10fcbc14",
   "metadata": {},
   "source": [
    "## Датасет команды 4"
   ]
  },
  {
   "cell_type": "code",
   "execution_count": 14,
   "id": "148caae9",
   "metadata": {},
   "outputs": [],
   "source": [
    "dataset_from_team_4 = pd.read_csv(os.path.join(file_path, 'dataset_from_team_4.csv'), delimiter=';')"
   ]
  },
  {
   "cell_type": "code",
   "execution_count": 15,
   "id": "27e2e81c",
   "metadata": {},
   "outputs": [
    {
     "name": "stdout",
     "output_type": "stream",
     "text": [
      "<class 'pandas.core.frame.DataFrame'>\n",
      "RangeIndex: 1191 entries, 0 to 1190\n",
      "Data columns (total 6 columns):\n",
      " #   Column          Non-Null Count  Dtype  \n",
      "---  ------          --------------  -----  \n",
      " 0   url_user        1191 non-null   object \n",
      " 1   name            796 non-null    object \n",
      " 2   job             796 non-null    object \n",
      " 3   text_post       796 non-null    object \n",
      " 4   react_per_user  796 non-null    object \n",
      " 5   count_comments  796 non-null    float64\n",
      "dtypes: float64(1), object(5)\n",
      "memory usage: 56.0+ KB\n"
     ]
    }
   ],
   "source": [
    "dataset_from_team_4.info()"
   ]
  },
  {
   "cell_type": "code",
   "execution_count": 16,
   "id": "142bfda4",
   "metadata": {},
   "outputs": [
    {
     "data": {
      "text/plain": [
       "84"
      ]
     },
     "execution_count": 16,
     "metadata": {},
     "output_type": "execute_result"
    }
   ],
   "source": [
    "# Проверим на наличие дубликатов \n",
    "dataset_from_team_4.duplicated().sum()"
   ]
  },
  {
   "cell_type": "code",
   "execution_count": 17,
   "id": "1ff3ec9b",
   "metadata": {},
   "outputs": [],
   "source": [
    "# Устраняем их\n",
    "dataset_from_team_4.drop_duplicates(inplace=True)"
   ]
  },
  {
   "cell_type": "code",
   "execution_count": 18,
   "id": "b472e304",
   "metadata": {},
   "outputs": [
    {
     "data": {
      "text/plain": [
       "url_user            0\n",
       "name              317\n",
       "job               317\n",
       "text_post         317\n",
       "react_per_user    317\n",
       "count_comments    317\n",
       "dtype: int64"
      ]
     },
     "execution_count": 18,
     "metadata": {},
     "output_type": "execute_result"
    }
   ],
   "source": [
    "# Проверка на пропущенные значения\n",
    "dataset_from_team_4.isna().sum()"
   ]
  },
  {
   "cell_type": "code",
   "execution_count": 19,
   "id": "37943bee",
   "metadata": {},
   "outputs": [],
   "source": [
    "# Устраняем их\n",
    "dataset_from_team_4.dropna(inplace=True)"
   ]
  },
  {
   "cell_type": "code",
   "execution_count": 20,
   "id": "cee0517b",
   "metadata": {},
   "outputs": [],
   "source": [
    "dataset_from_team_4 = dataset_from_team_4.rename(columns={'url_user': 'url', 'name': 'user_name', 'job': 'user_head', 'text_post': 'post', 'react_per_user': 'likes', 'count_comments': 'comments'})"
   ]
  },
  {
   "cell_type": "code",
   "execution_count": 21,
   "id": "1ed7726b",
   "metadata": {},
   "outputs": [],
   "source": [
    "dataset_from_team_4['likes'] = dataset_from_team_4['likes'].str.replace(\"'\", ',')\n",
    "dataset_from_team_4['likes'] = dataset_from_team_4['likes'].str.replace(\" \", '')\n",
    "dataset_from_team_4['likes'] = dataset_from_team_4['likes'].str.replace('[\\[\\]]+', '', regex=True)"
   ]
  },
  {
   "cell_type": "code",
   "execution_count": 22,
   "id": "38957381",
   "metadata": {},
   "outputs": [],
   "source": [
    "def calculate_median(row):\n",
    "    # Удаление всех символов, кроме цифр, из строки\n",
    "    numbers = ''.join(filter(str.isdigit, row))\n",
    "    \n",
    "    # Проверка на пустой список\n",
    "    if not numbers:\n",
    "        return None\n",
    "    \n",
    "    # Преобразование строки с числами в список целочисленных значений\n",
    "    numbers_list = list(map(int, numbers))\n",
    "    \n",
    "    # Расчет максимального значения\n",
    "    max_value = np.max(numbers_list)\n",
    "    \n",
    "    return max_value"
   ]
  },
  {
   "cell_type": "code",
   "execution_count": 23,
   "id": "36b7fc60",
   "metadata": {},
   "outputs": [],
   "source": [
    "# Применение функции к замену колонки likes на кол-во лайков\n",
    "dataset_from_team_4['likes'] = dataset_from_team_4['likes'].apply(calculate_median)"
   ]
  },
  {
   "cell_type": "code",
   "execution_count": 24,
   "id": "ab971578",
   "metadata": {},
   "outputs": [
    {
     "data": {
      "text/html": [
       "<div>\n",
       "<style scoped>\n",
       "    .dataframe tbody tr th:only-of-type {\n",
       "        vertical-align: middle;\n",
       "    }\n",
       "\n",
       "    .dataframe tbody tr th {\n",
       "        vertical-align: top;\n",
       "    }\n",
       "\n",
       "    .dataframe thead th {\n",
       "        text-align: right;\n",
       "    }\n",
       "</style>\n",
       "<table border=\"1\" class=\"dataframe\">\n",
       "  <thead>\n",
       "    <tr style=\"text-align: right;\">\n",
       "      <th></th>\n",
       "      <th>url</th>\n",
       "      <th>user_name</th>\n",
       "      <th>user_head</th>\n",
       "      <th>post</th>\n",
       "      <th>likes</th>\n",
       "      <th>comments</th>\n",
       "    </tr>\n",
       "  </thead>\n",
       "  <tbody>\n",
       "    <tr>\n",
       "      <th>0</th>\n",
       "      <td>https://www.linkedin.com/in/artem-reshetnikov-925143251/</td>\n",
       "      <td>Artem Reshetnikov</td>\n",
       "      <td>Data Analyst</td>\n",
       "      <td>['I love SQL.']</td>\n",
       "      <td>5.0</td>\n",
       "      <td>0.0</td>\n",
       "    </tr>\n",
       "    <tr>\n",
       "      <th>1</th>\n",
       "      <td>https://www.linkedin.com/in/korenevich/</td>\n",
       "      <td>Pavel Karanevich</td>\n",
       "      <td>Growth Evangelist | Entrepreneur | US Marketer | Advisor</td>\n",
       "      <td>['Приложение которое из голоса раскидывает задачи. Идея огонь!</td>\n",
       "      <td>7.0</td>\n",
       "      <td>0.0</td>\n",
       "    </tr>\n",
       "    <tr>\n",
       "      <th>4</th>\n",
       "      <td>https://www.linkedin.com/in/korenevich/</td>\n",
       "      <td>Pavel Karanevich</td>\n",
       "      <td>Growth Evangelist | Entrepreneur | US Marketer | Advisor</td>\n",
       "      <td>'Кто хорошо потрудился на этой неделетот я. Чего и вам желаю 😊</td>\n",
       "      <td>7.0</td>\n",
       "      <td>0.0</td>\n",
       "    </tr>\n",
       "    <tr>\n",
       "      <th>5</th>\n",
       "      <td>https://www.linkedin.com/in/korenevich/</td>\n",
       "      <td>Pavel Karanevich</td>\n",
       "      <td>Growth Evangelist | Entrepreneur | US Marketer | Advisor</td>\n",
       "      <td>'Сегодня была защита дипломных работ на кафедре технологического предпринимательства МФТИ. Мне посчастливилось быть научным руководителем и ментором сразу для двух фаундеров.Почему фаундеров? Потому что это не только дипломный проект. Это уже работающий хардварный девайскоторый совсем скоро увидит свет и высшая оценка диплома тому подтверждение. Тематика удивительнаяи меня очень вдохновляет: про ольфакторный дизайн что-то слышали? Погуглите обязательноесли нет. Что могу сказать про свои впечатления от менторства на кафедре: 🔥 Очень крутые преподаватели с живым опытом работы в бизнесеэто огонь просто!  💪 Студенты сильные и разносторонне развиты! 🧐 Проработка проектов очень глубокая. 👍 Организационные моменты на высоте.Сейчас работаю еще со студентами с первого курса и вижукак в процессе они загораются своей же идеей и действуют! А это тот самый путь к запуску своего проекта.В общемработать было приятно и легко. Ребят искренне поздравляю с новым этапом 🚀P.S. Волновалсякак будто бы сам защищался 😀#мфти #mipt #техпред</td>\n",
       "      <td>7.0</td>\n",
       "      <td>0.0</td>\n",
       "    </tr>\n",
       "    <tr>\n",
       "      <th>6</th>\n",
       "      <td>https://www.linkedin.com/in/korenevich/</td>\n",
       "      <td>Pavel Karanevich</td>\n",
       "      <td>Growth Evangelist | Entrepreneur | US Marketer | Advisor</td>\n",
       "      <td>'🔥Вот и приложение под iOS🔥 Очень ждал тк в мобильном браузере было неудобно.#chatgpt #openai #ios</td>\n",
       "      <td>7.0</td>\n",
       "      <td>0.0</td>\n",
       "    </tr>\n",
       "  </tbody>\n",
       "</table>\n",
       "</div>"
      ],
      "text/plain": [
       "                                                        url  \\\n",
       "0  https://www.linkedin.com/in/artem-reshetnikov-925143251/   \n",
       "1                   https://www.linkedin.com/in/korenevich/   \n",
       "4                   https://www.linkedin.com/in/korenevich/   \n",
       "5                   https://www.linkedin.com/in/korenevich/   \n",
       "6                   https://www.linkedin.com/in/korenevich/   \n",
       "\n",
       "           user_name  \\\n",
       "0  Artem Reshetnikov   \n",
       "1   Pavel Karanevich   \n",
       "4   Pavel Karanevich   \n",
       "5   Pavel Karanevich   \n",
       "6   Pavel Karanevich   \n",
       "\n",
       "                                                  user_head  \\\n",
       "0                                              Data Analyst   \n",
       "1  Growth Evangelist | Entrepreneur | US Marketer | Advisor   \n",
       "4  Growth Evangelist | Entrepreneur | US Marketer | Advisor   \n",
       "5  Growth Evangelist | Entrepreneur | US Marketer | Advisor   \n",
       "6  Growth Evangelist | Entrepreneur | US Marketer | Advisor   \n",
       "\n",
       "                                                                                                                                                                                                                                                                                                                                                                                                                                                                                                                                                                                                                                                                                                                                                                                                                                                                                                                                                                                                                                                                     post  \\\n",
       "0                                                                                                                                                                                                                                                                                                                                                                                                                                                                                                                                                                                                                                                                                                                                                                                                                                                                                                                                                                                                                                                         ['I love SQL.']   \n",
       "1                                                                                                                                                                                                                                                                                                                                                                                                                                                                                                                                                                                                                                                                                                                                                                                                                                                                                                                                                                                                          ['Приложение которое из голоса раскидывает задачи. Идея огонь!   \n",
       "4                                                                                                                                                                                                                                                                                                                                                                                                                                                                                                                                                                                                                                                                                                                                                                                                                                                                                                                                                                                                          'Кто хорошо потрудился на этой неделетот я. Чего и вам желаю 😊   \n",
       "5   'Сегодня была защита дипломных работ на кафедре технологического предпринимательства МФТИ. Мне посчастливилось быть научным руководителем и ментором сразу для двух фаундеров.Почему фаундеров? Потому что это не только дипломный проект. Это уже работающий хардварный девайскоторый совсем скоро увидит свет и высшая оценка диплома тому подтверждение. Тематика удивительнаяи меня очень вдохновляет: про ольфакторный дизайн что-то слышали? Погуглите обязательноесли нет. Что могу сказать про свои впечатления от менторства на кафедре: 🔥 Очень крутые преподаватели с живым опытом работы в бизнесеэто огонь просто!  💪 Студенты сильные и разносторонне развиты! 🧐 Проработка проектов очень глубокая. 👍 Организационные моменты на высоте.Сейчас работаю еще со студентами с первого курса и вижукак в процессе они загораются своей же идеей и действуют! А это тот самый путь к запуску своего проекта.В общемработать было приятно и легко. Ребят искренне поздравляю с новым этапом 🚀P.S. Волновалсякак будто бы сам защищался 😀#мфти #mipt #техпред   \n",
       "6                                                                                                                                                                                                                                                                                                                                                                                                                                                                                                                                                                                                                                                                                                                                                                                                                                                                                                                                                                      '🔥Вот и приложение под iOS🔥 Очень ждал тк в мобильном браузере было неудобно.#chatgpt #openai #ios   \n",
       "\n",
       "   likes  comments  \n",
       "0    5.0       0.0  \n",
       "1    7.0       0.0  \n",
       "4    7.0       0.0  \n",
       "5    7.0       0.0  \n",
       "6    7.0       0.0  "
      ]
     },
     "metadata": {},
     "output_type": "display_data"
    },
    {
     "data": {
      "text/html": [
       "<div>\n",
       "<style scoped>\n",
       "    .dataframe tbody tr th:only-of-type {\n",
       "        vertical-align: middle;\n",
       "    }\n",
       "\n",
       "    .dataframe tbody tr th {\n",
       "        vertical-align: top;\n",
       "    }\n",
       "\n",
       "    .dataframe thead th {\n",
       "        text-align: right;\n",
       "    }\n",
       "</style>\n",
       "<table border=\"1\" class=\"dataframe\">\n",
       "  <thead>\n",
       "    <tr style=\"text-align: right;\">\n",
       "      <th></th>\n",
       "      <th>url</th>\n",
       "      <th>user_name</th>\n",
       "      <th>user_head</th>\n",
       "      <th>post</th>\n",
       "      <th>likes</th>\n",
       "      <th>comments</th>\n",
       "    </tr>\n",
       "  </thead>\n",
       "  <tbody>\n",
       "    <tr>\n",
       "      <th>1186</th>\n",
       "      <td>https://www.linkedin.com/in/%D0%BE%D0%BB%D0%B5%D1%81%D1%8F-%D1%86%D0%B0%D1%80%D0%B5%D0%B3%D0%BE%D1%80%D0%BE%D0%B4%D1%86%D0%B5%D0%B2%D0%B0-748179237?miniProfileUrn=urn%3Ali%3Afs_miniProfile%3AACoAADrvc-gBOkDoqybZ93sYw_gTHsGQU27rlGw</td>\n",
       "      <td>Олеся Царегородцева</td>\n",
       "      <td>IT-researcher-Tinkoff - Looking for IOS/Android/mobile QA</td>\n",
       "      <td>'Всем приветловите дайджест вакансий для QA на этой неделе! Каждый найдет для себя что-то интересное) ▪️Инженер по тестированию (Backend) в Тинькофф Инвестиции(https://lnkd.in/gc5iB82Q) Тинькофф Инвестиции создали собственного уникального и технологичного онлайн-брокерасделали сложный финансовый продукт удобным для всех. Теперь в планах увеличить количество таких брокеров.▪️Инженер по тестированию (Mobile) в Тинькофф Мобильный Банк\\xa0(https://lnkd.in/gKEfBV-c)Мобильный Банк — это основное мобильное приложение наших клиентов для взаимодействия с экосистемой Тинькофф. Это не только банковские операцииа мобильный операторлайфстайл-помощник и многое другое.▪️Инженер по тестированию в Tinkoff Black\\xa0(https://lnkd.in/gkfvE-_b)Tinkoff Black — главный продукт в экосистеме Тинькоффкоторый является визитной карточкой. Благодаря ему происходит первое знакомство с нашей компанией и всеми продуктами.▪️Инженер по тестированию в Банковские продукты(https://lnkd.in/gNg4hv_c)Команда банковских продуктов разрабатывает продуктовую линейку для юридических лиц с нуля: РКОспецсчетадепозиты и копилкикредиты и коллекшен.Больше вакансий по этому направлению и другим смотрите на нашем карьерном сайте (https://lnkd.in/gFcmqEpQ).#дайджест_вакансий #QA_инженеры #qa #vacancy #Belarus_job</td>\n",
       "      <td>9.0</td>\n",
       "      <td>0.0</td>\n",
       "    </tr>\n",
       "    <tr>\n",
       "      <th>1187</th>\n",
       "      <td>https://www.linkedin.com/in/%D0%BE%D0%BB%D0%B5%D1%81%D1%8F-%D1%86%D0%B0%D1%80%D0%B5%D0%B3%D0%BE%D1%80%D0%BE%D0%B4%D1%86%D0%B5%D0%B2%D0%B0-748179237?miniProfileUrn=urn%3Ali%3Afs_miniProfile%3AACoAADrvc-gBOkDoqybZ93sYw_gTHsGQU27rlGw</td>\n",
       "      <td>Олеся Царегородцева</td>\n",
       "      <td>IT-researcher-Tinkoff - Looking for IOS/Android/mobile QA</td>\n",
       "      <td>'Открывается набор на осенние оплачиваемые стажировки Тинькофф Старт ⭐️Приглашаем студентов и начинающих специалистовготовых посвятить стажировке от 20 часов в неделюработать можно удаленно или из офиса Тинькофф. Отбор будет в два этапа: экзамен и собеседование с куратором выбранного направления. Стажировка оплачиваетсялучших пригласят на интервью в штат. Какие направления открыты: #аналитика#qaбэкенд-разработка (#Java#Scala#.Net#Golang)мобильная разработка (#iOS#Android)#SREфронтендмаркетинг и инвестиции. Ближе к старту программы список направлений может расшириться.Отборочные экзамены пройдут с 1 по 16 августаа выбрать направление и отправить заявку можно прямо сейчас: https://lnkd.in/e89AHqwC</td>\n",
       "      <td>9.0</td>\n",
       "      <td>0.0</td>\n",
       "    </tr>\n",
       "    <tr>\n",
       "      <th>1188</th>\n",
       "      <td>https://www.linkedin.com/in/%D0%BE%D0%BB%D0%B5%D1%81%D1%8F-%D1%86%D0%B0%D1%80%D0%B5%D0%B3%D0%BE%D1%80%D0%BE%D0%B4%D1%86%D0%B5%D0%B2%D0%B0-748179237?miniProfileUrn=urn%3Ali%3Afs_miniProfile%3AACoAADrvc-gBOkDoqybZ93sYw_gTHsGQU27rlGw</td>\n",
       "      <td>Олеся Царегородцева</td>\n",
       "      <td>IT-researcher-Tinkoff - Looking for IOS/Android/mobile QA</td>\n",
       "      <td>'Открывается набор на осенние оплачиваемые стажировки Тинькофф Старт ⭐️Приглашают студентов и начинающих специалистовготовых посвятить стажировке от 20 часов в неделюработать можно удаленно или из офиса Тинькофф. Отбор будет в два этапа: экзамен и собеседование с куратором выбранного направления. Стажировка оплачиваетсялучших пригласят на интервью в штат. Какие направления открыты: аналитикаQAбэкенд-разработка (JavaScala.NetGolang)мобильная разработка (iOSAndroid)SREфронтендмаркетинг и инвестиции. Ближе к старту программы список направлений может расшириться.Отборочные экзамены пройдут с 1 по 16 августаа выбрать направление и отправить заявку можно прямо сейчас: https://lnkd.in/etpNTYDN</td>\n",
       "      <td>9.0</td>\n",
       "      <td>0.0</td>\n",
       "    </tr>\n",
       "    <tr>\n",
       "      <th>1189</th>\n",
       "      <td>https://www.linkedin.com/in/%D0%BE%D0%BB%D0%B5%D1%81%D1%8F-%D1%86%D0%B0%D1%80%D0%B5%D0%B3%D0%BE%D1%80%D0%BE%D0%B4%D1%86%D0%B5%D0%B2%D0%B0-748179237?miniProfileUrn=urn%3Ali%3Afs_miniProfile%3AACoAADrvc-gBOkDoqybZ93sYw_gTHsGQU27rlGw</td>\n",
       "      <td>Олеся Царегородцева</td>\n",
       "      <td>IT-researcher-Tinkoff - Looking for IOS/Android/mobile QA</td>\n",
       "      <td>'Мы открываем прием заявок на осенний набор Тинькофф Старта 🌟Формат прежний: оплачиваемая стажировка с занятостью от 20 часов в неделю. Работать можно удаленно или в офисе. В зависимости от команды стажировка продлится от 3 до 6 месяцеви если все пройдет хорошо — пригласим вас на интервью в штат.Какие направления открыты: аналитикаQAбэкенд-разработка (JavaScala.NetGolang)мобильная разработка (iOSAndroid)SREфронтендмаркетинг и инвестиции. Ближе к старту программы список направлений может расшириться.Отборочные экзамены пройдут с 1 по 16 августаа выбрать направление и отправить заявку можно прямо сейчас: https://lnkd.in/e4eyiVdm</td>\n",
       "      <td>9.0</td>\n",
       "      <td>0.0</td>\n",
       "    </tr>\n",
       "    <tr>\n",
       "      <th>1190</th>\n",
       "      <td>https://www.linkedin.com/in/%D0%BE%D0%BB%D0%B5%D1%81%D1%8F-%D1%86%D0%B0%D1%80%D0%B5%D0%B3%D0%BE%D1%80%D0%BE%D0%B4%D1%86%D0%B5%D0%B2%D0%B0-748179237?miniProfileUrn=urn%3Ali%3Afs_miniProfile%3AACoAADrvc-gBOkDoqybZ93sYw_gTHsGQU27rlGw</td>\n",
       "      <td>Олеся Царегородцева</td>\n",
       "      <td>IT-researcher-Tinkoff - Looking for IOS/Android/mobile QA</td>\n",
       "      <td>'Давайте развиваться? Многие сейчас из нас сейчас ищут возможность получить больше знанийпрофессионального опытано часто бывает такчто стандартные источники уже неактуальны.Поэтомутекто работает в сфере QA или планирует в ней развиваться— IT’s Tinkoff приглашает вас на воркшоп ✨Его проведет Максим Рогожниковкоторый вместе с командой поддерживает производительность информационных систем Tinkoff. Максим научит писать тесты производительности на K6а также расскажет о его фичахкоторые помогут в нагрузочном тестировании. Воркшоп пройдет 5 июля онлайнначало в 18:00. Регистрируйтесь по ссылке:']</td>\n",
       "      <td>9.0</td>\n",
       "      <td>0.0</td>\n",
       "    </tr>\n",
       "  </tbody>\n",
       "</table>\n",
       "</div>"
      ],
      "text/plain": [
       "                                                                                                                                                                                                                                         url  \\\n",
       "1186  https://www.linkedin.com/in/%D0%BE%D0%BB%D0%B5%D1%81%D1%8F-%D1%86%D0%B0%D1%80%D0%B5%D0%B3%D0%BE%D1%80%D0%BE%D0%B4%D1%86%D0%B5%D0%B2%D0%B0-748179237?miniProfileUrn=urn%3Ali%3Afs_miniProfile%3AACoAADrvc-gBOkDoqybZ93sYw_gTHsGQU27rlGw   \n",
       "1187  https://www.linkedin.com/in/%D0%BE%D0%BB%D0%B5%D1%81%D1%8F-%D1%86%D0%B0%D1%80%D0%B5%D0%B3%D0%BE%D1%80%D0%BE%D0%B4%D1%86%D0%B5%D0%B2%D0%B0-748179237?miniProfileUrn=urn%3Ali%3Afs_miniProfile%3AACoAADrvc-gBOkDoqybZ93sYw_gTHsGQU27rlGw   \n",
       "1188  https://www.linkedin.com/in/%D0%BE%D0%BB%D0%B5%D1%81%D1%8F-%D1%86%D0%B0%D1%80%D0%B5%D0%B3%D0%BE%D1%80%D0%BE%D0%B4%D1%86%D0%B5%D0%B2%D0%B0-748179237?miniProfileUrn=urn%3Ali%3Afs_miniProfile%3AACoAADrvc-gBOkDoqybZ93sYw_gTHsGQU27rlGw   \n",
       "1189  https://www.linkedin.com/in/%D0%BE%D0%BB%D0%B5%D1%81%D1%8F-%D1%86%D0%B0%D1%80%D0%B5%D0%B3%D0%BE%D1%80%D0%BE%D0%B4%D1%86%D0%B5%D0%B2%D0%B0-748179237?miniProfileUrn=urn%3Ali%3Afs_miniProfile%3AACoAADrvc-gBOkDoqybZ93sYw_gTHsGQU27rlGw   \n",
       "1190  https://www.linkedin.com/in/%D0%BE%D0%BB%D0%B5%D1%81%D1%8F-%D1%86%D0%B0%D1%80%D0%B5%D0%B3%D0%BE%D1%80%D0%BE%D0%B4%D1%86%D0%B5%D0%B2%D0%B0-748179237?miniProfileUrn=urn%3Ali%3Afs_miniProfile%3AACoAADrvc-gBOkDoqybZ93sYw_gTHsGQU27rlGw   \n",
       "\n",
       "                user_name  \\\n",
       "1186  Олеся Царегородцева   \n",
       "1187  Олеся Царегородцева   \n",
       "1188  Олеся Царегородцева   \n",
       "1189  Олеся Царегородцева   \n",
       "1190  Олеся Царегородцева   \n",
       "\n",
       "                                                      user_head  \\\n",
       "1186  IT-researcher-Tinkoff - Looking for IOS/Android/mobile QA   \n",
       "1187  IT-researcher-Tinkoff - Looking for IOS/Android/mobile QA   \n",
       "1188  IT-researcher-Tinkoff - Looking for IOS/Android/mobile QA   \n",
       "1189  IT-researcher-Tinkoff - Looking for IOS/Android/mobile QA   \n",
       "1190  IT-researcher-Tinkoff - Looking for IOS/Android/mobile QA   \n",
       "\n",
       "                                                                                                                                                                                                                                                                                                                                                                                                                                                                                                                                                                                                                                                                                                                                                                                                                                                                                                                                                                                                                                                                                                                                                                                                                                                                                                                                    post  \\\n",
       "1186   'Всем приветловите дайджест вакансий для QA на этой неделе! Каждый найдет для себя что-то интересное) ▪️Инженер по тестированию (Backend) в Тинькофф Инвестиции(https://lnkd.in/gc5iB82Q) Тинькофф Инвестиции создали собственного уникального и технологичного онлайн-брокерасделали сложный финансовый продукт удобным для всех. Теперь в планах увеличить количество таких брокеров.▪️Инженер по тестированию (Mobile) в Тинькофф Мобильный Банк\\xa0(https://lnkd.in/gKEfBV-c)Мобильный Банк — это основное мобильное приложение наших клиентов для взаимодействия с экосистемой Тинькофф. Это не только банковские операцииа мобильный операторлайфстайл-помощник и многое другое.▪️Инженер по тестированию в Tinkoff Black\\xa0(https://lnkd.in/gkfvE-_b)Tinkoff Black — главный продукт в экосистеме Тинькоффкоторый является визитной карточкой. Благодаря ему происходит первое знакомство с нашей компанией и всеми продуктами.▪️Инженер по тестированию в Банковские продукты(https://lnkd.in/gNg4hv_c)Команда банковских продуктов разрабатывает продуктовую линейку для юридических лиц с нуля: РКОспецсчетадепозиты и копилкикредиты и коллекшен.Больше вакансий по этому направлению и другим смотрите на нашем карьерном сайте (https://lnkd.in/gFcmqEpQ).#дайджест_вакансий #QA_инженеры #qa #vacancy #Belarus_job   \n",
       "1187                                                                                                                                                                                                                                                                                                                                                                                                                                                                                                                                                                                                    'Открывается набор на осенние оплачиваемые стажировки Тинькофф Старт ⭐️Приглашаем студентов и начинающих специалистовготовых посвятить стажировке от 20 часов в неделюработать можно удаленно или из офиса Тинькофф. Отбор будет в два этапа: экзамен и собеседование с куратором выбранного направления. Стажировка оплачиваетсялучших пригласят на интервью в штат. Какие направления открыты: #аналитика#qaбэкенд-разработка (#Java#Scala#.Net#Golang)мобильная разработка (#iOS#Android)#SREфронтендмаркетинг и инвестиции. Ближе к старту программы список направлений может расшириться.Отборочные экзамены пройдут с 1 по 16 августаа выбрать направление и отправить заявку можно прямо сейчас: https://lnkd.in/e89AHqwC   \n",
       "1188                                                                                                                                                                                                                                                                                                                                                                                                                                                                                                                                                                                                             'Открывается набор на осенние оплачиваемые стажировки Тинькофф Старт ⭐️Приглашают студентов и начинающих специалистовготовых посвятить стажировке от 20 часов в неделюработать можно удаленно или из офиса Тинькофф. Отбор будет в два этапа: экзамен и собеседование с куратором выбранного направления. Стажировка оплачиваетсялучших пригласят на интервью в штат. Какие направления открыты: аналитикаQAбэкенд-разработка (JavaScala.NetGolang)мобильная разработка (iOSAndroid)SREфронтендмаркетинг и инвестиции. Ближе к старту программы список направлений может расшириться.Отборочные экзамены пройдут с 1 по 16 августаа выбрать направление и отправить заявку можно прямо сейчас: https://lnkd.in/etpNTYDN   \n",
       "1189                                                                                                                                                                                                                                                                                                                                                                                                                                                                                                                                                                                                                                                                          'Мы открываем прием заявок на осенний набор Тинькофф Старта 🌟Формат прежний: оплачиваемая стажировка с занятостью от 20 часов в неделю. Работать можно удаленно или в офисе. В зависимости от команды стажировка продлится от 3 до 6 месяцеви если все пройдет хорошо — пригласим вас на интервью в штат.Какие направления открыты: аналитикаQAбэкенд-разработка (JavaScala.NetGolang)мобильная разработка (iOSAndroid)SREфронтендмаркетинг и инвестиции. Ближе к старту программы список направлений может расшириться.Отборочные экзамены пройдут с 1 по 16 августаа выбрать направление и отправить заявку можно прямо сейчас: https://lnkd.in/e4eyiVdm   \n",
       "1190                                                                                                                                                                                                                                                                                                                                                                                                                                                                                                                                                                                                                                                                                                                 'Давайте развиваться? Многие сейчас из нас сейчас ищут возможность получить больше знанийпрофессионального опытано часто бывает такчто стандартные источники уже неактуальны.Поэтомутекто работает в сфере QA или планирует в ней развиваться— IT’s Tinkoff приглашает вас на воркшоп ✨Его проведет Максим Рогожниковкоторый вместе с командой поддерживает производительность информационных систем Tinkoff. Максим научит писать тесты производительности на K6а также расскажет о его фичахкоторые помогут в нагрузочном тестировании. Воркшоп пройдет 5 июля онлайнначало в 18:00. Регистрируйтесь по ссылке:']   \n",
       "\n",
       "      likes  comments  \n",
       "1186    9.0       0.0  \n",
       "1187    9.0       0.0  \n",
       "1188    9.0       0.0  \n",
       "1189    9.0       0.0  \n",
       "1190    9.0       0.0  "
      ]
     },
     "metadata": {},
     "output_type": "display_data"
    }
   ],
   "source": [
    "display(dataset_from_team_4.head())\n",
    "\n",
    "display(dataset_from_team_4.tail())"
   ]
  },
  {
   "cell_type": "markdown",
   "id": "15e8185d",
   "metadata": {},
   "source": [
    "## Датасет команды 8"
   ]
  },
  {
   "cell_type": "markdown",
   "id": "8306962a",
   "metadata": {},
   "source": [
    "### Часть 1"
   ]
  },
  {
   "cell_type": "code",
   "execution_count": 25,
   "id": "651dbff5",
   "metadata": {},
   "outputs": [],
   "source": [
    "dataset_from_team_8_1 = pd.read_csv(os.path.join(file_path, 'dataset_from_team_8_1.csv'), delimiter=';', index_col=0)"
   ]
  },
  {
   "cell_type": "code",
   "execution_count": 26,
   "id": "7416ca1b",
   "metadata": {},
   "outputs": [
    {
     "name": "stdout",
     "output_type": "stream",
     "text": [
      "<class 'pandas.core.frame.DataFrame'>\n",
      "Index: 112 entries, 0 to 103\n",
      "Data columns (total 9 columns):\n",
      " #   Column         Non-Null Count  Dtype  \n",
      "---  ------         --------------  -----  \n",
      " 0   profile_url    98 non-null     object \n",
      " 1   name           98 non-null     object \n",
      " 2   works_at       98 non-null     object \n",
      " 3   exp_list       98 non-null     object \n",
      " 4   post           98 non-null     object \n",
      " 5   reactions_cnt  98 non-null     float64\n",
      " 6   comments_cnt   98 non-null     float64\n",
      " 7   post_url       98 non-null     object \n",
      " 8   posts_cnt      98 non-null     float64\n",
      "dtypes: float64(3), object(6)\n",
      "memory usage: 8.8+ KB\n"
     ]
    }
   ],
   "source": [
    "dataset_from_team_8_1.info()"
   ]
  },
  {
   "cell_type": "code",
   "execution_count": 27,
   "id": "b83f22a7",
   "metadata": {},
   "outputs": [
    {
     "data": {
      "text/plain": [
       "13"
      ]
     },
     "execution_count": 27,
     "metadata": {},
     "output_type": "execute_result"
    }
   ],
   "source": [
    "# Проверим на наличие дубликатов \n",
    "dataset_from_team_8_1.duplicated().sum()"
   ]
  },
  {
   "cell_type": "code",
   "execution_count": 28,
   "id": "d8935521",
   "metadata": {},
   "outputs": [],
   "source": [
    "# Устраняем их\n",
    "dataset_from_team_8_1.drop_duplicates(inplace=True)"
   ]
  },
  {
   "cell_type": "code",
   "execution_count": 29,
   "id": "880166e2",
   "metadata": {},
   "outputs": [
    {
     "data": {
      "text/plain": [
       "profile_url      1\n",
       "name             1\n",
       "works_at         1\n",
       "exp_list         1\n",
       "post             1\n",
       "reactions_cnt    1\n",
       "comments_cnt     1\n",
       "post_url         1\n",
       "posts_cnt        1\n",
       "dtype: int64"
      ]
     },
     "execution_count": 29,
     "metadata": {},
     "output_type": "execute_result"
    }
   ],
   "source": [
    "# Проверка на пропущенные значения\n",
    "dataset_from_team_8_1.isna().sum()"
   ]
  },
  {
   "cell_type": "code",
   "execution_count": 30,
   "id": "df63c8a4",
   "metadata": {},
   "outputs": [],
   "source": [
    "# Устраняем их\n",
    "dataset_from_team_8_1.dropna(inplace=True)"
   ]
  },
  {
   "cell_type": "code",
   "execution_count": 31,
   "id": "b82c7129",
   "metadata": {},
   "outputs": [],
   "source": [
    "dataset_from_team_8_1 = dataset_from_team_8_1.rename(columns={'profile_url': 'url', 'name': 'user_name', 'job':'user_head', 'works_at': 'user_head', 'exp_list': 'user_position', 'reactions_cnt': 'likes', 'comments_cnt': 'comments', 'posts_cnt': 'reposts'})"
   ]
  },
  {
   "cell_type": "code",
   "execution_count": 32,
   "id": "6081c3f5",
   "metadata": {},
   "outputs": [
    {
     "data": {
      "text/html": [
       "<div>\n",
       "<style scoped>\n",
       "    .dataframe tbody tr th:only-of-type {\n",
       "        vertical-align: middle;\n",
       "    }\n",
       "\n",
       "    .dataframe tbody tr th {\n",
       "        vertical-align: top;\n",
       "    }\n",
       "\n",
       "    .dataframe thead th {\n",
       "        text-align: right;\n",
       "    }\n",
       "</style>\n",
       "<table border=\"1\" class=\"dataframe\">\n",
       "  <thead>\n",
       "    <tr style=\"text-align: right;\">\n",
       "      <th></th>\n",
       "      <th>url</th>\n",
       "      <th>user_name</th>\n",
       "      <th>user_head</th>\n",
       "      <th>user_position</th>\n",
       "      <th>post</th>\n",
       "      <th>likes</th>\n",
       "      <th>comments</th>\n",
       "      <th>post_url</th>\n",
       "      <th>reposts</th>\n",
       "    </tr>\n",
       "  </thead>\n",
       "  <tbody>\n",
       "    <tr>\n",
       "      <th>0</th>\n",
       "      <td>https://www.linkedin.com/in/ruslandubrovin/</td>\n",
       "      <td>Руслан Дубровин</td>\n",
       "      <td>Software Developer – Yandex</td>\n",
       "      <td>['Software Developer'Yandex'март 2019 г. – настоящее время · 4\\xa0г. 4\\xa0мес.'Lead Software Developer'TheQuestion'июль 2018 г. - авг. 2021 г. · 3\\xa0г. 2\\xa0мес.'Software Developer'Технократия (worked as outstaff for redmadrobot)'сент. 2017 г. - июнь 2018 г. · 10 мес.'Golang developer'infotech.group'нояб. 2016 г. - сент. 2017 г. · 11 мес.'Python developer'Cinarra Systems'апр. 2016 г. - нояб. 2016 г. · 8 мес.']</td>\n",
       "      <td>нет постов</td>\n",
       "      <td>0.0</td>\n",
       "      <td>0.0</td>\n",
       "      <td>нет постов</td>\n",
       "      <td>0.0</td>\n",
       "    </tr>\n",
       "    <tr>\n",
       "      <th>1</th>\n",
       "      <td>https://www.linkedin.com/in/grigory-kostin-aaa16061/</td>\n",
       "      <td>Grigory Kostin</td>\n",
       "      <td>Developer at Yandex</td>\n",
       "      <td>['Developer'Yandex'янв. 2015 г. – настоящее время · 8\\xa0лет 6\\xa0мес.'HeadHunter Group'2\\xa0г.\\xa05\\xa0мес.'Senior Developer'апр. 2014 г. - дек. 2014 г. · 9 мес.'Developer'авг. 2012 г. - апр. 2014 г. · 1\\xa0г. 9\\xa0мес.']</td>\n",
       "      <td>нет постов</td>\n",
       "      <td>0.0</td>\n",
       "      <td>0.0</td>\n",
       "      <td>нет постов</td>\n",
       "      <td>0.0</td>\n",
       "    </tr>\n",
       "    <tr>\n",
       "      <th>2</th>\n",
       "      <td>https://www.linkedin.com/in/bard-10x/</td>\n",
       "      <td>Денис Ковалев</td>\n",
       "      <td>iOS App Developer – Tinkoff</td>\n",
       "      <td>['iOS Developer'Tinkoff  · Полный рабочий день'май 2023 г. – настоящее время · 2 мес.'iOS App Developer'Saritasa · Полный рабочий день'сент. 2019 г. - апр. 2023 г. · 3\\xa0г. 8\\xa0мес.'iOS App Developer'Очень Интересно · Стажировка'февр. 2019 г. - март 2019 г. · 2 мес.'Android App Developer'Очень Интересно · Стажировка'авг. 2018 г. · 1 мес.'Android App Developer'Aspirity · Стажировка'июнь 2018 г. · 1 мес.']</td>\n",
       "      <td>нет постов</td>\n",
       "      <td>0.0</td>\n",
       "      <td>0.0</td>\n",
       "      <td>нет постов</td>\n",
       "      <td>0.0</td>\n",
       "    </tr>\n",
       "    <tr>\n",
       "      <th>3</th>\n",
       "      <td>https://www.linkedin.com/in/kirill-khrustitskii-b2712943/</td>\n",
       "      <td>Kirill Khrustitskii</td>\n",
       "      <td>Developer</td>\n",
       "      <td>['Разработчик'МТС · Полный рабочий день'янв. 2023 г. – настоящее время · 6 мес.'Гибридный формат работы'Unity Developer'Infusion Games · Полный рабочий день'июль 2021 г. - дек. 2022 г. · 1\\xa0г. 6\\xa0мес.'Разработчик игр Unity'янв. 2017 г. - июль 2021 г. · 4\\xa0г. 7\\xa0мес.'Руководитель инновационно-технологического центра'Саратовский Государственный Университет им. Н.Г. Чернышевского · Полный рабочий день'апр. 2013 г. - дек. 2020 г. · 7\\xa0лет 9\\xa0мес.'Разработка наноматериалов.'Программист С#'GALAKTIKA'сент. 2019 г. - апр. 2020 г. · 8 мес.']</td>\n",
       "      <td>Здравствуйтея в поиске новой карьерной возможности и буду признателен(а) за вашу поддержку. Заранее благодарю за все рекомендации контактовсоветы или возможностикоторые вы можете предложить. #OpenToWork</td>\n",
       "      <td>1.0</td>\n",
       "      <td>0.0</td>\n",
       "      <td>https://www.linkedin.com/feed/update/urn:li:activity:6712411515196194816</td>\n",
       "      <td>11.0</td>\n",
       "    </tr>\n",
       "    <tr>\n",
       "      <th>3</th>\n",
       "      <td>https://www.linkedin.com/in/kirill-khrustitskii-b2712943/</td>\n",
       "      <td>Kirill Khrustitskii</td>\n",
       "      <td>Developer</td>\n",
       "      <td>['Разработчик'МТС · Полный рабочий день'янв. 2023 г. – настоящее время · 6 мес.'Гибридный формат работы'Unity Developer'Infusion Games · Полный рабочий день'июль 2021 г. - дек. 2022 г. · 1\\xa0г. 6\\xa0мес.'Разработчик игр Unity'янв. 2017 г. - июль 2021 г. · 4\\xa0г. 7\\xa0мес.'Руководитель инновационно-технологического центра'Саратовский Государственный Университет им. Н.Г. Чернышевского · Полный рабочий день'апр. 2013 г. - дек. 2020 г. · 7\\xa0лет 9\\xa0мес.'Разработка наноматериалов.'Программист С#'GALAKTIKA'сент. 2019 г. - апр. 2020 г. · 8 мес.']</td>\n",
       "      <td>Unity Game Development Mini-Degree</td>\n",
       "      <td>0.0</td>\n",
       "      <td>0.0</td>\n",
       "      <td>https://www.linkedin.com/feed/update/urn:li:activity:6515468433906372608</td>\n",
       "      <td>11.0</td>\n",
       "    </tr>\n",
       "  </tbody>\n",
       "</table>\n",
       "</div>"
      ],
      "text/plain": [
       "                                                         url  \\\n",
       "0                https://www.linkedin.com/in/ruslandubrovin/   \n",
       "1       https://www.linkedin.com/in/grigory-kostin-aaa16061/   \n",
       "2                      https://www.linkedin.com/in/bard-10x/   \n",
       "3  https://www.linkedin.com/in/kirill-khrustitskii-b2712943/   \n",
       "3  https://www.linkedin.com/in/kirill-khrustitskii-b2712943/   \n",
       "\n",
       "             user_name                    user_head  \\\n",
       "0      Руслан Дубровин  Software Developer – Yandex   \n",
       "1       Grigory Kostin          Developer at Yandex   \n",
       "2        Денис Ковалев  iOS App Developer – Tinkoff   \n",
       "3  Kirill Khrustitskii                    Developer   \n",
       "3  Kirill Khrustitskii                    Developer   \n",
       "\n",
       "                                                                                                                                                                                                                                                                                                                                                                                                                                                                                                                                                            user_position  \\\n",
       "0                                                                                                                                          ['Software Developer'Yandex'март 2019 г. – настоящее время · 4\\xa0г. 4\\xa0мес.'Lead Software Developer'TheQuestion'июль 2018 г. - авг. 2021 г. · 3\\xa0г. 2\\xa0мес.'Software Developer'Технократия (worked as outstaff for redmadrobot)'сент. 2017 г. - июнь 2018 г. · 10 мес.'Golang developer'infotech.group'нояб. 2016 г. - сент. 2017 г. · 11 мес.'Python developer'Cinarra Systems'апр. 2016 г. - нояб. 2016 г. · 8 мес.']   \n",
       "1                                                                                                                                                                                                                                                                                                                                          ['Developer'Yandex'янв. 2015 г. – настоящее время · 8\\xa0лет 6\\xa0мес.'HeadHunter Group'2\\xa0г.\\xa05\\xa0мес.'Senior Developer'апр. 2014 г. - дек. 2014 г. · 9 мес.'Developer'авг. 2012 г. - апр. 2014 г. · 1\\xa0г. 9\\xa0мес.']   \n",
       "2                                                                                                                                               ['iOS Developer'Tinkoff  · Полный рабочий день'май 2023 г. – настоящее время · 2 мес.'iOS App Developer'Saritasa · Полный рабочий день'сент. 2019 г. - апр. 2023 г. · 3\\xa0г. 8\\xa0мес.'iOS App Developer'Очень Интересно · Стажировка'февр. 2019 г. - март 2019 г. · 2 мес.'Android App Developer'Очень Интересно · Стажировка'авг. 2018 г. · 1 мес.'Android App Developer'Aspirity · Стажировка'июнь 2018 г. · 1 мес.']   \n",
       "3  ['Разработчик'МТС · Полный рабочий день'янв. 2023 г. – настоящее время · 6 мес.'Гибридный формат работы'Unity Developer'Infusion Games · Полный рабочий день'июль 2021 г. - дек. 2022 г. · 1\\xa0г. 6\\xa0мес.'Разработчик игр Unity'янв. 2017 г. - июль 2021 г. · 4\\xa0г. 7\\xa0мес.'Руководитель инновационно-технологического центра'Саратовский Государственный Университет им. Н.Г. Чернышевского · Полный рабочий день'апр. 2013 г. - дек. 2020 г. · 7\\xa0лет 9\\xa0мес.'Разработка наноматериалов.'Программист С#'GALAKTIKA'сент. 2019 г. - апр. 2020 г. · 8 мес.']   \n",
       "3  ['Разработчик'МТС · Полный рабочий день'янв. 2023 г. – настоящее время · 6 мес.'Гибридный формат работы'Unity Developer'Infusion Games · Полный рабочий день'июль 2021 г. - дек. 2022 г. · 1\\xa0г. 6\\xa0мес.'Разработчик игр Unity'янв. 2017 г. - июль 2021 г. · 4\\xa0г. 7\\xa0мес.'Руководитель инновационно-технологического центра'Саратовский Государственный Университет им. Н.Г. Чернышевского · Полный рабочий день'апр. 2013 г. - дек. 2020 г. · 7\\xa0лет 9\\xa0мес.'Разработка наноматериалов.'Программист С#'GALAKTIKA'сент. 2019 г. - апр. 2020 г. · 8 мес.']   \n",
       "\n",
       "                                                                                                                                                                                                         post  \\\n",
       "0                                                                                                                                                                                                  нет постов   \n",
       "1                                                                                                                                                                                                  нет постов   \n",
       "2                                                                                                                                                                                                  нет постов   \n",
       "3  Здравствуйтея в поиске новой карьерной возможности и буду признателен(а) за вашу поддержку. Заранее благодарю за все рекомендации контактовсоветы или возможностикоторые вы можете предложить. #OpenToWork   \n",
       "3                                                                                                                                                                          Unity Game Development Mini-Degree   \n",
       "\n",
       "   likes  comments  \\\n",
       "0    0.0       0.0   \n",
       "1    0.0       0.0   \n",
       "2    0.0       0.0   \n",
       "3    1.0       0.0   \n",
       "3    0.0       0.0   \n",
       "\n",
       "                                                                   post_url  \\\n",
       "0                                                                нет постов   \n",
       "1                                                                нет постов   \n",
       "2                                                                нет постов   \n",
       "3  https://www.linkedin.com/feed/update/urn:li:activity:6712411515196194816   \n",
       "3  https://www.linkedin.com/feed/update/urn:li:activity:6515468433906372608   \n",
       "\n",
       "   reposts  \n",
       "0      0.0  \n",
       "1      0.0  \n",
       "2      0.0  \n",
       "3     11.0  \n",
       "3     11.0  "
      ]
     },
     "metadata": {},
     "output_type": "display_data"
    },
    {
     "data": {
      "text/html": [
       "<div>\n",
       "<style scoped>\n",
       "    .dataframe tbody tr th:only-of-type {\n",
       "        vertical-align: middle;\n",
       "    }\n",
       "\n",
       "    .dataframe tbody tr th {\n",
       "        vertical-align: top;\n",
       "    }\n",
       "\n",
       "    .dataframe thead th {\n",
       "        text-align: right;\n",
       "    }\n",
       "</style>\n",
       "<table border=\"1\" class=\"dataframe\">\n",
       "  <thead>\n",
       "    <tr style=\"text-align: right;\">\n",
       "      <th></th>\n",
       "      <th>url</th>\n",
       "      <th>user_name</th>\n",
       "      <th>user_head</th>\n",
       "      <th>user_position</th>\n",
       "      <th>post</th>\n",
       "      <th>likes</th>\n",
       "      <th>comments</th>\n",
       "      <th>post_url</th>\n",
       "      <th>reposts</th>\n",
       "    </tr>\n",
       "  </thead>\n",
       "  <tbody>\n",
       "    <tr>\n",
       "      <th>98</th>\n",
       "      <td>https://www.linkedin.com/in/aleksey-pikalov-javadeveloper/</td>\n",
       "      <td>Aleksey Pikalov</td>\n",
       "      <td>Java Developer - Bell Integrator</td>\n",
       "      <td>['Java Developer'Bell Integrator'апр. 2019 г. – настоящее время · 4\\xa0г. 3\\xa0мес.'Java Developer'Java Online Projects'июль 2018 г. - дек. 2018 г. · 6 мес.'Сотрудник отдела логистики'IKEA Group'февр. 2014 г. - нояб. 2018 г. · 4\\xa0г. 10\\xa0мес.']</td>\n",
       "      <td>нет постов</td>\n",
       "      <td>0.0</td>\n",
       "      <td>0.0</td>\n",
       "      <td>нет постов</td>\n",
       "      <td>0.0</td>\n",
       "    </tr>\n",
       "    <tr>\n",
       "      <th>99</th>\n",
       "      <td>https://www.linkedin.com/in/%D0%B0%D0%BB%D0%B5%D0%BA%D1%81%D0%B0%D0%BD%D0%B4%D1%80-%D0%BA%D1%83%D0%B4%D0%B8%D0%BC%D0%BE%D0%B2-41658852/</td>\n",
       "      <td>Александр Кудимов</td>\n",
       "      <td>Python software developer</td>\n",
       "      <td>['Ведущий Разарботчик'МТС · Полный рабочий день'янв. 2020 г. – настоящее время · 3\\xa0г. 6\\xa0мес.'Ведущий эксперт-разработчик'SimbirSoft · Полный рабочий день'май 2019 г. - янв. 2020 г. · 9 мес.'Архитектура и разработка программного обеспечения.'Senior BE developer at Software Development'ООО «СИСКВАЛ» · Полный рабочий день'авг. 2017 г. - май 2019 г. · 1\\xa0г. 10\\xa0мес.'Senior BE developer at Software Development'ООО «Ривасэнс Текнолоджис» · Полный рабочий день'авг. 2014 г. - июль 2017 г. · 3 г.'Индивидуальное предпринимательство / частная практика / фриланс'Индивидуальное предпринимательство / частная практика / фриланс · Частичная занятость'сент. 2010 г. - июль 2014 г. · 3\\xa0г. 11\\xa0мес.']</td>\n",
       "      <td>нет постов</td>\n",
       "      <td>0.0</td>\n",
       "      <td>0.0</td>\n",
       "      <td>нет постов</td>\n",
       "      <td>0.0</td>\n",
       "    </tr>\n",
       "    <tr>\n",
       "      <th>100</th>\n",
       "      <td>https://www.linkedin.com/in/vladimir-zolotavin-188907218/</td>\n",
       "      <td>Vladimir Zolotavin</td>\n",
       "      <td>Middle Java Developer</td>\n",
       "      <td>['Главный инженер по разработке'СБЕР · Полный рабочий день'сент. 2021 г. – настоящее время · 1\\xa0г. 10\\xa0мес.'Junior Java Developer'Toolstrek · Полный рабочий день'июнь 2021 г. - сент. 2021 г. · 4 мес.']</td>\n",
       "      <td>нет постов</td>\n",
       "      <td>0.0</td>\n",
       "      <td>0.0</td>\n",
       "      <td>нет постов</td>\n",
       "      <td>0.0</td>\n",
       "    </tr>\n",
       "    <tr>\n",
       "      <th>102</th>\n",
       "      <td>https://www.linkedin.com/in/ilias-iliasov-434a47251/</td>\n",
       "      <td>Ilias Iliasov</td>\n",
       "      <td>Senior Java Developer</td>\n",
       "      <td>['Senior Java Developer'Sberbank · Полный рабочий день'сент. 2019 г. – настоящее время · 3\\xa0г. 10\\xa0мес.'Гибридный формат работы'Java Developer'Bank of Russia · Полный рабочий день'нояб. 2018 г. - сент. 2019 г. · 11 мес.'IliasIl - Overview'My GitHub']</td>\n",
       "      <td>нет постов</td>\n",
       "      <td>0.0</td>\n",
       "      <td>0.0</td>\n",
       "      <td>нет постов</td>\n",
       "      <td>0.0</td>\n",
       "    </tr>\n",
       "    <tr>\n",
       "      <th>103</th>\n",
       "      <td>https://www.linkedin.com/in/%D0%B0%D0%BD%D1%82%D0%BE%D0%BD-%D0%B3%D1%80%D0%B8%D1%88%D0%B8%D0%BD-2bb3a53a/</td>\n",
       "      <td>Антон Гришин</td>\n",
       "      <td>Fronted-developer</td>\n",
       "      <td>['experience parsing error']</td>\n",
       "      <td>нет постов</td>\n",
       "      <td>0.0</td>\n",
       "      <td>0.0</td>\n",
       "      <td>нет постов</td>\n",
       "      <td>0.0</td>\n",
       "    </tr>\n",
       "  </tbody>\n",
       "</table>\n",
       "</div>"
      ],
      "text/plain": [
       "                                                                                                                                         url  \\\n",
       "98                                                                                https://www.linkedin.com/in/aleksey-pikalov-javadeveloper/   \n",
       "99   https://www.linkedin.com/in/%D0%B0%D0%BB%D0%B5%D0%BA%D1%81%D0%B0%D0%BD%D0%B4%D1%80-%D0%BA%D1%83%D0%B4%D0%B8%D0%BC%D0%BE%D0%B2-41658852/   \n",
       "100                                                                                https://www.linkedin.com/in/vladimir-zolotavin-188907218/   \n",
       "102                                                                                     https://www.linkedin.com/in/ilias-iliasov-434a47251/   \n",
       "103                                https://www.linkedin.com/in/%D0%B0%D0%BD%D1%82%D0%BE%D0%BD-%D0%B3%D1%80%D0%B8%D1%88%D0%B8%D0%BD-2bb3a53a/   \n",
       "\n",
       "              user_name                         user_head  \\\n",
       "98      Aleksey Pikalov  Java Developer - Bell Integrator   \n",
       "99    Александр Кудимов         Python software developer   \n",
       "100  Vladimir Zolotavin             Middle Java Developer   \n",
       "102       Ilias Iliasov             Senior Java Developer   \n",
       "103        Антон Гришин                 Fronted-developer   \n",
       "\n",
       "                                                                                                                                                                                                                                                                                                                                                                                                                                                                                                                                                                                                                                                                                                                        user_position  \\\n",
       "98                                                                                                                                                                                                                                                                                                                                                                                                                                                                            ['Java Developer'Bell Integrator'апр. 2019 г. – настоящее время · 4\\xa0г. 3\\xa0мес.'Java Developer'Java Online Projects'июль 2018 г. - дек. 2018 г. · 6 мес.'Сотрудник отдела логистики'IKEA Group'февр. 2014 г. - нояб. 2018 г. · 4\\xa0г. 10\\xa0мес.']   \n",
       "99   ['Ведущий Разарботчик'МТС · Полный рабочий день'янв. 2020 г. – настоящее время · 3\\xa0г. 6\\xa0мес.'Ведущий эксперт-разработчик'SimbirSoft · Полный рабочий день'май 2019 г. - янв. 2020 г. · 9 мес.'Архитектура и разработка программного обеспечения.'Senior BE developer at Software Development'ООО «СИСКВАЛ» · Полный рабочий день'авг. 2017 г. - май 2019 г. · 1\\xa0г. 10\\xa0мес.'Senior BE developer at Software Development'ООО «Ривасэнс Текнолоджис» · Полный рабочий день'авг. 2014 г. - июль 2017 г. · 3 г.'Индивидуальное предпринимательство / частная практика / фриланс'Индивидуальное предпринимательство / частная практика / фриланс · Частичная занятость'сент. 2010 г. - июль 2014 г. · 3\\xa0г. 11\\xa0мес.']   \n",
       "100                                                                                                                                                                                                                                                                                                                                                                                                                                                                                                                     ['Главный инженер по разработке'СБЕР · Полный рабочий день'сент. 2021 г. – настоящее время · 1\\xa0г. 10\\xa0мес.'Junior Java Developer'Toolstrek · Полный рабочий день'июнь 2021 г. - сент. 2021 г. · 4 мес.']   \n",
       "102                                                                                                                                                                                                                                                                                                                                                                                                                                                                    ['Senior Java Developer'Sberbank · Полный рабочий день'сент. 2019 г. – настоящее время · 3\\xa0г. 10\\xa0мес.'Гибридный формат работы'Java Developer'Bank of Russia · Полный рабочий день'нояб. 2018 г. - сент. 2019 г. · 11 мес.'IliasIl - Overview'My GitHub']   \n",
       "103                                                                                                                                                                                                                                                                                                                                                                                                                                                                                                                                                                                                                                                                                                      ['experience parsing error']   \n",
       "\n",
       "           post  likes  comments    post_url  reposts  \n",
       "98   нет постов    0.0       0.0  нет постов      0.0  \n",
       "99   нет постов    0.0       0.0  нет постов      0.0  \n",
       "100  нет постов    0.0       0.0  нет постов      0.0  \n",
       "102  нет постов    0.0       0.0  нет постов      0.0  \n",
       "103  нет постов    0.0       0.0  нет постов      0.0  "
      ]
     },
     "metadata": {},
     "output_type": "display_data"
    }
   ],
   "source": [
    "display(dataset_from_team_8_1.head())\n",
    "\n",
    "display(dataset_from_team_8_1.tail())"
   ]
  },
  {
   "cell_type": "markdown",
   "id": "e5686620",
   "metadata": {},
   "source": [
    "### Часть 2"
   ]
  },
  {
   "cell_type": "code",
   "execution_count": 33,
   "id": "cd4766df",
   "metadata": {},
   "outputs": [],
   "source": [
    "dataset_from_team_8_2 = pd.read_csv(os.path.join(file_path, 'dataset_from_team_8_2.csv'), delimiter=';', index_col=0)"
   ]
  },
  {
   "cell_type": "code",
   "execution_count": 34,
   "id": "a890ba74",
   "metadata": {},
   "outputs": [
    {
     "name": "stdout",
     "output_type": "stream",
     "text": [
      "<class 'pandas.core.frame.DataFrame'>\n",
      "Index: 193 entries, 0 to 149\n",
      "Data columns (total 9 columns):\n",
      " #   Column         Non-Null Count  Dtype  \n",
      "---  ------         --------------  -----  \n",
      " 0   profile_url    169 non-null    object \n",
      " 1   name           169 non-null    object \n",
      " 2   works_at       169 non-null    object \n",
      " 3   exp_list       169 non-null    object \n",
      " 4   post           169 non-null    object \n",
      " 5   reactions_cnt  169 non-null    float64\n",
      " 6   comments_cnt   169 non-null    float64\n",
      " 7   post_url       169 non-null    object \n",
      " 8   posts_cnt      169 non-null    float64\n",
      "dtypes: float64(3), object(6)\n",
      "memory usage: 15.1+ KB\n"
     ]
    }
   ],
   "source": [
    "dataset_from_team_8_2.info()"
   ]
  },
  {
   "cell_type": "code",
   "execution_count": 35,
   "id": "ca21dfca",
   "metadata": {},
   "outputs": [
    {
     "data": {
      "text/plain": [
       "23"
      ]
     },
     "execution_count": 35,
     "metadata": {},
     "output_type": "execute_result"
    }
   ],
   "source": [
    "# Проверим на наличие дубликатов \n",
    "dataset_from_team_8_2.duplicated().sum()"
   ]
  },
  {
   "cell_type": "code",
   "execution_count": 36,
   "id": "e3823444",
   "metadata": {},
   "outputs": [],
   "source": [
    "# Устраняем их\n",
    "dataset_from_team_8_2.drop_duplicates(inplace=True)"
   ]
  },
  {
   "cell_type": "code",
   "execution_count": 37,
   "id": "d0cefbf0",
   "metadata": {},
   "outputs": [
    {
     "data": {
      "text/plain": [
       "profile_url      1\n",
       "name             1\n",
       "works_at         1\n",
       "exp_list         1\n",
       "post             1\n",
       "reactions_cnt    1\n",
       "comments_cnt     1\n",
       "post_url         1\n",
       "posts_cnt        1\n",
       "dtype: int64"
      ]
     },
     "execution_count": 37,
     "metadata": {},
     "output_type": "execute_result"
    }
   ],
   "source": [
    "# Проверка на пропущенные значения\n",
    "dataset_from_team_8_2.isna().sum()"
   ]
  },
  {
   "cell_type": "code",
   "execution_count": 38,
   "id": "f1e377b6",
   "metadata": {},
   "outputs": [],
   "source": [
    "# Устраняем их\n",
    "dataset_from_team_8_2.dropna(inplace=True)"
   ]
  },
  {
   "cell_type": "code",
   "execution_count": 39,
   "id": "0c445dd0",
   "metadata": {},
   "outputs": [],
   "source": [
    "dataset_from_team_8_2 = dataset_from_team_8_2.rename(columns={'profile_url': 'url', 'name': 'user_name', 'job':'user_head', 'works_at': 'user_head', 'exp_list': 'user_position', 'reactions_cnt': 'likes', 'comments_cnt': 'comments', 'posts_cnt': 'reposts'})"
   ]
  },
  {
   "cell_type": "code",
   "execution_count": 40,
   "id": "92483469",
   "metadata": {},
   "outputs": [
    {
     "data": {
      "text/html": [
       "<div>\n",
       "<style scoped>\n",
       "    .dataframe tbody tr th:only-of-type {\n",
       "        vertical-align: middle;\n",
       "    }\n",
       "\n",
       "    .dataframe tbody tr th {\n",
       "        vertical-align: top;\n",
       "    }\n",
       "\n",
       "    .dataframe thead th {\n",
       "        text-align: right;\n",
       "    }\n",
       "</style>\n",
       "<table border=\"1\" class=\"dataframe\">\n",
       "  <thead>\n",
       "    <tr style=\"text-align: right;\">\n",
       "      <th></th>\n",
       "      <th>url</th>\n",
       "      <th>user_name</th>\n",
       "      <th>user_head</th>\n",
       "      <th>user_position</th>\n",
       "      <th>post</th>\n",
       "      <th>likes</th>\n",
       "      <th>comments</th>\n",
       "      <th>post_url</th>\n",
       "      <th>reposts</th>\n",
       "    </tr>\n",
       "  </thead>\n",
       "  <tbody>\n",
       "    <tr>\n",
       "      <th>0</th>\n",
       "      <td>https://www.linkedin.com/in/cbelkin/</td>\n",
       "      <td>Constantine Belkin</td>\n",
       "      <td>iOS Developer at VK</td>\n",
       "      <td>['iOS Developer'VK · Полный рабочий день'июнь 2023 г. – настоящее время · 1 мес.'iOS Developer'Kaspersky · Полный рабочий день'март 2022 г. - июнь 2023 г. · 1\\xa0г. 4\\xa0мес.'\\u200eKaspersky Passwords &amp; Docs'iOS Developer'Atlasdelivery.io · Полный рабочий день'сент. 2021 г. - февр. 2022 г. · 6 мес.'\\u200eAtlas Force'iOS Developer'amazingcat LLC · Полный рабочий день'сент. 2020 г. - июнь 2021 г. · 10 мес.'Fullstack developer'amazingcat LLC · Полный рабочий день'июль 2017 г. - апр. 2020 г. · 2\\xa0г. 10\\xa0мес.']</td>\n",
       "      <td>нет постов</td>\n",
       "      <td>0.0</td>\n",
       "      <td>0.0</td>\n",
       "      <td>нет постов</td>\n",
       "      <td>0.0</td>\n",
       "    </tr>\n",
       "    <tr>\n",
       "      <th>1</th>\n",
       "      <td>https://www.linkedin.com/in/%D0%B0%D1%80%D1%82%D0%B5%D0%BC-%D1%88%D0%BB%D1%8F%D1%85%D1%82%D0%B8%D0%BD-bb112390/</td>\n",
       "      <td>Артем Шляхтин</td>\n",
       "      <td>Senior iOS Developer at Sberbank</td>\n",
       "      <td>['Senior iOS Developer'Sberbank · Полный рабочий день'нояб. 2018 г. – настоящее время · 4\\xa0г. 8\\xa0мес.'Senior iOS Developer'IBM'июль 2017 г. - нояб. 2018 г. · 1\\xa0г. 5\\xa0мес.'iOS Developer'RosEuroBank'авг. 2015 г. - июль 2017 г. · 2 г.'Разработчик iOS'Май-Tech'май 2014 г. - дек. 2014 г. · 8 мес.'Рекомендательное письмо'-'Индивидуальный предприниматель'сент. 2013 г. - авг. 2014 г. · 1 г.']</td>\n",
       "      <td>нет постов</td>\n",
       "      <td>0.0</td>\n",
       "      <td>0.0</td>\n",
       "      <td>нет постов</td>\n",
       "      <td>0.0</td>\n",
       "    </tr>\n",
       "    <tr>\n",
       "      <th>2</th>\n",
       "      <td>https://www.linkedin.com/in/%D0%B0%D1%80%D1%82%D1%91%D0%BC-%D0%BA-7775a2a1/</td>\n",
       "      <td>Артём К.</td>\n",
       "      <td>iOS Developer – Yandex</td>\n",
       "      <td>['iOS App Developer'Yandex'июнь 2018 г. – настоящее время · 5\\xa0лет 1\\xa0мес.'iOS Developer'Indatalab'март 2016 г. – настоящее время · 7\\xa0лет 4\\xa0мес.'iOS Developer'Freelance'окт. 2015 г. - нояб. 2015 г. · 2 мес.']</td>\n",
       "      <td>нет постов</td>\n",
       "      <td>0.0</td>\n",
       "      <td>0.0</td>\n",
       "      <td>нет постов</td>\n",
       "      <td>0.0</td>\n",
       "    </tr>\n",
       "    <tr>\n",
       "      <th>3</th>\n",
       "      <td>https://www.linkedin.com/in/sergei-basalko/</td>\n",
       "      <td>Sergei Basalko</td>\n",
       "      <td>iOS Developer</td>\n",
       "      <td>['iOS Development Team Leader'MTS IT · Полный рабочий день'дек. 2019 г. – настоящее время · 3\\xa0г. 7\\xa0мес.'Moscow'iOS Development Team Leader'Moscow City Telephone Network (MGTS) · Полный рабочий день'апр. 2019 г. – настоящее время · 4\\xa0г. 3\\xa0мес.'Mobile apps development'Senior iOS Software Developer'Raiffeisen Bank Russia'февр. 2018 г. - апр. 2019 г. · 1\\xa0г. 3\\xa0мес.'Mobile apps development'Senior iOS Software Developer'YouDo'июль 2015 г. - февр. 2018 г. · 2\\xa0г. 8\\xa0мес.'Mobile apps development'iOS Software Developer'NEKLO'сент. 2013 г. - июнь 2015 г. · 1\\xa0г. 10\\xa0мес.'Mobile apps development']</td>\n",
       "      <td>нет постов</td>\n",
       "      <td>0.0</td>\n",
       "      <td>0.0</td>\n",
       "      <td>нет постов</td>\n",
       "      <td>0.0</td>\n",
       "    </tr>\n",
       "    <tr>\n",
       "      <th>4</th>\n",
       "      <td>https://www.linkedin.com/in/oleg-oparin-kl/</td>\n",
       "      <td>Oleg Oparin</td>\n",
       "      <td>iOS Developer at Kaspersky Lab.</td>\n",
       "      <td>['Kaspersky'2\\xa0г.\\xa03\\xa0мес.'Junior iOS Developer'янв. 2022 г. – настоящее время · 1\\xa0г. 6\\xa0мес.'\\u200eKaspersky Security &amp; VPN'Intern iOS Developer'апр. 2021 г. - янв. 2022 г. · 10 мес.']</td>\n",
       "      <td>нет постов</td>\n",
       "      <td>0.0</td>\n",
       "      <td>0.0</td>\n",
       "      <td>нет постов</td>\n",
       "      <td>0.0</td>\n",
       "    </tr>\n",
       "  </tbody>\n",
       "</table>\n",
       "</div>"
      ],
      "text/plain": [
       "                                                                                                               url  \\\n",
       "0                                                                             https://www.linkedin.com/in/cbelkin/   \n",
       "1  https://www.linkedin.com/in/%D0%B0%D1%80%D1%82%D0%B5%D0%BC-%D1%88%D0%BB%D1%8F%D1%85%D1%82%D0%B8%D0%BD-bb112390/   \n",
       "2                                      https://www.linkedin.com/in/%D0%B0%D1%80%D1%82%D1%91%D0%BC-%D0%BA-7775a2a1/   \n",
       "3                                                                      https://www.linkedin.com/in/sergei-basalko/   \n",
       "4                                                                      https://www.linkedin.com/in/oleg-oparin-kl/   \n",
       "\n",
       "            user_name                         user_head  \\\n",
       "0  Constantine Belkin               iOS Developer at VK   \n",
       "1       Артем Шляхтин  Senior iOS Developer at Sberbank   \n",
       "2            Артём К.            iOS Developer – Yandex   \n",
       "3      Sergei Basalko                     iOS Developer   \n",
       "4         Oleg Oparin   iOS Developer at Kaspersky Lab.   \n",
       "\n",
       "                                                                                                                                                                                                                                                                                                                                                                                                                                                                                                                                                                                                                                user_position  \\\n",
       "0                                                                                                         ['iOS Developer'VK · Полный рабочий день'июнь 2023 г. – настоящее время · 1 мес.'iOS Developer'Kaspersky · Полный рабочий день'март 2022 г. - июнь 2023 г. · 1\\xa0г. 4\\xa0мес.'\\u200eKaspersky Passwords & Docs'iOS Developer'Atlasdelivery.io · Полный рабочий день'сент. 2021 г. - февр. 2022 г. · 6 мес.'\\u200eAtlas Force'iOS Developer'amazingcat LLC · Полный рабочий день'сент. 2020 г. - июнь 2021 г. · 10 мес.'Fullstack developer'amazingcat LLC · Полный рабочий день'июль 2017 г. - апр. 2020 г. · 2\\xa0г. 10\\xa0мес.']   \n",
       "1                                                                                                                                                                                                                                ['Senior iOS Developer'Sberbank · Полный рабочий день'нояб. 2018 г. – настоящее время · 4\\xa0г. 8\\xa0мес.'Senior iOS Developer'IBM'июль 2017 г. - нояб. 2018 г. · 1\\xa0г. 5\\xa0мес.'iOS Developer'RosEuroBank'авг. 2015 г. - июль 2017 г. · 2 г.'Разработчик iOS'Май-Tech'май 2014 г. - дек. 2014 г. · 8 мес.'Рекомендательное письмо'-'Индивидуальный предприниматель'сент. 2013 г. - авг. 2014 г. · 1 г.']   \n",
       "2                                                                                                                                                                                                                                                                                                                                                                                                                  ['iOS App Developer'Yandex'июнь 2018 г. – настоящее время · 5\\xa0лет 1\\xa0мес.'iOS Developer'Indatalab'март 2016 г. – настоящее время · 7\\xa0лет 4\\xa0мес.'iOS Developer'Freelance'окт. 2015 г. - нояб. 2015 г. · 2 мес.']   \n",
       "3  ['iOS Development Team Leader'MTS IT · Полный рабочий день'дек. 2019 г. – настоящее время · 3\\xa0г. 7\\xa0мес.'Moscow'iOS Development Team Leader'Moscow City Telephone Network (MGTS) · Полный рабочий день'апр. 2019 г. – настоящее время · 4\\xa0г. 3\\xa0мес.'Mobile apps development'Senior iOS Software Developer'Raiffeisen Bank Russia'февр. 2018 г. - апр. 2019 г. · 1\\xa0г. 3\\xa0мес.'Mobile apps development'Senior iOS Software Developer'YouDo'июль 2015 г. - февр. 2018 г. · 2\\xa0г. 8\\xa0мес.'Mobile apps development'iOS Software Developer'NEKLO'сент. 2013 г. - июнь 2015 г. · 1\\xa0г. 10\\xa0мес.'Mobile apps development']   \n",
       "4                                                                                                                                                                                                                                                                                                                                                                                                                                        ['Kaspersky'2\\xa0г.\\xa03\\xa0мес.'Junior iOS Developer'янв. 2022 г. – настоящее время · 1\\xa0г. 6\\xa0мес.'\\u200eKaspersky Security & VPN'Intern iOS Developer'апр. 2021 г. - янв. 2022 г. · 10 мес.']   \n",
       "\n",
       "         post  likes  comments    post_url  reposts  \n",
       "0  нет постов    0.0       0.0  нет постов      0.0  \n",
       "1  нет постов    0.0       0.0  нет постов      0.0  \n",
       "2  нет постов    0.0       0.0  нет постов      0.0  \n",
       "3  нет постов    0.0       0.0  нет постов      0.0  \n",
       "4  нет постов    0.0       0.0  нет постов      0.0  "
      ]
     },
     "metadata": {},
     "output_type": "display_data"
    },
    {
     "data": {
      "text/html": [
       "<div>\n",
       "<style scoped>\n",
       "    .dataframe tbody tr th:only-of-type {\n",
       "        vertical-align: middle;\n",
       "    }\n",
       "\n",
       "    .dataframe tbody tr th {\n",
       "        vertical-align: top;\n",
       "    }\n",
       "\n",
       "    .dataframe thead th {\n",
       "        text-align: right;\n",
       "    }\n",
       "</style>\n",
       "<table border=\"1\" class=\"dataframe\">\n",
       "  <thead>\n",
       "    <tr style=\"text-align: right;\">\n",
       "      <th></th>\n",
       "      <th>url</th>\n",
       "      <th>user_name</th>\n",
       "      <th>user_head</th>\n",
       "      <th>user_position</th>\n",
       "      <th>post</th>\n",
       "      <th>likes</th>\n",
       "      <th>comments</th>\n",
       "      <th>post_url</th>\n",
       "      <th>reposts</th>\n",
       "    </tr>\n",
       "  </thead>\n",
       "  <tbody>\n",
       "    <tr>\n",
       "      <th>144</th>\n",
       "      <td>https://www.linkedin.com/in/alexey-artyushin/</td>\n",
       "      <td>Alexey Artyushin</td>\n",
       "      <td>Senior IOS Developer - Tinkoff</td>\n",
       "      <td>['Senior IOS Developer'Tinkoff  · Полный рабочий день'авг. 2021 г. – настоящее время · 1\\xa0г. 11\\xa0мес.'Senior iOS Developer'Bell Integrator · Полный рабочий день'июнь 2020 г. - авг. 2021 г. · 1\\xa0г. 3\\xa0мес.'iOS Developer'Faction Studio'май 2019 г. - май 2020 г. · 1\\xa0г. 1\\xa0мес.'iOS Developer'CompassLabs'окт. 2018 г. - май 2019 г. · 8 мес.'iOS Developer'OpenSolutions LLC'авг. 2016 г. - окт. 2018 г. · 2\\xa0г. 3\\xa0мес.']</td>\n",
       "      <td>нет постов</td>\n",
       "      <td>0.0</td>\n",
       "      <td>0.0</td>\n",
       "      <td>нет постов</td>\n",
       "      <td>0.0</td>\n",
       "    </tr>\n",
       "    <tr>\n",
       "      <th>145</th>\n",
       "      <td>https://www.linkedin.com/in/sergey-cheliuskin-galich-b055041ba/</td>\n",
       "      <td>Sergey Cheliuskin-Galich</td>\n",
       "      <td>iOS Developer</td>\n",
       "      <td>['iOS Developer'СБЕР'окт. 2021 г. – настоящее время · 1\\xa0г. 9\\xa0мес.'Начальник отдела разработки программных систем и систем администрирования'ООО «Онлайн Сервис Логистик» · Полный рабочий день'нояб. 2012 г. - окт. 2021 г. · 9 лет'Системный администратор'ООО «Онлайн Сервис Логистик» · Полный рабочий день'нояб. 2011 г. - июль 2012 г. · 9 мес.']</td>\n",
       "      <td>Добрый день! На данный момент нахожусь в поиске работы на должность стажера/Junior iOS - разработчика. Буду благодарен за помощь и поддержку.#Swift #iOS #OpenToWork</td>\n",
       "      <td>0.0</td>\n",
       "      <td>0.0</td>\n",
       "      <td>https://www.linkedin.com/feed/update/urn:li:activity:6725465593618804736</td>\n",
       "      <td>1.0</td>\n",
       "    </tr>\n",
       "    <tr>\n",
       "      <th>146</th>\n",
       "      <td>https://www.linkedin.com/in/nick-puchko/</td>\n",
       "      <td>Nikolai Puchko</td>\n",
       "      <td>Lead iOS developer at Yandex Travel</td>\n",
       "      <td>['Yandex'Полный рабочий день · 2\\xa0г.\\xa03\\xa0мес.'Lead iOS developer'янв. 2023 г. – настоящее время · 6 мес.'iOS Developer'апр. 2021 г. - дек. 2022 г. · 1\\xa0г. 9\\xa0мес.']</td>\n",
       "      <td>нет постов</td>\n",
       "      <td>0.0</td>\n",
       "      <td>0.0</td>\n",
       "      <td>нет постов</td>\n",
       "      <td>0.0</td>\n",
       "    </tr>\n",
       "    <tr>\n",
       "      <th>148</th>\n",
       "      <td>https://www.linkedin.com/in/ivan-sergunin-2676b8201/</td>\n",
       "      <td>Ivan Sergunin</td>\n",
       "      <td>iOS Developer at Sberbank</td>\n",
       "      <td>['iOS Developer'Sberbank · Полный рабочий день'янв. 2021 г. – настоящее время · 2\\xa0г. 6\\xa0мес.'iOS Developer'SPB TV · Полный рабочий день'нояб. 2014 г. - дек. 2020 г. · 6\\xa0лет 2\\xa0мес.']</td>\n",
       "      <td>нет постов</td>\n",
       "      <td>0.0</td>\n",
       "      <td>0.0</td>\n",
       "      <td>нет постов</td>\n",
       "      <td>0.0</td>\n",
       "    </tr>\n",
       "    <tr>\n",
       "      <th>149</th>\n",
       "      <td>https://www.linkedin.com/in/igor-shvetsov-6a081713/</td>\n",
       "      <td>Igor Shvetsov</td>\n",
       "      <td>iOS Developer at Tinkoff Digital</td>\n",
       "      <td>['iOS Developer'Tinkoff Bank · Полный рабочий день'апр. 2020 г. – настоящее время · 3\\xa0г. 3\\xa0мес.'Developer'Noveo Group'окт. 2015 г. - сент. 2019 г. · 4 г.'iOs Developer'iOS Developer'Mail.ru Group'2019 · Менее года'MTS'9\\xa0лет\\xa011\\xa0мес.'IT department'дек. 2005 г. - окт. 2015 г. · 9\\xa0лет 11\\xa0мес.'Senior Developer'дек. 2005 г. - окт. 2015 г. · 9\\xa0лет 11\\xa0мес.'Developer'ClearScale'2013 · Менее года']</td>\n",
       "      <td>нет постов</td>\n",
       "      <td>0.0</td>\n",
       "      <td>0.0</td>\n",
       "      <td>нет постов</td>\n",
       "      <td>0.0</td>\n",
       "    </tr>\n",
       "  </tbody>\n",
       "</table>\n",
       "</div>"
      ],
      "text/plain": [
       "                                                                 url  \\\n",
       "144                    https://www.linkedin.com/in/alexey-artyushin/   \n",
       "145  https://www.linkedin.com/in/sergey-cheliuskin-galich-b055041ba/   \n",
       "146                         https://www.linkedin.com/in/nick-puchko/   \n",
       "148             https://www.linkedin.com/in/ivan-sergunin-2676b8201/   \n",
       "149              https://www.linkedin.com/in/igor-shvetsov-6a081713/   \n",
       "\n",
       "                    user_name                            user_head  \\\n",
       "144          Alexey Artyushin       Senior IOS Developer - Tinkoff   \n",
       "145  Sergey Cheliuskin-Galich                        iOS Developer   \n",
       "146            Nikolai Puchko  Lead iOS developer at Yandex Travel   \n",
       "148             Ivan Sergunin            iOS Developer at Sberbank   \n",
       "149             Igor Shvetsov     iOS Developer at Tinkoff Digital   \n",
       "\n",
       "                                                                                                                                                                                                                                                                                                                                                                                                                                       user_position  \\\n",
       "144  ['Senior IOS Developer'Tinkoff  · Полный рабочий день'авг. 2021 г. – настоящее время · 1\\xa0г. 11\\xa0мес.'Senior iOS Developer'Bell Integrator · Полный рабочий день'июнь 2020 г. - авг. 2021 г. · 1\\xa0г. 3\\xa0мес.'iOS Developer'Faction Studio'май 2019 г. - май 2020 г. · 1\\xa0г. 1\\xa0мес.'iOS Developer'CompassLabs'окт. 2018 г. - май 2019 г. · 8 мес.'iOS Developer'OpenSolutions LLC'авг. 2016 г. - окт. 2018 г. · 2\\xa0г. 3\\xa0мес.']   \n",
       "145                                                                                     ['iOS Developer'СБЕР'окт. 2021 г. – настоящее время · 1\\xa0г. 9\\xa0мес.'Начальник отдела разработки программных систем и систем администрирования'ООО «Онлайн Сервис Логистик» · Полный рабочий день'нояб. 2012 г. - окт. 2021 г. · 9 лет'Системный администратор'ООО «Онлайн Сервис Логистик» · Полный рабочий день'нояб. 2011 г. - июль 2012 г. · 9 мес.']   \n",
       "146                                                                                                                                                                                                                                                                   ['Yandex'Полный рабочий день · 2\\xa0г.\\xa03\\xa0мес.'Lead iOS developer'янв. 2023 г. – настоящее время · 6 мес.'iOS Developer'апр. 2021 г. - дек. 2022 г. · 1\\xa0г. 9\\xa0мес.']   \n",
       "148                                                                                                                                                                                                                                                 ['iOS Developer'Sberbank · Полный рабочий день'янв. 2021 г. – настоящее время · 2\\xa0г. 6\\xa0мес.'iOS Developer'SPB TV · Полный рабочий день'нояб. 2014 г. - дек. 2020 г. · 6\\xa0лет 2\\xa0мес.']   \n",
       "149               ['iOS Developer'Tinkoff Bank · Полный рабочий день'апр. 2020 г. – настоящее время · 3\\xa0г. 3\\xa0мес.'Developer'Noveo Group'окт. 2015 г. - сент. 2019 г. · 4 г.'iOs Developer'iOS Developer'Mail.ru Group'2019 · Менее года'MTS'9\\xa0лет\\xa011\\xa0мес.'IT department'дек. 2005 г. - окт. 2015 г. · 9\\xa0лет 11\\xa0мес.'Senior Developer'дек. 2005 г. - окт. 2015 г. · 9\\xa0лет 11\\xa0мес.'Developer'ClearScale'2013 · Менее года']   \n",
       "\n",
       "                                                                                                                                                                     post  \\\n",
       "144                                                                                                                                                            нет постов   \n",
       "145  Добрый день! На данный момент нахожусь в поиске работы на должность стажера/Junior iOS - разработчика. Буду благодарен за помощь и поддержку.#Swift #iOS #OpenToWork   \n",
       "146                                                                                                                                                            нет постов   \n",
       "148                                                                                                                                                            нет постов   \n",
       "149                                                                                                                                                            нет постов   \n",
       "\n",
       "     likes  comments  \\\n",
       "144    0.0       0.0   \n",
       "145    0.0       0.0   \n",
       "146    0.0       0.0   \n",
       "148    0.0       0.0   \n",
       "149    0.0       0.0   \n",
       "\n",
       "                                                                     post_url  \\\n",
       "144                                                                нет постов   \n",
       "145  https://www.linkedin.com/feed/update/urn:li:activity:6725465593618804736   \n",
       "146                                                                нет постов   \n",
       "148                                                                нет постов   \n",
       "149                                                                нет постов   \n",
       "\n",
       "     reposts  \n",
       "144      0.0  \n",
       "145      1.0  \n",
       "146      0.0  \n",
       "148      0.0  \n",
       "149      0.0  "
      ]
     },
     "metadata": {},
     "output_type": "display_data"
    }
   ],
   "source": [
    "display(dataset_from_team_8_2.head())\n",
    "\n",
    "display(dataset_from_team_8_2.tail())"
   ]
  },
  {
   "cell_type": "markdown",
   "id": "44c0d777",
   "metadata": {},
   "source": [
    "## Датасет команды 10"
   ]
  },
  {
   "cell_type": "code",
   "execution_count": 41,
   "id": "a7663355",
   "metadata": {},
   "outputs": [],
   "source": [
    "dataset_from_team_10 = pd.read_csv(os.path.join(file_path, 'dataset_from_team_10.csv'))"
   ]
  },
  {
   "cell_type": "code",
   "execution_count": 42,
   "id": "b01674b4",
   "metadata": {},
   "outputs": [
    {
     "name": "stdout",
     "output_type": "stream",
     "text": [
      "<class 'pandas.core.frame.DataFrame'>\n",
      "RangeIndex: 500 entries, 0 to 499\n",
      "Data columns (total 13 columns):\n",
      " #   Column           Non-Null Count  Dtype  \n",
      "---  ------           --------------  -----  \n",
      " 0   account_link     500 non-null    object \n",
      " 1   search_keywords  500 non-null    object \n",
      " 2   name             500 non-null    object \n",
      " 3   title            500 non-null    object \n",
      " 4   works_at         446 non-null    object \n",
      " 5   intro            500 non-null    object \n",
      " 6   experience       500 non-null    float64\n",
      " 7   place            500 non-null    object \n",
      " 8   posts_cnt        500 non-null    int64  \n",
      " 9   post_text        500 non-null    object \n",
      " 10  reaction_cnt     350 non-null    float64\n",
      " 11  comments_cnt     164 non-null    float64\n",
      " 12  repost_cnt       170 non-null    float64\n",
      "dtypes: float64(4), int64(1), object(8)\n",
      "memory usage: 50.9+ KB\n"
     ]
    }
   ],
   "source": [
    "dataset_from_team_10.info()"
   ]
  },
  {
   "cell_type": "code",
   "execution_count": 43,
   "id": "17830be4",
   "metadata": {},
   "outputs": [
    {
     "data": {
      "text/plain": [
       "3"
      ]
     },
     "execution_count": 43,
     "metadata": {},
     "output_type": "execute_result"
    }
   ],
   "source": [
    "# Проверим на наличие дубликатов \n",
    "dataset_from_team_10.duplicated().sum()"
   ]
  },
  {
   "cell_type": "code",
   "execution_count": 44,
   "id": "522208d1",
   "metadata": {},
   "outputs": [],
   "source": [
    "# Устраняем их\n",
    "dataset_from_team_10.drop_duplicates(inplace=True)"
   ]
  },
  {
   "cell_type": "code",
   "execution_count": 45,
   "id": "ab360c32",
   "metadata": {},
   "outputs": [
    {
     "data": {
      "text/plain": [
       "account_link         0\n",
       "search_keywords      0\n",
       "name                 0\n",
       "title                0\n",
       "works_at            52\n",
       "intro                0\n",
       "experience           0\n",
       "place                0\n",
       "posts_cnt            0\n",
       "post_text            0\n",
       "reaction_cnt       149\n",
       "comments_cnt       335\n",
       "repost_cnt         329\n",
       "dtype: int64"
      ]
     },
     "execution_count": 45,
     "metadata": {},
     "output_type": "execute_result"
    }
   ],
   "source": [
    "# Проверка на пропущенные значения\n",
    "dataset_from_team_10.isna().sum()"
   ]
  },
  {
   "cell_type": "code",
   "execution_count": 46,
   "id": "af499b54",
   "metadata": {},
   "outputs": [],
   "source": [
    "# Устраняем их\n",
    "dataset_from_team_10.dropna(inplace=True)"
   ]
  },
  {
   "cell_type": "code",
   "execution_count": 47,
   "id": "62ec4f07",
   "metadata": {},
   "outputs": [],
   "source": [
    "dataset_from_team_10 = dataset_from_team_10.rename(columns={'account_link': 'url', 'search_keywords': 'user_head', 'name': 'user_name', 'title': 'user_tags', 'works_at': 'user_work', 'intro': 'user_common_info', 'experience':'user_experience', 'place': 'user_location', 'post_text': 'post', 'reaction_cnt': 'likes', 'comments_cnt': 'comments', 'repost_cnt': 'reposts'})"
   ]
  },
  {
   "cell_type": "code",
   "execution_count": 48,
   "id": "36dbccd5",
   "metadata": {},
   "outputs": [],
   "source": [
    "dataset_from_team_10 = dataset_from_team_10.drop('posts_cnt', axis=1)"
   ]
  },
  {
   "cell_type": "code",
   "execution_count": 49,
   "id": "7598f728",
   "metadata": {},
   "outputs": [
    {
     "data": {
      "text/html": [
       "<div>\n",
       "<style scoped>\n",
       "    .dataframe tbody tr th:only-of-type {\n",
       "        vertical-align: middle;\n",
       "    }\n",
       "\n",
       "    .dataframe tbody tr th {\n",
       "        vertical-align: top;\n",
       "    }\n",
       "\n",
       "    .dataframe thead th {\n",
       "        text-align: right;\n",
       "    }\n",
       "</style>\n",
       "<table border=\"1\" class=\"dataframe\">\n",
       "  <thead>\n",
       "    <tr style=\"text-align: right;\">\n",
       "      <th></th>\n",
       "      <th>url</th>\n",
       "      <th>user_head</th>\n",
       "      <th>user_name</th>\n",
       "      <th>user_tags</th>\n",
       "      <th>user_work</th>\n",
       "      <th>user_common_info</th>\n",
       "      <th>user_experience</th>\n",
       "      <th>user_location</th>\n",
       "      <th>post</th>\n",
       "      <th>likes</th>\n",
       "      <th>comments</th>\n",
       "      <th>reposts</th>\n",
       "    </tr>\n",
       "  </thead>\n",
       "  <tbody>\n",
       "    <tr>\n",
       "      <th>17</th>\n",
       "      <td>https://www.linkedin.com/in/dm-bychkov</td>\n",
       "      <td>frontend</td>\n",
       "      <td>Dmitrii Bychkov ✅</td>\n",
       "      <td>Frontend Web Developer | JavaScript | TypeScript | React | Redux | HTML | CSS | Node.js | SQL</td>\n",
       "      <td>SmartMechanica</td>\n",
       "      <td>Всем привет!)Меня зовут Дмитрий.Я Frontend разработчик.Я люблю новые технологии, свободное время посвящаю изучению нового стека.Мне нравится анализировать все, что происходит вокруг меня, и обдумывать различные ветки сценариев моих действий в поиске самого эффективного решения.Мой стек:- Frontend: JavaScript, React, Redux Toolkit, HTML, CSS, SCSS- Backend: Node.js, Express.js, PostgreSQL, SQLite, Sequelize- Работа с REST API, Git, Webpack, Jest, AJAXОсваиваю: TypeScript, Prizma, RedisСтремлюсь работать в развивающейся компании, с комфортной командой.Для меня важно развиваться и чувствовать профессиональный рост.Мои контакты:+7 (926) 275-61-85jsmaildm@gmail.comhttps://t.me/Bychkow_DmitriiВсем привет!)\\n\\nМеня зовут Дмитрий.\\nЯ Frontend разработчик.\\n\\nЯ люблю новые технологии, свободное время посвящаю изучению нового стека.\\nМне нравится анализировать все, что происходит вокруг меня, и обдумывать различные ветки сценариев моих действий в поиске самого эффективного решения.\\n\\nМой стек:\\n- Frontend: JavaScript, React, Redux Toolkit, HTML, CSS, SCSS\\n- Backend: Node.js, Express.js, PostgreSQL, SQLite, Sequelize\\n- Работа с REST API, Git, Webpack, Jest, AJAX\\nОсваиваю: TypeScript, Prizma, Redis\\n\\nСтремлюсь работать в развивающейся компании, с комфортной командой.\\nДля меня важно развиваться и чувствовать профессиональный рост.\\n\\nМои контакты:\\n\\n+7 (926) 275-61-85\\njsmaildm@gmail.com\\nhttps://t.me/Bychkow_Dmitrii</td>\n",
       "      <td>3.0</td>\n",
       "      <td>Москва, Москва, Россия</td>\n",
       "      <td>#Redux Architecture - PART 01The Redux is basically Cross-Component Management and App-Wide State Management, also called General State Management.With the Redux, we can share data from parent to child, sibling components or components that are not even related to each other, avoiding the re-rendering issue in #React.Here is everything you need to know about Redux Architecture, but theoretically.In the next post, we'll build the Redux Architecture to manage general state(s).#react #redux #javascript</td>\n",
       "      <td>6.0</td>\n",
       "      <td>1.0</td>\n",
       "      <td>7.0</td>\n",
       "    </tr>\n",
       "    <tr>\n",
       "      <th>21</th>\n",
       "      <td>https://www.linkedin.com/in/iredun</td>\n",
       "      <td>backend</td>\n",
       "      <td>Иван Редун</td>\n",
       "      <td>Backend Python developer</td>\n",
       "      <td>SITRONICS IT</td>\n",
       "      <td>- Всё что нас не убивает, делает сильнее?- То добавляет ещё одну строчку в резюме- Всё что нас не убивает, делает сильнее?\\n- То добавляет ещё одну строчку в резюме</td>\n",
       "      <td>11.0</td>\n",
       "      <td>Ставрополь, Ставропольский край, Россия</td>\n",
       "      <td>I see, that it is a permanently growing demand for mentoring nowadays. After 10 years working experience I believe that I have enough to share from my expertise. And I'm ready to take 1-2 persons for mentoring for free - just as small New Year Present :)How can I help:- for people who don't find their path yet - I can take an advice and route you to the right direction;- for people who already works in Product/Project management and would like to grow - we will find your points of growth;- for people who is already grown but met some challenging issues  - we can discuss and have a brainstorm together.Format: 3-4 one-hour sessions + support in chat.You are welcome!Вижу, что сильно возрос запрос на менторинг, и я подумала - а почему нет? Спустя 10 лет опыта мне есть, чем поделиться. Готова взять 1-2 человек на менторинг в качестве новогодней акции бесплатно!Чем я могу помочь:- для тех, кто ещё не нашёл своё призвание - подскажу и направлю, где вы сможете применить свои способности и навыки;- для тех, кто уже работает в продуктовом или проджектовом менеджменте и хочет расти - вместе найдём ваши точки роста;- для тех, кто уже вырос, но столкнулся со сложными задачами - я могу обсудить и побрейнштормить вместе с вами.Формат: 3-4 часовых сессии + поддержка в чате.Желающих велкам в личку :)</td>\n",
       "      <td>2.0</td>\n",
       "      <td>3.0</td>\n",
       "      <td>2.0</td>\n",
       "    </tr>\n",
       "    <tr>\n",
       "      <th>22</th>\n",
       "      <td>https://www.linkedin.com/in/nickkharin</td>\n",
       "      <td>lead test engineer</td>\n",
       "      <td>Nikolay Kharin</td>\n",
       "      <td>Big Data Engineer | Lead Test Automation Engineer</td>\n",
       "      <td>Quantori</td>\n",
       "      <td>Big Data engineer with a background in Python, its libraries and frameworks;BS in Programming Engineering;Proficient in SQL;Certified in data science;Hands-on experience in creating and working with DWHs, Big Data processes and automation testingBig Data engineer with a background in Python, its libraries and frameworks;\\nBS in Programming Engineering;\\nProficient in SQL;\\nCertified in data science;\\nHands-on experience in creating and working with DWHs, Big Data processes and automation testing\\n\\n \\n          …См. еще</td>\n",
       "      <td>6.0</td>\n",
       "      <td>Ереван, Ереван, Армения</td>\n",
       "      <td>✅ ‼️ Инструкция по написанию Резюме и Cover Letter от Гарвардского Университета ‼️ ✅#linkedin #cvwriting #jobsearch #freecourses #linkedinhacks  #cv #university #coverletter #linkedin</td>\n",
       "      <td>4.0</td>\n",
       "      <td>6.0</td>\n",
       "      <td>7.0</td>\n",
       "    </tr>\n",
       "    <tr>\n",
       "      <th>38</th>\n",
       "      <td>https://www.linkedin.com/in/4rontender</td>\n",
       "      <td>frontend</td>\n",
       "      <td>Rinat (4rontender) Valiullov</td>\n",
       "      <td>Frontend Developer</td>\n",
       "      <td>Пермский Государственный Технический Университет (ПГТУ)</td>\n",
       "      <td>Меняйте ваши мнения, сохраняйте принципы: меняйте листья, сохраняйте корни. В. ГюгоМеняйте ваши мнения, сохраняйте принципы: меняйте листья, сохраняйте корни. В. Гюго</td>\n",
       "      <td>8.0</td>\n",
       "      <td>Пермь, Пермский край, Россия</td>\n",
       "      <td>Use React? Render large lists efficiently with react-window: https://lnkd.in/etNN94TH ~ a small library for virtualizing lists &amp; grids. Renders what users can see vs. all your items at once.If you've used React Virtualized for this before, it's by the same author Brian Vaughn, (but is far smaller) and a better fit if targeting mobile web given the smaller library size. A quick Movies demo using react-window can be found here: https://lnkd.in/edAK3HR8I've enjoyed using react-window on a few projects where list virtualization was a better fit for the UX. There are of course trade-offs with infinite scrolling patterns like this (e.g. with CLS, Load More) and I've written about them here: https://lnkd.in/eQc8mGQyIn case you're interested in learning more about list virtualization in React with plenty of examples, there's a great guide over on web(dot)dev too by Houssein Djirdeh and Jason Miller: https://lnkd.in/erqqabkV :)#softwareengineering #javascript #webdevelopment</td>\n",
       "      <td>9.0</td>\n",
       "      <td>5.0</td>\n",
       "      <td>4.0</td>\n",
       "    </tr>\n",
       "    <tr>\n",
       "      <th>41</th>\n",
       "      <td>https://www.linkedin.com/in/ankhanhi</td>\n",
       "      <td>ML engineer</td>\n",
       "      <td>Анна Хан</td>\n",
       "      <td>Data scientist | Analyst | ML-engineer</td>\n",
       "      <td>Московский Государственный Институт Электронной Техники (Технический Университет) (МИЭТ)</td>\n",
       "      <td>👋 Привет! Я студентка 3 курса программной инженерии и развивающийся DS-специалист.🔑 Ключевые навыки:- Понимание различных методов машинного обучения, таких как SVM/регрессия, иерархическая кластеризация, дерево решений, нейронные сети и NLP- Уверенное знание статистических методов и принципов А/Б тестирования- Активное участие в хакатонах и конференциях по data science- Опыт создания и публикации технических статей в области машинного обучения🛠 Технологии, которые я использую:- Python с использованием библиотек Pandas, Numpy, Seaborn, Matplotlib и Scikit-learn, PyTorch для разработки моделей машинного обучения- SQL и базы данных PostgreSQL, MySQL и ClickHouse- Bash для автоматизации рутинных задач- Redash для визуализации данных и обнаружения скрытых закономерностей и трендов.- MLflow и FastAPI для комплексной разработки и мониторинга моделей машинного обучения👋 Привет! Я студентка 3 курса программной инженерии и развивающийся DS-специалист.\\n\\n🔑 Ключевые навыки:\\n- Понимание различных методов машинного обучения, таких как SVM/регрессия, иерархическая кластеризация, дерево решений, нейронные сети и NLP\\n- Уверенное знание статистических методов и принципов А/Б тестирования\\n- Активное участие в хакатонах и конференциях по data science\\n- Опыт создания и публикации технических статей в области машинного обучения\\n\\n🛠 Технологии, которые я использую:\\n- Python с использованием библиотек Pandas, Numpy, Seaborn, Matplotlib и Scikit-learn, PyTorch для разработки моделей машинного обучения\\n- SQL и базы данных PostgreSQL, MySQL и ClickHouse\\n- Bash для автоматизации рутинных задач\\n- Redash для визуализации данных и обнаружения скрытых закономерностей и трендов.\\n- MLflow и FastAPI для комплексной разработки и мониторинга моделей машинного обучения\\n\\n \\n          …См. еще</td>\n",
       "      <td>2.0</td>\n",
       "      <td>Москва, Москва, Россия</td>\n",
       "      <td>Решаю недавно выпущенный ML-симулятор от karpov.courses.Проект анонсирован как набор практических задач, с которыми ml инженер действительно может столкнуться в своей работе. Пока что описание полностью себя оправдывает. Минимум теории, максимум практики. Три моих курса в университете сформировали какой-никакой бэкграунд, поэтому кейсы даются, хотя и не с лету. Служба поддержки в Discord помогает в особенно трудных моментах, но именно, что подсказывает, а не решает за тебя.В планах - закончить Intern и Junior уровни. Задачки интересные, может и в Middle что-нибудь решу :))#simulator_ml #karpovcourses #datascience #machinelearning #ml</td>\n",
       "      <td>8.0</td>\n",
       "      <td>2.0</td>\n",
       "      <td>1.0</td>\n",
       "    </tr>\n",
       "  </tbody>\n",
       "</table>\n",
       "</div>"
      ],
      "text/plain": [
       "                                       url           user_head  \\\n",
       "17  https://www.linkedin.com/in/dm-bychkov            frontend   \n",
       "21      https://www.linkedin.com/in/iredun             backend   \n",
       "22  https://www.linkedin.com/in/nickkharin  lead test engineer   \n",
       "38  https://www.linkedin.com/in/4rontender            frontend   \n",
       "41    https://www.linkedin.com/in/ankhanhi         ML engineer   \n",
       "\n",
       "                       user_name  \\\n",
       "17             Dmitrii Bychkov ✅   \n",
       "21                    Иван Редун   \n",
       "22                Nikolay Kharin   \n",
       "38  Rinat (4rontender) Valiullov   \n",
       "41                      Анна Хан   \n",
       "\n",
       "                                                                                        user_tags  \\\n",
       "17  Frontend Web Developer | JavaScript | TypeScript | React | Redux | HTML | CSS | Node.js | SQL   \n",
       "21                                                                       Backend Python developer   \n",
       "22                                              Big Data Engineer | Lead Test Automation Engineer   \n",
       "38                                                                             Frontend Developer   \n",
       "41                                                         Data scientist | Analyst | ML-engineer   \n",
       "\n",
       "                                                                                   user_work  \\\n",
       "17                                                                            SmartMechanica   \n",
       "21                                                                              SITRONICS IT   \n",
       "22                                                                                  Quantori   \n",
       "38                                   Пермский Государственный Технический Университет (ПГТУ)   \n",
       "41  Московский Государственный Институт Электронной Техники (Технический Университет) (МИЭТ)   \n",
       "\n",
       "                                                                                                                                                                                                                                                                                                                                                                                                                                                                                                                                                                                                                                                                                                                                                                                                                                                                                                                                                                                                                                                                                                                                                                                                                                                                                                                                                                                                                                                                                                                                                                                                                                                                                                                                                                                                                                                         user_common_info  \\\n",
       "17                                                                                                                                                                                                                                                                                                                                                                             Всем привет!)Меня зовут Дмитрий.Я Frontend разработчик.Я люблю новые технологии, свободное время посвящаю изучению нового стека.Мне нравится анализировать все, что происходит вокруг меня, и обдумывать различные ветки сценариев моих действий в поиске самого эффективного решения.Мой стек:- Frontend: JavaScript, React, Redux Toolkit, HTML, CSS, SCSS- Backend: Node.js, Express.js, PostgreSQL, SQLite, Sequelize- Работа с REST API, Git, Webpack, Jest, AJAXОсваиваю: TypeScript, Prizma, RedisСтремлюсь работать в развивающейся компании, с комфортной командой.Для меня важно развиваться и чувствовать профессиональный рост.Мои контакты:+7 (926) 275-61-85jsmaildm@gmail.comhttps://t.me/Bychkow_DmitriiВсем привет!)\\n\\nМеня зовут Дмитрий.\\nЯ Frontend разработчик.\\n\\nЯ люблю новые технологии, свободное время посвящаю изучению нового стека.\\nМне нравится анализировать все, что происходит вокруг меня, и обдумывать различные ветки сценариев моих действий в поиске самого эффективного решения.\\n\\nМой стек:\\n- Frontend: JavaScript, React, Redux Toolkit, HTML, CSS, SCSS\\n- Backend: Node.js, Express.js, PostgreSQL, SQLite, Sequelize\\n- Работа с REST API, Git, Webpack, Jest, AJAX\\nОсваиваю: TypeScript, Prizma, Redis\\n\\nСтремлюсь работать в развивающейся компании, с комфортной командой.\\nДля меня важно развиваться и чувствовать профессиональный рост.\\n\\nМои контакты:\\n\\n+7 (926) 275-61-85\\njsmaildm@gmail.com\\nhttps://t.me/Bychkow_Dmitrii   \n",
       "21                                                                                                                                                                                                                                                                                                                                                                                                                                                                                                                                                                                                                                                                                                                                                                                                                                                                                                                                                                                                                                                                                                                                                                                                                                                                                                                                                                                                                                                                                                                                                                                                                                                                                                   - Всё что нас не убивает, делает сильнее?- То добавляет ещё одну строчку в резюме- Всё что нас не убивает, делает сильнее?\\n- То добавляет ещё одну строчку в резюме   \n",
       "22                                                                                                                                                                                                                                                                                                                                                                                                                                                                                                                                                                                                                                                                                                                                                                                                                                                                                                                                                                                                                                                                                                                                                                                                                                                                                                                          Big Data engineer with a background in Python, its libraries and frameworks;BS in Programming Engineering;Proficient in SQL;Certified in data science;Hands-on experience in creating and working with DWHs, Big Data processes and automation testingBig Data engineer with a background in Python, its libraries and frameworks;\\nBS in Programming Engineering;\\nProficient in SQL;\\nCertified in data science;\\nHands-on experience in creating and working with DWHs, Big Data processes and automation testing\\n\\n \\n          …См. еще   \n",
       "38                                                                                                                                                                                                                                                                                                                                                                                                                                                                                                                                                                                                                                                                                                                                                                                                                                                                                                                                                                                                                                                                                                                                                                                                                                                                                                                                                                                                                                                                                                                                                                                                                                                                                                 Меняйте ваши мнения, сохраняйте принципы: меняйте листья, сохраняйте корни. В. ГюгоМеняйте ваши мнения, сохраняйте принципы: меняйте листья, сохраняйте корни. В. Гюго   \n",
       "41  👋 Привет! Я студентка 3 курса программной инженерии и развивающийся DS-специалист.🔑 Ключевые навыки:- Понимание различных методов машинного обучения, таких как SVM/регрессия, иерархическая кластеризация, дерево решений, нейронные сети и NLP- Уверенное знание статистических методов и принципов А/Б тестирования- Активное участие в хакатонах и конференциях по data science- Опыт создания и публикации технических статей в области машинного обучения🛠 Технологии, которые я использую:- Python с использованием библиотек Pandas, Numpy, Seaborn, Matplotlib и Scikit-learn, PyTorch для разработки моделей машинного обучения- SQL и базы данных PostgreSQL, MySQL и ClickHouse- Bash для автоматизации рутинных задач- Redash для визуализации данных и обнаружения скрытых закономерностей и трендов.- MLflow и FastAPI для комплексной разработки и мониторинга моделей машинного обучения👋 Привет! Я студентка 3 курса программной инженерии и развивающийся DS-специалист.\\n\\n🔑 Ключевые навыки:\\n- Понимание различных методов машинного обучения, таких как SVM/регрессия, иерархическая кластеризация, дерево решений, нейронные сети и NLP\\n- Уверенное знание статистических методов и принципов А/Б тестирования\\n- Активное участие в хакатонах и конференциях по data science\\n- Опыт создания и публикации технических статей в области машинного обучения\\n\\n🛠 Технологии, которые я использую:\\n- Python с использованием библиотек Pandas, Numpy, Seaborn, Matplotlib и Scikit-learn, PyTorch для разработки моделей машинного обучения\\n- SQL и базы данных PostgreSQL, MySQL и ClickHouse\\n- Bash для автоматизации рутинных задач\\n- Redash для визуализации данных и обнаружения скрытых закономерностей и трендов.\\n- MLflow и FastAPI для комплексной разработки и мониторинга моделей машинного обучения\\n\\n \\n          …См. еще   \n",
       "\n",
       "    user_experience                            user_location  \\\n",
       "17              3.0                   Москва, Москва, Россия   \n",
       "21             11.0  Ставрополь, Ставропольский край, Россия   \n",
       "22              6.0                  Ереван, Ереван, Армения   \n",
       "38              8.0             Пермь, Пермский край, Россия   \n",
       "41              2.0                   Москва, Москва, Россия   \n",
       "\n",
       "                                                                                                                                                                                                                                                                                                                                                                                                                                                                                                                                                                                                                                                                                                                                                                                                                                                                                                                                                                                                                                                                                                                                                                                                                                                                                                                                                        post  \\\n",
       "17                                                                                                                                                                                                                                                                                                                                                                                                                                                                                                                                                                                                                                                                                                                                                                                                                                  #Redux Architecture - PART 01The Redux is basically Cross-Component Management and App-Wide State Management, also called General State Management.With the Redux, we can share data from parent to child, sibling components or components that are not even related to each other, avoiding the re-rendering issue in #React.Here is everything you need to know about Redux Architecture, but theoretically.In the next post, we'll build the Redux Architecture to manage general state(s).#react #redux #javascript   \n",
       "21  I see, that it is a permanently growing demand for mentoring nowadays. After 10 years working experience I believe that I have enough to share from my expertise. And I'm ready to take 1-2 persons for mentoring for free - just as small New Year Present :)How can I help:- for people who don't find their path yet - I can take an advice and route you to the right direction;- for people who already works in Product/Project management and would like to grow - we will find your points of growth;- for people who is already grown but met some challenging issues  - we can discuss and have a brainstorm together.Format: 3-4 one-hour sessions + support in chat.You are welcome!Вижу, что сильно возрос запрос на менторинг, и я подумала - а почему нет? Спустя 10 лет опыта мне есть, чем поделиться. Готова взять 1-2 человек на менторинг в качестве новогодней акции бесплатно!Чем я могу помочь:- для тех, кто ещё не нашёл своё призвание - подскажу и направлю, где вы сможете применить свои способности и навыки;- для тех, кто уже работает в продуктовом или проджектовом менеджменте и хочет расти - вместе найдём ваши точки роста;- для тех, кто уже вырос, но столкнулся со сложными задачами - я могу обсудить и побрейнштормить вместе с вами.Формат: 3-4 часовых сессии + поддержка в чате.Желающих велкам в личку :)   \n",
       "22                                                                                                                                                                                                                                                                                                                                                                                                                                                                                                                                                                                                                                                                                                                                                                                                                                                                                                                                                                                                                                                                                                                                                                   ✅ ‼️ Инструкция по написанию Резюме и Cover Letter от Гарвардского Университета ‼️ ✅#linkedin #cvwriting #jobsearch #freecourses #linkedinhacks  #cv #university #coverletter #linkedin   \n",
       "38                                                                                                                                                                                                                                                                                                                                      Use React? Render large lists efficiently with react-window: https://lnkd.in/etNN94TH ~ a small library for virtualizing lists & grids. Renders what users can see vs. all your items at once.If you've used React Virtualized for this before, it's by the same author Brian Vaughn, (but is far smaller) and a better fit if targeting mobile web given the smaller library size. A quick Movies demo using react-window can be found here: https://lnkd.in/edAK3HR8I've enjoyed using react-window on a few projects where list virtualization was a better fit for the UX. There are of course trade-offs with infinite scrolling patterns like this (e.g. with CLS, Load More) and I've written about them here: https://lnkd.in/eQc8mGQyIn case you're interested in learning more about list virtualization in React with plenty of examples, there's a great guide over on web(dot)dev too by Houssein Djirdeh and Jason Miller: https://lnkd.in/erqqabkV :)#softwareengineering #javascript #webdevelopment   \n",
       "41                                                                                                                                                                                                                                                                                                                                                                                                                                                                                                                                                                                                                                                                                         Решаю недавно выпущенный ML-симулятор от karpov.courses.Проект анонсирован как набор практических задач, с которыми ml инженер действительно может столкнуться в своей работе. Пока что описание полностью себя оправдывает. Минимум теории, максимум практики. Три моих курса в университете сформировали какой-никакой бэкграунд, поэтому кейсы даются, хотя и не с лету. Служба поддержки в Discord помогает в особенно трудных моментах, но именно, что подсказывает, а не решает за тебя.В планах - закончить Intern и Junior уровни. Задачки интересные, может и в Middle что-нибудь решу :))#simulator_ml #karpovcourses #datascience #machinelearning #ml   \n",
       "\n",
       "    likes  comments  reposts  \n",
       "17    6.0       1.0      7.0  \n",
       "21    2.0       3.0      2.0  \n",
       "22    4.0       6.0      7.0  \n",
       "38    9.0       5.0      4.0  \n",
       "41    8.0       2.0      1.0  "
      ]
     },
     "metadata": {},
     "output_type": "display_data"
    },
    {
     "data": {
      "text/html": [
       "<div>\n",
       "<style scoped>\n",
       "    .dataframe tbody tr th:only-of-type {\n",
       "        vertical-align: middle;\n",
       "    }\n",
       "\n",
       "    .dataframe tbody tr th {\n",
       "        vertical-align: top;\n",
       "    }\n",
       "\n",
       "    .dataframe thead th {\n",
       "        text-align: right;\n",
       "    }\n",
       "</style>\n",
       "<table border=\"1\" class=\"dataframe\">\n",
       "  <thead>\n",
       "    <tr style=\"text-align: right;\">\n",
       "      <th></th>\n",
       "      <th>url</th>\n",
       "      <th>user_head</th>\n",
       "      <th>user_name</th>\n",
       "      <th>user_tags</th>\n",
       "      <th>user_work</th>\n",
       "      <th>user_common_info</th>\n",
       "      <th>user_experience</th>\n",
       "      <th>user_location</th>\n",
       "      <th>post</th>\n",
       "      <th>likes</th>\n",
       "      <th>comments</th>\n",
       "      <th>reposts</th>\n",
       "    </tr>\n",
       "  </thead>\n",
       "  <tbody>\n",
       "    <tr>\n",
       "      <th>484</th>\n",
       "      <td>https://www.linkedin.com/in/alena-osokina</td>\n",
       "      <td>senior ML engineer</td>\n",
       "      <td>Alena Osokina</td>\n",
       "      <td>Senior Data Scientist | ML Engineer | Specialization Lead at Grid Dynamics</td>\n",
       "      <td>Grid Dynamics</td>\n",
       "      <td>Hello! I'm a software engineer and a data scientist with 7+ years of experience in total.My core skills &amp; tech:● Programming: Python, Java, SQL, C#● Research and calculations: MATLAB, Mathematica, LaTeX● Tools &amp; libraries: Keras, Tensorflow, PyTorch, Pandas, Jupyter, statsmodels, scikit-learn, OpenCV, Tesseract, NLTK● ML &amp; statistics: Time Series Forecast models, Autoregressive &amp; Risk Analysis, Computer Vision ● Deep learning: fully connected NN, CNN, RNN &amp; LSTM, Transformers, Encoder-Decoder networks● Cloud &amp; Big Data: Azure Databricks, GCP, AWS, pySpark, DockerWorked on a wide range of IT-connected areas: from IT team leadership and developing end-to-end ML solutions to teaching and financial analysis.Hello! \\nI'm a software engineer and a data scientist with 7+ years of experience in total.\\n\\nMy core skills &amp; tech:\\n● Programming: Python, Java, SQL, C#\\n● Research and calculations: MATLAB, Mathematica, LaTeX\\n● Tools &amp; libraries: Keras, Tensorflow, PyTorch, Pandas, Jupyter, statsmodels, scikit-learn, OpenCV, Tesseract, NLTK\\n● ML &amp; statistics: Time Series Forecast models, Autoregressive &amp; Risk Analysis, Computer Vision \\n● Deep learning: fully connected NN, CNN, RNN &amp; LSTM, Transformers, Encoder-Decoder networks\\n● Cloud &amp; Big Data: Azure Databricks, GCP, AWS, pySpark, Docker\\n\\nWorked on a wide range of IT-connected areas: from IT team leadership and developing end-to-end ML solutions to teaching and financial analysis.</td>\n",
       "      <td>8.0</td>\n",
       "      <td>Сербия</td>\n",
       "      <td>Hi everyone - I am opened for new opportunities. I'm proficient in developing test frameworks from scratch on Python language, but I also have an experience in Groovy and Java languages.Thank you in advance for any connections, advice, or opportunities you can offer. #OpenToWork</td>\n",
       "      <td>5.0</td>\n",
       "      <td>3.0</td>\n",
       "      <td>3.0</td>\n",
       "    </tr>\n",
       "    <tr>\n",
       "      <th>487</th>\n",
       "      <td>https://www.linkedin.com/in/aleksey-knyazev-a25714125</td>\n",
       "      <td>lead web developer</td>\n",
       "      <td>Aleksey Knyazev</td>\n",
       "      <td>Lead Frontend Developer (Remote)</td>\n",
       "      <td>ggCircuit</td>\n",
       "      <td>(Please note - I'm not looking for a job at the moment)I’m a lead frontend developer specializing in Angular with solid fullstack background. Have experience of working on large scale projects building frontend architecture and managing frontend team.I have participated in every stage of web application development from designing architecture to building flexible environment for deploying and delivering clients’ products. Thus, I know exactly how to help your project be successful.My main skills are:Frontend:- Angular- RxJS/NgRX/NgXS/Nx- ES5/ES6, Typescript- SCSS, LESSBackend:- NodeJS- Python (Django)- Java (Spring)- MySQL, Postgresql- MongoDBDeployment/CI:- Docker- Jira, Jenkins, CircleCIFavorite Practices: - Scrum, TDD/BDD- Git-Flow, Continuous Integration- Modular architecture, MonoreposPreferences:- Looking for full-time job or part-time consultant job- Looking for remote job only(Please note - I'm not looking for a job at the moment)\\n\\nI’m a lead frontend developer specializing in Angular with solid fullstack background. Have experience of working on large scale projects building frontend architecture and managing frontend team.\\n\\nI have participated in every stage of web application development from designing architecture to building flexible environment for deploying and delivering clients’ products. Thus, I know exactly how to help your project be successful.\\n\\nMy main skills are:\\n\\nFrontend:\\n- Angular\\n- RxJS/NgRX/NgXS/Nx\\n- ES5/ES6, Typescript\\n- SCSS, LESS\\n\\nBackend:\\n- NodeJS\\n- Python (Django)\\n- Java (Spring)\\n- MySQL, Postgresql\\n- MongoDB\\n\\nDeployment/CI:\\n- Docker\\n- Jira, Jenkins, CircleCI\\n\\nFavorite Practices: \\n- Scrum, TDD/BDD\\n- Git-Flow, Continuous Integration\\n- Modular architecture, Monorepos\\n\\nPreferences:\\n- Looking for full-time job or part-time consultant job\\n- Looking for remote job only\\n\\n \\n          …См. еще</td>\n",
       "      <td>8.0</td>\n",
       "      <td>Россия</td>\n",
       "      <td>Hello everyone! I'm looking for a job and I’d appreciate your support. Only 100% remote options but flexible in-person at certain times.For the referral, I'll invite you to some beers 🍻 😜If you could share and/or comment to interested people, I’d really appreciate it 🤗 #job #opportunity #OpenToWork-----¡Hola a todos! Estoy buscando empleo y os agradecería el apoyo. Sólo opciones remoto 100% aunque, flexible en lo presencial \"puntualmente\" hablando.Por el referral os invito a unas cervezas 🍻 😜 Si pudieráis compartir y/o comentadlo a interesad@s os lo agradecería 🤗 #empleo #oportunidad #OpenToWork</td>\n",
       "      <td>5.0</td>\n",
       "      <td>7.0</td>\n",
       "      <td>7.0</td>\n",
       "    </tr>\n",
       "    <tr>\n",
       "      <th>489</th>\n",
       "      <td>https://www.linkedin.com/in/dm-bychkov</td>\n",
       "      <td>frontend</td>\n",
       "      <td>Dmitrii Bychkov ✅</td>\n",
       "      <td>Frontend Web Developer | JavaScript | TypeScript | React | Redux | HTML | CSS | Node.js | SQL</td>\n",
       "      <td>SmartMechanica</td>\n",
       "      <td>Всем привет!)Меня зовут Дмитрий.Я Frontend разработчик.Я люблю новые технологии, свободное время посвящаю изучению нового стека.Мне нравится анализировать все, что происходит вокруг меня, и обдумывать различные ветки сценариев моих действий в поиске самого эффективного решения.Мой стек:- Frontend: JavaScript, React, Redux Toolkit, HTML, CSS, SCSS- Backend: Node.js, Express.js, PostgreSQL, SQLite, Sequelize- Работа с REST API, Git, Webpack, Jest, AJAXОсваиваю: TypeScript, Prizma, RedisСтремлюсь работать в развивающейся компании, с комфортной командой.Для меня важно развиваться и чувствовать профессиональный рост.Мои контакты:+7 (926) 275-61-85jsmaildm@gmail.comhttps://t.me/Bychkow_DmitriiВсем привет!)\\n\\nМеня зовут Дмитрий.\\nЯ Frontend разработчик.\\n\\nЯ люблю новые технологии, свободное время посвящаю изучению нового стека.\\nМне нравится анализировать все, что происходит вокруг меня, и обдумывать различные ветки сценариев моих действий в поиске самого эффективного решения.\\n\\nМой стек:\\n- Frontend: JavaScript, React, Redux Toolkit, HTML, CSS, SCSS\\n- Backend: Node.js, Express.js, PostgreSQL, SQLite, Sequelize\\n- Работа с REST API, Git, Webpack, Jest, AJAX\\nОсваиваю: TypeScript, Prizma, Redis\\n\\nСтремлюсь работать в развивающейся компании, с комфортной командой.\\nДля меня важно развиваться и чувствовать профессиональный рост.\\n\\nМои контакты:\\n\\n+7 (926) 275-61-85\\njsmaildm@gmail.com\\nhttps://t.me/Bychkow_Dmitrii</td>\n",
       "      <td>3.0</td>\n",
       "      <td>Москва, Москва, Россия</td>\n",
       "      <td>👉 𝗛𝗧𝗠𝗟 𝗖𝗼𝗺𝗽𝗹𝗲𝘁𝗲 𝗡𝗼𝘁𝗲𝘀 , 𝗘𝗮𝘀𝘆 𝘁𝗼 𝗹𝗲𝗮𝗿𝗻 .👉Follow Rushika Rai  for more .👉Follow Rushika Rai  for more .credits : Developer Updates#programming #programmer #coding #coder #code #web #website #design #designer #development #developer #webdesign #webdesigner #webdevelopment #webdeveloper #frontend #backend #frontenddeveloper #backenddeveloper #html5 #html #css3 #css #javascript #js #reactjs #engineering #engineer #software #developer</td>\n",
       "      <td>4.0</td>\n",
       "      <td>4.0</td>\n",
       "      <td>9.0</td>\n",
       "    </tr>\n",
       "    <tr>\n",
       "      <th>491</th>\n",
       "      <td>https://www.linkedin.com/in/dm-bychkov</td>\n",
       "      <td>frontend</td>\n",
       "      <td>Dmitrii Bychkov ✅</td>\n",
       "      <td>Frontend Web Developer | JavaScript | TypeScript | React | Redux | HTML | CSS | Node.js | SQL</td>\n",
       "      <td>SmartMechanica</td>\n",
       "      <td>Всем привет!)Меня зовут Дмитрий.Я Frontend разработчик.Я люблю новые технологии, свободное время посвящаю изучению нового стека.Мне нравится анализировать все, что происходит вокруг меня, и обдумывать различные ветки сценариев моих действий в поиске самого эффективного решения.Мой стек:- Frontend: JavaScript, React, Redux Toolkit, HTML, CSS, SCSS- Backend: Node.js, Express.js, PostgreSQL, SQLite, Sequelize- Работа с REST API, Git, Webpack, Jest, AJAXОсваиваю: TypeScript, Prizma, RedisСтремлюсь работать в развивающейся компании, с комфортной командой.Для меня важно развиваться и чувствовать профессиональный рост.Мои контакты:+7 (926) 275-61-85jsmaildm@gmail.comhttps://t.me/Bychkow_DmitriiВсем привет!)\\n\\nМеня зовут Дмитрий.\\nЯ Frontend разработчик.\\n\\nЯ люблю новые технологии, свободное время посвящаю изучению нового стека.\\nМне нравится анализировать все, что происходит вокруг меня, и обдумывать различные ветки сценариев моих действий в поиске самого эффективного решения.\\n\\nМой стек:\\n- Frontend: JavaScript, React, Redux Toolkit, HTML, CSS, SCSS\\n- Backend: Node.js, Express.js, PostgreSQL, SQLite, Sequelize\\n- Работа с REST API, Git, Webpack, Jest, AJAX\\nОсваиваю: TypeScript, Prizma, Redis\\n\\nСтремлюсь работать в развивающейся компании, с комфортной командой.\\nДля меня важно развиваться и чувствовать профессиональный рост.\\n\\nМои контакты:\\n\\n+7 (926) 275-61-85\\njsmaildm@gmail.com\\nhttps://t.me/Bychkow_Dmitrii</td>\n",
       "      <td>3.0</td>\n",
       "      <td>Москва, Москва, Россия</td>\n",
       "      <td>JavaScript Array Methods CheatSheet 📍This will help you to understand the JavaScript Array Methods in an easier way.Follow Manish Kumar Shah for more such content.Credits: Ram Maheshwari ⚡#html #css #javascript #webdevelopment #programming #javascriptdeveloper #coding #codingpractices #softwareengineer #softwaredeveloper #webdesigner #programmers #linkedin</td>\n",
       "      <td>7.0</td>\n",
       "      <td>4.0</td>\n",
       "      <td>7.0</td>\n",
       "    </tr>\n",
       "    <tr>\n",
       "      <th>499</th>\n",
       "      <td>https://www.linkedin.com/in/alena-krupennikova-7b6376278</td>\n",
       "      <td>frontend</td>\n",
       "      <td>Alena Krupennikova</td>\n",
       "      <td>Frontend Dev  •  JavaScript  •  TypeScript • React  •  Redux  •  React Native</td>\n",
       "      <td>Smart Kids</td>\n",
       "      <td>Любознательный Frontend-разработчик с 3-х летним опытом работы. Закончила филологический факультет по специальности «учитель русского языка и литературы», чтобы стилистически, орфографически и грамматически правильно оставлять комментарии в коде.Мой стек: JavaScript, TypeScript, React, Redux Toolkit, HTML5, CSS3, Node.js, Express, Sessions, Bcrypt, PostgreSQL, Sequelize ORM, Slack, Trello, Miro.В настоящее время знакомлюсь со Vue.js, а также меня вдохновляют работы Бруно Симона, поэтому я активно изучаю three.js.Telegram: https://t.me/krupeshaaaТелефон: +7 999 813 50 98Любознательный Frontend-разработчик с 3-х летним опытом работы. Закончила филологический факультет по специальности «учитель русского языка и литературы», чтобы стилистически, орфографически и грамматически правильно оставлять комментарии в коде.\\n\\nМой стек: JavaScript, TypeScript, React, Redux Toolkit, HTML5, CSS3, Node.js, Express, Sessions, Bcrypt, PostgreSQL, Sequelize ORM, Slack, Trello, Miro.\\n\\nВ настоящее время знакомлюсь со Vue.js, а также меня вдохновляют работы Бруно Симона, поэтому я активно изучаю three.js.\\n\\nTelegram: https://t.me/krupeshaaa\\nТелефон: +7 999 813 50 98\\n\\n \\n          …См. еще</td>\n",
       "      <td>3.0</td>\n",
       "      <td>Москва, Москва, Россия</td>\n",
       "      <td>Здравствуйте, я в поиске новой карьерной возможности и буду признателен(а) за вашу поддержку. Заранее благодарю за все рекомендации контактов, советы или возможности, которые вы можете предложить. #OpenToWork</td>\n",
       "      <td>2.0</td>\n",
       "      <td>4.0</td>\n",
       "      <td>1.0</td>\n",
       "    </tr>\n",
       "  </tbody>\n",
       "</table>\n",
       "</div>"
      ],
      "text/plain": [
       "                                                          url  \\\n",
       "484                 https://www.linkedin.com/in/alena-osokina   \n",
       "487     https://www.linkedin.com/in/aleksey-knyazev-a25714125   \n",
       "489                    https://www.linkedin.com/in/dm-bychkov   \n",
       "491                    https://www.linkedin.com/in/dm-bychkov   \n",
       "499  https://www.linkedin.com/in/alena-krupennikova-7b6376278   \n",
       "\n",
       "              user_head           user_name  \\\n",
       "484  senior ML engineer       Alena Osokina   \n",
       "487  lead web developer     Aleksey Knyazev   \n",
       "489            frontend   Dmitrii Bychkov ✅   \n",
       "491            frontend   Dmitrii Bychkov ✅   \n",
       "499            frontend  Alena Krupennikova   \n",
       "\n",
       "                                                                                         user_tags  \\\n",
       "484                     Senior Data Scientist | ML Engineer | Specialization Lead at Grid Dynamics   \n",
       "487                                                               Lead Frontend Developer (Remote)   \n",
       "489  Frontend Web Developer | JavaScript | TypeScript | React | Redux | HTML | CSS | Node.js | SQL   \n",
       "491  Frontend Web Developer | JavaScript | TypeScript | React | Redux | HTML | CSS | Node.js | SQL   \n",
       "499                  Frontend Dev  •  JavaScript  •  TypeScript • React  •  Redux  •  React Native   \n",
       "\n",
       "          user_work  \\\n",
       "484   Grid Dynamics   \n",
       "487       ggCircuit   \n",
       "489  SmartMechanica   \n",
       "491  SmartMechanica   \n",
       "499      Smart Kids   \n",
       "\n",
       "                                                                                                                                                                                                                                                                                                                                                                                                                                                                                                                                                                                                                                                                                                                                                                                                                                                                                                                                                                                                                                                                                                                                                                                                                                                                                                                                                                                                                                                                                                                                                                                                                                                                                                                                                                                                                                                                                                                                                user_common_info  \\\n",
       "484                                                                                                                                                                                                                                                                                                                                                                                                                                                     Hello! I'm a software engineer and a data scientist with 7+ years of experience in total.My core skills & tech:● Programming: Python, Java, SQL, C#● Research and calculations: MATLAB, Mathematica, LaTeX● Tools & libraries: Keras, Tensorflow, PyTorch, Pandas, Jupyter, statsmodels, scikit-learn, OpenCV, Tesseract, NLTK● ML & statistics: Time Series Forecast models, Autoregressive & Risk Analysis, Computer Vision ● Deep learning: fully connected NN, CNN, RNN & LSTM, Transformers, Encoder-Decoder networks● Cloud & Big Data: Azure Databricks, GCP, AWS, pySpark, DockerWorked on a wide range of IT-connected areas: from IT team leadership and developing end-to-end ML solutions to teaching and financial analysis.Hello! \\nI'm a software engineer and a data scientist with 7+ years of experience in total.\\n\\nMy core skills & tech:\\n● Programming: Python, Java, SQL, C#\\n● Research and calculations: MATLAB, Mathematica, LaTeX\\n● Tools & libraries: Keras, Tensorflow, PyTorch, Pandas, Jupyter, statsmodels, scikit-learn, OpenCV, Tesseract, NLTK\\n● ML & statistics: Time Series Forecast models, Autoregressive & Risk Analysis, Computer Vision \\n● Deep learning: fully connected NN, CNN, RNN & LSTM, Transformers, Encoder-Decoder networks\\n● Cloud & Big Data: Azure Databricks, GCP, AWS, pySpark, Docker\\n\\nWorked on a wide range of IT-connected areas: from IT team leadership and developing end-to-end ML solutions to teaching and financial analysis.   \n",
       "487  (Please note - I'm not looking for a job at the moment)I’m a lead frontend developer specializing in Angular with solid fullstack background. Have experience of working on large scale projects building frontend architecture and managing frontend team.I have participated in every stage of web application development from designing architecture to building flexible environment for deploying and delivering clients’ products. Thus, I know exactly how to help your project be successful.My main skills are:Frontend:- Angular- RxJS/NgRX/NgXS/Nx- ES5/ES6, Typescript- SCSS, LESSBackend:- NodeJS- Python (Django)- Java (Spring)- MySQL, Postgresql- MongoDBDeployment/CI:- Docker- Jira, Jenkins, CircleCIFavorite Practices: - Scrum, TDD/BDD- Git-Flow, Continuous Integration- Modular architecture, MonoreposPreferences:- Looking for full-time job or part-time consultant job- Looking for remote job only(Please note - I'm not looking for a job at the moment)\\n\\nI’m a lead frontend developer specializing in Angular with solid fullstack background. Have experience of working on large scale projects building frontend architecture and managing frontend team.\\n\\nI have participated in every stage of web application development from designing architecture to building flexible environment for deploying and delivering clients’ products. Thus, I know exactly how to help your project be successful.\\n\\nMy main skills are:\\n\\nFrontend:\\n- Angular\\n- RxJS/NgRX/NgXS/Nx\\n- ES5/ES6, Typescript\\n- SCSS, LESS\\n\\nBackend:\\n- NodeJS\\n- Python (Django)\\n- Java (Spring)\\n- MySQL, Postgresql\\n- MongoDB\\n\\nDeployment/CI:\\n- Docker\\n- Jira, Jenkins, CircleCI\\n\\nFavorite Practices: \\n- Scrum, TDD/BDD\\n- Git-Flow, Continuous Integration\\n- Modular architecture, Monorepos\\n\\nPreferences:\\n- Looking for full-time job or part-time consultant job\\n- Looking for remote job only\\n\\n \\n          …См. еще   \n",
       "489                                                                                                                                                                                                                                                                                                                                                                                                                                                                   Всем привет!)Меня зовут Дмитрий.Я Frontend разработчик.Я люблю новые технологии, свободное время посвящаю изучению нового стека.Мне нравится анализировать все, что происходит вокруг меня, и обдумывать различные ветки сценариев моих действий в поиске самого эффективного решения.Мой стек:- Frontend: JavaScript, React, Redux Toolkit, HTML, CSS, SCSS- Backend: Node.js, Express.js, PostgreSQL, SQLite, Sequelize- Работа с REST API, Git, Webpack, Jest, AJAXОсваиваю: TypeScript, Prizma, RedisСтремлюсь работать в развивающейся компании, с комфортной командой.Для меня важно развиваться и чувствовать профессиональный рост.Мои контакты:+7 (926) 275-61-85jsmaildm@gmail.comhttps://t.me/Bychkow_DmitriiВсем привет!)\\n\\nМеня зовут Дмитрий.\\nЯ Frontend разработчик.\\n\\nЯ люблю новые технологии, свободное время посвящаю изучению нового стека.\\nМне нравится анализировать все, что происходит вокруг меня, и обдумывать различные ветки сценариев моих действий в поиске самого эффективного решения.\\n\\nМой стек:\\n- Frontend: JavaScript, React, Redux Toolkit, HTML, CSS, SCSS\\n- Backend: Node.js, Express.js, PostgreSQL, SQLite, Sequelize\\n- Работа с REST API, Git, Webpack, Jest, AJAX\\nОсваиваю: TypeScript, Prizma, Redis\\n\\nСтремлюсь работать в развивающейся компании, с комфортной командой.\\nДля меня важно развиваться и чувствовать профессиональный рост.\\n\\nМои контакты:\\n\\n+7 (926) 275-61-85\\njsmaildm@gmail.com\\nhttps://t.me/Bychkow_Dmitrii   \n",
       "491                                                                                                                                                                                                                                                                                                                                                                                                                                                                   Всем привет!)Меня зовут Дмитрий.Я Frontend разработчик.Я люблю новые технологии, свободное время посвящаю изучению нового стека.Мне нравится анализировать все, что происходит вокруг меня, и обдумывать различные ветки сценариев моих действий в поиске самого эффективного решения.Мой стек:- Frontend: JavaScript, React, Redux Toolkit, HTML, CSS, SCSS- Backend: Node.js, Express.js, PostgreSQL, SQLite, Sequelize- Работа с REST API, Git, Webpack, Jest, AJAXОсваиваю: TypeScript, Prizma, RedisСтремлюсь работать в развивающейся компании, с комфортной командой.Для меня важно развиваться и чувствовать профессиональный рост.Мои контакты:+7 (926) 275-61-85jsmaildm@gmail.comhttps://t.me/Bychkow_DmitriiВсем привет!)\\n\\nМеня зовут Дмитрий.\\nЯ Frontend разработчик.\\n\\nЯ люблю новые технологии, свободное время посвящаю изучению нового стека.\\nМне нравится анализировать все, что происходит вокруг меня, и обдумывать различные ветки сценариев моих действий в поиске самого эффективного решения.\\n\\nМой стек:\\n- Frontend: JavaScript, React, Redux Toolkit, HTML, CSS, SCSS\\n- Backend: Node.js, Express.js, PostgreSQL, SQLite, Sequelize\\n- Работа с REST API, Git, Webpack, Jest, AJAX\\nОсваиваю: TypeScript, Prizma, Redis\\n\\nСтремлюсь работать в развивающейся компании, с комфортной командой.\\nДля меня важно развиваться и чувствовать профессиональный рост.\\n\\nМои контакты:\\n\\n+7 (926) 275-61-85\\njsmaildm@gmail.com\\nhttps://t.me/Bychkow_Dmitrii   \n",
       "499                                                                                                                                                                                                                                                                                                                                                                                                                                                                                                                                                                                                                                                                                                                      Любознательный Frontend-разработчик с 3-х летним опытом работы. Закончила филологический факультет по специальности «учитель русского языка и литературы», чтобы стилистически, орфографически и грамматически правильно оставлять комментарии в коде.Мой стек: JavaScript, TypeScript, React, Redux Toolkit, HTML5, CSS3, Node.js, Express, Sessions, Bcrypt, PostgreSQL, Sequelize ORM, Slack, Trello, Miro.В настоящее время знакомлюсь со Vue.js, а также меня вдохновляют работы Бруно Симона, поэтому я активно изучаю three.js.Telegram: https://t.me/krupeshaaaТелефон: +7 999 813 50 98Любознательный Frontend-разработчик с 3-х летним опытом работы. Закончила филологический факультет по специальности «учитель русского языка и литературы», чтобы стилистически, орфографически и грамматически правильно оставлять комментарии в коде.\\n\\nМой стек: JavaScript, TypeScript, React, Redux Toolkit, HTML5, CSS3, Node.js, Express, Sessions, Bcrypt, PostgreSQL, Sequelize ORM, Slack, Trello, Miro.\\n\\nВ настоящее время знакомлюсь со Vue.js, а также меня вдохновляют работы Бруно Симона, поэтому я активно изучаю three.js.\\n\\nTelegram: https://t.me/krupeshaaa\\nТелефон: +7 999 813 50 98\\n\\n \\n          …См. еще   \n",
       "\n",
       "     user_experience           user_location  \\\n",
       "484              8.0                  Сербия   \n",
       "487              8.0                  Россия   \n",
       "489              3.0  Москва, Москва, Россия   \n",
       "491              3.0  Москва, Москва, Россия   \n",
       "499              3.0  Москва, Москва, Россия   \n",
       "\n",
       "                                                                                                                                                                                                                                                                                                                                                                                                                                                                                                                                                                                                                           post  \\\n",
       "484                                                                                                                                                                                                                                                                                                                                     Hi everyone - I am opened for new opportunities. I'm proficient in developing test frameworks from scratch on Python language, but I also have an experience in Groovy and Java languages.Thank you in advance for any connections, advice, or opportunities you can offer. #OpenToWork   \n",
       "487  Hello everyone! I'm looking for a job and I’d appreciate your support. Only 100% remote options but flexible in-person at certain times.For the referral, I'll invite you to some beers 🍻 😜If you could share and/or comment to interested people, I’d really appreciate it 🤗 #job #opportunity #OpenToWork-----¡Hola a todos! Estoy buscando empleo y os agradecería el apoyo. Sólo opciones remoto 100% aunque, flexible en lo presencial \"puntualmente\" hablando.Por el referral os invito a unas cervezas 🍻 😜 Si pudieráis compartir y/o comentadlo a interesad@s os lo agradecería 🤗 #empleo #oportunidad #OpenToWork   \n",
       "489                                                                                                                                                                            👉 𝗛𝗧𝗠𝗟 𝗖𝗼𝗺𝗽𝗹𝗲𝘁𝗲 𝗡𝗼𝘁𝗲𝘀 , 𝗘𝗮𝘀𝘆 𝘁𝗼 𝗹𝗲𝗮𝗿𝗻 .👉Follow Rushika Rai  for more .👉Follow Rushika Rai  for more .credits : Developer Updates#programming #programmer #coding #coder #code #web #website #design #designer #development #developer #webdesign #webdesigner #webdevelopment #webdeveloper #frontend #backend #frontenddeveloper #backenddeveloper #html5 #html #css3 #css #javascript #js #reactjs #engineering #engineer #software #developer   \n",
       "491                                                                                                                                                                                                                                                      JavaScript Array Methods CheatSheet 📍This will help you to understand the JavaScript Array Methods in an easier way.Follow Manish Kumar Shah for more such content.Credits: Ram Maheshwari ⚡#html #css #javascript #webdevelopment #programming #javascriptdeveloper #coding #codingpractices #softwareengineer #softwaredeveloper #webdesigner #programmers #linkedin   \n",
       "499                                                                                                                                                                                                                                                                                                                                                                                                            Здравствуйте, я в поиске новой карьерной возможности и буду признателен(а) за вашу поддержку. Заранее благодарю за все рекомендации контактов, советы или возможности, которые вы можете предложить. #OpenToWork   \n",
       "\n",
       "     likes  comments  reposts  \n",
       "484    5.0       3.0      3.0  \n",
       "487    5.0       7.0      7.0  \n",
       "489    4.0       4.0      9.0  \n",
       "491    7.0       4.0      7.0  \n",
       "499    2.0       4.0      1.0  "
      ]
     },
     "metadata": {},
     "output_type": "display_data"
    }
   ],
   "source": [
    "display(dataset_from_team_10.head())\n",
    "\n",
    "display(dataset_from_team_10.tail())"
   ]
  },
  {
   "cell_type": "markdown",
   "id": "8c5747d8",
   "metadata": {},
   "source": [
    "## Объединение датасетов по ключу url"
   ]
  },
  {
   "cell_type": "markdown",
   "id": "37adfd34",
   "metadata": {},
   "source": [
    "###### Примерный суммарный размер датасет (!без учета уникального ключа!)"
   ]
  },
  {
   "cell_type": "code",
   "execution_count": 50,
   "id": "f0d14b12",
   "metadata": {},
   "outputs": [
    {
     "name": "stdout",
     "output_type": "stream",
     "text": [
      "Суммарный размер датасет: (3628, 60)\n"
     ]
    }
   ],
   "source": [
    "shape_sum_dataset = (\n",
    "    dataset_from_team_2.shape[0] + dataset_from_team_3.shape[0] + dataset_from_team_4.shape[0] + dataset_from_team_8_1.shape[0] + dataset_from_team_8_2.shape[0] + dataset_from_team_10.shape[0],\n",
    "    dataset_from_team_2.shape[1] + dataset_from_team_3.shape[1] + dataset_from_team_4.shape[1] + dataset_from_team_8_1.shape[1] + dataset_from_team_8_2.shape[1] + dataset_from_team_10.shape[1]\n",
    ")\n",
    "print('Суммарный размер датасет:', shape_sum_dataset)"
   ]
  },
  {
   "cell_type": "markdown",
   "id": "457c7ba1",
   "metadata": {},
   "source": [
    "### Датафрейм 2 и 3 команды"
   ]
  },
  {
   "cell_type": "code",
   "execution_count": 51,
   "id": "296de194",
   "metadata": {},
   "outputs": [
    {
     "name": "stdout",
     "output_type": "stream",
     "text": [
      "Размер: (2486, 17)\n"
     ]
    }
   ],
   "source": [
    "# Объединяем датафреймы\n",
    "df = pd.merge(dataset_from_team_2, dataset_from_team_3, how='outer', suffixes=('_x', '_y'))\n",
    "\n",
    "print('Размер:', df.shape)"
   ]
  },
  {
   "cell_type": "code",
   "execution_count": 52,
   "id": "caf38474",
   "metadata": {},
   "outputs": [
    {
     "name": "stdout",
     "output_type": "stream",
     "text": [
      "<class 'pandas.core.frame.DataFrame'>\n",
      "RangeIndex: 2486 entries, 0 to 2485\n",
      "Data columns (total 17 columns):\n",
      " #   Column            Non-Null Count  Dtype  \n",
      "---  ------            --------------  -----  \n",
      " 0   user_id           2230 non-null   object \n",
      " 1   post              2486 non-null   object \n",
      " 2   likes             2479 non-null   float64\n",
      " 3   comments          2486 non-null   int64  \n",
      " 4   reposts           2486 non-null   int64  \n",
      " 5   hashtags          1427 non-null   object \n",
      " 6   post_lemmatized   2230 non-null   object \n",
      " 7   user_name         2486 non-null   object \n",
      " 8   user_head         2486 non-null   object \n",
      " 9   user_work         2398 non-null   object \n",
      " 10  user_position     2230 non-null   object \n",
      " 11  user_tags         575 non-null    object \n",
      " 12  user_location     2223 non-null   object \n",
      " 13  user_viewers      2230 non-null   object \n",
      " 14  user_contacts     2230 non-null   object \n",
      " 15  user_common_info  2043 non-null   object \n",
      " 16  url               256 non-null    object \n",
      "dtypes: float64(1), int64(2), object(14)\n",
      "memory usage: 330.3+ KB\n"
     ]
    }
   ],
   "source": [
    "df.info()"
   ]
  },
  {
   "cell_type": "code",
   "execution_count": 53,
   "id": "ea8889bc",
   "metadata": {},
   "outputs": [
    {
     "data": {
      "text/plain": [
       "user_id              256\n",
       "post                   0\n",
       "likes                  7\n",
       "comments               0\n",
       "reposts                0\n",
       "hashtags            1059\n",
       "post_lemmatized      256\n",
       "user_name              0\n",
       "user_head              0\n",
       "user_work             88\n",
       "user_position        256\n",
       "user_tags           1911\n",
       "user_location        263\n",
       "user_viewers         256\n",
       "user_contacts        256\n",
       "user_common_info     443\n",
       "url                 2230\n",
       "dtype: int64"
      ]
     },
     "execution_count": 53,
     "metadata": {},
     "output_type": "execute_result"
    }
   ],
   "source": [
    "df.isna().sum()"
   ]
  },
  {
   "cell_type": "code",
   "execution_count": 54,
   "id": "bb6a0478",
   "metadata": {},
   "outputs": [
    {
     "data": {
      "text/html": [
       "<div>\n",
       "<style scoped>\n",
       "    .dataframe tbody tr th:only-of-type {\n",
       "        vertical-align: middle;\n",
       "    }\n",
       "\n",
       "    .dataframe tbody tr th {\n",
       "        vertical-align: top;\n",
       "    }\n",
       "\n",
       "    .dataframe thead th {\n",
       "        text-align: right;\n",
       "    }\n",
       "</style>\n",
       "<table border=\"1\" class=\"dataframe\">\n",
       "  <thead>\n",
       "    <tr style=\"text-align: right;\">\n",
       "      <th></th>\n",
       "      <th>user_id</th>\n",
       "      <th>post</th>\n",
       "      <th>likes</th>\n",
       "      <th>comments</th>\n",
       "      <th>reposts</th>\n",
       "      <th>hashtags</th>\n",
       "      <th>post_lemmatized</th>\n",
       "      <th>user_name</th>\n",
       "      <th>user_head</th>\n",
       "      <th>user_work</th>\n",
       "      <th>user_position</th>\n",
       "      <th>user_tags</th>\n",
       "      <th>user_location</th>\n",
       "      <th>user_viewers</th>\n",
       "      <th>user_contacts</th>\n",
       "      <th>user_common_info</th>\n",
       "      <th>url</th>\n",
       "    </tr>\n",
       "  </thead>\n",
       "  <tbody>\n",
       "    <tr>\n",
       "      <th>347</th>\n",
       "      <td>pavelandronov</td>\n",
       "      <td>С одного из наших проектов освободилась крутая команда .Net.5 middle и 3 senior разработчиков.За плечами у коллег многолетний опыт работы над проектами крупнейших производственных и финансовых компаний РФ.За подробностями пишите в личку или в тг @andronovpa.#net #developer</td>\n",
       "      <td>10.0</td>\n",
       "      <td>0</td>\n",
       "      <td>1</td>\n",
       "      <td>net, developer</td>\n",
       "      <td>освободиться команда разработчиков плечо многолетний опыт крупный производственный финансовый рф</td>\n",
       "      <td>Pavel Andronov</td>\n",
       "      <td>IT solutions expert Russia and CIS | 15 years in B2B sales</td>\n",
       "      <td>CRMguru</td>\n",
       "      <td>Top skills</td>\n",
       "      <td>NaN</td>\n",
       "      <td>Moscow Metropolitan Area</td>\n",
       "      <td>2,091</td>\n",
       "      <td>500+</td>\n",
       "      <td>More than 15 years of experience in IT and Telecom industries.Expert with long experience in blockchain, telecom, B2B-sales, software, startups.Connecting people and businesses, solutions and problems.</td>\n",
       "      <td>NaN</td>\n",
       "    </tr>\n",
       "    <tr>\n",
       "      <th>2122</th>\n",
       "      <td>wildchlamydia</td>\n",
       "      <td>В ноябре 2022 выступил на конференции #Highload++ от имени нашей команды #LayerВ докладе рассказываю о том, как устроены наши сервисы и какие технологические решения мы приняли чтобы успевать отвечать на запросы и не докупать новые серверыСпасибо Maksim Kuprashevich за помощь в подготовке</td>\n",
       "      <td>12.0</td>\n",
       "      <td>0</td>\n",
       "      <td>1</td>\n",
       "      <td>Highload++, LayerВ</td>\n",
       "      <td>выступить конференция имя команда доклад устроить сервис технологический решение принять успевать отвечать запрос докупать серверыспасибо помощь подготовка</td>\n",
       "      <td>Maksim Kuprashevich</td>\n",
       "      <td>Computer Vision Team Leader – SberDevices</td>\n",
       "      <td>SberDevices</td>\n",
       "      <td>Computer Vision Team Leader</td>\n",
       "      <td>deeplearning, computervision, neuralnetworks, machinelearning, artificialintelligence</td>\n",
       "      <td>Санкт-Петербург, Санкт-Петербург, Россия</td>\n",
       "      <td>4 439</td>\n",
       "      <td>500+</td>\n",
       "      <td>Scientist and engineer in love with my work</td>\n",
       "      <td>NaN</td>\n",
       "    </tr>\n",
       "    <tr>\n",
       "      <th>2404</th>\n",
       "      <td>NaN</td>\n",
       "      <td>Всем привет! Я открыт к предложениям на позицию Frontend-разработчика. Люблю сложные задачи, имею большой опыт в адаптивной вёрстке, разработке функционала на основе JS, jQuery, React, Node. Буду рад вашим предложениям, репостам и рекомендациям.P. S. Даю согласие на адаптирование презентации под себя и дальнейшее её использование без указания имени автора ✌#opentowork #frontend #resume #ищуработу #фронтенд #резюме #rideItWeAreAllAlone #rideItJustLoseControl</td>\n",
       "      <td>0.0</td>\n",
       "      <td>0</td>\n",
       "      <td>0</td>\n",
       "      <td>NaN</td>\n",
       "      <td>NaN</td>\n",
       "      <td>Michael Pochkaylov</td>\n",
       "      <td>Head of Analytics</td>\n",
       "      <td>Sberbank</td>\n",
       "      <td>NaN</td>\n",
       "      <td>NaN</td>\n",
       "      <td>NaN</td>\n",
       "      <td>NaN</td>\n",
       "      <td>NaN</td>\n",
       "      <td>NaN</td>\n",
       "      <td>https://www.linkedin.com/in/michael-pochkaylov-2a5772128</td>\n",
       "    </tr>\n",
       "    <tr>\n",
       "      <th>2333</th>\n",
       "      <td>NaN</td>\n",
       "      <td>Hi everyone - I am looking for a new role and would appreciate your support. Thank you in advance for any connections, advice, or opportunities you can offer. #OpenToWork</td>\n",
       "      <td>11.0</td>\n",
       "      <td>0</td>\n",
       "      <td>1</td>\n",
       "      <td>NaN</td>\n",
       "      <td>NaN</td>\n",
       "      <td>Timur Rashitov</td>\n",
       "      <td>Data Scientist</td>\n",
       "      <td>Beeline Kazakhstan</td>\n",
       "      <td>NaN</td>\n",
       "      <td>NaN</td>\n",
       "      <td>NaN</td>\n",
       "      <td>NaN</td>\n",
       "      <td>NaN</td>\n",
       "      <td>NaN</td>\n",
       "      <td>https://www.linkedin.com/in/timurr1808</td>\n",
       "    </tr>\n",
       "    <tr>\n",
       "      <th>122</th>\n",
       "      <td>mikhailsolovyev</td>\n",
       "      <td>Любимая часть моей работы – находить новые компании и продукты, помогать им запуститься и наблюдать, как они развиваются в облаке. И да, наша с командой задача – чтобы всем партнерам с нами было удобно, легко и быстро. А еще выгодно. Сейчас у нас действует предложение – скидка 30% на виртуальную инфраструктуру для российских компаний-разработчиков и стартапов. Кому отправить подробности?#IT, #ИТ, #Виртуализация, #Виртуальная инфраструктура, #Cloud, #Стартапы, #ПО</td>\n",
       "      <td>13.0</td>\n",
       "      <td>0</td>\n",
       "      <td>2</td>\n",
       "      <td>IT,, ИТ,, Виртуализация,, Виртуальная, Cloud,, Стартапы,, ПО</td>\n",
       "      <td>любимый продукты помогать запуститься наблюдать развиваться облаке команда задача партнёр удобно быстро выгодно предложение скидка виртуальный инфраструктура разработчик стартапов отправить подробности инфраструктура</td>\n",
       "      <td>Mikhail Solovyev</td>\n",
       "      <td>We build cloud services  - IAAS, PAAS, SAAS</td>\n",
       "      <td>CloudMTS</td>\n",
       "      <td>Директор по облачным продуктам #CloudMTS</td>\n",
       "      <td>NaN</td>\n",
       "      <td>Moscow, Moscow City, Russia</td>\n",
       "      <td>2,840</td>\n",
       "      <td>500+</td>\n",
       "      <td>Облачные сервисы – концепция, проектирование, внедрение, запуск, управление эксплуатацией в режиме круглосуточной доступности, соблюдение SLA. Планирование мощностей с учетом быстрого роста сервисов.Управление системой проектов: управление требованиями, проектными рисками, границами, сроками, субподрядом (подбор и конкурс, переговоры, бюджет, результаты). Управление проектными командами и линейными подчиненными.Успешный опыт разработки архитектуры, внедрения, сопровождения и эксплуатации комплексных информационных систем. Облака, виртуализация, интернет-порталы, бизнес-приложения, сбор и анализ данных.Детальное понимание устройства и процессов в дата-центре (TIA-942, Uptime), связанных задач эксплуатации, бюджетов. Использование мощностей 7 дата-центров на 2-х площадках для построения отказоустойчивых облачных сервисов. Руководство отделами разработки и тестирования ПО, информационной безопасности, эксплуатации. Формирование и выполнение ИТ стратегии подразделения – определение требований, анализ и доработка каталога ИТ сервисов, разработка архитектуры ИС, требований к процессам управления ИТ, разработка и исполнение плана реализации ИТ стратегии. Формирование, защита и выполнение бюджета проектов и отдела в целом.Оптимизация бизнес-процессов, внедрение сервисной модели деятельности подразделения, внедрение ITIL/ITSM. Формирование и достижение планов P&amp;L, показателей эффективности деятельности подразделения.Развитие персонала как основного ресурса организации – набор персонала, проведение аттестаций, формирование планов индивидуального развития, постановка целей, контроль результатов.Экспертные знания по большинству промышленных программных продуктов IBM, Microsoft, Oracle, HP, VMWare; по линейкам аппаратного обеспечения IBM, HP, Dell, Huawei, NetApp, EMC. Работа с вендорами: специфицирование, лицензирование и скидки.</td>\n",
       "      <td>NaN</td>\n",
       "    </tr>\n",
       "  </tbody>\n",
       "</table>\n",
       "</div>"
      ],
      "text/plain": [
       "              user_id  \\\n",
       "347     pavelandronov   \n",
       "2122    wildchlamydia   \n",
       "2404              NaN   \n",
       "2333              NaN   \n",
       "122   mikhailsolovyev   \n",
       "\n",
       "                                                                                                                                                                                                                                                                                                                                                                                                                                                                                     post  \\\n",
       "347                                                                                                                                                                                                     С одного из наших проектов освободилась крутая команда .Net.5 middle и 3 senior разработчиков.За плечами у коллег многолетний опыт работы над проектами крупнейших производственных и финансовых компаний РФ.За подробностями пишите в личку или в тг @andronovpa.#net #developer   \n",
       "2122                                                                                                                                                                                    В ноябре 2022 выступил на конференции #Highload++ от имени нашей команды #LayerВ докладе рассказываю о том, как устроены наши сервисы и какие технологические решения мы приняли чтобы успевать отвечать на запросы и не докупать новые серверыСпасибо Maksim Kuprashevich за помощь в подготовке   \n",
       "2404        Всем привет! Я открыт к предложениям на позицию Frontend-разработчика. Люблю сложные задачи, имею большой опыт в адаптивной вёрстке, разработке функционала на основе JS, jQuery, React, Node. Буду рад вашим предложениям, репостам и рекомендациям.P. S. Даю согласие на адаптирование презентации под себя и дальнейшее её использование без указания имени автора ✌#opentowork #frontend #resume #ищуработу #фронтенд #резюме #rideItWeAreAllAlone #rideItJustLoseControl   \n",
       "2333                                                                                                                                                                                                                                                                                                           Hi everyone - I am looking for a new role and would appreciate your support. Thank you in advance for any connections, advice, or opportunities you can offer. #OpenToWork   \n",
       "122   Любимая часть моей работы – находить новые компании и продукты, помогать им запуститься и наблюдать, как они развиваются в облаке. И да, наша с командой задача – чтобы всем партнерам с нами было удобно, легко и быстро. А еще выгодно. Сейчас у нас действует предложение – скидка 30% на виртуальную инфраструктуру для российских компаний-разработчиков и стартапов. Кому отправить подробности?#IT, #ИТ, #Виртуализация, #Виртуальная инфраструктура, #Cloud, #Стартапы, #ПО   \n",
       "\n",
       "      likes  comments  reposts  \\\n",
       "347    10.0         0        1   \n",
       "2122   12.0         0        1   \n",
       "2404    0.0         0        0   \n",
       "2333   11.0         0        1   \n",
       "122    13.0         0        2   \n",
       "\n",
       "                                                          hashtags  \\\n",
       "347                                                 net, developer   \n",
       "2122                                            Highload++, LayerВ   \n",
       "2404                                                           NaN   \n",
       "2333                                                           NaN   \n",
       "122   IT,, ИТ,, Виртуализация,, Виртуальная, Cloud,, Стартапы,, ПО   \n",
       "\n",
       "                                                                                                                                                                                                               post_lemmatized  \\\n",
       "347                                                                                                                           освободиться команда разработчиков плечо многолетний опыт крупный производственный финансовый рф   \n",
       "2122                                                               выступить конференция имя команда доклад устроить сервис технологический решение принять успевать отвечать запрос докупать серверыспасибо помощь подготовка   \n",
       "2404                                                                                                                                                                                                                       NaN   \n",
       "2333                                                                                                                                                                                                                       NaN   \n",
       "122   любимый продукты помогать запуститься наблюдать развиваться облаке команда задача партнёр удобно быстро выгодно предложение скидка виртуальный инфраструктура разработчик стартапов отправить подробности инфраструктура   \n",
       "\n",
       "                user_name  \\\n",
       "347        Pavel Andronov   \n",
       "2122  Maksim Kuprashevich   \n",
       "2404   Michael Pochkaylov   \n",
       "2333       Timur Rashitov   \n",
       "122      Mikhail Solovyev   \n",
       "\n",
       "                                                       user_head  \\\n",
       "347   IT solutions expert Russia and CIS | 15 years in B2B sales   \n",
       "2122                   Computer Vision Team Leader – SberDevices   \n",
       "2404                                           Head of Analytics   \n",
       "2333                                              Data Scientist   \n",
       "122                  We build cloud services  - IAAS, PAAS, SAAS   \n",
       "\n",
       "               user_work                             user_position  \\\n",
       "347              CRMguru                                Top skills   \n",
       "2122         SberDevices               Computer Vision Team Leader   \n",
       "2404            Sberbank                                       NaN   \n",
       "2333  Beeline Kazakhstan                                       NaN   \n",
       "122             CloudMTS  Директор по облачным продуктам #CloudMTS   \n",
       "\n",
       "                                                                                  user_tags  \\\n",
       "347                                                                                     NaN   \n",
       "2122  deeplearning, computervision, neuralnetworks, machinelearning, artificialintelligence   \n",
       "2404                                                                                    NaN   \n",
       "2333                                                                                    NaN   \n",
       "122                                                                                     NaN   \n",
       "\n",
       "                                 user_location user_viewers user_contacts  \\\n",
       "347                   Moscow Metropolitan Area        2,091          500+   \n",
       "2122  Санкт-Петербург, Санкт-Петербург, Россия        4 439          500+   \n",
       "2404                                       NaN          NaN           NaN   \n",
       "2333                                       NaN          NaN           NaN   \n",
       "122                Moscow, Moscow City, Russia        2,840          500+   \n",
       "\n",
       "                                                                                                                                                                                                                                                                                                                                                                                                                                                                                                                                                                                                                                                                                                                                                                                                                                                                                                                                                                                                                                                                                                                                                                                                                                                                                                                                                                                                                                                                                                                                                                                                                                                                                                                                                                                                                                                                                                               user_common_info  \\\n",
       "347                                                                                                                                                                                                                                                                                                                                                                                                                                                                                                                                                                                                                                                                                                                                                                                                                                                                                                                                                                                                                                                                                                                                                                                                                                                                                                                                                                                                                                                                                                                                                                                                                                                                                                                   More than 15 years of experience in IT and Telecom industries.Expert with long experience in blockchain, telecom, B2B-sales, software, startups.Connecting people and businesses, solutions and problems.   \n",
       "2122                                                                                                                                                                                                                                                                                                                                                                                                                                                                                                                                                                                                                                                                                                                                                                                                                                                                                                                                                                                                                                                                                                                                                                                                                                                                                                                                                                                                                                                                                                                                                                                                                                                                                                                                                                                                                                                                                Scientist and engineer in love with my work   \n",
       "2404                                                                                                                                                                                                                                                                                                                                                                                                                                                                                                                                                                                                                                                                                                                                                                                                                                                                                                                                                                                                                                                                                                                                                                                                                                                                                                                                                                                                                                                                                                                                                                                                                                                                                                                                                                                                                                                                                                                        NaN   \n",
       "2333                                                                                                                                                                                                                                                                                                                                                                                                                                                                                                                                                                                                                                                                                                                                                                                                                                                                                                                                                                                                                                                                                                                                                                                                                                                                                                                                                                                                                                                                                                                                                                                                                                                                                                                                                                                                                                                                                                                        NaN   \n",
       "122   Облачные сервисы – концепция, проектирование, внедрение, запуск, управление эксплуатацией в режиме круглосуточной доступности, соблюдение SLA. Планирование мощностей с учетом быстрого роста сервисов.Управление системой проектов: управление требованиями, проектными рисками, границами, сроками, субподрядом (подбор и конкурс, переговоры, бюджет, результаты). Управление проектными командами и линейными подчиненными.Успешный опыт разработки архитектуры, внедрения, сопровождения и эксплуатации комплексных информационных систем. Облака, виртуализация, интернет-порталы, бизнес-приложения, сбор и анализ данных.Детальное понимание устройства и процессов в дата-центре (TIA-942, Uptime), связанных задач эксплуатации, бюджетов. Использование мощностей 7 дата-центров на 2-х площадках для построения отказоустойчивых облачных сервисов. Руководство отделами разработки и тестирования ПО, информационной безопасности, эксплуатации. Формирование и выполнение ИТ стратегии подразделения – определение требований, анализ и доработка каталога ИТ сервисов, разработка архитектуры ИС, требований к процессам управления ИТ, разработка и исполнение плана реализации ИТ стратегии. Формирование, защита и выполнение бюджета проектов и отдела в целом.Оптимизация бизнес-процессов, внедрение сервисной модели деятельности подразделения, внедрение ITIL/ITSM. Формирование и достижение планов P&L, показателей эффективности деятельности подразделения.Развитие персонала как основного ресурса организации – набор персонала, проведение аттестаций, формирование планов индивидуального развития, постановка целей, контроль результатов.Экспертные знания по большинству промышленных программных продуктов IBM, Microsoft, Oracle, HP, VMWare; по линейкам аппаратного обеспечения IBM, HP, Dell, Huawei, NetApp, EMC. Работа с вендорами: специфицирование, лицензирование и скидки.   \n",
       "\n",
       "                                                           url  \n",
       "347                                                        NaN  \n",
       "2122                                                       NaN  \n",
       "2404  https://www.linkedin.com/in/michael-pochkaylov-2a5772128  \n",
       "2333                    https://www.linkedin.com/in/timurr1808  \n",
       "122                                                        NaN  "
      ]
     },
     "execution_count": 54,
     "metadata": {},
     "output_type": "execute_result"
    }
   ],
   "source": [
    "df.sample(5)"
   ]
  },
  {
   "cell_type": "code",
   "execution_count": 55,
   "id": "c979d054",
   "metadata": {},
   "outputs": [],
   "source": [
    "# # Объединить значения из колонок user_name_x и user_name_y в колонку user_name\n",
    "# df['comments'] = df['comments_x'].fillna(df['comments_y'])\n",
    "# df['user_head'] = df['user_head_x'].fillna(df['user_head_y'])\n",
    "# df['likes'] = df['likes_x'].fillna(df['likes_y'])\n",
    "# df['text'] = df['text_x'].fillna(df['text_y'])\n",
    "# df['reposts'] = df['reposts_x'].fillna(df['reposts_y'])\n",
    "\n",
    "# # Удалить колонки user_name_x и user_name_y\n",
    "# df = df.drop(['comments_x', 'comments_y'], axis=1)\n",
    "# df = df.drop(['user_head_x', 'user_head_y'], axis=1)\n",
    "# df = df.drop(['likes_x', 'likes_y'], axis=1)\n",
    "# df = df.drop(['text_x', 'text_y'], axis=1)\n",
    "# df = df.drop(['reposts_x', 'reposts_y'], axis=1)"
   ]
  },
  {
   "cell_type": "markdown",
   "id": "14e5d086",
   "metadata": {},
   "source": [
    "### Датафрейм 4 команды"
   ]
  },
  {
   "cell_type": "code",
   "execution_count": 56,
   "id": "f123132e",
   "metadata": {},
   "outputs": [
    {
     "name": "stdout",
     "output_type": "stream",
     "text": [
      "Размер: (3276, 17)\n"
     ]
    }
   ],
   "source": [
    "# Объединяем датафреймы\n",
    "df = pd.merge(df, dataset_from_team_4, how='outer', suffixes=('_x', '_y'))\n",
    "\n",
    "print('Размер:', df.shape)"
   ]
  },
  {
   "cell_type": "code",
   "execution_count": 57,
   "id": "55a0f577",
   "metadata": {},
   "outputs": [
    {
     "name": "stdout",
     "output_type": "stream",
     "text": [
      "<class 'pandas.core.frame.DataFrame'>\n",
      "RangeIndex: 3276 entries, 0 to 3275\n",
      "Data columns (total 17 columns):\n",
      " #   Column            Non-Null Count  Dtype  \n",
      "---  ------            --------------  -----  \n",
      " 0   user_id           2230 non-null   object \n",
      " 1   post              3276 non-null   object \n",
      " 2   likes             3244 non-null   float64\n",
      " 3   comments          3276 non-null   float64\n",
      " 4   reposts           2486 non-null   float64\n",
      " 5   hashtags          1427 non-null   object \n",
      " 6   post_lemmatized   2230 non-null   object \n",
      " 7   user_name         3276 non-null   object \n",
      " 8   user_head         3276 non-null   object \n",
      " 9   user_work         2398 non-null   object \n",
      " 10  user_position     2230 non-null   object \n",
      " 11  user_tags         575 non-null    object \n",
      " 12  user_location     2223 non-null   object \n",
      " 13  user_viewers      2230 non-null   object \n",
      " 14  user_contacts     2230 non-null   object \n",
      " 15  user_common_info  2043 non-null   object \n",
      " 16  url               1046 non-null   object \n",
      "dtypes: float64(3), object(14)\n",
      "memory usage: 435.2+ KB\n"
     ]
    }
   ],
   "source": [
    "df.info()"
   ]
  },
  {
   "cell_type": "code",
   "execution_count": 58,
   "id": "63a7460d",
   "metadata": {},
   "outputs": [
    {
     "data": {
      "text/plain": [
       "user_id             1046\n",
       "post                   0\n",
       "likes                 32\n",
       "comments               0\n",
       "reposts              790\n",
       "hashtags            1849\n",
       "post_lemmatized     1046\n",
       "user_name              0\n",
       "user_head              0\n",
       "user_work            878\n",
       "user_position       1046\n",
       "user_tags           2701\n",
       "user_location       1053\n",
       "user_viewers        1046\n",
       "user_contacts       1046\n",
       "user_common_info    1233\n",
       "url                 2230\n",
       "dtype: int64"
      ]
     },
     "execution_count": 58,
     "metadata": {},
     "output_type": "execute_result"
    }
   ],
   "source": [
    "df.isna().sum()"
   ]
  },
  {
   "cell_type": "code",
   "execution_count": 59,
   "id": "d2354d0f",
   "metadata": {},
   "outputs": [],
   "source": [
    "# # Объединить значения из колонок user_name_x и user_name_y в колонку user_name\n",
    "# df['user_name'] = df['user_name_x'].fillna(df['user_name_y'])\n",
    "# df['comments'] = df['comments_x'].fillna(df['comments_y'])\n",
    "# df['user_head'] = df['user_head_x'].fillna(df['user_head_y'])\n",
    "# df['likes'] = df['likes_x'].fillna(df['likes_y'])\n",
    "# df['text'] = df['text_x'].fillna(df['text_y'])\n",
    "\n",
    "# # Удалить колонки user_name_x и user_name_y\n",
    "# df = df.drop(['user_name_x', 'user_name_y'], axis=1)\n",
    "# df = df.drop(['comments_x', 'comments_y'], axis=1)\n",
    "# df = df.drop(['user_head_x', 'user_head_y'], axis=1)\n",
    "# df = df.drop(['likes_x', 'likes_y'], axis=1)\n",
    "# df = df.drop(['text_x', 'text_y'], axis=1)"
   ]
  },
  {
   "cell_type": "markdown",
   "id": "7e5d16b0",
   "metadata": {},
   "source": [
    "### Датафрейм 8 команды"
   ]
  },
  {
   "cell_type": "markdown",
   "id": "362bda27",
   "metadata": {},
   "source": [
    "#### Часть 1"
   ]
  },
  {
   "cell_type": "code",
   "execution_count": 60,
   "id": "1c5dd82e",
   "metadata": {},
   "outputs": [
    {
     "name": "stdout",
     "output_type": "stream",
     "text": [
      "Размер: (3374, 18)\n"
     ]
    }
   ],
   "source": [
    "# Объединяем датафреймы\n",
    "df = pd.merge(df, dataset_from_team_8_1, how='outer')\n",
    "\n",
    "print('Размер:', df.shape)"
   ]
  },
  {
   "cell_type": "code",
   "execution_count": 61,
   "id": "5df314ae",
   "metadata": {
    "scrolled": false
   },
   "outputs": [
    {
     "name": "stdout",
     "output_type": "stream",
     "text": [
      "<class 'pandas.core.frame.DataFrame'>\n",
      "RangeIndex: 3374 entries, 0 to 3373\n",
      "Data columns (total 18 columns):\n",
      " #   Column            Non-Null Count  Dtype  \n",
      "---  ------            --------------  -----  \n",
      " 0   user_id           2230 non-null   object \n",
      " 1   post              3374 non-null   object \n",
      " 2   likes             3342 non-null   float64\n",
      " 3   comments          3374 non-null   float64\n",
      " 4   reposts           2584 non-null   float64\n",
      " 5   hashtags          1427 non-null   object \n",
      " 6   post_lemmatized   2230 non-null   object \n",
      " 7   user_name         3374 non-null   object \n",
      " 8   user_head         3374 non-null   object \n",
      " 9   user_work         2398 non-null   object \n",
      " 10  user_position     2328 non-null   object \n",
      " 11  user_tags         575 non-null    object \n",
      " 12  user_location     2223 non-null   object \n",
      " 13  user_viewers      2230 non-null   object \n",
      " 14  user_contacts     2230 non-null   object \n",
      " 15  user_common_info  2043 non-null   object \n",
      " 16  url               1144 non-null   object \n",
      " 17  post_url          98 non-null     object \n",
      "dtypes: float64(3), object(15)\n",
      "memory usage: 474.6+ KB\n"
     ]
    }
   ],
   "source": [
    "df.info()"
   ]
  },
  {
   "cell_type": "code",
   "execution_count": 62,
   "id": "efc4c1a1",
   "metadata": {},
   "outputs": [
    {
     "data": {
      "text/plain": [
       "user_id             1144\n",
       "post                   0\n",
       "likes                 32\n",
       "comments               0\n",
       "reposts              790\n",
       "hashtags            1947\n",
       "post_lemmatized     1144\n",
       "user_name              0\n",
       "user_head              0\n",
       "user_work            976\n",
       "user_position       1046\n",
       "user_tags           2799\n",
       "user_location       1151\n",
       "user_viewers        1144\n",
       "user_contacts       1144\n",
       "user_common_info    1331\n",
       "url                 2230\n",
       "post_url            3276\n",
       "dtype: int64"
      ]
     },
     "execution_count": 62,
     "metadata": {},
     "output_type": "execute_result"
    }
   ],
   "source": [
    "df.isna().sum()"
   ]
  },
  {
   "cell_type": "code",
   "execution_count": 63,
   "id": "034d1af4",
   "metadata": {},
   "outputs": [],
   "source": [
    "# # Объединить значения из колонок user_name_x и user_name_y в колонку user_name\n",
    "# df['user_name'] = df['user_name_x'].fillna(df['user_name_y'])\n",
    "# df['comments'] = df['comments_x'].fillna(df['comments_y'])\n",
    "# df['user_head'] = df['user_head_x'].fillna(df['user_head_y'])\n",
    "# df['likes'] = df['likes_x'].fillna(df['likes_y'])\n",
    "# df['text'] = df['text_x'].fillna(df['text_y'])\n",
    "\n",
    "# # Удалить колонки user_name_x и user_name_y\n",
    "# df = df.drop(['user_name_x', 'user_name_y'], axis=1)\n",
    "# df = df.drop(['comments_x', 'comments_y'], axis=1)\n",
    "# df = df.drop(['user_head_x', 'user_head_y'], axis=1)\n",
    "# df = df.drop(['likes_x', 'likes_y'], axis=1)\n",
    "# df = df.drop(['text_x', 'text_y'], axis=1)"
   ]
  },
  {
   "cell_type": "markdown",
   "id": "2840823b",
   "metadata": {},
   "source": [
    "#### Часть 2"
   ]
  },
  {
   "cell_type": "code",
   "execution_count": 64,
   "id": "ac350cc1",
   "metadata": {},
   "outputs": [
    {
     "name": "stdout",
     "output_type": "stream",
     "text": [
      "Размер: (3543, 18)\n"
     ]
    }
   ],
   "source": [
    "# Объединяем датафреймы\n",
    "df = pd.merge(df, dataset_from_team_8_2, how='outer')\n",
    "\n",
    "print('Размер:', df.shape)"
   ]
  },
  {
   "cell_type": "code",
   "execution_count": 65,
   "id": "221866ed",
   "metadata": {
    "scrolled": false
   },
   "outputs": [
    {
     "name": "stdout",
     "output_type": "stream",
     "text": [
      "<class 'pandas.core.frame.DataFrame'>\n",
      "RangeIndex: 3543 entries, 0 to 3542\n",
      "Data columns (total 18 columns):\n",
      " #   Column            Non-Null Count  Dtype  \n",
      "---  ------            --------------  -----  \n",
      " 0   user_id           2230 non-null   object \n",
      " 1   post              3543 non-null   object \n",
      " 2   likes             3511 non-null   float64\n",
      " 3   comments          3543 non-null   float64\n",
      " 4   reposts           2753 non-null   float64\n",
      " 5   hashtags          1427 non-null   object \n",
      " 6   post_lemmatized   2230 non-null   object \n",
      " 7   user_name         3543 non-null   object \n",
      " 8   user_head         3543 non-null   object \n",
      " 9   user_work         2398 non-null   object \n",
      " 10  user_position     2497 non-null   object \n",
      " 11  user_tags         575 non-null    object \n",
      " 12  user_location     2223 non-null   object \n",
      " 13  user_viewers      2230 non-null   object \n",
      " 14  user_contacts     2230 non-null   object \n",
      " 15  user_common_info  2043 non-null   object \n",
      " 16  url               1313 non-null   object \n",
      " 17  post_url          267 non-null    object \n",
      "dtypes: float64(3), object(15)\n",
      "memory usage: 498.4+ KB\n"
     ]
    }
   ],
   "source": [
    "df.info()"
   ]
  },
  {
   "cell_type": "code",
   "execution_count": 66,
   "id": "7b0b033c",
   "metadata": {},
   "outputs": [
    {
     "data": {
      "text/plain": [
       "user_id             1313\n",
       "post                   0\n",
       "likes                 32\n",
       "comments               0\n",
       "reposts              790\n",
       "hashtags            2116\n",
       "post_lemmatized     1313\n",
       "user_name              0\n",
       "user_head              0\n",
       "user_work           1145\n",
       "user_position       1046\n",
       "user_tags           2968\n",
       "user_location       1320\n",
       "user_viewers        1313\n",
       "user_contacts       1313\n",
       "user_common_info    1500\n",
       "url                 2230\n",
       "post_url            3276\n",
       "dtype: int64"
      ]
     },
     "execution_count": 66,
     "metadata": {},
     "output_type": "execute_result"
    }
   ],
   "source": [
    "df.isna().sum()"
   ]
  },
  {
   "cell_type": "code",
   "execution_count": 67,
   "id": "bd47fa78",
   "metadata": {},
   "outputs": [],
   "source": [
    "# df['reposts'] = df['reposts_x'].fillna(df['reposts_y'])\n",
    "# df['user_position'] = df['user_position_x'].fillna(df['user_position_y'])\n",
    "# df['post_url'] = df['post_url_x'].fillna(df['post_url_y'])\n",
    "# df['user_name'] = df['user_name_x'].fillna(df['user_name_y'])\n",
    "# df['comments'] = df['comments_x'].fillna(df['comments_y'])\n",
    "# df['user_head'] = df['user_head_x'].fillna(df['user_head_y'])\n",
    "# df['likes'] = df['likes_x'].fillna(df['likes_y'])\n",
    "# df['text'] = df['text_x'].fillna(df['text_y'])\n",
    "\n",
    "# df = df.drop(['reposts_x', 'reposts_y'], axis=1)\n",
    "# df = df.drop(['user_position_x', 'user_position_y'], axis=1)\n",
    "# df = df.drop(['post_url_x', 'post_url_y'], axis=1)\n",
    "# df = df.drop(['user_name_x', 'user_name_y'], axis=1)\n",
    "# df = df.drop(['comments_x', 'comments_y'], axis=1)\n",
    "# df = df.drop(['user_head_x', 'user_head_y'], axis=1)\n",
    "# df = df.drop(['likes_x', 'likes_y'], axis=1)\n",
    "# df = df.drop(['text_x', 'text_y'], axis=1)"
   ]
  },
  {
   "cell_type": "markdown",
   "id": "e338c482",
   "metadata": {},
   "source": [
    "### Датафрейм 10 команды"
   ]
  },
  {
   "cell_type": "code",
   "execution_count": 68,
   "id": "04b97722",
   "metadata": {},
   "outputs": [
    {
     "name": "stdout",
     "output_type": "stream",
     "text": [
      "Размер: (3628, 19)\n"
     ]
    }
   ],
   "source": [
    "# Объединяем датафреймы\n",
    "df = pd.merge(df, dataset_from_team_10, how='outer')\n",
    "\n",
    "print('Размер:', df.shape)"
   ]
  },
  {
   "cell_type": "code",
   "execution_count": 69,
   "id": "962f89a6",
   "metadata": {
    "scrolled": false
   },
   "outputs": [
    {
     "name": "stdout",
     "output_type": "stream",
     "text": [
      "<class 'pandas.core.frame.DataFrame'>\n",
      "RangeIndex: 3628 entries, 0 to 3627\n",
      "Data columns (total 19 columns):\n",
      " #   Column            Non-Null Count  Dtype  \n",
      "---  ------            --------------  -----  \n",
      " 0   user_id           2230 non-null   object \n",
      " 1   post              3628 non-null   object \n",
      " 2   likes             3596 non-null   float64\n",
      " 3   comments          3628 non-null   float64\n",
      " 4   reposts           2838 non-null   float64\n",
      " 5   hashtags          1427 non-null   object \n",
      " 6   post_lemmatized   2230 non-null   object \n",
      " 7   user_name         3628 non-null   object \n",
      " 8   user_head         3628 non-null   object \n",
      " 9   user_work         2483 non-null   object \n",
      " 10  user_position     2497 non-null   object \n",
      " 11  user_tags         660 non-null    object \n",
      " 12  user_location     2308 non-null   object \n",
      " 13  user_viewers      2230 non-null   object \n",
      " 14  user_contacts     2230 non-null   object \n",
      " 15  user_common_info  2128 non-null   object \n",
      " 16  url               1398 non-null   object \n",
      " 17  post_url          267 non-null    object \n",
      " 18  user_experience   85 non-null     float64\n",
      "dtypes: float64(4), object(15)\n",
      "memory usage: 538.7+ KB\n"
     ]
    }
   ],
   "source": [
    "df.info()"
   ]
  },
  {
   "cell_type": "code",
   "execution_count": 70,
   "id": "bea41632",
   "metadata": {},
   "outputs": [
    {
     "data": {
      "text/plain": [
       "user_id             1398\n",
       "post                   0\n",
       "likes                 32\n",
       "comments               0\n",
       "reposts              790\n",
       "hashtags            2201\n",
       "post_lemmatized     1398\n",
       "user_name              0\n",
       "user_head              0\n",
       "user_work           1145\n",
       "user_position       1131\n",
       "user_tags           2968\n",
       "user_location       1320\n",
       "user_viewers        1398\n",
       "user_contacts       1398\n",
       "user_common_info    1500\n",
       "url                 2230\n",
       "post_url            3361\n",
       "user_experience     3543\n",
       "dtype: int64"
      ]
     },
     "execution_count": 70,
     "metadata": {},
     "output_type": "execute_result"
    }
   ],
   "source": [
    "df.isna().sum()"
   ]
  },
  {
   "cell_type": "code",
   "execution_count": 71,
   "id": "fd91923b",
   "metadata": {},
   "outputs": [],
   "source": [
    "# df['user_work'] = df['user_work_x'].fillna(df['user_work_y'])\n",
    "# df['reposts'] = df['reposts_x'].fillna(df['reposts_y'])\n",
    "# df['user_name'] = df['user_name_x'].fillna(df['user_name_y'])\n",
    "# df['comments'] = df['comments_x'].fillna(df['comments_y'])\n",
    "# df['user_head'] = df['user_head_x'].fillna(df['user_head_y'])\n",
    "# df['likes'] = df['likes_x'].fillna(df['likes_y'])\n",
    "# df['text'] = df['text_x'].fillna(df['text_y'])\n",
    "\n",
    "# df = df.drop(['user_work_x', 'user_work_y'], axis=1)\n",
    "# df = df.drop(['reposts_x', 'reposts_y'], axis=1)\n",
    "# df = df.drop(['user_name_x', 'user_name_y'], axis=1)\n",
    "# df = df.drop(['comments_x', 'comments_y'], axis=1)\n",
    "# df = df.drop(['user_head_x', 'user_head_y'], axis=1)\n",
    "# df = df.drop(['likes_x', 'likes_y'], axis=1)\n",
    "# df = df.drop(['text_x', 'text_y'], axis=1)"
   ]
  },
  {
   "cell_type": "markdown",
   "id": "acf44d11",
   "metadata": {},
   "source": [
    "# Обработка данных"
   ]
  },
  {
   "cell_type": "markdown",
   "id": "e8faa2ab",
   "metadata": {},
   "source": [
    "Для дальнейшей работы с данными нам необходимо их подготовить, удалить из текста лишние символы, оставить только русскоязычные тексты, проверить все ли данные имею правильный тип и т.д."
   ]
  },
  {
   "cell_type": "code",
   "execution_count": 72,
   "id": "6da7c9c8",
   "metadata": {},
   "outputs": [
    {
     "data": {
      "text/html": [
       "<div>\n",
       "<style scoped>\n",
       "    .dataframe tbody tr th:only-of-type {\n",
       "        vertical-align: middle;\n",
       "    }\n",
       "\n",
       "    .dataframe tbody tr th {\n",
       "        vertical-align: top;\n",
       "    }\n",
       "\n",
       "    .dataframe thead th {\n",
       "        text-align: right;\n",
       "    }\n",
       "</style>\n",
       "<table border=\"1\" class=\"dataframe\">\n",
       "  <thead>\n",
       "    <tr style=\"text-align: right;\">\n",
       "      <th></th>\n",
       "      <th>user_id</th>\n",
       "      <th>post</th>\n",
       "      <th>likes</th>\n",
       "      <th>comments</th>\n",
       "      <th>reposts</th>\n",
       "      <th>hashtags</th>\n",
       "      <th>post_lemmatized</th>\n",
       "      <th>user_name</th>\n",
       "      <th>user_head</th>\n",
       "      <th>user_work</th>\n",
       "      <th>user_position</th>\n",
       "      <th>user_tags</th>\n",
       "      <th>user_location</th>\n",
       "      <th>user_viewers</th>\n",
       "      <th>user_contacts</th>\n",
       "      <th>user_common_info</th>\n",
       "      <th>url</th>\n",
       "      <th>post_url</th>\n",
       "      <th>user_experience</th>\n",
       "    </tr>\n",
       "  </thead>\n",
       "  <tbody>\n",
       "    <tr>\n",
       "      <th>0</th>\n",
       "      <td>ali-wodan</td>\n",
       "      <td>Кстати говоря. Теперь подкаст Миражи доступен в соцсети Вконтакте: https://lnkd.in/gKkrJX9Я наконец разобрался как туда прикрутить RSS :-) #podcast #миражи</td>\n",
       "      <td>1.0</td>\n",
       "      <td>0.0</td>\n",
       "      <td>0.0</td>\n",
       "      <td>podcast, миражи</td>\n",
       "      <td>говоря подкаст мираж доступный соцсеть вконтакте разобраться прикрутить</td>\n",
       "      <td>Ali Wodan</td>\n",
       "      <td>Head of Design</td>\n",
       "      <td>Performix</td>\n",
       "      <td>Head Of Design</td>\n",
       "      <td>podcast, it</td>\n",
       "      <td>Москва, Московская область, Россия</td>\n",
       "      <td>2 391</td>\n",
       "      <td>500+</td>\n",
       "      <td>I am a digital product design lead. I've been designing digital systems for years. Teams creating, management, design process building, user research, analytics etc. it's all that i like to do. Also I am into psychology, music, philosophy.</td>\n",
       "      <td>NaN</td>\n",
       "      <td>NaN</td>\n",
       "      <td>NaN</td>\n",
       "    </tr>\n",
       "    <tr>\n",
       "      <th>1</th>\n",
       "      <td>ali-wodan</td>\n",
       "      <td>Хэй честной народ! Ищу векторного иллюстратора на проект, с возможным длительным сотрудничеством по итогу. Можно удаленно. Уровень иллюстраций не хуже чем в примере https://lnkd.in/gkrvhxYРепост, пожалуйста)Если ты умеешь так рисовать, напиши мне в личку :-)Hey! I am looking for an Illustrator who can help us with a project! You need to have skills like in the example below or upper. Text me to discuss prices and due :-)#вакансия #vacancy #illustration #иллюстрация #project #проект</td>\n",
       "      <td>6.0</td>\n",
       "      <td>0.0</td>\n",
       "      <td>0.0</td>\n",
       "      <td>вакансия, vacancy, illustration, иллюстрация, project, проект</td>\n",
       "      <td>честной народ искать векторный иллюстратор возможный длительный сотрудничество итогу удаленно уровень иллюстрация уметь рисовать</td>\n",
       "      <td>Ali Wodan</td>\n",
       "      <td>Head of Design</td>\n",
       "      <td>Performix</td>\n",
       "      <td>Head Of Design</td>\n",
       "      <td>podcast, it</td>\n",
       "      <td>Москва, Московская область, Россия</td>\n",
       "      <td>2 391</td>\n",
       "      <td>500+</td>\n",
       "      <td>I am a digital product design lead. I've been designing digital systems for years. Teams creating, management, design process building, user research, analytics etc. it's all that i like to do. Also I am into psychology, music, philosophy.</td>\n",
       "      <td>NaN</td>\n",
       "      <td>NaN</td>\n",
       "      <td>NaN</td>\n",
       "    </tr>\n",
       "  </tbody>\n",
       "</table>\n",
       "</div>"
      ],
      "text/plain": [
       "     user_id  \\\n",
       "0  ali-wodan   \n",
       "1  ali-wodan   \n",
       "\n",
       "                                                                                                                                                                                                                                                                                                                                                                                                                                                                                                     post  \\\n",
       "0                                                                                                                                                                                                                                                                                                                                             Кстати говоря. Теперь подкаст Миражи доступен в соцсети Вконтакте: https://lnkd.in/gKkrJX9Я наконец разобрался как туда прикрутить RSS :-) #podcast #миражи   \n",
       "1  Хэй честной народ! Ищу векторного иллюстратора на проект, с возможным длительным сотрудничеством по итогу. Можно удаленно. Уровень иллюстраций не хуже чем в примере https://lnkd.in/gkrvhxYРепост, пожалуйста)Если ты умеешь так рисовать, напиши мне в личку :-)Hey! I am looking for an Illustrator who can help us with a project! You need to have skills like in the example below or upper. Text me to discuss prices and due :-)#вакансия #vacancy #illustration #иллюстрация #project #проект   \n",
       "\n",
       "   likes  comments  reposts  \\\n",
       "0    1.0       0.0      0.0   \n",
       "1    6.0       0.0      0.0   \n",
       "\n",
       "                                                        hashtags  \\\n",
       "0                                                podcast, миражи   \n",
       "1  вакансия, vacancy, illustration, иллюстрация, project, проект   \n",
       "\n",
       "                                                                                                                    post_lemmatized  \\\n",
       "0                                                           говоря подкаст мираж доступный соцсеть вконтакте разобраться прикрутить   \n",
       "1  честной народ искать векторный иллюстратор возможный длительный сотрудничество итогу удаленно уровень иллюстрация уметь рисовать   \n",
       "\n",
       "   user_name       user_head  user_work   user_position    user_tags  \\\n",
       "0  Ali Wodan  Head of Design  Performix  Head Of Design  podcast, it   \n",
       "1  Ali Wodan  Head of Design  Performix  Head Of Design  podcast, it   \n",
       "\n",
       "                        user_location user_viewers user_contacts  \\\n",
       "0  Москва, Московская область, Россия        2 391          500+   \n",
       "1  Москва, Московская область, Россия        2 391          500+   \n",
       "\n",
       "                                                                                                                                                                                                                                  user_common_info  \\\n",
       "0  I am a digital product design lead. I've been designing digital systems for years. Teams creating, management, design process building, user research, analytics etc. it's all that i like to do. Also I am into psychology, music, philosophy.   \n",
       "1  I am a digital product design lead. I've been designing digital systems for years. Teams creating, management, design process building, user research, analytics etc. it's all that i like to do. Also I am into psychology, music, philosophy.   \n",
       "\n",
       "   url post_url  user_experience  \n",
       "0  NaN      NaN              NaN  \n",
       "1  NaN      NaN              NaN  "
      ]
     },
     "execution_count": 72,
     "metadata": {},
     "output_type": "execute_result"
    }
   ],
   "source": [
    "# оценим датафрейм с постами\n",
    "df.head(2)"
   ]
  },
  {
   "cell_type": "code",
   "execution_count": 73,
   "id": "f680644c",
   "metadata": {
    "scrolled": false
   },
   "outputs": [
    {
     "data": {
      "text/plain": [
       "user_id             1398\n",
       "post                   0\n",
       "likes                 32\n",
       "comments               0\n",
       "reposts              790\n",
       "hashtags            2201\n",
       "post_lemmatized     1398\n",
       "user_name              0\n",
       "user_head              0\n",
       "user_work           1145\n",
       "user_position       1131\n",
       "user_tags           2968\n",
       "user_location       1320\n",
       "user_viewers        1398\n",
       "user_contacts       1398\n",
       "user_common_info    1500\n",
       "url                 2230\n",
       "post_url            3361\n",
       "user_experience     3543\n",
       "dtype: int64"
      ]
     },
     "execution_count": 73,
     "metadata": {},
     "output_type": "execute_result"
    }
   ],
   "source": [
    "df.isna().sum()"
   ]
  },
  {
   "cell_type": "code",
   "execution_count": 74,
   "id": "31d633fb",
   "metadata": {},
   "outputs": [],
   "source": [
    "# Заполняем пропуски нулями\n",
    "df[['comments', 'reposts', 'likes']] = df[['comments', 'reposts', 'likes']].fillna(0)"
   ]
  },
  {
   "cell_type": "code",
   "execution_count": 75,
   "id": "7343d8dc",
   "metadata": {},
   "outputs": [],
   "source": [
    "# преобразуем тип данных\n",
    "df[['comments', 'reposts', 'likes']] = df[['comments', 'reposts', 'likes']].astype('int')"
   ]
  },
  {
   "cell_type": "code",
   "execution_count": 76,
   "id": "a88c96a3",
   "metadata": {
    "scrolled": false
   },
   "outputs": [
    {
     "name": "stdout",
     "output_type": "stream",
     "text": [
      "<class 'pandas.core.frame.DataFrame'>\n",
      "RangeIndex: 3628 entries, 0 to 3627\n",
      "Data columns (total 19 columns):\n",
      " #   Column            Non-Null Count  Dtype  \n",
      "---  ------            --------------  -----  \n",
      " 0   user_id           2230 non-null   object \n",
      " 1   post              3628 non-null   object \n",
      " 2   likes             3628 non-null   int32  \n",
      " 3   comments          3628 non-null   int32  \n",
      " 4   reposts           3628 non-null   int32  \n",
      " 5   hashtags          1427 non-null   object \n",
      " 6   post_lemmatized   2230 non-null   object \n",
      " 7   user_name         3628 non-null   object \n",
      " 8   user_head         3628 non-null   object \n",
      " 9   user_work         2483 non-null   object \n",
      " 10  user_position     2497 non-null   object \n",
      " 11  user_tags         660 non-null    object \n",
      " 12  user_location     2308 non-null   object \n",
      " 13  user_viewers      2230 non-null   object \n",
      " 14  user_contacts     2230 non-null   object \n",
      " 15  user_common_info  2128 non-null   object \n",
      " 16  url               1398 non-null   object \n",
      " 17  post_url          267 non-null    object \n",
      " 18  user_experience   85 non-null     float64\n",
      "dtypes: float64(1), int32(3), object(15)\n",
      "memory usage: 496.1+ KB\n"
     ]
    }
   ],
   "source": [
    "# Проверим\n",
    "df.info()"
   ]
  },
  {
   "cell_type": "markdown",
   "id": "dd31419e",
   "metadata": {},
   "source": [
    "## Предобработка"
   ]
  },
  {
   "cell_type": "code",
   "execution_count": 77,
   "id": "4cebe499",
   "metadata": {},
   "outputs": [],
   "source": [
    "# функция удаления эмодзи\n",
    "def remove_emojis(text):\n",
    "    emoji_pattern = re.compile(\"[\"\n",
    "                               u\"\\U0001F600-\\U0001F64F\"  # смайлики\n",
    "                               u\"\\U0001F300-\\U0001F5FF\"  # символы и пиктограммы\n",
    "                               u\"\\U0001F680-\\U0001F6FF\"  # транспорт и символы на карте\n",
    "                               u\"\\U0001F1E0-\\U0001F1FF\"  # флаги\n",
    "                               u\"\\U00002500-\\U00002BEF\"  # китайские символы\n",
    "                               # другие разные символы\n",
    "                               u\"\\U00002702-\\U000027B0\"\n",
    "                               u\"\\U00002702-\\U000027B0\"\n",
    "                               u\"\\U000024C2-\\U0001F251\"\n",
    "                               u\"\\U0001f926-\\U0001f937\"\n",
    "                               u\"\\U00010000-\\U0010ffff\"\n",
    "                               u\"\\u2640-\\u2642\" \n",
    "                               u\"\\u2600-\\u2B55\"\n",
    "                               u\"\\u200d\"\n",
    "                               u\"\\u23cf\"\n",
    "                               u\"\\u23e9\"\n",
    "                               u\"\\u231a\"\n",
    "                               u\"\\ufe0f\"  \n",
    "                               u\"\\u3030\"\n",
    "                               \"]+\", flags=re.UNICODE)\n",
    "    # Удаляем эмодзи, используя паттерны\n",
    "    text_without_emojis = emoji_pattern.sub(r'', text)\n",
    "    return text_without_emojis\n",
    "\n",
    "# удаляем эмодзи из постов\n",
    "df['post'] = df['post'].apply(lambda x: remove_emojis(x) if pd.notnull(x) else x)"
   ]
  },
  {
   "cell_type": "code",
   "execution_count": 78,
   "id": "43bcfac9",
   "metadata": {},
   "outputs": [],
   "source": [
    "# удалим посты на украинском языке\n",
    "# определяем шаблон для украинских символов (по специфичным для данного языка символам)\n",
    "ukrainian_pattern = r'[ЄєІіЇїҐґ]'\n",
    "\n",
    "# создаем маску, указывающую строки, в которых столбец \"post\" содержит текст на украинском языке\n",
    "mask = df['post'].str.contains(ukrainian_pattern, regex=True, na=False)\n",
    "\n",
    "# сохраняем в датафрейме только строки, в которых маска имеет значение False\n",
    "df = df[~mask]"
   ]
  },
  {
   "cell_type": "markdown",
   "id": "94692c81",
   "metadata": {},
   "source": [
    "Хештеги, которые встречаются в тексте поста, выносим в отдельный столбец."
   ]
  },
  {
   "cell_type": "code",
   "execution_count": 79,
   "id": "5008be81",
   "metadata": {},
   "outputs": [],
   "source": [
    "# сохраняем хэштэги в отдельный столбец перед их удалением из постов\n",
    "df['hashtags'] = df['post'].str.findall(r'#([^\\s]+)').apply(lambda x: ', '.join(x))"
   ]
  },
  {
   "cell_type": "markdown",
   "id": "df751268",
   "metadata": {},
   "source": [
    "## Подготовка текста"
   ]
  },
  {
   "cell_type": "markdown",
   "id": "ddb3addf",
   "metadata": {},
   "source": [
    "В дальнейшем нам предстоит анализировать тексты постов, поэтому сразу выполним лемматизацию текстов и сохраним результат в отдельном столбце `post_lemmatized`."
   ]
  },
  {
   "cell_type": "code",
   "execution_count": 80,
   "id": "b66a0cdf",
   "metadata": {},
   "outputs": [
    {
     "name": "stdout",
     "output_type": "stream",
     "text": [
      "CPU times: total: 58.4 s\n",
      "Wall time: 1min 6s\n"
     ]
    }
   ],
   "source": [
    "%%time\n",
    "# функция лемматизации текста\n",
    "morph = pymorphy2.MorphAnalyzer()\n",
    "def lemmatize_text(text):\n",
    "    lemmatized_words = [morph.parse(word)[0].normal_form for word in text.split()]\n",
    "    return ' '.join(lemmatized_words)\n",
    "\n",
    "# лемматизируем посты\n",
    "df['post_lemmatized'] = df['post'].apply(lemmatize_text)"
   ]
  },
  {
   "cell_type": "code",
   "execution_count": 81,
   "id": "741c23fe",
   "metadata": {},
   "outputs": [],
   "source": [
    "# удаляем слова, которые идут после хэш-тэга\n",
    "df['post_lemmatized'] = df['post_lemmatized'].apply(lambda x: re.sub(r'#[^\\s]+', ' ', x))"
   ]
  },
  {
   "cell_type": "code",
   "execution_count": 82,
   "id": "826b14d0",
   "metadata": {},
   "outputs": [],
   "source": [
    "# производим замену дефиса на пробел\n",
    "df[\"post_lemmatized\"] = df[\"post_lemmatized\"].str.replace(\"-\", \" \")"
   ]
  },
  {
   "cell_type": "code",
   "execution_count": 83,
   "id": "ee39add6",
   "metadata": {},
   "outputs": [],
   "source": [
    "# удаляем лишние текстовые символы (те, которые не состоят из букв русского алфавита)\n",
    "# только русские буквы и пробелы\n",
    "df['post_lemmatized'] = df['post_lemmatized'].str.replace('[^а-яА-ЯёЁ\\s]', ' ', regex=True) "
   ]
  },
  {
   "cell_type": "code",
   "execution_count": 84,
   "id": "bef43cb8",
   "metadata": {},
   "outputs": [
    {
     "name": "stderr",
     "output_type": "stream",
     "text": [
      "[nltk_data] Downloading package stopwords to\n",
      "[nltk_data]     C:\\Users\\Papin\\AppData\\Roaming\\nltk_data...\n",
      "[nltk_data]   Package stopwords is already up-to-date!\n"
     ]
    }
   ],
   "source": [
    "# скачиваем стоп-слова \n",
    "nltk.download('stopwords')\n",
    "stop_words = set(stopwords.words('russian'))\n",
    "\n",
    "# еще один список от bukvarix.com - список стоп-слов Яндекс Wordstat\n",
    "# (этот список можно дополнить/изменить)\n",
    "file_path_words = os.path.join(file_path, 'stop_words.txt')\n",
    "with open(file_path_words, 'r', encoding='utf-8') as file:\n",
    "    stop_words_buk = file.read()"
   ]
  },
  {
   "cell_type": "code",
   "execution_count": 85,
   "id": "470ce73f",
   "metadata": {},
   "outputs": [],
   "source": [
    "# удаляем стоп-слова и слова-паразиты\n",
    "df['post_lemmatized'] = df['post_lemmatized'].apply(\n",
    "    lambda x: ' '.join([word for word in x.split() if word not in stop_words])\n",
    ")\n",
    "df['post_lemmatized'] = df['post_lemmatized'].apply(\n",
    "    lambda x: ' '.join([word for word in x.split() if word.lower() not in stop_words_buk])\n",
    ")"
   ]
  },
  {
   "cell_type": "markdown",
   "id": "d12729b8",
   "metadata": {},
   "source": [
    "Оставляем только посты содержащие буквы русского алфавита. Избавляемся от постов исключительно на иностранных языках."
   ]
  },
  {
   "cell_type": "code",
   "execution_count": 86,
   "id": "5f552eac",
   "metadata": {},
   "outputs": [],
   "source": [
    "# определяем шаблон регулярного выражения для русских букв\n",
    "pattern = '[^а-яА-ЯёЁ]'\n",
    "# создаем маску, чтобы проверить, содержит ли каждая ячейка русские буквы\n",
    "mask = df['post_lemmatized'].str.contains(pattern, regex=True)\n",
    "# фильтруем датафрейм, используя маску\n",
    "df = df[mask]"
   ]
  },
  {
   "cell_type": "code",
   "execution_count": 87,
   "id": "4b083ce4",
   "metadata": {
    "scrolled": false
   },
   "outputs": [
    {
     "data": {
      "text/html": [
       "<div>\n",
       "<style scoped>\n",
       "    .dataframe tbody tr th:only-of-type {\n",
       "        vertical-align: middle;\n",
       "    }\n",
       "\n",
       "    .dataframe tbody tr th {\n",
       "        vertical-align: top;\n",
       "    }\n",
       "\n",
       "    .dataframe thead th {\n",
       "        text-align: right;\n",
       "    }\n",
       "</style>\n",
       "<table border=\"1\" class=\"dataframe\">\n",
       "  <thead>\n",
       "    <tr style=\"text-align: right;\">\n",
       "      <th></th>\n",
       "      <th>user_id</th>\n",
       "      <th>post</th>\n",
       "      <th>likes</th>\n",
       "      <th>comments</th>\n",
       "      <th>reposts</th>\n",
       "      <th>hashtags</th>\n",
       "      <th>post_lemmatized</th>\n",
       "      <th>user_name</th>\n",
       "      <th>user_head</th>\n",
       "      <th>user_work</th>\n",
       "      <th>user_position</th>\n",
       "      <th>user_tags</th>\n",
       "      <th>user_location</th>\n",
       "      <th>user_viewers</th>\n",
       "      <th>user_contacts</th>\n",
       "      <th>user_common_info</th>\n",
       "      <th>url</th>\n",
       "      <th>post_url</th>\n",
       "      <th>user_experience</th>\n",
       "    </tr>\n",
       "  </thead>\n",
       "  <tbody>\n",
       "    <tr>\n",
       "      <th>2842</th>\n",
       "      <td>NaN</td>\n",
       "      <td>'Я #нанимаю #unix. Знаете людейкоторых это может заинтересовать?']</td>\n",
       "      <td>2</td>\n",
       "      <td>0</td>\n",
       "      <td>0</td>\n",
       "      <td>нанимаю, unix.</td>\n",
       "      <td>людейкоторое заинтересовать</td>\n",
       "      <td>Valeria Tomilova</td>\n",
       "      <td>IT recruiter – Sberbank</td>\n",
       "      <td>NaN</td>\n",
       "      <td>NaN</td>\n",
       "      <td>NaN</td>\n",
       "      <td>NaN</td>\n",
       "      <td>NaN</td>\n",
       "      <td>NaN</td>\n",
       "      <td>NaN</td>\n",
       "      <td>https://www.linkedin.com/in/valeria-tomilova-47947b17b?miniProfileUrn=urn%3Ali%3Afs_miniProfile%3AACoAACqbI90BerDUx0yBOG-vmpo5L66ntJwjIVk</td>\n",
       "      <td>NaN</td>\n",
       "      <td>NaN</td>\n",
       "    </tr>\n",
       "    <tr>\n",
       "      <th>3217</th>\n",
       "      <td>NaN</td>\n",
       "      <td>'Всем привет! Команда IT-подбора ВТБ в поисках Ресечеров и Рекрутеров. Все подробности через ЛС. Буду рада репосту=) #вакансия #itресечер #itрекрутер #работавit #itпоборперсонала</td>\n",
       "      <td>9</td>\n",
       "      <td>0</td>\n",
       "      <td>0</td>\n",
       "      <td>вакансия, itресечер, itрекрутер, работавit, itпоборперсонала</td>\n",
       "      <td>всема команда подбор втб поиск ресечер рекрутеров репосту</td>\n",
       "      <td>Евгения Барыева</td>\n",
       "      <td>IT-Recruiter</td>\n",
       "      <td>NaN</td>\n",
       "      <td>NaN</td>\n",
       "      <td>NaN</td>\n",
       "      <td>NaN</td>\n",
       "      <td>NaN</td>\n",
       "      <td>NaN</td>\n",
       "      <td>NaN</td>\n",
       "      <td>https://www.linkedin.com/in/%D0%B5%D0%B2%D0%B3%D0%B5%D0%BD%D0%B8%D1%8F-%D0%B1%D0%B0%D1%80%D1%8B%D0%B5%D0%B2%D0%B0-8b4820216?miniProfileUrn=urn%3Ali%3Afs_miniProfile%3AACoAADaVJwgBCJwG41dHquybUkltv76ywOwQLfM</td>\n",
       "      <td>NaN</td>\n",
       "      <td>NaN</td>\n",
       "    </tr>\n",
       "  </tbody>\n",
       "</table>\n",
       "</div>"
      ],
      "text/plain": [
       "     user_id  \\\n",
       "2842     NaN   \n",
       "3217     NaN   \n",
       "\n",
       "                                                                                                                                                                                     post  \\\n",
       "2842                                                                                                                   'Я #нанимаю #unix. Знаете людейкоторых это может заинтересовать?']   \n",
       "3217   'Всем привет! Команда IT-подбора ВТБ в поисках Ресечеров и Рекрутеров. Все подробности через ЛС. Буду рада репосту=) #вакансия #itресечер #itрекрутер #работавit #itпоборперсонала   \n",
       "\n",
       "      likes  comments  reposts  \\\n",
       "2842      2         0        0   \n",
       "3217      9         0        0   \n",
       "\n",
       "                                                          hashtags  \\\n",
       "2842                                                нанимаю, unix.   \n",
       "3217  вакансия, itресечер, itрекрутер, работавit, itпоборперсонала   \n",
       "\n",
       "                                                post_lemmatized  \\\n",
       "2842                                людейкоторое заинтересовать   \n",
       "3217  всема команда подбор втб поиск ресечер рекрутеров репосту   \n",
       "\n",
       "             user_name                user_head user_work user_position  \\\n",
       "2842  Valeria Tomilova  IT recruiter – Sberbank       NaN           NaN   \n",
       "3217   Евгения Барыева             IT-Recruiter       NaN           NaN   \n",
       "\n",
       "     user_tags user_location user_viewers user_contacts user_common_info  \\\n",
       "2842       NaN           NaN          NaN           NaN              NaN   \n",
       "3217       NaN           NaN          NaN           NaN              NaN   \n",
       "\n",
       "                                                                                                                                                                                                                 url  \\\n",
       "2842                                                                       https://www.linkedin.com/in/valeria-tomilova-47947b17b?miniProfileUrn=urn%3Ali%3Afs_miniProfile%3AACoAACqbI90BerDUx0yBOG-vmpo5L66ntJwjIVk   \n",
       "3217  https://www.linkedin.com/in/%D0%B5%D0%B2%D0%B3%D0%B5%D0%BD%D0%B8%D1%8F-%D0%B1%D0%B0%D1%80%D1%8B%D0%B5%D0%B2%D0%B0-8b4820216?miniProfileUrn=urn%3Ali%3Afs_miniProfile%3AACoAADaVJwgBCJwG41dHquybUkltv76ywOwQLfM   \n",
       "\n",
       "     post_url  user_experience  \n",
       "2842      NaN              NaN  \n",
       "3217      NaN              NaN  "
      ]
     },
     "execution_count": 87,
     "metadata": {},
     "output_type": "execute_result"
    }
   ],
   "source": [
    "# оценим качество подготовки текста\n",
    "df.sample(2)"
   ]
  },
  {
   "cell_type": "code",
   "execution_count": 88,
   "id": "dfc9e402",
   "metadata": {},
   "outputs": [
    {
     "name": "stdout",
     "output_type": "stream",
     "text": [
      "<class 'pandas.core.frame.DataFrame'>\n",
      "Index: 3020 entries, 0 to 3627\n",
      "Data columns (total 19 columns):\n",
      " #   Column            Non-Null Count  Dtype  \n",
      "---  ------            --------------  -----  \n",
      " 0   user_id           2229 non-null   object \n",
      " 1   post              3020 non-null   object \n",
      " 2   likes             3020 non-null   int32  \n",
      " 3   comments          3020 non-null   int32  \n",
      " 4   reposts           3020 non-null   int32  \n",
      " 5   hashtags          3020 non-null   object \n",
      " 6   post_lemmatized   3020 non-null   object \n",
      " 7   user_name         3020 non-null   object \n",
      " 8   user_head         3020 non-null   object \n",
      " 9   user_work         2300 non-null   object \n",
      " 10  user_position     2262 non-null   object \n",
      " 11  user_tags         611 non-null    object \n",
      " 12  user_location     2258 non-null   object \n",
      " 13  user_viewers      2229 non-null   object \n",
      " 14  user_contacts     2229 non-null   object \n",
      " 15  user_common_info  2079 non-null   object \n",
      " 16  url               791 non-null    object \n",
      " 17  post_url          33 non-null     object \n",
      " 18  user_experience   36 non-null     float64\n",
      "dtypes: float64(1), int32(3), object(15)\n",
      "memory usage: 436.5+ KB\n"
     ]
    }
   ],
   "source": [
    "df.info()"
   ]
  },
  {
   "cell_type": "markdown",
   "id": "552da191",
   "metadata": {},
   "source": [
    "Из 3,6 тыс. постов (3628 единиц), пригодных для использования, осталось чуть более трех тысяч (3026 единиц)."
   ]
  },
  {
   "cell_type": "markdown",
   "id": "bf40d414",
   "metadata": {},
   "source": [
    "---"
   ]
  },
  {
   "cell_type": "markdown",
   "id": "7f4e0a56",
   "metadata": {},
   "source": [
    "Мы получили датасет, который содержит следующие поля:\n",
    "\n",
    "- `user_id` - идентификатор пользователя _Linkedin_,\n",
    "- `post` - текст поста,\n",
    "- `likes` - число лайков поста,\n",
    "- `comments` - число комментариев к посту,\n",
    "- `reposts` - число репостов,\n",
    "- `hashtags` - хештеги взятые из текста поста,\n",
    "- `post_lemmatized` - лемматизированный текст поста,\n",
    "- `user_name` - имя пользователя,\n",
    "- `user_head` - подпись пользователя, обычно тут указывают специализацию, например Data Analyst,\n",
    "- `user_work` - текущее или последнее место работы пользователя,\n",
    "- `user_position` - должность,\n",
    "- `user_tags` - теги, которые пользователь указал в своем профиле,\n",
    "- `user_location` - место жительства,\n",
    "- `user_viewers` - число фоловеров, т.е. других пользователей, отслеживающих активность данного пользователя,\n",
    "- `user_contacts` - число контактов,\n",
    "- `user_common_info` - информация пользователя о себе."
   ]
  },
  {
   "cell_type": "markdown",
   "id": "ddc8d91b",
   "metadata": {},
   "source": [
    "##### Сохранение датасетов"
   ]
  },
  {
   "cell_type": "code",
   "execution_count": 89,
   "id": "a5302032",
   "metadata": {},
   "outputs": [],
   "source": [
    "# Сохраняем датафрейм лемматизации\n",
    "df.to_csv(os.path.join(file_path, 'unity_datasets.csv'))"
   ]
  },
  {
   "cell_type": "markdown",
   "id": "adbe8fdb",
   "metadata": {},
   "source": [
    "---"
   ]
  },
  {
   "cell_type": "markdown",
   "id": "6da47d75",
   "metadata": {},
   "source": [
    "## EDA"
   ]
  },
  {
   "cell_type": "markdown",
   "id": "3ec595f6",
   "metadata": {},
   "source": [
    "Итоговый датасет имеет некоторые проблемы, которые необходимо обработать:\n",
    "\n",
    "- числовые поля `comments` и `reports` имеют тип object,\n",
    "- есть пропуски в `user_work`, `user_tags`, `user_location` и `user_common_info`,\n",
    "- пользовательские реакции представлены тремя полями `likes`, `comments` и `reposts`.\n",
    "\n",
    "Возможно есть и другие проблемы. Рассмотрим подробнее."
   ]
  },
  {
   "cell_type": "code",
   "execution_count": 90,
   "id": "ad2acc82",
   "metadata": {},
   "outputs": [
    {
     "data": {
      "text/plain": [
       "228"
      ]
     },
     "execution_count": 90,
     "metadata": {},
     "output_type": "execute_result"
    }
   ],
   "source": [
    "# проверим на дубли в post_lemmatized\n",
    "df.post_lemmatized.duplicated().sum()"
   ]
  },
  {
   "cell_type": "code",
   "execution_count": 91,
   "id": "e6748cf0",
   "metadata": {},
   "outputs": [],
   "source": [
    "# удаляем дубликаты\n",
    "df = df.drop_duplicates(subset='post_lemmatized', ignore_index=True)"
   ]
  },
  {
   "cell_type": "code",
   "execution_count": 92,
   "id": "07243807",
   "metadata": {},
   "outputs": [
    {
     "ename": "NameError",
     "evalue": "name 'sb' is not defined",
     "output_type": "error",
     "traceback": [
      "\u001b[1;31m---------------------------------------------------------------------------\u001b[0m",
      "\u001b[1;31mNameError\u001b[0m                                 Traceback (most recent call last)",
      "Cell \u001b[1;32mIn[92], line 2\u001b[0m\n\u001b[0;32m      1\u001b[0m \u001b[38;5;66;03m# оценим визуально пропуски\u001b[39;00m\n\u001b[1;32m----> 2\u001b[0m \u001b[43msb\u001b[49m\u001b[38;5;241m.\u001b[39mheatmap(df\u001b[38;5;241m.\u001b[39misna()\u001b[38;5;241m.\u001b[39mT)\n",
      "\u001b[1;31mNameError\u001b[0m: name 'sb' is not defined"
     ]
    }
   ],
   "source": [
    "# оценим визуально пропуски\n",
    "sb.heatmap(df.isna().T);"
   ]
  },
  {
   "cell_type": "markdown",
   "id": "b9095fab",
   "metadata": {},
   "source": [
    "Все поля, в которых имеются пропуски, просто не содержат информации, пользователи ее не указали, скрипт парсинга не смог корректно выявить эти данные на странице. В любом случае мы можем их заменить на знак \"-\" (минус или тире), это не должно повлиять на результаты анализа."
   ]
  },
  {
   "cell_type": "code",
   "execution_count": null,
   "id": "759ad2f7",
   "metadata": {},
   "outputs": [],
   "source": [
    "columns_to_fill = ['user_id', 'user_work', 'user_tags', 'user_location', 'user_common_info', 'url', 'post_url']\n",
    "\n",
    "columns_to_fill_dight = ['user_experience', 'user_viewers']\n",
    "\n",
    "# избавляемся от пропусков\n",
    "df[columns_to_fill] = df[columns_to_fill].fillna(value='-')\n",
    "\n",
    "# избавляемся от пропусков нулями\n",
    "df[columns_to_fill_dight] = df[columns_to_fill_dight].fillna(0)"
   ]
  },
  {
   "cell_type": "code",
   "execution_count": null,
   "id": "1ca706ec",
   "metadata": {
    "scrolled": true
   },
   "outputs": [],
   "source": [
    "# проверим результат\n",
    "print(columns_to_fill)\n",
    "display(df[columns_to_fill].isna().sum())\n",
    "\n",
    "print('-'*100)\n",
    "\n",
    "print(columns_to_fill_dight)\n",
    "display(df[columns_to_fill_dight].isna().sum())"
   ]
  },
  {
   "cell_type": "code",
   "execution_count": null,
   "id": "9637889a",
   "metadata": {},
   "outputs": [],
   "source": [
    "# объединим пользовательские реакции в одну\n",
    "df['reaction'] = df.likes + df.comments + df.reposts"
   ]
  },
  {
   "cell_type": "code",
   "execution_count": null,
   "id": "26476d73",
   "metadata": {},
   "outputs": [],
   "source": [
    "# проверим содержимое поля числа фоловеров\n",
    "df.user_viewers.unique()"
   ]
  },
  {
   "cell_type": "code",
   "execution_count": null,
   "id": "efe073be",
   "metadata": {},
   "outputs": [],
   "source": [
    "# оставим только числа\n",
    "df.user_viewers = df.user_viewers.str.replace(r'\\D', '', regex=True).fillna(0)\n",
    "\n",
    "# изменим тип данных\n",
    "df.user_viewers = df.user_viewers.astype('int')"
   ]
  },
  {
   "cell_type": "code",
   "execution_count": null,
   "id": "c585e8b1",
   "metadata": {},
   "outputs": [],
   "source": [
    "# проверим содержимое поля числа контактов\n",
    "df.user_contacts.unique()"
   ]
  },
  {
   "cell_type": "code",
   "execution_count": null,
   "id": "4789921c",
   "metadata": {},
   "outputs": [],
   "source": [
    "# оставим только числа\n",
    "df.user_contacts = df.user_contacts.str.replace('[\\D]', '', regex=True).fillna(0)\n",
    "\n",
    "# изменим тип данных\n",
    "df.user_contacts = df.user_contacts.astype('int')"
   ]
  },
  {
   "cell_type": "code",
   "execution_count": null,
   "id": "921cdb7c",
   "metadata": {
    "scrolled": false
   },
   "outputs": [],
   "source": [
    "df.info()"
   ]
  },
  {
   "cell_type": "markdown",
   "id": "138a7340",
   "metadata": {},
   "source": [
    "Видимые проблемы устранены. Мы избавились от пропусков и количественные данные преобразовали в тип _int_. "
   ]
  },
  {
   "cell_type": "markdown",
   "id": "fed81352",
   "metadata": {},
   "source": [
    "## Выборка постов"
   ]
  },
  {
   "cell_type": "markdown",
   "id": "d4964343",
   "metadata": {},
   "source": [
    "В соответствии с техническим заданием, нам необходимо найти посты, соответствующие набору ключевых слов. Постараемся выполнить наибольший охват по теме наставничество. В нашем датасете, кроме постов, ключевые слова могут встречаться в тегах и информации о пользователе.\n",
    "\n",
    "Составим список ключевых слов и выполним поиск."
   ]
  },
  {
   "cell_type": "code",
   "execution_count": null,
   "id": "7bebd34a",
   "metadata": {},
   "outputs": [],
   "source": [
    "# ключевые слова для фильтрации постов\n",
    "keywords = '|'.join([\n",
    "    'обучение', 'ментор', 'менторство', 'менторинг', 'тренер', 'советник',\n",
    "    'наставник', 'наставничество', 'подопечный', 'знания', 'коуч', 'коучинг',\n",
    "    'опыт', 'опытный', 'развитие', 'скилл' 'mentorship', 'mentor', 'coaching',\n",
    "    'buddy', 'skills', 'itmentoring'\n",
    "])\n",
    "\n",
    "# ищем ключевые слова в постах, тегах пользователей,\n",
    "# хештегах и информации о пользователе\n",
    "keywords_filter = (\n",
    "    (df.post_lemmatized.str.contains(keywords, case=False))\n",
    "    | (df.user_tags.str.contains(keywords, case=False))\n",
    "    | (df.hashtags.str.contains(keywords, case=False))\n",
    "    | (df.user_common_info.str.contains(keywords, case=False))\n",
    ")\n",
    "\n",
    "print(\n",
    "    'Число постов соответствующих наибольшему охвату, по ключевым словам:',\n",
    "    keywords_filter.sum()\n",
    ")"
   ]
  },
  {
   "cell_type": "code",
   "execution_count": null,
   "id": "b3bbae4f",
   "metadata": {
    "scrolled": false
   },
   "outputs": [],
   "source": [
    "# оставим только подходящие посты\n",
    "df = df[keywords_filter]"
   ]
  },
  {
   "cell_type": "code",
   "execution_count": null,
   "id": "26d4b520",
   "metadata": {},
   "outputs": [],
   "source": [
    "df.info()"
   ]
  },
  {
   "cell_type": "markdown",
   "id": "9f456f7a",
   "metadata": {},
   "source": [
    "Оценим размеры постов в количестве символов и количестве слов."
   ]
  },
  {
   "cell_type": "code",
   "execution_count": null,
   "id": "f397a650",
   "metadata": {},
   "outputs": [],
   "source": [
    "# подсчет числа символов\n",
    "def count_chars(text):\n",
    "    return(len(text))\n",
    "\n",
    "# подсчет числа слов\n",
    "def count_words(text):\n",
    "    return(len(text.split()))"
   ]
  },
  {
   "cell_type": "code",
   "execution_count": null,
   "id": "8b7df248",
   "metadata": {},
   "outputs": [],
   "source": [
    "# посчитаем статистику и построим графики\n",
    "df.loc[:, 'num_chars'] = df.post_lemmatized.apply(count_chars)\n",
    "df.loc[:, 'num_words'] = df.post_lemmatized.apply(count_words)\n",
    "\n",
    "plt.figure(figsize=(10, 4))\n",
    "plt.subplot(1, 2, 1)\n",
    "df['num_chars'].hist(bins=50)\n",
    "plt.title('Распределение постов по количеству символов')\n",
    "plt.xlabel('Число символов')\n",
    "plt.subplot(1, 2, 2)\n",
    "df['num_words'].hist(bins=50)\n",
    "plt.title('Распределение постов по количеству слов')\n",
    "plt.xlabel('Число слов')\n",
    "plt.show()"
   ]
  },
  {
   "cell_type": "code",
   "execution_count": null,
   "id": "69070196",
   "metadata": {},
   "outputs": [],
   "source": [
    "# характеристики постов по символам\n",
    "df.num_chars.describe()"
   ]
  },
  {
   "cell_type": "code",
   "execution_count": null,
   "id": "161a5da8",
   "metadata": {},
   "outputs": [],
   "source": [
    "# характеристики постов по словам\n",
    "df.num_words.describe()"
   ]
  },
  {
   "cell_type": "code",
   "execution_count": null,
   "id": "e000a2aa",
   "metadata": {},
   "outputs": [],
   "source": [
    "np.median(df.num_chars)"
   ]
  },
  {
   "cell_type": "markdown",
   "id": "9d97b940",
   "metadata": {},
   "source": [
    "Большая часть постов короткие. Медианный размер поста 355 символов 39 слов. Есть смысл отбросить совсем короткие посты исключив их из анализа.\n",
    "\n",
    "Оценим потери датасета, если отбросим посты короче 90 символов или 9 слов."
   ]
  },
  {
   "cell_type": "code",
   "execution_count": null,
   "id": "915194ac",
   "metadata": {},
   "outputs": [],
   "source": [
    "# ограничения по количеству символов и слов\n",
    "min_chars = 90\n",
    "min_words = 9\n",
    "\n",
    "chars_filter = df.num_chars < min_chars\n",
    "words_filter = df.num_words < min_words"
   ]
  },
  {
   "cell_type": "code",
   "execution_count": null,
   "id": "ef589a88",
   "metadata": {},
   "outputs": [],
   "source": [
    "# число записей, попадающих под ограничения\n",
    "len(df[chars_filter | words_filter])"
   ]
  },
  {
   "cell_type": "code",
   "execution_count": null,
   "id": "e307affb",
   "metadata": {},
   "outputs": [],
   "source": [
    "# оценим содержание мелких текстов\n",
    "df.query('num_chars < @min_chars and num_words < @min_words').post_lemmatized.head()"
   ]
  },
  {
   "cell_type": "code",
   "execution_count": null,
   "id": "e35868d5",
   "metadata": {},
   "outputs": [],
   "source": [
    "# удаляем короткие посты\n",
    "df = df.query('num_chars >= @min_chars and num_words >= @min_words')"
   ]
  },
  {
   "cell_type": "code",
   "execution_count": null,
   "id": "30e17dc8",
   "metadata": {},
   "outputs": [],
   "source": [
    "# оценка датасета после фильтрации\n",
    "df.info()"
   ]
  },
  {
   "cell_type": "markdown",
   "id": "35583f3e",
   "metadata": {},
   "source": [
    "# Моделирование"
   ]
  },
  {
   "cell_type": "markdown",
   "id": "037057c7",
   "metadata": {},
   "source": [
    "Складываем все лемматизированные тексты в один список."
   ]
  },
  {
   "cell_type": "code",
   "execution_count": null,
   "id": "f41f4f92",
   "metadata": {},
   "outputs": [],
   "source": [
    "docs = df[\"post_lemmatized\"].tolist()"
   ]
  },
  {
   "cell_type": "code",
   "execution_count": null,
   "id": "ef4935fe",
   "metadata": {},
   "outputs": [],
   "source": [
    "# первые пять элементов\n",
    "docs[:5]"
   ]
  },
  {
   "cell_type": "markdown",
   "id": "c40a49cd",
   "metadata": {},
   "source": [
    "**Вывод:**\n",
    "\n",
    "- Мы выполнили предобработку полученных данных, удалили из текстов эмодзи и лишние символы, провели лемматизацию постов. Исключили посты без русских символов.\n",
    "\n",
    "- Объединили таблицы постов и профилей пользователей и создали датасет. Устранили в датасете выявленные проблемы, избавились от пропусков и привели типы данных в соответствие.\n",
    "\n",
    "- Выполнили поиск постов в соответствии с ключевыми словами для наибольшего охвата целевой аудитории.\n",
    "\n",
    "- Исключили посты с небольшим числом символов и слов.\n",
    "\n",
    "Наш датасет значительно сократился, но теперь наши данные готовы для анализа."
   ]
  },
  {
   "cell_type": "markdown",
   "id": "f81788b1",
   "metadata": {},
   "source": [
    "## Векторизация текстов"
   ]
  },
  {
   "cell_type": "markdown",
   "id": "1c26ea7e",
   "metadata": {},
   "source": [
    "Переведём тексты и слова, в числовое представление, т.е. выполним векторизацию. Для этого можно использовать метод Tf-iDf."
   ]
  },
  {
   "cell_type": "code",
   "execution_count": null,
   "id": "a38611fa",
   "metadata": {},
   "outputs": [],
   "source": [
    "# создаем модель векторизации\n",
    "tfidf = TfidfVectorizer(min_df=20, max_df=0.9)"
   ]
  },
  {
   "cell_type": "code",
   "execution_count": null,
   "id": "77f9b788",
   "metadata": {},
   "outputs": [],
   "source": [
    "%%time\n",
    "# обучим модель и получим векторное представление для каждого текста\n",
    "x = tfidf.fit_transform(docs)"
   ]
  },
  {
   "cell_type": "code",
   "execution_count": null,
   "id": "1a44c2d7",
   "metadata": {},
   "outputs": [],
   "source": [
    "# размер полученной матрицы\n",
    "x.shape"
   ]
  },
  {
   "cell_type": "markdown",
   "id": "1f53030c",
   "metadata": {},
   "source": [
    "Составим словарь {id_токена: токен} - он пригодится нам позднее."
   ]
  },
  {
   "cell_type": "code",
   "execution_count": null,
   "id": "9baf2105",
   "metadata": {},
   "outputs": [],
   "source": [
    "# список слов векторизатора\n",
    "tf_feature_names = tfidf.get_feature_names_out()\n",
    "tf_feature_names"
   ]
  },
  {
   "cell_type": "code",
   "execution_count": null,
   "id": "e6a91fc5",
   "metadata": {},
   "outputs": [],
   "source": [
    "# словарь\n",
    "id2word = {i: token for i, token in enumerate(tf_feature_names)}"
   ]
  },
  {
   "cell_type": "code",
   "execution_count": null,
   "id": "491d9e5c",
   "metadata": {},
   "outputs": [],
   "source": [
    "# примеры слов в словаре\n",
    "id2word[0], id2word[1], id2word[2], id2word[200], id2word[420]"
   ]
  },
  {
   "cell_type": "markdown",
   "id": "6440cc46",
   "metadata": {},
   "source": [
    "## 3.2. LDA"
   ]
  },
  {
   "cell_type": "markdown",
   "id": "3b827784",
   "metadata": {},
   "source": [
    "Теперь можем запустить алгоритм LDA. Выполним подбор параметров. Качество модели будем оценивать с помощью метода _score()_. Посмотрим как меняется скор в зависимости от количества тем и числа итераций."
   ]
  },
  {
   "cell_type": "code",
   "execution_count": null,
   "id": "b6a9abe8",
   "metadata": {},
   "outputs": [],
   "source": [
    "# параметры\n",
    "n_topic_list = [10, 15, 20] # число тем\n",
    "iter_list=[50, 100, 150] # число итераций"
   ]
  },
  {
   "cell_type": "code",
   "execution_count": null,
   "id": "3d11f1f1",
   "metadata": {},
   "outputs": [],
   "source": [
    "%%time\n",
    "\n",
    "# список для сохранения результатов\n",
    "lda_results = []\n",
    "\n",
    "# цикл подбора параметров\n",
    "for n_topics, max_iter in product(n_topic_list, iter_list):\n",
    "    \n",
    "    # создаем модель\n",
    "    lda = LatentDirichletAllocation(\n",
    "        n_components=n_topics,\n",
    "        max_iter=max_iter,\n",
    "        n_jobs=-2,\n",
    "        random_state=SEED\n",
    "    )\n",
    "\n",
    "    # обучаем модель на матрице векторизованных текстов\n",
    "    lda.fit_transform(x)\n",
    "\n",
    "    # метрика показывает приблизительное логарифмическое правдоподобие\n",
    "    lda_score = lda.score(x)\n",
    "\n",
    "    # сохраняем результаты\n",
    "    lda_results.append([n_topics, max_iter, lda_score])"
   ]
  },
  {
   "cell_type": "code",
   "execution_count": null,
   "id": "83d15f98",
   "metadata": {
    "scrolled": false
   },
   "outputs": [],
   "source": [
    "pd.DataFrame(\n",
    "    lda_results, columns=['n_topics', 'max_iter', 'lda_score']\n",
    ").style.highlight_max(\n",
    "    subset=['lda_score']\n",
    ").set_caption('<h3>Сравнительная таблица качества моделирования</h3>')"
   ]
  },
  {
   "cell_type": "markdown",
   "id": "b02c1800",
   "metadata": {},
   "source": [
    "Минимальное значение lda_score при n_topics = 10 и max_iter = 100. Эксперимент показал, что с увеличением числа топиков, скор ухудшается, а увеличение числа итераций на скор влияет незначительно.\n",
    "\n",
    "Получим модель с указанными параметрами."
   ]
  },
  {
   "cell_type": "code",
   "execution_count": null,
   "id": "edcffa4c",
   "metadata": {},
   "outputs": [],
   "source": [
    "%%time\n",
    "\n",
    "# число тем\n",
    "n_topics = 10\n",
    "n_iters = 100\n",
    "\n",
    "# создаем модель\n",
    "lda = LatentDirichletAllocation(\n",
    "    n_components=n_topics,\n",
    "    max_iter=n_iters,\n",
    "    random_state=SEED\n",
    ")\n",
    "\n",
    "lda_topics = lda.fit_transform(x)"
   ]
  },
  {
   "cell_type": "code",
   "execution_count": null,
   "id": "a1df77ff",
   "metadata": {},
   "outputs": [],
   "source": [
    "# размер полученной матрицы\n",
    "lda_topics.shape"
   ]
  },
  {
   "cell_type": "markdown",
   "id": "0fe64c5c",
   "metadata": {},
   "source": [
    "Номера строк матрицы соответствуют индексам текстов, а колонки выделенным темам. В каждой ячейке стоит вероятность того, что данный текст относится к данной теме."
   ]
  },
  {
   "cell_type": "markdown",
   "id": "d42b503b",
   "metadata": {},
   "source": [
    "Для наглядности, выберем несколько случайных записей и построим графики полученных вероятностей принадлежности текста к топикам."
   ]
  },
  {
   "cell_type": "code",
   "execution_count": null,
   "id": "d3de583e",
   "metadata": {},
   "outputs": [],
   "source": [
    "plt.figure(figsize=(10,10))\n",
    "for i in range(6):\n",
    "    idx = np.random.randint(0, lda_topics.shape[0])\n",
    "    plt.subplot(3, 2, i+1)\n",
    "    plt.plot(lda_topics[idx])"
   ]
  },
  {
   "cell_type": "markdown",
   "id": "f03249ca",
   "metadata": {},
   "source": [
    "Некоторые тексты могут принадлежать сразу нескольким темам."
   ]
  },
  {
   "cell_type": "markdown",
   "id": "5c1ff11a",
   "metadata": {},
   "source": [
    "### Ключевые слова"
   ]
  },
  {
   "cell_type": "markdown",
   "id": "d6df575b",
   "metadata": {},
   "source": [
    "Теперь извлечём ключевые слова для каждой из тем."
   ]
  },
  {
   "cell_type": "code",
   "execution_count": null,
   "id": "4ef487bd",
   "metadata": {},
   "outputs": [],
   "source": [
    "# процедура строит график вероятностей ключевых слов по темам\n",
    "def plot_top_words(model, feature_names, n_top_words, title):\n",
    "    fig, axes = plt.subplots(2, 5, figsize=(30, 15), sharex=True)\n",
    "    axes = axes.flatten()\n",
    "    for topic_idx, topic in enumerate(model.components_):\n",
    "        top_features_ind = topic.argsort()[: -n_top_words - 1 : -1]\n",
    "        top_features = [feature_names[i] for i in top_features_ind]\n",
    "        weights = topic[top_features_ind]\n",
    "\n",
    "        ax = axes[topic_idx]\n",
    "        ax.barh(top_features, weights, height=0.7)\n",
    "        ax.set_title(f\"Тема {topic_idx}\", fontdict={\"fontsize\": 30})\n",
    "        ax.invert_yaxis()\n",
    "        ax.tick_params(axis=\"both\", which=\"major\", labelsize=20)\n",
    "        for i in \"top right left\".split():\n",
    "            ax.spines[i].set_visible(False)\n",
    "        fig.suptitle(title, fontsize=40)\n",
    "\n",
    "    plt.subplots_adjust(top=0.90, bottom=0.05, wspace=0.90, hspace=0.3)\n",
    "    plt.show()"
   ]
  },
  {
   "cell_type": "code",
   "execution_count": null,
   "id": "425436a4",
   "metadata": {
    "scrolled": false
   },
   "outputs": [],
   "source": [
    "# число ключевых слов в теме\n",
    "n_top_words = 20\n",
    "\n",
    "plot_top_words(\n",
    "    lda, tf_feature_names, n_top_words, 'Темы в полученной модели LDA'\n",
    ")"
   ]
  },
  {
   "cell_type": "markdown",
   "id": "571f65d9",
   "metadata": {},
   "source": [
    "Темы 6 и 8 выделятюся от остальных наибольшими значениями вероятности для ключевых слов."
   ]
  },
  {
   "cell_type": "markdown",
   "id": "a0fd3933",
   "metadata": {},
   "source": [
    "### Интерпретация тем для LDA"
   ]
  },
  {
   "cell_type": "markdown",
   "id": "9a59048e",
   "metadata": {},
   "source": [
    "Мы получили ключевые слова для каждой из тем и можно даже уловить смыл набора слов, но сформулировать тему более конкретно все равно затруднительно. Попробуем ключевые слова передать в ChatGPT и попросим уточнить тему."
   ]
  },
  {
   "cell_type": "markdown",
   "id": "3c0d0344",
   "metadata": {},
   "source": [
    "- Тема 0: \"Программа для опытных специалистов: получение информации и обмен опытом\"\n",
    "- Тема 1: \"Карьера начинающего аналитика безопасности: поиск работы, опыт и обучение\"\n",
    "- Тема 2: \"Развитие облачной платформы Яндекс в России: рост, задачи и появление магазина\"\n",
    "- Тема 3: \"Будущее карьерного поиска: активное деление опыта, переходы и требования в управлении технологиями\"\n",
    "- Тема 4: \"Создание и разработка мобильных приложений: идеи, интерфейс и использование инструментов\"\n",
    "- Тема 5: \"Эффективность электронного текста и видео в маркетинге: сбор информации, контакт и оборудование\"\n",
    "- Тема 6: \"Развитие профессионального опыта в разработке: уровень знаний, командная работа и поиск возможностей\"\n",
    "- Тема 7: \"Поиск и развитие карьеры дизайнера: портфолио, позиции и внимание к дизайну\"\n",
    "- Тема 8: \"Развитие карьеры и обучение в бизнесе: опыт, команда и поиск возможностей\"\n",
    "- Тема 9: \"Использование пакетов и инструментов для реализации функций и обработки данных в бизнесе\""
   ]
  },
  {
   "cell_type": "markdown",
   "id": "faf5a542",
   "metadata": {},
   "source": [
    "### Типичные статьи"
   ]
  },
  {
   "cell_type": "code",
   "execution_count": null,
   "id": "0aba894d",
   "metadata": {
    "scrolled": false
   },
   "outputs": [],
   "source": [
    "for i in range(n_topics):\n",
    "    doc_id = np.argmax(lda_topics[:, i])\n",
    "    print(\"Тема \", i)\n",
    "    print(df.iloc[doc_id][\"post\"])\n",
    "    print(\"\\n\")"
   ]
  },
  {
   "cell_type": "markdown",
   "id": "b2f12ac8",
   "metadata": {},
   "source": [
    "Сохраним в датафрейм номер наиболее вероятной темы для каждого поста."
   ]
  },
  {
   "cell_type": "code",
   "execution_count": null,
   "id": "8ba41d62",
   "metadata": {},
   "outputs": [],
   "source": [
    "# значения наиболее вероятных топиков\n",
    "df['lda_topic'] = np.argmax(lda_topics, axis=1)"
   ]
  },
  {
   "cell_type": "markdown",
   "id": "7d9f355c",
   "metadata": {},
   "source": [
    "**Вывод:**\n",
    "\n",
    "Мы выполнили тематическое моделирование с помощью алгоритма Латентного размещения Дирихле (LDA). Провели эксперимент и выяснили, что с увеличением числа топиков, скор ухудшается, а увеличение числа итераций на скор влияет незначительно.\n",
    "\n",
    "Практически все тексты найденных типичных статей соответствуют темам топиков и ключевым словам. Но вероятности ключевых слов по темам распределены не равномерно."
   ]
  },
  {
   "cell_type": "markdown",
   "id": "5e0e4c70",
   "metadata": {},
   "source": [
    "## 3.3. NMF"
   ]
  },
  {
   "cell_type": "markdown",
   "id": "806a9858",
   "metadata": {},
   "source": [
    "Неотрицательная матричная факторизация (NMF)."
   ]
  },
  {
   "cell_type": "code",
   "execution_count": null,
   "id": "39c412b9",
   "metadata": {},
   "outputs": [],
   "source": [
    "%%time\n",
    "\n",
    "# число тем\n",
    "n_topics = 10\n",
    "n_iters = 300\n",
    "\n",
    "# создаем модель\n",
    "nmf = NMF(\n",
    "    n_components=n_topics,\n",
    "    max_iter=n_iters,\n",
    "    random_state=SEED\n",
    ")\n",
    "\n",
    "# обучаемся\n",
    "nmf_topics = nmf.fit_transform(x)"
   ]
  },
  {
   "cell_type": "code",
   "execution_count": null,
   "id": "60354cf4",
   "metadata": {},
   "outputs": [],
   "source": [
    "# графики полученных вероятностей принадлежности текста к топикам\n",
    "plt.figure(figsize=(10,10))\n",
    "for i in range(6):\n",
    "    idx = np.random.randint(0, nmf_topics.shape[0])\n",
    "    plt.subplot(3, 2, i+1)\n",
    "    plt.plot(nmf_topics[idx])"
   ]
  },
  {
   "cell_type": "markdown",
   "id": "f0024e45",
   "metadata": {},
   "source": [
    "Как и в случае с LDA, публикации могут принадлежать одновременно нескольким темам."
   ]
  },
  {
   "cell_type": "markdown",
   "id": "2fb8fdfd",
   "metadata": {},
   "source": [
    "### Ключевые слова"
   ]
  },
  {
   "cell_type": "code",
   "execution_count": null,
   "id": "650266b3",
   "metadata": {
    "scrolled": false
   },
   "outputs": [],
   "source": [
    "# число ключевых слов в теме\n",
    "n_top_words = 20\n",
    "\n",
    "plot_top_words(\n",
    "    nmf, tf_feature_names, n_top_words, 'Темы в полученной модели NMF'\n",
    ")"
   ]
  },
  {
   "cell_type": "markdown",
   "id": "c8f54ccd",
   "metadata": {},
   "source": [
    "### Интерпретация тем для NMF"
   ]
  },
  {
   "cell_type": "markdown",
   "id": "e41fd39f",
   "metadata": {},
   "source": [
    "- Тема 0: \"Управление бизнесом и развитие продукта в эпоху технологий\"\n",
    "- Тема 1: \"Развитие профессиональных навыков и требования в разработке программного обеспечения\"\n",
    "- Тема 2: \"Поиск работы в сфере дизайна и карьерное развитие\"\n",
    "- Тема 3: \"Онлайн-курсы и обучение веб-дизайну: теория и практика для студентов\"\n",
    "- Тема 4: \"Формирование эффективной команды разработчиков для успешной разработки технического продукта\"\n",
    "- Тема 5: \"Разработка мобильных и веб-приложений: создание продукта с удобным интерфейсом и помощь разработчиков\"\n",
    "- Тема 6: \"Важность обмена идеями и мнениями в работе: получение результатов и решение проблем\"\n",
    "- Тема 7: \"Управление данными и их использование: функции, код и аналитика\"\n",
    "- Тема 8: \"Профессиональное развитие и обмен знаниями: книги, практика и облачные каналы\"\n",
    "- Тема 9: \"Управление профессиональным развитием и участие в проектах: программы, информация и деление опытом\""
   ]
  },
  {
   "cell_type": "markdown",
   "id": "92cee65e",
   "metadata": {},
   "source": [
    "### Типичные статьи"
   ]
  },
  {
   "cell_type": "code",
   "execution_count": null,
   "id": "d3b2a2b4",
   "metadata": {
    "scrolled": false
   },
   "outputs": [],
   "source": [
    "# оценим типичные статьи для каждой из тем\n",
    "for i in range(n_topics):\n",
    "    doc_id = np.argmax(nmf_topics[:, i])\n",
    "    print(\"Тема \", i)\n",
    "    print(df.iloc[doc_id][\"post\"])\n",
    "    print(\"\\n\")"
   ]
  },
  {
   "cell_type": "code",
   "execution_count": null,
   "id": "17c91cb6",
   "metadata": {},
   "outputs": [],
   "source": [
    "# значения наиболее вероятных топиков\n",
    "df['nmf_topic'] = np.argmax(nmf_topics, axis=1)"
   ]
  },
  {
   "cell_type": "markdown",
   "id": "704f03d6",
   "metadata": {},
   "source": [
    "**Вывод:**\n",
    "\n",
    "Определенно есть соответствие между темами, ключевыми словами и текстами. Вероятности ключевых слов в темах распределены равномерно."
   ]
  },
  {
   "cell_type": "markdown",
   "id": "50561fe2",
   "metadata": {},
   "source": [
    "## 3.4. ТОП-10 тем постов целевой аудитории"
   ]
  },
  {
   "cell_type": "markdown",
   "id": "ef49b3e5",
   "metadata": {},
   "source": [
    "Мы рассмотрели два алгоритма для моделирования тем. Оба алгоритма показали достаточно интерпретируемые результаты. Сделать однозначный выбор между ними достаточно сложно.\n",
    "\n",
    "Проверим как распределились топики для разных алгоритмов в датасете."
   ]
  },
  {
   "cell_type": "code",
   "execution_count": null,
   "id": "54b5814a",
   "metadata": {
    "scrolled": false
   },
   "outputs": [],
   "source": [
    "# распределение топиков для LDA\n",
    "plt.figure(figsize=(10,4))\n",
    "plt.subplot(1,2,1)\n",
    "df.lda_topic.value_counts().plot(\n",
    "    kind='bar', xlabel='Номер топика', ylabel='Количество постов',\n",
    "    title='Распределение топиков для LDA'\n",
    ")\n",
    "plt.subplot(1,2,2)\n",
    "df.nmf_topic.value_counts().plot(\n",
    "    kind='bar', xlabel='Номер топика', ylabel='Количество постов',\n",
    "    title='Распределение топиков для NMF'\n",
    ");"
   ]
  },
  {
   "cell_type": "markdown",
   "id": "51ea7239",
   "metadata": {},
   "source": [
    "Алгоритм LDA отдает предпочтение топику под номером 8. Это значит, что алгоритм плохо различает темы.\n",
    "\n",
    "Алгоритм NMF выглядит предпочтительней. Поэтому в качестве ТОП-10 тем в направлении наставничества на основании наибольшего охвата, можно предложить темы на основе ключевых слов, полученных с помощью алгоритма NMF. Но так как мы классифицировали всего 10 тем, то, пожалуй, стоит сократить ТОП до 5 позиций. В таком случае, можем отметить, что наибольшее число публикаций наблюдается для тем: 6, 1, 2, 0 и 7."
   ]
  },
  {
   "cell_type": "markdown",
   "id": "fe3ff885",
   "metadata": {},
   "source": [
    "- **Тема 0: \"Управление бизнесом и развитие продукта в эпоху технологий\"**\n",
    "- **Тема 1: \"Развитие профессиональных навыков и требования в разработке программного обеспечения\"**\n",
    "- **Тема 2: \"Поиск работы в сфере дизайна и карьерное развитие\"**\n",
    "- Тема 3: \"Онлайн-курсы и обучение веб-дизайну: теория и практика для студентов\"\n",
    "- Тема 4: \"Формирование эффективной команды разработчиков для успешной разработки технического продукта\"\n",
    "- Тема 5: \"Разработка мобильных и веб-приложений: создание продукта с удобным интерфейсом и помощь разработчиков\"\n",
    "- **Тема 6: \"Важность обмена идеями и мнениями в работе: получение результатов и решение проблем\"**\n",
    "- **Тема 7: \"Управление данными и их использование: функции, код и аналитика\"**\n",
    "- Тема 8: \"Профессиональное развитие и обмен знаниями: книги, практика и облачные каналы\"\n",
    "- Тема 9: \"Управление профессиональным развитием и участие в проектах: программы, информация и деление опытом\""
   ]
  },
  {
   "cell_type": "markdown",
   "id": "e7972ca8",
   "metadata": {},
   "source": [
    "## 3.5. ТОП-10 тем, вызывающих наибольшую реакцию"
   ]
  },
  {
   "cell_type": "markdown",
   "id": "a6745f3b",
   "metadata": {},
   "source": [
    "Наш датасет содержит данные по разным реакциям пользователей на публикации: лайки, комментарии и репосты. Так же мы создали новый параметр - суммарная реакция.\n",
    "\n",
    "Давайте посчитаем все типы реакций для каждой из тем."
   ]
  },
  {
   "cell_type": "code",
   "execution_count": null,
   "id": "acb308f4",
   "metadata": {
    "scrolled": false
   },
   "outputs": [],
   "source": [
    "# посчитаем суммарные реакции для топиков\n",
    "df.pivot_table(\n",
    "    index='nmf_topic', values=['likes','comments','reposts','reaction'],\n",
    "    aggfunc='sum'\n",
    ").style.background_gradient()"
   ]
  },
  {
   "cell_type": "markdown",
   "id": "0e687364",
   "metadata": {},
   "source": [
    "В целом видна корреляция между разными типами реакций. Из 10 тем, в качестве наиболее популярных и интересных можно отметить темы: 2, 6, 1, 3, 0."
   ]
  },
  {
   "cell_type": "markdown",
   "id": "26d94639",
   "metadata": {},
   "source": [
    "- **Тема 0: \"Управление бизнесом и развитие продукта в эпоху технологий\"**\n",
    "- **Тема 1: \"Развитие профессиональных навыков и требования в разработке программного обеспечения\"**\n",
    "- **Тема 2: \"Поиск работы в сфере дизайна и карьерное развитие\"**\n",
    "- **Тема 3: \"Онлайн-курсы и обучение веб-дизайну: теория и практика для студентов\"**\n",
    "- Тема 4: \"Формирование эффективной команды разработчиков для успешной разработки технического продукта\"\n",
    "- Тема 5: \"Разработка мобильных и веб-приложений: создание продукта с удобным интерфейсом и помощь разработчиков\"\n",
    "- **Тема 6: \"Важность обмена идеями и мнениями в работе: получение результатов и решение проблем\"**\n",
    "- Тема 7: \"Управление данными и их использование: функции, код и аналитика\"\n",
    "- Тема 8: \"Профессиональное развитие и обмен знаниями: книги, практика и облачные каналы\"\n",
    "- Тема 9: \"Управление профессиональным развитием и участие в проектах: программы, информация и деление опытом\""
   ]
  },
  {
   "cell_type": "markdown",
   "id": "ff0c6997",
   "metadata": {},
   "source": [
    "**Выводы:**\n",
    "\n",
    "- Т.к. мы получили всего 10 тем, ТОП пришлось сократить до 5.\n",
    "- ТОП тематики постов целевой аудитории и ТОП тем вызывающих интерес, во многом совпадают. Но есть и различия, например по теме 7 есть публикации, но реакция на них ниже и наоборот, на тему 3 присутствует интерес, но публикаций недостаточно."
   ]
  },
  {
   "cell_type": "markdown",
   "id": "49c169fe",
   "metadata": {},
   "source": [
    "# Выводы"
   ]
  },
  {
   "cell_type": "markdown",
   "id": "3a176236",
   "metadata": {},
   "source": [
    "Мы провели исследование для EdTech, сервиса онлайн образования. Для исследования собрали данные о пользователях и публикациях в социальной сети _Linkedin_. Тема исследования - наставничество и менторство. Для проведения исследования, собрали контент созданный целевой аудиторией социальной сети. В качестве контента использовали информацию из открытых профилей пользователей и публикуемые ими сообщения. Собранные данные были обработаны и создан датасет.\n",
    "\n",
    "На полученном датасете мы провели анализ и тематическое моделирование. Моделирование выполнено на Latent Dirichlet Allocation (LDA) и Non-Negative Matrix Factorization (NMF). В результате анализа качества моделей, мы выбрали NMF. Нам удалось определить следующий ТОП тем в направлении наставничества на основании наибольшего охвата (в порядке убывания важности):\n",
    "\n",
    "- Тема 6: \"Важность обмена идеями и мнениями в работе: получение результатов и решение проблем\"\n",
    "- Тема 1: \"Развитие профессиональных навыков и требования в разработке программного обеспечения\"\n",
    "- Тема 2: \"Поиск работы в сфере дизайна и карьерное развитие\"\n",
    "- Тема 0: \"Управление бизнесом и развитие продукта в эпоху технологий\"\n",
    "- Тема 7: \"Управление данными и их использование: функции, код и аналитика\"\n",
    "\n",
    "\n",
    "и ТОП популярных тем по просмотрам и реакциям среди IT-специалистов, подходящих под описание целевой аудитории (в порядке убывания важности):\n",
    "\n",
    "- Тема 2: \"Поиск работы в сфере дизайна и карьерное развитие\"\n",
    "- Тема 6: \"Важность обмена идеями и мнениями в работе: получение результатов и решение проблем\"\n",
    "- Тема 1: \"Развитие профессиональных навыков и требования в разработке программного обеспечения\"\n",
    "- Тема 3: \"Онлайн-курсы и обучение веб-дизайну: теория и практика для студентов\"\n",
    "- Тема 0: \"Управление бизнесом и развитие продукта в эпоху технологий\"\n",
    "\n",
    "Данная информация может помочь сервису онлайн образования, понять какие темы на рынке представлены в достаточной мере,\n",
    "а какие не очень. Эта информация поможет эффективнее принимать бизнес-решения.\n",
    "\n",
    "Что, можно улучшить в данном проекте:\n",
    "\n",
    "Учитывая жесткие временные рамки проекта и технические сложности, связанные со сбором данных, мы не смогли собрать датасет для более качественного исследования. В результате, общее количество смоделированных тем сократилось до десяти. Для исправления ситуации, можно продолжить сбор данных. Это позволить расширить число тем и улучшить качество тематического моделирования. Так же не исчерпаны возможности по тестированию других алгоритмов машинного обучения.\n"
   ]
  },
  {
   "cell_type": "code",
   "execution_count": null,
   "id": "4fccedf7",
   "metadata": {},
   "outputs": [],
   "source": []
  }
 ],
 "metadata": {
  "kernelspec": {
   "display_name": "Python 3 (ipykernel)",
   "language": "python",
   "name": "python3"
  },
  "language_info": {
   "codemirror_mode": {
    "name": "ipython",
    "version": 3
   },
   "file_extension": ".py",
   "mimetype": "text/x-python",
   "name": "python",
   "nbconvert_exporter": "python",
   "pygments_lexer": "ipython3",
   "version": "3.10.11"
  },
  "toc": {
   "base_numbering": 1,
   "nav_menu": {},
   "number_sections": true,
   "sideBar": true,
   "skip_h1_title": false,
   "title_cell": "Table of Contents",
   "title_sidebar": "Contents",
   "toc_cell": false,
   "toc_position": {
    "height": "calc(100% - 180px)",
    "left": "10px",
    "top": "150px",
    "width": "374.391px"
   },
   "toc_section_display": true,
   "toc_window_display": true
  }
 },
 "nbformat": 4,
 "nbformat_minor": 5
}
