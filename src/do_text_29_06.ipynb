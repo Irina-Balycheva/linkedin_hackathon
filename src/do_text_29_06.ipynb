{
 "cells": [
  {
   "cell_type": "code",
   "execution_count": 1,
   "id": "3998aa68",
   "metadata": {},
   "outputs": [],
   "source": [
    "# pip install pymorphy2 >> None"
   ]
  },
  {
   "cell_type": "code",
   "execution_count": 2,
   "id": "72e004e1",
   "metadata": {},
   "outputs": [],
   "source": [
    "import pandas as pd\n",
    "import numpy as np\n",
    "import os\n",
    "import re\n",
    "import pymorphy2\n",
    "import nltk\n",
    "from nltk.corpus import stopwords\n",
    "import matplotlib.pyplot as plt\n",
    "from sklearn.decomposition import LatentDirichletAllocation\n",
    "from sklearn.feature_extraction.text import TfidfVectorizer\n",
    "from nltk.corpus import stopwords\n",
    "pd.set_option('display.max_rows', None)\n",
    "pd.set_option('display.max_columns', None)\n",
    "pd.set_option('display.max_colwidth', None)"
   ]
  },
  {
   "cell_type": "code",
   "execution_count": 3,
   "id": "28aabe56",
   "metadata": {},
   "outputs": [],
   "source": [
    "# задаем директорию\n",
    "file_path = 'C:/Users/user/Desktop/Hackathons/LinkedIn_menthoring/'"
   ]
  },
  {
   "cell_type": "code",
   "execution_count": 4,
   "id": "4288a377",
   "metadata": {},
   "outputs": [],
   "source": [
    "# открываем файлы с данными\n",
    "posts = pd.read_csv(os.path.join(file_path, 'posts.csv'), index_col=0)\n",
    "profiles = pd.read_csv(os.path.join(file_path, 'profiles.csv'), index_col=0)"
   ]
  },
  {
   "cell_type": "code",
   "execution_count": 5,
   "id": "b44e2892",
   "metadata": {},
   "outputs": [
    {
     "data": {
      "text/html": [
       "<div>\n",
       "<style scoped>\n",
       "    .dataframe tbody tr th:only-of-type {\n",
       "        vertical-align: middle;\n",
       "    }\n",
       "\n",
       "    .dataframe tbody tr th {\n",
       "        vertical-align: top;\n",
       "    }\n",
       "\n",
       "    .dataframe thead th {\n",
       "        text-align: right;\n",
       "    }\n",
       "</style>\n",
       "<table border=\"1\" class=\"dataframe\">\n",
       "  <thead>\n",
       "    <tr style=\"text-align: right;\">\n",
       "      <th></th>\n",
       "      <th>user_id</th>\n",
       "      <th>text</th>\n",
       "      <th>likes</th>\n",
       "      <th>comments</th>\n",
       "      <th>reposts</th>\n",
       "    </tr>\n",
       "  </thead>\n",
       "  <tbody>\n",
       "    <tr>\n",
       "      <th>0</th>\n",
       "      <td>ali-wodan</td>\n",
       "      <td>Кстати говоря. Теперь подкаст Миражи доступен в соцсети Вконтакте: https://lnkd.in/gKkrJX9Я наконец разобрался как туда прикрутить RSS :-) #podcast #миражи</td>\n",
       "      <td>1</td>\n",
       "      <td>0</td>\n",
       "      <td>0</td>\n",
       "    </tr>\n",
       "    <tr>\n",
       "      <th>1</th>\n",
       "      <td>ali-wodan</td>\n",
       "      <td>I’m #hiring. Know anyone who might be interested?</td>\n",
       "      <td>1</td>\n",
       "      <td>0</td>\n",
       "      <td>0</td>\n",
       "    </tr>\n",
       "  </tbody>\n",
       "</table>\n",
       "</div>"
      ],
      "text/plain": [
       "     user_id  \\\n",
       "0  ali-wodan   \n",
       "1  ali-wodan   \n",
       "\n",
       "                                                                                                                                                          text  \\\n",
       "0  Кстати говоря. Теперь подкаст Миражи доступен в соцсети Вконтакте: https://lnkd.in/gKkrJX9Я наконец разобрался как туда прикрутить RSS :-) #podcast #миражи   \n",
       "1                                                                                                            I’m #hiring. Know anyone who might be interested?   \n",
       "\n",
       "  likes  comments  reposts  \n",
       "0     1         0        0  \n",
       "1     1         0        0  "
      ]
     },
     "execution_count": 5,
     "metadata": {},
     "output_type": "execute_result"
    }
   ],
   "source": [
    "# открываем датафрейм с постами\n",
    "posts.head(2)"
   ]
  },
  {
   "cell_type": "code",
   "execution_count": 6,
   "id": "c6d0477d",
   "metadata": {
    "scrolled": true
   },
   "outputs": [
    {
     "data": {
      "text/html": [
       "<div>\n",
       "<style scoped>\n",
       "    .dataframe tbody tr th:only-of-type {\n",
       "        vertical-align: middle;\n",
       "    }\n",
       "\n",
       "    .dataframe tbody tr th {\n",
       "        vertical-align: top;\n",
       "    }\n",
       "\n",
       "    .dataframe thead th {\n",
       "        text-align: right;\n",
       "    }\n",
       "</style>\n",
       "<table border=\"1\" class=\"dataframe\">\n",
       "  <thead>\n",
       "    <tr style=\"text-align: right;\">\n",
       "      <th></th>\n",
       "      <th>id</th>\n",
       "      <th>user_name</th>\n",
       "      <th>user_head</th>\n",
       "      <th>user_work</th>\n",
       "      <th>user_position</th>\n",
       "      <th>user_tags</th>\n",
       "      <th>user_location</th>\n",
       "      <th>user_viewers</th>\n",
       "      <th>user_contacts</th>\n",
       "      <th>user_common_info</th>\n",
       "    </tr>\n",
       "  </thead>\n",
       "  <tbody>\n",
       "    <tr>\n",
       "      <th>0</th>\n",
       "      <td>ali-wodan</td>\n",
       "      <td>Ali Wodan</td>\n",
       "      <td>Head of Design</td>\n",
       "      <td>Performix</td>\n",
       "      <td>Head Of Design</td>\n",
       "      <td>podcast, it</td>\n",
       "      <td>Москва, Московская область, Россия</td>\n",
       "      <td>2 391</td>\n",
       "      <td>500+</td>\n",
       "      <td>I am a digital product design lead. I've been designing digital systems for years. Teams creating, management, design process building, user research, analytics etc. it's all that i like to do. Also I am into psychology, music, philosophy.</td>\n",
       "    </tr>\n",
       "    <tr>\n",
       "      <th>1</th>\n",
       "      <td>ikotow</td>\n",
       "      <td>Игорь Котов</td>\n",
       "      <td>Директор по производству – Технократия</td>\n",
       "      <td>Технократия</td>\n",
       "      <td>Технократия</td>\n",
       "      <td>it, обучение, менеджмент, технологии, производство</td>\n",
       "      <td>Казань, Республика Татарстан, Россия</td>\n",
       "      <td>340</td>\n",
       "      <td>338</td>\n",
       "      <td>Making IT production great again! Создатель сервиса для управления ресурсами: Resourcer.appМой telegram-канал: https://t.me/pastikotow</td>\n",
       "    </tr>\n",
       "  </tbody>\n",
       "</table>\n",
       "</div>"
      ],
      "text/plain": [
       "          id    user_name                               user_head  \\\n",
       "0  ali-wodan    Ali Wodan                          Head of Design   \n",
       "1     ikotow  Игорь Котов  Директор по производству – Технократия   \n",
       "\n",
       "     user_work   user_position  \\\n",
       "0    Performix  Head Of Design   \n",
       "1  Технократия     Технократия   \n",
       "\n",
       "                                            user_tags  \\\n",
       "0                                         podcast, it   \n",
       "1  it, обучение, менеджмент, технологии, производство   \n",
       "\n",
       "                          user_location user_viewers user_contacts  \\\n",
       "0    Москва, Московская область, Россия        2 391          500+   \n",
       "1  Казань, Республика Татарстан, Россия          340           338   \n",
       "\n",
       "                                                                                                                                                                                                                                  user_common_info  \n",
       "0  I am a digital product design lead. I've been designing digital systems for years. Teams creating, management, design process building, user research, analytics etc. it's all that i like to do. Also I am into psychology, music, philosophy.  \n",
       "1                                                                                                           Making IT production great again! Создатель сервиса для управления ресурсами: Resourcer.appМой telegram-канал: https://t.me/pastikotow  "
      ]
     },
     "execution_count": 6,
     "metadata": {},
     "output_type": "execute_result"
    }
   ],
   "source": [
    "# открываем датафрейм с информацией о пользователях\n",
    "profiles.head(2)"
   ]
  },
  {
   "cell_type": "code",
   "execution_count": 7,
   "id": "335ccc00",
   "metadata": {},
   "outputs": [],
   "source": [
    "# переименуем столбец text в post для лучшего отражения содержимого\n",
    "posts = posts.rename(columns={'text': 'post'})"
   ]
  },
  {
   "cell_type": "markdown",
   "id": "8795f831",
   "metadata": {},
   "source": [
    "**Предобработка данных**"
   ]
  },
  {
   "cell_type": "code",
   "execution_count": 8,
   "id": "b733189b",
   "metadata": {},
   "outputs": [],
   "source": [
    "# функция удаления эмодзи\n",
    "def remove_emojis(text):\n",
    "    emoji_pattern = re.compile(\"[\"\n",
    "                               u\"\\U0001F600-\\U0001F64F\"  # смайлики\n",
    "                               u\"\\U0001F300-\\U0001F5FF\"  # символы и пиктограммы\n",
    "                               u\"\\U0001F680-\\U0001F6FF\"  # транспорт и символы на карте\n",
    "                               u\"\\U0001F1E0-\\U0001F1FF\"  # флаги\n",
    "                               u\"\\U00002500-\\U00002BEF\"  # китайские символы\n",
    "                               # другие разные символы\n",
    "                               u\"\\U00002702-\\U000027B0\"\n",
    "                               u\"\\U00002702-\\U000027B0\"\n",
    "                               u\"\\U000024C2-\\U0001F251\"\n",
    "                               u\"\\U0001f926-\\U0001f937\"\n",
    "                               u\"\\U00010000-\\U0010ffff\"\n",
    "                               u\"\\u2640-\\u2642\" \n",
    "                               u\"\\u2600-\\u2B55\"\n",
    "                               u\"\\u200d\"\n",
    "                               u\"\\u23cf\"\n",
    "                               u\"\\u23e9\"\n",
    "                               u\"\\u231a\"\n",
    "                               u\"\\ufe0f\"  \n",
    "                               u\"\\u3030\"\n",
    "                               \"]+\", flags=re.UNICODE)\n",
    "    # Удаляем эмодзи, используя паттерны\n",
    "    text_without_emojis = emoji_pattern.sub(r'', text)\n",
    "    return text_without_emojis\n",
    "\n",
    "# удаляем эмодзи из постов\n",
    "posts['post'] = posts['post'].apply(lambda x: remove_emojis(x) if pd.notnull(x) else x)"
   ]
  },
  {
   "cell_type": "code",
   "execution_count": 9,
   "id": "8a349268",
   "metadata": {},
   "outputs": [],
   "source": [
    "# удалим посты на украинском языке\n",
    "\n",
    "# определяем шаблон для украинских символов (по специфичным для данного языка символам)\n",
    "ukrainian_pattern = r'[ЄєІіЇїҐґ]'\n",
    "\n",
    "# создаем маску, указывающую строки, в которых столбец \"post\" содержит текст на украинском языке\n",
    "mask = posts['post'].str.contains(ukrainian_pattern, regex=True, na=False)\n",
    "\n",
    "# сохраняем в датафрейме только строки, в которых маска имеет значение False\n",
    "posts = posts[~mask]"
   ]
  },
  {
   "cell_type": "code",
   "execution_count": 10,
   "id": "715c1d32",
   "metadata": {},
   "outputs": [],
   "source": [
    "# сохраняем хэштэги в отдельный столбец перед их удалением из постов\n",
    "posts['hashtags'] = posts['post'].str.findall(r'#([^\\s]+)').apply(lambda x: ', '.join(x))"
   ]
  },
  {
   "cell_type": "code",
   "execution_count": 11,
   "id": "ce2c5ba3",
   "metadata": {},
   "outputs": [],
   "source": [
    "# функция лемматизации текста\n",
    "morph = pymorphy2.MorphAnalyzer()\n",
    "def lemmatize_text(text):\n",
    "    lemmatized_words = [morph.parse(word)[0].normal_form for word in text.split()]\n",
    "    return ' '.join(lemmatized_words)\n",
    "\n",
    "# лемматизируем посты\n",
    "posts['post_lemmatized'] = posts['post'].apply(lemmatize_text)"
   ]
  },
  {
   "cell_type": "code",
   "execution_count": 12,
   "id": "a062cfed",
   "metadata": {},
   "outputs": [],
   "source": [
    "# удаляем слова, которые идут после хэш-тэга\n",
    "posts['post_lemmatized'] = posts['post_lemmatized'].apply(lambda x: re.sub(r'#[^\\s]+', ' ', x))"
   ]
  },
  {
   "cell_type": "code",
   "execution_count": 13,
   "id": "b807d2ec",
   "metadata": {},
   "outputs": [],
   "source": [
    "# производим замену дефиса на пробел\n",
    "posts[\"post_lemmatized\"] = posts[\"post_lemmatized\"].str.replace(\"-\", \" \")"
   ]
  },
  {
   "cell_type": "code",
   "execution_count": 14,
   "id": "594cade3",
   "metadata": {},
   "outputs": [],
   "source": [
    "# удаляем лишние текстовые символы (те, которые не состоят из букв русского алфавита)\n",
    "# только русские буквы и пробелы\n",
    "posts['post_lemmatized'] = posts['post_lemmatized'].str.replace('[^а-яА-ЯёЁ\\s]', ' ', regex=True) "
   ]
  },
  {
   "cell_type": "code",
   "execution_count": 15,
   "id": "c6980981",
   "metadata": {},
   "outputs": [
    {
     "name": "stderr",
     "output_type": "stream",
     "text": [
      "[nltk_data] Downloading package stopwords to\n",
      "[nltk_data]     C:\\Users\\user\\AppData\\Roaming\\nltk_data...\n",
      "[nltk_data]   Package stopwords is already up-to-date!\n"
     ]
    }
   ],
   "source": [
    "# скачиваем стоп-слова \n",
    "nltk.download('stopwords')\n",
    "stop_words = set(stopwords.words('russian'))\n",
    "\n",
    "# еще один список от bukvarix.com - список стоп-слов Яндекс Wordstat - (этот список можно дополнить/изменить)\n",
    "file_path_words = os.path.join(file_path, 'stop_words.txt')\n",
    "with open(file_path_words, 'r', encoding='utf-8') as file:\n",
    "    stop_words_buk = file.read()"
   ]
  },
  {
   "cell_type": "code",
   "execution_count": 16,
   "id": "4a6eb273",
   "metadata": {},
   "outputs": [],
   "source": [
    "# удаляем стоп-слова и слова-паразиты\n",
    "posts['post_lemmatized'] = posts['post_lemmatized'].apply(lambda x: ' '.join([word for word in x.split() if word not in stop_words]))\n",
    "posts['post_lemmatized'] = posts['post_lemmatized'].apply(lambda x: ' '.join([word for word in x.split() if word.lower() not in stop_words_buk]))"
   ]
  },
  {
   "cell_type": "code",
   "execution_count": 17,
   "id": "d326e369",
   "metadata": {},
   "outputs": [],
   "source": [
    "'''если НЕ оставляем в постах английские слова'''\n",
    "# определяем шаблон регулярного выражения для русских букв\n",
    "pattern = '[^а-яА-ЯёЁ]'\n",
    "# создаем маску, чтобы проверить, содержит ли каждая ячейка русские буквы\n",
    "mask = posts['post_lemmatized'].str.contains(pattern, regex=True)\n",
    "# фильтруем датафрейм, используя маску\n",
    "posts = posts[mask]"
   ]
  },
  {
   "cell_type": "code",
   "execution_count": 18,
   "id": "839fa6a6",
   "metadata": {},
   "outputs": [
    {
     "data": {
      "text/html": [
       "<div>\n",
       "<style scoped>\n",
       "    .dataframe tbody tr th:only-of-type {\n",
       "        vertical-align: middle;\n",
       "    }\n",
       "\n",
       "    .dataframe tbody tr th {\n",
       "        vertical-align: top;\n",
       "    }\n",
       "\n",
       "    .dataframe thead th {\n",
       "        text-align: right;\n",
       "    }\n",
       "</style>\n",
       "<table border=\"1\" class=\"dataframe\">\n",
       "  <thead>\n",
       "    <tr style=\"text-align: right;\">\n",
       "      <th></th>\n",
       "      <th>user_id</th>\n",
       "      <th>post</th>\n",
       "      <th>likes</th>\n",
       "      <th>comments</th>\n",
       "      <th>reposts</th>\n",
       "      <th>hashtags</th>\n",
       "      <th>post_lemmatized</th>\n",
       "    </tr>\n",
       "  </thead>\n",
       "  <tbody>\n",
       "    <tr>\n",
       "      <th>0</th>\n",
       "      <td>ali-wodan</td>\n",
       "      <td>Кстати говоря. Теперь подкаст Миражи доступен в соцсети Вконтакте: https://lnkd.in/gKkrJX9Я наконец разобрался как туда прикрутить RSS :-) #podcast #миражи</td>\n",
       "      <td>1</td>\n",
       "      <td>0</td>\n",
       "      <td>0</td>\n",
       "      <td>podcast, миражи</td>\n",
       "      <td>говоря подкаст мираж доступный соцсеть вконтакте разобраться прикрутить</td>\n",
       "    </tr>\n",
       "    <tr>\n",
       "      <th>2</th>\n",
       "      <td>ali-wodan</td>\n",
       "      <td>Хэй честной народ! Ищу векторного иллюстратора на проект, с возможным длительным сотрудничеством по итогу. Можно удаленно. Уровень иллюстраций не хуже чем в примере https://lnkd.in/gkrvhxYРепост, пожалуйста)Если ты умеешь так рисовать, напиши мне в личку :-)Hey! I am looking for an Illustrator who can help us with a project! You need to have skills like in the example below or upper. Text me to discuss prices and due :-)#вакансия #vacancy #illustration #иллюстрация #project #проект</td>\n",
       "      <td>6</td>\n",
       "      <td>0</td>\n",
       "      <td>0</td>\n",
       "      <td>вакансия, vacancy, illustration, иллюстрация, project, проект</td>\n",
       "      <td>честной народ искать векторный иллюстратор возможный длительный сотрудничество итогу удаленно уровень иллюстрация уметь рисовать</td>\n",
       "    </tr>\n",
       "    <tr>\n",
       "      <th>3</th>\n",
       "      <td>ali-wodan</td>\n",
       "      <td>Новый пост подкаста \"Миражи\" на всех платформах:В аудио: https://lnkd.in/giWuSVNВ инстаграме: https://lnkd.in/gbV6yxKН #automotive # # #cars #а патреоне: https://lnkd.in/gfShqTU#саморазвитие #психология #психологиячеловека #психологияжизни #психологияличности #личностныйрост #подкаст #подкастмиражи #маркетинг #осознанность #мысли #мысливслух #установки #влияние #подсознаниеИспользованные звуки, музыка и картинки:Аудиоцитата из фильма \"Формула любви\" Марка ЗахароваJardins du Luxembourg by Jahzzar is licensed under a Attribution-ShareAlike 3.0 International License.prisoner by Luis Prado from the Noun Project</td>\n",
       "      <td>1</td>\n",
       "      <td>0</td>\n",
       "      <td>0</td>\n",
       "      <td>automotive, cars, а, саморазвитие, психология, психологиячеловека, психологияжизни, психологияличности, личностныйрост, подкаст, подкастмиражи, маркетинг, осознанность, мысли, мысливслух, установки, влияние, подсознаниеИспользованные</td>\n",
       "      <td>подкаст миражи платформах аудио инстаграме патреоне звуки музыка картинки аудиоцитат фильм формула любви марк захарова</td>\n",
       "    </tr>\n",
       "    <tr>\n",
       "      <th>4</th>\n",
       "      <td>ali-wodan</td>\n",
       "      <td>Подкаст Миражи, Эпизод 13Ошибка невозвратных затратpodcast.ru/1539345144#подкаст #podcast #it #podcasts #psychology #психология #miragespodcast</td>\n",
       "      <td>2</td>\n",
       "      <td>0</td>\n",
       "      <td>0</td>\n",
       "      <td>подкаст, podcast, it, podcasts, psychology, психология, miragespodcast</td>\n",
       "      <td>подкаст миражи эпизод ошибка невозвратный затрат</td>\n",
       "    </tr>\n",
       "    <tr>\n",
       "      <th>5</th>\n",
       "      <td>ali-wodan</td>\n",
       "      <td>Новый эпизод об эффекте ИКЕА на всех платформах podcast.ru/1539345144</td>\n",
       "      <td>1</td>\n",
       "      <td>0</td>\n",
       "      <td>0</td>\n",
       "      <td></td>\n",
       "      <td>эпизод эффект икеа платформа</td>\n",
       "    </tr>\n",
       "  </tbody>\n",
       "</table>\n",
       "</div>"
      ],
      "text/plain": [
       "     user_id  \\\n",
       "0  ali-wodan   \n",
       "2  ali-wodan   \n",
       "3  ali-wodan   \n",
       "4  ali-wodan   \n",
       "5  ali-wodan   \n",
       "\n",
       "                                                                                                                                                                                                                                                                                                                                                                                                                                                                                                                                                                                                                                     post  \\\n",
       "0                                                                                                                                                                                                                                                                                                                                                                                                                                                                             Кстати говоря. Теперь подкаст Миражи доступен в соцсети Вконтакте: https://lnkd.in/gKkrJX9Я наконец разобрался как туда прикрутить RSS :-) #podcast #миражи   \n",
       "2                                                                                                                                  Хэй честной народ! Ищу векторного иллюстратора на проект, с возможным длительным сотрудничеством по итогу. Можно удаленно. Уровень иллюстраций не хуже чем в примере https://lnkd.in/gkrvhxYРепост, пожалуйста)Если ты умеешь так рисовать, напиши мне в личку :-)Hey! I am looking for an Illustrator who can help us with a project! You need to have skills like in the example below or upper. Text me to discuss prices and due :-)#вакансия #vacancy #illustration #иллюстрация #project #проект   \n",
       "3  Новый пост подкаста \"Миражи\" на всех платформах:В аудио: https://lnkd.in/giWuSVNВ инстаграме: https://lnkd.in/gbV6yxKН #automotive # # #cars #а патреоне: https://lnkd.in/gfShqTU#саморазвитие #психология #психологиячеловека #психологияжизни #психологияличности #личностныйрост #подкаст #подкастмиражи #маркетинг #осознанность #мысли #мысливслух #установки #влияние #подсознаниеИспользованные звуки, музыка и картинки:Аудиоцитата из фильма \"Формула любви\" Марка ЗахароваJardins du Luxembourg by Jahzzar is licensed under a Attribution-ShareAlike 3.0 International License.prisoner by Luis Prado from the Noun Project   \n",
       "4                                                                                                                                                                                                                                                                                                                                                                                                                                                                                         Подкаст Миражи, Эпизод 13Ошибка невозвратных затратpodcast.ru/1539345144#подкаст #podcast #it #podcasts #psychology #психология #miragespodcast   \n",
       "5                                                                                                                                                                                                                                                                                                                                                                                                                                                                                                                                                                   Новый эпизод об эффекте ИКЕА на всех платформах podcast.ru/1539345144   \n",
       "\n",
       "  likes  comments  reposts  \\\n",
       "0     1         0        0   \n",
       "2     6         0        0   \n",
       "3     1         0        0   \n",
       "4     2         0        0   \n",
       "5     1         0        0   \n",
       "\n",
       "                                                                                                                                                                                                                                    hashtags  \\\n",
       "0                                                                                                                                                                                                                            podcast, миражи   \n",
       "2                                                                                                                                                                              вакансия, vacancy, illustration, иллюстрация, project, проект   \n",
       "3  automotive, cars, а, саморазвитие, психология, психологиячеловека, психологияжизни, психологияличности, личностныйрост, подкаст, подкастмиражи, маркетинг, осознанность, мысли, мысливслух, установки, влияние, подсознаниеИспользованные   \n",
       "4                                                                                                                                                                     подкаст, podcast, it, podcasts, psychology, психология, miragespodcast   \n",
       "5                                                                                                                                                                                                                                              \n",
       "\n",
       "                                                                                                                    post_lemmatized  \n",
       "0                                                           говоря подкаст мираж доступный соцсеть вконтакте разобраться прикрутить  \n",
       "2  честной народ искать векторный иллюстратор возможный длительный сотрудничество итогу удаленно уровень иллюстрация уметь рисовать  \n",
       "3            подкаст миражи платформах аудио инстаграме патреоне звуки музыка картинки аудиоцитат фильм формула любви марк захарова  \n",
       "4                                                                                  подкаст миражи эпизод ошибка невозвратный затрат  \n",
       "5                                                                                                      эпизод эффект икеа платформа  "
      ]
     },
     "execution_count": 18,
     "metadata": {},
     "output_type": "execute_result"
    }
   ],
   "source": [
    "posts.head()"
   ]
  },
  {
   "cell_type": "code",
   "execution_count": 19,
   "id": "06697bb2",
   "metadata": {
    "scrolled": true
   },
   "outputs": [
    {
     "name": "stdout",
     "output_type": "stream",
     "text": [
      "<class 'pandas.core.frame.DataFrame'>\n",
      "Int64Index: 2057 entries, 0 to 8597\n",
      "Data columns (total 7 columns):\n",
      " #   Column           Non-Null Count  Dtype \n",
      "---  ------           --------------  ----- \n",
      " 0   user_id          2057 non-null   object\n",
      " 1   post             2057 non-null   object\n",
      " 2   likes            2057 non-null   object\n",
      " 3   comments         2057 non-null   int64 \n",
      " 4   reposts          2057 non-null   int64 \n",
      " 5   hashtags         2057 non-null   object\n",
      " 6   post_lemmatized  2057 non-null   object\n",
      "dtypes: int64(2), object(5)\n",
      "memory usage: 128.6+ KB\n"
     ]
    }
   ],
   "source": [
    "posts.info()"
   ]
  },
  {
   "cell_type": "markdown",
   "id": "e57876ed",
   "metadata": {},
   "source": [
    "Объединяем датафреймы"
   ]
  },
  {
   "cell_type": "code",
   "execution_count": 20,
   "id": "6c805aa9",
   "metadata": {},
   "outputs": [],
   "source": [
    "# переименуем столбец id в user_id в датафрейме profiles, для последующего объединения с posts\n",
    "profiles = profiles.rename(columns={'id': 'user_id'})"
   ]
  },
  {
   "cell_type": "code",
   "execution_count": 21,
   "id": "56fdc9f2",
   "metadata": {},
   "outputs": [],
   "source": [
    "# объединяем датафреймы\n",
    "df = pd.merge(posts, profiles, on='user_id')"
   ]
  },
  {
   "cell_type": "code",
   "execution_count": 22,
   "id": "18c78b8f",
   "metadata": {},
   "outputs": [],
   "source": [
    "# удаляем дубликаты\n",
    "df.drop_duplicates(inplace=True)"
   ]
  },
  {
   "cell_type": "code",
   "execution_count": 23,
   "id": "9eddf485",
   "metadata": {},
   "outputs": [],
   "source": [
    "# удаляем из столбца likes точки, запятые и пробелы\n",
    "df[\"likes\"] = df[\"likes\"].replace(r'\\.|\\,|\\s', '', regex=True)\n",
    "\n",
    "# меняем тип данных сотлбца likes на integer\n",
    "df[\"likes\"] = df[\"likes\"].astype(\"int64\")"
   ]
  },
  {
   "cell_type": "code",
   "execution_count": 24,
   "id": "58f5fe96",
   "metadata": {
    "scrolled": false
   },
   "outputs": [
    {
     "name": "stdout",
     "output_type": "stream",
     "text": [
      "<class 'pandas.core.frame.DataFrame'>\n",
      "Int64Index: 2048 entries, 0 to 2056\n",
      "Data columns (total 16 columns):\n",
      " #   Column            Non-Null Count  Dtype \n",
      "---  ------            --------------  ----- \n",
      " 0   user_id           2048 non-null   object\n",
      " 1   post              2048 non-null   object\n",
      " 2   likes             2048 non-null   int64 \n",
      " 3   comments          2048 non-null   int64 \n",
      " 4   reposts           2048 non-null   int64 \n",
      " 5   hashtags          2048 non-null   object\n",
      " 6   post_lemmatized   2048 non-null   object\n",
      " 7   user_name         2048 non-null   object\n",
      " 8   user_head         2048 non-null   object\n",
      " 9   user_work         1960 non-null   object\n",
      " 10  user_position     2048 non-null   object\n",
      " 11  user_tags         392 non-null    object\n",
      " 12  user_location     2041 non-null   object\n",
      " 13  user_viewers      2048 non-null   object\n",
      " 14  user_contacts     2048 non-null   object\n",
      " 15  user_common_info  1861 non-null   object\n",
      "dtypes: int64(3), object(13)\n",
      "memory usage: 272.0+ KB\n"
     ]
    }
   ],
   "source": [
    "df.info()"
   ]
  },
  {
   "cell_type": "code",
   "execution_count": 25,
   "id": "aa8b402a",
   "metadata": {},
   "outputs": [],
   "source": [
    "# Сохраняем датафрейм\n",
    "df.to_csv(os.path.join(file_path, 'linkedin.csv'))\n",
    "\n",
    "# Сохраняем датафрейм лемматизации\n",
    "df[[\n",
    "    'user_id', 'post_lemmatized', 'likes', 'comments', 'reposts'\n",
    "]].to_csv(os.path.join(file_path, 'post_lemmatized.csv'))"
   ]
  },
  {
   "cell_type": "code",
   "execution_count": 26,
   "id": "786b5101",
   "metadata": {},
   "outputs": [
    {
     "data": {
      "text/html": [
       "<div>\n",
       "<style scoped>\n",
       "    .dataframe tbody tr th:only-of-type {\n",
       "        vertical-align: middle;\n",
       "    }\n",
       "\n",
       "    .dataframe tbody tr th {\n",
       "        vertical-align: top;\n",
       "    }\n",
       "\n",
       "    .dataframe thead th {\n",
       "        text-align: right;\n",
       "    }\n",
       "</style>\n",
       "<table border=\"1\" class=\"dataframe\">\n",
       "  <thead>\n",
       "    <tr style=\"text-align: right;\">\n",
       "      <th></th>\n",
       "      <th>user_id</th>\n",
       "      <th>post</th>\n",
       "      <th>likes</th>\n",
       "      <th>comments</th>\n",
       "      <th>reposts</th>\n",
       "      <th>hashtags</th>\n",
       "      <th>post_lemmatized</th>\n",
       "      <th>user_name</th>\n",
       "      <th>user_head</th>\n",
       "      <th>user_work</th>\n",
       "      <th>user_position</th>\n",
       "      <th>user_tags</th>\n",
       "      <th>user_location</th>\n",
       "      <th>user_viewers</th>\n",
       "      <th>user_contacts</th>\n",
       "      <th>user_common_info</th>\n",
       "    </tr>\n",
       "  </thead>\n",
       "  <tbody>\n",
       "    <tr>\n",
       "      <th>1136</th>\n",
       "      <td>ferrethikky</td>\n",
       "      <td>Глубинное интервью.Изучаем прошлый опыт и мотивацию пользователей, чтобы выявить проблемы и узнать о возможностях для нового продукта и сервиса.#design #designinspiration</td>\n",
       "      <td>2</td>\n",
       "      <td>0</td>\n",
       "      <td>0</td>\n",
       "      <td>design, designinspiration</td>\n",
       "      <td>глубинный интервью изучать опыт мотивация пользователей выявить проблема возможность продукт сервиса</td>\n",
       "      <td>Andrey Rozhnov</td>\n",
       "      <td>Product Designer | User Interface Designer with 2+ years | Banking | IT software development | Cryptocurrency | Mobile and Web Apps</td>\n",
       "      <td>Stoloto</td>\n",
       "      <td>Product Designer</td>\n",
       "      <td>NaN</td>\n",
       "      <td>Tbilisi, Georgia</td>\n",
       "      <td>802</td>\n",
       "      <td>500+</td>\n",
       "      <td>My work experience started with graphic design. At first I created logos and presentations for the companies. Soon I decided to learn a web design, rendering promo pages and landings.My great growth was obtained in the IT-startup, where I made sure I want to work as a User Interface Designer. Starting soon, I honed my abilities and skills in creating UI-kit and components for the big products.Then I had another project in the banking sector. My level of responsibilities and tasks has significantly increased. I learned metrics to improve user interaction with the product and also provided support and improvement of the current UI-kit.Overall, the main development of my career was a transition to a Product Designer. This work includes identification of problems in the product and offering solutions to improve it, based on the needs of the business strategy. Moreover, I use feedback from users by research.The software I use:1. Products from Adobe2. Figma3. Miro4. Google Products</td>\n",
       "    </tr>\n",
       "    <tr>\n",
       "      <th>1975</th>\n",
       "      <td>ulugbekalimov</td>\n",
       "      <td>UI/UX исследованиеКакой лучше?Обратная связь ценится.#ux #ui #research #figma</td>\n",
       "      <td>983</td>\n",
       "      <td>35</td>\n",
       "      <td>0</td>\n",
       "      <td>ux, ui, research, figma</td>\n",
       "      <td>исследованиекака связь ценится</td>\n",
       "      <td>Улугбек Алимов</td>\n",
       "      <td>CEO Founder - Motion Box</td>\n",
       "      <td>Davr Bank</td>\n",
       "      <td>Design Lead</td>\n",
       "      <td>NaN</td>\n",
       "      <td>Tashkent, Tashkent, Uzbekistan</td>\n",
       "      <td>1,981</td>\n",
       "      <td>500+</td>\n",
       "      <td>👋 Welcome!Всем привет! Я UI/UX designer и motion designer. В активном поиске интересных проектов. Слежу за всеми трендами дизайна. Работаю ответственно и в срок. Готов предложить свое видение.Telegram: https://t.me/byulugbekFacebook: https://www.facebook.com/byulugbek/ Dribbble: https://dribbble.com/byulugbek</td>\n",
       "    </tr>\n",
       "    <tr>\n",
       "      <th>369</th>\n",
       "      <td>vladimir-yelizaroff-575b6884</td>\n",
       "      <td>Если вы за все года которые прошли с нашей молодости, не добились большего нежели жалкое существование ВЫ либо не узнали законов по которым строится благосостояние либо просто не следовали им. https://lnkd.in/ejme4GZ</td>\n",
       "      <td>0</td>\n",
       "      <td>0</td>\n",
       "      <td>0</td>\n",
       "      <td></td>\n",
       "      <td>молодости добиться нежели жалкий существование либо строиться благосостояние либо следовать</td>\n",
       "      <td>Vladimir Yelizaroff</td>\n",
       "      <td>Software Development</td>\n",
       "      <td>StecPoint</td>\n",
       "      <td>Director Of Customer Service</td>\n",
       "      <td>NaN</td>\n",
       "      <td>Moscow, Moscow, Russia</td>\n",
       "      <td>1,378</td>\n",
       "      <td>500+</td>\n",
       "      <td>We create highly loaded platforms, design web and mobile applications, online services and marketplaces on open-source software. We rewrite old software for microservices and OpenSource. We provide ready-made teams and help to avoid dependence on foreign IT-products.Создаем высоконагруженные платформы, проектируем web и мобильные приложения, интернет-сервисы и маркетплейсы на открытом ПО. Переписываем старый софт на микросервисы и OpenSource. Предоставляем готовые команды и помогаем избежать зависимости от зарубежных IT-продуктов.</td>\n",
       "    </tr>\n",
       "    <tr>\n",
       "      <th>433</th>\n",
       "      <td>melekes</td>\n",
       "      <td>Находки в сети за октябрь</td>\n",
       "      <td>0</td>\n",
       "      <td>0</td>\n",
       "      <td>0</td>\n",
       "      <td></td>\n",
       "      <td>находка сеть</td>\n",
       "      <td>Anton Kalyaev</td>\n",
       "      <td>Software Engineer, Traveler, Glorified plumber #distributedsystems #consensus</td>\n",
       "      <td>Parity Technologies</td>\n",
       "      <td>Core Rust Developer</td>\n",
       "      <td>NaN</td>\n",
       "      <td>Russia</td>\n",
       "      <td>1,183</td>\n",
       "      <td>500+</td>\n",
       "      <td>Hi! My name is Anton. I am an experienced (10+ years) backend developer interested in distributed systems and hard problems. Ideally looking for a remote position, although relocation is possible.- “not a great programmer; just a good programmer with great habits” (Kent Beck)- have a blog http://homeonrails.com/. Popular articles include How to be productive withalmost any text editor https://www.homeonrails.com/2016/05/how-to-be-productive-with-almost-any-editor/ and Debugging the Memory Leak in Tendermint https://www.homeonrails.com/2018/03/debugging-the-memory-leak-in-tendermint/- “best April fool joke ever” author (according to my past colleagues)PROJECTS:- implemented a Merkle tree in Rust https://github.com/melekes/merkle-tree-rs- created a visualisation of the Tendermint consensus algorithm (see https://www.homeonrails.com/thesecretlivesofdata/tendermint/)- developed a simple distributed database in Erlang based on Riak Core (600 lines of code)- conducted a course on Vim editor w/ ~20 students (course materials - https://github.com/melekes/vim-is-hard-lessons)- tried to write a GUI application in Haskell during a one-night hackathon https://github.com/melekes/mike-on-linux- presented some of the lessons learned to my colleagues and community (slides on SpeakerDeck - https://speakerdeck.com/melekes)LANGUAGES AND TECHNOLOGIES:I am able to write code on a marker board in Go and Rust.At various times I wrote &gt; 1000 lines in Go, Erlang, Rust, Ruby, Java, C, Clojure, Javascript, PHP, C# (I forgot last 3 languages).What I use in my daily work: Linux, Git, Ansible, Docker, Tmux, and Vim.Technologies: Hadoop / HBase, Postgresql, Mysql, Erlang OTP, Kafka, Redis,Jepsen, Prometheus, WebSocketsMore links:- https://gist.github.com/melekesApr 2021 - Oct 2021: I decided to take a big break to travel (hiked in the Altai mountains, drank water from Lake Baikal, hitchhiked to the south of Russia), and also spend some time with my family during the COVID-19 pandemic.</td>\n",
       "    </tr>\n",
       "    <tr>\n",
       "      <th>1962</th>\n",
       "      <td>bakhytzhan-zhakazhanov</td>\n",
       "      <td>Одна из моих давних мечт сбылась..Обучил более 100 студентов по Продуктовому Менеджменту в Онлайн Академии Product Bee Inc. Неимоверно счастлив и горд, что столько людей доверилось моему начинанию. Я уверен это всего 1% от наших ваозможностей, видя как наши студенты получают заветное предложения о работы и повышения в своей компании..Есть очень глобальные планы, о которых я скоро потихоньку буду обьявлять..Очень счастлив, что идея 9 месяцев назад принесла вот такие плоды, и мы выросли в такое комьюнити..Также, с радостью сообщаю, что  11 мая в 19:30 будет онлайн вебинар и  13 мая будет офлайн мероприятие в Алматы..С радостью буду вас ждать, ставьте + и мы напишем вам локацию..Спасибо за вашу поддержку!</td>\n",
       "      <td>48</td>\n",
       "      <td>3</td>\n",
       "      <td>0</td>\n",
       "      <td></td>\n",
       "      <td>давний мечта сбылась обучить студент продуктовый менеджмент онлайн академия неимоверно горд столько довериться начинанию ваозможностей видеть студент заветный предложение повышение компании глобальный планы потихоньку обьявлять идея назад плоды вырасти комьюнити онлайн вебинар офлайн мероприятие локацию поддержку</td>\n",
       "      <td>Bakhytzhan Zhakazhanov</td>\n",
       "      <td>Senior Product Manager | Google for Startups Alumni</td>\n",
       "      <td>Mycar Group</td>\n",
       "      <td>Marketing Management</td>\n",
       "      <td>NaN</td>\n",
       "      <td>Almaty, Kazakhstan</td>\n",
       "      <td>3,830</td>\n",
       "      <td>500+</td>\n",
       "      <td>NaN</td>\n",
       "    </tr>\n",
       "  </tbody>\n",
       "</table>\n",
       "</div>"
      ],
      "text/plain": [
       "                           user_id  \\\n",
       "1136                   ferrethikky   \n",
       "1975                 ulugbekalimov   \n",
       "369   vladimir-yelizaroff-575b6884   \n",
       "433                        melekes   \n",
       "1962        bakhytzhan-zhakazhanov   \n",
       "\n",
       "                                                                                                                                                                                                                                                                                                                                                                                                                                                                                                                                                                                                                                                                                                                                          post  \\\n",
       "1136                                                                                                                                                                                                                                                                                                                                                                                                                                                                                                                                                                Глубинное интервью.Изучаем прошлый опыт и мотивацию пользователей, чтобы выявить проблемы и узнать о возможностях для нового продукта и сервиса.#design #designinspiration   \n",
       "1975                                                                                                                                                                                                                                                                                                                                                                                                                                                                                                                                                                                                                                                             UI/UX исследованиеКакой лучше?Обратная связь ценится.#ux #ui #research #figma   \n",
       "369                                                                                                                                                                                                                                                                                                                                                                                                                                                                                                                   Если вы за все года которые прошли с нашей молодости, не добились большего нежели жалкое существование ВЫ либо не узнали законов по которым строится благосостояние либо просто не следовали им. https://lnkd.in/ejme4GZ   \n",
       "433                                                                                                                                                                                                                                                                                                                                                                                                                                                                                                                                                                                                                                                                                                                  Находки в сети за октябрь   \n",
       "1962  Одна из моих давних мечт сбылась..Обучил более 100 студентов по Продуктовому Менеджменту в Онлайн Академии Product Bee Inc. Неимоверно счастлив и горд, что столько людей доверилось моему начинанию. Я уверен это всего 1% от наших ваозможностей, видя как наши студенты получают заветное предложения о работы и повышения в своей компании..Есть очень глобальные планы, о которых я скоро потихоньку буду обьявлять..Очень счастлив, что идея 9 месяцев назад принесла вот такие плоды, и мы выросли в такое комьюнити..Также, с радостью сообщаю, что  11 мая в 19:30 будет онлайн вебинар и  13 мая будет офлайн мероприятие в Алматы..С радостью буду вас ждать, ставьте + и мы напишем вам локацию..Спасибо за вашу поддержку!    \n",
       "\n",
       "      likes  comments  reposts                   hashtags  \\\n",
       "1136      2         0        0  design, designinspiration   \n",
       "1975    983        35        0    ux, ui, research, figma   \n",
       "369       0         0        0                              \n",
       "433       0         0        0                              \n",
       "1962     48         3        0                              \n",
       "\n",
       "                                                                                                                                                                                                                                                                                                                 post_lemmatized  \\\n",
       "1136                                                                                                                                                                                                                        глубинный интервью изучать опыт мотивация пользователей выявить проблема возможность продукт сервиса   \n",
       "1975                                                                                                                                                                                                                                                                                              исследованиекака связь ценится   \n",
       "369                                                                                                                                                                                                                                  молодости добиться нежели жалкий существование либо строиться благосостояние либо следовать   \n",
       "433                                                                                                                                                                                                                                                                                                                 находка сеть   \n",
       "1962  давний мечта сбылась обучить студент продуктовый менеджмент онлайн академия неимоверно горд столько довериться начинанию ваозможностей видеть студент заветный предложение повышение компании глобальный планы потихоньку обьявлять идея назад плоды вырасти комьюнити онлайн вебинар офлайн мероприятие локацию поддержку   \n",
       "\n",
       "                   user_name  \\\n",
       "1136          Andrey Rozhnov   \n",
       "1975          Улугбек Алимов   \n",
       "369      Vladimir Yelizaroff   \n",
       "433            Anton Kalyaev   \n",
       "1962  Bakhytzhan Zhakazhanov   \n",
       "\n",
       "                                                                                                                                user_head  \\\n",
       "1136  Product Designer | User Interface Designer with 2+ years | Banking | IT software development | Cryptocurrency | Mobile and Web Apps   \n",
       "1975                                                                                                             CEO Founder - Motion Box   \n",
       "369                                                                                                                  Software Development   \n",
       "433                                                         Software Engineer, Traveler, Glorified plumber #distributedsystems #consensus   \n",
       "1962                                                                                  Senior Product Manager | Google for Startups Alumni   \n",
       "\n",
       "                user_work                 user_position user_tags  \\\n",
       "1136              Stoloto              Product Designer       NaN   \n",
       "1975            Davr Bank                   Design Lead       NaN   \n",
       "369             StecPoint  Director Of Customer Service       NaN   \n",
       "433   Parity Technologies           Core Rust Developer       NaN   \n",
       "1962          Mycar Group          Marketing Management       NaN   \n",
       "\n",
       "                       user_location user_viewers user_contacts  \\\n",
       "1136                Tbilisi, Georgia          802          500+   \n",
       "1975  Tashkent, Tashkent, Uzbekistan        1,981          500+   \n",
       "369           Moscow, Moscow, Russia        1,378          500+   \n",
       "433                           Russia        1,183          500+   \n",
       "1962              Almaty, Kazakhstan        3,830          500+   \n",
       "\n",
       "                                                                                                                                                                                                                                                                                                                                                                                                                                                                                                                                                                                                                                                                                                                                                                                                                                                                                                                                                                                                                                                                                                                                                                                                                                                                                                                                                                                                                                                                                                                                                                                                                                                                                                                                                                                                                                                                                                                                                                                                                                                          user_common_info  \n",
       "1136                                                                                                                                                                                                                                                                                                                                                                                                                                                                                                                                                                                                                                                                                                                                                                                                                                                                                                                                                                                                                                        My work experience started with graphic design. At first I created logos and presentations for the companies. Soon I decided to learn a web design, rendering promo pages and landings.My great growth was obtained in the IT-startup, where I made sure I want to work as a User Interface Designer. Starting soon, I honed my abilities and skills in creating UI-kit and components for the big products.Then I had another project in the banking sector. My level of responsibilities and tasks has significantly increased. I learned metrics to improve user interaction with the product and also provided support and improvement of the current UI-kit.Overall, the main development of my career was a transition to a Product Designer. This work includes identification of problems in the product and offering solutions to improve it, based on the needs of the business strategy. Moreover, I use feedback from users by research.The software I use:1. Products from Adobe2. Figma3. Miro4. Google Products  \n",
       "1975                                                                                                                                                                                                                                                                                                                                                                                                                                                                                                                                                                                                                                                                                                                                                                                                                                                                                                                                                                                                                                                                                                                                                                                                                                                                                                                                                                                                                                                                                                                                                                                                                                                                                                                                                👋 Welcome!Всем привет! Я UI/UX designer и motion designer. В активном поиске интересных проектов. Слежу за всеми трендами дизайна. Работаю ответственно и в срок. Готов предложить свое видение.Telegram: https://t.me/byulugbekFacebook: https://www.facebook.com/byulugbek/ Dribbble: https://dribbble.com/byulugbek  \n",
       "369                                                                                                                                                                                                                                                                                                                                                                                                                                                                                                                                                                                                                                                                                                                                                                                                                                                                                                                                                                                                                                                                                                                                                                                                                                                                                                                                                                                                                                                                                                               We create highly loaded platforms, design web and mobile applications, online services and marketplaces on open-source software. We rewrite old software for microservices and OpenSource. We provide ready-made teams and help to avoid dependence on foreign IT-products.Создаем высоконагруженные платформы, проектируем web и мобильные приложения, интернет-сервисы и маркетплейсы на открытом ПО. Переписываем старый софт на микросервисы и OpenSource. Предоставляем готовые команды и помогаем избежать зависимости от зарубежных IT-продуктов.  \n",
       "433   Hi! My name is Anton. I am an experienced (10+ years) backend developer interested in distributed systems and hard problems. Ideally looking for a remote position, although relocation is possible.- “not a great programmer; just a good programmer with great habits” (Kent Beck)- have a blog http://homeonrails.com/. Popular articles include How to be productive withalmost any text editor https://www.homeonrails.com/2016/05/how-to-be-productive-with-almost-any-editor/ and Debugging the Memory Leak in Tendermint https://www.homeonrails.com/2018/03/debugging-the-memory-leak-in-tendermint/- “best April fool joke ever” author (according to my past colleagues)PROJECTS:- implemented a Merkle tree in Rust https://github.com/melekes/merkle-tree-rs- created a visualisation of the Tendermint consensus algorithm (see https://www.homeonrails.com/thesecretlivesofdata/tendermint/)- developed a simple distributed database in Erlang based on Riak Core (600 lines of code)- conducted a course on Vim editor w/ ~20 students (course materials - https://github.com/melekes/vim-is-hard-lessons)- tried to write a GUI application in Haskell during a one-night hackathon https://github.com/melekes/mike-on-linux- presented some of the lessons learned to my colleagues and community (slides on SpeakerDeck - https://speakerdeck.com/melekes)LANGUAGES AND TECHNOLOGIES:I am able to write code on a marker board in Go and Rust.At various times I wrote > 1000 lines in Go, Erlang, Rust, Ruby, Java, C, Clojure, Javascript, PHP, C# (I forgot last 3 languages).What I use in my daily work: Linux, Git, Ansible, Docker, Tmux, and Vim.Technologies: Hadoop / HBase, Postgresql, Mysql, Erlang OTP, Kafka, Redis,Jepsen, Prometheus, WebSocketsMore links:- https://gist.github.com/melekesApr 2021 - Oct 2021: I decided to take a big break to travel (hiked in the Altai mountains, drank water from Lake Baikal, hitchhiked to the south of Russia), and also spend some time with my family during the COVID-19 pandemic.  \n",
       "1962                                                                                                                                                                                                                                                                                                                                                                                                                                                                                                                                                                                                                                                                                                                                                                                                                                                                                                                                                                                                                                                                                                                                                                                                                                                                                                                                                                                                                                                                                                                                                                                                                                                                                                                                                                                                                                                                                                                                                                                                                                                                   NaN  "
      ]
     },
     "execution_count": 26,
     "metadata": {},
     "output_type": "execute_result"
    }
   ],
   "source": [
    "df.sample(5)"
   ]
  },
  {
   "cell_type": "code",
   "execution_count": 1,
   "id": "c9102449",
   "metadata": {},
   "outputs": [
    {
     "ename": "NameError",
     "evalue": "name 'df' is not defined",
     "output_type": "error",
     "traceback": [
      "\u001b[1;31m---------------------------------------------------------------------------\u001b[0m",
      "\u001b[1;31mNameError\u001b[0m                                 Traceback (most recent call last)",
      "Cell \u001b[1;32mIn[1], line 1\u001b[0m\n\u001b[1;32m----> 1\u001b[0m filtered_df \u001b[38;5;241m=\u001b[39m \u001b[43mdf\u001b[49m[df[\u001b[38;5;124m'\u001b[39m\u001b[38;5;124mpost_lemmatized\u001b[39m\u001b[38;5;124m'\u001b[39m]\u001b[38;5;241m.\u001b[39mstr\u001b[38;5;241m.\u001b[39mcontains(\n\u001b[0;32m      2\u001b[0m     \u001b[38;5;124m'\u001b[39m\u001b[38;5;124mобучение|ментор|менторство|менторинг|наставник|наставничество|подопечный|наставничество|менторство|коучинг|mentorship|mentor|coaching|buddy\u001b[39m\u001b[38;5;124m'\u001b[39m,\n\u001b[0;32m      3\u001b[0m     case\u001b[38;5;241m=\u001b[39m\u001b[38;5;28;01mFalse\u001b[39;00m\n\u001b[0;32m      4\u001b[0m )]\n",
      "\u001b[1;31mNameError\u001b[0m: name 'df' is not defined"
     ]
    }
   ],
   "source": [
    "filtered_df = df[df['post_lemmatized'].str.contains('обучение|ментор|менторство|менторинг|наставник|наставничество|подопечный', case=False)]"
   ]
  },
  {
   "cell_type": "code",
   "execution_count": 28,
   "id": "3ac701a9",
   "metadata": {},
   "outputs": [
    {
     "name": "stdout",
     "output_type": "stream",
     "text": [
      "<class 'pandas.core.frame.DataFrame'>\n",
      "Int64Index: 131 entries, 77 to 2018\n",
      "Data columns (total 16 columns):\n",
      " #   Column            Non-Null Count  Dtype \n",
      "---  ------            --------------  ----- \n",
      " 0   user_id           131 non-null    object\n",
      " 1   post              131 non-null    object\n",
      " 2   likes             131 non-null    int64 \n",
      " 3   comments          131 non-null    int64 \n",
      " 4   reposts           131 non-null    int64 \n",
      " 5   hashtags          131 non-null    object\n",
      " 6   post_lemmatized   131 non-null    object\n",
      " 7   user_name         131 non-null    object\n",
      " 8   user_head         131 non-null    object\n",
      " 9   user_work         121 non-null    object\n",
      " 10  user_position     131 non-null    object\n",
      " 11  user_tags         26 non-null     object\n",
      " 12  user_location     130 non-null    object\n",
      " 13  user_viewers      131 non-null    object\n",
      " 14  user_contacts     131 non-null    object\n",
      " 15  user_common_info  113 non-null    object\n",
      "dtypes: int64(3), object(13)\n",
      "memory usage: 17.4+ KB\n"
     ]
    }
   ],
   "source": [
    "filtered_df.info()"
   ]
  },
  {
   "cell_type": "code",
   "execution_count": 29,
   "id": "80118ea1",
   "metadata": {},
   "outputs": [
    {
     "data": {
      "text/html": [
       "<div>\n",
       "<style scoped>\n",
       "    .dataframe tbody tr th:only-of-type {\n",
       "        vertical-align: middle;\n",
       "    }\n",
       "\n",
       "    .dataframe tbody tr th {\n",
       "        vertical-align: top;\n",
       "    }\n",
       "\n",
       "    .dataframe thead th {\n",
       "        text-align: right;\n",
       "    }\n",
       "</style>\n",
       "<table border=\"1\" class=\"dataframe\">\n",
       "  <thead>\n",
       "    <tr style=\"text-align: right;\">\n",
       "      <th></th>\n",
       "      <th>user_id</th>\n",
       "      <th>post</th>\n",
       "      <th>likes</th>\n",
       "      <th>comments</th>\n",
       "      <th>reposts</th>\n",
       "      <th>hashtags</th>\n",
       "      <th>post_lemmatized</th>\n",
       "      <th>user_name</th>\n",
       "      <th>user_head</th>\n",
       "      <th>user_work</th>\n",
       "      <th>user_position</th>\n",
       "      <th>user_tags</th>\n",
       "      <th>user_location</th>\n",
       "      <th>user_viewers</th>\n",
       "      <th>user_contacts</th>\n",
       "      <th>user_common_info</th>\n",
       "    </tr>\n",
       "  </thead>\n",
       "  <tbody>\n",
       "    <tr>\n",
       "      <th>77</th>\n",
       "      <td>agratoth</td>\n",
       "      <td>Что едят единороги?Уже не первый год я по мере сил своих физических и ментальных оказываю менторскую помощь самым разным ребятам, от начинающих разработчиков (выбрать путь для профессионального развития, собрать роадмап для штудирования книг и т.д.) до HR (в этих наших стеках и фреймворках, как показывает практика, черт ногу сломит, если не вариться в этом постоянно). И неоднократно ребята спрашивали меня - почему я не делаю вебинаров по разным темамИ вот прошли годы, слово “вебинар” уже вышло из моды, заменившись на “воркшоп”, и я, наконец, созрел. А, с учетом на одном дыхании прочитанной нетленки Джеффа Уокера “Запуск!”, созрел даже сразу за деньги. Ну а почему бы и да?Итак, где-нибудь ориентировочно 17 или 18 сентября приглашаю всех заинтересованных на воркшоп. В течение четырех-пяти часов в прямом эфире я буду писать (и объяснять!) целый небольшой агротех-сервис. Да какой сервис! Это будет симулятор большой и взрослой ERP-системы, автоматизирующей деятельность фермы по выращиванию… единорогов. Ну, а почему бы и нет? Для единорогов нужно будет строить единорожни (ну, не конюшни же?), каждый из них будет обладать определенными статами, которые можно будет развивать скрещиванием. Для них надо будет закупать цветы и нектар (все ведь знают, чем питаются единороги?). Единорожий приплод можно будет продавать на внутреннем виртуальном рынке. Этакий небольшой бизнес-симулятор.В целом, за исключением контекста, система будет вполне серьезной, с бизнес-логикой, отложенными задачами и триггерами.Стек проекта:- на бэкенде - FastAPI, за ORM - ormar+alembic, за БД - PostgreSQL, за брокера - NATS, хранилище кэша - Redis, куда ж без него. - на фронтэнде - React 18 без CRA, Typescript, Redux-Toolkit. За UI будет отвечать Tailwind с плагинами. За сборку - Webpack с плагинами. Также есть Babel с плагинами, и PostCSS (угадайте с чем… правильно!), тоже с плагинами. - в инфраструктуре - Docker и nginx. Ansible и Gitlab CI/CD - если успеем.В целом, хочется сделать законченный полностековый проект, от верстки фронта до деплоя и девопсовых свистелок и … плейбуков. Возможно, в рамки одного воркшопа это все и не влезет, но мы будем очень стараться Во всяком случае, я почти обещаю сильно не тупить - проект то уже реализован, буду в него подглядывать, пока никто не видитТеперь про проведение. Проводить буду в формате стрима, в приватном канале youtube. Более вменяемых вариантов я не знаю, не на твич же с таким идти. Ну, может еще в ВК будет дубль трансляции, но это не точноНу и участие. Оно платное. Целых 150-200 рублей с человека! Ибо, как говорил Джокер - “Если ты что-то можешь сделать, не делай это бесплатно”. А годноты будет наваломВ целом, если идея вам зашла - то приветствуются лайки, комментарии и, конечно, репосты. Ну а если вы дочитали до этого места, и даже заинтересованы поприсутствовать на трансляции - смело пишите мне в телегу @agratoth, сделаем чатик и попытаемся все это организовать#react #fastapi #workshop #воркшоп_единороги</td>\n",
       "      <td>21</td>\n",
       "      <td>3</td>\n",
       "      <td>3</td>\n",
       "      <td>react, fastapi, workshop, воркшоп_единороги</td>\n",
       "      <td>единороги мера сила физический ментальный менторский помощь ребятам начинающий разработчик выбрать путь профессиональный развития собрать роадмап штудирование книга стек фреймворках показывать практика черта нога сломит вариться неоднократно вебинар тема годы слово вебинар моды замениться воркшоп созрел учёт дыхание прочитать нетленка джефф уокер запуск созрелый сразу деньги итак ориентировочно воркшоп эфир объяснять целый небольшой агротех сервис сервис симулятор взрослый системы автоматизировать деятельность ферма выращиванию единорогов единорог строить единорожний конюшня обладать статами развивать скрещиванием закупать цветок нектар знают питаться единороги единорожий приплод продавать внутренний виртуальный рынке этакий небольшой бизнес симулятор целом исключение контекста система вполне серьезной бизнес логикой отложить задача триггерами стечь бэкенд бд брокер хранилище кэш фронтэнд отвечать плагинами сборка плагинами плагинами угадать плагинами инфраструктура успеем целом полностековый вёрстка фронт деплоить девопсовый свистелка плейбуков рамка воркшоп влезет стараться всякий случае обещать сильно тупить реализован подглядывать видиттеперь проведение формат стрима приватный канал вменяемый вариант знаю твич идти дубль трансляции точнона участие платное целый рубль джокер бесплатно годнота наваломть целом идея зайти приветствоваться лайки комментарий репосты дочитать места заинтересовать поприсутствовать трансляция смело телега чатик попытаться организовать</td>\n",
       "      <td>Anton Berdnikov</td>\n",
       "      <td>CTO/Co-founder</td>\n",
       "      <td>Cloudberry.bi</td>\n",
       "      <td>Chief Technical Officer/Co-founder</td>\n",
       "      <td>NaN</td>\n",
       "      <td>Russia</td>\n",
       "      <td>4,569</td>\n",
       "      <td>500+</td>\n",
       "      <td>Разработка нейросетей на python/keras.io + tensorflowРазработка микросервисов на golangРазработка высоконагруженных приложенийСистемная разработка на golangСистемная разработка на C/C++</td>\n",
       "    </tr>\n",
       "    <tr>\n",
       "      <th>92</th>\n",
       "      <td>agratoth</td>\n",
       "      <td>Коллеги, прошу репост.Одной из целей 2020 (все же ставят на новый год крутые цели, да? :)) я поставил прокачку mentoring skills. А посему ищу 2-3 добровольца, желающих бесплатно изучать что-то из указанного ниже:- Python + OpenCV- Python (микросервисы и асинхронный веб-бэкенд)- Python (стримминг и высокие нагрузки)- Golang (микросервисы и веб-бэкенд)- С/С++ (системная разработка для linux)Бонусом к каждому из направлений - контейнеризация, git, ci/cd, MongoDB, ClickHouse, AWSМатериала у меня - на три-четыре месяца интенсивного обучения (по каждой из тем, по плюсам даже больше). Очень хочется создавать интересные учебные курсы (как дополнение к коммерческой разработке), и нужно с кем-то пройти этот путь первый раз :) #python #golang #cpp #learning</td>\n",
       "      <td>1535</td>\n",
       "      <td>449</td>\n",
       "      <td>165</td>\n",
       "      <td>python, golang, cpp, learning</td>\n",
       "      <td>цель цели прокачка посему искать добровольца бесплатно изучать указанный ниже микросервис асинхронный веб бэкенд стримминг нагрузки микросервис веб бэкенд системный разработка бонус направление контейнеризация материал интенсивный обучение плюс создавать учебный курс дополнение коммерческий разработке путь</td>\n",
       "      <td>Anton Berdnikov</td>\n",
       "      <td>CTO/Co-founder</td>\n",
       "      <td>Cloudberry.bi</td>\n",
       "      <td>Chief Technical Officer/Co-founder</td>\n",
       "      <td>NaN</td>\n",
       "      <td>Russia</td>\n",
       "      <td>4,569</td>\n",
       "      <td>500+</td>\n",
       "      <td>Разработка нейросетей на python/keras.io + tensorflowРазработка микросервисов на golangРазработка высоконагруженных приложенийСистемная разработка на golangСистемная разработка на C/C++</td>\n",
       "    </tr>\n",
       "    <tr>\n",
       "      <th>146</th>\n",
       "      <td>%D0%BF%D0%BE%D0%BB%D0%B8%D0%BD%D0%B0-%D0%BC%D1%83%D1%80%D0%B0%D0%B2%D1%8C%D0%B5%D0%B2%D0%B0-61129220a</td>\n",
       "      <td>Самая большая подборка для прокачки soft skills. Сохрани, чтобы улучшить навыки будущего, которые будут востребованы, несмотря на ChatGPT .  Деловое общение https://lnkd.in/dsv8UXvb Клиентоцентричность https://lnkd.in/d7myCBkj Когнитивная гибкость https://lnkd.in/d9k5YTW5 Коммуникация https://lnkd.in/drxjkmK6 Управление командой, проектом, процессом https://lnkd.in/d5H-fDVv Креативное мышление https://lnkd.in/dkvtabGD Критическое мышление https://lnkd.in/duM_YByi Наставничество и менторинг https://lnkd.in/dASq6wrq Презентация и ораторское искусство https://lnkd.in/dkf6Hbgs Решение проблем и принятие решений https://lnkd.in/dHm4snNK Системное мышление https://lnkd.in/d-GhykwW Стресс-менеджмент https://lnkd.in/dtW8E9jh Управление ресурсами https://lnkd.in/dU6NCQFb Целеполагание https://lnkd.in/d4tGZyba Эмоциональный интеллект https://lnkd.in/drSs3JZm #softskills</td>\n",
       "      <td>1569</td>\n",
       "      <td>85</td>\n",
       "      <td>361</td>\n",
       "      <td>softskills</td>\n",
       "      <td>подборка прокачка сохрани улучшить навык будущего востребованы несмотря деловой общение клиентоцентричность когнитивный гибкость коммуникация управление командой проектом процесс креативный мышление критический мышление наставничество менторинг презентация ораторский искусство решение проблема принятие решение системный мышление стресс менеджмент управление ресурс целеполагание эмоциональный интеллект</td>\n",
       "      <td>Полина Муравьева</td>\n",
       "      <td>IT Recruiter</td>\n",
       "      <td>МаксимаТелеком</td>\n",
       "      <td>Information Technology Recruiter</td>\n",
       "      <td>NaN</td>\n",
       "      <td>Russia</td>\n",
       "      <td>3,547</td>\n",
       "      <td>500+</td>\n",
       "      <td>NaN</td>\n",
       "    </tr>\n",
       "    <tr>\n",
       "      <th>159</th>\n",
       "      <td>olgaperun</td>\n",
       "      <td>Если у вас есть запросы или нужны уточнения по информации – обращайтесь!Напоминаю, что первая 30-минутная консультация бесплатна.Кстати хочу рассказать, что бесплатные консультации тоже результативны и приносят разные инсайты.Один из студентов обратился ко мне,  чтобы подробнее узнать о продукте «Погнали в IT».Он забронировал время с помощью онлайн-сервиса на моем сайте.По итогам бесплатной консультации он принял два важных решения:Первое: выбрал курс для обучения по бэк-разработке «Погнали в IT».Второе: решил внедрить онлайн-сервис бронирования (как у меня на сайте) для построения своего рабочего расписания встреч со своей командой.Его вдохновила доступность и простота инструмента для формирования графика рабочих совещаний.На консультации он поделился, что это идеальная схема для его распределенной команды.Применение сервиса бронирования позволит ребятам не тратить время на «пустые» коммуникации и поиски свободной минутки, а работать по актуальному расписанию.Так что велком на консультации!Я всегда доступна и готова пообщаться!  #проектноеуправление #экспертпопроектномууправлению</td>\n",
       "      <td>1</td>\n",
       "      <td>0</td>\n",
       "      <td>0</td>\n",
       "      <td>проектноеуправление, экспертпопроектномууправлению</td>\n",
       "      <td>запрос уточнение информация обращайтесь напоминаю минутный консультация бесплатна консультация результативный приносить инсайты студент обратиться подробный продукт забронировать помощь онлайн сервис итог консультация принять решения первое выбрать курс обучение бэк разработка второе внедрить онлайн сервис бронирование построение рабочий расписание командой вдохновить доступность простота инструмент формирование графика рабочий совещаний консультация поделился идеальный схема распределённый команды применение сервис бронирование позволить тратить пустые коммуникация поиск свободный минутки актуальный расписанию велкома консультации доступный пообщаться</td>\n",
       "      <td>Olga Filatova</td>\n",
       "      <td>CPO, Директор портфеля проектов</td>\n",
       "      <td>Оренбургский Государственный Педагогический Университет (ОГПУ)</td>\n",
       "      <td>Директор направления тиражирования и миграции</td>\n",
       "      <td>NaN</td>\n",
       "      <td>Russia</td>\n",
       "      <td>534</td>\n",
       "      <td>500+</td>\n",
       "      <td>- Опыт управления 13 лет;- 6 лет топ позиции в ИТ компаниях; - Управление командами 70 человек;- 13 лет управление командами разработки;- 7 лет управления распределенными командами;- Управление портфелем проектов - более 5 проектов;- 15 созданных команд с нуля;- 15 созданных продуктов с нуля;- 30 успешных проектов; - 40 проектов на пресейл;- 5 лет работа на кредитных проектах Сбербанка.</td>\n",
       "    </tr>\n",
       "    <tr>\n",
       "      <th>162</th>\n",
       "      <td>olgaperun</td>\n",
       "      <td>#ТерминдняSWOT-анализЭто анализ, который позволяет заблаговременно проанализировать сильные и слабые стороны проекта, подразделения или организации. Оценка сильных и слабых сторон направлена на выявление благоприятных возможностей либо угроз, к которым могут привести те или иные действия.Я рекомендую анализировать проект на ранних этапах, еще до того как все стороны договорились. В случае, если проект рискованный и скорее всего не приведет к успеху, SWOT-анализ будет показателен.Он убережет вас от неуспешных проектов. Как выявлять угрозы и что дальше делать я рассказываю на индивидуальном обучении и на занятиях в рамках проекта «Погнали в IT».Кому интересно и актуально – обращайтесь! Мой директ всегда рад новым запросам)#проектноеуправление #управлениепроектами #проектныйменеджмент #руководительпроектов</td>\n",
       "      <td>0</td>\n",
       "      <td>0</td>\n",
       "      <td>0</td>\n",
       "      <td>ТерминдняSWOT-анализЭто, проектноеуправление, управлениепроектами, проектныйменеджмент, руководительпроектов</td>\n",
       "      <td>анализ заблаговременно проанализировать сильный слабый сторона подразделение организации оценка сильный слабый сторона направить выявление благоприятный возможность либо угроз привести иной действия рекомендовать анализировать ранний этапах сторона договорились случае рискованный привести успеху анализ показателен уберечь неуспешный проектов выявлять угроза далёкий индивидуальный обучение занятие рамка актуально обращайтесь запросам</td>\n",
       "      <td>Olga Filatova</td>\n",
       "      <td>CPO, Директор портфеля проектов</td>\n",
       "      <td>Оренбургский Государственный Педагогический Университет (ОГПУ)</td>\n",
       "      <td>Директор направления тиражирования и миграции</td>\n",
       "      <td>NaN</td>\n",
       "      <td>Russia</td>\n",
       "      <td>534</td>\n",
       "      <td>500+</td>\n",
       "      <td>- Опыт управления 13 лет;- 6 лет топ позиции в ИТ компаниях; - Управление командами 70 человек;- 13 лет управление командами разработки;- 7 лет управления распределенными командами;- Управление портфелем проектов - более 5 проектов;- 15 созданных команд с нуля;- 15 созданных продуктов с нуля;- 30 успешных проектов; - 40 проектов на пресейл;- 5 лет работа на кредитных проектах Сбербанка.</td>\n",
       "    </tr>\n",
       "  </tbody>\n",
       "</table>\n",
       "</div>"
      ],
      "text/plain": [
       "                                                                                                   user_id  \\\n",
       "77                                                                                                agratoth   \n",
       "92                                                                                                agratoth   \n",
       "146  %D0%BF%D0%BE%D0%BB%D0%B8%D0%BD%D0%B0-%D0%BC%D1%83%D1%80%D0%B0%D0%B2%D1%8C%D0%B5%D0%B2%D0%B0-61129220a   \n",
       "159                                                                                              olgaperun   \n",
       "162                                                                                              olgaperun   \n",
       "\n",
       "                                                                                                                                                                                                                                                                                                                                                                                                                                                                                                                                                                                                                                                                                                                                                                                                                                                                                                                                                                                                                                                                                                                                                                                                                                                                                                                                                                                                                                                                                                                                                                                                                                                                                                                                                                                                                                                                                                                                                                                                                                                                                                                                                                                                                                                                                                                                                                                                                                                                                                                                                                                                                                                                                                                                                                                                                                                                                                                                                                                                                                                                                         post  \\\n",
       "77   Что едят единороги?Уже не первый год я по мере сил своих физических и ментальных оказываю менторскую помощь самым разным ребятам, от начинающих разработчиков (выбрать путь для профессионального развития, собрать роадмап для штудирования книг и т.д.) до HR (в этих наших стеках и фреймворках, как показывает практика, черт ногу сломит, если не вариться в этом постоянно). И неоднократно ребята спрашивали меня - почему я не делаю вебинаров по разным темамИ вот прошли годы, слово “вебинар” уже вышло из моды, заменившись на “воркшоп”, и я, наконец, созрел. А, с учетом на одном дыхании прочитанной нетленки Джеффа Уокера “Запуск!”, созрел даже сразу за деньги. Ну а почему бы и да?Итак, где-нибудь ориентировочно 17 или 18 сентября приглашаю всех заинтересованных на воркшоп. В течение четырех-пяти часов в прямом эфире я буду писать (и объяснять!) целый небольшой агротех-сервис. Да какой сервис! Это будет симулятор большой и взрослой ERP-системы, автоматизирующей деятельность фермы по выращиванию… единорогов. Ну, а почему бы и нет? Для единорогов нужно будет строить единорожни (ну, не конюшни же?), каждый из них будет обладать определенными статами, которые можно будет развивать скрещиванием. Для них надо будет закупать цветы и нектар (все ведь знают, чем питаются единороги?). Единорожий приплод можно будет продавать на внутреннем виртуальном рынке. Этакий небольшой бизнес-симулятор.В целом, за исключением контекста, система будет вполне серьезной, с бизнес-логикой, отложенными задачами и триггерами.Стек проекта:- на бэкенде - FastAPI, за ORM - ormar+alembic, за БД - PostgreSQL, за брокера - NATS, хранилище кэша - Redis, куда ж без него. - на фронтэнде - React 18 без CRA, Typescript, Redux-Toolkit. За UI будет отвечать Tailwind с плагинами. За сборку - Webpack с плагинами. Также есть Babel с плагинами, и PostCSS (угадайте с чем… правильно!), тоже с плагинами. - в инфраструктуре - Docker и nginx. Ansible и Gitlab CI/CD - если успеем.В целом, хочется сделать законченный полностековый проект, от верстки фронта до деплоя и девопсовых свистелок и … плейбуков. Возможно, в рамки одного воркшопа это все и не влезет, но мы будем очень стараться Во всяком случае, я почти обещаю сильно не тупить - проект то уже реализован, буду в него подглядывать, пока никто не видитТеперь про проведение. Проводить буду в формате стрима, в приватном канале youtube. Более вменяемых вариантов я не знаю, не на твич же с таким идти. Ну, может еще в ВК будет дубль трансляции, но это не точноНу и участие. Оно платное. Целых 150-200 рублей с человека! Ибо, как говорил Джокер - “Если ты что-то можешь сделать, не делай это бесплатно”. А годноты будет наваломВ целом, если идея вам зашла - то приветствуются лайки, комментарии и, конечно, репосты. Ну а если вы дочитали до этого места, и даже заинтересованы поприсутствовать на трансляции - смело пишите мне в телегу @agratoth, сделаем чатик и попытаемся все это организовать#react #fastapi #workshop #воркшоп_единороги   \n",
       "92                                                                                                                                                                                                                                                                                                                                                                                                                                                                                                                                                                                                                                                                                                                                                                                                                                                                                                                                                                                                                                                                                                                                                                                                                                                                                                                                                                                                                                                                                                                                                                                                                                                                                                                                                                                                                                                                                                                                                                                                                                                                                                                                                                                                                                                                                                       Коллеги, прошу репост.Одной из целей 2020 (все же ставят на новый год крутые цели, да? :)) я поставил прокачку mentoring skills. А посему ищу 2-3 добровольца, желающих бесплатно изучать что-то из указанного ниже:- Python + OpenCV- Python (микросервисы и асинхронный веб-бэкенд)- Python (стримминг и высокие нагрузки)- Golang (микросервисы и веб-бэкенд)- С/С++ (системная разработка для linux)Бонусом к каждому из направлений - контейнеризация, git, ci/cd, MongoDB, ClickHouse, AWSМатериала у меня - на три-четыре месяца интенсивного обучения (по каждой из тем, по плюсам даже больше). Очень хочется создавать интересные учебные курсы (как дополнение к коммерческой разработке), и нужно с кем-то пройти этот путь первый раз :) #python #golang #cpp #learning   \n",
       "146                                                                                                                                                                                                                                                                                                                                                                                                                                                                                                                                                                                                                                                                                                                                                                                                                                                                                                                                                                                                                                                                                                                                                                                                                                                                                                                                                                                                                                                                                                                                                                                                                                                                                                                                                                                                                                                                                                                                                                                                                                                                                                                                                                                  Самая большая подборка для прокачки soft skills. Сохрани, чтобы улучшить навыки будущего, которые будут востребованы, несмотря на ChatGPT .  Деловое общение https://lnkd.in/dsv8UXvb Клиентоцентричность https://lnkd.in/d7myCBkj Когнитивная гибкость https://lnkd.in/d9k5YTW5 Коммуникация https://lnkd.in/drxjkmK6 Управление командой, проектом, процессом https://lnkd.in/d5H-fDVv Креативное мышление https://lnkd.in/dkvtabGD Критическое мышление https://lnkd.in/duM_YByi Наставничество и менторинг https://lnkd.in/dASq6wrq Презентация и ораторское искусство https://lnkd.in/dkf6Hbgs Решение проблем и принятие решений https://lnkd.in/dHm4snNK Системное мышление https://lnkd.in/d-GhykwW Стресс-менеджмент https://lnkd.in/dtW8E9jh Управление ресурсами https://lnkd.in/dU6NCQFb Целеполагание https://lnkd.in/d4tGZyba Эмоциональный интеллект https://lnkd.in/drSs3JZm #softskills   \n",
       "159                                                                                                                                                                                                                                                                                                                                                                                                                                                                                                                                                                                                                                                                                                                                                                                                                                                                                                                                                                                                                                                                                                                                                                                                                                                                                                                                                                                                                                                                                                                                                                                                                                                                                                                                                                                                                                                                                                                                                 Если у вас есть запросы или нужны уточнения по информации – обращайтесь!Напоминаю, что первая 30-минутная консультация бесплатна.Кстати хочу рассказать, что бесплатные консультации тоже результативны и приносят разные инсайты.Один из студентов обратился ко мне,  чтобы подробнее узнать о продукте «Погнали в IT».Он забронировал время с помощью онлайн-сервиса на моем сайте.По итогам бесплатной консультации он принял два важных решения:Первое: выбрал курс для обучения по бэк-разработке «Погнали в IT».Второе: решил внедрить онлайн-сервис бронирования (как у меня на сайте) для построения своего рабочего расписания встреч со своей командой.Его вдохновила доступность и простота инструмента для формирования графика рабочих совещаний.На консультации он поделился, что это идеальная схема для его распределенной команды.Применение сервиса бронирования позволит ребятам не тратить время на «пустые» коммуникации и поиски свободной минутки, а работать по актуальному расписанию.Так что велком на консультации!Я всегда доступна и готова пообщаться!  #проектноеуправление #экспертпопроектномууправлению   \n",
       "162                                                                                                                                                                                                                                                                                                                                                                                                                                                                                                                                                                                                                                                                                                                                                                                                                                                                                                                                                                                                                                                                                                                                                                                                                                                                                                                                                                                                                                                                                                                                                                                                                                                                                                                                                                                                                                                                                                                                                                                                                                                                                                                                                                                                                                            #ТерминдняSWOT-анализЭто анализ, который позволяет заблаговременно проанализировать сильные и слабые стороны проекта, подразделения или организации. Оценка сильных и слабых сторон направлена на выявление благоприятных возможностей либо угроз, к которым могут привести те или иные действия.Я рекомендую анализировать проект на ранних этапах, еще до того как все стороны договорились. В случае, если проект рискованный и скорее всего не приведет к успеху, SWOT-анализ будет показателен.Он убережет вас от неуспешных проектов. Как выявлять угрозы и что дальше делать я рассказываю на индивидуальном обучении и на занятиях в рамках проекта «Погнали в IT».Кому интересно и актуально – обращайтесь! Мой директ всегда рад новым запросам)#проектноеуправление #управлениепроектами #проектныйменеджмент #руководительпроектов   \n",
       "\n",
       "     likes  comments  reposts  \\\n",
       "77      21         3        3   \n",
       "92    1535       449      165   \n",
       "146   1569        85      361   \n",
       "159      1         0        0   \n",
       "162      0         0        0   \n",
       "\n",
       "                                                                                                         hashtags  \\\n",
       "77                                                                    react, fastapi, workshop, воркшоп_единороги   \n",
       "92                                                                                  python, golang, cpp, learning   \n",
       "146                                                                                                    softskills   \n",
       "159                                                            проектноеуправление, экспертпопроектномууправлению   \n",
       "162  ТерминдняSWOT-анализЭто, проектноеуправление, управлениепроектами, проектныйменеджмент, руководительпроектов   \n",
       "\n",
       "                                                                                                                                                                                                                                                                                                                                                                                                                                                                                                                                                                                                                                                                                                                                                                                                                                                                                                                                                                                                                                                                                                                                                                                                                                                                                                                                                                                                                                                                                                                                     post_lemmatized  \\\n",
       "77   единороги мера сила физический ментальный менторский помощь ребятам начинающий разработчик выбрать путь профессиональный развития собрать роадмап штудирование книга стек фреймворках показывать практика черта нога сломит вариться неоднократно вебинар тема годы слово вебинар моды замениться воркшоп созрел учёт дыхание прочитать нетленка джефф уокер запуск созрелый сразу деньги итак ориентировочно воркшоп эфир объяснять целый небольшой агротех сервис сервис симулятор взрослый системы автоматизировать деятельность ферма выращиванию единорогов единорог строить единорожний конюшня обладать статами развивать скрещиванием закупать цветок нектар знают питаться единороги единорожий приплод продавать внутренний виртуальный рынке этакий небольшой бизнес симулятор целом исключение контекста система вполне серьезной бизнес логикой отложить задача триггерами стечь бэкенд бд брокер хранилище кэш фронтэнд отвечать плагинами сборка плагинами плагинами угадать плагинами инфраструктура успеем целом полностековый вёрстка фронт деплоить девопсовый свистелка плейбуков рамка воркшоп влезет стараться всякий случае обещать сильно тупить реализован подглядывать видиттеперь проведение формат стрима приватный канал вменяемый вариант знаю твич идти дубль трансляции точнона участие платное целый рубль джокер бесплатно годнота наваломть целом идея зайти приветствоваться лайки комментарий репосты дочитать места заинтересовать поприсутствовать трансляция смело телега чатик попытаться организовать   \n",
       "92                                                                                                                                                                                                                                                                                                                                                                                                                                                                                                                                                                                                                                                                                                                                                                                                                                                                                                                                                                                                                                                                                                                                                                                                                               цель цели прокачка посему искать добровольца бесплатно изучать указанный ниже микросервис асинхронный веб бэкенд стримминг нагрузки микросервис веб бэкенд системный разработка бонус направление контейнеризация материал интенсивный обучение плюс создавать учебный курс дополнение коммерческий разработке путь   \n",
       "146                                                                                                                                                                                                                                                                                                                                                                                                                                                                                                                                                                                                                                                                                                                                                                                                                                                                                                                                                                                                                                                                                                                             подборка прокачка сохрани улучшить навык будущего востребованы несмотря деловой общение клиентоцентричность когнитивный гибкость коммуникация управление командой проектом процесс креативный мышление критический мышление наставничество менторинг презентация ораторский искусство решение проблема принятие решение системный мышление стресс менеджмент управление ресурс целеполагание эмоциональный интеллект   \n",
       "159                                                                                                                                                                                                                                                                                                                                                                                                                                                                                                                                                                                                                                                                                                                                                                                                                                                             запрос уточнение информация обращайтесь напоминаю минутный консультация бесплатна консультация результативный приносить инсайты студент обратиться подробный продукт забронировать помощь онлайн сервис итог консультация принять решения первое выбрать курс обучение бэк разработка второе внедрить онлайн сервис бронирование построение рабочий расписание командой вдохновить доступность простота инструмент формирование графика рабочий совещаний консультация поделился идеальный схема распределённый команды применение сервис бронирование позволить тратить пустые коммуникация поиск свободный минутки актуальный расписанию велкома консультации доступный пообщаться   \n",
       "162                                                                                                                                                                                                                                                                                                                                                                                                                                                                                                                                                                                                                                                                                                                                                                                                                                                                                                                                                                                                                                                                                             анализ заблаговременно проанализировать сильный слабый сторона подразделение организации оценка сильный слабый сторона направить выявление благоприятный возможность либо угроз привести иной действия рекомендовать анализировать ранний этапах сторона договорились случае рискованный привести успеху анализ показателен уберечь неуспешный проектов выявлять угроза далёкий индивидуальный обучение занятие рамка актуально обращайтесь запросам   \n",
       "\n",
       "            user_name                        user_head  \\\n",
       "77    Anton Berdnikov                   CTO/Co-founder   \n",
       "92    Anton Berdnikov                   CTO/Co-founder   \n",
       "146  Полина Муравьева                     IT Recruiter   \n",
       "159     Olga Filatova  CPO, Директор портфеля проектов   \n",
       "162     Olga Filatova  CPO, Директор портфеля проектов   \n",
       "\n",
       "                                                          user_work  \\\n",
       "77                                                    Cloudberry.bi   \n",
       "92                                                    Cloudberry.bi   \n",
       "146                                                  МаксимаТелеком   \n",
       "159  Оренбургский Государственный Педагогический Университет (ОГПУ)   \n",
       "162  Оренбургский Государственный Педагогический Университет (ОГПУ)   \n",
       "\n",
       "                                     user_position user_tags user_location  \\\n",
       "77              Chief Technical Officer/Co-founder       NaN        Russia   \n",
       "92              Chief Technical Officer/Co-founder       NaN        Russia   \n",
       "146               Information Technology Recruiter       NaN        Russia   \n",
       "159  Директор направления тиражирования и миграции       NaN        Russia   \n",
       "162  Директор направления тиражирования и миграции       NaN        Russia   \n",
       "\n",
       "    user_viewers user_contacts  \\\n",
       "77         4,569          500+   \n",
       "92         4,569          500+   \n",
       "146        3,547          500+   \n",
       "159          534          500+   \n",
       "162          534          500+   \n",
       "\n",
       "                                                                                                                                                                                                                                                                                                                                                                                          user_common_info  \n",
       "77                                                                                                                                                                                                               Разработка нейросетей на python/keras.io + tensorflowРазработка микросервисов на golangРазработка высоконагруженных приложенийСистемная разработка на golangСистемная разработка на C/C++  \n",
       "92                                                                                                                                                                                                               Разработка нейросетей на python/keras.io + tensorflowРазработка микросервисов на golangРазработка высоконагруженных приложенийСистемная разработка на golangСистемная разработка на C/C++  \n",
       "146                                                                                                                                                                                                                                                                                                                                                                                                    NaN  \n",
       "159  - Опыт управления 13 лет;- 6 лет топ позиции в ИТ компаниях; - Управление командами 70 человек;- 13 лет управление командами разработки;- 7 лет управления распределенными командами;- Управление портфелем проектов - более 5 проектов;- 15 созданных команд с нуля;- 15 созданных продуктов с нуля;- 30 успешных проектов; - 40 проектов на пресейл;- 5 лет работа на кредитных проектах Сбербанка.  \n",
       "162  - Опыт управления 13 лет;- 6 лет топ позиции в ИТ компаниях; - Управление командами 70 человек;- 13 лет управление командами разработки;- 7 лет управления распределенными командами;- Управление портфелем проектов - более 5 проектов;- 15 созданных команд с нуля;- 15 созданных продуктов с нуля;- 30 успешных проектов; - 40 проектов на пресейл;- 5 лет работа на кредитных проектах Сбербанка.  "
      ]
     },
     "execution_count": 29,
     "metadata": {},
     "output_type": "execute_result"
    }
   ],
   "source": [
    "filtered_df.head()"
   ]
  },
  {
   "cell_type": "code",
   "execution_count": 30,
   "id": "7a536844",
   "metadata": {},
   "outputs": [],
   "source": [
    "df = filtered_df"
   ]
  },
  {
   "cell_type": "markdown",
   "id": "da156ba1",
   "metadata": {},
   "source": [
    "---"
   ]
  },
  {
   "cell_type": "code",
   "execution_count": 31,
   "id": "f15766f3",
   "metadata": {},
   "outputs": [],
   "source": [
    "docs = df['post_lemmatized'].tolist()"
   ]
  },
  {
   "cell_type": "code",
   "execution_count": 32,
   "id": "c44cb4a3",
   "metadata": {},
   "outputs": [],
   "source": [
    "tfidf = TfidfVectorizer(min_df=10, max_df=0.9)"
   ]
  },
  {
   "cell_type": "code",
   "execution_count": 33,
   "id": "56a5a299",
   "metadata": {},
   "outputs": [],
   "source": [
    "x = tfidf.fit_transform(docs)"
   ]
  },
  {
   "cell_type": "code",
   "execution_count": 34,
   "id": "f18367fe",
   "metadata": {},
   "outputs": [
    {
     "data": {
      "text/html": [
       "<style>#sk-container-id-1 {color: black;background-color: white;}#sk-container-id-1 pre{padding: 0;}#sk-container-id-1 div.sk-toggleable {background-color: white;}#sk-container-id-1 label.sk-toggleable__label {cursor: pointer;display: block;width: 100%;margin-bottom: 0;padding: 0.3em;box-sizing: border-box;text-align: center;}#sk-container-id-1 label.sk-toggleable__label-arrow:before {content: \"▸\";float: left;margin-right: 0.25em;color: #696969;}#sk-container-id-1 label.sk-toggleable__label-arrow:hover:before {color: black;}#sk-container-id-1 div.sk-estimator:hover label.sk-toggleable__label-arrow:before {color: black;}#sk-container-id-1 div.sk-toggleable__content {max-height: 0;max-width: 0;overflow: hidden;text-align: left;background-color: #f0f8ff;}#sk-container-id-1 div.sk-toggleable__content pre {margin: 0.2em;color: black;border-radius: 0.25em;background-color: #f0f8ff;}#sk-container-id-1 input.sk-toggleable__control:checked~div.sk-toggleable__content {max-height: 200px;max-width: 100%;overflow: auto;}#sk-container-id-1 input.sk-toggleable__control:checked~label.sk-toggleable__label-arrow:before {content: \"▾\";}#sk-container-id-1 div.sk-estimator input.sk-toggleable__control:checked~label.sk-toggleable__label {background-color: #d4ebff;}#sk-container-id-1 div.sk-label input.sk-toggleable__control:checked~label.sk-toggleable__label {background-color: #d4ebff;}#sk-container-id-1 input.sk-hidden--visually {border: 0;clip: rect(1px 1px 1px 1px);clip: rect(1px, 1px, 1px, 1px);height: 1px;margin: -1px;overflow: hidden;padding: 0;position: absolute;width: 1px;}#sk-container-id-1 div.sk-estimator {font-family: monospace;background-color: #f0f8ff;border: 1px dotted black;border-radius: 0.25em;box-sizing: border-box;margin-bottom: 0.5em;}#sk-container-id-1 div.sk-estimator:hover {background-color: #d4ebff;}#sk-container-id-1 div.sk-parallel-item::after {content: \"\";width: 100%;border-bottom: 1px solid gray;flex-grow: 1;}#sk-container-id-1 div.sk-label:hover label.sk-toggleable__label {background-color: #d4ebff;}#sk-container-id-1 div.sk-serial::before {content: \"\";position: absolute;border-left: 1px solid gray;box-sizing: border-box;top: 0;bottom: 0;left: 50%;z-index: 0;}#sk-container-id-1 div.sk-serial {display: flex;flex-direction: column;align-items: center;background-color: white;padding-right: 0.2em;padding-left: 0.2em;position: relative;}#sk-container-id-1 div.sk-item {position: relative;z-index: 1;}#sk-container-id-1 div.sk-parallel {display: flex;align-items: stretch;justify-content: center;background-color: white;position: relative;}#sk-container-id-1 div.sk-item::before, #sk-container-id-1 div.sk-parallel-item::before {content: \"\";position: absolute;border-left: 1px solid gray;box-sizing: border-box;top: 0;bottom: 0;left: 50%;z-index: -1;}#sk-container-id-1 div.sk-parallel-item {display: flex;flex-direction: column;z-index: 1;position: relative;background-color: white;}#sk-container-id-1 div.sk-parallel-item:first-child::after {align-self: flex-end;width: 50%;}#sk-container-id-1 div.sk-parallel-item:last-child::after {align-self: flex-start;width: 50%;}#sk-container-id-1 div.sk-parallel-item:only-child::after {width: 0;}#sk-container-id-1 div.sk-dashed-wrapped {border: 1px dashed gray;margin: 0 0.4em 0.5em 0.4em;box-sizing: border-box;padding-bottom: 0.4em;background-color: white;}#sk-container-id-1 div.sk-label label {font-family: monospace;font-weight: bold;display: inline-block;line-height: 1.2em;}#sk-container-id-1 div.sk-label-container {text-align: center;}#sk-container-id-1 div.sk-container {/* jupyter's `normalize.less` sets `[hidden] { display: none; }` but bootstrap.min.css set `[hidden] { display: none !important; }` so we also need the `!important` here to be able to override the default hidden behavior on the sphinx rendered scikit-learn.org. See: https://github.com/scikit-learn/scikit-learn/issues/21755 */display: inline-block !important;position: relative;}#sk-container-id-1 div.sk-text-repr-fallback {display: none;}</style><div id=\"sk-container-id-1\" class=\"sk-top-container\"><div class=\"sk-text-repr-fallback\"><pre>TfidfVectorizer(max_df=0.9, min_df=10)</pre><b>In a Jupyter environment, please rerun this cell to show the HTML representation or trust the notebook. <br />On GitHub, the HTML representation is unable to render, please try loading this page with nbviewer.org.</b></div><div class=\"sk-container\" hidden><div class=\"sk-item\"><div class=\"sk-estimator sk-toggleable\"><input class=\"sk-toggleable__control sk-hidden--visually\" id=\"sk-estimator-id-1\" type=\"checkbox\" checked><label for=\"sk-estimator-id-1\" class=\"sk-toggleable__label sk-toggleable__label-arrow\">TfidfVectorizer</label><div class=\"sk-toggleable__content\"><pre>TfidfVectorizer(max_df=0.9, min_df=10)</pre></div></div></div></div></div>"
      ],
      "text/plain": [
       "TfidfVectorizer(max_df=0.9, min_df=10)"
      ]
     },
     "execution_count": 34,
     "metadata": {},
     "output_type": "execute_result"
    }
   ],
   "source": [
    "tfidf.fit(docs)"
   ]
  },
  {
   "cell_type": "code",
   "execution_count": 35,
   "id": "9e0b86e9",
   "metadata": {},
   "outputs": [
    {
     "data": {
      "text/plain": [
       "(131, 64)"
      ]
     },
     "execution_count": 35,
     "metadata": {},
     "output_type": "execute_result"
    }
   ],
   "source": [
    "x.shape"
   ]
  },
  {
   "cell_type": "code",
   "execution_count": 36,
   "id": "1145ae08",
   "metadata": {},
   "outputs": [],
   "source": [
    "id2word = {i: token for token, i in tfidf.vocabulary_.items()}"
   ]
  },
  {
   "cell_type": "markdown",
   "id": "1ee5fcd6",
   "metadata": {},
   "source": [
    "**LDA**"
   ]
  },
  {
   "cell_type": "code",
   "execution_count": 37,
   "id": "066c2686",
   "metadata": {},
   "outputs": [],
   "source": [
    "n_topics = 10"
   ]
  },
  {
   "cell_type": "code",
   "execution_count": 38,
   "id": "90096f1f",
   "metadata": {},
   "outputs": [],
   "source": [
    "lda = LatentDirichletAllocation(n_components=n_topics, random_state=31)"
   ]
  },
  {
   "cell_type": "code",
   "execution_count": 39,
   "id": "2c05c558",
   "metadata": {},
   "outputs": [],
   "source": [
    "topics = lda.fit_transform(x)"
   ]
  },
  {
   "cell_type": "code",
   "execution_count": 40,
   "id": "2139458a",
   "metadata": {},
   "outputs": [
    {
     "data": {
      "text/plain": [
       "-1974.1682405072193"
      ]
     },
     "execution_count": 40,
     "metadata": {},
     "output_type": "execute_result"
    }
   ],
   "source": [
    "lda.score(x)"
   ]
  },
  {
   "cell_type": "code",
   "execution_count": 41,
   "id": "23b01acb",
   "metadata": {},
   "outputs": [
    {
     "data": {
      "text/plain": [
       "(131, 10)"
      ]
     },
     "execution_count": 41,
     "metadata": {},
     "output_type": "execute_result"
    }
   ],
   "source": [
    "topics.shape"
   ]
  },
  {
   "cell_type": "markdown",
   "id": "4b0db0c7",
   "metadata": {},
   "source": [
    "**Ключевые слова**"
   ]
  },
  {
   "cell_type": "code",
   "execution_count": 42,
   "id": "0ba60f29",
   "metadata": {},
   "outputs": [
    {
     "name": "stdout",
     "output_type": "stream",
     "text": [
      "Тема 1 :\n",
      "получить, развитие, разработка, команда, ментор, цель, система, особенно, возможность, обучение, информация, управление, английский, профессиональный, продукт, место, опытный, база, формат, программа\n",
      "\n",
      " \n",
      "Тема 2 :\n",
      "развитие, команда, материал, искать, сфера, уровень, наставник, управление, направление, курс, обучение, возможность, практический, инструмент, база, системный, создавать, персональный, разработка, приложение\n",
      "\n",
      " \n",
      "Тема 3 :\n",
      "управление, выбрать, рабочий, создавать, делиться, менторство, особенно, план, онлайн, идея, информация, помогать, учиться, опыт, процесс, менеджер, обучение, команда, итог, продукт\n",
      "\n",
      " \n",
      "Тема 4 :\n",
      "идея, опыт, навык, развитие, команда, курс, студент, решение, задание, продукт, возможность, помощь, интервью, сфера, программа, получить, тема, заниматься, особенно, уровень\n",
      "\n",
      " \n",
      "Тема 5 :\n",
      "развитие, обучения, ментор, поиск, идея, делиться, получить, сфера, рабочий, студент, интервью, выбрать, научиться, направление, задание, начало, обучение, онлайн, консультация, курс\n",
      "\n",
      " \n",
      "Тема 6 :\n",
      "разработчик, программа, менторство, профессиональный, научиться, выбрать, приложение, делиться, помогать, система, обучения, инструмент, тема, процесс, учиться, поиск, обучение, информация, английский, помощь\n",
      "\n",
      " \n",
      "Тема 7 :\n",
      "учиться, разработка, управление, опытный, консультация, формат, сфера, направление, научиться, делиться, материал, уровень, получить, команда, персональный, тема, поиск, обучение, наставник, искать\n",
      "\n",
      " \n",
      "Тема 8 :\n",
      "курс, учиться, материал, идея, система, формат, системный, заниматься, интервью, искать, научиться, задача, база, направление, компании, студент, место, возможность, менторство, обучение\n",
      "\n",
      " \n",
      "Тема 9 :\n",
      "поиск, обучение, помогать, профессиональный, развитие, заниматься, курс, офис, возможность, система, получить, разработка, разработчик, искать, опытный, команда, навык, знание, ментор, опыт\n",
      "\n",
      " \n",
      "Тема 10 :\n",
      "программа, учиться, компании, заниматься, выбрать, особенно, офис, материал, сфера, начало, идея, процесс, обучение, курс, цель, задача, план, решение, управление, менеджер\n",
      "\n",
      " \n"
     ]
    }
   ],
   "source": [
    "for i in range(n_topics):\n",
    "    c = lda.components_[i, :]\n",
    "    topic_tokens = [id2word.get(token_id) for token_id in np.argsort(c)[-20:]]\n",
    "    print(\"Тема\",i+1, \":\")\n",
    "    print(\", \".join(topic_tokens))\n",
    "    print(\"\\n \")"
   ]
  },
  {
   "cell_type": "markdown",
   "id": "e06b8ff8",
   "metadata": {},
   "source": [
    "**Типичные статьи**"
   ]
  },
  {
   "cell_type": "code",
   "execution_count": 43,
   "id": "ef4d5226",
   "metadata": {},
   "outputs": [
    {
     "name": "stdout",
     "output_type": "stream",
     "text": [
      "Тема  0\n",
      "Решил запустить хардкорную менторскую программу Product Army .Пока что 3 из 4 мест заполнены, цена дорогая, не набираю много людей, тк это впервые и очень хочу сфокусированно работать с только 4 амбициозными профессионалами..Это наша новая программа по Product Mentorship отлично подойдет как для новых специалистов, так и опытных профессионалов, которые развивают IT-продукты Старт: 20 мая⌛ Длительность: 10 недель Формат: 1-1 сессии, для Junior+ позиции или SwitchersЕсли есть заинтересованные, можете писать в лс, необязательно покупать, можно просто узнать \n",
      "\n",
      "\n",
      "Тема  1\n",
      "Ты ищешь новую сферу деятельности?Ты готов к системной работе? Тебе нужно дать направление и сориентировать в мире IT? Погнали в IT с нами!Экспресс персональное обучение с наставником IT-профессии с нуляМы дадим теоретическую и (главное) практическую базу востребованной IT-профессии для возможности трудоустройства на уровне junoir в IT-компанииАналитика, Управление проектами, DevOps#управлениепроектами #аналитика #devops #обучениеснуля #обучениеIT #IT #управлениеИнтересно? Погнали в IT! Все вопросы в личку\n",
      "\n",
      "\n",
      "Тема  2\n",
      "Часть 2 Помоги себе сам, или «self-help»#it #psychology #help #helpme #brain #study #work #job #network #sweet #home #laizy #brain #listen #issue #develop #domybestПРОДОЛЖЕНИЕ 3.  Планирование и оптимизация. Конечно, кто бы не говорил, но это важно. Никто не просит составить план на «пятилетку», достаточно на рабочую неделею (не забудьте в один из дней запланировать - ВЫХОДНОЙ). Планировать можно все, форму ведения Вы выбираете сами, знаю, что «old school» до сих пор ведут ежедневники, хотя сейчас очень много альтернатив. Старайтесь максимально расписать все то, что предстоит на неделю: и работу, и дом в том числе. Я стараюсь максимально планировать свой день, учитывая всё зависящее от меня. Дошла до того, что даже планирую меню на неделю, поскольку отдаю предпочтение «домашней» кухне: это более бюджетный и полезный вариант. А вот в выходные можно и полениться. Для чего все я это делаю? Мы же рациональные люди и должны оптимизировать процессы в неизбежной цепочке «работа/дом/учеба» максимально, по итогу сэкономить время. Во-первых, в мой голове нет постоянных мыслей о готовке; во-вторых, исходя из этого я могу составить список продуктов «на неделю». Меню на неделю в свободном доступе – бери и готовь. После чего раз в неделю ВСЕГДА делаю «онлайн доставку». Плюс в том, что ты уже не тратишь время на ежедневное: «А что мы будем кушать?..»  А вечное «брожение» по магазинам меня раздражает. Ну, и конечно, я обязательно куплю какую-то ненужную «фигню» не из списка, которая будет стоять, пока муж не съест. Особенно, если иду голодная и злая, то «вкусняшки» точно куплю. У меня семья «из трех», хочется максимально питаться правильно «и на завтрак, и на обед, и на ужин». Скажу так, часов 5-6 в неделю я экономлю даже на этом. Вот и время на и для себя.Кроме того, в моем еженедельном плане прописаны все: в понедельник смена постельного, во вторник уборка квартиры, в среду – ванной комнаты, в четверг – кухни и т.д. Здесь также присутствует декомпозиция, но в «быту». Мне не нравится делать «все и сразу», я люблю каждый день делать немного, но хорошо. Кроме того, стараюсь все домашние хлопоты делать в будние, один день обязательно ВЫХОДНОЙ. Прям самый постельный ленивый режим, максимум прогулки с дочерью. Голова, которая свободна от вечного потока мыслей о быте — это хорошая голова для работы (учебы). Не порождайте и не тратьте время на ненужные мысли, тратьте его на свое обучение, это достойное вложение, ведь время – деньги.ПРОДОЛЖЕНИЕ СЛЕДУЕТ\n",
      "\n",
      "\n",
      "Тема  3\n",
      "В последнее время я довольно много работаю над тем, чтобы решить, чем же я хочу заниматься в карьере в будущем: какая сфера мне подходит больше всего, что я делаю лучше всего и прочие философские вопросы.\tДело, конечно, непростое - ни для кого не секрет, что для меня всегда была очень важна моя работа и самореализация в ней, так что я использую все возможности. Одна из таких возможностей - это участие в программе #womenintechrussia “Role Models”. Я давно преподаю, занимаюсь менторингом и консультациям, так что я была очень рада оказаться среди участниц. И каких!\tОдним из заданий во время учебы стало эссе на тему “Кто для меня является примером для подражания”, и первое, что пришло мне в голову - это то, что мне не нравится слово “подражание”. Почему? Все просто - я не хочу подражать. Но вот вдохновляться очень хочется - ведь вокруг столько крутых, интересных, умных и талантливых людей!\tНе так давно я говорила с  Lidia Timkovskaya (She/Her) о карьере - и поняла, что скорее всего я смогла бы лучше узнать себя, если бы увидела примеры, этакие “ролевые модели” и поняла бы благодаря этому, “кем я хочу стать когда вырасту”. Чем я могу заниматься? В какой сфере может быть работа мечты? А кто уже ее делает? А как этот человек туда пришел? \tИ тут я подумала - у меня же есть вы - мои друзья, коллеги, подписчики и просто те, кто увидят это сообщение. Расскажите в комментариях, а кто вам кажется таким “вдохновляющим человеком”? Может быть вы знаете, кто для меня смог бы таким быть? Особенно для меня важно увидеть такие примеры среди женщин, конечно же! (Дорогие знакомые, поддержите комментарием и лайком)\tНаверняка у каждого есть такой знакомая/знакомый - и я тут говорю не обязательно про знаменитостей и инфлюенсеров - может быть у вас есть потрясающие коллеги, или друзья, или, в конце-концов, человек который перевернул всё одним словом? Расскажите, пусть это вдохновит не только меня!\n",
      "\n",
      "\n",
      "Тема  4\n",
      "Друзья! На прошлой недели «Погнали в IT» стартовал! .Первое онлайн-занятие ———-Расскажу поподробнее, чтобы было понятно, как и что у нас организовано.Студент выбрал направление «Управление проектами»..На первой бесплатной консультации мы проговорили цель и задачи его обучения. Он планирует изменить сферу деятельности и уйти в IT целиком, начиная с нуля. По окончанию обучения (с учетом самостоятельного развития в том числе) он должен быть готовым занять позицию Junior в IT-компании..На ознакомительной встрече мы также обсудили стоимость и удобный график оплаты. На основании потребности Студента я составила план 25 занятий (темы, тезисы, основной материал, домашние задания и др.).На первом занятии мы разобрали базисные проектные понятия и их взаимодействие. Именно первое занятие вводит в профессию, знакомит с лексикой  и терминологией проектной деятельности, на нем я объясняю структурные моменты.   ... У моего Студента глаза загорелись, жажда новых знаний – это замечательный стимул к развитию! Домашнее задание состоит из 2 частей, самостоятельно нужно сделать 2, но я как эксперт всегда на связи со студентом.Следующая онлайн-встреча через 3 дня.Мысль дня! Проекты - это главная движущая сила изменений!Мое впечатление: Быть тьютором – необыкновенно ответственно и непередаваемо драйвово! Ощущение, что я открываю для другого человека новый неизведанный мир, полный классных открытий!#погналивit #клубэкспертов #клубэкспертовit #этопросто #обучаемснулявit #управлениепроектами #системнаяаналитика #devops #frontdelivery #backdelivery\n",
      "\n",
      "\n",
      "Тема  5\n",
      "Часть 2 «my brain»: как сделать обучение эффективней#it #brain #help #helpme #studying #psychology #work #help #read #book #detective #roman #result #function #language #think #talkТак как же тренировать наш мозг? Все, конечно, очень индивидуально, но есть вещи, который помогут всем. Особенно помогает вдумчивое чтение серьезных книг, просмотр сложных фильмов, музыки, при этом обязательно надо проводить когнитивную работу (когнитивными функциями принято понимать наиболее сложные функции головного мозга, с помощью которых осуществляется процесс рационального познания мира), добиваться понимание сути вещей. Нужно не стремиться к тому, чтобы прочить миллионы книг, а читать сложное и понимать. Шекспир не писал романы… Достоевский не писала детектив о том, как убили бабушку, они писали о глубине и понимании того, что происходило в том момент истории, но очень завуалировано, потому что у них было тончайшее восприятие происходящего. Хотите детектив – читайте Донцову.Кстати, вся профессиональная литература также относится к сложному чтиву. Не смотрите блогеров, читай оригинал документации и на английском языке.Уже через 10 минут вы почувствуете,как голова \"зашаталась\".Что еще нужно для успешного обучения? Самоорганизация себя и своего времени. Надо учиться планировать свое время, лучше, конечно, на неделю. Если есть возможность, то даже на две. Обязательно записывайте то, что Вы должны сделать за день. Об этом я также подробно рассказывала ранее.А вот одно важное для меня открытие о мозге и его процессах. НЕОДНОКРАТНО пробовала, поверьте, это точно работает. ПРОЦЕСС усваивания информации происходит НОЧЬЮ, а мозг МОЖЕТ запомнить столько, сколько он может усвоить и это индивидуальная особенность, подобно чашке – можно налить до краев, а остальное – выльется. Но и эти «объемы» можно и нужно постоянно увеличить тренировками. Это тоже самое, если пойти в зал и на первом же занятии сделать жим в 150 кг: чревато травмой, а в нашем случае – мозг перегружен, вы не можете заснуть, нервная система возбуждена, старый материал не усвоился, а новый «не лезет» в голову. То есть вся работа насмарку. И мы это делаем каждый день на протяжении месяцев..Если Вы словили это состояние, то поздравляю, у Вас «перетрен» в обучении, да-да, все как в спорте (Перетренированность — это состояние, возникающее вследствие нерациональных нагрузок при физической активности, выражающееся в снижении работоспособности и ощущении физического и эмоционального истощения.)Кстати, интересный факт, МОЗГ — это НЕ МЫШЦА, как принято говорить об этом, он состоит или миллионов НЕЙРОНОВ, а не МИОЦИТОВ (мышечные клетки).Что мы чувствуем при этом? Как распознать «ПЕРЕТРЕН»?ПРОДОЛЖЕНИЕ СЛЕДУЕТ\n",
      "\n",
      "\n",
      "Тема  6\n",
      "Наш Клуб экспертов - это молодые, успешные, востребованные и опытные айтишники. Мы достигли того уровня профессионализма, когда готовы делиться с другими, быть наставниками и проводниками в IT-отрасль Наши сильные стороны: высокий уровень экспертности, погружение в материал, прикладные знания, индивидуальный формат обучения  Наши направления: проектное управление, аналитика, DevOps, разработка пользовательских интерфейсов Мы рады знакомству с тобой! Остались вопросы или хочешь сразу записаться на бесплатную консультацию – пиши в директ #этопросто #погналивit #управление #управлениепроектами #системнаяаналитика #devops #frontразработка #backразработка\n",
      "\n",
      "\n",
      "Тема  7\n",
      "Запустила свой Telergam-канал о карьере IT: https://lnkd.in/eCbBMc59На канале я публикую свежие вакансии из крупных IT-компаний, выкладываю подборки полезных материалов для обучения и подготовки к собеседованиям, а также отвечаю на ваши вопросы о том, как искать работу в России и заграницей, оформлять резюме, готовиться к собеседованию в крупные компании, справляться с выгоранием, развивать Soft Skills и многое другое.На канале запланированы разборы ваших резюме, проведение интервью в формате подкаста с крутыми специалистами, а также розыгрыши мест на моем курсе для тех, кто хочет устроиться на новую работу: https://course.it-diva.ru/#поиск_работы #it #юмор\n",
      "\n",
      "\n",
      "Тема  8\n",
      "We are hiring! Всем добрый день! Мы - Zeon IT Hub, занимаемся обучением молодых программистов и также работаем по модели аутстаффинга и рекрутинга с более опытными разработчиками.Сейчас мы ищем опытного и активного frontend - ментора (JavaScript, React) нам в команду (уровня Middle+), который будет менторить наших джунов, делать код ревью, придумывать интересные тех. задачки, которые прокачают наших стажеров.Требования:- опыт в сфере программирования не менее 3-х лет;- уровень знания английского языка Upper Intermediate;- умение создавать и проводить презентации;- опыт работы JavaScript, React;- навыки работы Webpack, и с пакетными менеджерами;- навыки работы с Vue.js;- работа с REST API, AJAX;- понимание HTTP-протоколов, TCP/IP;- уверенные знания HTML5, CSS3 (sass, scss);- опыт работы в команде и знание Git;- умение разрабатывать и поддерживать стройную архитектуру;- практика тестирования и документирование исходного кода;- аккуратность, читаемый и качественный код;- наличие ноутбука;- личные качества: ответственность, стрессоустойчивость, компетентность.Обязанности:- разработка технических заданий и тестовых вопросов для проведения теста по оценке знаний стажера;- проведение лекций/мастер-классов перед новыми темами, предоставление полезных ссылок для — углубленного изучения тем (примерно раз в одну-две недели);- проведение Code Review стажеров;- наставничество;- редактура существующей учебной программы по выделенным модулям.Условия работы:- график работы, 5/2, частичная занятость;- заработная плата от 700$ до 2000$ в месяц в зависимости от вашего уровня;- молодой, дружный, адекватный коллектив;- комфортабельный офис, free зона с настольным теннисом, пуфиками, играми и т.д.;- сезонные тимбилдинги.Если хочешь быстрее прокачаться до Senior, эта возможность для тебя!За подробностями стучись ко мне в ТГ: @zeonit_s_2 или пиши здесь.Очень ждем ТВОЕГО отклика и CV, наш будущий коллега! :)#вакансия #javascript #react #mentor #vacancy #ментор #бишкекp.s. картинка отсюда, там еще классный текст про менторство - > https://lnkd.in/eSa25aQP\n",
      "\n",
      "\n",
      "Тема  9\n",
      "Полгода на фрилансе - мечта или мой персональный ад?«Выбери себе работу по душе, и тебе не придётся работать ни одного дня в своей жизни.“Слышали такое? Так вот, тот, кто это сказал, нагло на*ал. В августе 2022 я после 7 лет в корпоративной айти карьере ушла из компании и начала свою практику. Я пошла учиться на психолога и параллельно начала менторить аналитиков и начинающих тимлидов: помогать им расти, разбираться в себе, выстраивать процессы и отношения с коллегами. Я думала, вот - раз работы с 9 до 18 нет, сейчас я кааааак заживу: и спортом займусь, и здоровье поправлю, и по миру поезжу - всё буду успевать. Реальность оказалась сильно сложнее. Рассказываю, какие выводы я сделала.- Sad truth #1: Фриланс не уберегает от выгорания. А может, даже и увеличивает риски. Работая на себя, ну очень легко перегнуть палку и заработаться в ущерб отдыху и восстановлению. Особенно, когда поначалу \"прёт\" и хочется объять необъятное.- Sad truth #2: Самодисциплина - не моё. Когда ты сам себе босс, коммитов нет ни перед кем, и нет того менеджера - попугая, который говорит: “Крис, ну что, как дела, сделала что-нибудь?”, реально что-то довести до конца - даже если это - мой собственный любимый проект - довольно сложно. Нужно прям по много часов на раскачку перед любой задачей.- Sad truth #3: Всего никогда не успеешь. Прямо как на приоритизации спринта, от огромной части своих задач и идей тоже постоянно приходится отказываться. Отличие в том, что эмоционально это сделать горааааздо сложнее, потому что каждая идея - собственное детище, идеи, за которые ты горишь душой. Но ресурсы мои ограничены, и приходится смиряться и выбирать. Кто ушёл из найма во фриланс, поделитесь, а ваша жизнь стала похожа на сказку?  Anastasiia Dik, поделись, как самый близкий ко мне коллега )PS. созваниваюсь с менти, я, конечно, не в купальнике. И как правило не с пляжа ))\n",
      "\n",
      "\n"
     ]
    }
   ],
   "source": [
    "for i in range(n_topics):\n",
    "    doc_id = np.argmax(topics[:, i])\n",
    "    print(\"Тема \", i)\n",
    "    print(df.iloc[doc_id][\"post\"])\n",
    "    print(\"\\n\")"
   ]
  },
  {
   "cell_type": "code",
   "execution_count": null,
   "id": "77ad6adb",
   "metadata": {},
   "outputs": [],
   "source": []
  },
  {
   "cell_type": "code",
   "execution_count": null,
   "id": "df4649cb",
   "metadata": {},
   "outputs": [],
   "source": []
  },
  {
   "cell_type": "code",
   "execution_count": null,
   "id": "48430173",
   "metadata": {},
   "outputs": [],
   "source": []
  },
  {
   "cell_type": "code",
   "execution_count": null,
   "id": "3d684aa8",
   "metadata": {},
   "outputs": [],
   "source": []
  },
  {
   "cell_type": "code",
   "execution_count": null,
   "id": "17da71a7",
   "metadata": {},
   "outputs": [],
   "source": []
  },
  {
   "cell_type": "code",
   "execution_count": null,
   "id": "d12f64da",
   "metadata": {},
   "outputs": [],
   "source": []
  }
 ],
 "metadata": {
  "kernelspec": {
   "display_name": "Python 3 (ipykernel)",
   "language": "python",
   "name": "python3"
  },
  "language_info": {
   "codemirror_mode": {
    "name": "ipython",
    "version": 3
   },
   "file_extension": ".py",
   "mimetype": "text/x-python",
   "name": "python",
   "nbconvert_exporter": "python",
   "pygments_lexer": "ipython3",
   "version": "3.10.11"
  },
  "toc": {
   "base_numbering": 1,
   "nav_menu": {},
   "number_sections": true,
   "sideBar": true,
   "skip_h1_title": false,
   "title_cell": "Table of Contents",
   "title_sidebar": "Contents",
   "toc_cell": false,
   "toc_position": {
    "height": "calc(100% - 180px)",
    "left": "10px",
    "top": "150px",
    "width": "374.391px"
   },
   "toc_section_display": true,
   "toc_window_display": false
  },
  "varInspector": {
   "cols": {
    "lenName": 16,
    "lenType": 16,
    "lenVar": 40
   },
   "kernels_config": {
    "python": {
     "delete_cmd_postfix": "",
     "delete_cmd_prefix": "del ",
     "library": "var_list.py",
     "varRefreshCmd": "print(var_dic_list())"
    },
    "r": {
     "delete_cmd_postfix": ") ",
     "delete_cmd_prefix": "rm(",
     "library": "var_list.r",
     "varRefreshCmd": "cat(var_dic_list()) "
    }
   },
   "types_to_exclude": [
    "module",
    "function",
    "builtin_function_or_method",
    "instance",
    "_Feature"
   ],
   "window_display": false
  }
 },
 "nbformat": 4,
 "nbformat_minor": 5
}
