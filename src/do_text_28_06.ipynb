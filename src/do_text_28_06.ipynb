{
 "cells": [
  {
   "cell_type": "code",
   "execution_count": 1,
   "id": "3998aa68",
   "metadata": {},
   "outputs": [],
   "source": [
    "# pip install pymorphy2 >> None"
   ]
  },
  {
   "cell_type": "code",
   "execution_count": 129,
   "id": "72e004e1",
   "metadata": {},
   "outputs": [],
   "source": [
    "import pandas as pd\n",
    "import numpy as np\n",
    "import os\n",
    "import re\n",
    "import pymorphy2\n",
    "import nltk\n",
    "from nltk.corpus import stopwords\n",
    "import matplotlib.pyplot as plt\n",
    "from sklearn.decomposition import LatentDirichletAllocation\n",
    "from sklearn.feature_extraction.text import TfidfVectorizer\n",
    "from nltk.corpus import stopwords\n",
    "pd.set_option('display.max_rows', None)\n",
    "pd.set_option('display.max_columns', None)\n",
    "pd.set_option('display.max_colwidth', None)"
   ]
  },
  {
   "cell_type": "code",
   "execution_count": 3,
   "id": "28aabe56",
   "metadata": {},
   "outputs": [],
   "source": [
    "# задаем директорию\n",
    "file_path = 'C:/Users/user/Desktop/Hackathons/LinkedIn_menthoring/'"
   ]
  },
  {
   "cell_type": "code",
   "execution_count": 188,
   "id": "4288a377",
   "metadata": {},
   "outputs": [],
   "source": [
    "# открываем файлы с данными\n",
    "posts = pd.read_csv(os.path.join(file_path, 'posts.csv'), index_col=0)\n",
    "profiles = pd.read_csv(os.path.join(file_path, 'profiles.csv'), index_col=0)"
   ]
  },
  {
   "cell_type": "code",
   "execution_count": 189,
   "id": "b44e2892",
   "metadata": {},
   "outputs": [
    {
     "data": {
      "text/html": [
       "<div>\n",
       "<style scoped>\n",
       "    .dataframe tbody tr th:only-of-type {\n",
       "        vertical-align: middle;\n",
       "    }\n",
       "\n",
       "    .dataframe tbody tr th {\n",
       "        vertical-align: top;\n",
       "    }\n",
       "\n",
       "    .dataframe thead th {\n",
       "        text-align: right;\n",
       "    }\n",
       "</style>\n",
       "<table border=\"1\" class=\"dataframe\">\n",
       "  <thead>\n",
       "    <tr style=\"text-align: right;\">\n",
       "      <th></th>\n",
       "      <th>user_id</th>\n",
       "      <th>text</th>\n",
       "      <th>likes</th>\n",
       "      <th>comments</th>\n",
       "      <th>reposts</th>\n",
       "    </tr>\n",
       "  </thead>\n",
       "  <tbody>\n",
       "    <tr>\n",
       "      <th>0</th>\n",
       "      <td>ali-wodan</td>\n",
       "      <td>Кстати говоря. Теперь подкаст Миражи доступен в соцсети Вконтакте: https://lnkd.in/gKkrJX9Я наконец разобрался как туда прикрутить RSS :-) #podcast #миражи</td>\n",
       "      <td>1</td>\n",
       "      <td>0</td>\n",
       "      <td>0</td>\n",
       "    </tr>\n",
       "    <tr>\n",
       "      <th>1</th>\n",
       "      <td>ali-wodan</td>\n",
       "      <td>I’m #hiring. Know anyone who might be interested?</td>\n",
       "      <td>1</td>\n",
       "      <td>0</td>\n",
       "      <td>0</td>\n",
       "    </tr>\n",
       "  </tbody>\n",
       "</table>\n",
       "</div>"
      ],
      "text/plain": [
       "     user_id  \\\n",
       "0  ali-wodan   \n",
       "1  ali-wodan   \n",
       "\n",
       "                                                                                                                                                          text  \\\n",
       "0  Кстати говоря. Теперь подкаст Миражи доступен в соцсети Вконтакте: https://lnkd.in/gKkrJX9Я наконец разобрался как туда прикрутить RSS :-) #podcast #миражи   \n",
       "1                                                                                                            I’m #hiring. Know anyone who might be interested?   \n",
       "\n",
       "  likes  comments  reposts  \n",
       "0     1         0        0  \n",
       "1     1         0        0  "
      ]
     },
     "execution_count": 189,
     "metadata": {},
     "output_type": "execute_result"
    }
   ],
   "source": [
    "# открываем датафрейм с постами\n",
    "posts.head(2)"
   ]
  },
  {
   "cell_type": "code",
   "execution_count": 190,
   "id": "c6d0477d",
   "metadata": {
    "scrolled": true
   },
   "outputs": [
    {
     "data": {
      "text/html": [
       "<div>\n",
       "<style scoped>\n",
       "    .dataframe tbody tr th:only-of-type {\n",
       "        vertical-align: middle;\n",
       "    }\n",
       "\n",
       "    .dataframe tbody tr th {\n",
       "        vertical-align: top;\n",
       "    }\n",
       "\n",
       "    .dataframe thead th {\n",
       "        text-align: right;\n",
       "    }\n",
       "</style>\n",
       "<table border=\"1\" class=\"dataframe\">\n",
       "  <thead>\n",
       "    <tr style=\"text-align: right;\">\n",
       "      <th></th>\n",
       "      <th>id</th>\n",
       "      <th>user_name</th>\n",
       "      <th>user_head</th>\n",
       "      <th>user_work</th>\n",
       "      <th>user_position</th>\n",
       "      <th>user_tags</th>\n",
       "      <th>user_location</th>\n",
       "      <th>user_viewers</th>\n",
       "      <th>user_contacts</th>\n",
       "      <th>user_common_info</th>\n",
       "    </tr>\n",
       "  </thead>\n",
       "  <tbody>\n",
       "    <tr>\n",
       "      <th>0</th>\n",
       "      <td>ali-wodan</td>\n",
       "      <td>Ali Wodan</td>\n",
       "      <td>Head of Design</td>\n",
       "      <td>Performix</td>\n",
       "      <td>Head Of Design</td>\n",
       "      <td>podcast, it</td>\n",
       "      <td>Москва, Московская область, Россия</td>\n",
       "      <td>2 391</td>\n",
       "      <td>500+</td>\n",
       "      <td>I am a digital product design lead. I've been designing digital systems for years. Teams creating, management, design process building, user research, analytics etc. it's all that i like to do. Also I am into psychology, music, philosophy.</td>\n",
       "    </tr>\n",
       "    <tr>\n",
       "      <th>1</th>\n",
       "      <td>ikotow</td>\n",
       "      <td>Игорь Котов</td>\n",
       "      <td>Директор по производству – Технократия</td>\n",
       "      <td>Технократия</td>\n",
       "      <td>Технократия</td>\n",
       "      <td>it, обучение, менеджмент, технологии, производство</td>\n",
       "      <td>Казань, Республика Татарстан, Россия</td>\n",
       "      <td>340</td>\n",
       "      <td>338</td>\n",
       "      <td>Making IT production great again! Создатель сервиса для управления ресурсами: Resourcer.appМой telegram-канал: https://t.me/pastikotow</td>\n",
       "    </tr>\n",
       "  </tbody>\n",
       "</table>\n",
       "</div>"
      ],
      "text/plain": [
       "          id    user_name                               user_head  \\\n",
       "0  ali-wodan    Ali Wodan                          Head of Design   \n",
       "1     ikotow  Игорь Котов  Директор по производству – Технократия   \n",
       "\n",
       "     user_work   user_position  \\\n",
       "0    Performix  Head Of Design   \n",
       "1  Технократия     Технократия   \n",
       "\n",
       "                                            user_tags  \\\n",
       "0                                         podcast, it   \n",
       "1  it, обучение, менеджмент, технологии, производство   \n",
       "\n",
       "                          user_location user_viewers user_contacts  \\\n",
       "0    Москва, Московская область, Россия        2 391          500+   \n",
       "1  Казань, Республика Татарстан, Россия          340           338   \n",
       "\n",
       "                                                                                                                                                                                                                                  user_common_info  \n",
       "0  I am a digital product design lead. I've been designing digital systems for years. Teams creating, management, design process building, user research, analytics etc. it's all that i like to do. Also I am into psychology, music, philosophy.  \n",
       "1                                                                                                           Making IT production great again! Создатель сервиса для управления ресурсами: Resourcer.appМой telegram-канал: https://t.me/pastikotow  "
      ]
     },
     "execution_count": 190,
     "metadata": {},
     "output_type": "execute_result"
    }
   ],
   "source": [
    "# открываем датафрейм с информацией о пользователях\n",
    "profiles.head(2)"
   ]
  },
  {
   "cell_type": "code",
   "execution_count": 191,
   "id": "335ccc00",
   "metadata": {},
   "outputs": [],
   "source": [
    "# переименуем столбец text в post для лучшего отражения содержимого\n",
    "posts = posts.rename(columns={'text': 'post'})"
   ]
  },
  {
   "cell_type": "markdown",
   "id": "8795f831",
   "metadata": {},
   "source": [
    "**Предобработка данных**"
   ]
  },
  {
   "cell_type": "code",
   "execution_count": 192,
   "id": "b733189b",
   "metadata": {},
   "outputs": [],
   "source": [
    "# функция удаления эмодзи\n",
    "def remove_emojis(text):\n",
    "    emoji_pattern = re.compile(\"[\"\n",
    "                               u\"\\U0001F600-\\U0001F64F\"  # смайлики\n",
    "                               u\"\\U0001F300-\\U0001F5FF\"  # символы и пиктограммы\n",
    "                               u\"\\U0001F680-\\U0001F6FF\"  # транспорт и символы на карте\n",
    "                               u\"\\U0001F1E0-\\U0001F1FF\"  # флаги\n",
    "                               u\"\\U00002500-\\U00002BEF\"  # китайские символы\n",
    "                               # другие разные символы\n",
    "                               u\"\\U00002702-\\U000027B0\"\n",
    "                               u\"\\U00002702-\\U000027B0\"\n",
    "                               u\"\\U000024C2-\\U0001F251\"\n",
    "                               u\"\\U0001f926-\\U0001f937\"\n",
    "                               u\"\\U00010000-\\U0010ffff\"\n",
    "                               u\"\\u2640-\\u2642\" \n",
    "                               u\"\\u2600-\\u2B55\"\n",
    "                               u\"\\u200d\"\n",
    "                               u\"\\u23cf\"\n",
    "                               u\"\\u23e9\"\n",
    "                               u\"\\u231a\"\n",
    "                               u\"\\ufe0f\"  \n",
    "                               u\"\\u3030\"\n",
    "                               \"]+\", flags=re.UNICODE)\n",
    "    # Удаляем эмодзи, используя паттерны\n",
    "    text_without_emojis = emoji_pattern.sub(r'', text)\n",
    "    return text_without_emojis\n",
    "\n",
    "# удаляем эмодзи из постов\n",
    "posts['post'] = posts['post'].apply(lambda x: remove_emojis(x) if pd.notnull(x) else x)"
   ]
  },
  {
   "cell_type": "code",
   "execution_count": 193,
   "id": "8a349268",
   "metadata": {},
   "outputs": [],
   "source": [
    "# удалим посты на украинском языке\n",
    "\n",
    "# определяем шаблон для украинских символов (по специфичным для данного языка символам)\n",
    "ukrainian_pattern = r'[ЄєІіЇїҐґ]'\n",
    "\n",
    "# создаем маску, указывающую строки, в которых столбец \"post\" содержит текст на украинском языке\n",
    "mask = posts['post'].str.contains(ukrainian_pattern, regex=True, na=False)\n",
    "\n",
    "# сохраняем в датафрейме только строки, в которых маска имеет значение False\n",
    "posts = posts[~mask]"
   ]
  },
  {
   "cell_type": "code",
   "execution_count": 194,
   "id": "715c1d32",
   "metadata": {},
   "outputs": [],
   "source": [
    "# сохраняем хэштэги в отдельный столбец перед их удалением из постов\n",
    "posts['hashtags'] = posts['post'].str.findall(r'#([^\\s]+)').apply(lambda x: ', '.join(x))"
   ]
  },
  {
   "cell_type": "code",
   "execution_count": 195,
   "id": "ce2c5ba3",
   "metadata": {},
   "outputs": [],
   "source": [
    "# функция лемматизации текста\n",
    "morph = pymorphy2.MorphAnalyzer()\n",
    "def lemmatize_text(text):\n",
    "    lemmatized_words = [morph.parse(word)[0].normal_form for word in text.split()]\n",
    "    return ' '.join(lemmatized_words)\n",
    "\n",
    "# лемматизируем посты\n",
    "posts['post_lemmatized'] = posts['post'].apply(lemmatize_text)"
   ]
  },
  {
   "cell_type": "code",
   "execution_count": 196,
   "id": "a062cfed",
   "metadata": {},
   "outputs": [],
   "source": [
    "# удаляем слова, которые идут после хэш-тэга\n",
    "posts['post_lemmatized'] = posts['post_lemmatized'].apply(lambda x: re.sub(r'#[^\\s]+', ' ', x))"
   ]
  },
  {
   "cell_type": "code",
   "execution_count": 197,
   "id": "b807d2ec",
   "metadata": {},
   "outputs": [],
   "source": [
    "# производим замену дефиса на пробел\n",
    "posts[\"post_lemmatized\"] = posts[\"post_lemmatized\"].str.replace(\"-\", \" \")"
   ]
  },
  {
   "cell_type": "code",
   "execution_count": 198,
   "id": "594cade3",
   "metadata": {},
   "outputs": [],
   "source": [
    "# удаляем лишние текстовые символы (те, которые не состоят из букв русского алфавита)\n",
    "# только русские буквы и пробелы\n",
    "posts['post_lemmatized'] = posts['post_lemmatized'].str.replace('[^а-яА-ЯёЁ\\s]', ' ', regex=True) "
   ]
  },
  {
   "cell_type": "code",
   "execution_count": 199,
   "id": "c6980981",
   "metadata": {},
   "outputs": [
    {
     "name": "stderr",
     "output_type": "stream",
     "text": [
      "[nltk_data] Downloading package stopwords to\n",
      "[nltk_data]     C:\\Users\\user\\AppData\\Roaming\\nltk_data...\n",
      "[nltk_data]   Package stopwords is already up-to-date!\n"
     ]
    }
   ],
   "source": [
    "# скачиваем стоп-слова \n",
    "nltk.download('stopwords')\n",
    "stop_words = set(stopwords.words('russian'))\n",
    "\n",
    "# еще один список от bukvarix.com - список стоп-слов Яндекс Wordstat - (этот список можно дополнить/изменить)\n",
    "file_path_words = os.path.join(file_path, 'stop_words.txt')\n",
    "with open(file_path_words, 'r', encoding='utf-8') as file:\n",
    "    stop_words_buk = file.read()"
   ]
  },
  {
   "cell_type": "code",
   "execution_count": 200,
   "id": "4a6eb273",
   "metadata": {},
   "outputs": [],
   "source": [
    "# удаляем стоп-слова и слова-паразиты\n",
    "posts['post_lemmatized'] = posts['post_lemmatized'].apply(lambda x: ' '.join([word for word in x.split() if word not in stop_words]))\n",
    "posts['post_lemmatized'] = posts['post_lemmatized'].apply(lambda x: ' '.join([word for word in x.split() if word.lower() not in stop_words_buk]))"
   ]
  },
  {
   "cell_type": "code",
   "execution_count": 201,
   "id": "d326e369",
   "metadata": {},
   "outputs": [],
   "source": [
    "'''если НЕ оставляем в постах английские слова'''\n",
    "# определяем шаблон регулярного выражения для русских букв\n",
    "pattern = '[^а-яА-ЯёЁ]'\n",
    "# создаем маску, чтобы проверить, содержит ли каждая ячейка русские буквы\n",
    "mask = posts['post_lemmatized'].str.contains(pattern, regex=True)\n",
    "# фильтруем датафрейм, используя маску\n",
    "posts = posts[mask]"
   ]
  },
  {
   "cell_type": "code",
   "execution_count": 202,
   "id": "839fa6a6",
   "metadata": {},
   "outputs": [
    {
     "data": {
      "text/html": [
       "<div>\n",
       "<style scoped>\n",
       "    .dataframe tbody tr th:only-of-type {\n",
       "        vertical-align: middle;\n",
       "    }\n",
       "\n",
       "    .dataframe tbody tr th {\n",
       "        vertical-align: top;\n",
       "    }\n",
       "\n",
       "    .dataframe thead th {\n",
       "        text-align: right;\n",
       "    }\n",
       "</style>\n",
       "<table border=\"1\" class=\"dataframe\">\n",
       "  <thead>\n",
       "    <tr style=\"text-align: right;\">\n",
       "      <th></th>\n",
       "      <th>user_id</th>\n",
       "      <th>post</th>\n",
       "      <th>likes</th>\n",
       "      <th>comments</th>\n",
       "      <th>reposts</th>\n",
       "      <th>hashtags</th>\n",
       "      <th>post_lemmatized</th>\n",
       "    </tr>\n",
       "  </thead>\n",
       "  <tbody>\n",
       "    <tr>\n",
       "      <th>0</th>\n",
       "      <td>ali-wodan</td>\n",
       "      <td>Кстати говоря. Теперь подкаст Миражи доступен в соцсети Вконтакте: https://lnkd.in/gKkrJX9Я наконец разобрался как туда прикрутить RSS :-) #podcast #миражи</td>\n",
       "      <td>1</td>\n",
       "      <td>0</td>\n",
       "      <td>0</td>\n",
       "      <td>podcast, миражи</td>\n",
       "      <td>говоря подкаст мираж доступный соцсеть вконтакте разобраться прикрутить</td>\n",
       "    </tr>\n",
       "    <tr>\n",
       "      <th>2</th>\n",
       "      <td>ali-wodan</td>\n",
       "      <td>Хэй честной народ! Ищу векторного иллюстратора на проект, с возможным длительным сотрудничеством по итогу. Можно удаленно. Уровень иллюстраций не хуже чем в примере https://lnkd.in/gkrvhxYРепост, пожалуйста)Если ты умеешь так рисовать, напиши мне в личку :-)Hey! I am looking for an Illustrator who can help us with a project! You need to have skills like in the example below or upper. Text me to discuss prices and due :-)#вакансия #vacancy #illustration #иллюстрация #project #проект</td>\n",
       "      <td>6</td>\n",
       "      <td>0</td>\n",
       "      <td>0</td>\n",
       "      <td>вакансия, vacancy, illustration, иллюстрация, project, проект</td>\n",
       "      <td>честной народ искать векторный иллюстратор проект возможный длительный сотрудничество итогу удаленно уровень иллюстрация пример репост ести уметь рисовать написать личка</td>\n",
       "    </tr>\n",
       "    <tr>\n",
       "      <th>3</th>\n",
       "      <td>ali-wodan</td>\n",
       "      <td>Новый пост подкаста \"Миражи\" на всех платформах:В аудио: https://lnkd.in/giWuSVNВ инстаграме: https://lnkd.in/gbV6yxKН #automotive # # #cars #а патреоне: https://lnkd.in/gfShqTU#саморазвитие #психология #психологиячеловека #психологияжизни #психологияличности #личностныйрост #подкаст #подкастмиражи #маркетинг #осознанность #мысли #мысливслух #установки #влияние #подсознаниеИспользованные звуки, музыка и картинки:Аудиоцитата из фильма \"Формула любви\" Марка ЗахароваJardins du Luxembourg by Jahzzar is licensed under a Attribution-ShareAlike 3.0 International License.prisoner by Luis Prado from the Noun Project</td>\n",
       "      <td>1</td>\n",
       "      <td>0</td>\n",
       "      <td>0</td>\n",
       "      <td>automotive, cars, а, саморазвитие, психология, психологиячеловека, психологияжизни, психологияличности, личностныйрост, подкаст, подкастмиражи, маркетинг, осознанность, мысли, мысливслух, установки, влияние, подсознаниеИспользованные</td>\n",
       "      <td>пост подкаст миражи платформах аудио инстаграме патреоне звуки музыка картинки аудиоцитат фильм формула любви марк захарова</td>\n",
       "    </tr>\n",
       "    <tr>\n",
       "      <th>4</th>\n",
       "      <td>ali-wodan</td>\n",
       "      <td>Подкаст Миражи, Эпизод 13Ошибка невозвратных затратpodcast.ru/1539345144#подкаст #podcast #it #podcasts #psychology #психология #miragespodcast</td>\n",
       "      <td>2</td>\n",
       "      <td>0</td>\n",
       "      <td>0</td>\n",
       "      <td>подкаст, podcast, it, podcasts, psychology, психология, miragespodcast</td>\n",
       "      <td>подкаст миражи эпизод ошибка невозвратный затрат</td>\n",
       "    </tr>\n",
       "    <tr>\n",
       "      <th>5</th>\n",
       "      <td>ali-wodan</td>\n",
       "      <td>Новый эпизод об эффекте ИКЕА на всех платформах podcast.ru/1539345144</td>\n",
       "      <td>1</td>\n",
       "      <td>0</td>\n",
       "      <td>0</td>\n",
       "      <td></td>\n",
       "      <td>эпизод эффект икеа платформа</td>\n",
       "    </tr>\n",
       "  </tbody>\n",
       "</table>\n",
       "</div>"
      ],
      "text/plain": [
       "     user_id  \\\n",
       "0  ali-wodan   \n",
       "2  ali-wodan   \n",
       "3  ali-wodan   \n",
       "4  ali-wodan   \n",
       "5  ali-wodan   \n",
       "\n",
       "                                                                                                                                                                                                                                                                                                                                                                                                                                                                                                                                                                                                                                     post  \\\n",
       "0                                                                                                                                                                                                                                                                                                                                                                                                                                                                             Кстати говоря. Теперь подкаст Миражи доступен в соцсети Вконтакте: https://lnkd.in/gKkrJX9Я наконец разобрался как туда прикрутить RSS :-) #podcast #миражи   \n",
       "2                                                                                                                                  Хэй честной народ! Ищу векторного иллюстратора на проект, с возможным длительным сотрудничеством по итогу. Можно удаленно. Уровень иллюстраций не хуже чем в примере https://lnkd.in/gkrvhxYРепост, пожалуйста)Если ты умеешь так рисовать, напиши мне в личку :-)Hey! I am looking for an Illustrator who can help us with a project! You need to have skills like in the example below or upper. Text me to discuss prices and due :-)#вакансия #vacancy #illustration #иллюстрация #project #проект   \n",
       "3  Новый пост подкаста \"Миражи\" на всех платформах:В аудио: https://lnkd.in/giWuSVNВ инстаграме: https://lnkd.in/gbV6yxKН #automotive # # #cars #а патреоне: https://lnkd.in/gfShqTU#саморазвитие #психология #психологиячеловека #психологияжизни #психологияличности #личностныйрост #подкаст #подкастмиражи #маркетинг #осознанность #мысли #мысливслух #установки #влияние #подсознаниеИспользованные звуки, музыка и картинки:Аудиоцитата из фильма \"Формула любви\" Марка ЗахароваJardins du Luxembourg by Jahzzar is licensed under a Attribution-ShareAlike 3.0 International License.prisoner by Luis Prado from the Noun Project   \n",
       "4                                                                                                                                                                                                                                                                                                                                                                                                                                                                                         Подкаст Миражи, Эпизод 13Ошибка невозвратных затратpodcast.ru/1539345144#подкаст #podcast #it #podcasts #psychology #психология #miragespodcast   \n",
       "5                                                                                                                                                                                                                                                                                                                                                                                                                                                                                                                                                                   Новый эпизод об эффекте ИКЕА на всех платформах podcast.ru/1539345144   \n",
       "\n",
       "  likes  comments  reposts  \\\n",
       "0     1         0        0   \n",
       "2     6         0        0   \n",
       "3     1         0        0   \n",
       "4     2         0        0   \n",
       "5     1         0        0   \n",
       "\n",
       "                                                                                                                                                                                                                                    hashtags  \\\n",
       "0                                                                                                                                                                                                                            podcast, миражи   \n",
       "2                                                                                                                                                                              вакансия, vacancy, illustration, иллюстрация, project, проект   \n",
       "3  automotive, cars, а, саморазвитие, психология, психологиячеловека, психологияжизни, психологияличности, личностныйрост, подкаст, подкастмиражи, маркетинг, осознанность, мысли, мысливслух, установки, влияние, подсознаниеИспользованные   \n",
       "4                                                                                                                                                                     подкаст, podcast, it, podcasts, psychology, психология, miragespodcast   \n",
       "5                                                                                                                                                                                                                                              \n",
       "\n",
       "                                                                                                                                                             post_lemmatized  \n",
       "0                                                                                                    говоря подкаст мираж доступный соцсеть вконтакте разобраться прикрутить  \n",
       "2  честной народ искать векторный иллюстратор проект возможный длительный сотрудничество итогу удаленно уровень иллюстрация пример репост ести уметь рисовать написать личка  \n",
       "3                                                пост подкаст миражи платформах аудио инстаграме патреоне звуки музыка картинки аудиоцитат фильм формула любви марк захарова  \n",
       "4                                                                                                                           подкаст миражи эпизод ошибка невозвратный затрат  \n",
       "5                                                                                                                                               эпизод эффект икеа платформа  "
      ]
     },
     "execution_count": 202,
     "metadata": {},
     "output_type": "execute_result"
    }
   ],
   "source": [
    "posts.head()"
   ]
  },
  {
   "cell_type": "code",
   "execution_count": 203,
   "id": "06697bb2",
   "metadata": {
    "scrolled": true
   },
   "outputs": [
    {
     "name": "stdout",
     "output_type": "stream",
     "text": [
      "<class 'pandas.core.frame.DataFrame'>\n",
      "Int64Index: 2096 entries, 0 to 8597\n",
      "Data columns (total 7 columns):\n",
      " #   Column           Non-Null Count  Dtype \n",
      "---  ------           --------------  ----- \n",
      " 0   user_id          2096 non-null   object\n",
      " 1   post             2096 non-null   object\n",
      " 2   likes            2096 non-null   object\n",
      " 3   comments         2096 non-null   int64 \n",
      " 4   reposts          2096 non-null   int64 \n",
      " 5   hashtags         2096 non-null   object\n",
      " 6   post_lemmatized  2096 non-null   object\n",
      "dtypes: int64(2), object(5)\n",
      "memory usage: 131.0+ KB\n"
     ]
    }
   ],
   "source": [
    "posts.info()"
   ]
  },
  {
   "cell_type": "markdown",
   "id": "e57876ed",
   "metadata": {},
   "source": [
    "Объединяем датафреймы"
   ]
  },
  {
   "cell_type": "code",
   "execution_count": 204,
   "id": "6c805aa9",
   "metadata": {},
   "outputs": [],
   "source": [
    "# переименуем столбец id в user_id в датафрейме profiles, для последующего объединения с posts\n",
    "profiles = profiles.rename(columns={'id': 'user_id'})"
   ]
  },
  {
   "cell_type": "code",
   "execution_count": 205,
   "id": "56fdc9f2",
   "metadata": {},
   "outputs": [],
   "source": [
    "# объединяем датафреймы\n",
    "df = pd.merge(posts, profiles, on='user_id')"
   ]
  },
  {
   "cell_type": "code",
   "execution_count": 206,
   "id": "18c78b8f",
   "metadata": {},
   "outputs": [],
   "source": [
    "# удаляем дубликаты\n",
    "df.drop_duplicates(inplace=True)"
   ]
  },
  {
   "cell_type": "code",
   "execution_count": 207,
   "id": "9eddf485",
   "metadata": {},
   "outputs": [],
   "source": [
    "# удаляем из столбца likes точки, запятые и пробелы\n",
    "df[\"likes\"] = df[\"likes\"].replace(r'\\.|\\,|\\s', '', regex=True)\n",
    "\n",
    "# меняем тип данных сотлбца likes на integer\n",
    "df[\"likes\"] = df[\"likes\"].astype(\"int64\")"
   ]
  },
  {
   "cell_type": "code",
   "execution_count": 208,
   "id": "58f5fe96",
   "metadata": {
    "scrolled": false
   },
   "outputs": [
    {
     "name": "stdout",
     "output_type": "stream",
     "text": [
      "<class 'pandas.core.frame.DataFrame'>\n",
      "Int64Index: 2087 entries, 0 to 2095\n",
      "Data columns (total 16 columns):\n",
      " #   Column            Non-Null Count  Dtype \n",
      "---  ------            --------------  ----- \n",
      " 0   user_id           2087 non-null   object\n",
      " 1   post              2087 non-null   object\n",
      " 2   likes             2087 non-null   int64 \n",
      " 3   comments          2087 non-null   int64 \n",
      " 4   reposts           2087 non-null   int64 \n",
      " 5   hashtags          2087 non-null   object\n",
      " 6   post_lemmatized   2087 non-null   object\n",
      " 7   user_name         2087 non-null   object\n",
      " 8   user_head         2087 non-null   object\n",
      " 9   user_work         1999 non-null   object\n",
      " 10  user_position     2087 non-null   object\n",
      " 11  user_tags         397 non-null    object\n",
      " 12  user_location     2080 non-null   object\n",
      " 13  user_viewers      2087 non-null   object\n",
      " 14  user_contacts     2087 non-null   object\n",
      " 15  user_common_info  1898 non-null   object\n",
      "dtypes: int64(3), object(13)\n",
      "memory usage: 277.2+ KB\n"
     ]
    }
   ],
   "source": [
    "df.info()"
   ]
  },
  {
   "cell_type": "code",
   "execution_count": 209,
   "id": "aa8b402a",
   "metadata": {},
   "outputs": [],
   "source": [
    "# Сохраняем датафрейм\n",
    "df.to_csv(os.path.join(file_path, 'linkedin.csv'))\n",
    "\n",
    "# Сохраняем датафрейм лемматизации\n",
    "df[[\n",
    "    'user_id', 'post_lemmatized', 'likes', 'comments', 'reposts'\n",
    "]].to_csv(os.path.join(file_path, 'post_lemmatized.csv'))"
   ]
  },
  {
   "cell_type": "code",
   "execution_count": 210,
   "id": "786b5101",
   "metadata": {},
   "outputs": [
    {
     "data": {
      "text/html": [
       "<div>\n",
       "<style scoped>\n",
       "    .dataframe tbody tr th:only-of-type {\n",
       "        vertical-align: middle;\n",
       "    }\n",
       "\n",
       "    .dataframe tbody tr th {\n",
       "        vertical-align: top;\n",
       "    }\n",
       "\n",
       "    .dataframe thead th {\n",
       "        text-align: right;\n",
       "    }\n",
       "</style>\n",
       "<table border=\"1\" class=\"dataframe\">\n",
       "  <thead>\n",
       "    <tr style=\"text-align: right;\">\n",
       "      <th></th>\n",
       "      <th>user_id</th>\n",
       "      <th>post</th>\n",
       "      <th>likes</th>\n",
       "      <th>comments</th>\n",
       "      <th>reposts</th>\n",
       "      <th>hashtags</th>\n",
       "      <th>post_lemmatized</th>\n",
       "      <th>user_name</th>\n",
       "      <th>user_head</th>\n",
       "      <th>user_work</th>\n",
       "      <th>user_position</th>\n",
       "      <th>user_tags</th>\n",
       "      <th>user_location</th>\n",
       "      <th>user_viewers</th>\n",
       "      <th>user_contacts</th>\n",
       "      <th>user_common_info</th>\n",
       "    </tr>\n",
       "  </thead>\n",
       "  <tbody>\n",
       "    <tr>\n",
       "      <th>1077</th>\n",
       "      <td>surenharutyunyanc</td>\n",
       "      <td>Ознакомиться с сайтом likesuro.com. Просто наберите его название в поисковике и перейдите на страницу \"FOR CANDIDATES\" или \"КАНДИДАТАМ\", если вы на русскоязычной странице. #поискработы #резюме #анкета #likesuro #CRM #рекрутер #вакансии #кандидаты #квалификация #шансы #карьера #работа #собеседование</td>\n",
       "      <td>0</td>\n",
       "      <td>0</td>\n",
       "      <td>0</td>\n",
       "      <td>поискработы, резюме, анкета, likesuro, CRM, рекрутер, вакансии, кандидаты, квалификация, шансы, карьера, работа, собеседование</td>\n",
       "      <td>ознакомиться сайт набрать название поисковик перейти страница кандидатам русскоязычный странице</td>\n",
       "      <td>Suren Harutyunyan</td>\n",
       "      <td>Recruter</td>\n",
       "      <td>Университет имени Жиули Шартавы</td>\n",
       "      <td>IT recruiter, sourcer</td>\n",
       "      <td>NaN</td>\n",
       "      <td>Tbilisi, Georgia</td>\n",
       "      <td>2,067</td>\n",
       "      <td>500+</td>\n",
       "      <td>A brief message about myself as a recruiter could look like this:I am a professional recruiter with experience in the IT industry. I specialize in sourcing and recruiting talented professionals and possess strong sourcing skills, as well as the ability to work with candidates at all stages of the hiring process. I strive to create a positive atmosphere and aim to find the ideal candidate for each vacancy.</td>\n",
       "    </tr>\n",
       "    <tr>\n",
       "      <th>90</th>\n",
       "      <td>agratoth</td>\n",
       "      <td>Весьма интересная и нестандартная вакансия! Highload-стек, возможность повысить свою экспертизу и делиться ей с другими#vacancy #highload #clickhouse #hadoop</td>\n",
       "      <td>1</td>\n",
       "      <td>0</td>\n",
       "      <td>0</td>\n",
       "      <td>vacancy, highload, clickhouse, hadoop</td>\n",
       "      <td>весьма интересный нестандартный вакансия стек возможность повысить экспертиза делиться другими</td>\n",
       "      <td>Anton Berdnikov</td>\n",
       "      <td>CTO/Co-founder</td>\n",
       "      <td>Cloudberry.bi</td>\n",
       "      <td>Chief Technical Officer/Co-founder</td>\n",
       "      <td>NaN</td>\n",
       "      <td>Russia</td>\n",
       "      <td>4,569</td>\n",
       "      <td>500+</td>\n",
       "      <td>Разработка нейросетей на python/keras.io + tensorflowРазработка микросервисов на golangРазработка высоконагруженных приложенийСистемная разработка на golangСистемная разработка на C/C++</td>\n",
       "    </tr>\n",
       "    <tr>\n",
       "      <th>574</th>\n",
       "      <td>drazd</td>\n",
       "      <td>Еще одна победа над рутиной - на этот раз в поле рекрутинга. Особенно сегодня, когда в пост-ковидную эпоху работу через Интернет научились искать практически все - это решение очень к месту! Знаю, что среди моих подписчиков и друзей есть рекрутёры, присмотритесь повнимательнее!</td>\n",
       "      <td>3</td>\n",
       "      <td>0</td>\n",
       "      <td>0</td>\n",
       "      <td></td>\n",
       "      <td>победа рутина поле рекрутинга особенно пост ковидный эпоха работа интернет научиться искать практически решение месту знаю подписчик рекрутёры присмотреться повнимательнее</td>\n",
       "      <td>Valentin Drazdov</td>\n",
       "      <td>Product Manager in PIX Robotics | IT Expert. Trusted advisor in RPA, ECM, BPM in Russia &amp; CIS</td>\n",
       "      <td>PIX Robotics</td>\n",
       "      <td>Product Manager</td>\n",
       "      <td>NaN</td>\n",
       "      <td>Moscow, Moscow City, Russia</td>\n",
       "      <td>634</td>\n",
       "      <td>500+</td>\n",
       "      <td>The most important thing in IT - is to understand customer's pain, translate it to developers team and provide the very best solution for end users. All of my 10+ years career I parcitipated in many big projects as: developer, lead, architect, pre-sales and even project manager. My experience giving great opportunity to make projects easier to achieve the goal at any stage. If you had some problems with big IT systems in your company, or even you had bad experience with some ECM&amp;BPM solutions - let's discuss about that and maybe I will show you the way to better feature of IT systems in your company.</td>\n",
       "    </tr>\n",
       "    <tr>\n",
       "      <th>1300</th>\n",
       "      <td>linkwolf</td>\n",
       "      <td>Друзья! Директора и топ-менеджеры компаний. Моя компания Digital Agency Linkwolf предлагает вам услуги по созданию сайта и бренда. Если вам интересно вы можете написать мне либо оставить комментарий.www.linkwolf.netЗа репост +100 к карма  #разработка</td>\n",
       "      <td>3</td>\n",
       "      <td>0</td>\n",
       "      <td>1</td>\n",
       "      <td>разработка</td>\n",
       "      <td>друзья директор топ менеджер компаний компания предлагать услуга создание сайт бренда написать либо оставить комментарий репост карма</td>\n",
       "      <td>Nikita Tulubaiev</td>\n",
       "      <td>I'm Nikita. Hello everyone!</td>\n",
       "      <td>University of Economics and Law \"KROK\"</td>\n",
       "      <td>Middle full stack</td>\n",
       "      <td>NaN</td>\n",
       "      <td>Kyiv, Kyiv City, Ukraine</td>\n",
       "      <td>2,856</td>\n",
       "      <td>500+</td>\n",
       "      <td>I'm Nikita. Hello everyone!</td>\n",
       "    </tr>\n",
       "    <tr>\n",
       "      <th>1404</th>\n",
       "      <td>elizaveta-kalinina-3aab58214</td>\n",
       "      <td>А вы уже опробовали тренажёр по математике от Yandex?Неплохой способ оценить свои знания в математике)</td>\n",
       "      <td>5</td>\n",
       "      <td>0</td>\n",
       "      <td>1</td>\n",
       "      <td></td>\n",
       "      <td>опробовать тренажёр математика неплохой способ оценить знание математике</td>\n",
       "      <td>Elizaveta Kalinina</td>\n",
       "      <td>UX designer / Product designer</td>\n",
       "      <td>International FinTech Сompany</td>\n",
       "      <td>UX Designer</td>\n",
       "      <td>ux, design, research</td>\n",
       "      <td>Подгорица, Черногория</td>\n",
       "      <td>280</td>\n",
       "      <td>245</td>\n",
       "      <td>— Отличное владение Figma (Auto Layout, Components, Variants, Библиотека)— Интерактивное прототипирование в Figma— Знание основ типографики, композиции, редактуры текстов и правил проектирования интерфейсов (цикл книг издательства бюро Горбунова: Артём Горбунов «Типографика и вёрстка», Илья Бирман «Пользовательский интерфейс», Максим Ильяхов «Информационный стиль»)— Понимание основ вёрстки— Хороший уровень насмотренности интерфейсных решений— Я вижу систему в целом, а не изолированно отдельные её фрагменты— Глубокий анализ проблем — я задаю много вопросов, чтобы докопаться до истины— Всегда помню, что моим интерфейсом будут пользоваться реальные люди. Я знаю, кто мои пользователи— Каждый элемент моего интерфейса имеет смысл, поэтому я всегда знаю ответ на вопрос «Почему именно так, а не иначе?»— Приёмка задач (прогоняю весь флоу на логику, просматриваю интерфейс с точки зрения вёрстки)— Умею так коммуницировать в продуктовой команде и добиваться истины, чтобы не поссориться ни с кем— Держу свои обещания и придерживаюсь договорённостей— Я самостоятельная, при этом не стесняюсь обратиться за помощьюПортфолио с работами я высылаю в личной перепискеЕсть немного кейсов на Behance: https://www.behance.net/kalinina-design Мой Behance про красивые работы, поэтому прикрепляю ссылку больше так, чтобы вы увидели, что у меня есть вкус)Приветствую вакансии с релокейтом в другую страну или возможностью работать не из РФ, так как в ближайшее время переезжаю</td>\n",
       "    </tr>\n",
       "  </tbody>\n",
       "</table>\n",
       "</div>"
      ],
      "text/plain": [
       "                           user_id  \\\n",
       "1077             surenharutyunyanc   \n",
       "90                        agratoth   \n",
       "574                          drazd   \n",
       "1300                      linkwolf   \n",
       "1404  elizaveta-kalinina-3aab58214   \n",
       "\n",
       "                                                                                                                                                                                                                                                                                                             post  \\\n",
       "1077  Ознакомиться с сайтом likesuro.com. Просто наберите его название в поисковике и перейдите на страницу \"FOR CANDIDATES\" или \"КАНДИДАТАМ\", если вы на русскоязычной странице. #поискработы #резюме #анкета #likesuro #CRM #рекрутер #вакансии #кандидаты #квалификация #шансы #карьера #работа #собеседование   \n",
       "90                                                                                                                                                  Весьма интересная и нестандартная вакансия! Highload-стек, возможность повысить свою экспертизу и делиться ей с другими#vacancy #highload #clickhouse #hadoop   \n",
       "574                        Еще одна победа над рутиной - на этот раз в поле рекрутинга. Особенно сегодня, когда в пост-ковидную эпоху работу через Интернет научились искать практически все - это решение очень к месту! Знаю, что среди моих подписчиков и друзей есть рекрутёры, присмотритесь повнимательнее!   \n",
       "1300                                                   Друзья! Директора и топ-менеджеры компаний. Моя компания Digital Agency Linkwolf предлагает вам услуги по созданию сайта и бренда. Если вам интересно вы можете написать мне либо оставить комментарий.www.linkwolf.netЗа репост +100 к карма  #разработка   \n",
       "1404                                                                                                                                                                                                       А вы уже опробовали тренажёр по математике от Yandex?Неплохой способ оценить свои знания в математике)   \n",
       "\n",
       "      likes  comments  reposts  \\\n",
       "1077      0         0        0   \n",
       "90        1         0        0   \n",
       "574       3         0        0   \n",
       "1300      3         0        1   \n",
       "1404      5         0        1   \n",
       "\n",
       "                                                                                                                            hashtags  \\\n",
       "1077  поискработы, резюме, анкета, likesuro, CRM, рекрутер, вакансии, кандидаты, квалификация, шансы, карьера, работа, собеседование   \n",
       "90                                                                                             vacancy, highload, clickhouse, hadoop   \n",
       "574                                                                                                                                    \n",
       "1300                                                                                                                      разработка   \n",
       "1404                                                                                                                                   \n",
       "\n",
       "                                                                                                                                                                  post_lemmatized  \\\n",
       "1077                                                                              ознакомиться сайт набрать название поисковик перейти страница кандидатам русскоязычный странице   \n",
       "90                                                                                 весьма интересный нестандартный вакансия стек возможность повысить экспертиза делиться другими   \n",
       "574   победа рутина поле рекрутинга особенно пост ковидный эпоха работа интернет научиться искать практически решение месту знаю подписчик рекрутёры присмотреться повнимательнее   \n",
       "1300                                        друзья директор топ менеджер компаний компания предлагать услуга создание сайт бренда написать либо оставить комментарий репост карма   \n",
       "1404                                                                                                     опробовать тренажёр математика неплохой способ оценить знание математике   \n",
       "\n",
       "               user_name  \\\n",
       "1077   Suren Harutyunyan   \n",
       "90       Anton Berdnikov   \n",
       "574     Valentin Drazdov   \n",
       "1300    Nikita Tulubaiev   \n",
       "1404  Elizaveta Kalinina   \n",
       "\n",
       "                                                                                          user_head  \\\n",
       "1077                                                                                       Recruter   \n",
       "90                                                                                   CTO/Co-founder   \n",
       "574   Product Manager in PIX Robotics | IT Expert. Trusted advisor in RPA, ECM, BPM in Russia & CIS   \n",
       "1300                                                                    I'm Nikita. Hello everyone!   \n",
       "1404                                                                 UX designer / Product designer   \n",
       "\n",
       "                                   user_work  \\\n",
       "1077         Университет имени Жиули Шартавы   \n",
       "90                             Cloudberry.bi   \n",
       "574                             PIX Robotics   \n",
       "1300  University of Economics and Law \"KROK\"   \n",
       "1404           International FinTech Сompany   \n",
       "\n",
       "                           user_position             user_tags  \\\n",
       "1077               IT recruiter, sourcer                   NaN   \n",
       "90    Chief Technical Officer/Co-founder                   NaN   \n",
       "574                      Product Manager                   NaN   \n",
       "1300                   Middle full stack                   NaN   \n",
       "1404                         UX Designer  ux, design, research   \n",
       "\n",
       "                    user_location user_viewers user_contacts  \\\n",
       "1077             Tbilisi, Georgia        2,067          500+   \n",
       "90                         Russia        4,569          500+   \n",
       "574   Moscow, Moscow City, Russia          634          500+   \n",
       "1300     Kyiv, Kyiv City, Ukraine        2,856          500+   \n",
       "1404        Подгорица, Черногория          280           245   \n",
       "\n",
       "                                                                                                                                                                                                                                                                                                                                                                                                                                                                                                                                                                                                                                                                                                                                                                                                                                                                                                                                                                                                                                                                                                                                                                                                                                                                                                                                                                                                                                                                                                                user_common_info  \n",
       "1077                                                                                                                                                                                                                                                                                                                                                                                                                                                                                                                                                                                                                                                                                                                                                                                                                                                                                                                                                                                                                                                                                                    A brief message about myself as a recruiter could look like this:I am a professional recruiter with experience in the IT industry. I specialize in sourcing and recruiting talented professionals and possess strong sourcing skills, as well as the ability to work with candidates at all stages of the hiring process. I strive to create a positive atmosphere and aim to find the ideal candidate for each vacancy.  \n",
       "90                                                                                                                                                                                                                                                                                                                                                                                                                                                                                                                                                                                                                                                                                                                                                                                                                                                                                                                                                                                                                                                                                                                                                                                                                                                                                                                                     Разработка нейросетей на python/keras.io + tensorflowРазработка микросервисов на golangРазработка высоконагруженных приложенийСистемная разработка на golangСистемная разработка на C/C++  \n",
       "574                                                                                                                                                                                                                                                                                                                                                                                                                                                                                                                                                                                                                                                                                                                                                                                                                                                                                              The most important thing in IT - is to understand customer's pain, translate it to developers team and provide the very best solution for end users. All of my 10+ years career I parcitipated in many big projects as: developer, lead, architect, pre-sales and even project manager. My experience giving great opportunity to make projects easier to achieve the goal at any stage. If you had some problems with big IT systems in your company, or even you had bad experience with some ECM&BPM solutions - let's discuss about that and maybe I will show you the way to better feature of IT systems in your company.  \n",
       "1300                                                                                                                                                                                                                                                                                                                                                                                                                                                                                                                                                                                                                                                                                                                                                                                                                                                                                                                                                                                                                                                                                                                                                                                                                                                                                                                                                                                                                                                                                                 I'm Nikita. Hello everyone!  \n",
       "1404  — Отличное владение Figma (Auto Layout, Components, Variants, Библиотека)— Интерактивное прототипирование в Figma— Знание основ типографики, композиции, редактуры текстов и правил проектирования интерфейсов (цикл книг издательства бюро Горбунова: Артём Горбунов «Типографика и вёрстка», Илья Бирман «Пользовательский интерфейс», Максим Ильяхов «Информационный стиль»)— Понимание основ вёрстки— Хороший уровень насмотренности интерфейсных решений— Я вижу систему в целом, а не изолированно отдельные её фрагменты— Глубокий анализ проблем — я задаю много вопросов, чтобы докопаться до истины— Всегда помню, что моим интерфейсом будут пользоваться реальные люди. Я знаю, кто мои пользователи— Каждый элемент моего интерфейса имеет смысл, поэтому я всегда знаю ответ на вопрос «Почему именно так, а не иначе?»— Приёмка задач (прогоняю весь флоу на логику, просматриваю интерфейс с точки зрения вёрстки)— Умею так коммуницировать в продуктовой команде и добиваться истины, чтобы не поссориться ни с кем— Держу свои обещания и придерживаюсь договорённостей— Я самостоятельная, при этом не стесняюсь обратиться за помощьюПортфолио с работами я высылаю в личной перепискеЕсть немного кейсов на Behance: https://www.behance.net/kalinina-design Мой Behance про красивые работы, поэтому прикрепляю ссылку больше так, чтобы вы увидели, что у меня есть вкус)Приветствую вакансии с релокейтом в другую страну или возможностью работать не из РФ, так как в ближайшее время переезжаю  "
      ]
     },
     "execution_count": 210,
     "metadata": {},
     "output_type": "execute_result"
    }
   ],
   "source": [
    "df.sample(5)"
   ]
  },
  {
   "cell_type": "markdown",
   "id": "da156ba1",
   "metadata": {},
   "source": [
    "---"
   ]
  },
  {
   "cell_type": "code",
   "execution_count": 211,
   "id": "f15766f3",
   "metadata": {},
   "outputs": [],
   "source": [
    "docs = df['post_lemmatized'].tolist()"
   ]
  },
  {
   "cell_type": "code",
   "execution_count": 212,
   "id": "c44cb4a3",
   "metadata": {},
   "outputs": [],
   "source": [
    "tfidf = TfidfVectorizer(min_df=10, max_df=0.9)"
   ]
  },
  {
   "cell_type": "code",
   "execution_count": 213,
   "id": "56a5a299",
   "metadata": {},
   "outputs": [],
   "source": [
    "x = tfidf.fit_transform(docs)"
   ]
  },
  {
   "cell_type": "code",
   "execution_count": 214,
   "id": "f18367fe",
   "metadata": {},
   "outputs": [
    {
     "data": {
      "text/html": [
       "<style>#sk-container-id-3 {color: black;background-color: white;}#sk-container-id-3 pre{padding: 0;}#sk-container-id-3 div.sk-toggleable {background-color: white;}#sk-container-id-3 label.sk-toggleable__label {cursor: pointer;display: block;width: 100%;margin-bottom: 0;padding: 0.3em;box-sizing: border-box;text-align: center;}#sk-container-id-3 label.sk-toggleable__label-arrow:before {content: \"▸\";float: left;margin-right: 0.25em;color: #696969;}#sk-container-id-3 label.sk-toggleable__label-arrow:hover:before {color: black;}#sk-container-id-3 div.sk-estimator:hover label.sk-toggleable__label-arrow:before {color: black;}#sk-container-id-3 div.sk-toggleable__content {max-height: 0;max-width: 0;overflow: hidden;text-align: left;background-color: #f0f8ff;}#sk-container-id-3 div.sk-toggleable__content pre {margin: 0.2em;color: black;border-radius: 0.25em;background-color: #f0f8ff;}#sk-container-id-3 input.sk-toggleable__control:checked~div.sk-toggleable__content {max-height: 200px;max-width: 100%;overflow: auto;}#sk-container-id-3 input.sk-toggleable__control:checked~label.sk-toggleable__label-arrow:before {content: \"▾\";}#sk-container-id-3 div.sk-estimator input.sk-toggleable__control:checked~label.sk-toggleable__label {background-color: #d4ebff;}#sk-container-id-3 div.sk-label input.sk-toggleable__control:checked~label.sk-toggleable__label {background-color: #d4ebff;}#sk-container-id-3 input.sk-hidden--visually {border: 0;clip: rect(1px 1px 1px 1px);clip: rect(1px, 1px, 1px, 1px);height: 1px;margin: -1px;overflow: hidden;padding: 0;position: absolute;width: 1px;}#sk-container-id-3 div.sk-estimator {font-family: monospace;background-color: #f0f8ff;border: 1px dotted black;border-radius: 0.25em;box-sizing: border-box;margin-bottom: 0.5em;}#sk-container-id-3 div.sk-estimator:hover {background-color: #d4ebff;}#sk-container-id-3 div.sk-parallel-item::after {content: \"\";width: 100%;border-bottom: 1px solid gray;flex-grow: 1;}#sk-container-id-3 div.sk-label:hover label.sk-toggleable__label {background-color: #d4ebff;}#sk-container-id-3 div.sk-serial::before {content: \"\";position: absolute;border-left: 1px solid gray;box-sizing: border-box;top: 0;bottom: 0;left: 50%;z-index: 0;}#sk-container-id-3 div.sk-serial {display: flex;flex-direction: column;align-items: center;background-color: white;padding-right: 0.2em;padding-left: 0.2em;position: relative;}#sk-container-id-3 div.sk-item {position: relative;z-index: 1;}#sk-container-id-3 div.sk-parallel {display: flex;align-items: stretch;justify-content: center;background-color: white;position: relative;}#sk-container-id-3 div.sk-item::before, #sk-container-id-3 div.sk-parallel-item::before {content: \"\";position: absolute;border-left: 1px solid gray;box-sizing: border-box;top: 0;bottom: 0;left: 50%;z-index: -1;}#sk-container-id-3 div.sk-parallel-item {display: flex;flex-direction: column;z-index: 1;position: relative;background-color: white;}#sk-container-id-3 div.sk-parallel-item:first-child::after {align-self: flex-end;width: 50%;}#sk-container-id-3 div.sk-parallel-item:last-child::after {align-self: flex-start;width: 50%;}#sk-container-id-3 div.sk-parallel-item:only-child::after {width: 0;}#sk-container-id-3 div.sk-dashed-wrapped {border: 1px dashed gray;margin: 0 0.4em 0.5em 0.4em;box-sizing: border-box;padding-bottom: 0.4em;background-color: white;}#sk-container-id-3 div.sk-label label {font-family: monospace;font-weight: bold;display: inline-block;line-height: 1.2em;}#sk-container-id-3 div.sk-label-container {text-align: center;}#sk-container-id-3 div.sk-container {/* jupyter's `normalize.less` sets `[hidden] { display: none; }` but bootstrap.min.css set `[hidden] { display: none !important; }` so we also need the `!important` here to be able to override the default hidden behavior on the sphinx rendered scikit-learn.org. See: https://github.com/scikit-learn/scikit-learn/issues/21755 */display: inline-block !important;position: relative;}#sk-container-id-3 div.sk-text-repr-fallback {display: none;}</style><div id=\"sk-container-id-3\" class=\"sk-top-container\"><div class=\"sk-text-repr-fallback\"><pre>TfidfVectorizer(max_df=0.9, min_df=10)</pre><b>In a Jupyter environment, please rerun this cell to show the HTML representation or trust the notebook. <br />On GitHub, the HTML representation is unable to render, please try loading this page with nbviewer.org.</b></div><div class=\"sk-container\" hidden><div class=\"sk-item\"><div class=\"sk-estimator sk-toggleable\"><input class=\"sk-toggleable__control sk-hidden--visually\" id=\"sk-estimator-id-3\" type=\"checkbox\" checked><label for=\"sk-estimator-id-3\" class=\"sk-toggleable__label sk-toggleable__label-arrow\">TfidfVectorizer</label><div class=\"sk-toggleable__content\"><pre>TfidfVectorizer(max_df=0.9, min_df=10)</pre></div></div></div></div></div>"
      ],
      "text/plain": [
       "TfidfVectorizer(max_df=0.9, min_df=10)"
      ]
     },
     "execution_count": 214,
     "metadata": {},
     "output_type": "execute_result"
    }
   ],
   "source": [
    "tfidf.fit(docs)"
   ]
  },
  {
   "cell_type": "code",
   "execution_count": 215,
   "id": "9e0b86e9",
   "metadata": {},
   "outputs": [
    {
     "data": {
      "text/plain": [
       "(2087, 1634)"
      ]
     },
     "execution_count": 215,
     "metadata": {},
     "output_type": "execute_result"
    }
   ],
   "source": [
    "x.shape"
   ]
  },
  {
   "cell_type": "code",
   "execution_count": 216,
   "id": "1145ae08",
   "metadata": {},
   "outputs": [],
   "source": [
    "id2word = {i: token for token, i in tfidf.vocabulary_.items()}"
   ]
  },
  {
   "cell_type": "markdown",
   "id": "1ee5fcd6",
   "metadata": {},
   "source": [
    "**LDA**"
   ]
  },
  {
   "cell_type": "code",
   "execution_count": 217,
   "id": "066c2686",
   "metadata": {},
   "outputs": [],
   "source": [
    "n_topics = 20"
   ]
  },
  {
   "cell_type": "code",
   "execution_count": 218,
   "id": "90096f1f",
   "metadata": {},
   "outputs": [],
   "source": [
    "lda = LatentDirichletAllocation(n_components=n_topics, random_state=31)"
   ]
  },
  {
   "cell_type": "code",
   "execution_count": 219,
   "id": "2c05c558",
   "metadata": {},
   "outputs": [],
   "source": [
    "topics = lda.fit_transform(x)"
   ]
  },
  {
   "cell_type": "code",
   "execution_count": 220,
   "id": "23b01acb",
   "metadata": {},
   "outputs": [
    {
     "data": {
      "text/plain": [
       "(2087, 20)"
      ]
     },
     "execution_count": 220,
     "metadata": {},
     "output_type": "execute_result"
    }
   ],
   "source": [
    "topics.shape"
   ]
  },
  {
   "cell_type": "markdown",
   "id": "4b0db0c7",
   "metadata": {},
   "source": [
    "**Ключевые слова**"
   ]
  },
  {
   "cell_type": "code",
   "execution_count": 221,
   "id": "0ba60f29",
   "metadata": {},
   "outputs": [
    {
     "name": "stdout",
     "output_type": "stream",
     "text": [
      "Тема 1 :\n",
      "анимация, полезный, выполнить, резюме, полезно, ссылка, считать, медицинский, проект, поговорить, долгий, коммерческий, москве, защита, коллеги, советовать, сообщить, специалистов, сеть, находка\n",
      "\n",
      " \n",
      "Тема 2 :\n",
      "выступать, давно, нанимать, выстраивать, рассказать, карта, секрет, проекта, дальше, проект, скидка, отрасли, статья, тематика, бонус, итог, команда, поддержать, эксперт, спикер\n",
      "\n",
      " \n",
      "Тема 3 :\n",
      "млн, делиться, рисовать, активно, просмотреть, специалист, сайт, продукт, страница, работу, проект, директ, рф, статью, искать, персонал, наставник, услуг, посетить, банк\n",
      "\n",
      " \n",
      "Тема 4 :\n",
      "приглашать, показать, проходить, открытие, конференции, направление, яндекс, поучаствовать, компания, школа, интенсив, сменить, курс, красиво, удовольствие, скидка, получил, онлайн, ловить, сертификат\n",
      "\n",
      " \n",
      "Тема 5 :\n",
      "снижение, оптимизировать, канал, вебинар, таймкоды, бизнес, создать, прибыль, рассказывать, инвестиция, картинка, расчёт, полный, дополнительный, материал, формула, рабочий, схема, видео, тетрадь\n",
      "\n",
      " \n",
      "Тема 6 :\n",
      "ценный, рекрутинг, всякий, переговоры, вклад, команда, член, ценить, благодарность, возможность, признателен, карьерный, возможности, предложить, совет, рекомендация, поиск, благодарить, поддержку, контактов\n",
      "\n",
      " \n",
      "Тема 7 :\n",
      "обсудить, повлиять, взять, благодарить, название, отличный, любой, управление, формировать, продолжать, фактор, попросить, благодарность, коллега, забыть, локация, дешёвый, командный, риск, перейти\n",
      "\n",
      " \n",
      "Тема 8 :\n",
      "удаленно, облачный, неделю, зайти, мозг, живой, дружный, либо, млн, отказ, рука, офис, предприниматель, чат, зп, коллектив, повод, деятельность, экономия, дорогой\n",
      "\n",
      " \n",
      "Тема 9 :\n",
      "задание, принять, лс, компания, компетенция, тестовый, анимация, резюме, сделать, опрос, заказ, проекты, написать, джуна, ребёнок, стажировка, ментор, посмотреть, презентация, вакансия\n",
      "\n",
      " \n",
      "Тема 10 :\n",
      "поток, проекты, присоединяться, предложение, искать, мира, доступный, достигнуть, разработчик, аудитория, контроль, желать, цифровизация, разработки, мастер, разговор, поведение, фраза, финансовый, связь\n",
      "\n",
      " \n",
      "Тема 11 :\n",
      "данных, специалист, направлении, организации, стать, анализ, угроза, решение, системы, расход, обеспечение, риск, ход, уходить, кандидатов, информационный, добро, защита, заметка, безопасность\n",
      "\n",
      " \n",
      "Тема 12 :\n",
      "писать, обсудить, поисковый, проектами, мобильный, бизнес, просмотреть, программирование, объяснить, пример, сайт, помимо, запустить, отчёт, сайтов, веб, приложений, оказывать, разработка, услуга\n",
      "\n",
      " \n",
      "Тема 13 :\n",
      "подборка, трек, розыгрыш, скиллов, ключ, материал, канале, эфир, файл, телеграмма, сайт, бот, студия, дизайн, полезный, проект, канал, лендинга, статья, интересный\n",
      "\n",
      " \n",
      "Тема 14 :\n",
      "учить, правильно, платформа, семья, жизнь, ответить, понимать, крупный, начинать, директор, создать, мысль, использовать, продавать, довольно, конкретный, учиться, реальный, разработчик, мир\n",
      "\n",
      " \n",
      "Тема 15 :\n",
      "дизайнера, графический, оператор, лс, ия, разработчик, команду, отрасль, нейросеть, мобильный, приложение, сообщество, дизайнер, подробность, крутой, специалист, искать, знать, людей, заинтересовать\n",
      "\n",
      " \n",
      "Тема 16 :\n",
      "поста, просмотр, добавить, отслеживать, найти, наблюдать, сайт, помнить, продакт, последний, интересоваться, менеджер, обновить, кейс, дизайн, работа, компания, начинать, удовольствие, должность\n",
      "\n",
      " \n",
      "Тема 17 :\n",
      "бизнес, помочь, нужно, каждый, резюме, курс, также, поиск, знание, писать, искать, человек, время, работать, разработка, компания, проект, команда, опыт, работа\n",
      "\n",
      " \n",
      "Тема 18 :\n",
      "айти, опытный, других, часов, реклама, товар, сайта, больший, сайт, везде, послушать, ребята, красивый, подкаст, целый, магазин, серия, отзыв, лента, эпизод\n",
      "\n",
      " \n",
      "Тема 19 :\n",
      "анализ, робот, группа, история, мнение, конференция, идея, жизни, российский, человек, кандидат, действительно, крупный, рынок, говорить, главный, встреча, вопрос, интервью, время\n",
      "\n",
      " \n",
      "Тема 20 :\n",
      "разработать, совместный, благодарный, созвон, поведения, решение, оценить, нарушение, занять, коммуникативный, поддержка, пройти, лайк, вендор, проверка, тест, получил, значок, навык, обзор\n",
      "\n",
      " \n"
     ]
    }
   ],
   "source": [
    "for i in range(n_topics):\n",
    "    c = lda.components_[i, :]\n",
    "    topic_tokens = [id2word.get(token_id) for token_id in np.argsort(c)[-20:]]\n",
    "    print(\"Тема\",i+1, \":\")\n",
    "    print(\", \".join(topic_tokens))\n",
    "    print(\"\\n \")"
   ]
  },
  {
   "cell_type": "markdown",
   "id": "e06b8ff8",
   "metadata": {},
   "source": [
    "**Типичные статьи**"
   ]
  },
  {
   "cell_type": "code",
   "execution_count": 222,
   "id": "ef4d5226",
   "metadata": {},
   "outputs": [
    {
     "name": "stdout",
     "output_type": "stream",
     "text": [
      "Тема  0\n",
      "We have developed the structure and design of the website. Then we performed adaptive layout on Tilda.A mail server has been set up to receive applications. The certificates are also watermarked for copy protection.Prohect's link https://lnkd.in/d3sMJ7cX#design #website #abinur =========================Мы разработали структуру и дизайн сайта. Затем мы выполнили адаптивную верстку на Тильде.Настроен почтовый сервер для приема заявок. Сертификаты также снабжены водяными знаками для защиты от копирования.ссылка на проект https://lnkd.in/d3sMJ7cX\n",
      "\n",
      "\n",
      "Тема  1\n",
      "New post about Security Awareness in Russia Security Awareness. Повышаем осведомленность в области ИБПоговорили с экспертами ИБ-отрасли о Security Awareness. Расспросили их об актуальных киберугрозах, о пресловутом «человеческом факторе», о росте спроса на услуги по повышению осведомленности по вопросам ИБ, об особенностях применения SA на практике.https://lnkd.in/eFr_JN2g #security #кибербезопасность #иб #SecurityAwareness #infosec #инфобез\n",
      "\n",
      "\n",
      "Тема  2\n",
      "Хэй честной народ! Ищу векторного иллюстратора на проект, с возможным длительным сотрудничеством по итогу. Можно удаленно. Уровень иллюстраций не хуже чем в примере https://lnkd.in/gkrvhxYРепост, пожалуйста)Если ты умеешь так рисовать, напиши мне в личку :-)Hey! I am looking for an Illustrator who can help us with a project! You need to have skills like in the example below or upper. Text me to discuss prices and due :-)#вакансия #vacancy #illustration #иллюстрация #project #проект\n",
      "\n",
      "\n",
      "Тема  3\n",
      "В прошлом году я поучаствовал в чемпионате Яндекса Yandex Cup в направлении бэкенд-разработки, и к моему удивлению, дошёл до финала! Который с треском провалил, но сейчас не об этом... В этом году чемпионат стартует снова, и я был бы рад встретить здесь его будущих участников, особенно в моём направлении, я всё тот же бэкенд! Квалификация начинается уже 27 сентября, не мешкайте!\n",
      "\n",
      "\n",
      "Тема  4\n",
      " Как протестировать MVP: https://lnkd.in/eE7376SgРассказываю о том, как протестировать MVP (первую версию продукта), чтобы подтвердить спрос на бизнес-идею. А также делюсь, что полезно проанализировать после теста MVP, чтобы оптимизировать дальнейшие расходы и бизнес-процессы.Дополнительные материалы (рабочая тетрадь с формулами для расчетов и полная схема из видео): https://lnkd.in/eYygVvgN\n",
      "\n",
      "\n",
      "Тема  5\n",
      "Здравствуйте, в настоящее время я нахожусь в поиске новых карьерных возможностей, горизонтов и вызовов! Заранее благодарю за оказанную Вами поддержку, которая может выражаться в форме рекомендаций контактов, советов или возможностей, которые Вы можете предложить. Если вкратце о себе, то я имею  опыт в сфере HR, который составляет более 17 лет из них 16 лет непрерывного опыта рекрутинга и хантинга. Свое резюме я готова направить в личку.#HR#it #recruiting  #HR# #opentowork\n",
      "\n",
      "\n",
      "Тема  6\n",
      "Подруга поделилась чьим-то прикольным постом о запахах кода. Там говорилось о раздувальщиках, нарушителях объектного дизайна, утяжелителях изменений и прочего подобного. Мне такая классификация показалась слегка запутанной, поэтому я вывел свою. Ставьте лайк, если жиза! Какой запах вы могли бы добавить?#юмор #разработка #IT #код #bestpractices #codesmell\n",
      "\n",
      "\n",
      "Тема  7\n",
      "Наше открытое менторство зашло на ура, а потому мы продолжаем  Приходите завтра, приносите свои боли в роли аналитика и тимлида, мы с Пашей будем разбирать их в прямом эфире!\n",
      "\n",
      "\n",
      "Тема  8\n",
      "Redesign presentation of Yandex company and I demonstrated how to improve the visual side of the presentation. The animation was done entirely in Power Point.You can see the detailed process in the https://lnkd.in/d9NttCHaWould you like to place an order? You can write to Linkedin or Whatsapp https://wa.me/+77058042545#presentation #infographics #3d #abinur #googleslides #powerpoint #yandex Yandex==========================Редизайн презентации компании Яндекс и я продемонстрировал как улучшить визуальную сторону презентации. Анимация полностью сделана в Power Point.Подробный процесс вы можете посмотреть на странице https://lnkd.in/d9NttCHa.вы хотели бы сделать заказ? Вы можете написать в Facebook или Whatsapp https://wa.me/+77058042545\n",
      "\n",
      "\n",
      "Тема  9\n",
      "Мало кто знает, но прародитель RPA появился очень давно. Недавно в разговоре с одним старым знакомым вспомнили детство и Windows 3.1. А там была такая программа - Recorder, которая по сути делала все то, что сегодня делают RPA-платформы. Казалось бы, десятилетия прошли, а демка с блокнотом остается актуальной. https://lnkd.in/en8ggp_R#windows31 #windows #recorder #windowsrecorder #rpa\n",
      "\n",
      "\n",
      "Тема  10\n",
      "Если вы хотели в тестирование безопасности, но не знали как - вот она, возможность. Требование к кандидату одно - опыт интеграционного тестирования, остальному научим https://lnkd.in/eakZcseY #вакансия #тестированиебезопасности #софтмашина\n",
      "\n",
      "\n",
      "Тема  11\n",
      "#nodejs #вакансия Ищем Nodejs разработчиков. ЗП до 3200usd netto, работа в зарубежных проектах, сильная команда. За деталями пишите в ЛС или в телеграмм @mxm_atБуду очень признателен за репост/рекомендацию\n",
      "\n",
      "\n",
      "Тема  12\n",
      "Шаблоны шапки профиля от сервиса Эйч !Очень крутые шаблоны, которые помогут грамотно оформит папку профиля Вот ссылка на шаблоны - https://lnkd.in/gfWgJMqP Скорее переходи в мой телеграмм канал - https://lnkd.in/dF6vEVJXТам куча полезногоВ канале: - Design Help, файл 40+ материалов для повышения ваших скиллов- Розыгрыш консультаций по карьерному треку и разбору портфолио - Прямые эфиры с дизайном - Полезные статьи  А вот тут мой инстаграм (https://lnkd.in/d6UTFJhG) там я собираюсь рассказывать про дизайн и про свою жизнь#design #linkedin #instagram #help #design #webdesign #webdevelopment #graphicdesign #UIUX #digitaldesign #responsivewebdesign #HTML #CSS #JavaScript #webdesigner #webdesignagency #webdesigncompany #webdesignerlife #webdesigncommunity #webdesigninspiration\n",
      "\n",
      "\n",
      "Тема  13\n",
      "Всем привет. Ищем в команду Talent Acquisition ManagerYou have:- Good knowledge of the local IT market and different recruitment tools/approaches.- Experience in the full recruitment life cycle.- Good analytical skills.- Excellent verbal and written communication skills.- Creative approach to sourcing.- Excellent knowledge of active search tools.- Ability to evaluate candidate's soft skills, motivation, values; compare with the company; communicate with the candidate based on found \"contact points\".- Proactive approach and flexibility.- Team player mindset with the ability to plan and deliver independently.We want you to help us with:- full recruitment life cycle - bring into our team our people;- development of talent acquisition strategy - analyze/plan/deliver talent acquisition based on the company strategy;- building/improving recruitment processes - help us to continuously improve our processes;You may also want to be involved in:- building/improving HR processes;- Employer Brand Development;- Identifying and improving Company Culture strategy;Your benefits from being part of our team:- Unique compensation system - 3 levels of payments based on the company's length of the candidate's life cycle.- Full remote work.- Personal Development Plan;- Ability to grow into suitable for you vector in HR department;- Full support and help from us in the professional and personal areas (if required).IMPORTANT:Things like \"Company-paid English classes / Professional, friendly, and supportive team / Social benefits, such as vacation, flexible/casual leaves (up to 10 working days per year), paid sick leaves / Flexible working hours\" and other standard Blah Blah blah - INCLUDED.Оставьте Комментарий и мы напишем более подробно или переходите по ссылке- https://lnkd.in/e-GDnue Репост и лайк приветсвуется, спасибо за помощь!#Lookingfor #recruitment #hr #remotework #talentstrategy #talentacquistion  We’re #hiring. Know anyone who might be interested?\n",
      "\n",
      "\n",
      "Тема  14\n",
      "Кому классного UI/UX дизайнера с классическим художественным образованием и огромным опытом в графическом дизайне? Мария Галко - моя коллега ищет новые возможности. Портфолио тут https://lnkd.in/etBihjcc #ux #ui #design #openforwork\n",
      "\n",
      "\n",
      "Тема  15\n",
      "Привет, если вы ищете продуктового дизайнера (UX&UI дизайнера) в Санкт-Петербурге — без лишних слов:   bit.ly/theArsen - интерактивное портфолио Figma • Sketch • InVision • Adobe Illustrator/AfterEffects и т.д. • и даже Blender UX & UI, прототипирование, навыки иллюстрации, и даже моушн дизайн.  Буду благодарен, если вы порекомендуете кому-то мою кандидатуру или как-то ещё поможете. Если у вас есть очень клёвая вакансия не из Санкт-Петербурга, но вы уверены, что я для нее подхожу, — я открыт к предложениям..............................................................................En:  Hi, if you are looking for a product designer (UX&UI Designer) in the St.Petersburg - without further ado:  bit.ly/theArsen - interactive portfolio (sorry, so far only in Russian) Figma • Sketch • InVision • Adobe Illustrator / AfterEffects etc. • and even Blender  UX & UI, prototyping, illustration skills, and even motion design.  I would be grateful if you recommend my candidacy to someone or help in some other way. If you have a very cool vacancy not from St.Petersburg, but you are sure that I am suitable for it, I am open to proposals.#OpenToWork #UI #UX #design #productdesigner\n",
      "\n",
      "\n",
      "Тема  16\n",
      "#вакансиятестировщик #qaинженер Ищем тестировщика на проекты с опытом тестирования мобильных приложений. Что нужно: 1. Проводить ручные тесты в конце каждого этапа разработки. Около 4 - 8 часов в неделю  2. Проводить финальное тестирование перед публикацией приложения. 1-2 дня.3. Подстраиваться под график спринтов команды (проекты обычно на 1-2 месяца длительностью) 4. Делать короткие созвоны с разрабами, если не понятна природа бага 5. Самостоятельно готовить тестовую документацию (тест-планы, чек-листы, тест-кейсы, ошибки) и выбирать методику тестирования 6. Работать с ТЗ и фигмой 7. Обязательно разобраться с Atlassian Jira.По личным качествам. Ценим проактивность: - кто вносит вклад в достижение целей компании, видя в этом личный интерес- не ждет указаний, а сам проявляет инициативу, предлагает решения, обращать внимание коллег на риски/ ошибки, формулирует свои задачи / метрики - самосовершенствуется, чтобы показывать лучшие результаты - берет ответственность за себя и свою работу - ошибки превращает в опытИ по природе своей вы должны быть внимательным к деталям.  Оплачиваем работу по факту сдачи спринта в рублях или криптовалюте. График и стоимость работ обсуждаем заранее.  Для назначения собеседования пишите напрямую: Данил CTO (https://t.me/danilkoding)\n",
      "\n",
      "\n",
      "Тема  17\n",
      "Решил запустить хардкорную менторскую программу Product Army .Пока что 3 из 4 мест заполнены, цена дорогая, не набираю много людей, тк это впервые и очень хочу сфокусированно работать с только 4 амбициозными профессионалами..Это наша новая программа по Product Mentorship отлично подойдет как для новых специалистов, так и опытных профессионалов, которые развивают IT-продукты Старт: 20 мая⌛ Длительность: 10 недель Формат: 1-1 сессии, для Junior+ позиции или SwitchersЕсли есть заинтересованные, можете писать в лс, необязательно покупать, можно просто узнать \n",
      "\n",
      "\n",
      "Тема  18\n",
      "Количество зарубежных ритейлеров в ТЦ Москвы с конца 2021 года сократилось почти в 2 раза. Об этом говорит исследование РБК по данным компании Nikoliers.В марте 2023 г. доля зарубежных брендов в московских ТЦ составила 35,9%. Наблюдается активный вход на рынок новых отечественных и иностранных брендов. Например: Vilhelm Parfumerie, Li Ning, Coffee Boom, Perspective, Efor, Ipekyol, Twist, Alex YVN, Ruck&Maul, L&L Skin, Beymen Club, Loft, Madame Coco, NetWork, AC&Co.Подробнее с результатами исследования можно ознакомиться по ссылке: https://lnkd.in/dccEEgh9#retail #ecommerce\n",
      "\n",
      "\n",
      "Тема  19\n",
      "Приглашаем универсальных  Sales managers в креативную команду. Киев, Харьков.Создание новых start-up проектов, мозговых штурмов и уникальных решений,  проведение переговоров и презентаций. Открой свою дверь IT индустрию!  https://lnkd.in/gPEjYiN\n",
      "\n",
      "\n"
     ]
    }
   ],
   "source": [
    "for i in range(n_topics):\n",
    "    doc_id = np.argmax(topics[:, i])\n",
    "    print(\"Тема \", i)\n",
    "    print(df.iloc[doc_id][\"post\"])\n",
    "    print(\"\\n\")"
   ]
  },
  {
   "cell_type": "code",
   "execution_count": null,
   "id": "77ad6adb",
   "metadata": {},
   "outputs": [],
   "source": []
  },
  {
   "cell_type": "code",
   "execution_count": null,
   "id": "df4649cb",
   "metadata": {},
   "outputs": [],
   "source": []
  },
  {
   "cell_type": "code",
   "execution_count": null,
   "id": "48430173",
   "metadata": {},
   "outputs": [],
   "source": []
  },
  {
   "cell_type": "code",
   "execution_count": null,
   "id": "3d684aa8",
   "metadata": {},
   "outputs": [],
   "source": []
  },
  {
   "cell_type": "code",
   "execution_count": null,
   "id": "17da71a7",
   "metadata": {},
   "outputs": [],
   "source": []
  },
  {
   "cell_type": "code",
   "execution_count": null,
   "id": "d12f64da",
   "metadata": {},
   "outputs": [],
   "source": []
  }
 ],
 "metadata": {
  "kernelspec": {
   "display_name": "Python 3 (ipykernel)",
   "language": "python",
   "name": "python3"
  },
  "language_info": {
   "codemirror_mode": {
    "name": "ipython",
    "version": 3
   },
   "file_extension": ".py",
   "mimetype": "text/x-python",
   "name": "python",
   "nbconvert_exporter": "python",
   "pygments_lexer": "ipython3",
   "version": "3.10.9"
  },
  "toc": {
   "base_numbering": 1,
   "nav_menu": {},
   "number_sections": true,
   "sideBar": true,
   "skip_h1_title": false,
   "title_cell": "Table of Contents",
   "title_sidebar": "Contents",
   "toc_cell": false,
   "toc_position": {
    "height": "calc(100% - 180px)",
    "left": "10px",
    "top": "150px",
    "width": "374.391px"
   },
   "toc_section_display": true,
   "toc_window_display": false
  },
  "varInspector": {
   "cols": {
    "lenName": 16,
    "lenType": 16,
    "lenVar": 40
   },
   "kernels_config": {
    "python": {
     "delete_cmd_postfix": "",
     "delete_cmd_prefix": "del ",
     "library": "var_list.py",
     "varRefreshCmd": "print(var_dic_list())"
    },
    "r": {
     "delete_cmd_postfix": ") ",
     "delete_cmd_prefix": "rm(",
     "library": "var_list.r",
     "varRefreshCmd": "cat(var_dic_list()) "
    }
   },
   "types_to_exclude": [
    "module",
    "function",
    "builtin_function_or_method",
    "instance",
    "_Feature"
   ],
   "window_display": false
  }
 },
 "nbformat": 4,
 "nbformat_minor": 5
}
