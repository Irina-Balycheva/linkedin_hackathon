{
 "cells": [
  {
   "cell_type": "code",
   "execution_count": 1,
   "id": "3998aa68",
   "metadata": {},
   "outputs": [],
   "source": [
    "# pip install pymorphy2 >> None"
   ]
  },
  {
   "cell_type": "code",
   "execution_count": 129,
   "id": "72e004e1",
   "metadata": {},
   "outputs": [],
   "source": [
    "import pandas as pd\n",
    "import numpy as np\n",
    "import os\n",
    "import re\n",
    "import pymorphy2\n",
    "import nltk\n",
    "from nltk.corpus import stopwords\n",
    "import matplotlib.pyplot as plt\n",
    "from sklearn.decomposition import LatentDirichletAllocation\n",
    "from sklearn.feature_extraction.text import TfidfVectorizer\n",
    "from nltk.corpus import stopwords\n",
    "pd.set_option('display.max_rows', None)\n",
    "pd.set_option('display.max_columns', None)\n",
    "pd.set_option('display.max_colwidth', None)"
   ]
  },
  {
   "cell_type": "code",
   "execution_count": 3,
   "id": "28aabe56",
   "metadata": {},
   "outputs": [],
   "source": [
    "# задаем директорию\n",
    "file_path = 'C:/Users/user/Desktop/Hackathons/LinkedIn_menthoring/'"
   ]
  },
  {
   "cell_type": "code",
   "execution_count": 85,
   "id": "4288a377",
   "metadata": {},
   "outputs": [],
   "source": [
    "# открываем файлы с данными\n",
    "posts = pd.read_csv(os.path.join(file_path, 'posts.csv'), index_col=0)\n",
    "profiles = pd.read_csv(os.path.join(file_path, 'profiles.csv'), index_col=0)"
   ]
  },
  {
   "cell_type": "code",
   "execution_count": 86,
   "id": "b44e2892",
   "metadata": {},
   "outputs": [
    {
     "data": {
      "text/html": [
       "<div>\n",
       "<style scoped>\n",
       "    .dataframe tbody tr th:only-of-type {\n",
       "        vertical-align: middle;\n",
       "    }\n",
       "\n",
       "    .dataframe tbody tr th {\n",
       "        vertical-align: top;\n",
       "    }\n",
       "\n",
       "    .dataframe thead th {\n",
       "        text-align: right;\n",
       "    }\n",
       "</style>\n",
       "<table border=\"1\" class=\"dataframe\">\n",
       "  <thead>\n",
       "    <tr style=\"text-align: right;\">\n",
       "      <th></th>\n",
       "      <th>user_id</th>\n",
       "      <th>text</th>\n",
       "      <th>likes</th>\n",
       "      <th>comments</th>\n",
       "      <th>reposts</th>\n",
       "    </tr>\n",
       "  </thead>\n",
       "  <tbody>\n",
       "    <tr>\n",
       "      <th>0</th>\n",
       "      <td>ali-wodan</td>\n",
       "      <td>Кстати говоря. Теперь подкаст Миражи доступен в соцсети Вконтакте: https://lnkd.in/gKkrJX9Я наконец разобрался как туда прикрутить RSS :-) #podcast #миражи</td>\n",
       "      <td>1</td>\n",
       "      <td>0</td>\n",
       "      <td>0</td>\n",
       "    </tr>\n",
       "    <tr>\n",
       "      <th>1</th>\n",
       "      <td>ali-wodan</td>\n",
       "      <td>I’m #hiring. Know anyone who might be interested?</td>\n",
       "      <td>1</td>\n",
       "      <td>0</td>\n",
       "      <td>0</td>\n",
       "    </tr>\n",
       "  </tbody>\n",
       "</table>\n",
       "</div>"
      ],
      "text/plain": [
       "     user_id  \\\n",
       "0  ali-wodan   \n",
       "1  ali-wodan   \n",
       "\n",
       "                                                                                                                                                          text  \\\n",
       "0  Кстати говоря. Теперь подкаст Миражи доступен в соцсети Вконтакте: https://lnkd.in/gKkrJX9Я наконец разобрался как туда прикрутить RSS :-) #podcast #миражи   \n",
       "1                                                                                                            I’m #hiring. Know anyone who might be interested?   \n",
       "\n",
       "  likes  comments  reposts  \n",
       "0     1         0        0  \n",
       "1     1         0        0  "
      ]
     },
     "execution_count": 86,
     "metadata": {},
     "output_type": "execute_result"
    }
   ],
   "source": [
    "# открываем датафрейм с постами\n",
    "posts.head(2)"
   ]
  },
  {
   "cell_type": "code",
   "execution_count": 87,
   "id": "c6d0477d",
   "metadata": {
    "scrolled": true
   },
   "outputs": [
    {
     "data": {
      "text/html": [
       "<div>\n",
       "<style scoped>\n",
       "    .dataframe tbody tr th:only-of-type {\n",
       "        vertical-align: middle;\n",
       "    }\n",
       "\n",
       "    .dataframe tbody tr th {\n",
       "        vertical-align: top;\n",
       "    }\n",
       "\n",
       "    .dataframe thead th {\n",
       "        text-align: right;\n",
       "    }\n",
       "</style>\n",
       "<table border=\"1\" class=\"dataframe\">\n",
       "  <thead>\n",
       "    <tr style=\"text-align: right;\">\n",
       "      <th></th>\n",
       "      <th>id</th>\n",
       "      <th>user_name</th>\n",
       "      <th>user_head</th>\n",
       "      <th>user_work</th>\n",
       "      <th>user_position</th>\n",
       "      <th>user_tags</th>\n",
       "      <th>user_location</th>\n",
       "      <th>user_viewers</th>\n",
       "      <th>user_contacts</th>\n",
       "      <th>user_common_info</th>\n",
       "    </tr>\n",
       "  </thead>\n",
       "  <tbody>\n",
       "    <tr>\n",
       "      <th>0</th>\n",
       "      <td>ali-wodan</td>\n",
       "      <td>Ali Wodan</td>\n",
       "      <td>Head of Design</td>\n",
       "      <td>Performix</td>\n",
       "      <td>Head Of Design</td>\n",
       "      <td>podcast, it</td>\n",
       "      <td>Москва, Московская область, Россия</td>\n",
       "      <td>2 391</td>\n",
       "      <td>500+</td>\n",
       "      <td>I am a digital product design lead. I've been designing digital systems for years. Teams creating, management, design process building, user research, analytics etc. it's all that i like to do. Also I am into psychology, music, philosophy.</td>\n",
       "    </tr>\n",
       "    <tr>\n",
       "      <th>1</th>\n",
       "      <td>ikotow</td>\n",
       "      <td>Игорь Котов</td>\n",
       "      <td>Директор по производству – Технократия</td>\n",
       "      <td>Технократия</td>\n",
       "      <td>Технократия</td>\n",
       "      <td>it, обучение, менеджмент, технологии, производство</td>\n",
       "      <td>Казань, Республика Татарстан, Россия</td>\n",
       "      <td>340</td>\n",
       "      <td>338</td>\n",
       "      <td>Making IT production great again! Создатель сервиса для управления ресурсами: Resourcer.appМой telegram-канал: https://t.me/pastikotow</td>\n",
       "    </tr>\n",
       "  </tbody>\n",
       "</table>\n",
       "</div>"
      ],
      "text/plain": [
       "          id    user_name                               user_head  \\\n",
       "0  ali-wodan    Ali Wodan                          Head of Design   \n",
       "1     ikotow  Игорь Котов  Директор по производству – Технократия   \n",
       "\n",
       "     user_work   user_position  \\\n",
       "0    Performix  Head Of Design   \n",
       "1  Технократия     Технократия   \n",
       "\n",
       "                                            user_tags  \\\n",
       "0                                         podcast, it   \n",
       "1  it, обучение, менеджмент, технологии, производство   \n",
       "\n",
       "                          user_location user_viewers user_contacts  \\\n",
       "0    Москва, Московская область, Россия        2 391          500+   \n",
       "1  Казань, Республика Татарстан, Россия          340           338   \n",
       "\n",
       "                                                                                                                                                                                                                                  user_common_info  \n",
       "0  I am a digital product design lead. I've been designing digital systems for years. Teams creating, management, design process building, user research, analytics etc. it's all that i like to do. Also I am into psychology, music, philosophy.  \n",
       "1                                                                                                           Making IT production great again! Создатель сервиса для управления ресурсами: Resourcer.appМой telegram-канал: https://t.me/pastikotow  "
      ]
     },
     "execution_count": 87,
     "metadata": {},
     "output_type": "execute_result"
    }
   ],
   "source": [
    "# открываем датафрейм с информацией о пользователях\n",
    "profiles.head(2)"
   ]
  },
  {
   "cell_type": "code",
   "execution_count": 88,
   "id": "335ccc00",
   "metadata": {},
   "outputs": [],
   "source": [
    "# переименуем столбец text в post для лучшего отражения содержимого\n",
    "posts = posts.rename(columns={'text': 'post'})"
   ]
  },
  {
   "cell_type": "markdown",
   "id": "8795f831",
   "metadata": {},
   "source": [
    "**Предобработка данных**"
   ]
  },
  {
   "cell_type": "code",
   "execution_count": 89,
   "id": "b733189b",
   "metadata": {},
   "outputs": [],
   "source": [
    "# функция удаления эмодзи\n",
    "def remove_emojis(text):\n",
    "    emoji_pattern = re.compile(\"[\"\n",
    "                               u\"\\U0001F600-\\U0001F64F\"  # смайлики\n",
    "                               u\"\\U0001F300-\\U0001F5FF\"  # символы и пиктограммы\n",
    "                               u\"\\U0001F680-\\U0001F6FF\"  # транспорт и символы на карте\n",
    "                               u\"\\U0001F1E0-\\U0001F1FF\"  # флаги\n",
    "                               u\"\\U00002500-\\U00002BEF\"  # китайские символы\n",
    "                               # другие разные символы\n",
    "                               u\"\\U00002702-\\U000027B0\"\n",
    "                               u\"\\U00002702-\\U000027B0\"\n",
    "                               u\"\\U000024C2-\\U0001F251\"\n",
    "                               u\"\\U0001f926-\\U0001f937\"\n",
    "                               u\"\\U00010000-\\U0010ffff\"\n",
    "                               u\"\\u2640-\\u2642\" \n",
    "                               u\"\\u2600-\\u2B55\"\n",
    "                               u\"\\u200d\"\n",
    "                               u\"\\u23cf\"\n",
    "                               u\"\\u23e9\"\n",
    "                               u\"\\u231a\"\n",
    "                               u\"\\ufe0f\"  \n",
    "                               u\"\\u3030\"\n",
    "                               \"]+\", flags=re.UNICODE)\n",
    "    # Удаляем эмодзи, используя паттерны\n",
    "    text_without_emojis = emoji_pattern.sub(r'', text)\n",
    "    return text_without_emojis\n",
    "\n",
    "# удаляем эмодзи из постов\n",
    "posts['post'] = posts['post'].apply(lambda x: remove_emojis(x) if pd.notnull(x) else x)"
   ]
  },
  {
   "cell_type": "code",
   "execution_count": 90,
   "id": "8a349268",
   "metadata": {},
   "outputs": [],
   "source": [
    "# удалим посты на украинском языке\n",
    "\n",
    "# определяем шаблон для украинских символов (по специфичным для данного языка символам)\n",
    "ukrainian_pattern = r'[ЄєІіЇїҐґ]'\n",
    "\n",
    "# создаем маску, указывающую строки, в которых столбец \"post\" содержит текст на украинском языке\n",
    "mask = posts['post'].str.contains(ukrainian_pattern, regex=True, na=False)\n",
    "\n",
    "# сохраняем в датафрейме только строки, в которых маска имеет значение False\n",
    "posts = posts[~mask]"
   ]
  },
  {
   "cell_type": "code",
   "execution_count": 92,
   "id": "40159009",
   "metadata": {},
   "outputs": [],
   "source": [
    "# сохраняем хэштэги в отдельный столбец перед их удалением из постов\n",
    "posts['hashtags'] = posts['post'].str.findall(r'#([^\\s]+)').apply(lambda x: ', '.join(x))"
   ]
  },
  {
   "cell_type": "code",
   "execution_count": 93,
   "id": "ce2c5ba3",
   "metadata": {},
   "outputs": [],
   "source": [
    "# функция лемматизации текста\n",
    "morph = pymorphy2.MorphAnalyzer()\n",
    "def lemmatize_text(text):\n",
    "    lemmatized_words = [morph.parse(word)[0].normal_form for word in text.split()]\n",
    "    return ' '.join(lemmatized_words)\n",
    "\n",
    "# лемматизируем посты\n",
    "posts['post_lemmatized'] = posts['post'].apply(lemmatize_text)"
   ]
  },
  {
   "cell_type": "code",
   "execution_count": 94,
   "id": "a062cfed",
   "metadata": {},
   "outputs": [],
   "source": [
    "# удаляем слова, которые идут после хэш-тэга\n",
    "posts['post_lemmatized'] = posts['post_lemmatized'].apply(lambda x: re.sub(r'#[^\\s]+', ' ', x))"
   ]
  },
  {
   "cell_type": "code",
   "execution_count": 95,
   "id": "b807d2ec",
   "metadata": {},
   "outputs": [],
   "source": [
    "# производим замену дефиса на пробел\n",
    "posts[\"post_lemmatized\"] = posts[\"post_lemmatized\"].str.replace(\"-\", \" \")"
   ]
  },
  {
   "cell_type": "code",
   "execution_count": 96,
   "id": "594cade3",
   "metadata": {},
   "outputs": [],
   "source": [
    "# удаляем лишние текстовые символы (те, которые не состоят из букв русского алфавита)\n",
    "# только русские буквы и пробелы\n",
    "posts['post_lemmatized'] = posts['post_lemmatized'].str.replace('[^а-яА-ЯёЁ\\s]', ' ', regex=True) "
   ]
  },
  {
   "cell_type": "code",
   "execution_count": 97,
   "id": "c6980981",
   "metadata": {},
   "outputs": [
    {
     "name": "stderr",
     "output_type": "stream",
     "text": [
      "[nltk_data] Downloading package stopwords to\n",
      "[nltk_data]     C:\\Users\\user\\AppData\\Roaming\\nltk_data...\n",
      "[nltk_data]   Package stopwords is already up-to-date!\n"
     ]
    }
   ],
   "source": [
    "# скачиваем стоп-слова \n",
    "nltk.download('stopwords')\n",
    "stop_words = set(stopwords.words('russian'))\n",
    "\n",
    "# еще один список от bukvarix.com - список стоп-слов Яндекс Wordstat - (этот список можно дополнить/изменить)\n",
    "file_path_words = os.path.join(file_path, 'stop_words.txt')\n",
    "with open(file_path_words, 'r', encoding='utf-8') as file:\n",
    "    stop_words_buk = file.read()"
   ]
  },
  {
   "cell_type": "code",
   "execution_count": 98,
   "id": "4a6eb273",
   "metadata": {},
   "outputs": [],
   "source": [
    "# удаляем стоп-слова и слова-паразиты\n",
    "posts['post_lemmatized'] = posts['post_lemmatized'].apply(lambda x: ' '.join([word for word in x.split() if word not in stop_words]))\n",
    "posts['post_lemmatized'] = posts['post_lemmatized'].apply(lambda x: ' '.join([word for word in x.split() if word.lower() not in stop_words_buk]))"
   ]
  },
  {
   "cell_type": "code",
   "execution_count": 99,
   "id": "d326e369",
   "metadata": {},
   "outputs": [],
   "source": [
    "'''если НЕ оставляем в постах английские слова'''\n",
    "# определяем шаблон регулярного выражения для русских букв\n",
    "pattern = '[^а-яА-ЯёЁ]'\n",
    "# создаем маску, чтобы проверить, содержит ли каждая ячейка русские буквы\n",
    "mask = posts['post_lemmatized'].str.contains(pattern, regex=True)\n",
    "# фильтруем датафрейм, используя маску\n",
    "posts = posts[mask]"
   ]
  },
  {
   "cell_type": "code",
   "execution_count": 100,
   "id": "839fa6a6",
   "metadata": {},
   "outputs": [
    {
     "data": {
      "text/html": [
       "<div>\n",
       "<style scoped>\n",
       "    .dataframe tbody tr th:only-of-type {\n",
       "        vertical-align: middle;\n",
       "    }\n",
       "\n",
       "    .dataframe tbody tr th {\n",
       "        vertical-align: top;\n",
       "    }\n",
       "\n",
       "    .dataframe thead th {\n",
       "        text-align: right;\n",
       "    }\n",
       "</style>\n",
       "<table border=\"1\" class=\"dataframe\">\n",
       "  <thead>\n",
       "    <tr style=\"text-align: right;\">\n",
       "      <th></th>\n",
       "      <th>user_id</th>\n",
       "      <th>post</th>\n",
       "      <th>likes</th>\n",
       "      <th>comments</th>\n",
       "      <th>reposts</th>\n",
       "      <th>hashtags</th>\n",
       "      <th>post_lemmatized</th>\n",
       "    </tr>\n",
       "  </thead>\n",
       "  <tbody>\n",
       "    <tr>\n",
       "      <th>0</th>\n",
       "      <td>ali-wodan</td>\n",
       "      <td>Кстати говоря. Теперь подкаст Миражи доступен в соцсети Вконтакте: https://lnkd.in/gKkrJX9Я наконец разобрался как туда прикрутить RSS :-) #podcast #миражи</td>\n",
       "      <td>1</td>\n",
       "      <td>0</td>\n",
       "      <td>0</td>\n",
       "      <td>podcast, миражи</td>\n",
       "      <td>говоря подкаст мираж доступный соцсеть вконтакте разобраться туда прикрутить</td>\n",
       "    </tr>\n",
       "    <tr>\n",
       "      <th>2</th>\n",
       "      <td>ali-wodan</td>\n",
       "      <td>Хэй честной народ! Ищу векторного иллюстратора на проект, с возможным длительным сотрудничеством по итогу. Можно удаленно. Уровень иллюстраций не хуже чем в примере https://lnkd.in/gkrvhxYРепост, пожалуйста)Если ты умеешь так рисовать, напиши мне в личку :-)Hey! I am looking for an Illustrator who can help us with a project! You need to have skills like in the example below or upper. Text me to discuss prices and due :-)#вакансия #vacancy #illustration #иллюстрация #project #проект</td>\n",
       "      <td>6</td>\n",
       "      <td>0</td>\n",
       "      <td>0</td>\n",
       "      <td>вакансия, vacancy, illustration, иллюстрация, project, проект</td>\n",
       "      <td>честной народ искать векторный иллюстратор проект возможный длительный сотрудничество итогу удаленно уровень иллюстрация плохой пример репост пожалуйста ести уметь рисовать написать личка</td>\n",
       "    </tr>\n",
       "    <tr>\n",
       "      <th>3</th>\n",
       "      <td>ali-wodan</td>\n",
       "      <td>Новый пост подкаста \"Миражи\" на всех платформах:В аудио: https://lnkd.in/giWuSVNВ инстаграме: https://lnkd.in/gbV6yxKН #automotive # # #cars #а патреоне: https://lnkd.in/gfShqTU#саморазвитие #психология #психологиячеловека #психологияжизни #психологияличности #личностныйрост #подкаст #подкастмиражи #маркетинг #осознанность #мысли #мысливслух #установки #влияние #подсознаниеИспользованные звуки, музыка и картинки:Аудиоцитата из фильма \"Формула любви\" Марка ЗахароваJardins du Luxembourg by Jahzzar is licensed under a Attribution-ShareAlike 3.0 International License.prisoner by Luis Prado from the Noun Project</td>\n",
       "      <td>1</td>\n",
       "      <td>0</td>\n",
       "      <td>0</td>\n",
       "      <td>automotive, cars, а, саморазвитие, психология, психологиячеловека, психологияжизни, психологияличности, личностныйрост, подкаст, подкастмиражи, маркетинг, осознанность, мысли, мысливслух, установки, влияние, подсознаниеИспользованные</td>\n",
       "      <td>новый пост подкаст миражи платформах аудио инстаграме патреоне звуки музыка картинки аудиоцитат фильм формула любви марк захарова</td>\n",
       "    </tr>\n",
       "    <tr>\n",
       "      <th>4</th>\n",
       "      <td>ali-wodan</td>\n",
       "      <td>Подкаст Миражи, Эпизод 13Ошибка невозвратных затратpodcast.ru/1539345144#подкаст #podcast #it #podcasts #psychology #психология #miragespodcast</td>\n",
       "      <td>2</td>\n",
       "      <td>0</td>\n",
       "      <td>0</td>\n",
       "      <td>подкаст, podcast, it, podcasts, psychology, психология, miragespodcast</td>\n",
       "      <td>подкаст миражи эпизод ошибка невозвратный затрат</td>\n",
       "    </tr>\n",
       "    <tr>\n",
       "      <th>5</th>\n",
       "      <td>ali-wodan</td>\n",
       "      <td>Новый эпизод об эффекте ИКЕА на всех платформах podcast.ru/1539345144</td>\n",
       "      <td>1</td>\n",
       "      <td>0</td>\n",
       "      <td>0</td>\n",
       "      <td></td>\n",
       "      <td>новый эпизод эффект икеа платформа</td>\n",
       "    </tr>\n",
       "  </tbody>\n",
       "</table>\n",
       "</div>"
      ],
      "text/plain": [
       "     user_id  \\\n",
       "0  ali-wodan   \n",
       "2  ali-wodan   \n",
       "3  ali-wodan   \n",
       "4  ali-wodan   \n",
       "5  ali-wodan   \n",
       "\n",
       "                                                                                                                                                                                                                                                                                                                                                                                                                                                                                                                                                                                                                                     post  \\\n",
       "0                                                                                                                                                                                                                                                                                                                                                                                                                                                                             Кстати говоря. Теперь подкаст Миражи доступен в соцсети Вконтакте: https://lnkd.in/gKkrJX9Я наконец разобрался как туда прикрутить RSS :-) #podcast #миражи   \n",
       "2                                                                                                                                  Хэй честной народ! Ищу векторного иллюстратора на проект, с возможным длительным сотрудничеством по итогу. Можно удаленно. Уровень иллюстраций не хуже чем в примере https://lnkd.in/gkrvhxYРепост, пожалуйста)Если ты умеешь так рисовать, напиши мне в личку :-)Hey! I am looking for an Illustrator who can help us with a project! You need to have skills like in the example below or upper. Text me to discuss prices and due :-)#вакансия #vacancy #illustration #иллюстрация #project #проект   \n",
       "3  Новый пост подкаста \"Миражи\" на всех платформах:В аудио: https://lnkd.in/giWuSVNВ инстаграме: https://lnkd.in/gbV6yxKН #automotive # # #cars #а патреоне: https://lnkd.in/gfShqTU#саморазвитие #психология #психологиячеловека #психологияжизни #психологияличности #личностныйрост #подкаст #подкастмиражи #маркетинг #осознанность #мысли #мысливслух #установки #влияние #подсознаниеИспользованные звуки, музыка и картинки:Аудиоцитата из фильма \"Формула любви\" Марка ЗахароваJardins du Luxembourg by Jahzzar is licensed under a Attribution-ShareAlike 3.0 International License.prisoner by Luis Prado from the Noun Project   \n",
       "4                                                                                                                                                                                                                                                                                                                                                                                                                                                                                         Подкаст Миражи, Эпизод 13Ошибка невозвратных затратpodcast.ru/1539345144#подкаст #podcast #it #podcasts #psychology #психология #miragespodcast   \n",
       "5                                                                                                                                                                                                                                                                                                                                                                                                                                                                                                                                                                   Новый эпизод об эффекте ИКЕА на всех платформах podcast.ru/1539345144   \n",
       "\n",
       "  likes  comments  reposts  \\\n",
       "0     1         0        0   \n",
       "2     6         0        0   \n",
       "3     1         0        0   \n",
       "4     2         0        0   \n",
       "5     1         0        0   \n",
       "\n",
       "                                                                                                                                                                                                                                    hashtags  \\\n",
       "0                                                                                                                                                                                                                            podcast, миражи   \n",
       "2                                                                                                                                                                              вакансия, vacancy, illustration, иллюстрация, project, проект   \n",
       "3  automotive, cars, а, саморазвитие, психология, психологиячеловека, психологияжизни, психологияличности, личностныйрост, подкаст, подкастмиражи, маркетинг, осознанность, мысли, мысливслух, установки, влияние, подсознаниеИспользованные   \n",
       "4                                                                                                                                                                     подкаст, podcast, it, podcasts, psychology, психология, miragespodcast   \n",
       "5                                                                                                                                                                                                                                              \n",
       "\n",
       "                                                                                                                                                                               post_lemmatized  \n",
       "0                                                                                                                 говоря подкаст мираж доступный соцсеть вконтакте разобраться туда прикрутить  \n",
       "2  честной народ искать векторный иллюстратор проект возможный длительный сотрудничество итогу удаленно уровень иллюстрация плохой пример репост пожалуйста ести уметь рисовать написать личка  \n",
       "3                                                            новый пост подкаст миражи платформах аудио инстаграме патреоне звуки музыка картинки аудиоцитат фильм формула любви марк захарова  \n",
       "4                                                                                                                                             подкаст миражи эпизод ошибка невозвратный затрат  \n",
       "5                                                                                                                                                           новый эпизод эффект икеа платформа  "
      ]
     },
     "execution_count": 100,
     "metadata": {},
     "output_type": "execute_result"
    }
   ],
   "source": [
    "posts.head()"
   ]
  },
  {
   "cell_type": "code",
   "execution_count": 101,
   "id": "06697bb2",
   "metadata": {
    "scrolled": true
   },
   "outputs": [
    {
     "name": "stdout",
     "output_type": "stream",
     "text": [
      "<class 'pandas.core.frame.DataFrame'>\n",
      "Int64Index: 2119 entries, 0 to 8597\n",
      "Data columns (total 7 columns):\n",
      " #   Column           Non-Null Count  Dtype \n",
      "---  ------           --------------  ----- \n",
      " 0   user_id          2119 non-null   object\n",
      " 1   post             2119 non-null   object\n",
      " 2   likes            2119 non-null   object\n",
      " 3   comments         2119 non-null   int64 \n",
      " 4   reposts          2119 non-null   int64 \n",
      " 5   hashtags         2119 non-null   object\n",
      " 6   post_lemmatized  2119 non-null   object\n",
      "dtypes: int64(2), object(5)\n",
      "memory usage: 132.4+ KB\n"
     ]
    }
   ],
   "source": [
    "posts.info()"
   ]
  },
  {
   "cell_type": "markdown",
   "id": "e57876ed",
   "metadata": {},
   "source": [
    "Объединяем датафреймы"
   ]
  },
  {
   "cell_type": "code",
   "execution_count": 102,
   "id": "6c805aa9",
   "metadata": {},
   "outputs": [],
   "source": [
    "# переименуем столбец id в user_id в датафрейме profiles, для последующего объединения с posts\n",
    "profiles = profiles.rename(columns={'id': 'user_id'})"
   ]
  },
  {
   "cell_type": "code",
   "execution_count": 103,
   "id": "56fdc9f2",
   "metadata": {},
   "outputs": [],
   "source": [
    "# объединяем датафреймы\n",
    "df = pd.merge(posts, profiles, on='user_id')"
   ]
  },
  {
   "cell_type": "code",
   "execution_count": 105,
   "id": "18c78b8f",
   "metadata": {},
   "outputs": [],
   "source": [
    "# удаляем дубликаты\n",
    "df.drop_duplicates(inplace=True)"
   ]
  },
  {
   "cell_type": "code",
   "execution_count": 106,
   "id": "9eddf485",
   "metadata": {},
   "outputs": [],
   "source": [
    "# удаляем из столбца likes точки, запятые и пробелы\n",
    "df[\"likes\"] = df[\"likes\"].replace(r'\\.|\\,|\\s', '', regex=True)\n",
    "\n",
    "# меняем тип данных сотлбца likes на integer\n",
    "df[\"likes\"] = df[\"likes\"].astype(\"int64\")"
   ]
  },
  {
   "cell_type": "code",
   "execution_count": 107,
   "id": "58f5fe96",
   "metadata": {
    "scrolled": false
   },
   "outputs": [
    {
     "name": "stdout",
     "output_type": "stream",
     "text": [
      "<class 'pandas.core.frame.DataFrame'>\n",
      "Int64Index: 2110 entries, 0 to 2118\n",
      "Data columns (total 16 columns):\n",
      " #   Column            Non-Null Count  Dtype \n",
      "---  ------            --------------  ----- \n",
      " 0   user_id           2110 non-null   object\n",
      " 1   post              2110 non-null   object\n",
      " 2   likes             2110 non-null   int64 \n",
      " 3   comments          2110 non-null   int64 \n",
      " 4   reposts           2110 non-null   int64 \n",
      " 5   hashtags          2110 non-null   object\n",
      " 6   post_lemmatized   2110 non-null   object\n",
      " 7   user_name         2110 non-null   object\n",
      " 8   user_head         2110 non-null   object\n",
      " 9   user_work         2021 non-null   object\n",
      " 10  user_position     2110 non-null   object\n",
      " 11  user_tags         401 non-null    object\n",
      " 12  user_location     2103 non-null   object\n",
      " 13  user_viewers      2110 non-null   object\n",
      " 14  user_contacts     2110 non-null   object\n",
      " 15  user_common_info  1918 non-null   object\n",
      "dtypes: int64(3), object(13)\n",
      "memory usage: 280.2+ KB\n"
     ]
    }
   ],
   "source": [
    "df.info()"
   ]
  },
  {
   "cell_type": "code",
   "execution_count": 108,
   "id": "aa8b402a",
   "metadata": {},
   "outputs": [],
   "source": [
    "# Сохраняем датафрейм\n",
    "df.to_csv(os.path.join(file_path, 'linkedin.csv'))\n",
    "\n",
    "# Сохраняем датафрейм лемматизации\n",
    "df[[\n",
    "    'user_id', 'post_lemmatized', 'likes', 'comments', 'reposts'\n",
    "]].to_csv(os.path.join(file_path, 'post_lemmatized.csv'))"
   ]
  },
  {
   "cell_type": "code",
   "execution_count": 110,
   "id": "492eea7e",
   "metadata": {},
   "outputs": [
    {
     "data": {
      "text/html": [
       "<div>\n",
       "<style scoped>\n",
       "    .dataframe tbody tr th:only-of-type {\n",
       "        vertical-align: middle;\n",
       "    }\n",
       "\n",
       "    .dataframe tbody tr th {\n",
       "        vertical-align: top;\n",
       "    }\n",
       "\n",
       "    .dataframe thead th {\n",
       "        text-align: right;\n",
       "    }\n",
       "</style>\n",
       "<table border=\"1\" class=\"dataframe\">\n",
       "  <thead>\n",
       "    <tr style=\"text-align: right;\">\n",
       "      <th></th>\n",
       "      <th>user_id</th>\n",
       "      <th>post</th>\n",
       "      <th>likes</th>\n",
       "      <th>comments</th>\n",
       "      <th>reposts</th>\n",
       "      <th>hashtags</th>\n",
       "      <th>post_lemmatized</th>\n",
       "      <th>user_name</th>\n",
       "      <th>user_head</th>\n",
       "      <th>user_work</th>\n",
       "      <th>user_position</th>\n",
       "      <th>user_tags</th>\n",
       "      <th>user_location</th>\n",
       "      <th>user_viewers</th>\n",
       "      <th>user_contacts</th>\n",
       "      <th>user_common_info</th>\n",
       "    </tr>\n",
       "  </thead>\n",
       "  <tbody>\n",
       "    <tr>\n",
       "      <th>446</th>\n",
       "      <td>melekes</td>\n",
       "      <td>Находки в сети за август</td>\n",
       "      <td>0</td>\n",
       "      <td>0</td>\n",
       "      <td>0</td>\n",
       "      <td></td>\n",
       "      <td>находка сеть август</td>\n",
       "      <td>Anton Kalyaev</td>\n",
       "      <td>Software Engineer, Traveler, Glorified plumber #distributedsystems #consensus</td>\n",
       "      <td>Parity Technologies</td>\n",
       "      <td>Core Rust Developer</td>\n",
       "      <td>NaN</td>\n",
       "      <td>Russia</td>\n",
       "      <td>1,183</td>\n",
       "      <td>500+</td>\n",
       "      <td>Hi! My name is Anton. I am an experienced (10+ years) backend developer interested in distributed systems and hard problems. Ideally looking for a remote position, although relocation is possible.- “not a great programmer; just a good programmer with great habits” (Kent Beck)- have a blog http://homeonrails.com/. Popular articles include How to be productive withalmost any text editor https://www.homeonrails.com/2016/05/how-to-be-productive-with-almost-any-editor/ and Debugging the Memory Leak in Tendermint https://www.homeonrails.com/2018/03/debugging-the-memory-leak-in-tendermint/- “best April fool joke ever” author (according to my past colleagues)PROJECTS:- implemented a Merkle tree in Rust https://github.com/melekes/merkle-tree-rs- created a visualisation of the Tendermint consensus algorithm (see https://www.homeonrails.com/thesecretlivesofdata/tendermint/)- developed a simple distributed database in Erlang based on Riak Core (600 lines of code)- conducted a course on Vim editor w/ ~20 students (course materials - https://github.com/melekes/vim-is-hard-lessons)- tried to write a GUI application in Haskell during a one-night hackathon https://github.com/melekes/mike-on-linux- presented some of the lessons learned to my colleagues and community (slides on SpeakerDeck - https://speakerdeck.com/melekes)LANGUAGES AND TECHNOLOGIES:I am able to write code on a marker board in Go and Rust.At various times I wrote &gt; 1000 lines in Go, Erlang, Rust, Ruby, Java, C, Clojure, Javascript, PHP, C# (I forgot last 3 languages).What I use in my daily work: Linux, Git, Ansible, Docker, Tmux, and Vim.Technologies: Hadoop / HBase, Postgresql, Mysql, Erlang OTP, Kafka, Redis,Jepsen, Prometheus, WebSocketsMore links:- https://gist.github.com/melekesApr 2021 - Oct 2021: I decided to take a big break to travel (hiked in the Altai mountains, drank water from Lake Baikal, hitchhiked to the south of Russia), and also spend some time with my family during the COVID-19 pandemic.</td>\n",
       "    </tr>\n",
       "    <tr>\n",
       "      <th>1263</th>\n",
       "      <td>yury-zhukovsky</td>\n",
       "      <td>Всем привет!Понимать и правильно составлять SQL-запросы – важный навык для работы в QA. На w3schools.com можно отлично прокачать данный навык, а уже после изучать DBeaver.Недавно загрузил свои результаты изучения SQL на GitHub (link на репозиторий – https://lnkd.in/dW-RBipA). Выполнил 21 задание, начиная от простых запросов к более сложным.#sql #w3schools #qa #qualityassurance #opentowork #ksendzov</td>\n",
       "      <td>3</td>\n",
       "      <td>2</td>\n",
       "      <td>0</td>\n",
       "      <td>sql, w3schools, qa, qualityassurance, opentowork, ksendzov</td>\n",
       "      <td>привет понимать правильно составлять запрос важный навык работа отлично прокачать данный навык изучать недавно загрузить результат изучение репозиторий выполнить задание начинать простой запрос сложным</td>\n",
       "      <td>Yury Zhukovsky</td>\n",
       "      <td>QA Engineer</td>\n",
       "      <td>Belarusian State University of Informatics and Radioelectronics</td>\n",
       "      <td>QA Engineer</td>\n",
       "      <td>NaN</td>\n",
       "      <td>Minsk, Belarus</td>\n",
       "      <td>1,296</td>\n",
       "      <td>500+</td>\n",
       "      <td>I am a Junior QA Engineer with deep knowledge of product testing that I gained while working as an online marketer for 7 years. I have big experience of working with Google's Search Quality Raters Guidelines. I have worked with tools: Jira, Google Chrome Dev Tools, GitHub, Postman, Fiddler, Charles, Linux terminal, Visual Studio Code. My key soft skills: fast learner, mathematical- analytical thinking, ability to work in a team, mindfulness, critical mindset and curiosity.</td>\n",
       "    </tr>\n",
       "    <tr>\n",
       "      <th>810</th>\n",
       "      <td>vladimirmoiseev</td>\n",
       "      <td>Не  про #ИмпортозамещениеТоварищи!Кто-нибудь знаком со спецификой   ИТ рынка Китая? Речь про Технологические и софтверные компании второго и третьего эшелона.Что -там вообще сейчас  происходит, какие тренды есть, какие  сложности испытывают (кроме гос. регуляторов), прибегают ли  к услугами ИТ компаний из других  стран, или используют только внутренний потенциал, насколько легко идут на контакт и есть ли потребность в общении и партнерстве win-win с другими  ИТ компаниями ?Интересно узнать ваше мнение и разобраться в этом вопросе (за 1 месяц%) !#китай #IT #china #ИТ #softwaredevelopment</td>\n",
       "      <td>1</td>\n",
       "      <td>0</td>\n",
       "      <td>0</td>\n",
       "      <td>ИмпортозамещениеТоварищи!Кто-нибудь, китай, IT, china, ИТ, softwaredevelopment</td>\n",
       "      <td>знак специфика рынок китая речь технологический софтверный компания второй третий эшелона чтый вообще происходит тренд сложность испытывать кром гос регуляторов прибегать услуга компания стран использовать внутренний потенциал насколько легко идти контакт потребность общение партнёрство компания интересный узнать ваш мнение разобраться вопрос месяц</td>\n",
       "      <td>Vladi (Moisey) Mir</td>\n",
       "      <td>Software Development IT Outsourscing for Enterprise BPM/ITSM/CRM/DWH/BI/Terrasoft/Creatio, ServiceDesk</td>\n",
       "      <td>ICL Group</td>\n",
       "      <td>Руководитель направления Solutions for Enterprise</td>\n",
       "      <td>NaN</td>\n",
       "      <td>Moscow, Moscow City, Russia</td>\n",
       "      <td>2,153</td>\n",
       "      <td>500+</td>\n",
       "      <td>Daily we work on 170 projects using various technologies, such as Java, C #, Bitrix, PHP, JavaScript, Python, Ruby, Go, C ++, Swift, Flutter, Objective-C development, projects on quality assurance, design and IT security. All the services are provided by our specialists. We pride ourselves in high producibility and unique development expertise.Technologies:C#C++BitrixGoJavaJavaJavaScriptPHPPythonSwiftKotlinFlutterOUR EXPERIENCE:Within 20 years, we have developed more than 900 IT solutions: enterprise automation systems, highly loaded systems, mobile applications, Machine Learning &amp; Data Science solutions, and embedded software.INDUSTRY EXPERTISE:The company has accumulated experience developing systems in such areas as management, finance, healthcare, education, telecommunications, construction, retail, and oil and gas.INDUSTRIES:FinanceRetailHealthcareHealthcareEducationTelecommunicationsInsuranceMISSION:“Our mission is to help companies from various industries to realize their most ambitious software products that contribute to the growth and development of their business.”</td>\n",
       "    </tr>\n",
       "    <tr>\n",
       "      <th>79</th>\n",
       "      <td>agratoth</td>\n",
       "      <td>Что едят единороги?Уже не первый год я по мере сил своих физических и ментальных оказываю менторскую помощь самым разным ребятам, от начинающих разработчиков (выбрать путь для профессионального развития, собрать роадмап для штудирования книг и т.д.) до HR (в этих наших стеках и фреймворках, как показывает практика, черт ногу сломит, если не вариться в этом постоянно). И неоднократно ребята спрашивали меня - почему я не делаю вебинаров по разным темамИ вот прошли годы, слово “вебинар” уже вышло из моды, заменившись на “воркшоп”, и я, наконец, созрел. А, с учетом на одном дыхании прочитанной нетленки Джеффа Уокера “Запуск!”, созрел даже сразу за деньги. Ну а почему бы и да?Итак, где-нибудь ориентировочно 17 или 18 сентября приглашаю всех заинтересованных на воркшоп. В течение четырех-пяти часов в прямом эфире я буду писать (и объяснять!) целый небольшой агротех-сервис. Да какой сервис! Это будет симулятор большой и взрослой ERP-системы, автоматизирующей деятельность фермы по выращиванию… единорогов. Ну, а почему бы и нет? Для единорогов нужно будет строить единорожни (ну, не конюшни же?), каждый из них будет обладать определенными статами, которые можно будет развивать скрещиванием. Для них надо будет закупать цветы и нектар (все ведь знают, чем питаются единороги?). Единорожий приплод можно будет продавать на внутреннем виртуальном рынке. Этакий небольшой бизнес-симулятор.В целом, за исключением контекста, система будет вполне серьезной, с бизнес-логикой, отложенными задачами и триггерами.Стек проекта:- на бэкенде - FastAPI, за ORM - ormar+alembic, за БД - PostgreSQL, за брокера - NATS, хранилище кэша - Redis, куда ж без него. - на фронтэнде - React 18 без CRA, Typescript, Redux-Toolkit. За UI будет отвечать Tailwind с плагинами. За сборку - Webpack с плагинами. Также есть Babel с плагинами, и PostCSS (угадайте с чем… правильно!), тоже с плагинами. - в инфраструктуре - Docker и nginx. Ansible и Gitlab CI/CD - если успеем.В целом, хочется сделать законченный полностековый проект, от верстки фронта до деплоя и девопсовых свистелок и … плейбуков. Возможно, в рамки одного воркшопа это все и не влезет, но мы будем очень стараться Во всяком случае, я почти обещаю сильно не тупить - проект то уже реализован, буду в него подглядывать, пока никто не видитТеперь про проведение. Проводить буду в формате стрима, в приватном канале youtube. Более вменяемых вариантов я не знаю, не на твич же с таким идти. Ну, может еще в ВК будет дубль трансляции, но это не точноНу и участие. Оно платное. Целых 150-200 рублей с человека! Ибо, как говорил Джокер - “Если ты что-то можешь сделать, не делай это бесплатно”. А годноты будет наваломВ целом, если идея вам зашла - то приветствуются лайки, комментарии и, конечно, репосты. Ну а если вы дочитали до этого места, и даже заинтересованы поприсутствовать на трансляции - смело пишите мне в телегу @agratoth, сделаем чатик и попытаемся все это организовать#react #fastapi #workshop #воркшоп_единороги</td>\n",
       "      <td>21</td>\n",
       "      <td>3</td>\n",
       "      <td>3</td>\n",
       "      <td>react, fastapi, workshop, воркшоп_единороги</td>\n",
       "      <td>единороги первый год мера сила физический ментальный оказывать менторский помощь самый разный ребятам начинающий разработчик выбрать путь профессиональный развития собрать роадмап штудирование книга стек фреймворках показывать практика черта нога сломит вариться постоянно неоднократно ребята спрашивать почему делать вебинар разный тема пройти годы слово вебинар выйти моды замениться воркшоп созрел учёт дыхание прочитать нетленка джефф уокер запуск созрелый сразу деньги почему итак ориентировочно сентябрь приглашать заинтересованный воркшоп течение четыре пять час прямой эфир писать объяснять целый небольшой агротех сервис сервис симулятор большой взрослый системы автоматизировать деятельность ферма выращиванию единорогов почему единорог нужно строить единорожний конюшня каждый обладать определённый статами развивать скрещиванием закупать цветок нектар знают питаться единороги единорожий приплод продавать внутренний виртуальный рынке этакий небольшой бизнес симулятор целом исключение контекста система вполне серьезной бизнес логикой отложить задача триггерами стечь проекта бэкенд бд брокер хранилище кэш фронтэнд отвечать плагинами сборка плагинами также плагинами угадать правильно плагинами инфраструктура успеем целом хотеться сделать закончить полностековый проект вёрстка фронт деплоить девопсовый свистелка плейбуков возможно рамка воркшоп всё влезет очень стараться всякий случае обещать сильно тупить проект реализован подглядывать пока никто видиттеперь проведение проводить формат стрима приватный канал вменяемый вариант знаю твич идти ещё вк дубль трансляции точнона участие платное целый рубль человека ибо говорить джокер ести сделать делать бесплатно годнота наваломть целом идея зайти приветствоваться лайки комментарий репосты дочитать места заинтересовать поприсутствовать трансляция смело писать телега сделать чатик попытаться всё организовать</td>\n",
       "      <td>Anton Berdnikov</td>\n",
       "      <td>CTO/Co-founder</td>\n",
       "      <td>Cloudberry.bi</td>\n",
       "      <td>Chief Technical Officer/Co-founder</td>\n",
       "      <td>NaN</td>\n",
       "      <td>Russia</td>\n",
       "      <td>4,569</td>\n",
       "      <td>500+</td>\n",
       "      <td>Разработка нейросетей на python/keras.io + tensorflowРазработка микросервисов на golangРазработка высоконагруженных приложенийСистемная разработка на golangСистемная разработка на C/C++</td>\n",
       "    </tr>\n",
       "    <tr>\n",
       "      <th>926</th>\n",
       "      <td>maxbolshakov</td>\n",
       "      <td>Всем начинающим специалистам по информационной безопасности рекомендую к просмотру. Еще больше профессий у нас на канале. Видео выходят каждую неделю по вторникам.#interview #cybersecurity #informationsecurity #career</td>\n",
       "      <td>0</td>\n",
       "      <td>0</td>\n",
       "      <td>0</td>\n",
       "      <td>interview, cybersecurity, informationsecurity, career</td>\n",
       "      <td>начинающий специалист информационный безопасность рекомендовать просмотру ещё большой профессия канале видео выходить каждый неделя вторникам</td>\n",
       "      <td>Max Bolshakov</td>\n",
       "      <td>Product owner | BDM | Bizdev | Cybersecurity | Product manager | Founder at ADABSTAR | Mentor | Freelancer</td>\n",
       "      <td>Peter the Great St.Petersburg Polytechnic University</td>\n",
       "      <td>Product manager | owner</td>\n",
       "      <td>NaN</td>\n",
       "      <td>Moscow, Moscow City, Russia</td>\n",
       "      <td>575</td>\n",
       "      <td>500+</td>\n",
       "      <td>I'm a highly experienced Business Development Manager and Product Owner with 10 years of experience in the information security industry. I bring a wealth of knowledge and expertise to the field, having spent the last 8 years working as a BDM manager and Product manager for information security services and products. I love mentoring and interviewing, help immerse myself in IT, and have exotic experience with quantum encryption technology. I am originally from St. Petersburg, Russia but now i'm living in Antalya, Turkey.</td>\n",
       "    </tr>\n",
       "  </tbody>\n",
       "</table>\n",
       "</div>"
      ],
      "text/plain": [
       "              user_id  \\\n",
       "446           melekes   \n",
       "1263   yury-zhukovsky   \n",
       "810   vladimirmoiseev   \n",
       "79           agratoth   \n",
       "926      maxbolshakov   \n",
       "\n",
       "                                                                                                                                                                                                                                                                                                                                                                                                                                                                                                                                                                                                                                                                                                                                                                                                                                                                                                                                                                                                                                                                                                                                                                                                                                                                                                                                                                                                                                                                                                                                                                                                                                                                                                                                                                                                                                                                                                                                                                                                                                                                                                                                                                                                                                                                                                                                                                                                                                                                                                                                                                                                                                                                                                                                                                                                                                                                                                                                                                                                                                                                                          post  \\\n",
       "446                                                                                                                                                                                                                                                                                                                                                                                                                                                                                                                                                                                                                                                                                                                                                                                                                                                                                                                                                                                                                                                                                                                                                                                                                                                                                                                                                                                                                                                                                                                                                                                                                                                                                                                                                                                                                                                                                                                                                                                                                                                                                                                                                                                                                                                                                                                                                                                                                                                                                                                                                                                                                                                                                                                                                                                                                                                                                                                                                                                                                                                                   Находки в сети за август   \n",
       "1263                                                                                                                                                                                                                                                                                                                                                                                                                                                                                                                                                                                                                                                                                                                                                                                                                                                                                                                                                                                                                                                                                                                                                                                                                                                                                                                                                                                                                                                                                                                                                                                                                                                                                                                                                                                                                                                                                                                                                                                                                                                                                                                                                                                                                                                                                                                                                                                                                                                                                                                                                                                                                                                                         Всем привет!Понимать и правильно составлять SQL-запросы – важный навык для работы в QA. На w3schools.com можно отлично прокачать данный навык, а уже после изучать DBeaver.Недавно загрузил свои результаты изучения SQL на GitHub (link на репозиторий – https://lnkd.in/dW-RBipA). Выполнил 21 задание, начиная от простых запросов к более сложным.#sql #w3schools #qa #qualityassurance #opentowork #ksendzov   \n",
       "810                                                                                                                                                                                                                                                                                                                                                                                                                                                                                                                                                                                                                                                                                                                                                                                                                                                                                                                                                                                                                                                                                                                                                                                                                                                                                                                                                                                                                                                                                                                                                                                                                                                                                                                                                                                                                                                                                                                                                                                                                                                                                                                                                                                                                                                                                                                                                                                                                                                                          Не  про #ИмпортозамещениеТоварищи!Кто-нибудь знаком со спецификой   ИТ рынка Китая? Речь про Технологические и софтверные компании второго и третьего эшелона.Что -там вообще сейчас  происходит, какие тренды есть, какие  сложности испытывают (кроме гос. регуляторов), прибегают ли  к услугами ИТ компаний из других  стран, или используют только внутренний потенциал, насколько легко идут на контакт и есть ли потребность в общении и партнерстве win-win с другими  ИТ компаниями ?Интересно узнать ваше мнение и разобраться в этом вопросе (за 1 месяц%) !#китай #IT #china #ИТ #softwaredevelopment   \n",
       "79    Что едят единороги?Уже не первый год я по мере сил своих физических и ментальных оказываю менторскую помощь самым разным ребятам, от начинающих разработчиков (выбрать путь для профессионального развития, собрать роадмап для штудирования книг и т.д.) до HR (в этих наших стеках и фреймворках, как показывает практика, черт ногу сломит, если не вариться в этом постоянно). И неоднократно ребята спрашивали меня - почему я не делаю вебинаров по разным темамИ вот прошли годы, слово “вебинар” уже вышло из моды, заменившись на “воркшоп”, и я, наконец, созрел. А, с учетом на одном дыхании прочитанной нетленки Джеффа Уокера “Запуск!”, созрел даже сразу за деньги. Ну а почему бы и да?Итак, где-нибудь ориентировочно 17 или 18 сентября приглашаю всех заинтересованных на воркшоп. В течение четырех-пяти часов в прямом эфире я буду писать (и объяснять!) целый небольшой агротех-сервис. Да какой сервис! Это будет симулятор большой и взрослой ERP-системы, автоматизирующей деятельность фермы по выращиванию… единорогов. Ну, а почему бы и нет? Для единорогов нужно будет строить единорожни (ну, не конюшни же?), каждый из них будет обладать определенными статами, которые можно будет развивать скрещиванием. Для них надо будет закупать цветы и нектар (все ведь знают, чем питаются единороги?). Единорожий приплод можно будет продавать на внутреннем виртуальном рынке. Этакий небольшой бизнес-симулятор.В целом, за исключением контекста, система будет вполне серьезной, с бизнес-логикой, отложенными задачами и триггерами.Стек проекта:- на бэкенде - FastAPI, за ORM - ormar+alembic, за БД - PostgreSQL, за брокера - NATS, хранилище кэша - Redis, куда ж без него. - на фронтэнде - React 18 без CRA, Typescript, Redux-Toolkit. За UI будет отвечать Tailwind с плагинами. За сборку - Webpack с плагинами. Также есть Babel с плагинами, и PostCSS (угадайте с чем… правильно!), тоже с плагинами. - в инфраструктуре - Docker и nginx. Ansible и Gitlab CI/CD - если успеем.В целом, хочется сделать законченный полностековый проект, от верстки фронта до деплоя и девопсовых свистелок и … плейбуков. Возможно, в рамки одного воркшопа это все и не влезет, но мы будем очень стараться Во всяком случае, я почти обещаю сильно не тупить - проект то уже реализован, буду в него подглядывать, пока никто не видитТеперь про проведение. Проводить буду в формате стрима, в приватном канале youtube. Более вменяемых вариантов я не знаю, не на твич же с таким идти. Ну, может еще в ВК будет дубль трансляции, но это не точноНу и участие. Оно платное. Целых 150-200 рублей с человека! Ибо, как говорил Джокер - “Если ты что-то можешь сделать, не делай это бесплатно”. А годноты будет наваломВ целом, если идея вам зашла - то приветствуются лайки, комментарии и, конечно, репосты. Ну а если вы дочитали до этого места, и даже заинтересованы поприсутствовать на трансляции - смело пишите мне в телегу @agratoth, сделаем чатик и попытаемся все это организовать#react #fastapi #workshop #воркшоп_единороги   \n",
       "926                                                                                                                                                                                                                                                                                                                                                                                                                                                                                                                                                                                                                                                                                                                                                                                                                                                                                                                                                                                                                                                                                                                                                                                                                                                                                                                                                                                                                                                                                                                                                                                                                                                                                                                                                                                                                                                                                                                                                                                                                                                                                                                                                                                                                                                                                                                                                                                                                                                                                                                                                                                                                                                                                                                                                                                                                                                                  Всем начинающим специалистам по информационной безопасности рекомендую к просмотру. Еще больше профессий у нас на канале. Видео выходят каждую неделю по вторникам.#interview #cybersecurity #informationsecurity #career   \n",
       "\n",
       "      likes  comments  reposts  \\\n",
       "446       0         0        0   \n",
       "1263      3         2        0   \n",
       "810       1         0        0   \n",
       "79       21         3        3   \n",
       "926       0         0        0   \n",
       "\n",
       "                                                                            hashtags  \\\n",
       "446                                                                                    \n",
       "1263                      sql, w3schools, qa, qualityassurance, opentowork, ksendzov   \n",
       "810   ИмпортозамещениеТоварищи!Кто-нибудь, китай, IT, china, ИТ, softwaredevelopment   \n",
       "79                                       react, fastapi, workshop, воркшоп_единороги   \n",
       "926                            interview, cybersecurity, informationsecurity, career   \n",
       "\n",
       "                                                                                                                                                                                                                                                                                                                                                                                                                                                                                                                                                                                                                                                                                                                                                                                                                                                                                                                                                                                                                                                                                                                                                                                                                                                                                                                                                                                                                                                                                                                                                                                                                                                                                                                                                                                                                                                                                                                                              post_lemmatized  \\\n",
       "446                                                                                                                                                                                                                                                                                                                                                                                                                                                                                                                                                                                                                                                                                                                                                                                                                                                                                                                                                                                                                                                                                                                                                                                                                                                                                                                                                                                                                                                                                                                                                                                                                                                                                                                                                                                                                                                                                                                                       находка сеть август   \n",
       "1263                                                                                                                                                                                                                                                                                                                                                                                                                                                                                                                                                                                                                                                                                                                                                                                                                                                                                                                                                                                                                                                                                                                                                                                                                                                                                                                                                                                                                                                                                                                                                                                                                                                                                                                                                привет понимать правильно составлять запрос важный навык работа отлично прокачать данный навык изучать недавно загрузить результат изучение репозиторий выполнить задание начинать простой запрос сложным   \n",
       "810                                                                                                                                                                                                                                                                                                                                                                                                                                                                                                                                                                                                                                                                                                                                                                                                                                                                                                                                                                                                                                                                                                                                                                                                                                                                                                                                                                                                                                                                                                                                                                                            знак специфика рынок китая речь технологический софтверный компания второй третий эшелона чтый вообще происходит тренд сложность испытывать кром гос регуляторов прибегать услуга компания стран использовать внутренний потенциал насколько легко идти контакт потребность общение партнёрство компания интересный узнать ваш мнение разобраться вопрос месяц   \n",
       "79    единороги первый год мера сила физический ментальный оказывать менторский помощь самый разный ребятам начинающий разработчик выбрать путь профессиональный развития собрать роадмап штудирование книга стек фреймворках показывать практика черта нога сломит вариться постоянно неоднократно ребята спрашивать почему делать вебинар разный тема пройти годы слово вебинар выйти моды замениться воркшоп созрел учёт дыхание прочитать нетленка джефф уокер запуск созрелый сразу деньги почему итак ориентировочно сентябрь приглашать заинтересованный воркшоп течение четыре пять час прямой эфир писать объяснять целый небольшой агротех сервис сервис симулятор большой взрослый системы автоматизировать деятельность ферма выращиванию единорогов почему единорог нужно строить единорожний конюшня каждый обладать определённый статами развивать скрещиванием закупать цветок нектар знают питаться единороги единорожий приплод продавать внутренний виртуальный рынке этакий небольшой бизнес симулятор целом исключение контекста система вполне серьезной бизнес логикой отложить задача триггерами стечь проекта бэкенд бд брокер хранилище кэш фронтэнд отвечать плагинами сборка плагинами также плагинами угадать правильно плагинами инфраструктура успеем целом хотеться сделать закончить полностековый проект вёрстка фронт деплоить девопсовый свистелка плейбуков возможно рамка воркшоп всё влезет очень стараться всякий случае обещать сильно тупить проект реализован подглядывать пока никто видиттеперь проведение проводить формат стрима приватный канал вменяемый вариант знаю твич идти ещё вк дубль трансляции точнона участие платное целый рубль человека ибо говорить джокер ести сделать делать бесплатно годнота наваломть целом идея зайти приветствоваться лайки комментарий репосты дочитать места заинтересовать поприсутствовать трансляция смело писать телега сделать чатик попытаться всё организовать   \n",
       "926                                                                                                                                                                                                                                                                                                                                                                                                                                                                                                                                                                                                                                                                                                                                                                                                                                                                                                                                                                                                                                                                                                                                                                                                                                                                                                                                                                                                                                                                                                                                                                                                                                                                                                                                                                                                             начинающий специалист информационный безопасность рекомендовать просмотру ещё большой профессия канале видео выходить каждый неделя вторникам   \n",
       "\n",
       "               user_name  \\\n",
       "446        Anton Kalyaev   \n",
       "1263      Yury Zhukovsky   \n",
       "810   Vladi (Moisey) Mir   \n",
       "79       Anton Berdnikov   \n",
       "926        Max Bolshakov   \n",
       "\n",
       "                                                                                                       user_head  \\\n",
       "446                                Software Engineer, Traveler, Glorified plumber #distributedsystems #consensus   \n",
       "1263                                                                                                 QA Engineer   \n",
       "810       Software Development IT Outsourscing for Enterprise BPM/ITSM/CRM/DWH/BI/Terrasoft/Creatio, ServiceDesk   \n",
       "79                                                                                                CTO/Co-founder   \n",
       "926   Product owner | BDM | Bizdev | Cybersecurity | Product manager | Founder at ADABSTAR | Mentor | Freelancer   \n",
       "\n",
       "                                                            user_work  \\\n",
       "446                                               Parity Technologies   \n",
       "1263  Belarusian State University of Informatics and Radioelectronics   \n",
       "810                                                         ICL Group   \n",
       "79                                                      Cloudberry.bi   \n",
       "926              Peter the Great St.Petersburg Polytechnic University   \n",
       "\n",
       "                                          user_position user_tags  \\\n",
       "446                                 Core Rust Developer       NaN   \n",
       "1263                                        QA Engineer       NaN   \n",
       "810   Руководитель направления Solutions for Enterprise       NaN   \n",
       "79                   Chief Technical Officer/Co-founder       NaN   \n",
       "926                             Product manager | owner       NaN   \n",
       "\n",
       "                    user_location user_viewers user_contacts  \\\n",
       "446                        Russia        1,183          500+   \n",
       "1263               Minsk, Belarus        1,296          500+   \n",
       "810   Moscow, Moscow City, Russia        2,153          500+   \n",
       "79                         Russia        4,569          500+   \n",
       "926   Moscow, Moscow City, Russia          575          500+   \n",
       "\n",
       "                                                                                                                                                                                                                                                                                                                                                                                                                                                                                                                                                                                                                                                                                                                                                                                                                                                                                                                                                                                                                                                                                                                                                                                                                                                                                                                                                                                                                                                                                                                                                                                                                                                                                                                                                                                                                                                                                                                                                                                                                                                          user_common_info  \n",
       "446   Hi! My name is Anton. I am an experienced (10+ years) backend developer interested in distributed systems and hard problems. Ideally looking for a remote position, although relocation is possible.- “not a great programmer; just a good programmer with great habits” (Kent Beck)- have a blog http://homeonrails.com/. Popular articles include How to be productive withalmost any text editor https://www.homeonrails.com/2016/05/how-to-be-productive-with-almost-any-editor/ and Debugging the Memory Leak in Tendermint https://www.homeonrails.com/2018/03/debugging-the-memory-leak-in-tendermint/- “best April fool joke ever” author (according to my past colleagues)PROJECTS:- implemented a Merkle tree in Rust https://github.com/melekes/merkle-tree-rs- created a visualisation of the Tendermint consensus algorithm (see https://www.homeonrails.com/thesecretlivesofdata/tendermint/)- developed a simple distributed database in Erlang based on Riak Core (600 lines of code)- conducted a course on Vim editor w/ ~20 students (course materials - https://github.com/melekes/vim-is-hard-lessons)- tried to write a GUI application in Haskell during a one-night hackathon https://github.com/melekes/mike-on-linux- presented some of the lessons learned to my colleagues and community (slides on SpeakerDeck - https://speakerdeck.com/melekes)LANGUAGES AND TECHNOLOGIES:I am able to write code on a marker board in Go and Rust.At various times I wrote > 1000 lines in Go, Erlang, Rust, Ruby, Java, C, Clojure, Javascript, PHP, C# (I forgot last 3 languages).What I use in my daily work: Linux, Git, Ansible, Docker, Tmux, and Vim.Technologies: Hadoop / HBase, Postgresql, Mysql, Erlang OTP, Kafka, Redis,Jepsen, Prometheus, WebSocketsMore links:- https://gist.github.com/melekesApr 2021 - Oct 2021: I decided to take a big break to travel (hiked in the Altai mountains, drank water from Lake Baikal, hitchhiked to the south of Russia), and also spend some time with my family during the COVID-19 pandemic.  \n",
       "1263                                                                                                                                                                                                                                                                                                                                                                                                                                                                                                                                                                                                                                                                                                                                                                                                                                                                                                                                                                                                                                                                                                                                                                                                                                                                                                                                                                                                                                                                                                                                                                         I am a Junior QA Engineer with deep knowledge of product testing that I gained while working as an online marketer for 7 years. I have big experience of working with Google's Search Quality Raters Guidelines. I have worked with tools: Jira, Google Chrome Dev Tools, GitHub, Postman, Fiddler, Charles, Linux terminal, Visual Studio Code. My key soft skills: fast learner, mathematical- analytical thinking, ability to work in a team, mindfulness, critical mindset and curiosity.  \n",
       "810                                                                                                                                                                                                                                                                                                                                                                                                                                                                                                                                                                                                                                                                                                                                                                                                                                                                                                                                   Daily we work on 170 projects using various technologies, such as Java, C #, Bitrix, PHP, JavaScript, Python, Ruby, Go, C ++, Swift, Flutter, Objective-C development, projects on quality assurance, design and IT security. All the services are provided by our specialists. We pride ourselves in high producibility and unique development expertise.Technologies:C#C++BitrixGoJavaJavaJavaScriptPHPPythonSwiftKotlinFlutterOUR EXPERIENCE:Within 20 years, we have developed more than 900 IT solutions: enterprise automation systems, highly loaded systems, mobile applications, Machine Learning & Data Science solutions, and embedded software.INDUSTRY EXPERTISE:The company has accumulated experience developing systems in such areas as management, finance, healthcare, education, telecommunications, construction, retail, and oil and gas.INDUSTRIES:FinanceRetailHealthcareHealthcareEducationTelecommunicationsInsuranceMISSION:“Our mission is to help companies from various industries to realize their most ambitious software products that contribute to the growth and development of their business.”  \n",
       "79                                                                                                                                                                                                                                                                                                                                                                                                                                                                                                                                                                                                                                                                                                                                                                                                                                                                                                                                                                                                                                                                                                                                                                                                                                                                                                                                                                                                                                                                                                                                                                                                                                                                                                                                                                                                                                                                               Разработка нейросетей на python/keras.io + tensorflowРазработка микросервисов на golangРазработка высоконагруженных приложенийСистемная разработка на golangСистемная разработка на C/C++  \n",
       "926                                                                                                                                                                                                                                                                                                                                                                                                                                                                                                                                                                                                                                                                                                                                                                                                                                                                                                                                                                                                                                                                                                                                                                                                                                                                                                                                                                                                                                                                                                                         I'm a highly experienced Business Development Manager and Product Owner with 10 years of experience in the information security industry. I bring a wealth of knowledge and expertise to the field, having spent the last 8 years working as a BDM manager and Product manager for information security services and products. I love mentoring and interviewing, help immerse myself in IT, and have exotic experience with quantum encryption technology. I am originally from St. Petersburg, Russia but now i'm living in Antalya, Turkey.  "
      ]
     },
     "execution_count": 110,
     "metadata": {},
     "output_type": "execute_result"
    }
   ],
   "source": [
    "df.sample(5)"
   ]
  },
  {
   "cell_type": "markdown",
   "id": "da156ba1",
   "metadata": {},
   "source": [
    "---"
   ]
  },
  {
   "cell_type": "code",
   "execution_count": 114,
   "id": "f15766f3",
   "metadata": {},
   "outputs": [],
   "source": [
    "docs = df['post_lemmatized'].tolist()"
   ]
  },
  {
   "cell_type": "code",
   "execution_count": 116,
   "id": "80f46587",
   "metadata": {},
   "outputs": [],
   "source": [
    "tfidf = TfidfVectorizer(min_df=10, max_df=0.9)"
   ]
  },
  {
   "cell_type": "code",
   "execution_count": 117,
   "id": "36a51f29",
   "metadata": {},
   "outputs": [],
   "source": [
    "x = tfidf.fit_transform(docs)"
   ]
  },
  {
   "cell_type": "code",
   "execution_count": 120,
   "id": "f2e8742a",
   "metadata": {},
   "outputs": [
    {
     "data": {
      "text/html": [
       "<style>#sk-container-id-1 {color: black;background-color: white;}#sk-container-id-1 pre{padding: 0;}#sk-container-id-1 div.sk-toggleable {background-color: white;}#sk-container-id-1 label.sk-toggleable__label {cursor: pointer;display: block;width: 100%;margin-bottom: 0;padding: 0.3em;box-sizing: border-box;text-align: center;}#sk-container-id-1 label.sk-toggleable__label-arrow:before {content: \"▸\";float: left;margin-right: 0.25em;color: #696969;}#sk-container-id-1 label.sk-toggleable__label-arrow:hover:before {color: black;}#sk-container-id-1 div.sk-estimator:hover label.sk-toggleable__label-arrow:before {color: black;}#sk-container-id-1 div.sk-toggleable__content {max-height: 0;max-width: 0;overflow: hidden;text-align: left;background-color: #f0f8ff;}#sk-container-id-1 div.sk-toggleable__content pre {margin: 0.2em;color: black;border-radius: 0.25em;background-color: #f0f8ff;}#sk-container-id-1 input.sk-toggleable__control:checked~div.sk-toggleable__content {max-height: 200px;max-width: 100%;overflow: auto;}#sk-container-id-1 input.sk-toggleable__control:checked~label.sk-toggleable__label-arrow:before {content: \"▾\";}#sk-container-id-1 div.sk-estimator input.sk-toggleable__control:checked~label.sk-toggleable__label {background-color: #d4ebff;}#sk-container-id-1 div.sk-label input.sk-toggleable__control:checked~label.sk-toggleable__label {background-color: #d4ebff;}#sk-container-id-1 input.sk-hidden--visually {border: 0;clip: rect(1px 1px 1px 1px);clip: rect(1px, 1px, 1px, 1px);height: 1px;margin: -1px;overflow: hidden;padding: 0;position: absolute;width: 1px;}#sk-container-id-1 div.sk-estimator {font-family: monospace;background-color: #f0f8ff;border: 1px dotted black;border-radius: 0.25em;box-sizing: border-box;margin-bottom: 0.5em;}#sk-container-id-1 div.sk-estimator:hover {background-color: #d4ebff;}#sk-container-id-1 div.sk-parallel-item::after {content: \"\";width: 100%;border-bottom: 1px solid gray;flex-grow: 1;}#sk-container-id-1 div.sk-label:hover label.sk-toggleable__label {background-color: #d4ebff;}#sk-container-id-1 div.sk-serial::before {content: \"\";position: absolute;border-left: 1px solid gray;box-sizing: border-box;top: 0;bottom: 0;left: 50%;z-index: 0;}#sk-container-id-1 div.sk-serial {display: flex;flex-direction: column;align-items: center;background-color: white;padding-right: 0.2em;padding-left: 0.2em;position: relative;}#sk-container-id-1 div.sk-item {position: relative;z-index: 1;}#sk-container-id-1 div.sk-parallel {display: flex;align-items: stretch;justify-content: center;background-color: white;position: relative;}#sk-container-id-1 div.sk-item::before, #sk-container-id-1 div.sk-parallel-item::before {content: \"\";position: absolute;border-left: 1px solid gray;box-sizing: border-box;top: 0;bottom: 0;left: 50%;z-index: -1;}#sk-container-id-1 div.sk-parallel-item {display: flex;flex-direction: column;z-index: 1;position: relative;background-color: white;}#sk-container-id-1 div.sk-parallel-item:first-child::after {align-self: flex-end;width: 50%;}#sk-container-id-1 div.sk-parallel-item:last-child::after {align-self: flex-start;width: 50%;}#sk-container-id-1 div.sk-parallel-item:only-child::after {width: 0;}#sk-container-id-1 div.sk-dashed-wrapped {border: 1px dashed gray;margin: 0 0.4em 0.5em 0.4em;box-sizing: border-box;padding-bottom: 0.4em;background-color: white;}#sk-container-id-1 div.sk-label label {font-family: monospace;font-weight: bold;display: inline-block;line-height: 1.2em;}#sk-container-id-1 div.sk-label-container {text-align: center;}#sk-container-id-1 div.sk-container {/* jupyter's `normalize.less` sets `[hidden] { display: none; }` but bootstrap.min.css set `[hidden] { display: none !important; }` so we also need the `!important` here to be able to override the default hidden behavior on the sphinx rendered scikit-learn.org. See: https://github.com/scikit-learn/scikit-learn/issues/21755 */display: inline-block !important;position: relative;}#sk-container-id-1 div.sk-text-repr-fallback {display: none;}</style><div id=\"sk-container-id-1\" class=\"sk-top-container\"><div class=\"sk-text-repr-fallback\"><pre>TfidfVectorizer(max_df=0.9, min_df=10)</pre><b>In a Jupyter environment, please rerun this cell to show the HTML representation or trust the notebook. <br />On GitHub, the HTML representation is unable to render, please try loading this page with nbviewer.org.</b></div><div class=\"sk-container\" hidden><div class=\"sk-item\"><div class=\"sk-estimator sk-toggleable\"><input class=\"sk-toggleable__control sk-hidden--visually\" id=\"sk-estimator-id-1\" type=\"checkbox\" checked><label for=\"sk-estimator-id-1\" class=\"sk-toggleable__label sk-toggleable__label-arrow\">TfidfVectorizer</label><div class=\"sk-toggleable__content\"><pre>TfidfVectorizer(max_df=0.9, min_df=10)</pre></div></div></div></div></div>"
      ],
      "text/plain": [
       "TfidfVectorizer(max_df=0.9, min_df=10)"
      ]
     },
     "execution_count": 120,
     "metadata": {},
     "output_type": "execute_result"
    }
   ],
   "source": [
    "tfidf.fit(docs)"
   ]
  },
  {
   "cell_type": "code",
   "execution_count": 118,
   "id": "f9ced2e7",
   "metadata": {},
   "outputs": [
    {
     "data": {
      "text/plain": [
       "(2110, 1738)"
      ]
     },
     "execution_count": 118,
     "metadata": {},
     "output_type": "execute_result"
    }
   ],
   "source": [
    "x.shape"
   ]
  },
  {
   "cell_type": "code",
   "execution_count": 122,
   "id": "727d1fe6",
   "metadata": {},
   "outputs": [],
   "source": [
    "id2word = {i: token for token, i in tfidf.vocabulary_.items()}"
   ]
  },
  {
   "cell_type": "markdown",
   "id": "99bada72",
   "metadata": {},
   "source": [
    "**LDA**"
   ]
  },
  {
   "cell_type": "code",
   "execution_count": 123,
   "id": "ce06939e",
   "metadata": {},
   "outputs": [],
   "source": [
    "n_topics = 20"
   ]
  },
  {
   "cell_type": "code",
   "execution_count": 124,
   "id": "02eac65e",
   "metadata": {},
   "outputs": [],
   "source": [
    "lda = LatentDirichletAllocation(n_components=n_topics, random_state=31)"
   ]
  },
  {
   "cell_type": "code",
   "execution_count": 125,
   "id": "36a8e2fd",
   "metadata": {},
   "outputs": [],
   "source": [
    "topics = lda.fit_transform(x)"
   ]
  },
  {
   "cell_type": "code",
   "execution_count": 126,
   "id": "38996db3",
   "metadata": {},
   "outputs": [
    {
     "data": {
      "text/plain": [
       "(2110, 20)"
      ]
     },
     "execution_count": 126,
     "metadata": {},
     "output_type": "execute_result"
    }
   ],
   "source": [
    "topics.shape"
   ]
  },
  {
   "cell_type": "markdown",
   "id": "4f6c5b38",
   "metadata": {},
   "source": [
    "**Ключевые слова**"
   ]
  },
  {
   "cell_type": "code",
   "execution_count": 130,
   "id": "c6293061",
   "metadata": {},
   "outputs": [
    {
     "name": "stdout",
     "output_type": "stream",
     "text": [
      "Тема 1 :\n",
      "школа, шаблон, всякий, анимация, визуальный, поделитесь, сделать, занять, хотеть, сменить, учёт, хороший, заказ, продвижение, ловить, модель, яндекс, презентация, скидка, лента\n",
      "\n",
      " \n",
      "Тема 2 :\n",
      "пишите, сфере, приглашать, официальный, гость, связаться, алматы, компетенция, карточка, картина, экономия, нанимать, учить, продажа, круто, сети, игровой, рада, связь, обратный\n",
      "\n",
      " \n",
      "Тема 3 :\n",
      "статья, оценить, формировать, обеспечивать, крутой, разбирать, успеть, отрасль, команда, запись, сэкономить, встретить, супер, надеюсь, разработчик, пропустить, удалённый, офис, подробность, облачный\n",
      "\n",
      " \n",
      "Тема 4 :\n",
      "функциональный, желательно, программирования, самостоятельный, команда, отличный, плата, участвовать, член, командный, апрель, заработный, очень, запустить, вклад, ценить, умение, благодарность, сеть, находка\n",
      "\n",
      " \n",
      "Тема 5 :\n",
      "программист, приглашать, интенсив, нуль, краткий, объяснять, абсолютно, многий, слово, руководство, бот, реклама, аудитория, программирование, ожидать, успешно, достигнуть, заметка, предприятие, внедрить\n",
      "\n",
      " \n",
      "Тема 6 :\n",
      "спасибо, забыть, признательный, приятно, всё, новый, возможность, ваш, признателен, рекомендация, здравствуйте, совет, карьерный, предложить, возможности, заранее, поиск, благодарить, поддержку, контактов\n",
      "\n",
      " \n",
      "Тема 7 :\n",
      "сша, конкурент, советовать, магазин, агентство, новый, разработать, страница, фраза, хотеть, пройти, услуг, получил, сайт, тест, проверка, дизайн, лендинга, значок, навык\n",
      "\n",
      " \n",
      "Тема 8 :\n",
      "почта, игра, интересно, закончить, шанс, привлекать, около, отклик, искать, большой, дизайнера, неделя, специалистов, дизайнер, джуна, мастер, чат, замечательный, бот, портфолио\n",
      "\n",
      " \n",
      "Тема 9 :\n",
      "начать, год, делать, работать, нужно, получить, новый, тема, ещё, видео, каждый, хотеть, просто, сделать, очень, день, время, первый, человек, всё\n",
      "\n",
      " \n",
      "Тема 10 :\n",
      "ребята, канал, скорее, сайт, выходной, отвечать, рф, дизайн, труд, статья, опубликовать, второй, подборка, работа, компания, новый, сообщаю, начинать, должность, удовольствие\n",
      "\n",
      " \n",
      "Тема 11 :\n",
      "удалёнка, зал, туда, вакансия, покупатель, подробнее, компания, везде, наём, стать, решение, мониторинг, рамка, контроль, посмотреть, собираться, главный, товар, сергей, обзор\n",
      "\n",
      " \n",
      "Тема 12 :\n",
      "коммерческий, библиотека, вакансия, затрата, команды, компания, найти, разработчик, отличный, менеджер, новый, удовольствие, сообщаю, подкаст, друзья, хотеть, получил, алексей, эпизод, сертификат\n",
      "\n",
      " \n",
      "Тема 13 :\n",
      "проходить, интеллекта, маркетолог, специалиста, привет, офис, лекция, теория, научный, ответить, книгу, следить, искусственный, зарплата, писать, платформа, конференция, состояться, рада, вебинар\n",
      "\n",
      " \n",
      "Тема 14 :\n",
      "ремонт, известный, компания, нанимать, история, дорогой, разработке, оформить, служба, пишите, поговорить, добрый, размер, опытный, интересный, искать, специалист, знать, людей, заинтересовать\n",
      "\n",
      " \n",
      "Тема 15 :\n",
      "инвестиция, эксперт, дизайнер, везде, корпоративный, новый, видео, потерять, кажется, классический, ключ, обещать, оператор, сентябрь, кейс, оценить, промышленный, форум, мобильный, приложение\n",
      "\n",
      " \n",
      "Тема 16 :\n",
      "набирать, москва, результат, дать, советовать, позиция, эксперт, имя, мир, сегодня, полезный, равно, предложение, созвон, хватать, компании, компетенция, цена, финансовый, интервью\n",
      "\n",
      " \n",
      "Тема 17 :\n",
      "интерфейс, резюме, поисковый, живой, бизнес, страница, санкт, проектами, сообщаю, систем, сайтов, просмотреть, радость, веб, приложений, оказывать, ещё, разработка, услуга, вакансия\n",
      "\n",
      " \n",
      "Тема 18 :\n",
      "бизнес, писать, хороший, всё, работать, также, искать, управление, поиск, задача, знание, ваш, новый, год, разработка, проект, компания, команда, опыт, работа\n",
      "\n",
      " \n",
      "Тема 19 :\n",
      "средство, доступ, работу, читать, поговорить, игра, многое, интервью, уметь, цели, экономия, онлайн, направлении, привести, событие, энергия, применение, банк, карта, защита\n",
      "\n",
      " \n",
      "Тема 20 :\n",
      "больший, правило, большой, хороший, продукт, специалист, результат, проект, начать, коммуникативный, тема, серия, искать, помнить, вакансия, отслеживать, итог, крутой, погнать, интересовать\n",
      "\n",
      " \n"
     ]
    }
   ],
   "source": [
    "for i in range(n_topics):\n",
    "    c = lda.components_[i, :]\n",
    "    topic_tokens = [id2word.get(token_id) for token_id in np.argsort(c)[-20:]]\n",
    "    print(\"Тема\",i+1, \":\")\n",
    "    print(\", \".join(topic_tokens))\n",
    "    print(\"\\n \")"
   ]
  },
  {
   "cell_type": "markdown",
   "id": "a32efa3f",
   "metadata": {},
   "source": [
    "**Типичные статьи**"
   ]
  },
  {
   "cell_type": "code",
   "execution_count": 133,
   "id": "4c17b32a",
   "metadata": {},
   "outputs": [
    {
     "name": "stdout",
     "output_type": "stream",
     "text": [
      "Тема  0\n",
      "Redesign presentation of Yandex company and I demonstrated how to improve the visual side of the presentation. The animation was done entirely in Power Point.You can see the detailed process in the https://lnkd.in/d9NttCHaWould you like to place an order? You can write to Linkedin or Whatsapp https://wa.me/+77058042545#presentation #infographics #3d #abinur #googleslides #powerpoint #yandex Yandex==========================Редизайн презентации компании Яндекс и я продемонстрировал как улучшить визуальную сторону презентации. Анимация полностью сделана в Power Point.Подробный процесс вы можете посмотреть на странице https://lnkd.in/d9NttCHa.вы хотели бы сделать заказ? Вы можете написать в Facebook или Whatsapp https://wa.me/+77058042545\n",
      "\n",
      "\n",
      "Тема  1\n",
      "Приглашаем тебя на долгожданный офлайн митап от Product Bee Тонкости технического интервьюНавыки в разработке продуктаБесплатные ресурсы для продактов Будем проводить интерактивные игрыЖдем тебя 13 мая 18:00 | Jas Coworking | Алматы.Места ограничены, голосуем в чате https://t.me/product_bee\n",
      "\n",
      "\n",
      "Тема  2\n",
      "Наше открытое менторство зашло на ура, а потому мы продолжаем  Приходите завтра, приносите свои боли в роли аналитика и тимлида, мы с Пашей будем разбирать их в прямом эфире!\n",
      "\n",
      "\n",
      "Тема  3\n",
      "Piter Py - вторая Python-конференции на Неве. 20 марта. Санкт-Петербург. Конференция призвана объединить людей, небезразличных к языку программирования Python для общения и обмена опытом. https://lnkd.in/dFs9VZ9\n",
      "\n",
      "\n",
      "Тема  4\n",
      "Немного о тех, кто уже на себе проверил тот факт, что наши слова не расходятся с делом!А вы?\n",
      "\n",
      "\n",
      "Тема  5\n",
      "Здравствуйте, я в поиске новой карьерной возможности в QA/тестировании и буду признательна за вашу поддержку. Заранее благодарю за все рекомендации контактов, советы или возможности, которые вы можете предложить. Hello, I am looking for a new career opportunity in QA/testing and would appreciate your support. Thank you in advance for all the contact recommendations, tips or opportunities that you can offer.#OpenToWork #QAEngineer #QASpecialist #Tester #ManualTester #Testing #qa #Тестировщик #ТестированиеTelegram: @kris_ozhogEmail: kris94ozhog@gmail.com\n",
      "\n",
      "\n",
      "Тема  6\n",
      "Я недавно заметил, что у платежной системы \"Мир\" существует премиальная карта, причем достаточно дорогая, сегодня я вам расскажу, какие же по ней можно получить привилегии и бонусы!https://lnkd.in/egw7gcN#мир #мирsupreme #картамир\n",
      "\n",
      "\n",
      "Тема  7\n",
      "Редкий случай, когда считаю правильным распространять призыв проявить активную позицию и вмешаться в политическую жизнь государства. Что-то мне подсказывает, что если и эти поправки пройдут, то творчество и просветительство окажутся под угрозой во всем СНГ. О чем конкретно идет речь подробно описал Сергей Попов в своем видео\n",
      "\n",
      "\n",
      "Тема  8\n",
      "#неделя_1У нас в команде новый дивиж для дизайнеров) Проходим вместе онлайн-интенсив «4 плаката за 4 дня» от Свята Вишнякова. Я хоть и причисляю себя к UX, но полезно и другое полушарие мозга развивать) Так что я без раздумий вписалась) Делюсь своим творчествомЗародился этот плакат довольно случайно. Мне хотелось что-то простое, но со смыслом. Я вспомнила цитату Леонардо да Винчи: «Simplicity  ",
      "is the ultimate sophistication» – Простота есть высшая степень утончённости. С точки зрения символики, одна из самых простых, при этом утончённых и совершенных фигур – круг. Об этой фигуре написано множество статей, в неё всегда вкладывали особое значение. При этом всём, круг – это простейшая фигура с точки зрения графики. В общем, всё сошлось) Тут я решила использовать интересный приём. Если на холсте есть два объекта – огромный и мелкий, то наш взгляд зацепится за мелкий. Поэтому основной смысл я вложила именно в маленький объект, а большой просто уравновешивает композицию. Cчитаю, что получилось довольно неплохо))#graphic #design\n",
      "\n",
      "\n",
      "Тема  9\n",
      " Обсудил криптовалюту с ребятами из IT-подкаста \"Мы обречены\" - Артемом Малышевым и Андреем Смирновым Ребята усердно делали вид, что они ничего не понимают в крипте, но я все же попытался вывести их на чистую воду и объяснить, что же все таки такое эта ваша криптовалюта Как вы смотрите на криптовалюту ? Пользуетесь ли вы ей?#it #cryptocurrency #podcast #bitcoin #crypto #mining #nft #cryptonews\n",
      "\n",
      "\n",
      "Тема  10\n",
      "Свежая статистика подъехала от NielsenIQ.Кондитерские изделия не только стали самой быстрорастущей группой товаров в продовольственной части FMCG-рынка, но и вносят второй по величине вклад в динамику, генерируя пятую часть всех продаж. Подробнее, за счет чего, можно увидеть на скрине.#retail #fmcg\n",
      "\n",
      "\n",
      "Тема  11\n",
      " 28 июня в 17:00 (по МСК) приглашаю вас на вебинар «Цена ошибки: как избежать повышения затрат и срыва сроков на IТ-проекте». Ссылка на подключение в посте.\n",
      "\n",
      "\n",
      "Тема  12\n",
      "#вестисполей #alefair #99copy #chat #OpenAiКнига выходит на новый уровень :)Как думаете, стоит озвучивать книгу?Или голоса пусть придумывает сам читатель?))Ссылка на онлайн книгуhttps://lnkd.in/eX_74u_RСледить за мной здесь:https://t.me/alefair_blogGIT Проектаhttps://lnkd.in/eGXvtihV\n",
      "\n",
      "\n",
      "Тема  13\n",
      "Любимый момент утра - когда все твои тесты в аллюре зеленые. Доброго утра, тестировщики! (фото из интернета)#qa #allure #testing #autotesting\n",
      "\n",
      "\n",
      "Тема  14\n",
      "Дизайнер, лови 16 плагинов в Figma для крутого дизайна от Логомашина Сохраняй себе, чтобы не потерять #design #junior #ux #ui #web #figma #plagins\n",
      "\n",
      "\n",
      "Тема  15\n",
      "Я приму участие в мероприятии «Выход на рынки СНГ в 2023 году». Хотите присоединиться?\n",
      "\n",
      "\n",
      "Тема  16\n",
      "С радостью сообщаю, что я оказываю бизнес-услуги в LinkedIn #OpenForBusiness. Просмотрите мою страницу услуг «Оптимизация для поисковых систем (SEO), Реклама, Веб-дизайн, Веб-разработка, Разработка Android-приложений, Разработка iOS-приложений, Разработка ПО как услуга (SaaS), Разработка мобильных приложений, Тестирование ПО» и «Бизнес-аналитика».\n",
      "\n",
      "\n",
      "Тема  17\n",
      "Xamarin Mobile Developer от 1.000$Zeon IT Hub международная компания по аутстафингу и разработке программного обеспечения.В настоящее время мы в поисках Xamarin Mobile Developer - частичная занятость (80-90 часов в месяц).Требования:- от 3х лет опыта работы с Xamarin;- опыт разработки приложений для iOS и Android;- знание .Net;- опыт разработки бэкенда в .Net;- английский язык B2.Описание проекта:Платформа Shamaym помогает командам повысить эффективность работы и быстро адаптироваться к меняющимся потребностям, превращая повседневную деятельность в возможность обучения.Данная платформа совместного обучения в режиме реального времени позволяет сотрудникам легко фиксировать уроки, извлеченные из каждой деятельности, делиться своими мыслями с членами команды и получать актуальные выводы в нужный момент.#xamarin #вакансия #remote #ios #удаленка #офис #гибрид\n",
      "\n",
      "\n",
      "Тема  18\n",
      "Запретный плод сладок. Не удивлюсь, если у LinkedIn посещаемость выросла. Зато теперь соц.сеть ещё больше про IT. По крайней мере айтишники точно знают, как сюда попасть.\n",
      "\n",
      "\n",
      "Тема  19\n",
      " SEO специалист на интересный проект! ",
      " ",
      "У нас есть не стандартный и интересный проект! ",
      "И нам очень нужен SEO специалист который настроит все метрики на Tilda. ",
      " ",
      "Занятость проектная  ",
      "По поводу вакансии пишите мне в телеграм - @ruslanroses ",
      " ",
      "Начните свое сообщения с “Вакансия SEO специалист”#SEOprofessionals #SEOexperts #SEOspecialists #SEOMarketing #DigitalMarketing #SearchEngineOptimization #SEOjobs #SEOcareers #HiringSEO #JobOpportunity #SEOjobsearch #SEOjobopening #DigitalMarketingJobs #JobSeekers #JobSearch #JobHunting #CareerOpportunity #EmploymentOpportunity #JobPosting #LinkedInJobs #LinkedInNetworking #JobMarket #JobSeeking #JobSearchTips #JobSeekersNetwork #JobTips #JobSeekersAdvice #CareerDevelopment #ProfessionalNetworking #JobOpportunities\n",
      "\n",
      "\n"
     ]
    }
   ],
   "source": [
    "for i in range(n_topics):\n",
    "    doc_id = np.argmax(topics[:, i])\n",
    "    print(\"Тема \", i)\n",
    "    print(df.iloc[doc_id][\"post\"])\n",
    "    print(\"\\n\")"
   ]
  },
  {
   "cell_type": "code",
   "execution_count": null,
   "id": "fe966ec5",
   "metadata": {},
   "outputs": [],
   "source": []
  }
 ],
 "metadata": {
  "kernelspec": {
   "display_name": "Python 3 (ipykernel)",
   "language": "python",
   "name": "python3"
  },
  "language_info": {
   "codemirror_mode": {
    "name": "ipython",
    "version": 3
   },
   "file_extension": ".py",
   "mimetype": "text/x-python",
   "name": "python",
   "nbconvert_exporter": "python",
   "pygments_lexer": "ipython3",
   "version": "3.10.9"
  },
  "toc": {
   "base_numbering": 1,
   "nav_menu": {},
   "number_sections": true,
   "sideBar": true,
   "skip_h1_title": false,
   "title_cell": "Table of Contents",
   "title_sidebar": "Contents",
   "toc_cell": false,
   "toc_position": {
    "height": "calc(100% - 180px)",
    "left": "10px",
    "top": "150px",
    "width": "374.391px"
   },
   "toc_section_display": true,
   "toc_window_display": false
  },
  "varInspector": {
   "cols": {
    "lenName": 16,
    "lenType": 16,
    "lenVar": 40
   },
   "kernels_config": {
    "python": {
     "delete_cmd_postfix": "",
     "delete_cmd_prefix": "del ",
     "library": "var_list.py",
     "varRefreshCmd": "print(var_dic_list())"
    },
    "r": {
     "delete_cmd_postfix": ") ",
     "delete_cmd_prefix": "rm(",
     "library": "var_list.r",
     "varRefreshCmd": "cat(var_dic_list()) "
    }
   },
   "types_to_exclude": [
    "module",
    "function",
    "builtin_function_or_method",
    "instance",
    "_Feature"
   ],
   "window_display": false
  }
 },
 "nbformat": 4,
 "nbformat_minor": 5
}
