{
 "cells": [
  {
   "cell_type": "markdown",
   "id": "ca874eb4",
   "metadata": {},
   "source": [
    "# Подключение библиотеки"
   ]
  },
  {
   "cell_type": "code",
   "execution_count": 1,
   "id": "8cca673a",
   "metadata": {},
   "outputs": [],
   "source": [
    "import pandas as pd\n",
    "import numpy as np\n",
    "import matplotlib.pyplot as plt\n",
    "import seaborn as sb\n",
    "\n",
    "import os\n",
    "\n",
    "import re\n",
    "import pymorphy2\n",
    "import nltk\n",
    "from nltk.corpus import stopwords\n",
    "\n",
    "from sklearn.decomposition import LatentDirichletAllocation\n",
    "from sklearn.feature_extraction.text import TfidfVectorizer\n",
    "\n",
    "pd.set_option('display.max_rows', None)\n",
    "pd.set_option('display.max_columns', None)\n",
    "pd.set_option('display.max_colwidth', None)"
   ]
  },
  {
   "cell_type": "code",
   "execution_count": 2,
   "id": "f7148a44",
   "metadata": {},
   "outputs": [],
   "source": [
    "# задаем директорию\n",
    "file_path = '../datasets/'"
   ]
  },
  {
   "cell_type": "markdown",
   "id": "2c0b635f",
   "metadata": {},
   "source": [
    "# Датасеты команды"
   ]
  },
  {
   "cell_type": "markdown",
   "id": "8de27d27",
   "metadata": {},
   "source": [
    "## Датасет команды 2"
   ]
  },
  {
   "cell_type": "code",
   "execution_count": 3,
   "id": "5748e673",
   "metadata": {},
   "outputs": [],
   "source": [
    "dataset_from_team_2 = pd.read_csv(os.path.join(file_path, 'dataset_from_team_2.csv'), index_col=0)"
   ]
  },
  {
   "cell_type": "code",
   "execution_count": 4,
   "id": "93faa068",
   "metadata": {},
   "outputs": [
    {
     "name": "stdout",
     "output_type": "stream",
     "text": [
      "<class 'pandas.core.frame.DataFrame'>\n",
      "Index: 9004 entries, 0 to 9003\n",
      "Data columns (total 6 columns):\n",
      " #   Column     Non-Null Count  Dtype \n",
      "---  ------     --------------  ----- \n",
      " 0   url        9004 non-null   object\n",
      " 1   text       9004 non-null   object\n",
      " 2   user_head  9004 non-null   object\n",
      " 3   likes      9004 non-null   object\n",
      " 4   comments   9004 non-null   int64 \n",
      " 5   reposts    9004 non-null   int64 \n",
      "dtypes: int64(2), object(4)\n",
      "memory usage: 492.4+ KB\n"
     ]
    }
   ],
   "source": [
    "dataset_from_team_2.info()"
   ]
  },
  {
   "cell_type": "code",
   "execution_count": 5,
   "id": "ff9edde0",
   "metadata": {},
   "outputs": [],
   "source": [
    "# Преобразование в другой тип\n",
    "dataset_from_team_2['likes'] = dataset_from_team_2['likes'].str.replace(',', '.')\n",
    "\n",
    "dataset_from_team_2['likes'] = dataset_from_team_2['likes'].astype(float)"
   ]
  },
  {
   "cell_type": "code",
   "execution_count": 6,
   "id": "2781b833",
   "metadata": {},
   "outputs": [
    {
     "data": {
      "text/plain": [
       "72"
      ]
     },
     "execution_count": 6,
     "metadata": {},
     "output_type": "execute_result"
    }
   ],
   "source": [
    "# Проверим на наличие дубликатов \n",
    "dataset_from_team_2.duplicated().sum()"
   ]
  },
  {
   "cell_type": "code",
   "execution_count": 7,
   "id": "a82a3847",
   "metadata": {},
   "outputs": [],
   "source": [
    "# Устраняем их\n",
    "dataset_from_team_2.drop_duplicates(inplace=True)"
   ]
  },
  {
   "cell_type": "code",
   "execution_count": 8,
   "id": "052049a2",
   "metadata": {},
   "outputs": [
    {
     "data": {
      "text/plain": [
       "url          0\n",
       "text         0\n",
       "user_head    0\n",
       "likes        0\n",
       "comments     0\n",
       "reposts      0\n",
       "dtype: int64"
      ]
     },
     "execution_count": 8,
     "metadata": {},
     "output_type": "execute_result"
    }
   ],
   "source": [
    "# Проверка на пропущенные значения\n",
    "dataset_from_team_2.isna().sum()"
   ]
  },
  {
   "cell_type": "code",
   "execution_count": 9,
   "id": "f2fbe239",
   "metadata": {
    "scrolled": true
   },
   "outputs": [
    {
     "data": {
      "text/html": [
       "<div>\n",
       "<style scoped>\n",
       "    .dataframe tbody tr th:only-of-type {\n",
       "        vertical-align: middle;\n",
       "    }\n",
       "\n",
       "    .dataframe tbody tr th {\n",
       "        vertical-align: top;\n",
       "    }\n",
       "\n",
       "    .dataframe thead th {\n",
       "        text-align: right;\n",
       "    }\n",
       "</style>\n",
       "<table border=\"1\" class=\"dataframe\">\n",
       "  <thead>\n",
       "    <tr style=\"text-align: right;\">\n",
       "      <th></th>\n",
       "      <th>url</th>\n",
       "      <th>text</th>\n",
       "      <th>user_head</th>\n",
       "      <th>likes</th>\n",
       "      <th>comments</th>\n",
       "      <th>reposts</th>\n",
       "    </tr>\n",
       "  </thead>\n",
       "  <tbody>\n",
       "    <tr>\n",
       "      <th>0</th>\n",
       "      <td>https://www.linkedin.com/in/ali-wodan/recent-activity/all/</td>\n",
       "      <td>Кстати говоря. Теперь подкаст Миражи доступен в соцсети Вконтакте: https://lnkd.in/gKkrJX9Я наконец разобрался как туда прикрутить RSS :-) #podcast #миражи</td>\n",
       "      <td>Head of Design</td>\n",
       "      <td>1.0</td>\n",
       "      <td>0</td>\n",
       "      <td>0</td>\n",
       "    </tr>\n",
       "    <tr>\n",
       "      <th>1</th>\n",
       "      <td>https://www.linkedin.com/in/ali-wodan/recent-activity/all/</td>\n",
       "      <td>I’m #hiring. Know anyone who might be interested?</td>\n",
       "      <td>Head of Design</td>\n",
       "      <td>1.0</td>\n",
       "      <td>0</td>\n",
       "      <td>0</td>\n",
       "    </tr>\n",
       "    <tr>\n",
       "      <th>2</th>\n",
       "      <td>https://www.linkedin.com/in/ali-wodan/recent-activity/all/</td>\n",
       "      <td>Хэй честной народ! Ищу векторного иллюстратора на проект, с возможным длительным сотрудничеством по итогу. Можно удаленно. Уровень иллюстраций не хуже чем в примере https://lnkd.in/gkrvhxYРепост, пожалуйста)Если ты умеешь так рисовать, напиши мне в личку :-)Hey! I am looking for an Illustrator who can help us with a project! You need to have skills like in the example below or upper. Text me to discuss prices and due :-)#вакансия #vacancy #illustration #иллюстрация #project #проект</td>\n",
       "      <td>Head of Design</td>\n",
       "      <td>6.0</td>\n",
       "      <td>0</td>\n",
       "      <td>0</td>\n",
       "    </tr>\n",
       "    <tr>\n",
       "      <th>3</th>\n",
       "      <td>https://www.linkedin.com/in/ali-wodan/recent-activity/all/</td>\n",
       "      <td>Новый пост подкаста \"Миражи\" на всех платформах:В аудио: https://lnkd.in/giWuSVNВ инстаграме: https://lnkd.in/gbV6yxKН #automotive # # #cars #а патреоне: https://lnkd.in/gfShqTU#саморазвитие #психология #психологиячеловека #психологияжизни #психологияличности #личностныйрост #подкаст #подкастмиражи #маркетинг #осознанность #мысли #мысливслух #установки #влияние #подсознаниеИспользованные звуки, музыка и картинки:Аудиоцитата из фильма \"Формула любви\" Марка ЗахароваJardins du Luxembourg by Jahzzar is licensed under a Attribution-ShareAlike 3.0 International License.prisoner by Luis Prado from the Noun Project</td>\n",
       "      <td>Head of Design</td>\n",
       "      <td>1.0</td>\n",
       "      <td>0</td>\n",
       "      <td>0</td>\n",
       "    </tr>\n",
       "    <tr>\n",
       "      <th>4</th>\n",
       "      <td>https://www.linkedin.com/in/ali-wodan/recent-activity/all/</td>\n",
       "      <td>Подкаст Миражи, Эпизод 13Ошибка невозвратных затратpodcast.ru/1539345144#подкаст #podcast #it #podcasts #psychology #психология #miragespodcast</td>\n",
       "      <td>Head of Design</td>\n",
       "      <td>2.0</td>\n",
       "      <td>0</td>\n",
       "      <td>0</td>\n",
       "    </tr>\n",
       "  </tbody>\n",
       "</table>\n",
       "</div>"
      ],
      "text/plain": [
       "                                                          url  \\\n",
       "0  https://www.linkedin.com/in/ali-wodan/recent-activity/all/   \n",
       "1  https://www.linkedin.com/in/ali-wodan/recent-activity/all/   \n",
       "2  https://www.linkedin.com/in/ali-wodan/recent-activity/all/   \n",
       "3  https://www.linkedin.com/in/ali-wodan/recent-activity/all/   \n",
       "4  https://www.linkedin.com/in/ali-wodan/recent-activity/all/   \n",
       "\n",
       "                                                                                                                                                                                                                                                                                                                                                                                                                                                                                                                                                                                                                                     text  \\\n",
       "0                                                                                                                                                                                                                                                                                                                                                                                                                                                                             Кстати говоря. Теперь подкаст Миражи доступен в соцсети Вконтакте: https://lnkd.in/gKkrJX9Я наконец разобрался как туда прикрутить RSS :-) #podcast #миражи   \n",
       "1                                                                                                                                                                                                                                                                                                                                                                                                                                                                                                                                                                                       I’m #hiring. Know anyone who might be interested?   \n",
       "2                                                                                                                                  Хэй честной народ! Ищу векторного иллюстратора на проект, с возможным длительным сотрудничеством по итогу. Можно удаленно. Уровень иллюстраций не хуже чем в примере https://lnkd.in/gkrvhxYРепост, пожалуйста)Если ты умеешь так рисовать, напиши мне в личку :-)Hey! I am looking for an Illustrator who can help us with a project! You need to have skills like in the example below or upper. Text me to discuss prices and due :-)#вакансия #vacancy #illustration #иллюстрация #project #проект   \n",
       "3  Новый пост подкаста \"Миражи\" на всех платформах:В аудио: https://lnkd.in/giWuSVNВ инстаграме: https://lnkd.in/gbV6yxKН #automotive # # #cars #а патреоне: https://lnkd.in/gfShqTU#саморазвитие #психология #психологиячеловека #психологияжизни #психологияличности #личностныйрост #подкаст #подкастмиражи #маркетинг #осознанность #мысли #мысливслух #установки #влияние #подсознаниеИспользованные звуки, музыка и картинки:Аудиоцитата из фильма \"Формула любви\" Марка ЗахароваJardins du Luxembourg by Jahzzar is licensed under a Attribution-ShareAlike 3.0 International License.prisoner by Luis Prado from the Noun Project   \n",
       "4                                                                                                                                                                                                                                                                                                                                                                                                                                                                                         Подкаст Миражи, Эпизод 13Ошибка невозвратных затратpodcast.ru/1539345144#подкаст #podcast #it #podcasts #psychology #психология #miragespodcast   \n",
       "\n",
       "        user_head  likes  comments  reposts  \n",
       "0  Head of Design    1.0         0        0  \n",
       "1  Head of Design    1.0         0        0  \n",
       "2  Head of Design    6.0         0        0  \n",
       "3  Head of Design    1.0         0        0  \n",
       "4  Head of Design    2.0         0        0  "
      ]
     },
     "metadata": {},
     "output_type": "display_data"
    },
    {
     "data": {
      "text/html": [
       "<div>\n",
       "<style scoped>\n",
       "    .dataframe tbody tr th:only-of-type {\n",
       "        vertical-align: middle;\n",
       "    }\n",
       "\n",
       "    .dataframe tbody tr th {\n",
       "        vertical-align: top;\n",
       "    }\n",
       "\n",
       "    .dataframe thead th {\n",
       "        text-align: right;\n",
       "    }\n",
       "</style>\n",
       "<table border=\"1\" class=\"dataframe\">\n",
       "  <thead>\n",
       "    <tr style=\"text-align: right;\">\n",
       "      <th></th>\n",
       "      <th>url</th>\n",
       "      <th>text</th>\n",
       "      <th>user_head</th>\n",
       "      <th>likes</th>\n",
       "      <th>comments</th>\n",
       "      <th>reposts</th>\n",
       "    </tr>\n",
       "  </thead>\n",
       "  <tbody>\n",
       "    <tr>\n",
       "      <th>8999</th>\n",
       "      <td>https://www.linkedin.com/in/mykhailo-yurchernko/recent-activity/all/</td>\n",
       "      <td>Hello.  Really liked the post.  There are many design principles, and there are many different layouts.  This cheat sheet is great.  I decided to share with you.  I wish everyone peace and goodness#Market #Cloth #online #store #shop #Cloth #Market #Ecommerce #work #learning #design #onlineclasses #online #color #red #darkmode #elearning #crypto #marketplace #blockchain #design #minimal #cryptocurrency #nft #webdesign #trendyui #web3 #nfts #brand #psychology#fintech #paymentgateway #paymentsecurity #onlineearning#realestate #property #buysell #renthouse #money #blue #home#realestatecompany #realeastate #builder #building #agenceweb#digitalagency #agencywork #agency #digital #homepage#google #googleuxdesign #userexperience #uxdesign #uxdesign #googlecertification #uxdesign #learningexperiencedesign #figma #adobexd #userresearch #uidesign #designcommunity #ux #designer #design #web3design #skills #skill #productdesign #product #processes #restaurant #opencloud #animation#resources #resourcesharing #color #colour #font #ui #ux #uxui #webdesign #webdeveloper #figma #adobeXD #sketch #photoshop #webdesigner #designinspiration #interface #website #behance #dribbble #javascript #graphicdesign #userexperience #userinterface #css #appdesign #design #html #uidesign #webdesigner #uxdesign #webdevelopment #websitedesign #uxtrends #uiuxdesigner #userinterface #designtips #webdeveloper #uxinspiration #uiuxdesign #uxresearch #dailydesign #landingpage #designchallenge #uiinspiration #wireframe #webdesigner #website #interface #uitrends #designinspiration #dailyui #productdesign #uxuidesign #creative #uxlearn #uilearn #uiuxlearn #bitcoin #cryptocurrency #crypto #blockchain #ethereum #cryptocurrency #Softui #glassmorphism #NFTs #SoftwareDeveloper #InternationalSpaceStation #Windows #Webflow #android #apple #checklist #font #rule #adobefigma #nocodeplatform #nocode #webflow #fashion #commerce #ui8#shoppinglanding #commerce #shopify #email</td>\n",
       "      <td>UX/UI Designer</td>\n",
       "      <td>1.0</td>\n",
       "      <td>0</td>\n",
       "      <td>0</td>\n",
       "    </tr>\n",
       "    <tr>\n",
       "      <th>9000</th>\n",
       "      <td>https://www.linkedin.com/in/mykhailo-yurchernko/recent-activity/all/</td>\n",
       "      <td>Hi friends.🙂👋This is my new website.  Come to visit.🌎👨🏻‍💻 https://mikedesign.pro/Good mood and peace to everyone!#warinukraine #design #app #ukraine #uidesign #apple #art #ux #freelance #ui #kyiv #interiordesign #userinterface #macbook #workplace #mykolaiv #stopwarinukraine #lending #appdesign #easymac #дизайн #phone #kiev #Imlookingforajob #interface #designer #behance #iphone13 #figma #userexperience</td>\n",
       "      <td>UX/UI Designer</td>\n",
       "      <td>2.0</td>\n",
       "      <td>0</td>\n",
       "      <td>0</td>\n",
       "    </tr>\n",
       "    <tr>\n",
       "      <th>9001</th>\n",
       "      <td>https://www.linkedin.com/in/mykhailo-yurchernko/recent-activity/all/</td>\n",
       "      <td>Happy Defender of Ukraine Day!🇺🇦Thank you for what you do! Peace to all!🌐🇺🇦🙋‍♂️#warinukraine #design #app #ukraine #uidesign #glorytoukraine #art #ux #freelance #ui #kyiv #interiordesign #userinterface #itinukraine #workplace #kyiv #stopwarinukraine #lending #appdesign #easymac #дизайн #phone #kiev #stopwar #interface #designer #behance #iphone13 #figma #userexperience</td>\n",
       "      <td>UX/UI Designer</td>\n",
       "      <td>2.0</td>\n",
       "      <td>0</td>\n",
       "      <td>0</td>\n",
       "    </tr>\n",
       "    <tr>\n",
       "      <th>9002</th>\n",
       "      <td>https://www.linkedin.com/in/mykhailo-yurchernko/recent-activity/all/</td>\n",
       "      <td>Hi friends.  My old website crashed due to poor hosting.  I am posting a link to a new website - which is under development.My advice to you if you yourself connect a website through WordPress:1. Deal with the most important plugins for the security, speed and vitality of the site.  No need to install many plugins - only the most necessary! 2. Login and password should not be banal and easy to guess - \"admin\" or \"something related to your name\". 3. The content should be light - no photos higher than 400 kb. 4. Update plugins and WordPress - whatever you are hacked. 5. Choose a secure hosting and domain (you must register on the services where you buy). 6. If possible, consult with friends or professionals who are stronger than you in this activity. I am very grateful to Serhii and the Solvedfast studio for their help and the opportunity to convey information about me to my clients.😎👏 All the best and Peace!🙋‍♂️🇺🇦🌎https://mikedesign.pro/ #wordpress #development #security #ux #ui #designer #webdesigner #graphicdesigner #productdesigner #uxuidesigner</td>\n",
       "      <td>UX/UI Designer</td>\n",
       "      <td>0.0</td>\n",
       "      <td>0</td>\n",
       "      <td>0</td>\n",
       "    </tr>\n",
       "    <tr>\n",
       "      <th>9003</th>\n",
       "      <td>https://www.linkedin.com/in/mykhailo-yurchernko/recent-activity/all/</td>\n",
       "      <td>https://lnkd.in/eAdWtSzc</td>\n",
       "      <td>UX/UI Designer</td>\n",
       "      <td>0.0</td>\n",
       "      <td>0</td>\n",
       "      <td>0</td>\n",
       "    </tr>\n",
       "  </tbody>\n",
       "</table>\n",
       "</div>"
      ],
      "text/plain": [
       "                                                                       url  \\\n",
       "8999  https://www.linkedin.com/in/mykhailo-yurchernko/recent-activity/all/   \n",
       "9000  https://www.linkedin.com/in/mykhailo-yurchernko/recent-activity/all/   \n",
       "9001  https://www.linkedin.com/in/mykhailo-yurchernko/recent-activity/all/   \n",
       "9002  https://www.linkedin.com/in/mykhailo-yurchernko/recent-activity/all/   \n",
       "9003  https://www.linkedin.com/in/mykhailo-yurchernko/recent-activity/all/   \n",
       "\n",
       "                                                                                                                                                                                                                                                                                                                                                                                                                                                                                                                                                                                                                                                                                                                                                                                                                                                                                                                                                                                                                                                                                                                                                                                                                                                                                                                                                                                                                                                                                                                                                                                                                                                                                                                                                                                                                                                                                                                                                                                                                                 text  \\\n",
       "8999  Hello.  Really liked the post.  There are many design principles, and there are many different layouts.  This cheat sheet is great.  I decided to share with you.  I wish everyone peace and goodness#Market #Cloth #online #store #shop #Cloth #Market #Ecommerce #work #learning #design #onlineclasses #online #color #red #darkmode #elearning #crypto #marketplace #blockchain #design #minimal #cryptocurrency #nft #webdesign #trendyui #web3 #nfts #brand #psychology#fintech #paymentgateway #paymentsecurity #onlineearning#realestate #property #buysell #renthouse #money #blue #home#realestatecompany #realeastate #builder #building #agenceweb#digitalagency #agencywork #agency #digital #homepage#google #googleuxdesign #userexperience #uxdesign #uxdesign #googlecertification #uxdesign #learningexperiencedesign #figma #adobexd #userresearch #uidesign #designcommunity #ux #designer #design #web3design #skills #skill #productdesign #product #processes #restaurant #opencloud #animation#resources #resourcesharing #color #colour #font #ui #ux #uxui #webdesign #webdeveloper #figma #adobeXD #sketch #photoshop #webdesigner #designinspiration #interface #website #behance #dribbble #javascript #graphicdesign #userexperience #userinterface #css #appdesign #design #html #uidesign #webdesigner #uxdesign #webdevelopment #websitedesign #uxtrends #uiuxdesigner #userinterface #designtips #webdeveloper #uxinspiration #uiuxdesign #uxresearch #dailydesign #landingpage #designchallenge #uiinspiration #wireframe #webdesigner #website #interface #uitrends #designinspiration #dailyui #productdesign #uxuidesign #creative #uxlearn #uilearn #uiuxlearn #bitcoin #cryptocurrency #crypto #blockchain #ethereum #cryptocurrency #Softui #glassmorphism #NFTs #SoftwareDeveloper #InternationalSpaceStation #Windows #Webflow #android #apple #checklist #font #rule #adobefigma #nocodeplatform #nocode #webflow #fashion #commerce #ui8#shoppinglanding #commerce #shopify #email   \n",
       "9000                                                                                                                                                                                                                                                                                                                                                                                                                                                                                                                                                                                                                                                                                                                                                                                                                                                                                                                                                                                                                                                                                                                                                                                                                                                                                                                                                                                                                                                                                                                                                                                                            Hi friends.🙂👋This is my new website.  Come to visit.🌎👨🏻‍💻 https://mikedesign.pro/Good mood and peace to everyone!#warinukraine #design #app #ukraine #uidesign #apple #art #ux #freelance #ui #kyiv #interiordesign #userinterface #macbook #workplace #mykolaiv #stopwarinukraine #lending #appdesign #easymac #дизайн #phone #kiev #Imlookingforajob #interface #designer #behance #iphone13 #figma #userexperience   \n",
       "9001                                                                                                                                                                                                                                                                                                                                                                                                                                                                                                                                                                                                                                                                                                                                                                                                                                                                                                                                                                                                                                                                                                                                                                                                                                                                                                                                                                                                                                                                                                                                                                                                                                              Happy Defender of Ukraine Day!🇺🇦Thank you for what you do! Peace to all!🌐🇺🇦🙋‍♂️#warinukraine #design #app #ukraine #uidesign #glorytoukraine #art #ux #freelance #ui #kyiv #interiordesign #userinterface #itinukraine #workplace #kyiv #stopwarinukraine #lending #appdesign #easymac #дизайн #phone #kiev #stopwar #interface #designer #behance #iphone13 #figma #userexperience   \n",
       "9002                                                                                                                                                                                                                                                                                                                                                                                                                                                                                                                                                                                                                                                                                                                                                                                                                                                                                                                          Hi friends.  My old website crashed due to poor hosting.  I am posting a link to a new website - which is under development.My advice to you if you yourself connect a website through WordPress:1. Deal with the most important plugins for the security, speed and vitality of the site.  No need to install many plugins - only the most necessary! 2. Login and password should not be banal and easy to guess - \"admin\" or \"something related to your name\". 3. The content should be light - no photos higher than 400 kb. 4. Update plugins and WordPress - whatever you are hacked. 5. Choose a secure hosting and domain (you must register on the services where you buy). 6. If possible, consult with friends or professionals who are stronger than you in this activity. I am very grateful to Serhii and the Solvedfast studio for their help and the opportunity to convey information about me to my clients.😎👏 All the best and Peace!🙋‍♂️🇺🇦🌎https://mikedesign.pro/ #wordpress #development #security #ux #ui #designer #webdesigner #graphicdesigner #productdesigner #uxuidesigner   \n",
       "9003                                                                                                                                                                                                                                                                                                                                                                                                                                                                                                                                                                                                                                                                                                                                                                                                                                                                                                                                                                                                                                                                                                                                                                                                                                                                                                                                                                                                                                                                                                                                                                                                                                                                                                                                                                                                                                                                                                                                                                                                         https://lnkd.in/eAdWtSzc   \n",
       "\n",
       "           user_head  likes  comments  reposts  \n",
       "8999  UX/UI Designer    1.0         0        0  \n",
       "9000  UX/UI Designer    2.0         0        0  \n",
       "9001  UX/UI Designer    2.0         0        0  \n",
       "9002  UX/UI Designer    0.0         0        0  \n",
       "9003  UX/UI Designer    0.0         0        0  "
      ]
     },
     "metadata": {},
     "output_type": "display_data"
    }
   ],
   "source": [
    "display(dataset_from_team_2.head())\n",
    "\n",
    "display(dataset_from_team_2.tail())"
   ]
  },
  {
   "cell_type": "markdown",
   "id": "e58032a4",
   "metadata": {},
   "source": [
    "## Датасет команды 3"
   ]
  },
  {
   "cell_type": "code",
   "execution_count": 10,
   "id": "f006c804",
   "metadata": {},
   "outputs": [],
   "source": [
    "dataset_from_team_3 = pd.read_csv(os.path.join(file_path, 'dataset_from_team_3.csv'), index_col=0)"
   ]
  },
  {
   "cell_type": "code",
   "execution_count": 11,
   "id": "a77b3fd3",
   "metadata": {},
   "outputs": [
    {
     "name": "stdout",
     "output_type": "stream",
     "text": [
      "<class 'pandas.core.frame.DataFrame'>\n",
      "Index: 304 entries, 0 to 487\n",
      "Data columns (total 8 columns):\n",
      " #   Column        Non-Null Count  Dtype  \n",
      "---  ------        --------------  -----  \n",
      " 0   name          304 non-null    object \n",
      " 1   status        304 non-null    object \n",
      " 2   company       304 non-null    object \n",
      " 3   url           304 non-null    object \n",
      " 4   text          304 non-null    object \n",
      " 5   likes_cnt     297 non-null    float64\n",
      " 6   reposts_cnt   304 non-null    int64  \n",
      " 7   comments_cnt  304 non-null    int64  \n",
      "dtypes: float64(1), int64(2), object(5)\n",
      "memory usage: 21.4+ KB\n"
     ]
    }
   ],
   "source": [
    "dataset_from_team_3.info()"
   ]
  },
  {
   "cell_type": "code",
   "execution_count": 12,
   "id": "6c48dd3a",
   "metadata": {},
   "outputs": [
    {
     "data": {
      "text/plain": [
       "48"
      ]
     },
     "execution_count": 12,
     "metadata": {},
     "output_type": "execute_result"
    }
   ],
   "source": [
    "# Проверим на наличие дубликатов \n",
    "dataset_from_team_3.duplicated().sum()"
   ]
  },
  {
   "cell_type": "code",
   "execution_count": 13,
   "id": "36c6c7fc",
   "metadata": {},
   "outputs": [],
   "source": [
    "# Устраняем их\n",
    "dataset_from_team_3.drop_duplicates(inplace=True)"
   ]
  },
  {
   "cell_type": "code",
   "execution_count": 14,
   "id": "4d25a93c",
   "metadata": {},
   "outputs": [
    {
     "data": {
      "text/plain": [
       "name            0\n",
       "status          0\n",
       "company         0\n",
       "url             0\n",
       "text            0\n",
       "likes_cnt       7\n",
       "reposts_cnt     0\n",
       "comments_cnt    0\n",
       "dtype: int64"
      ]
     },
     "execution_count": 14,
     "metadata": {},
     "output_type": "execute_result"
    }
   ],
   "source": [
    "# Проверка на пропущенные значения\n",
    "dataset_from_team_3.isna().sum()"
   ]
  },
  {
   "cell_type": "code",
   "execution_count": 15,
   "id": "87bf96d5",
   "metadata": {},
   "outputs": [],
   "source": [
    "dataset_from_team_3 = dataset_from_team_3.rename(columns={'name': 'user_name', 'status': 'user_head', 'company': 'user_work', 'likes_cnt': 'likes', 'reposts_cnt': 'reposts', 'comments_cnt': 'comments'})"
   ]
  },
  {
   "cell_type": "code",
   "execution_count": 16,
   "id": "23c31dca",
   "metadata": {
    "scrolled": true
   },
   "outputs": [
    {
     "data": {
      "text/html": [
       "<div>\n",
       "<style scoped>\n",
       "    .dataframe tbody tr th:only-of-type {\n",
       "        vertical-align: middle;\n",
       "    }\n",
       "\n",
       "    .dataframe tbody tr th {\n",
       "        vertical-align: top;\n",
       "    }\n",
       "\n",
       "    .dataframe thead th {\n",
       "        text-align: right;\n",
       "    }\n",
       "</style>\n",
       "<table border=\"1\" class=\"dataframe\">\n",
       "  <thead>\n",
       "    <tr style=\"text-align: right;\">\n",
       "      <th></th>\n",
       "      <th>user_name</th>\n",
       "      <th>user_head</th>\n",
       "      <th>user_work</th>\n",
       "      <th>url</th>\n",
       "      <th>text</th>\n",
       "      <th>likes</th>\n",
       "      <th>reposts</th>\n",
       "      <th>comments</th>\n",
       "    </tr>\n",
       "  </thead>\n",
       "  <tbody>\n",
       "    <tr>\n",
       "      <th>0</th>\n",
       "      <td>Michil Egorov</td>\n",
       "      <td>Middle Software Engineer - Yandex</td>\n",
       "      <td>Yandex</td>\n",
       "      <td>https://www.linkedin.com/in/michilegorov</td>\n",
       "      <td>Всем привет!Выпустил свою первую статью на хабр!https://lnkd.in/dt9N6D7BСтатья про историю и технологии разработки игры https://guess-word.com и как мы создали игру с элементами машинного обучения и вышли в ноль за 2 месяцаПри внимательном прочтении вы даже сможете запустить первую версию игры!</td>\n",
       "      <td>17.0</td>\n",
       "      <td>0</td>\n",
       "      <td>0</td>\n",
       "    </tr>\n",
       "    <tr>\n",
       "      <th>1</th>\n",
       "      <td>Michil Egorov</td>\n",
       "      <td>Middle Software Engineer - Yandex</td>\n",
       "      <td>Yandex</td>\n",
       "      <td>https://www.linkedin.com/in/michilegorov</td>\n",
       "      <td>Если вам интересно позалипать в слова, я запустил игру!https://guess-word.com/Особенно понравится братьям NLP-шникам)</td>\n",
       "      <td>6.0</td>\n",
       "      <td>0</td>\n",
       "      <td>2</td>\n",
       "    </tr>\n",
       "    <tr>\n",
       "      <th>2</th>\n",
       "      <td>Michil Egorov</td>\n",
       "      <td>Middle Software Engineer - Yandex</td>\n",
       "      <td>Yandex</td>\n",
       "      <td>https://www.linkedin.com/in/michilegorov</td>\n",
       "      <td>Если вам интересно позалипать в слова, я запустил игру!https://guess-word.com/Особенно понравится братьям NLP-шникам)</td>\n",
       "      <td>17.0</td>\n",
       "      <td>6</td>\n",
       "      <td>0</td>\n",
       "    </tr>\n",
       "    <tr>\n",
       "      <th>3</th>\n",
       "      <td>Michil Egorov</td>\n",
       "      <td>Middle Software Engineer - Yandex</td>\n",
       "      <td>Yandex</td>\n",
       "      <td>https://www.linkedin.com/in/michilegorov</td>\n",
       "      <td>Hi everyone - I am looking for a new role and would appreciate your support. Thank you in advance for any connections, advice, or opportunities you can offer. #OpenToWork</td>\n",
       "      <td>2.0</td>\n",
       "      <td>0</td>\n",
       "      <td>0</td>\n",
       "    </tr>\n",
       "    <tr>\n",
       "      <th>4</th>\n",
       "      <td>Diana Bogdanova</td>\n",
       "      <td>IT Recruiter</td>\n",
       "      <td>X5 Digital</td>\n",
       "      <td>https://www.linkedin.com/in/diana-bogdanova-026860206</td>\n",
       "      <td>I’m happy to share that I’m starting a new position as an IT Recruiter!</td>\n",
       "      <td>34.0</td>\n",
       "      <td>0</td>\n",
       "      <td>5</td>\n",
       "    </tr>\n",
       "  </tbody>\n",
       "</table>\n",
       "</div>"
      ],
      "text/plain": [
       "         user_name                          user_head   user_work  \\\n",
       "0    Michil Egorov  Middle Software Engineer - Yandex      Yandex   \n",
       "1    Michil Egorov  Middle Software Engineer - Yandex      Yandex   \n",
       "2    Michil Egorov  Middle Software Engineer - Yandex      Yandex   \n",
       "3    Michil Egorov  Middle Software Engineer - Yandex      Yandex   \n",
       "4  Diana Bogdanova                       IT Recruiter  X5 Digital   \n",
       "\n",
       "                                                     url  \\\n",
       "0               https://www.linkedin.com/in/michilegorov   \n",
       "1               https://www.linkedin.com/in/michilegorov   \n",
       "2               https://www.linkedin.com/in/michilegorov   \n",
       "3               https://www.linkedin.com/in/michilegorov   \n",
       "4  https://www.linkedin.com/in/diana-bogdanova-026860206   \n",
       "\n",
       "                                                                                                                                                                                                                                                                                                      text  \\\n",
       "0  Всем привет!Выпустил свою первую статью на хабр!https://lnkd.in/dt9N6D7BСтатья про историю и технологии разработки игры https://guess-word.com и как мы создали игру с элементами машинного обучения и вышли в ноль за 2 месяцаПри внимательном прочтении вы даже сможете запустить первую версию игры!   \n",
       "1                                                                                                                                                                                    Если вам интересно позалипать в слова, я запустил игру!https://guess-word.com/Особенно понравится братьям NLP-шникам)   \n",
       "2                                                                                                                                                                                    Если вам интересно позалипать в слова, я запустил игру!https://guess-word.com/Особенно понравится братьям NLP-шникам)   \n",
       "3                                                                                                                               Hi everyone - I am looking for a new role and would appreciate your support. Thank you in advance for any connections, advice, or opportunities you can offer. #OpenToWork   \n",
       "4                                                                                                                                                                                                                                  I’m happy to share that I’m starting a new position as an IT Recruiter!   \n",
       "\n",
       "   likes  reposts  comments  \n",
       "0   17.0        0         0  \n",
       "1    6.0        0         2  \n",
       "2   17.0        6         0  \n",
       "3    2.0        0         0  \n",
       "4   34.0        0         5  "
      ]
     },
     "metadata": {},
     "output_type": "display_data"
    },
    {
     "data": {
      "text/html": [
       "<div>\n",
       "<style scoped>\n",
       "    .dataframe tbody tr th:only-of-type {\n",
       "        vertical-align: middle;\n",
       "    }\n",
       "\n",
       "    .dataframe tbody tr th {\n",
       "        vertical-align: top;\n",
       "    }\n",
       "\n",
       "    .dataframe thead th {\n",
       "        text-align: right;\n",
       "    }\n",
       "</style>\n",
       "<table border=\"1\" class=\"dataframe\">\n",
       "  <thead>\n",
       "    <tr style=\"text-align: right;\">\n",
       "      <th></th>\n",
       "      <th>user_name</th>\n",
       "      <th>user_head</th>\n",
       "      <th>user_work</th>\n",
       "      <th>url</th>\n",
       "      <th>text</th>\n",
       "      <th>likes</th>\n",
       "      <th>reposts</th>\n",
       "      <th>comments</th>\n",
       "    </tr>\n",
       "  </thead>\n",
       "  <tbody>\n",
       "    <tr>\n",
       "      <th>450</th>\n",
       "      <td>Matvey Popov</td>\n",
       "      <td>Software Engineer at Yandex</td>\n",
       "      <td>Yandex</td>\n",
       "      <td>https://www.linkedin.com/in/ma-popovv</td>\n",
       "      <td>Quote of the day. #QOTD</td>\n",
       "      <td>6.0</td>\n",
       "      <td>554</td>\n",
       "      <td>87</td>\n",
       "    </tr>\n",
       "    <tr>\n",
       "      <th>451</th>\n",
       "      <td>Matvey Popov</td>\n",
       "      <td>Software Engineer at Yandex</td>\n",
       "      <td>Yandex</td>\n",
       "      <td>https://www.linkedin.com/in/ma-popovv</td>\n",
       "      <td>How To Develop REST CRUD API Using Spring Boot?https://lnkd.in/d9i_A_qc#spring #springframework #javaspring #javaspringboot #springmvc #springboot #springdata  #springcloud #springmvc #springsecurity #java #javaprogramming #javaprogramminglanguage #javadeveloper #javadevelopment #javadevelopers #javadeveloperjobs #javabackend #javabackenddeveloper #javafullstack #javafullstackdeveloper #javadeveloper #javaprogrammer #javatraining #javaee #j2ee #j2eedeveloper #java8 #microservices #microservicesarchitecture #microservice #microservicios #javamicroservices</td>\n",
       "      <td>635.0</td>\n",
       "      <td>33</td>\n",
       "      <td>0</td>\n",
       "    </tr>\n",
       "    <tr>\n",
       "      <th>452</th>\n",
       "      <td>Matvey Popov</td>\n",
       "      <td>Software Engineer at Yandex</td>\n",
       "      <td>Yandex</td>\n",
       "      <td>https://www.linkedin.com/in/ma-popovv</td>\n",
       "      <td>I received a message from a lady who retired from working for \"a very mean tyrant boss.\" These were her words in quotations. She realizes now, that the stress, anxiety, and yelling that she endured was not worth 21 years of her life. She mentioned that his reason for running his business was always that he always did things this way since the 1980s. She wishes she was brave enough to seek better for herself.This made me think:▪️A salary does not guarantee you peace of mind. Change can be good.The most dangerous phrase is: “We’ve always  done it this way.”▪️Finding ways to improve can help you avoid regrets later.▪️Your happiness and peace are priceless. Do you agree?- Rachel Mitchell ©✔️Follow me on LinkedIn daily for inspiration and original content.🔺 It is a pleasure to connect people from all industries .You can hire me for a private 1:1 consultation &amp; to connect you.🔺Click the Network-NetWorth link at the top of my profile and let me know what you need.Send a follow request  to my private instagram: @Lady_LongevityI can connect with you there too.#rachelmitchell  my hashtag: #LadyLongevity #NetworkNetWorthx100 connecting innovative people in tech,retail, and sustainability</td>\n",
       "      <td>1.0</td>\n",
       "      <td>214</td>\n",
       "      <td>380</td>\n",
       "    </tr>\n",
       "    <tr>\n",
       "      <th>453</th>\n",
       "      <td>Matvey Popov</td>\n",
       "      <td>Software Engineer at Yandex</td>\n",
       "      <td>Yandex</td>\n",
       "      <td>https://www.linkedin.com/in/ma-popovv</td>\n",
       "      <td>My Russian speaking friends keep getting discriminated due to the language they speak. To all of my friends globally, please remember few things:1. Russian speaking does not equal Russian. There were 15 countries in the USSR. All of those countries still have Russian speaking minorities. It doesn't mean they are Russian or identify themselves as Russian. Just like Irish does not equal English or Spanish does not equal Mexican.2. Russian does not equal aggressor. None of the Russians support the war. Some just don't understand what is happening due to the limited information that they are getting. There is no free media left in Russia.3. Ukrainians also speak Russian, some just Russian. Next time you tell a Russian speaker you wont serve them, think about which side you're taking. The person approaching you might have a relative sitting in the bomb shelter right now. 4. Russian name also does not equal Russian. My name is Russian. I was born in Latvia, my parents were born is Latvia. I have Latvian, Ukrainian, Polish, Turkish, Romanian and probably many more ethnicities in me. I grew up in Ireland. My Russian surname was inherited from my great grandfather who was a pacifist, he went through the war and wouldn't ever stand by what's happening right now. Many Ukrainians have Russian surnames too. 5. The anger you're translating on to innocent people is not going to solve the problem, it's going to create more problems and hatred. There are many ways to help, but hating on others is definitely not one of the ways.#StandWithUkraine 🇺🇦</td>\n",
       "      <td>0.0</td>\n",
       "      <td>0</td>\n",
       "      <td>0</td>\n",
       "    </tr>\n",
       "    <tr>\n",
       "      <th>454</th>\n",
       "      <td>Matvey Popov</td>\n",
       "      <td>Software Engineer at Yandex</td>\n",
       "      <td>Yandex</td>\n",
       "      <td>https://www.linkedin.com/in/ma-popovv</td>\n",
       "      <td>I’m happy to share that I’m starting a new position as Software Engineer at Tinkoff !</td>\n",
       "      <td>0.0</td>\n",
       "      <td>0</td>\n",
       "      <td>0</td>\n",
       "    </tr>\n",
       "  </tbody>\n",
       "</table>\n",
       "</div>"
      ],
      "text/plain": [
       "        user_name                    user_head user_work  \\\n",
       "450  Matvey Popov  Software Engineer at Yandex    Yandex   \n",
       "451  Matvey Popov  Software Engineer at Yandex    Yandex   \n",
       "452  Matvey Popov  Software Engineer at Yandex    Yandex   \n",
       "453  Matvey Popov  Software Engineer at Yandex    Yandex   \n",
       "454  Matvey Popov  Software Engineer at Yandex    Yandex   \n",
       "\n",
       "                                       url  \\\n",
       "450  https://www.linkedin.com/in/ma-popovv   \n",
       "451  https://www.linkedin.com/in/ma-popovv   \n",
       "452  https://www.linkedin.com/in/ma-popovv   \n",
       "453  https://www.linkedin.com/in/ma-popovv   \n",
       "454  https://www.linkedin.com/in/ma-popovv   \n",
       "\n",
       "                                                                                                                                                                                                                                                                                                                                                                                                                                                                                                                                                                                                                                                                                                                                                                                                                                                                                                                                                                                                                                                                                                                                                                                                                                                                                                                                                                                                                                                                                                                                                                                                                     text  \\\n",
       "450                                                                                                                                                                                                                                                                                                                                                                                                                                                                                                                                                                                                                                                                                                                                                                                                                                                                                                                                                                                                                                                                                                                                                                                                                                                                                                                                                                                                                                                                                                                                                                                               Quote of the day. #QOTD   \n",
       "451                                                                                                                                                                                                                                                                                                                                                                                                                                                                                                                                                                                                                                                                                                                                                                                                                                                                                                                                                                                                                                      How To Develop REST CRUD API Using Spring Boot?https://lnkd.in/d9i_A_qc#spring #springframework #javaspring #javaspringboot #springmvc #springboot #springdata  #springcloud #springmvc #springsecurity #java #javaprogramming #javaprogramminglanguage #javadeveloper #javadevelopment #javadevelopers #javadeveloperjobs #javabackend #javabackenddeveloper #javafullstack #javafullstackdeveloper #javadeveloper #javaprogrammer #javatraining #javaee #j2ee #j2eedeveloper #java8 #microservices #microservicesarchitecture #microservice #microservicios #javamicroservices   \n",
       "452                                                                                                                                                                                                                                                                                                                                                                           I received a message from a lady who retired from working for \"a very mean tyrant boss.\" These were her words in quotations. She realizes now, that the stress, anxiety, and yelling that she endured was not worth 21 years of her life. She mentioned that his reason for running his business was always that he always did things this way since the 1980s. She wishes she was brave enough to seek better for herself.This made me think:▪️A salary does not guarantee you peace of mind. Change can be good.The most dangerous phrase is: “We’ve always  done it this way.”▪️Finding ways to improve can help you avoid regrets later.▪️Your happiness and peace are priceless. Do you agree?- Rachel Mitchell ©✔️Follow me on LinkedIn daily for inspiration and original content.🔺 It is a pleasure to connect people from all industries .You can hire me for a private 1:1 consultation & to connect you.🔺Click the Network-NetWorth link at the top of my profile and let me know what you need.Send a follow request  to my private instagram: @Lady_LongevityI can connect with you there too.#rachelmitchell  my hashtag: #LadyLongevity #NetworkNetWorthx100 connecting innovative people in tech,retail, and sustainability   \n",
       "453  My Russian speaking friends keep getting discriminated due to the language they speak. To all of my friends globally, please remember few things:1. Russian speaking does not equal Russian. There were 15 countries in the USSR. All of those countries still have Russian speaking minorities. It doesn't mean they are Russian or identify themselves as Russian. Just like Irish does not equal English or Spanish does not equal Mexican.2. Russian does not equal aggressor. None of the Russians support the war. Some just don't understand what is happening due to the limited information that they are getting. There is no free media left in Russia.3. Ukrainians also speak Russian, some just Russian. Next time you tell a Russian speaker you wont serve them, think about which side you're taking. The person approaching you might have a relative sitting in the bomb shelter right now. 4. Russian name also does not equal Russian. My name is Russian. I was born in Latvia, my parents were born is Latvia. I have Latvian, Ukrainian, Polish, Turkish, Romanian and probably many more ethnicities in me. I grew up in Ireland. My Russian surname was inherited from my great grandfather who was a pacifist, he went through the war and wouldn't ever stand by what's happening right now. Many Ukrainians have Russian surnames too. 5. The anger you're translating on to innocent people is not going to solve the problem, it's going to create more problems and hatred. There are many ways to help, but hating on others is definitely not one of the ways.#StandWithUkraine 🇺🇦   \n",
       "454                                                                                                                                                                                                                                                                                                                                                                                                                                                                                                                                                                                                                                                                                                                                                                                                                                                                                                                                                                                                                                                                                                                                                                                                                                                                                                                                                                                                                                                                                                                                 I’m happy to share that I’m starting a new position as Software Engineer at Tinkoff !   \n",
       "\n",
       "     likes  reposts  comments  \n",
       "450    6.0      554        87  \n",
       "451  635.0       33         0  \n",
       "452    1.0      214       380  \n",
       "453    0.0        0         0  \n",
       "454    0.0        0         0  "
      ]
     },
     "metadata": {},
     "output_type": "display_data"
    }
   ],
   "source": [
    "display(dataset_from_team_3.head())\n",
    "\n",
    "display(dataset_from_team_3.tail())"
   ]
  },
  {
   "cell_type": "markdown",
   "id": "10fcbc14",
   "metadata": {},
   "source": [
    "## Датасет команды 4"
   ]
  },
  {
   "cell_type": "code",
   "execution_count": 17,
   "id": "148caae9",
   "metadata": {},
   "outputs": [],
   "source": [
    "dataset_from_team_4 = pd.read_csv(os.path.join(file_path, 'dataset_from_team_4.csv'), delimiter=';')"
   ]
  },
  {
   "cell_type": "code",
   "execution_count": 18,
   "id": "27e2e81c",
   "metadata": {},
   "outputs": [
    {
     "name": "stdout",
     "output_type": "stream",
     "text": [
      "<class 'pandas.core.frame.DataFrame'>\n",
      "RangeIndex: 1191 entries, 0 to 1190\n",
      "Data columns (total 6 columns):\n",
      " #   Column          Non-Null Count  Dtype  \n",
      "---  ------          --------------  -----  \n",
      " 0   url_user        1191 non-null   object \n",
      " 1   name            796 non-null    object \n",
      " 2   job             796 non-null    object \n",
      " 3   text_post       796 non-null    object \n",
      " 4   react_per_user  796 non-null    object \n",
      " 5   count_comments  796 non-null    float64\n",
      "dtypes: float64(1), object(5)\n",
      "memory usage: 56.0+ KB\n"
     ]
    }
   ],
   "source": [
    "dataset_from_team_4.info()"
   ]
  },
  {
   "cell_type": "code",
   "execution_count": 19,
   "id": "142bfda4",
   "metadata": {},
   "outputs": [
    {
     "data": {
      "text/plain": [
       "84"
      ]
     },
     "execution_count": 19,
     "metadata": {},
     "output_type": "execute_result"
    }
   ],
   "source": [
    "# Проверим на наличие дубликатов \n",
    "dataset_from_team_4.duplicated().sum()"
   ]
  },
  {
   "cell_type": "code",
   "execution_count": 20,
   "id": "1ff3ec9b",
   "metadata": {},
   "outputs": [],
   "source": [
    "# Устраняем их\n",
    "dataset_from_team_4.drop_duplicates(inplace=True)"
   ]
  },
  {
   "cell_type": "code",
   "execution_count": 21,
   "id": "b472e304",
   "metadata": {},
   "outputs": [
    {
     "data": {
      "text/plain": [
       "url_user            0\n",
       "name              317\n",
       "job               317\n",
       "text_post         317\n",
       "react_per_user    317\n",
       "count_comments    317\n",
       "dtype: int64"
      ]
     },
     "execution_count": 21,
     "metadata": {},
     "output_type": "execute_result"
    }
   ],
   "source": [
    "# Проверка на пропущенные значения\n",
    "dataset_from_team_4.isna().sum()"
   ]
  },
  {
   "cell_type": "code",
   "execution_count": 22,
   "id": "37943bee",
   "metadata": {},
   "outputs": [],
   "source": [
    "# Устраняем их\n",
    "dataset_from_team_4.dropna(inplace=True)"
   ]
  },
  {
   "cell_type": "code",
   "execution_count": 23,
   "id": "cee0517b",
   "metadata": {},
   "outputs": [],
   "source": [
    "dataset_from_team_4 = dataset_from_team_4.rename(columns={'url_user': 'url', 'name': 'user_name', 'job': 'user_head', 'text_post': 'text', 'react_per_user': 'likes', 'count_comments': 'comments'})"
   ]
  },
  {
   "cell_type": "code",
   "execution_count": 24,
   "id": "1ed7726b",
   "metadata": {},
   "outputs": [],
   "source": [
    "dataset_from_team_4['likes'] = dataset_from_team_4['likes'].str.replace(\"'\", ',')\n",
    "dataset_from_team_4['likes'] = dataset_from_team_4['likes'].str.replace(\" \", '')\n",
    "dataset_from_team_4['likes'] = dataset_from_team_4['likes'].str.replace('[\\[\\]]+', '', regex=True)"
   ]
  },
  {
   "cell_type": "code",
   "execution_count": 25,
   "id": "38957381",
   "metadata": {},
   "outputs": [],
   "source": [
    "def calculate_median(row):\n",
    "    # Удаление всех символов, кроме цифр, из строки\n",
    "    numbers = ''.join(filter(str.isdigit, row))\n",
    "    \n",
    "    # Преобразование строки с числами в список целочисленных значений\n",
    "    numbers_list = list(map(int, numbers))\n",
    "    \n",
    "    # Расчет медианного значения\n",
    "    median_value = np.median(numbers_list)\n",
    "    \n",
    "    return median_value"
   ]
  },
  {
   "cell_type": "code",
   "execution_count": 26,
   "id": "36b7fc60",
   "metadata": {},
   "outputs": [
    {
     "name": "stderr",
     "output_type": "stream",
     "text": [
      "D:\\Program File\\Anaconda\\envs\\Hackathon\\lib\\site-packages\\numpy\\core\\fromnumeric.py:3504: RuntimeWarning: Mean of empty slice.\n",
      "  return _methods._mean(a, axis=axis, dtype=dtype,\n"
     ]
    }
   ],
   "source": [
    "# Применение функции к замену колонки likes на кол-во лайков\n",
    "dataset_from_team_4['likes'] = dataset_from_team_4['likes'].apply(calculate_median)"
   ]
  },
  {
   "cell_type": "code",
   "execution_count": 27,
   "id": "ab971578",
   "metadata": {},
   "outputs": [
    {
     "data": {
      "text/html": [
       "<div>\n",
       "<style scoped>\n",
       "    .dataframe tbody tr th:only-of-type {\n",
       "        vertical-align: middle;\n",
       "    }\n",
       "\n",
       "    .dataframe tbody tr th {\n",
       "        vertical-align: top;\n",
       "    }\n",
       "\n",
       "    .dataframe thead th {\n",
       "        text-align: right;\n",
       "    }\n",
       "</style>\n",
       "<table border=\"1\" class=\"dataframe\">\n",
       "  <thead>\n",
       "    <tr style=\"text-align: right;\">\n",
       "      <th></th>\n",
       "      <th>url</th>\n",
       "      <th>user_name</th>\n",
       "      <th>user_head</th>\n",
       "      <th>text</th>\n",
       "      <th>likes</th>\n",
       "      <th>comments</th>\n",
       "    </tr>\n",
       "  </thead>\n",
       "  <tbody>\n",
       "    <tr>\n",
       "      <th>0</th>\n",
       "      <td>https://www.linkedin.com/in/artem-reshetnikov-925143251/</td>\n",
       "      <td>Artem Reshetnikov</td>\n",
       "      <td>Data Analyst</td>\n",
       "      <td>['I love SQL.']</td>\n",
       "      <td>3.5</td>\n",
       "      <td>0.0</td>\n",
       "    </tr>\n",
       "    <tr>\n",
       "      <th>1</th>\n",
       "      <td>https://www.linkedin.com/in/korenevich/</td>\n",
       "      <td>Pavel Karanevich</td>\n",
       "      <td>Growth Evangelist | Entrepreneur | US Marketer | Advisor</td>\n",
       "      <td>['Приложение которое из голоса раскидывает задачи. Идея огонь!</td>\n",
       "      <td>2.0</td>\n",
       "      <td>0.0</td>\n",
       "    </tr>\n",
       "    <tr>\n",
       "      <th>4</th>\n",
       "      <td>https://www.linkedin.com/in/korenevich/</td>\n",
       "      <td>Pavel Karanevich</td>\n",
       "      <td>Growth Evangelist | Entrepreneur | US Marketer | Advisor</td>\n",
       "      <td>'Кто хорошо потрудился на этой неделетот я. Чего и вам желаю 😊</td>\n",
       "      <td>2.0</td>\n",
       "      <td>0.0</td>\n",
       "    </tr>\n",
       "    <tr>\n",
       "      <th>5</th>\n",
       "      <td>https://www.linkedin.com/in/korenevich/</td>\n",
       "      <td>Pavel Karanevich</td>\n",
       "      <td>Growth Evangelist | Entrepreneur | US Marketer | Advisor</td>\n",
       "      <td>'Сегодня была защита дипломных работ на кафедре технологического предпринимательства МФТИ. Мне посчастливилось быть научным руководителем и ментором сразу для двух фаундеров.Почему фаундеров? Потому что это не только дипломный проект. Это уже работающий хардварный девайскоторый совсем скоро увидит свет и высшая оценка диплома тому подтверждение. Тематика удивительнаяи меня очень вдохновляет: про ольфакторный дизайн что-то слышали? Погуглите обязательноесли нет. Что могу сказать про свои впечатления от менторства на кафедре: 🔥 Очень крутые преподаватели с живым опытом работы в бизнесеэто огонь просто!  💪 Студенты сильные и разносторонне развиты! 🧐 Проработка проектов очень глубокая. 👍 Организационные моменты на высоте.Сейчас работаю еще со студентами с первого курса и вижукак в процессе они загораются своей же идеей и действуют! А это тот самый путь к запуску своего проекта.В общемработать было приятно и легко. Ребят искренне поздравляю с новым этапом 🚀P.S. Волновалсякак будто бы сам защищался 😀#мфти #mipt #техпред</td>\n",
       "      <td>2.0</td>\n",
       "      <td>0.0</td>\n",
       "    </tr>\n",
       "    <tr>\n",
       "      <th>6</th>\n",
       "      <td>https://www.linkedin.com/in/korenevich/</td>\n",
       "      <td>Pavel Karanevich</td>\n",
       "      <td>Growth Evangelist | Entrepreneur | US Marketer | Advisor</td>\n",
       "      <td>'🔥Вот и приложение под iOS🔥 Очень ждал тк в мобильном браузере было неудобно.#chatgpt #openai #ios</td>\n",
       "      <td>2.0</td>\n",
       "      <td>0.0</td>\n",
       "    </tr>\n",
       "  </tbody>\n",
       "</table>\n",
       "</div>"
      ],
      "text/plain": [
       "                                                        url  \\\n",
       "0  https://www.linkedin.com/in/artem-reshetnikov-925143251/   \n",
       "1                   https://www.linkedin.com/in/korenevich/   \n",
       "4                   https://www.linkedin.com/in/korenevich/   \n",
       "5                   https://www.linkedin.com/in/korenevich/   \n",
       "6                   https://www.linkedin.com/in/korenevich/   \n",
       "\n",
       "           user_name  \\\n",
       "0  Artem Reshetnikov   \n",
       "1   Pavel Karanevich   \n",
       "4   Pavel Karanevich   \n",
       "5   Pavel Karanevich   \n",
       "6   Pavel Karanevich   \n",
       "\n",
       "                                                  user_head  \\\n",
       "0                                              Data Analyst   \n",
       "1  Growth Evangelist | Entrepreneur | US Marketer | Advisor   \n",
       "4  Growth Evangelist | Entrepreneur | US Marketer | Advisor   \n",
       "5  Growth Evangelist | Entrepreneur | US Marketer | Advisor   \n",
       "6  Growth Evangelist | Entrepreneur | US Marketer | Advisor   \n",
       "\n",
       "                                                                                                                                                                                                                                                                                                                                                                                                                                                                                                                                                                                                                                                                                                                                                                                                                                                                                                                                                                                                                                                                     text  \\\n",
       "0                                                                                                                                                                                                                                                                                                                                                                                                                                                                                                                                                                                                                                                                                                                                                                                                                                                                                                                                                                                                                                                         ['I love SQL.']   \n",
       "1                                                                                                                                                                                                                                                                                                                                                                                                                                                                                                                                                                                                                                                                                                                                                                                                                                                                                                                                                                                                          ['Приложение которое из голоса раскидывает задачи. Идея огонь!   \n",
       "4                                                                                                                                                                                                                                                                                                                                                                                                                                                                                                                                                                                                                                                                                                                                                                                                                                                                                                                                                                                                          'Кто хорошо потрудился на этой неделетот я. Чего и вам желаю 😊   \n",
       "5   'Сегодня была защита дипломных работ на кафедре технологического предпринимательства МФТИ. Мне посчастливилось быть научным руководителем и ментором сразу для двух фаундеров.Почему фаундеров? Потому что это не только дипломный проект. Это уже работающий хардварный девайскоторый совсем скоро увидит свет и высшая оценка диплома тому подтверждение. Тематика удивительнаяи меня очень вдохновляет: про ольфакторный дизайн что-то слышали? Погуглите обязательноесли нет. Что могу сказать про свои впечатления от менторства на кафедре: 🔥 Очень крутые преподаватели с живым опытом работы в бизнесеэто огонь просто!  💪 Студенты сильные и разносторонне развиты! 🧐 Проработка проектов очень глубокая. 👍 Организационные моменты на высоте.Сейчас работаю еще со студентами с первого курса и вижукак в процессе они загораются своей же идеей и действуют! А это тот самый путь к запуску своего проекта.В общемработать было приятно и легко. Ребят искренне поздравляю с новым этапом 🚀P.S. Волновалсякак будто бы сам защищался 😀#мфти #mipt #техпред   \n",
       "6                                                                                                                                                                                                                                                                                                                                                                                                                                                                                                                                                                                                                                                                                                                                                                                                                                                                                                                                                                      '🔥Вот и приложение под iOS🔥 Очень ждал тк в мобильном браузере было неудобно.#chatgpt #openai #ios   \n",
       "\n",
       "   likes  comments  \n",
       "0    3.5       0.0  \n",
       "1    2.0       0.0  \n",
       "4    2.0       0.0  \n",
       "5    2.0       0.0  \n",
       "6    2.0       0.0  "
      ]
     },
     "metadata": {},
     "output_type": "display_data"
    },
    {
     "data": {
      "text/html": [
       "<div>\n",
       "<style scoped>\n",
       "    .dataframe tbody tr th:only-of-type {\n",
       "        vertical-align: middle;\n",
       "    }\n",
       "\n",
       "    .dataframe tbody tr th {\n",
       "        vertical-align: top;\n",
       "    }\n",
       "\n",
       "    .dataframe thead th {\n",
       "        text-align: right;\n",
       "    }\n",
       "</style>\n",
       "<table border=\"1\" class=\"dataframe\">\n",
       "  <thead>\n",
       "    <tr style=\"text-align: right;\">\n",
       "      <th></th>\n",
       "      <th>url</th>\n",
       "      <th>user_name</th>\n",
       "      <th>user_head</th>\n",
       "      <th>text</th>\n",
       "      <th>likes</th>\n",
       "      <th>comments</th>\n",
       "    </tr>\n",
       "  </thead>\n",
       "  <tbody>\n",
       "    <tr>\n",
       "      <th>1186</th>\n",
       "      <td>https://www.linkedin.com/in/%D0%BE%D0%BB%D0%B5%D1%81%D1%8F-%D1%86%D0%B0%D1%80%D0%B5%D0%B3%D0%BE%D1%80%D0%BE%D0%B4%D1%86%D0%B5%D0%B2%D0%B0-748179237?miniProfileUrn=urn%3Ali%3Afs_miniProfile%3AACoAADrvc-gBOkDoqybZ93sYw_gTHsGQU27rlGw</td>\n",
       "      <td>Олеся Царегородцева</td>\n",
       "      <td>IT-researcher-Tinkoff - Looking for IOS/Android/mobile QA</td>\n",
       "      <td>'Всем приветловите дайджест вакансий для QA на этой неделе! Каждый найдет для себя что-то интересное) ▪️Инженер по тестированию (Backend) в Тинькофф Инвестиции(https://lnkd.in/gc5iB82Q) Тинькофф Инвестиции создали собственного уникального и технологичного онлайн-брокерасделали сложный финансовый продукт удобным для всех. Теперь в планах увеличить количество таких брокеров.▪️Инженер по тестированию (Mobile) в Тинькофф Мобильный Банк\\xa0(https://lnkd.in/gKEfBV-c)Мобильный Банк — это основное мобильное приложение наших клиентов для взаимодействия с экосистемой Тинькофф. Это не только банковские операцииа мобильный операторлайфстайл-помощник и многое другое.▪️Инженер по тестированию в Tinkoff Black\\xa0(https://lnkd.in/gkfvE-_b)Tinkoff Black — главный продукт в экосистеме Тинькоффкоторый является визитной карточкой. Благодаря ему происходит первое знакомство с нашей компанией и всеми продуктами.▪️Инженер по тестированию в Банковские продукты(https://lnkd.in/gNg4hv_c)Команда банковских продуктов разрабатывает продуктовую линейку для юридических лиц с нуля: РКОспецсчетадепозиты и копилкикредиты и коллекшен.Больше вакансий по этому направлению и другим смотрите на нашем карьерном сайте (https://lnkd.in/gFcmqEpQ).#дайджест_вакансий #QA_инженеры #qa #vacancy #Belarus_job</td>\n",
       "      <td>3.0</td>\n",
       "      <td>0.0</td>\n",
       "    </tr>\n",
       "    <tr>\n",
       "      <th>1187</th>\n",
       "      <td>https://www.linkedin.com/in/%D0%BE%D0%BB%D0%B5%D1%81%D1%8F-%D1%86%D0%B0%D1%80%D0%B5%D0%B3%D0%BE%D1%80%D0%BE%D0%B4%D1%86%D0%B5%D0%B2%D0%B0-748179237?miniProfileUrn=urn%3Ali%3Afs_miniProfile%3AACoAADrvc-gBOkDoqybZ93sYw_gTHsGQU27rlGw</td>\n",
       "      <td>Олеся Царегородцева</td>\n",
       "      <td>IT-researcher-Tinkoff - Looking for IOS/Android/mobile QA</td>\n",
       "      <td>'Открывается набор на осенние оплачиваемые стажировки Тинькофф Старт ⭐️Приглашаем студентов и начинающих специалистовготовых посвятить стажировке от 20 часов в неделюработать можно удаленно или из офиса Тинькофф. Отбор будет в два этапа: экзамен и собеседование с куратором выбранного направления. Стажировка оплачиваетсялучших пригласят на интервью в штат. Какие направления открыты: #аналитика#qaбэкенд-разработка (#Java#Scala#.Net#Golang)мобильная разработка (#iOS#Android)#SREфронтендмаркетинг и инвестиции. Ближе к старту программы список направлений может расшириться.Отборочные экзамены пройдут с 1 по 16 августаа выбрать направление и отправить заявку можно прямо сейчас: https://lnkd.in/e89AHqwC</td>\n",
       "      <td>3.0</td>\n",
       "      <td>0.0</td>\n",
       "    </tr>\n",
       "    <tr>\n",
       "      <th>1188</th>\n",
       "      <td>https://www.linkedin.com/in/%D0%BE%D0%BB%D0%B5%D1%81%D1%8F-%D1%86%D0%B0%D1%80%D0%B5%D0%B3%D0%BE%D1%80%D0%BE%D0%B4%D1%86%D0%B5%D0%B2%D0%B0-748179237?miniProfileUrn=urn%3Ali%3Afs_miniProfile%3AACoAADrvc-gBOkDoqybZ93sYw_gTHsGQU27rlGw</td>\n",
       "      <td>Олеся Царегородцева</td>\n",
       "      <td>IT-researcher-Tinkoff - Looking for IOS/Android/mobile QA</td>\n",
       "      <td>'Открывается набор на осенние оплачиваемые стажировки Тинькофф Старт ⭐️Приглашают студентов и начинающих специалистовготовых посвятить стажировке от 20 часов в неделюработать можно удаленно или из офиса Тинькофф. Отбор будет в два этапа: экзамен и собеседование с куратором выбранного направления. Стажировка оплачиваетсялучших пригласят на интервью в штат. Какие направления открыты: аналитикаQAбэкенд-разработка (JavaScala.NetGolang)мобильная разработка (iOSAndroid)SREфронтендмаркетинг и инвестиции. Ближе к старту программы список направлений может расшириться.Отборочные экзамены пройдут с 1 по 16 августаа выбрать направление и отправить заявку можно прямо сейчас: https://lnkd.in/etpNTYDN</td>\n",
       "      <td>3.0</td>\n",
       "      <td>0.0</td>\n",
       "    </tr>\n",
       "    <tr>\n",
       "      <th>1189</th>\n",
       "      <td>https://www.linkedin.com/in/%D0%BE%D0%BB%D0%B5%D1%81%D1%8F-%D1%86%D0%B0%D1%80%D0%B5%D0%B3%D0%BE%D1%80%D0%BE%D0%B4%D1%86%D0%B5%D0%B2%D0%B0-748179237?miniProfileUrn=urn%3Ali%3Afs_miniProfile%3AACoAADrvc-gBOkDoqybZ93sYw_gTHsGQU27rlGw</td>\n",
       "      <td>Олеся Царегородцева</td>\n",
       "      <td>IT-researcher-Tinkoff - Looking for IOS/Android/mobile QA</td>\n",
       "      <td>'Мы открываем прием заявок на осенний набор Тинькофф Старта 🌟Формат прежний: оплачиваемая стажировка с занятостью от 20 часов в неделю. Работать можно удаленно или в офисе. В зависимости от команды стажировка продлится от 3 до 6 месяцеви если все пройдет хорошо — пригласим вас на интервью в штат.Какие направления открыты: аналитикаQAбэкенд-разработка (JavaScala.NetGolang)мобильная разработка (iOSAndroid)SREфронтендмаркетинг и инвестиции. Ближе к старту программы список направлений может расшириться.Отборочные экзамены пройдут с 1 по 16 августаа выбрать направление и отправить заявку можно прямо сейчас: https://lnkd.in/e4eyiVdm</td>\n",
       "      <td>3.0</td>\n",
       "      <td>0.0</td>\n",
       "    </tr>\n",
       "    <tr>\n",
       "      <th>1190</th>\n",
       "      <td>https://www.linkedin.com/in/%D0%BE%D0%BB%D0%B5%D1%81%D1%8F-%D1%86%D0%B0%D1%80%D0%B5%D0%B3%D0%BE%D1%80%D0%BE%D0%B4%D1%86%D0%B5%D0%B2%D0%B0-748179237?miniProfileUrn=urn%3Ali%3Afs_miniProfile%3AACoAADrvc-gBOkDoqybZ93sYw_gTHsGQU27rlGw</td>\n",
       "      <td>Олеся Царегородцева</td>\n",
       "      <td>IT-researcher-Tinkoff - Looking for IOS/Android/mobile QA</td>\n",
       "      <td>'Давайте развиваться? Многие сейчас из нас сейчас ищут возможность получить больше знанийпрофессионального опытано часто бывает такчто стандартные источники уже неактуальны.Поэтомутекто работает в сфере QA или планирует в ней развиваться— IT’s Tinkoff приглашает вас на воркшоп ✨Его проведет Максим Рогожниковкоторый вместе с командой поддерживает производительность информационных систем Tinkoff. Максим научит писать тесты производительности на K6а также расскажет о его фичахкоторые помогут в нагрузочном тестировании. Воркшоп пройдет 5 июля онлайнначало в 18:00. Регистрируйтесь по ссылке:']</td>\n",
       "      <td>3.0</td>\n",
       "      <td>0.0</td>\n",
       "    </tr>\n",
       "  </tbody>\n",
       "</table>\n",
       "</div>"
      ],
      "text/plain": [
       "                                                                                                                                                                                                                                         url  \\\n",
       "1186  https://www.linkedin.com/in/%D0%BE%D0%BB%D0%B5%D1%81%D1%8F-%D1%86%D0%B0%D1%80%D0%B5%D0%B3%D0%BE%D1%80%D0%BE%D0%B4%D1%86%D0%B5%D0%B2%D0%B0-748179237?miniProfileUrn=urn%3Ali%3Afs_miniProfile%3AACoAADrvc-gBOkDoqybZ93sYw_gTHsGQU27rlGw   \n",
       "1187  https://www.linkedin.com/in/%D0%BE%D0%BB%D0%B5%D1%81%D1%8F-%D1%86%D0%B0%D1%80%D0%B5%D0%B3%D0%BE%D1%80%D0%BE%D0%B4%D1%86%D0%B5%D0%B2%D0%B0-748179237?miniProfileUrn=urn%3Ali%3Afs_miniProfile%3AACoAADrvc-gBOkDoqybZ93sYw_gTHsGQU27rlGw   \n",
       "1188  https://www.linkedin.com/in/%D0%BE%D0%BB%D0%B5%D1%81%D1%8F-%D1%86%D0%B0%D1%80%D0%B5%D0%B3%D0%BE%D1%80%D0%BE%D0%B4%D1%86%D0%B5%D0%B2%D0%B0-748179237?miniProfileUrn=urn%3Ali%3Afs_miniProfile%3AACoAADrvc-gBOkDoqybZ93sYw_gTHsGQU27rlGw   \n",
       "1189  https://www.linkedin.com/in/%D0%BE%D0%BB%D0%B5%D1%81%D1%8F-%D1%86%D0%B0%D1%80%D0%B5%D0%B3%D0%BE%D1%80%D0%BE%D0%B4%D1%86%D0%B5%D0%B2%D0%B0-748179237?miniProfileUrn=urn%3Ali%3Afs_miniProfile%3AACoAADrvc-gBOkDoqybZ93sYw_gTHsGQU27rlGw   \n",
       "1190  https://www.linkedin.com/in/%D0%BE%D0%BB%D0%B5%D1%81%D1%8F-%D1%86%D0%B0%D1%80%D0%B5%D0%B3%D0%BE%D1%80%D0%BE%D0%B4%D1%86%D0%B5%D0%B2%D0%B0-748179237?miniProfileUrn=urn%3Ali%3Afs_miniProfile%3AACoAADrvc-gBOkDoqybZ93sYw_gTHsGQU27rlGw   \n",
       "\n",
       "                user_name  \\\n",
       "1186  Олеся Царегородцева   \n",
       "1187  Олеся Царегородцева   \n",
       "1188  Олеся Царегородцева   \n",
       "1189  Олеся Царегородцева   \n",
       "1190  Олеся Царегородцева   \n",
       "\n",
       "                                                      user_head  \\\n",
       "1186  IT-researcher-Tinkoff - Looking for IOS/Android/mobile QA   \n",
       "1187  IT-researcher-Tinkoff - Looking for IOS/Android/mobile QA   \n",
       "1188  IT-researcher-Tinkoff - Looking for IOS/Android/mobile QA   \n",
       "1189  IT-researcher-Tinkoff - Looking for IOS/Android/mobile QA   \n",
       "1190  IT-researcher-Tinkoff - Looking for IOS/Android/mobile QA   \n",
       "\n",
       "                                                                                                                                                                                                                                                                                                                                                                                                                                                                                                                                                                                                                                                                                                                                                                                                                                                                                                                                                                                                                                                                                                                                                                                                                                                                                                                                    text  \\\n",
       "1186   'Всем приветловите дайджест вакансий для QA на этой неделе! Каждый найдет для себя что-то интересное) ▪️Инженер по тестированию (Backend) в Тинькофф Инвестиции(https://lnkd.in/gc5iB82Q) Тинькофф Инвестиции создали собственного уникального и технологичного онлайн-брокерасделали сложный финансовый продукт удобным для всех. Теперь в планах увеличить количество таких брокеров.▪️Инженер по тестированию (Mobile) в Тинькофф Мобильный Банк\\xa0(https://lnkd.in/gKEfBV-c)Мобильный Банк — это основное мобильное приложение наших клиентов для взаимодействия с экосистемой Тинькофф. Это не только банковские операцииа мобильный операторлайфстайл-помощник и многое другое.▪️Инженер по тестированию в Tinkoff Black\\xa0(https://lnkd.in/gkfvE-_b)Tinkoff Black — главный продукт в экосистеме Тинькоффкоторый является визитной карточкой. Благодаря ему происходит первое знакомство с нашей компанией и всеми продуктами.▪️Инженер по тестированию в Банковские продукты(https://lnkd.in/gNg4hv_c)Команда банковских продуктов разрабатывает продуктовую линейку для юридических лиц с нуля: РКОспецсчетадепозиты и копилкикредиты и коллекшен.Больше вакансий по этому направлению и другим смотрите на нашем карьерном сайте (https://lnkd.in/gFcmqEpQ).#дайджест_вакансий #QA_инженеры #qa #vacancy #Belarus_job   \n",
       "1187                                                                                                                                                                                                                                                                                                                                                                                                                                                                                                                                                                                                    'Открывается набор на осенние оплачиваемые стажировки Тинькофф Старт ⭐️Приглашаем студентов и начинающих специалистовготовых посвятить стажировке от 20 часов в неделюработать можно удаленно или из офиса Тинькофф. Отбор будет в два этапа: экзамен и собеседование с куратором выбранного направления. Стажировка оплачиваетсялучших пригласят на интервью в штат. Какие направления открыты: #аналитика#qaбэкенд-разработка (#Java#Scala#.Net#Golang)мобильная разработка (#iOS#Android)#SREфронтендмаркетинг и инвестиции. Ближе к старту программы список направлений может расшириться.Отборочные экзамены пройдут с 1 по 16 августаа выбрать направление и отправить заявку можно прямо сейчас: https://lnkd.in/e89AHqwC   \n",
       "1188                                                                                                                                                                                                                                                                                                                                                                                                                                                                                                                                                                                                             'Открывается набор на осенние оплачиваемые стажировки Тинькофф Старт ⭐️Приглашают студентов и начинающих специалистовготовых посвятить стажировке от 20 часов в неделюработать можно удаленно или из офиса Тинькофф. Отбор будет в два этапа: экзамен и собеседование с куратором выбранного направления. Стажировка оплачиваетсялучших пригласят на интервью в штат. Какие направления открыты: аналитикаQAбэкенд-разработка (JavaScala.NetGolang)мобильная разработка (iOSAndroid)SREфронтендмаркетинг и инвестиции. Ближе к старту программы список направлений может расшириться.Отборочные экзамены пройдут с 1 по 16 августаа выбрать направление и отправить заявку можно прямо сейчас: https://lnkd.in/etpNTYDN   \n",
       "1189                                                                                                                                                                                                                                                                                                                                                                                                                                                                                                                                                                                                                                                                          'Мы открываем прием заявок на осенний набор Тинькофф Старта 🌟Формат прежний: оплачиваемая стажировка с занятостью от 20 часов в неделю. Работать можно удаленно или в офисе. В зависимости от команды стажировка продлится от 3 до 6 месяцеви если все пройдет хорошо — пригласим вас на интервью в штат.Какие направления открыты: аналитикаQAбэкенд-разработка (JavaScala.NetGolang)мобильная разработка (iOSAndroid)SREфронтендмаркетинг и инвестиции. Ближе к старту программы список направлений может расшириться.Отборочные экзамены пройдут с 1 по 16 августаа выбрать направление и отправить заявку можно прямо сейчас: https://lnkd.in/e4eyiVdm   \n",
       "1190                                                                                                                                                                                                                                                                                                                                                                                                                                                                                                                                                                                                                                                                                                                 'Давайте развиваться? Многие сейчас из нас сейчас ищут возможность получить больше знанийпрофессионального опытано часто бывает такчто стандартные источники уже неактуальны.Поэтомутекто работает в сфере QA или планирует в ней развиваться— IT’s Tinkoff приглашает вас на воркшоп ✨Его проведет Максим Рогожниковкоторый вместе с командой поддерживает производительность информационных систем Tinkoff. Максим научит писать тесты производительности на K6а также расскажет о его фичахкоторые помогут в нагрузочном тестировании. Воркшоп пройдет 5 июля онлайнначало в 18:00. Регистрируйтесь по ссылке:']   \n",
       "\n",
       "      likes  comments  \n",
       "1186    3.0       0.0  \n",
       "1187    3.0       0.0  \n",
       "1188    3.0       0.0  \n",
       "1189    3.0       0.0  \n",
       "1190    3.0       0.0  "
      ]
     },
     "metadata": {},
     "output_type": "display_data"
    }
   ],
   "source": [
    "display(dataset_from_team_4.head())\n",
    "\n",
    "display(dataset_from_team_4.tail())"
   ]
  },
  {
   "cell_type": "markdown",
   "id": "15e8185d",
   "metadata": {},
   "source": [
    "## Датасет команды 8"
   ]
  },
  {
   "cell_type": "markdown",
   "id": "8306962a",
   "metadata": {},
   "source": [
    "### Часть 1"
   ]
  },
  {
   "cell_type": "code",
   "execution_count": 28,
   "id": "651dbff5",
   "metadata": {},
   "outputs": [],
   "source": [
    "dataset_from_team_8_1 = pd.read_csv(os.path.join(file_path, 'dataset_from_team_8_1.csv'), delimiter=';', index_col=0)"
   ]
  },
  {
   "cell_type": "code",
   "execution_count": 29,
   "id": "7416ca1b",
   "metadata": {},
   "outputs": [
    {
     "name": "stdout",
     "output_type": "stream",
     "text": [
      "<class 'pandas.core.frame.DataFrame'>\n",
      "Index: 112 entries, 0 to 103\n",
      "Data columns (total 9 columns):\n",
      " #   Column         Non-Null Count  Dtype  \n",
      "---  ------         --------------  -----  \n",
      " 0   profile_url    98 non-null     object \n",
      " 1   name           98 non-null     object \n",
      " 2   works_at       98 non-null     object \n",
      " 3   exp_list       98 non-null     object \n",
      " 4   post           98 non-null     object \n",
      " 5   reactions_cnt  98 non-null     float64\n",
      " 6   comments_cnt   98 non-null     float64\n",
      " 7   post_url       98 non-null     object \n",
      " 8   posts_cnt      98 non-null     float64\n",
      "dtypes: float64(3), object(6)\n",
      "memory usage: 8.8+ KB\n"
     ]
    }
   ],
   "source": [
    "dataset_from_team_8_1.info()"
   ]
  },
  {
   "cell_type": "code",
   "execution_count": 30,
   "id": "b83f22a7",
   "metadata": {},
   "outputs": [
    {
     "data": {
      "text/plain": [
       "13"
      ]
     },
     "execution_count": 30,
     "metadata": {},
     "output_type": "execute_result"
    }
   ],
   "source": [
    "# Проверим на наличие дубликатов \n",
    "dataset_from_team_8_1.duplicated().sum()"
   ]
  },
  {
   "cell_type": "code",
   "execution_count": 31,
   "id": "d8935521",
   "metadata": {},
   "outputs": [],
   "source": [
    "# Устраняем их\n",
    "dataset_from_team_8_1.drop_duplicates(inplace=True)"
   ]
  },
  {
   "cell_type": "code",
   "execution_count": 32,
   "id": "880166e2",
   "metadata": {},
   "outputs": [
    {
     "data": {
      "text/plain": [
       "profile_url      1\n",
       "name             1\n",
       "works_at         1\n",
       "exp_list         1\n",
       "post             1\n",
       "reactions_cnt    1\n",
       "comments_cnt     1\n",
       "post_url         1\n",
       "posts_cnt        1\n",
       "dtype: int64"
      ]
     },
     "execution_count": 32,
     "metadata": {},
     "output_type": "execute_result"
    }
   ],
   "source": [
    "# Проверка на пропущенные значения\n",
    "dataset_from_team_8_1.isna().sum()"
   ]
  },
  {
   "cell_type": "code",
   "execution_count": 33,
   "id": "df63c8a4",
   "metadata": {},
   "outputs": [],
   "source": [
    "# Устраняем их\n",
    "dataset_from_team_8_1.dropna(inplace=True)"
   ]
  },
  {
   "cell_type": "code",
   "execution_count": 34,
   "id": "b82c7129",
   "metadata": {},
   "outputs": [],
   "source": [
    "dataset_from_team_8_1 = dataset_from_team_8_1.rename(columns={'post': 'text', 'profile_url': 'url', 'name': 'user_name', 'job':'user_head', 'works_at': 'user_head', 'exp_list': 'user_position', 'reactions_cnt': 'likes', 'comments_cnt': 'comments', 'posts_cnt': 'reposts'})"
   ]
  },
  {
   "cell_type": "code",
   "execution_count": 35,
   "id": "6081c3f5",
   "metadata": {},
   "outputs": [
    {
     "data": {
      "text/html": [
       "<div>\n",
       "<style scoped>\n",
       "    .dataframe tbody tr th:only-of-type {\n",
       "        vertical-align: middle;\n",
       "    }\n",
       "\n",
       "    .dataframe tbody tr th {\n",
       "        vertical-align: top;\n",
       "    }\n",
       "\n",
       "    .dataframe thead th {\n",
       "        text-align: right;\n",
       "    }\n",
       "</style>\n",
       "<table border=\"1\" class=\"dataframe\">\n",
       "  <thead>\n",
       "    <tr style=\"text-align: right;\">\n",
       "      <th></th>\n",
       "      <th>url</th>\n",
       "      <th>user_name</th>\n",
       "      <th>user_head</th>\n",
       "      <th>user_position</th>\n",
       "      <th>text</th>\n",
       "      <th>likes</th>\n",
       "      <th>comments</th>\n",
       "      <th>post_url</th>\n",
       "      <th>reposts</th>\n",
       "    </tr>\n",
       "  </thead>\n",
       "  <tbody>\n",
       "    <tr>\n",
       "      <th>0</th>\n",
       "      <td>https://www.linkedin.com/in/ruslandubrovin/</td>\n",
       "      <td>Руслан Дубровин</td>\n",
       "      <td>Software Developer – Yandex</td>\n",
       "      <td>['Software Developer'Yandex'март 2019 г. – настоящее время · 4\\xa0г. 4\\xa0мес.'Lead Software Developer'TheQuestion'июль 2018 г. - авг. 2021 г. · 3\\xa0г. 2\\xa0мес.'Software Developer'Технократия (worked as outstaff for redmadrobot)'сент. 2017 г. - июнь 2018 г. · 10 мес.'Golang developer'infotech.group'нояб. 2016 г. - сент. 2017 г. · 11 мес.'Python developer'Cinarra Systems'апр. 2016 г. - нояб. 2016 г. · 8 мес.']</td>\n",
       "      <td>нет постов</td>\n",
       "      <td>0.0</td>\n",
       "      <td>0.0</td>\n",
       "      <td>нет постов</td>\n",
       "      <td>0.0</td>\n",
       "    </tr>\n",
       "    <tr>\n",
       "      <th>1</th>\n",
       "      <td>https://www.linkedin.com/in/grigory-kostin-aaa16061/</td>\n",
       "      <td>Grigory Kostin</td>\n",
       "      <td>Developer at Yandex</td>\n",
       "      <td>['Developer'Yandex'янв. 2015 г. – настоящее время · 8\\xa0лет 6\\xa0мес.'HeadHunter Group'2\\xa0г.\\xa05\\xa0мес.'Senior Developer'апр. 2014 г. - дек. 2014 г. · 9 мес.'Developer'авг. 2012 г. - апр. 2014 г. · 1\\xa0г. 9\\xa0мес.']</td>\n",
       "      <td>нет постов</td>\n",
       "      <td>0.0</td>\n",
       "      <td>0.0</td>\n",
       "      <td>нет постов</td>\n",
       "      <td>0.0</td>\n",
       "    </tr>\n",
       "    <tr>\n",
       "      <th>2</th>\n",
       "      <td>https://www.linkedin.com/in/bard-10x/</td>\n",
       "      <td>Денис Ковалев</td>\n",
       "      <td>iOS App Developer – Tinkoff</td>\n",
       "      <td>['iOS Developer'Tinkoff  · Полный рабочий день'май 2023 г. – настоящее время · 2 мес.'iOS App Developer'Saritasa · Полный рабочий день'сент. 2019 г. - апр. 2023 г. · 3\\xa0г. 8\\xa0мес.'iOS App Developer'Очень Интересно · Стажировка'февр. 2019 г. - март 2019 г. · 2 мес.'Android App Developer'Очень Интересно · Стажировка'авг. 2018 г. · 1 мес.'Android App Developer'Aspirity · Стажировка'июнь 2018 г. · 1 мес.']</td>\n",
       "      <td>нет постов</td>\n",
       "      <td>0.0</td>\n",
       "      <td>0.0</td>\n",
       "      <td>нет постов</td>\n",
       "      <td>0.0</td>\n",
       "    </tr>\n",
       "    <tr>\n",
       "      <th>3</th>\n",
       "      <td>https://www.linkedin.com/in/kirill-khrustitskii-b2712943/</td>\n",
       "      <td>Kirill Khrustitskii</td>\n",
       "      <td>Developer</td>\n",
       "      <td>['Разработчик'МТС · Полный рабочий день'янв. 2023 г. – настоящее время · 6 мес.'Гибридный формат работы'Unity Developer'Infusion Games · Полный рабочий день'июль 2021 г. - дек. 2022 г. · 1\\xa0г. 6\\xa0мес.'Разработчик игр Unity'янв. 2017 г. - июль 2021 г. · 4\\xa0г. 7\\xa0мес.'Руководитель инновационно-технологического центра'Саратовский Государственный Университет им. Н.Г. Чернышевского · Полный рабочий день'апр. 2013 г. - дек. 2020 г. · 7\\xa0лет 9\\xa0мес.'Разработка наноматериалов.'Программист С#'GALAKTIKA'сент. 2019 г. - апр. 2020 г. · 8 мес.']</td>\n",
       "      <td>Здравствуйтея в поиске новой карьерной возможности и буду признателен(а) за вашу поддержку. Заранее благодарю за все рекомендации контактовсоветы или возможностикоторые вы можете предложить. #OpenToWork</td>\n",
       "      <td>1.0</td>\n",
       "      <td>0.0</td>\n",
       "      <td>https://www.linkedin.com/feed/update/urn:li:activity:6712411515196194816</td>\n",
       "      <td>11.0</td>\n",
       "    </tr>\n",
       "    <tr>\n",
       "      <th>3</th>\n",
       "      <td>https://www.linkedin.com/in/kirill-khrustitskii-b2712943/</td>\n",
       "      <td>Kirill Khrustitskii</td>\n",
       "      <td>Developer</td>\n",
       "      <td>['Разработчик'МТС · Полный рабочий день'янв. 2023 г. – настоящее время · 6 мес.'Гибридный формат работы'Unity Developer'Infusion Games · Полный рабочий день'июль 2021 г. - дек. 2022 г. · 1\\xa0г. 6\\xa0мес.'Разработчик игр Unity'янв. 2017 г. - июль 2021 г. · 4\\xa0г. 7\\xa0мес.'Руководитель инновационно-технологического центра'Саратовский Государственный Университет им. Н.Г. Чернышевского · Полный рабочий день'апр. 2013 г. - дек. 2020 г. · 7\\xa0лет 9\\xa0мес.'Разработка наноматериалов.'Программист С#'GALAKTIKA'сент. 2019 г. - апр. 2020 г. · 8 мес.']</td>\n",
       "      <td>Unity Game Development Mini-Degree</td>\n",
       "      <td>0.0</td>\n",
       "      <td>0.0</td>\n",
       "      <td>https://www.linkedin.com/feed/update/urn:li:activity:6515468433906372608</td>\n",
       "      <td>11.0</td>\n",
       "    </tr>\n",
       "  </tbody>\n",
       "</table>\n",
       "</div>"
      ],
      "text/plain": [
       "                                                         url  \\\n",
       "0                https://www.linkedin.com/in/ruslandubrovin/   \n",
       "1       https://www.linkedin.com/in/grigory-kostin-aaa16061/   \n",
       "2                      https://www.linkedin.com/in/bard-10x/   \n",
       "3  https://www.linkedin.com/in/kirill-khrustitskii-b2712943/   \n",
       "3  https://www.linkedin.com/in/kirill-khrustitskii-b2712943/   \n",
       "\n",
       "             user_name                    user_head  \\\n",
       "0      Руслан Дубровин  Software Developer – Yandex   \n",
       "1       Grigory Kostin          Developer at Yandex   \n",
       "2        Денис Ковалев  iOS App Developer – Tinkoff   \n",
       "3  Kirill Khrustitskii                    Developer   \n",
       "3  Kirill Khrustitskii                    Developer   \n",
       "\n",
       "                                                                                                                                                                                                                                                                                                                                                                                                                                                                                                                                                            user_position  \\\n",
       "0                                                                                                                                          ['Software Developer'Yandex'март 2019 г. – настоящее время · 4\\xa0г. 4\\xa0мес.'Lead Software Developer'TheQuestion'июль 2018 г. - авг. 2021 г. · 3\\xa0г. 2\\xa0мес.'Software Developer'Технократия (worked as outstaff for redmadrobot)'сент. 2017 г. - июнь 2018 г. · 10 мес.'Golang developer'infotech.group'нояб. 2016 г. - сент. 2017 г. · 11 мес.'Python developer'Cinarra Systems'апр. 2016 г. - нояб. 2016 г. · 8 мес.']   \n",
       "1                                                                                                                                                                                                                                                                                                                                          ['Developer'Yandex'янв. 2015 г. – настоящее время · 8\\xa0лет 6\\xa0мес.'HeadHunter Group'2\\xa0г.\\xa05\\xa0мес.'Senior Developer'апр. 2014 г. - дек. 2014 г. · 9 мес.'Developer'авг. 2012 г. - апр. 2014 г. · 1\\xa0г. 9\\xa0мес.']   \n",
       "2                                                                                                                                               ['iOS Developer'Tinkoff  · Полный рабочий день'май 2023 г. – настоящее время · 2 мес.'iOS App Developer'Saritasa · Полный рабочий день'сент. 2019 г. - апр. 2023 г. · 3\\xa0г. 8\\xa0мес.'iOS App Developer'Очень Интересно · Стажировка'февр. 2019 г. - март 2019 г. · 2 мес.'Android App Developer'Очень Интересно · Стажировка'авг. 2018 г. · 1 мес.'Android App Developer'Aspirity · Стажировка'июнь 2018 г. · 1 мес.']   \n",
       "3  ['Разработчик'МТС · Полный рабочий день'янв. 2023 г. – настоящее время · 6 мес.'Гибридный формат работы'Unity Developer'Infusion Games · Полный рабочий день'июль 2021 г. - дек. 2022 г. · 1\\xa0г. 6\\xa0мес.'Разработчик игр Unity'янв. 2017 г. - июль 2021 г. · 4\\xa0г. 7\\xa0мес.'Руководитель инновационно-технологического центра'Саратовский Государственный Университет им. Н.Г. Чернышевского · Полный рабочий день'апр. 2013 г. - дек. 2020 г. · 7\\xa0лет 9\\xa0мес.'Разработка наноматериалов.'Программист С#'GALAKTIKA'сент. 2019 г. - апр. 2020 г. · 8 мес.']   \n",
       "3  ['Разработчик'МТС · Полный рабочий день'янв. 2023 г. – настоящее время · 6 мес.'Гибридный формат работы'Unity Developer'Infusion Games · Полный рабочий день'июль 2021 г. - дек. 2022 г. · 1\\xa0г. 6\\xa0мес.'Разработчик игр Unity'янв. 2017 г. - июль 2021 г. · 4\\xa0г. 7\\xa0мес.'Руководитель инновационно-технологического центра'Саратовский Государственный Университет им. Н.Г. Чернышевского · Полный рабочий день'апр. 2013 г. - дек. 2020 г. · 7\\xa0лет 9\\xa0мес.'Разработка наноматериалов.'Программист С#'GALAKTIKA'сент. 2019 г. - апр. 2020 г. · 8 мес.']   \n",
       "\n",
       "                                                                                                                                                                                                         text  \\\n",
       "0                                                                                                                                                                                                  нет постов   \n",
       "1                                                                                                                                                                                                  нет постов   \n",
       "2                                                                                                                                                                                                  нет постов   \n",
       "3  Здравствуйтея в поиске новой карьерной возможности и буду признателен(а) за вашу поддержку. Заранее благодарю за все рекомендации контактовсоветы или возможностикоторые вы можете предложить. #OpenToWork   \n",
       "3                                                                                                                                                                          Unity Game Development Mini-Degree   \n",
       "\n",
       "   likes  comments  \\\n",
       "0    0.0       0.0   \n",
       "1    0.0       0.0   \n",
       "2    0.0       0.0   \n",
       "3    1.0       0.0   \n",
       "3    0.0       0.0   \n",
       "\n",
       "                                                                   post_url  \\\n",
       "0                                                                нет постов   \n",
       "1                                                                нет постов   \n",
       "2                                                                нет постов   \n",
       "3  https://www.linkedin.com/feed/update/urn:li:activity:6712411515196194816   \n",
       "3  https://www.linkedin.com/feed/update/urn:li:activity:6515468433906372608   \n",
       "\n",
       "   reposts  \n",
       "0      0.0  \n",
       "1      0.0  \n",
       "2      0.0  \n",
       "3     11.0  \n",
       "3     11.0  "
      ]
     },
     "metadata": {},
     "output_type": "display_data"
    },
    {
     "data": {
      "text/html": [
       "<div>\n",
       "<style scoped>\n",
       "    .dataframe tbody tr th:only-of-type {\n",
       "        vertical-align: middle;\n",
       "    }\n",
       "\n",
       "    .dataframe tbody tr th {\n",
       "        vertical-align: top;\n",
       "    }\n",
       "\n",
       "    .dataframe thead th {\n",
       "        text-align: right;\n",
       "    }\n",
       "</style>\n",
       "<table border=\"1\" class=\"dataframe\">\n",
       "  <thead>\n",
       "    <tr style=\"text-align: right;\">\n",
       "      <th></th>\n",
       "      <th>url</th>\n",
       "      <th>user_name</th>\n",
       "      <th>user_head</th>\n",
       "      <th>user_position</th>\n",
       "      <th>text</th>\n",
       "      <th>likes</th>\n",
       "      <th>comments</th>\n",
       "      <th>post_url</th>\n",
       "      <th>reposts</th>\n",
       "    </tr>\n",
       "  </thead>\n",
       "  <tbody>\n",
       "    <tr>\n",
       "      <th>98</th>\n",
       "      <td>https://www.linkedin.com/in/aleksey-pikalov-javadeveloper/</td>\n",
       "      <td>Aleksey Pikalov</td>\n",
       "      <td>Java Developer - Bell Integrator</td>\n",
       "      <td>['Java Developer'Bell Integrator'апр. 2019 г. – настоящее время · 4\\xa0г. 3\\xa0мес.'Java Developer'Java Online Projects'июль 2018 г. - дек. 2018 г. · 6 мес.'Сотрудник отдела логистики'IKEA Group'февр. 2014 г. - нояб. 2018 г. · 4\\xa0г. 10\\xa0мес.']</td>\n",
       "      <td>нет постов</td>\n",
       "      <td>0.0</td>\n",
       "      <td>0.0</td>\n",
       "      <td>нет постов</td>\n",
       "      <td>0.0</td>\n",
       "    </tr>\n",
       "    <tr>\n",
       "      <th>99</th>\n",
       "      <td>https://www.linkedin.com/in/%D0%B0%D0%BB%D0%B5%D0%BA%D1%81%D0%B0%D0%BD%D0%B4%D1%80-%D0%BA%D1%83%D0%B4%D0%B8%D0%BC%D0%BE%D0%B2-41658852/</td>\n",
       "      <td>Александр Кудимов</td>\n",
       "      <td>Python software developer</td>\n",
       "      <td>['Ведущий Разарботчик'МТС · Полный рабочий день'янв. 2020 г. – настоящее время · 3\\xa0г. 6\\xa0мес.'Ведущий эксперт-разработчик'SimbirSoft · Полный рабочий день'май 2019 г. - янв. 2020 г. · 9 мес.'Архитектура и разработка программного обеспечения.'Senior BE developer at Software Development'ООО «СИСКВАЛ» · Полный рабочий день'авг. 2017 г. - май 2019 г. · 1\\xa0г. 10\\xa0мес.'Senior BE developer at Software Development'ООО «Ривасэнс Текнолоджис» · Полный рабочий день'авг. 2014 г. - июль 2017 г. · 3 г.'Индивидуальное предпринимательство / частная практика / фриланс'Индивидуальное предпринимательство / частная практика / фриланс · Частичная занятость'сент. 2010 г. - июль 2014 г. · 3\\xa0г. 11\\xa0мес.']</td>\n",
       "      <td>нет постов</td>\n",
       "      <td>0.0</td>\n",
       "      <td>0.0</td>\n",
       "      <td>нет постов</td>\n",
       "      <td>0.0</td>\n",
       "    </tr>\n",
       "    <tr>\n",
       "      <th>100</th>\n",
       "      <td>https://www.linkedin.com/in/vladimir-zolotavin-188907218/</td>\n",
       "      <td>Vladimir Zolotavin</td>\n",
       "      <td>Middle Java Developer</td>\n",
       "      <td>['Главный инженер по разработке'СБЕР · Полный рабочий день'сент. 2021 г. – настоящее время · 1\\xa0г. 10\\xa0мес.'Junior Java Developer'Toolstrek · Полный рабочий день'июнь 2021 г. - сент. 2021 г. · 4 мес.']</td>\n",
       "      <td>нет постов</td>\n",
       "      <td>0.0</td>\n",
       "      <td>0.0</td>\n",
       "      <td>нет постов</td>\n",
       "      <td>0.0</td>\n",
       "    </tr>\n",
       "    <tr>\n",
       "      <th>102</th>\n",
       "      <td>https://www.linkedin.com/in/ilias-iliasov-434a47251/</td>\n",
       "      <td>Ilias Iliasov</td>\n",
       "      <td>Senior Java Developer</td>\n",
       "      <td>['Senior Java Developer'Sberbank · Полный рабочий день'сент. 2019 г. – настоящее время · 3\\xa0г. 10\\xa0мес.'Гибридный формат работы'Java Developer'Bank of Russia · Полный рабочий день'нояб. 2018 г. - сент. 2019 г. · 11 мес.'IliasIl - Overview'My GitHub']</td>\n",
       "      <td>нет постов</td>\n",
       "      <td>0.0</td>\n",
       "      <td>0.0</td>\n",
       "      <td>нет постов</td>\n",
       "      <td>0.0</td>\n",
       "    </tr>\n",
       "    <tr>\n",
       "      <th>103</th>\n",
       "      <td>https://www.linkedin.com/in/%D0%B0%D0%BD%D1%82%D0%BE%D0%BD-%D0%B3%D1%80%D0%B8%D1%88%D0%B8%D0%BD-2bb3a53a/</td>\n",
       "      <td>Антон Гришин</td>\n",
       "      <td>Fronted-developer</td>\n",
       "      <td>['experience parsing error']</td>\n",
       "      <td>нет постов</td>\n",
       "      <td>0.0</td>\n",
       "      <td>0.0</td>\n",
       "      <td>нет постов</td>\n",
       "      <td>0.0</td>\n",
       "    </tr>\n",
       "  </tbody>\n",
       "</table>\n",
       "</div>"
      ],
      "text/plain": [
       "                                                                                                                                         url  \\\n",
       "98                                                                                https://www.linkedin.com/in/aleksey-pikalov-javadeveloper/   \n",
       "99   https://www.linkedin.com/in/%D0%B0%D0%BB%D0%B5%D0%BA%D1%81%D0%B0%D0%BD%D0%B4%D1%80-%D0%BA%D1%83%D0%B4%D0%B8%D0%BC%D0%BE%D0%B2-41658852/   \n",
       "100                                                                                https://www.linkedin.com/in/vladimir-zolotavin-188907218/   \n",
       "102                                                                                     https://www.linkedin.com/in/ilias-iliasov-434a47251/   \n",
       "103                                https://www.linkedin.com/in/%D0%B0%D0%BD%D1%82%D0%BE%D0%BD-%D0%B3%D1%80%D0%B8%D1%88%D0%B8%D0%BD-2bb3a53a/   \n",
       "\n",
       "              user_name                         user_head  \\\n",
       "98      Aleksey Pikalov  Java Developer - Bell Integrator   \n",
       "99    Александр Кудимов         Python software developer   \n",
       "100  Vladimir Zolotavin             Middle Java Developer   \n",
       "102       Ilias Iliasov             Senior Java Developer   \n",
       "103        Антон Гришин                 Fronted-developer   \n",
       "\n",
       "                                                                                                                                                                                                                                                                                                                                                                                                                                                                                                                                                                                                                                                                                                                        user_position  \\\n",
       "98                                                                                                                                                                                                                                                                                                                                                                                                                                                                            ['Java Developer'Bell Integrator'апр. 2019 г. – настоящее время · 4\\xa0г. 3\\xa0мес.'Java Developer'Java Online Projects'июль 2018 г. - дек. 2018 г. · 6 мес.'Сотрудник отдела логистики'IKEA Group'февр. 2014 г. - нояб. 2018 г. · 4\\xa0г. 10\\xa0мес.']   \n",
       "99   ['Ведущий Разарботчик'МТС · Полный рабочий день'янв. 2020 г. – настоящее время · 3\\xa0г. 6\\xa0мес.'Ведущий эксперт-разработчик'SimbirSoft · Полный рабочий день'май 2019 г. - янв. 2020 г. · 9 мес.'Архитектура и разработка программного обеспечения.'Senior BE developer at Software Development'ООО «СИСКВАЛ» · Полный рабочий день'авг. 2017 г. - май 2019 г. · 1\\xa0г. 10\\xa0мес.'Senior BE developer at Software Development'ООО «Ривасэнс Текнолоджис» · Полный рабочий день'авг. 2014 г. - июль 2017 г. · 3 г.'Индивидуальное предпринимательство / частная практика / фриланс'Индивидуальное предпринимательство / частная практика / фриланс · Частичная занятость'сент. 2010 г. - июль 2014 г. · 3\\xa0г. 11\\xa0мес.']   \n",
       "100                                                                                                                                                                                                                                                                                                                                                                                                                                                                                                                     ['Главный инженер по разработке'СБЕР · Полный рабочий день'сент. 2021 г. – настоящее время · 1\\xa0г. 10\\xa0мес.'Junior Java Developer'Toolstrek · Полный рабочий день'июнь 2021 г. - сент. 2021 г. · 4 мес.']   \n",
       "102                                                                                                                                                                                                                                                                                                                                                                                                                                                                    ['Senior Java Developer'Sberbank · Полный рабочий день'сент. 2019 г. – настоящее время · 3\\xa0г. 10\\xa0мес.'Гибридный формат работы'Java Developer'Bank of Russia · Полный рабочий день'нояб. 2018 г. - сент. 2019 г. · 11 мес.'IliasIl - Overview'My GitHub']   \n",
       "103                                                                                                                                                                                                                                                                                                                                                                                                                                                                                                                                                                                                                                                                                                      ['experience parsing error']   \n",
       "\n",
       "           text  likes  comments    post_url  reposts  \n",
       "98   нет постов    0.0       0.0  нет постов      0.0  \n",
       "99   нет постов    0.0       0.0  нет постов      0.0  \n",
       "100  нет постов    0.0       0.0  нет постов      0.0  \n",
       "102  нет постов    0.0       0.0  нет постов      0.0  \n",
       "103  нет постов    0.0       0.0  нет постов      0.0  "
      ]
     },
     "metadata": {},
     "output_type": "display_data"
    }
   ],
   "source": [
    "display(dataset_from_team_8_1.head())\n",
    "\n",
    "display(dataset_from_team_8_1.tail())"
   ]
  },
  {
   "cell_type": "markdown",
   "id": "e5686620",
   "metadata": {},
   "source": [
    "### Часть 2"
   ]
  },
  {
   "cell_type": "code",
   "execution_count": 36,
   "id": "cd4766df",
   "metadata": {},
   "outputs": [],
   "source": [
    "dataset_from_team_8_2 = pd.read_csv(os.path.join(file_path, 'dataset_from_team_8_2.csv'), delimiter=';', index_col=0)"
   ]
  },
  {
   "cell_type": "code",
   "execution_count": 37,
   "id": "a890ba74",
   "metadata": {},
   "outputs": [
    {
     "name": "stdout",
     "output_type": "stream",
     "text": [
      "<class 'pandas.core.frame.DataFrame'>\n",
      "Index: 193 entries, 0 to 149\n",
      "Data columns (total 9 columns):\n",
      " #   Column         Non-Null Count  Dtype  \n",
      "---  ------         --------------  -----  \n",
      " 0   profile_url    169 non-null    object \n",
      " 1   name           169 non-null    object \n",
      " 2   works_at       169 non-null    object \n",
      " 3   exp_list       169 non-null    object \n",
      " 4   post           169 non-null    object \n",
      " 5   reactions_cnt  169 non-null    float64\n",
      " 6   comments_cnt   169 non-null    float64\n",
      " 7   post_url       169 non-null    object \n",
      " 8   posts_cnt      169 non-null    float64\n",
      "dtypes: float64(3), object(6)\n",
      "memory usage: 15.1+ KB\n"
     ]
    }
   ],
   "source": [
    "dataset_from_team_8_2.info()"
   ]
  },
  {
   "cell_type": "code",
   "execution_count": 38,
   "id": "ca21dfca",
   "metadata": {},
   "outputs": [
    {
     "data": {
      "text/plain": [
       "23"
      ]
     },
     "execution_count": 38,
     "metadata": {},
     "output_type": "execute_result"
    }
   ],
   "source": [
    "# Проверим на наличие дубликатов \n",
    "dataset_from_team_8_2.duplicated().sum()"
   ]
  },
  {
   "cell_type": "code",
   "execution_count": 39,
   "id": "e3823444",
   "metadata": {},
   "outputs": [],
   "source": [
    "# Устраняем их\n",
    "dataset_from_team_8_2.drop_duplicates(inplace=True)"
   ]
  },
  {
   "cell_type": "code",
   "execution_count": 40,
   "id": "d0cefbf0",
   "metadata": {},
   "outputs": [
    {
     "data": {
      "text/plain": [
       "profile_url      1\n",
       "name             1\n",
       "works_at         1\n",
       "exp_list         1\n",
       "post             1\n",
       "reactions_cnt    1\n",
       "comments_cnt     1\n",
       "post_url         1\n",
       "posts_cnt        1\n",
       "dtype: int64"
      ]
     },
     "execution_count": 40,
     "metadata": {},
     "output_type": "execute_result"
    }
   ],
   "source": [
    "# Проверка на пропущенные значения\n",
    "dataset_from_team_8_2.isna().sum()"
   ]
  },
  {
   "cell_type": "code",
   "execution_count": 41,
   "id": "f1e377b6",
   "metadata": {},
   "outputs": [],
   "source": [
    "# Устраняем их\n",
    "dataset_from_team_8_2.dropna(inplace=True)"
   ]
  },
  {
   "cell_type": "code",
   "execution_count": 42,
   "id": "0c445dd0",
   "metadata": {},
   "outputs": [],
   "source": [
    "dataset_from_team_8_2 = dataset_from_team_8_2.rename(columns={'post': 'text', 'profile_url': 'url', 'name': 'user_name', 'job':'user_head', 'works_at': 'user_head', 'exp_list': 'user_position', 'reactions_cnt': 'likes', 'comments_cnt': 'comments', 'posts_cnt': 'reposts'})"
   ]
  },
  {
   "cell_type": "code",
   "execution_count": 43,
   "id": "92483469",
   "metadata": {},
   "outputs": [
    {
     "data": {
      "text/html": [
       "<div>\n",
       "<style scoped>\n",
       "    .dataframe tbody tr th:only-of-type {\n",
       "        vertical-align: middle;\n",
       "    }\n",
       "\n",
       "    .dataframe tbody tr th {\n",
       "        vertical-align: top;\n",
       "    }\n",
       "\n",
       "    .dataframe thead th {\n",
       "        text-align: right;\n",
       "    }\n",
       "</style>\n",
       "<table border=\"1\" class=\"dataframe\">\n",
       "  <thead>\n",
       "    <tr style=\"text-align: right;\">\n",
       "      <th></th>\n",
       "      <th>url</th>\n",
       "      <th>user_name</th>\n",
       "      <th>user_head</th>\n",
       "      <th>user_position</th>\n",
       "      <th>text</th>\n",
       "      <th>likes</th>\n",
       "      <th>comments</th>\n",
       "      <th>post_url</th>\n",
       "      <th>reposts</th>\n",
       "    </tr>\n",
       "  </thead>\n",
       "  <tbody>\n",
       "    <tr>\n",
       "      <th>0</th>\n",
       "      <td>https://www.linkedin.com/in/cbelkin/</td>\n",
       "      <td>Constantine Belkin</td>\n",
       "      <td>iOS Developer at VK</td>\n",
       "      <td>['iOS Developer'VK · Полный рабочий день'июнь 2023 г. – настоящее время · 1 мес.'iOS Developer'Kaspersky · Полный рабочий день'март 2022 г. - июнь 2023 г. · 1\\xa0г. 4\\xa0мес.'\\u200eKaspersky Passwords &amp; Docs'iOS Developer'Atlasdelivery.io · Полный рабочий день'сент. 2021 г. - февр. 2022 г. · 6 мес.'\\u200eAtlas Force'iOS Developer'amazingcat LLC · Полный рабочий день'сент. 2020 г. - июнь 2021 г. · 10 мес.'Fullstack developer'amazingcat LLC · Полный рабочий день'июль 2017 г. - апр. 2020 г. · 2\\xa0г. 10\\xa0мес.']</td>\n",
       "      <td>нет постов</td>\n",
       "      <td>0.0</td>\n",
       "      <td>0.0</td>\n",
       "      <td>нет постов</td>\n",
       "      <td>0.0</td>\n",
       "    </tr>\n",
       "    <tr>\n",
       "      <th>1</th>\n",
       "      <td>https://www.linkedin.com/in/%D0%B0%D1%80%D1%82%D0%B5%D0%BC-%D1%88%D0%BB%D1%8F%D1%85%D1%82%D0%B8%D0%BD-bb112390/</td>\n",
       "      <td>Артем Шляхтин</td>\n",
       "      <td>Senior iOS Developer at Sberbank</td>\n",
       "      <td>['Senior iOS Developer'Sberbank · Полный рабочий день'нояб. 2018 г. – настоящее время · 4\\xa0г. 8\\xa0мес.'Senior iOS Developer'IBM'июль 2017 г. - нояб. 2018 г. · 1\\xa0г. 5\\xa0мес.'iOS Developer'RosEuroBank'авг. 2015 г. - июль 2017 г. · 2 г.'Разработчик iOS'Май-Tech'май 2014 г. - дек. 2014 г. · 8 мес.'Рекомендательное письмо'-'Индивидуальный предприниматель'сент. 2013 г. - авг. 2014 г. · 1 г.']</td>\n",
       "      <td>нет постов</td>\n",
       "      <td>0.0</td>\n",
       "      <td>0.0</td>\n",
       "      <td>нет постов</td>\n",
       "      <td>0.0</td>\n",
       "    </tr>\n",
       "    <tr>\n",
       "      <th>2</th>\n",
       "      <td>https://www.linkedin.com/in/%D0%B0%D1%80%D1%82%D1%91%D0%BC-%D0%BA-7775a2a1/</td>\n",
       "      <td>Артём К.</td>\n",
       "      <td>iOS Developer – Yandex</td>\n",
       "      <td>['iOS App Developer'Yandex'июнь 2018 г. – настоящее время · 5\\xa0лет 1\\xa0мес.'iOS Developer'Indatalab'март 2016 г. – настоящее время · 7\\xa0лет 4\\xa0мес.'iOS Developer'Freelance'окт. 2015 г. - нояб. 2015 г. · 2 мес.']</td>\n",
       "      <td>нет постов</td>\n",
       "      <td>0.0</td>\n",
       "      <td>0.0</td>\n",
       "      <td>нет постов</td>\n",
       "      <td>0.0</td>\n",
       "    </tr>\n",
       "    <tr>\n",
       "      <th>3</th>\n",
       "      <td>https://www.linkedin.com/in/sergei-basalko/</td>\n",
       "      <td>Sergei Basalko</td>\n",
       "      <td>iOS Developer</td>\n",
       "      <td>['iOS Development Team Leader'MTS IT · Полный рабочий день'дек. 2019 г. – настоящее время · 3\\xa0г. 7\\xa0мес.'Moscow'iOS Development Team Leader'Moscow City Telephone Network (MGTS) · Полный рабочий день'апр. 2019 г. – настоящее время · 4\\xa0г. 3\\xa0мес.'Mobile apps development'Senior iOS Software Developer'Raiffeisen Bank Russia'февр. 2018 г. - апр. 2019 г. · 1\\xa0г. 3\\xa0мес.'Mobile apps development'Senior iOS Software Developer'YouDo'июль 2015 г. - февр. 2018 г. · 2\\xa0г. 8\\xa0мес.'Mobile apps development'iOS Software Developer'NEKLO'сент. 2013 г. - июнь 2015 г. · 1\\xa0г. 10\\xa0мес.'Mobile apps development']</td>\n",
       "      <td>нет постов</td>\n",
       "      <td>0.0</td>\n",
       "      <td>0.0</td>\n",
       "      <td>нет постов</td>\n",
       "      <td>0.0</td>\n",
       "    </tr>\n",
       "    <tr>\n",
       "      <th>4</th>\n",
       "      <td>https://www.linkedin.com/in/oleg-oparin-kl/</td>\n",
       "      <td>Oleg Oparin</td>\n",
       "      <td>iOS Developer at Kaspersky Lab.</td>\n",
       "      <td>['Kaspersky'2\\xa0г.\\xa03\\xa0мес.'Junior iOS Developer'янв. 2022 г. – настоящее время · 1\\xa0г. 6\\xa0мес.'\\u200eKaspersky Security &amp; VPN'Intern iOS Developer'апр. 2021 г. - янв. 2022 г. · 10 мес.']</td>\n",
       "      <td>нет постов</td>\n",
       "      <td>0.0</td>\n",
       "      <td>0.0</td>\n",
       "      <td>нет постов</td>\n",
       "      <td>0.0</td>\n",
       "    </tr>\n",
       "  </tbody>\n",
       "</table>\n",
       "</div>"
      ],
      "text/plain": [
       "                                                                                                               url  \\\n",
       "0                                                                             https://www.linkedin.com/in/cbelkin/   \n",
       "1  https://www.linkedin.com/in/%D0%B0%D1%80%D1%82%D0%B5%D0%BC-%D1%88%D0%BB%D1%8F%D1%85%D1%82%D0%B8%D0%BD-bb112390/   \n",
       "2                                      https://www.linkedin.com/in/%D0%B0%D1%80%D1%82%D1%91%D0%BC-%D0%BA-7775a2a1/   \n",
       "3                                                                      https://www.linkedin.com/in/sergei-basalko/   \n",
       "4                                                                      https://www.linkedin.com/in/oleg-oparin-kl/   \n",
       "\n",
       "            user_name                         user_head  \\\n",
       "0  Constantine Belkin               iOS Developer at VK   \n",
       "1       Артем Шляхтин  Senior iOS Developer at Sberbank   \n",
       "2            Артём К.            iOS Developer – Yandex   \n",
       "3      Sergei Basalko                     iOS Developer   \n",
       "4         Oleg Oparin   iOS Developer at Kaspersky Lab.   \n",
       "\n",
       "                                                                                                                                                                                                                                                                                                                                                                                                                                                                                                                                                                                                                                user_position  \\\n",
       "0                                                                                                         ['iOS Developer'VK · Полный рабочий день'июнь 2023 г. – настоящее время · 1 мес.'iOS Developer'Kaspersky · Полный рабочий день'март 2022 г. - июнь 2023 г. · 1\\xa0г. 4\\xa0мес.'\\u200eKaspersky Passwords & Docs'iOS Developer'Atlasdelivery.io · Полный рабочий день'сент. 2021 г. - февр. 2022 г. · 6 мес.'\\u200eAtlas Force'iOS Developer'amazingcat LLC · Полный рабочий день'сент. 2020 г. - июнь 2021 г. · 10 мес.'Fullstack developer'amazingcat LLC · Полный рабочий день'июль 2017 г. - апр. 2020 г. · 2\\xa0г. 10\\xa0мес.']   \n",
       "1                                                                                                                                                                                                                                ['Senior iOS Developer'Sberbank · Полный рабочий день'нояб. 2018 г. – настоящее время · 4\\xa0г. 8\\xa0мес.'Senior iOS Developer'IBM'июль 2017 г. - нояб. 2018 г. · 1\\xa0г. 5\\xa0мес.'iOS Developer'RosEuroBank'авг. 2015 г. - июль 2017 г. · 2 г.'Разработчик iOS'Май-Tech'май 2014 г. - дек. 2014 г. · 8 мес.'Рекомендательное письмо'-'Индивидуальный предприниматель'сент. 2013 г. - авг. 2014 г. · 1 г.']   \n",
       "2                                                                                                                                                                                                                                                                                                                                                                                                                  ['iOS App Developer'Yandex'июнь 2018 г. – настоящее время · 5\\xa0лет 1\\xa0мес.'iOS Developer'Indatalab'март 2016 г. – настоящее время · 7\\xa0лет 4\\xa0мес.'iOS Developer'Freelance'окт. 2015 г. - нояб. 2015 г. · 2 мес.']   \n",
       "3  ['iOS Development Team Leader'MTS IT · Полный рабочий день'дек. 2019 г. – настоящее время · 3\\xa0г. 7\\xa0мес.'Moscow'iOS Development Team Leader'Moscow City Telephone Network (MGTS) · Полный рабочий день'апр. 2019 г. – настоящее время · 4\\xa0г. 3\\xa0мес.'Mobile apps development'Senior iOS Software Developer'Raiffeisen Bank Russia'февр. 2018 г. - апр. 2019 г. · 1\\xa0г. 3\\xa0мес.'Mobile apps development'Senior iOS Software Developer'YouDo'июль 2015 г. - февр. 2018 г. · 2\\xa0г. 8\\xa0мес.'Mobile apps development'iOS Software Developer'NEKLO'сент. 2013 г. - июнь 2015 г. · 1\\xa0г. 10\\xa0мес.'Mobile apps development']   \n",
       "4                                                                                                                                                                                                                                                                                                                                                                                                                                        ['Kaspersky'2\\xa0г.\\xa03\\xa0мес.'Junior iOS Developer'янв. 2022 г. – настоящее время · 1\\xa0г. 6\\xa0мес.'\\u200eKaspersky Security & VPN'Intern iOS Developer'апр. 2021 г. - янв. 2022 г. · 10 мес.']   \n",
       "\n",
       "         text  likes  comments    post_url  reposts  \n",
       "0  нет постов    0.0       0.0  нет постов      0.0  \n",
       "1  нет постов    0.0       0.0  нет постов      0.0  \n",
       "2  нет постов    0.0       0.0  нет постов      0.0  \n",
       "3  нет постов    0.0       0.0  нет постов      0.0  \n",
       "4  нет постов    0.0       0.0  нет постов      0.0  "
      ]
     },
     "metadata": {},
     "output_type": "display_data"
    },
    {
     "data": {
      "text/html": [
       "<div>\n",
       "<style scoped>\n",
       "    .dataframe tbody tr th:only-of-type {\n",
       "        vertical-align: middle;\n",
       "    }\n",
       "\n",
       "    .dataframe tbody tr th {\n",
       "        vertical-align: top;\n",
       "    }\n",
       "\n",
       "    .dataframe thead th {\n",
       "        text-align: right;\n",
       "    }\n",
       "</style>\n",
       "<table border=\"1\" class=\"dataframe\">\n",
       "  <thead>\n",
       "    <tr style=\"text-align: right;\">\n",
       "      <th></th>\n",
       "      <th>url</th>\n",
       "      <th>user_name</th>\n",
       "      <th>user_head</th>\n",
       "      <th>user_position</th>\n",
       "      <th>text</th>\n",
       "      <th>likes</th>\n",
       "      <th>comments</th>\n",
       "      <th>post_url</th>\n",
       "      <th>reposts</th>\n",
       "    </tr>\n",
       "  </thead>\n",
       "  <tbody>\n",
       "    <tr>\n",
       "      <th>144</th>\n",
       "      <td>https://www.linkedin.com/in/alexey-artyushin/</td>\n",
       "      <td>Alexey Artyushin</td>\n",
       "      <td>Senior IOS Developer - Tinkoff</td>\n",
       "      <td>['Senior IOS Developer'Tinkoff  · Полный рабочий день'авг. 2021 г. – настоящее время · 1\\xa0г. 11\\xa0мес.'Senior iOS Developer'Bell Integrator · Полный рабочий день'июнь 2020 г. - авг. 2021 г. · 1\\xa0г. 3\\xa0мес.'iOS Developer'Faction Studio'май 2019 г. - май 2020 г. · 1\\xa0г. 1\\xa0мес.'iOS Developer'CompassLabs'окт. 2018 г. - май 2019 г. · 8 мес.'iOS Developer'OpenSolutions LLC'авг. 2016 г. - окт. 2018 г. · 2\\xa0г. 3\\xa0мес.']</td>\n",
       "      <td>нет постов</td>\n",
       "      <td>0.0</td>\n",
       "      <td>0.0</td>\n",
       "      <td>нет постов</td>\n",
       "      <td>0.0</td>\n",
       "    </tr>\n",
       "    <tr>\n",
       "      <th>145</th>\n",
       "      <td>https://www.linkedin.com/in/sergey-cheliuskin-galich-b055041ba/</td>\n",
       "      <td>Sergey Cheliuskin-Galich</td>\n",
       "      <td>iOS Developer</td>\n",
       "      <td>['iOS Developer'СБЕР'окт. 2021 г. – настоящее время · 1\\xa0г. 9\\xa0мес.'Начальник отдела разработки программных систем и систем администрирования'ООО «Онлайн Сервис Логистик» · Полный рабочий день'нояб. 2012 г. - окт. 2021 г. · 9 лет'Системный администратор'ООО «Онлайн Сервис Логистик» · Полный рабочий день'нояб. 2011 г. - июль 2012 г. · 9 мес.']</td>\n",
       "      <td>Добрый день! На данный момент нахожусь в поиске работы на должность стажера/Junior iOS - разработчика. Буду благодарен за помощь и поддержку.#Swift #iOS #OpenToWork</td>\n",
       "      <td>0.0</td>\n",
       "      <td>0.0</td>\n",
       "      <td>https://www.linkedin.com/feed/update/urn:li:activity:6725465593618804736</td>\n",
       "      <td>1.0</td>\n",
       "    </tr>\n",
       "    <tr>\n",
       "      <th>146</th>\n",
       "      <td>https://www.linkedin.com/in/nick-puchko/</td>\n",
       "      <td>Nikolai Puchko</td>\n",
       "      <td>Lead iOS developer at Yandex Travel</td>\n",
       "      <td>['Yandex'Полный рабочий день · 2\\xa0г.\\xa03\\xa0мес.'Lead iOS developer'янв. 2023 г. – настоящее время · 6 мес.'iOS Developer'апр. 2021 г. - дек. 2022 г. · 1\\xa0г. 9\\xa0мес.']</td>\n",
       "      <td>нет постов</td>\n",
       "      <td>0.0</td>\n",
       "      <td>0.0</td>\n",
       "      <td>нет постов</td>\n",
       "      <td>0.0</td>\n",
       "    </tr>\n",
       "    <tr>\n",
       "      <th>148</th>\n",
       "      <td>https://www.linkedin.com/in/ivan-sergunin-2676b8201/</td>\n",
       "      <td>Ivan Sergunin</td>\n",
       "      <td>iOS Developer at Sberbank</td>\n",
       "      <td>['iOS Developer'Sberbank · Полный рабочий день'янв. 2021 г. – настоящее время · 2\\xa0г. 6\\xa0мес.'iOS Developer'SPB TV · Полный рабочий день'нояб. 2014 г. - дек. 2020 г. · 6\\xa0лет 2\\xa0мес.']</td>\n",
       "      <td>нет постов</td>\n",
       "      <td>0.0</td>\n",
       "      <td>0.0</td>\n",
       "      <td>нет постов</td>\n",
       "      <td>0.0</td>\n",
       "    </tr>\n",
       "    <tr>\n",
       "      <th>149</th>\n",
       "      <td>https://www.linkedin.com/in/igor-shvetsov-6a081713/</td>\n",
       "      <td>Igor Shvetsov</td>\n",
       "      <td>iOS Developer at Tinkoff Digital</td>\n",
       "      <td>['iOS Developer'Tinkoff Bank · Полный рабочий день'апр. 2020 г. – настоящее время · 3\\xa0г. 3\\xa0мес.'Developer'Noveo Group'окт. 2015 г. - сент. 2019 г. · 4 г.'iOs Developer'iOS Developer'Mail.ru Group'2019 · Менее года'MTS'9\\xa0лет\\xa011\\xa0мес.'IT department'дек. 2005 г. - окт. 2015 г. · 9\\xa0лет 11\\xa0мес.'Senior Developer'дек. 2005 г. - окт. 2015 г. · 9\\xa0лет 11\\xa0мес.'Developer'ClearScale'2013 · Менее года']</td>\n",
       "      <td>нет постов</td>\n",
       "      <td>0.0</td>\n",
       "      <td>0.0</td>\n",
       "      <td>нет постов</td>\n",
       "      <td>0.0</td>\n",
       "    </tr>\n",
       "  </tbody>\n",
       "</table>\n",
       "</div>"
      ],
      "text/plain": [
       "                                                                 url  \\\n",
       "144                    https://www.linkedin.com/in/alexey-artyushin/   \n",
       "145  https://www.linkedin.com/in/sergey-cheliuskin-galich-b055041ba/   \n",
       "146                         https://www.linkedin.com/in/nick-puchko/   \n",
       "148             https://www.linkedin.com/in/ivan-sergunin-2676b8201/   \n",
       "149              https://www.linkedin.com/in/igor-shvetsov-6a081713/   \n",
       "\n",
       "                    user_name                            user_head  \\\n",
       "144          Alexey Artyushin       Senior IOS Developer - Tinkoff   \n",
       "145  Sergey Cheliuskin-Galich                        iOS Developer   \n",
       "146            Nikolai Puchko  Lead iOS developer at Yandex Travel   \n",
       "148             Ivan Sergunin            iOS Developer at Sberbank   \n",
       "149             Igor Shvetsov     iOS Developer at Tinkoff Digital   \n",
       "\n",
       "                                                                                                                                                                                                                                                                                                                                                                                                                                       user_position  \\\n",
       "144  ['Senior IOS Developer'Tinkoff  · Полный рабочий день'авг. 2021 г. – настоящее время · 1\\xa0г. 11\\xa0мес.'Senior iOS Developer'Bell Integrator · Полный рабочий день'июнь 2020 г. - авг. 2021 г. · 1\\xa0г. 3\\xa0мес.'iOS Developer'Faction Studio'май 2019 г. - май 2020 г. · 1\\xa0г. 1\\xa0мес.'iOS Developer'CompassLabs'окт. 2018 г. - май 2019 г. · 8 мес.'iOS Developer'OpenSolutions LLC'авг. 2016 г. - окт. 2018 г. · 2\\xa0г. 3\\xa0мес.']   \n",
       "145                                                                                     ['iOS Developer'СБЕР'окт. 2021 г. – настоящее время · 1\\xa0г. 9\\xa0мес.'Начальник отдела разработки программных систем и систем администрирования'ООО «Онлайн Сервис Логистик» · Полный рабочий день'нояб. 2012 г. - окт. 2021 г. · 9 лет'Системный администратор'ООО «Онлайн Сервис Логистик» · Полный рабочий день'нояб. 2011 г. - июль 2012 г. · 9 мес.']   \n",
       "146                                                                                                                                                                                                                                                                   ['Yandex'Полный рабочий день · 2\\xa0г.\\xa03\\xa0мес.'Lead iOS developer'янв. 2023 г. – настоящее время · 6 мес.'iOS Developer'апр. 2021 г. - дек. 2022 г. · 1\\xa0г. 9\\xa0мес.']   \n",
       "148                                                                                                                                                                                                                                                 ['iOS Developer'Sberbank · Полный рабочий день'янв. 2021 г. – настоящее время · 2\\xa0г. 6\\xa0мес.'iOS Developer'SPB TV · Полный рабочий день'нояб. 2014 г. - дек. 2020 г. · 6\\xa0лет 2\\xa0мес.']   \n",
       "149               ['iOS Developer'Tinkoff Bank · Полный рабочий день'апр. 2020 г. – настоящее время · 3\\xa0г. 3\\xa0мес.'Developer'Noveo Group'окт. 2015 г. - сент. 2019 г. · 4 г.'iOs Developer'iOS Developer'Mail.ru Group'2019 · Менее года'MTS'9\\xa0лет\\xa011\\xa0мес.'IT department'дек. 2005 г. - окт. 2015 г. · 9\\xa0лет 11\\xa0мес.'Senior Developer'дек. 2005 г. - окт. 2015 г. · 9\\xa0лет 11\\xa0мес.'Developer'ClearScale'2013 · Менее года']   \n",
       "\n",
       "                                                                                                                                                                     text  \\\n",
       "144                                                                                                                                                            нет постов   \n",
       "145  Добрый день! На данный момент нахожусь в поиске работы на должность стажера/Junior iOS - разработчика. Буду благодарен за помощь и поддержку.#Swift #iOS #OpenToWork   \n",
       "146                                                                                                                                                            нет постов   \n",
       "148                                                                                                                                                            нет постов   \n",
       "149                                                                                                                                                            нет постов   \n",
       "\n",
       "     likes  comments  \\\n",
       "144    0.0       0.0   \n",
       "145    0.0       0.0   \n",
       "146    0.0       0.0   \n",
       "148    0.0       0.0   \n",
       "149    0.0       0.0   \n",
       "\n",
       "                                                                     post_url  \\\n",
       "144                                                                нет постов   \n",
       "145  https://www.linkedin.com/feed/update/urn:li:activity:6725465593618804736   \n",
       "146                                                                нет постов   \n",
       "148                                                                нет постов   \n",
       "149                                                                нет постов   \n",
       "\n",
       "     reposts  \n",
       "144      0.0  \n",
       "145      1.0  \n",
       "146      0.0  \n",
       "148      0.0  \n",
       "149      0.0  "
      ]
     },
     "metadata": {},
     "output_type": "display_data"
    }
   ],
   "source": [
    "display(dataset_from_team_8_2.head())\n",
    "\n",
    "display(dataset_from_team_8_2.tail())"
   ]
  },
  {
   "cell_type": "markdown",
   "id": "44c0d777",
   "metadata": {},
   "source": [
    "## Датасет команды 10"
   ]
  },
  {
   "cell_type": "code",
   "execution_count": 44,
   "id": "a7663355",
   "metadata": {},
   "outputs": [],
   "source": [
    "dataset_from_team_10 = pd.read_csv(os.path.join(file_path, 'dataset_from_team_10.csv'))"
   ]
  },
  {
   "cell_type": "code",
   "execution_count": 45,
   "id": "b01674b4",
   "metadata": {},
   "outputs": [
    {
     "name": "stdout",
     "output_type": "stream",
     "text": [
      "<class 'pandas.core.frame.DataFrame'>\n",
      "RangeIndex: 500 entries, 0 to 499\n",
      "Data columns (total 13 columns):\n",
      " #   Column           Non-Null Count  Dtype  \n",
      "---  ------           --------------  -----  \n",
      " 0   account_link     500 non-null    object \n",
      " 1   search_keywords  500 non-null    object \n",
      " 2   name             500 non-null    object \n",
      " 3   title            500 non-null    object \n",
      " 4   works_at         446 non-null    object \n",
      " 5   intro            500 non-null    object \n",
      " 6   experience       500 non-null    float64\n",
      " 7   place            500 non-null    object \n",
      " 8   posts_cnt        500 non-null    int64  \n",
      " 9   post_text        500 non-null    object \n",
      " 10  reaction_cnt     350 non-null    float64\n",
      " 11  comments_cnt     164 non-null    float64\n",
      " 12  repost_cnt       170 non-null    float64\n",
      "dtypes: float64(4), int64(1), object(8)\n",
      "memory usage: 50.9+ KB\n"
     ]
    }
   ],
   "source": [
    "dataset_from_team_10.info()"
   ]
  },
  {
   "cell_type": "code",
   "execution_count": 46,
   "id": "17830be4",
   "metadata": {},
   "outputs": [
    {
     "data": {
      "text/plain": [
       "3"
      ]
     },
     "execution_count": 46,
     "metadata": {},
     "output_type": "execute_result"
    }
   ],
   "source": [
    "# Проверим на наличие дубликатов \n",
    "dataset_from_team_10.duplicated().sum()"
   ]
  },
  {
   "cell_type": "code",
   "execution_count": 47,
   "id": "522208d1",
   "metadata": {},
   "outputs": [],
   "source": [
    "# Устраняем их\n",
    "dataset_from_team_10.drop_duplicates(inplace=True)"
   ]
  },
  {
   "cell_type": "code",
   "execution_count": 48,
   "id": "ab360c32",
   "metadata": {},
   "outputs": [
    {
     "data": {
      "text/plain": [
       "account_link         0\n",
       "search_keywords      0\n",
       "name                 0\n",
       "title                0\n",
       "works_at            52\n",
       "intro                0\n",
       "experience           0\n",
       "place                0\n",
       "posts_cnt            0\n",
       "post_text            0\n",
       "reaction_cnt       149\n",
       "comments_cnt       335\n",
       "repost_cnt         329\n",
       "dtype: int64"
      ]
     },
     "execution_count": 48,
     "metadata": {},
     "output_type": "execute_result"
    }
   ],
   "source": [
    "# Проверка на пропущенные значения\n",
    "dataset_from_team_10.isna().sum()"
   ]
  },
  {
   "cell_type": "code",
   "execution_count": 49,
   "id": "af499b54",
   "metadata": {},
   "outputs": [],
   "source": [
    "# Устраняем их\n",
    "dataset_from_team_10.dropna(inplace=True)"
   ]
  },
  {
   "cell_type": "code",
   "execution_count": 50,
   "id": "62ec4f07",
   "metadata": {},
   "outputs": [],
   "source": [
    "dataset_from_team_10 = dataset_from_team_10.rename(columns={'account_link': 'url', 'search_keywords': 'user_head', 'name': 'user_name', 'title': 'user_tags', 'works_at': 'user_work', 'intro': 'user_common_info', 'experience':'user_experience', 'place': 'user_location', 'post_text': 'text', 'reaction_cnt': 'likes', 'comments_cnt': 'comments', 'repost_cnt': 'reposts'})"
   ]
  },
  {
   "cell_type": "code",
   "execution_count": 51,
   "id": "36dbccd5",
   "metadata": {},
   "outputs": [],
   "source": [
    "dataset_from_team_10 = dataset_from_team_10.drop('posts_cnt', axis=1)"
   ]
  },
  {
   "cell_type": "code",
   "execution_count": 52,
   "id": "7598f728",
   "metadata": {},
   "outputs": [
    {
     "data": {
      "text/html": [
       "<div>\n",
       "<style scoped>\n",
       "    .dataframe tbody tr th:only-of-type {\n",
       "        vertical-align: middle;\n",
       "    }\n",
       "\n",
       "    .dataframe tbody tr th {\n",
       "        vertical-align: top;\n",
       "    }\n",
       "\n",
       "    .dataframe thead th {\n",
       "        text-align: right;\n",
       "    }\n",
       "</style>\n",
       "<table border=\"1\" class=\"dataframe\">\n",
       "  <thead>\n",
       "    <tr style=\"text-align: right;\">\n",
       "      <th></th>\n",
       "      <th>url</th>\n",
       "      <th>user_head</th>\n",
       "      <th>user_name</th>\n",
       "      <th>user_tags</th>\n",
       "      <th>user_work</th>\n",
       "      <th>user_common_info</th>\n",
       "      <th>user_experience</th>\n",
       "      <th>user_location</th>\n",
       "      <th>text</th>\n",
       "      <th>likes</th>\n",
       "      <th>comments</th>\n",
       "      <th>reposts</th>\n",
       "    </tr>\n",
       "  </thead>\n",
       "  <tbody>\n",
       "    <tr>\n",
       "      <th>17</th>\n",
       "      <td>https://www.linkedin.com/in/dm-bychkov</td>\n",
       "      <td>frontend</td>\n",
       "      <td>Dmitrii Bychkov ✅</td>\n",
       "      <td>Frontend Web Developer | JavaScript | TypeScript | React | Redux | HTML | CSS | Node.js | SQL</td>\n",
       "      <td>SmartMechanica</td>\n",
       "      <td>Всем привет!)Меня зовут Дмитрий.Я Frontend разработчик.Я люблю новые технологии, свободное время посвящаю изучению нового стека.Мне нравится анализировать все, что происходит вокруг меня, и обдумывать различные ветки сценариев моих действий в поиске самого эффективного решения.Мой стек:- Frontend: JavaScript, React, Redux Toolkit, HTML, CSS, SCSS- Backend: Node.js, Express.js, PostgreSQL, SQLite, Sequelize- Работа с REST API, Git, Webpack, Jest, AJAXОсваиваю: TypeScript, Prizma, RedisСтремлюсь работать в развивающейся компании, с комфортной командой.Для меня важно развиваться и чувствовать профессиональный рост.Мои контакты:+7 (926) 275-61-85jsmaildm@gmail.comhttps://t.me/Bychkow_DmitriiВсем привет!)\\n\\nМеня зовут Дмитрий.\\nЯ Frontend разработчик.\\n\\nЯ люблю новые технологии, свободное время посвящаю изучению нового стека.\\nМне нравится анализировать все, что происходит вокруг меня, и обдумывать различные ветки сценариев моих действий в поиске самого эффективного решения.\\n\\nМой стек:\\n- Frontend: JavaScript, React, Redux Toolkit, HTML, CSS, SCSS\\n- Backend: Node.js, Express.js, PostgreSQL, SQLite, Sequelize\\n- Работа с REST API, Git, Webpack, Jest, AJAX\\nОсваиваю: TypeScript, Prizma, Redis\\n\\nСтремлюсь работать в развивающейся компании, с комфортной командой.\\nДля меня важно развиваться и чувствовать профессиональный рост.\\n\\nМои контакты:\\n\\n+7 (926) 275-61-85\\njsmaildm@gmail.com\\nhttps://t.me/Bychkow_Dmitrii</td>\n",
       "      <td>3.0</td>\n",
       "      <td>Москва, Москва, Россия</td>\n",
       "      <td>#Redux Architecture - PART 01The Redux is basically Cross-Component Management and App-Wide State Management, also called General State Management.With the Redux, we can share data from parent to child, sibling components or components that are not even related to each other, avoiding the re-rendering issue in #React.Here is everything you need to know about Redux Architecture, but theoretically.In the next post, we'll build the Redux Architecture to manage general state(s).#react #redux #javascript</td>\n",
       "      <td>6.0</td>\n",
       "      <td>1.0</td>\n",
       "      <td>7.0</td>\n",
       "    </tr>\n",
       "    <tr>\n",
       "      <th>21</th>\n",
       "      <td>https://www.linkedin.com/in/iredun</td>\n",
       "      <td>backend</td>\n",
       "      <td>Иван Редун</td>\n",
       "      <td>Backend Python developer</td>\n",
       "      <td>SITRONICS IT</td>\n",
       "      <td>- Всё что нас не убивает, делает сильнее?- То добавляет ещё одну строчку в резюме- Всё что нас не убивает, делает сильнее?\\n- То добавляет ещё одну строчку в резюме</td>\n",
       "      <td>11.0</td>\n",
       "      <td>Ставрополь, Ставропольский край, Россия</td>\n",
       "      <td>I see, that it is a permanently growing demand for mentoring nowadays. After 10 years working experience I believe that I have enough to share from my expertise. And I'm ready to take 1-2 persons for mentoring for free - just as small New Year Present :)How can I help:- for people who don't find their path yet - I can take an advice and route you to the right direction;- for people who already works in Product/Project management and would like to grow - we will find your points of growth;- for people who is already grown but met some challenging issues  - we can discuss and have a brainstorm together.Format: 3-4 one-hour sessions + support in chat.You are welcome!Вижу, что сильно возрос запрос на менторинг, и я подумала - а почему нет? Спустя 10 лет опыта мне есть, чем поделиться. Готова взять 1-2 человек на менторинг в качестве новогодней акции бесплатно!Чем я могу помочь:- для тех, кто ещё не нашёл своё призвание - подскажу и направлю, где вы сможете применить свои способности и навыки;- для тех, кто уже работает в продуктовом или проджектовом менеджменте и хочет расти - вместе найдём ваши точки роста;- для тех, кто уже вырос, но столкнулся со сложными задачами - я могу обсудить и побрейнштормить вместе с вами.Формат: 3-4 часовых сессии + поддержка в чате.Желающих велкам в личку :)</td>\n",
       "      <td>2.0</td>\n",
       "      <td>3.0</td>\n",
       "      <td>2.0</td>\n",
       "    </tr>\n",
       "    <tr>\n",
       "      <th>22</th>\n",
       "      <td>https://www.linkedin.com/in/nickkharin</td>\n",
       "      <td>lead test engineer</td>\n",
       "      <td>Nikolay Kharin</td>\n",
       "      <td>Big Data Engineer | Lead Test Automation Engineer</td>\n",
       "      <td>Quantori</td>\n",
       "      <td>Big Data engineer with a background in Python, its libraries and frameworks;BS in Programming Engineering;Proficient in SQL;Certified in data science;Hands-on experience in creating and working with DWHs, Big Data processes and automation testingBig Data engineer with a background in Python, its libraries and frameworks;\\nBS in Programming Engineering;\\nProficient in SQL;\\nCertified in data science;\\nHands-on experience in creating and working with DWHs, Big Data processes and automation testing\\n\\n \\n          …См. еще</td>\n",
       "      <td>6.0</td>\n",
       "      <td>Ереван, Ереван, Армения</td>\n",
       "      <td>✅ ‼️ Инструкция по написанию Резюме и Cover Letter от Гарвардского Университета ‼️ ✅#linkedin #cvwriting #jobsearch #freecourses #linkedinhacks  #cv #university #coverletter #linkedin</td>\n",
       "      <td>4.0</td>\n",
       "      <td>6.0</td>\n",
       "      <td>7.0</td>\n",
       "    </tr>\n",
       "    <tr>\n",
       "      <th>38</th>\n",
       "      <td>https://www.linkedin.com/in/4rontender</td>\n",
       "      <td>frontend</td>\n",
       "      <td>Rinat (4rontender) Valiullov</td>\n",
       "      <td>Frontend Developer</td>\n",
       "      <td>Пермский Государственный Технический Университет (ПГТУ)</td>\n",
       "      <td>Меняйте ваши мнения, сохраняйте принципы: меняйте листья, сохраняйте корни. В. ГюгоМеняйте ваши мнения, сохраняйте принципы: меняйте листья, сохраняйте корни. В. Гюго</td>\n",
       "      <td>8.0</td>\n",
       "      <td>Пермь, Пермский край, Россия</td>\n",
       "      <td>Use React? Render large lists efficiently with react-window: https://lnkd.in/etNN94TH ~ a small library for virtualizing lists &amp; grids. Renders what users can see vs. all your items at once.If you've used React Virtualized for this before, it's by the same author Brian Vaughn, (but is far smaller) and a better fit if targeting mobile web given the smaller library size. A quick Movies demo using react-window can be found here: https://lnkd.in/edAK3HR8I've enjoyed using react-window on a few projects where list virtualization was a better fit for the UX. There are of course trade-offs with infinite scrolling patterns like this (e.g. with CLS, Load More) and I've written about them here: https://lnkd.in/eQc8mGQyIn case you're interested in learning more about list virtualization in React with plenty of examples, there's a great guide over on web(dot)dev too by Houssein Djirdeh and Jason Miller: https://lnkd.in/erqqabkV :)#softwareengineering #javascript #webdevelopment</td>\n",
       "      <td>9.0</td>\n",
       "      <td>5.0</td>\n",
       "      <td>4.0</td>\n",
       "    </tr>\n",
       "    <tr>\n",
       "      <th>41</th>\n",
       "      <td>https://www.linkedin.com/in/ankhanhi</td>\n",
       "      <td>ML engineer</td>\n",
       "      <td>Анна Хан</td>\n",
       "      <td>Data scientist | Analyst | ML-engineer</td>\n",
       "      <td>Московский Государственный Институт Электронной Техники (Технический Университет) (МИЭТ)</td>\n",
       "      <td>👋 Привет! Я студентка 3 курса программной инженерии и развивающийся DS-специалист.🔑 Ключевые навыки:- Понимание различных методов машинного обучения, таких как SVM/регрессия, иерархическая кластеризация, дерево решений, нейронные сети и NLP- Уверенное знание статистических методов и принципов А/Б тестирования- Активное участие в хакатонах и конференциях по data science- Опыт создания и публикации технических статей в области машинного обучения🛠 Технологии, которые я использую:- Python с использованием библиотек Pandas, Numpy, Seaborn, Matplotlib и Scikit-learn, PyTorch для разработки моделей машинного обучения- SQL и базы данных PostgreSQL, MySQL и ClickHouse- Bash для автоматизации рутинных задач- Redash для визуализации данных и обнаружения скрытых закономерностей и трендов.- MLflow и FastAPI для комплексной разработки и мониторинга моделей машинного обучения👋 Привет! Я студентка 3 курса программной инженерии и развивающийся DS-специалист.\\n\\n🔑 Ключевые навыки:\\n- Понимание различных методов машинного обучения, таких как SVM/регрессия, иерархическая кластеризация, дерево решений, нейронные сети и NLP\\n- Уверенное знание статистических методов и принципов А/Б тестирования\\n- Активное участие в хакатонах и конференциях по data science\\n- Опыт создания и публикации технических статей в области машинного обучения\\n\\n🛠 Технологии, которые я использую:\\n- Python с использованием библиотек Pandas, Numpy, Seaborn, Matplotlib и Scikit-learn, PyTorch для разработки моделей машинного обучения\\n- SQL и базы данных PostgreSQL, MySQL и ClickHouse\\n- Bash для автоматизации рутинных задач\\n- Redash для визуализации данных и обнаружения скрытых закономерностей и трендов.\\n- MLflow и FastAPI для комплексной разработки и мониторинга моделей машинного обучения\\n\\n \\n          …См. еще</td>\n",
       "      <td>2.0</td>\n",
       "      <td>Москва, Москва, Россия</td>\n",
       "      <td>Решаю недавно выпущенный ML-симулятор от karpov.courses.Проект анонсирован как набор практических задач, с которыми ml инженер действительно может столкнуться в своей работе. Пока что описание полностью себя оправдывает. Минимум теории, максимум практики. Три моих курса в университете сформировали какой-никакой бэкграунд, поэтому кейсы даются, хотя и не с лету. Служба поддержки в Discord помогает в особенно трудных моментах, но именно, что подсказывает, а не решает за тебя.В планах - закончить Intern и Junior уровни. Задачки интересные, может и в Middle что-нибудь решу :))#simulator_ml #karpovcourses #datascience #machinelearning #ml</td>\n",
       "      <td>8.0</td>\n",
       "      <td>2.0</td>\n",
       "      <td>1.0</td>\n",
       "    </tr>\n",
       "  </tbody>\n",
       "</table>\n",
       "</div>"
      ],
      "text/plain": [
       "                                       url           user_head  \\\n",
       "17  https://www.linkedin.com/in/dm-bychkov            frontend   \n",
       "21      https://www.linkedin.com/in/iredun             backend   \n",
       "22  https://www.linkedin.com/in/nickkharin  lead test engineer   \n",
       "38  https://www.linkedin.com/in/4rontender            frontend   \n",
       "41    https://www.linkedin.com/in/ankhanhi         ML engineer   \n",
       "\n",
       "                       user_name  \\\n",
       "17             Dmitrii Bychkov ✅   \n",
       "21                    Иван Редун   \n",
       "22                Nikolay Kharin   \n",
       "38  Rinat (4rontender) Valiullov   \n",
       "41                      Анна Хан   \n",
       "\n",
       "                                                                                        user_tags  \\\n",
       "17  Frontend Web Developer | JavaScript | TypeScript | React | Redux | HTML | CSS | Node.js | SQL   \n",
       "21                                                                       Backend Python developer   \n",
       "22                                              Big Data Engineer | Lead Test Automation Engineer   \n",
       "38                                                                             Frontend Developer   \n",
       "41                                                         Data scientist | Analyst | ML-engineer   \n",
       "\n",
       "                                                                                   user_work  \\\n",
       "17                                                                            SmartMechanica   \n",
       "21                                                                              SITRONICS IT   \n",
       "22                                                                                  Quantori   \n",
       "38                                   Пермский Государственный Технический Университет (ПГТУ)   \n",
       "41  Московский Государственный Институт Электронной Техники (Технический Университет) (МИЭТ)   \n",
       "\n",
       "                                                                                                                                                                                                                                                                                                                                                                                                                                                                                                                                                                                                                                                                                                                                                                                                                                                                                                                                                                                                                                                                                                                                                                                                                                                                                                                                                                                                                                                                                                                                                                                                                                                                                                                                                                                                                                                         user_common_info  \\\n",
       "17                                                                                                                                                                                                                                                                                                                                                                             Всем привет!)Меня зовут Дмитрий.Я Frontend разработчик.Я люблю новые технологии, свободное время посвящаю изучению нового стека.Мне нравится анализировать все, что происходит вокруг меня, и обдумывать различные ветки сценариев моих действий в поиске самого эффективного решения.Мой стек:- Frontend: JavaScript, React, Redux Toolkit, HTML, CSS, SCSS- Backend: Node.js, Express.js, PostgreSQL, SQLite, Sequelize- Работа с REST API, Git, Webpack, Jest, AJAXОсваиваю: TypeScript, Prizma, RedisСтремлюсь работать в развивающейся компании, с комфортной командой.Для меня важно развиваться и чувствовать профессиональный рост.Мои контакты:+7 (926) 275-61-85jsmaildm@gmail.comhttps://t.me/Bychkow_DmitriiВсем привет!)\\n\\nМеня зовут Дмитрий.\\nЯ Frontend разработчик.\\n\\nЯ люблю новые технологии, свободное время посвящаю изучению нового стека.\\nМне нравится анализировать все, что происходит вокруг меня, и обдумывать различные ветки сценариев моих действий в поиске самого эффективного решения.\\n\\nМой стек:\\n- Frontend: JavaScript, React, Redux Toolkit, HTML, CSS, SCSS\\n- Backend: Node.js, Express.js, PostgreSQL, SQLite, Sequelize\\n- Работа с REST API, Git, Webpack, Jest, AJAX\\nОсваиваю: TypeScript, Prizma, Redis\\n\\nСтремлюсь работать в развивающейся компании, с комфортной командой.\\nДля меня важно развиваться и чувствовать профессиональный рост.\\n\\nМои контакты:\\n\\n+7 (926) 275-61-85\\njsmaildm@gmail.com\\nhttps://t.me/Bychkow_Dmitrii   \n",
       "21                                                                                                                                                                                                                                                                                                                                                                                                                                                                                                                                                                                                                                                                                                                                                                                                                                                                                                                                                                                                                                                                                                                                                                                                                                                                                                                                                                                                                                                                                                                                                                                                                                                                                                   - Всё что нас не убивает, делает сильнее?- То добавляет ещё одну строчку в резюме- Всё что нас не убивает, делает сильнее?\\n- То добавляет ещё одну строчку в резюме   \n",
       "22                                                                                                                                                                                                                                                                                                                                                                                                                                                                                                                                                                                                                                                                                                                                                                                                                                                                                                                                                                                                                                                                                                                                                                                                                                                                                                                          Big Data engineer with a background in Python, its libraries and frameworks;BS in Programming Engineering;Proficient in SQL;Certified in data science;Hands-on experience in creating and working with DWHs, Big Data processes and automation testingBig Data engineer with a background in Python, its libraries and frameworks;\\nBS in Programming Engineering;\\nProficient in SQL;\\nCertified in data science;\\nHands-on experience in creating and working with DWHs, Big Data processes and automation testing\\n\\n \\n          …См. еще   \n",
       "38                                                                                                                                                                                                                                                                                                                                                                                                                                                                                                                                                                                                                                                                                                                                                                                                                                                                                                                                                                                                                                                                                                                                                                                                                                                                                                                                                                                                                                                                                                                                                                                                                                                                                                 Меняйте ваши мнения, сохраняйте принципы: меняйте листья, сохраняйте корни. В. ГюгоМеняйте ваши мнения, сохраняйте принципы: меняйте листья, сохраняйте корни. В. Гюго   \n",
       "41  👋 Привет! Я студентка 3 курса программной инженерии и развивающийся DS-специалист.🔑 Ключевые навыки:- Понимание различных методов машинного обучения, таких как SVM/регрессия, иерархическая кластеризация, дерево решений, нейронные сети и NLP- Уверенное знание статистических методов и принципов А/Б тестирования- Активное участие в хакатонах и конференциях по data science- Опыт создания и публикации технических статей в области машинного обучения🛠 Технологии, которые я использую:- Python с использованием библиотек Pandas, Numpy, Seaborn, Matplotlib и Scikit-learn, PyTorch для разработки моделей машинного обучения- SQL и базы данных PostgreSQL, MySQL и ClickHouse- Bash для автоматизации рутинных задач- Redash для визуализации данных и обнаружения скрытых закономерностей и трендов.- MLflow и FastAPI для комплексной разработки и мониторинга моделей машинного обучения👋 Привет! Я студентка 3 курса программной инженерии и развивающийся DS-специалист.\\n\\n🔑 Ключевые навыки:\\n- Понимание различных методов машинного обучения, таких как SVM/регрессия, иерархическая кластеризация, дерево решений, нейронные сети и NLP\\n- Уверенное знание статистических методов и принципов А/Б тестирования\\n- Активное участие в хакатонах и конференциях по data science\\n- Опыт создания и публикации технических статей в области машинного обучения\\n\\n🛠 Технологии, которые я использую:\\n- Python с использованием библиотек Pandas, Numpy, Seaborn, Matplotlib и Scikit-learn, PyTorch для разработки моделей машинного обучения\\n- SQL и базы данных PostgreSQL, MySQL и ClickHouse\\n- Bash для автоматизации рутинных задач\\n- Redash для визуализации данных и обнаружения скрытых закономерностей и трендов.\\n- MLflow и FastAPI для комплексной разработки и мониторинга моделей машинного обучения\\n\\n \\n          …См. еще   \n",
       "\n",
       "    user_experience                            user_location  \\\n",
       "17              3.0                   Москва, Москва, Россия   \n",
       "21             11.0  Ставрополь, Ставропольский край, Россия   \n",
       "22              6.0                  Ереван, Ереван, Армения   \n",
       "38              8.0             Пермь, Пермский край, Россия   \n",
       "41              2.0                   Москва, Москва, Россия   \n",
       "\n",
       "                                                                                                                                                                                                                                                                                                                                                                                                                                                                                                                                                                                                                                                                                                                                                                                                                                                                                                                                                                                                                                                                                                                                                                                                                                                                                                                                                        text  \\\n",
       "17                                                                                                                                                                                                                                                                                                                                                                                                                                                                                                                                                                                                                                                                                                                                                                                                                                  #Redux Architecture - PART 01The Redux is basically Cross-Component Management and App-Wide State Management, also called General State Management.With the Redux, we can share data from parent to child, sibling components or components that are not even related to each other, avoiding the re-rendering issue in #React.Here is everything you need to know about Redux Architecture, but theoretically.In the next post, we'll build the Redux Architecture to manage general state(s).#react #redux #javascript   \n",
       "21  I see, that it is a permanently growing demand for mentoring nowadays. After 10 years working experience I believe that I have enough to share from my expertise. And I'm ready to take 1-2 persons for mentoring for free - just as small New Year Present :)How can I help:- for people who don't find their path yet - I can take an advice and route you to the right direction;- for people who already works in Product/Project management and would like to grow - we will find your points of growth;- for people who is already grown but met some challenging issues  - we can discuss and have a brainstorm together.Format: 3-4 one-hour sessions + support in chat.You are welcome!Вижу, что сильно возрос запрос на менторинг, и я подумала - а почему нет? Спустя 10 лет опыта мне есть, чем поделиться. Готова взять 1-2 человек на менторинг в качестве новогодней акции бесплатно!Чем я могу помочь:- для тех, кто ещё не нашёл своё призвание - подскажу и направлю, где вы сможете применить свои способности и навыки;- для тех, кто уже работает в продуктовом или проджектовом менеджменте и хочет расти - вместе найдём ваши точки роста;- для тех, кто уже вырос, но столкнулся со сложными задачами - я могу обсудить и побрейнштормить вместе с вами.Формат: 3-4 часовых сессии + поддержка в чате.Желающих велкам в личку :)   \n",
       "22                                                                                                                                                                                                                                                                                                                                                                                                                                                                                                                                                                                                                                                                                                                                                                                                                                                                                                                                                                                                                                                                                                                                                                   ✅ ‼️ Инструкция по написанию Резюме и Cover Letter от Гарвардского Университета ‼️ ✅#linkedin #cvwriting #jobsearch #freecourses #linkedinhacks  #cv #university #coverletter #linkedin   \n",
       "38                                                                                                                                                                                                                                                                                                                                      Use React? Render large lists efficiently with react-window: https://lnkd.in/etNN94TH ~ a small library for virtualizing lists & grids. Renders what users can see vs. all your items at once.If you've used React Virtualized for this before, it's by the same author Brian Vaughn, (but is far smaller) and a better fit if targeting mobile web given the smaller library size. A quick Movies demo using react-window can be found here: https://lnkd.in/edAK3HR8I've enjoyed using react-window on a few projects where list virtualization was a better fit for the UX. There are of course trade-offs with infinite scrolling patterns like this (e.g. with CLS, Load More) and I've written about them here: https://lnkd.in/eQc8mGQyIn case you're interested in learning more about list virtualization in React with plenty of examples, there's a great guide over on web(dot)dev too by Houssein Djirdeh and Jason Miller: https://lnkd.in/erqqabkV :)#softwareengineering #javascript #webdevelopment   \n",
       "41                                                                                                                                                                                                                                                                                                                                                                                                                                                                                                                                                                                                                                                                                         Решаю недавно выпущенный ML-симулятор от karpov.courses.Проект анонсирован как набор практических задач, с которыми ml инженер действительно может столкнуться в своей работе. Пока что описание полностью себя оправдывает. Минимум теории, максимум практики. Три моих курса в университете сформировали какой-никакой бэкграунд, поэтому кейсы даются, хотя и не с лету. Служба поддержки в Discord помогает в особенно трудных моментах, но именно, что подсказывает, а не решает за тебя.В планах - закончить Intern и Junior уровни. Задачки интересные, может и в Middle что-нибудь решу :))#simulator_ml #karpovcourses #datascience #machinelearning #ml   \n",
       "\n",
       "    likes  comments  reposts  \n",
       "17    6.0       1.0      7.0  \n",
       "21    2.0       3.0      2.0  \n",
       "22    4.0       6.0      7.0  \n",
       "38    9.0       5.0      4.0  \n",
       "41    8.0       2.0      1.0  "
      ]
     },
     "metadata": {},
     "output_type": "display_data"
    },
    {
     "data": {
      "text/html": [
       "<div>\n",
       "<style scoped>\n",
       "    .dataframe tbody tr th:only-of-type {\n",
       "        vertical-align: middle;\n",
       "    }\n",
       "\n",
       "    .dataframe tbody tr th {\n",
       "        vertical-align: top;\n",
       "    }\n",
       "\n",
       "    .dataframe thead th {\n",
       "        text-align: right;\n",
       "    }\n",
       "</style>\n",
       "<table border=\"1\" class=\"dataframe\">\n",
       "  <thead>\n",
       "    <tr style=\"text-align: right;\">\n",
       "      <th></th>\n",
       "      <th>url</th>\n",
       "      <th>user_head</th>\n",
       "      <th>user_name</th>\n",
       "      <th>user_tags</th>\n",
       "      <th>user_work</th>\n",
       "      <th>user_common_info</th>\n",
       "      <th>user_experience</th>\n",
       "      <th>user_location</th>\n",
       "      <th>text</th>\n",
       "      <th>likes</th>\n",
       "      <th>comments</th>\n",
       "      <th>reposts</th>\n",
       "    </tr>\n",
       "  </thead>\n",
       "  <tbody>\n",
       "    <tr>\n",
       "      <th>484</th>\n",
       "      <td>https://www.linkedin.com/in/alena-osokina</td>\n",
       "      <td>senior ML engineer</td>\n",
       "      <td>Alena Osokina</td>\n",
       "      <td>Senior Data Scientist | ML Engineer | Specialization Lead at Grid Dynamics</td>\n",
       "      <td>Grid Dynamics</td>\n",
       "      <td>Hello! I'm a software engineer and a data scientist with 7+ years of experience in total.My core skills &amp; tech:● Programming: Python, Java, SQL, C#● Research and calculations: MATLAB, Mathematica, LaTeX● Tools &amp; libraries: Keras, Tensorflow, PyTorch, Pandas, Jupyter, statsmodels, scikit-learn, OpenCV, Tesseract, NLTK● ML &amp; statistics: Time Series Forecast models, Autoregressive &amp; Risk Analysis, Computer Vision ● Deep learning: fully connected NN, CNN, RNN &amp; LSTM, Transformers, Encoder-Decoder networks● Cloud &amp; Big Data: Azure Databricks, GCP, AWS, pySpark, DockerWorked on a wide range of IT-connected areas: from IT team leadership and developing end-to-end ML solutions to teaching and financial analysis.Hello! \\nI'm a software engineer and a data scientist with 7+ years of experience in total.\\n\\nMy core skills &amp; tech:\\n● Programming: Python, Java, SQL, C#\\n● Research and calculations: MATLAB, Mathematica, LaTeX\\n● Tools &amp; libraries: Keras, Tensorflow, PyTorch, Pandas, Jupyter, statsmodels, scikit-learn, OpenCV, Tesseract, NLTK\\n● ML &amp; statistics: Time Series Forecast models, Autoregressive &amp; Risk Analysis, Computer Vision \\n● Deep learning: fully connected NN, CNN, RNN &amp; LSTM, Transformers, Encoder-Decoder networks\\n● Cloud &amp; Big Data: Azure Databricks, GCP, AWS, pySpark, Docker\\n\\nWorked on a wide range of IT-connected areas: from IT team leadership and developing end-to-end ML solutions to teaching and financial analysis.</td>\n",
       "      <td>8.0</td>\n",
       "      <td>Сербия</td>\n",
       "      <td>Hi everyone - I am opened for new opportunities. I'm proficient in developing test frameworks from scratch on Python language, but I also have an experience in Groovy and Java languages.Thank you in advance for any connections, advice, or opportunities you can offer. #OpenToWork</td>\n",
       "      <td>5.0</td>\n",
       "      <td>3.0</td>\n",
       "      <td>3.0</td>\n",
       "    </tr>\n",
       "    <tr>\n",
       "      <th>487</th>\n",
       "      <td>https://www.linkedin.com/in/aleksey-knyazev-a25714125</td>\n",
       "      <td>lead web developer</td>\n",
       "      <td>Aleksey Knyazev</td>\n",
       "      <td>Lead Frontend Developer (Remote)</td>\n",
       "      <td>ggCircuit</td>\n",
       "      <td>(Please note - I'm not looking for a job at the moment)I’m a lead frontend developer specializing in Angular with solid fullstack background. Have experience of working on large scale projects building frontend architecture and managing frontend team.I have participated in every stage of web application development from designing architecture to building flexible environment for deploying and delivering clients’ products. Thus, I know exactly how to help your project be successful.My main skills are:Frontend:- Angular- RxJS/NgRX/NgXS/Nx- ES5/ES6, Typescript- SCSS, LESSBackend:- NodeJS- Python (Django)- Java (Spring)- MySQL, Postgresql- MongoDBDeployment/CI:- Docker- Jira, Jenkins, CircleCIFavorite Practices: - Scrum, TDD/BDD- Git-Flow, Continuous Integration- Modular architecture, MonoreposPreferences:- Looking for full-time job or part-time consultant job- Looking for remote job only(Please note - I'm not looking for a job at the moment)\\n\\nI’m a lead frontend developer specializing in Angular with solid fullstack background. Have experience of working on large scale projects building frontend architecture and managing frontend team.\\n\\nI have participated in every stage of web application development from designing architecture to building flexible environment for deploying and delivering clients’ products. Thus, I know exactly how to help your project be successful.\\n\\nMy main skills are:\\n\\nFrontend:\\n- Angular\\n- RxJS/NgRX/NgXS/Nx\\n- ES5/ES6, Typescript\\n- SCSS, LESS\\n\\nBackend:\\n- NodeJS\\n- Python (Django)\\n- Java (Spring)\\n- MySQL, Postgresql\\n- MongoDB\\n\\nDeployment/CI:\\n- Docker\\n- Jira, Jenkins, CircleCI\\n\\nFavorite Practices: \\n- Scrum, TDD/BDD\\n- Git-Flow, Continuous Integration\\n- Modular architecture, Monorepos\\n\\nPreferences:\\n- Looking for full-time job or part-time consultant job\\n- Looking for remote job only\\n\\n \\n          …См. еще</td>\n",
       "      <td>8.0</td>\n",
       "      <td>Россия</td>\n",
       "      <td>Hello everyone! I'm looking for a job and I’d appreciate your support. Only 100% remote options but flexible in-person at certain times.For the referral, I'll invite you to some beers 🍻 😜If you could share and/or comment to interested people, I’d really appreciate it 🤗 #job #opportunity #OpenToWork-----¡Hola a todos! Estoy buscando empleo y os agradecería el apoyo. Sólo opciones remoto 100% aunque, flexible en lo presencial \"puntualmente\" hablando.Por el referral os invito a unas cervezas 🍻 😜 Si pudieráis compartir y/o comentadlo a interesad@s os lo agradecería 🤗 #empleo #oportunidad #OpenToWork</td>\n",
       "      <td>5.0</td>\n",
       "      <td>7.0</td>\n",
       "      <td>7.0</td>\n",
       "    </tr>\n",
       "    <tr>\n",
       "      <th>489</th>\n",
       "      <td>https://www.linkedin.com/in/dm-bychkov</td>\n",
       "      <td>frontend</td>\n",
       "      <td>Dmitrii Bychkov ✅</td>\n",
       "      <td>Frontend Web Developer | JavaScript | TypeScript | React | Redux | HTML | CSS | Node.js | SQL</td>\n",
       "      <td>SmartMechanica</td>\n",
       "      <td>Всем привет!)Меня зовут Дмитрий.Я Frontend разработчик.Я люблю новые технологии, свободное время посвящаю изучению нового стека.Мне нравится анализировать все, что происходит вокруг меня, и обдумывать различные ветки сценариев моих действий в поиске самого эффективного решения.Мой стек:- Frontend: JavaScript, React, Redux Toolkit, HTML, CSS, SCSS- Backend: Node.js, Express.js, PostgreSQL, SQLite, Sequelize- Работа с REST API, Git, Webpack, Jest, AJAXОсваиваю: TypeScript, Prizma, RedisСтремлюсь работать в развивающейся компании, с комфортной командой.Для меня важно развиваться и чувствовать профессиональный рост.Мои контакты:+7 (926) 275-61-85jsmaildm@gmail.comhttps://t.me/Bychkow_DmitriiВсем привет!)\\n\\nМеня зовут Дмитрий.\\nЯ Frontend разработчик.\\n\\nЯ люблю новые технологии, свободное время посвящаю изучению нового стека.\\nМне нравится анализировать все, что происходит вокруг меня, и обдумывать различные ветки сценариев моих действий в поиске самого эффективного решения.\\n\\nМой стек:\\n- Frontend: JavaScript, React, Redux Toolkit, HTML, CSS, SCSS\\n- Backend: Node.js, Express.js, PostgreSQL, SQLite, Sequelize\\n- Работа с REST API, Git, Webpack, Jest, AJAX\\nОсваиваю: TypeScript, Prizma, Redis\\n\\nСтремлюсь работать в развивающейся компании, с комфортной командой.\\nДля меня важно развиваться и чувствовать профессиональный рост.\\n\\nМои контакты:\\n\\n+7 (926) 275-61-85\\njsmaildm@gmail.com\\nhttps://t.me/Bychkow_Dmitrii</td>\n",
       "      <td>3.0</td>\n",
       "      <td>Москва, Москва, Россия</td>\n",
       "      <td>👉 𝗛𝗧𝗠𝗟 𝗖𝗼𝗺𝗽𝗹𝗲𝘁𝗲 𝗡𝗼𝘁𝗲𝘀 , 𝗘𝗮𝘀𝘆 𝘁𝗼 𝗹𝗲𝗮𝗿𝗻 .👉Follow Rushika Rai  for more .👉Follow Rushika Rai  for more .credits : Developer Updates#programming #programmer #coding #coder #code #web #website #design #designer #development #developer #webdesign #webdesigner #webdevelopment #webdeveloper #frontend #backend #frontenddeveloper #backenddeveloper #html5 #html #css3 #css #javascript #js #reactjs #engineering #engineer #software #developer</td>\n",
       "      <td>4.0</td>\n",
       "      <td>4.0</td>\n",
       "      <td>9.0</td>\n",
       "    </tr>\n",
       "    <tr>\n",
       "      <th>491</th>\n",
       "      <td>https://www.linkedin.com/in/dm-bychkov</td>\n",
       "      <td>frontend</td>\n",
       "      <td>Dmitrii Bychkov ✅</td>\n",
       "      <td>Frontend Web Developer | JavaScript | TypeScript | React | Redux | HTML | CSS | Node.js | SQL</td>\n",
       "      <td>SmartMechanica</td>\n",
       "      <td>Всем привет!)Меня зовут Дмитрий.Я Frontend разработчик.Я люблю новые технологии, свободное время посвящаю изучению нового стека.Мне нравится анализировать все, что происходит вокруг меня, и обдумывать различные ветки сценариев моих действий в поиске самого эффективного решения.Мой стек:- Frontend: JavaScript, React, Redux Toolkit, HTML, CSS, SCSS- Backend: Node.js, Express.js, PostgreSQL, SQLite, Sequelize- Работа с REST API, Git, Webpack, Jest, AJAXОсваиваю: TypeScript, Prizma, RedisСтремлюсь работать в развивающейся компании, с комфортной командой.Для меня важно развиваться и чувствовать профессиональный рост.Мои контакты:+7 (926) 275-61-85jsmaildm@gmail.comhttps://t.me/Bychkow_DmitriiВсем привет!)\\n\\nМеня зовут Дмитрий.\\nЯ Frontend разработчик.\\n\\nЯ люблю новые технологии, свободное время посвящаю изучению нового стека.\\nМне нравится анализировать все, что происходит вокруг меня, и обдумывать различные ветки сценариев моих действий в поиске самого эффективного решения.\\n\\nМой стек:\\n- Frontend: JavaScript, React, Redux Toolkit, HTML, CSS, SCSS\\n- Backend: Node.js, Express.js, PostgreSQL, SQLite, Sequelize\\n- Работа с REST API, Git, Webpack, Jest, AJAX\\nОсваиваю: TypeScript, Prizma, Redis\\n\\nСтремлюсь работать в развивающейся компании, с комфортной командой.\\nДля меня важно развиваться и чувствовать профессиональный рост.\\n\\nМои контакты:\\n\\n+7 (926) 275-61-85\\njsmaildm@gmail.com\\nhttps://t.me/Bychkow_Dmitrii</td>\n",
       "      <td>3.0</td>\n",
       "      <td>Москва, Москва, Россия</td>\n",
       "      <td>JavaScript Array Methods CheatSheet 📍This will help you to understand the JavaScript Array Methods in an easier way.Follow Manish Kumar Shah for more such content.Credits: Ram Maheshwari ⚡#html #css #javascript #webdevelopment #programming #javascriptdeveloper #coding #codingpractices #softwareengineer #softwaredeveloper #webdesigner #programmers #linkedin</td>\n",
       "      <td>7.0</td>\n",
       "      <td>4.0</td>\n",
       "      <td>7.0</td>\n",
       "    </tr>\n",
       "    <tr>\n",
       "      <th>499</th>\n",
       "      <td>https://www.linkedin.com/in/alena-krupennikova-7b6376278</td>\n",
       "      <td>frontend</td>\n",
       "      <td>Alena Krupennikova</td>\n",
       "      <td>Frontend Dev  •  JavaScript  •  TypeScript • React  •  Redux  •  React Native</td>\n",
       "      <td>Smart Kids</td>\n",
       "      <td>Любознательный Frontend-разработчик с 3-х летним опытом работы. Закончила филологический факультет по специальности «учитель русского языка и литературы», чтобы стилистически, орфографически и грамматически правильно оставлять комментарии в коде.Мой стек: JavaScript, TypeScript, React, Redux Toolkit, HTML5, CSS3, Node.js, Express, Sessions, Bcrypt, PostgreSQL, Sequelize ORM, Slack, Trello, Miro.В настоящее время знакомлюсь со Vue.js, а также меня вдохновляют работы Бруно Симона, поэтому я активно изучаю three.js.Telegram: https://t.me/krupeshaaaТелефон: +7 999 813 50 98Любознательный Frontend-разработчик с 3-х летним опытом работы. Закончила филологический факультет по специальности «учитель русского языка и литературы», чтобы стилистически, орфографически и грамматически правильно оставлять комментарии в коде.\\n\\nМой стек: JavaScript, TypeScript, React, Redux Toolkit, HTML5, CSS3, Node.js, Express, Sessions, Bcrypt, PostgreSQL, Sequelize ORM, Slack, Trello, Miro.\\n\\nВ настоящее время знакомлюсь со Vue.js, а также меня вдохновляют работы Бруно Симона, поэтому я активно изучаю three.js.\\n\\nTelegram: https://t.me/krupeshaaa\\nТелефон: +7 999 813 50 98\\n\\n \\n          …См. еще</td>\n",
       "      <td>3.0</td>\n",
       "      <td>Москва, Москва, Россия</td>\n",
       "      <td>Здравствуйте, я в поиске новой карьерной возможности и буду признателен(а) за вашу поддержку. Заранее благодарю за все рекомендации контактов, советы или возможности, которые вы можете предложить. #OpenToWork</td>\n",
       "      <td>2.0</td>\n",
       "      <td>4.0</td>\n",
       "      <td>1.0</td>\n",
       "    </tr>\n",
       "  </tbody>\n",
       "</table>\n",
       "</div>"
      ],
      "text/plain": [
       "                                                          url  \\\n",
       "484                 https://www.linkedin.com/in/alena-osokina   \n",
       "487     https://www.linkedin.com/in/aleksey-knyazev-a25714125   \n",
       "489                    https://www.linkedin.com/in/dm-bychkov   \n",
       "491                    https://www.linkedin.com/in/dm-bychkov   \n",
       "499  https://www.linkedin.com/in/alena-krupennikova-7b6376278   \n",
       "\n",
       "              user_head           user_name  \\\n",
       "484  senior ML engineer       Alena Osokina   \n",
       "487  lead web developer     Aleksey Knyazev   \n",
       "489            frontend   Dmitrii Bychkov ✅   \n",
       "491            frontend   Dmitrii Bychkov ✅   \n",
       "499            frontend  Alena Krupennikova   \n",
       "\n",
       "                                                                                         user_tags  \\\n",
       "484                     Senior Data Scientist | ML Engineer | Specialization Lead at Grid Dynamics   \n",
       "487                                                               Lead Frontend Developer (Remote)   \n",
       "489  Frontend Web Developer | JavaScript | TypeScript | React | Redux | HTML | CSS | Node.js | SQL   \n",
       "491  Frontend Web Developer | JavaScript | TypeScript | React | Redux | HTML | CSS | Node.js | SQL   \n",
       "499                  Frontend Dev  •  JavaScript  •  TypeScript • React  •  Redux  •  React Native   \n",
       "\n",
       "          user_work  \\\n",
       "484   Grid Dynamics   \n",
       "487       ggCircuit   \n",
       "489  SmartMechanica   \n",
       "491  SmartMechanica   \n",
       "499      Smart Kids   \n",
       "\n",
       "                                                                                                                                                                                                                                                                                                                                                                                                                                                                                                                                                                                                                                                                                                                                                                                                                                                                                                                                                                                                                                                                                                                                                                                                                                                                                                                                                                                                                                                                                                                                                                                                                                                                                                                                                                                                                                                                                                                                                user_common_info  \\\n",
       "484                                                                                                                                                                                                                                                                                                                                                                                                                                                     Hello! I'm a software engineer and a data scientist with 7+ years of experience in total.My core skills & tech:● Programming: Python, Java, SQL, C#● Research and calculations: MATLAB, Mathematica, LaTeX● Tools & libraries: Keras, Tensorflow, PyTorch, Pandas, Jupyter, statsmodels, scikit-learn, OpenCV, Tesseract, NLTK● ML & statistics: Time Series Forecast models, Autoregressive & Risk Analysis, Computer Vision ● Deep learning: fully connected NN, CNN, RNN & LSTM, Transformers, Encoder-Decoder networks● Cloud & Big Data: Azure Databricks, GCP, AWS, pySpark, DockerWorked on a wide range of IT-connected areas: from IT team leadership and developing end-to-end ML solutions to teaching and financial analysis.Hello! \\nI'm a software engineer and a data scientist with 7+ years of experience in total.\\n\\nMy core skills & tech:\\n● Programming: Python, Java, SQL, C#\\n● Research and calculations: MATLAB, Mathematica, LaTeX\\n● Tools & libraries: Keras, Tensorflow, PyTorch, Pandas, Jupyter, statsmodels, scikit-learn, OpenCV, Tesseract, NLTK\\n● ML & statistics: Time Series Forecast models, Autoregressive & Risk Analysis, Computer Vision \\n● Deep learning: fully connected NN, CNN, RNN & LSTM, Transformers, Encoder-Decoder networks\\n● Cloud & Big Data: Azure Databricks, GCP, AWS, pySpark, Docker\\n\\nWorked on a wide range of IT-connected areas: from IT team leadership and developing end-to-end ML solutions to teaching and financial analysis.   \n",
       "487  (Please note - I'm not looking for a job at the moment)I’m a lead frontend developer specializing in Angular with solid fullstack background. Have experience of working on large scale projects building frontend architecture and managing frontend team.I have participated in every stage of web application development from designing architecture to building flexible environment for deploying and delivering clients’ products. Thus, I know exactly how to help your project be successful.My main skills are:Frontend:- Angular- RxJS/NgRX/NgXS/Nx- ES5/ES6, Typescript- SCSS, LESSBackend:- NodeJS- Python (Django)- Java (Spring)- MySQL, Postgresql- MongoDBDeployment/CI:- Docker- Jira, Jenkins, CircleCIFavorite Practices: - Scrum, TDD/BDD- Git-Flow, Continuous Integration- Modular architecture, MonoreposPreferences:- Looking for full-time job or part-time consultant job- Looking for remote job only(Please note - I'm not looking for a job at the moment)\\n\\nI’m a lead frontend developer specializing in Angular with solid fullstack background. Have experience of working on large scale projects building frontend architecture and managing frontend team.\\n\\nI have participated in every stage of web application development from designing architecture to building flexible environment for deploying and delivering clients’ products. Thus, I know exactly how to help your project be successful.\\n\\nMy main skills are:\\n\\nFrontend:\\n- Angular\\n- RxJS/NgRX/NgXS/Nx\\n- ES5/ES6, Typescript\\n- SCSS, LESS\\n\\nBackend:\\n- NodeJS\\n- Python (Django)\\n- Java (Spring)\\n- MySQL, Postgresql\\n- MongoDB\\n\\nDeployment/CI:\\n- Docker\\n- Jira, Jenkins, CircleCI\\n\\nFavorite Practices: \\n- Scrum, TDD/BDD\\n- Git-Flow, Continuous Integration\\n- Modular architecture, Monorepos\\n\\nPreferences:\\n- Looking for full-time job or part-time consultant job\\n- Looking for remote job only\\n\\n \\n          …См. еще   \n",
       "489                                                                                                                                                                                                                                                                                                                                                                                                                                                                   Всем привет!)Меня зовут Дмитрий.Я Frontend разработчик.Я люблю новые технологии, свободное время посвящаю изучению нового стека.Мне нравится анализировать все, что происходит вокруг меня, и обдумывать различные ветки сценариев моих действий в поиске самого эффективного решения.Мой стек:- Frontend: JavaScript, React, Redux Toolkit, HTML, CSS, SCSS- Backend: Node.js, Express.js, PostgreSQL, SQLite, Sequelize- Работа с REST API, Git, Webpack, Jest, AJAXОсваиваю: TypeScript, Prizma, RedisСтремлюсь работать в развивающейся компании, с комфортной командой.Для меня важно развиваться и чувствовать профессиональный рост.Мои контакты:+7 (926) 275-61-85jsmaildm@gmail.comhttps://t.me/Bychkow_DmitriiВсем привет!)\\n\\nМеня зовут Дмитрий.\\nЯ Frontend разработчик.\\n\\nЯ люблю новые технологии, свободное время посвящаю изучению нового стека.\\nМне нравится анализировать все, что происходит вокруг меня, и обдумывать различные ветки сценариев моих действий в поиске самого эффективного решения.\\n\\nМой стек:\\n- Frontend: JavaScript, React, Redux Toolkit, HTML, CSS, SCSS\\n- Backend: Node.js, Express.js, PostgreSQL, SQLite, Sequelize\\n- Работа с REST API, Git, Webpack, Jest, AJAX\\nОсваиваю: TypeScript, Prizma, Redis\\n\\nСтремлюсь работать в развивающейся компании, с комфортной командой.\\nДля меня важно развиваться и чувствовать профессиональный рост.\\n\\nМои контакты:\\n\\n+7 (926) 275-61-85\\njsmaildm@gmail.com\\nhttps://t.me/Bychkow_Dmitrii   \n",
       "491                                                                                                                                                                                                                                                                                                                                                                                                                                                                   Всем привет!)Меня зовут Дмитрий.Я Frontend разработчик.Я люблю новые технологии, свободное время посвящаю изучению нового стека.Мне нравится анализировать все, что происходит вокруг меня, и обдумывать различные ветки сценариев моих действий в поиске самого эффективного решения.Мой стек:- Frontend: JavaScript, React, Redux Toolkit, HTML, CSS, SCSS- Backend: Node.js, Express.js, PostgreSQL, SQLite, Sequelize- Работа с REST API, Git, Webpack, Jest, AJAXОсваиваю: TypeScript, Prizma, RedisСтремлюсь работать в развивающейся компании, с комфортной командой.Для меня важно развиваться и чувствовать профессиональный рост.Мои контакты:+7 (926) 275-61-85jsmaildm@gmail.comhttps://t.me/Bychkow_DmitriiВсем привет!)\\n\\nМеня зовут Дмитрий.\\nЯ Frontend разработчик.\\n\\nЯ люблю новые технологии, свободное время посвящаю изучению нового стека.\\nМне нравится анализировать все, что происходит вокруг меня, и обдумывать различные ветки сценариев моих действий в поиске самого эффективного решения.\\n\\nМой стек:\\n- Frontend: JavaScript, React, Redux Toolkit, HTML, CSS, SCSS\\n- Backend: Node.js, Express.js, PostgreSQL, SQLite, Sequelize\\n- Работа с REST API, Git, Webpack, Jest, AJAX\\nОсваиваю: TypeScript, Prizma, Redis\\n\\nСтремлюсь работать в развивающейся компании, с комфортной командой.\\nДля меня важно развиваться и чувствовать профессиональный рост.\\n\\nМои контакты:\\n\\n+7 (926) 275-61-85\\njsmaildm@gmail.com\\nhttps://t.me/Bychkow_Dmitrii   \n",
       "499                                                                                                                                                                                                                                                                                                                                                                                                                                                                                                                                                                                                                                                                                                                      Любознательный Frontend-разработчик с 3-х летним опытом работы. Закончила филологический факультет по специальности «учитель русского языка и литературы», чтобы стилистически, орфографически и грамматически правильно оставлять комментарии в коде.Мой стек: JavaScript, TypeScript, React, Redux Toolkit, HTML5, CSS3, Node.js, Express, Sessions, Bcrypt, PostgreSQL, Sequelize ORM, Slack, Trello, Miro.В настоящее время знакомлюсь со Vue.js, а также меня вдохновляют работы Бруно Симона, поэтому я активно изучаю three.js.Telegram: https://t.me/krupeshaaaТелефон: +7 999 813 50 98Любознательный Frontend-разработчик с 3-х летним опытом работы. Закончила филологический факультет по специальности «учитель русского языка и литературы», чтобы стилистически, орфографически и грамматически правильно оставлять комментарии в коде.\\n\\nМой стек: JavaScript, TypeScript, React, Redux Toolkit, HTML5, CSS3, Node.js, Express, Sessions, Bcrypt, PostgreSQL, Sequelize ORM, Slack, Trello, Miro.\\n\\nВ настоящее время знакомлюсь со Vue.js, а также меня вдохновляют работы Бруно Симона, поэтому я активно изучаю three.js.\\n\\nTelegram: https://t.me/krupeshaaa\\nТелефон: +7 999 813 50 98\\n\\n \\n          …См. еще   \n",
       "\n",
       "     user_experience           user_location  \\\n",
       "484              8.0                  Сербия   \n",
       "487              8.0                  Россия   \n",
       "489              3.0  Москва, Москва, Россия   \n",
       "491              3.0  Москва, Москва, Россия   \n",
       "499              3.0  Москва, Москва, Россия   \n",
       "\n",
       "                                                                                                                                                                                                                                                                                                                                                                                                                                                                                                                                                                                                                           text  \\\n",
       "484                                                                                                                                                                                                                                                                                                                                     Hi everyone - I am opened for new opportunities. I'm proficient in developing test frameworks from scratch on Python language, but I also have an experience in Groovy and Java languages.Thank you in advance for any connections, advice, or opportunities you can offer. #OpenToWork   \n",
       "487  Hello everyone! I'm looking for a job and I’d appreciate your support. Only 100% remote options but flexible in-person at certain times.For the referral, I'll invite you to some beers 🍻 😜If you could share and/or comment to interested people, I’d really appreciate it 🤗 #job #opportunity #OpenToWork-----¡Hola a todos! Estoy buscando empleo y os agradecería el apoyo. Sólo opciones remoto 100% aunque, flexible en lo presencial \"puntualmente\" hablando.Por el referral os invito a unas cervezas 🍻 😜 Si pudieráis compartir y/o comentadlo a interesad@s os lo agradecería 🤗 #empleo #oportunidad #OpenToWork   \n",
       "489                                                                                                                                                                            👉 𝗛𝗧𝗠𝗟 𝗖𝗼𝗺𝗽𝗹𝗲𝘁𝗲 𝗡𝗼𝘁𝗲𝘀 , 𝗘𝗮𝘀𝘆 𝘁𝗼 𝗹𝗲𝗮𝗿𝗻 .👉Follow Rushika Rai  for more .👉Follow Rushika Rai  for more .credits : Developer Updates#programming #programmer #coding #coder #code #web #website #design #designer #development #developer #webdesign #webdesigner #webdevelopment #webdeveloper #frontend #backend #frontenddeveloper #backenddeveloper #html5 #html #css3 #css #javascript #js #reactjs #engineering #engineer #software #developer   \n",
       "491                                                                                                                                                                                                                                                      JavaScript Array Methods CheatSheet 📍This will help you to understand the JavaScript Array Methods in an easier way.Follow Manish Kumar Shah for more such content.Credits: Ram Maheshwari ⚡#html #css #javascript #webdevelopment #programming #javascriptdeveloper #coding #codingpractices #softwareengineer #softwaredeveloper #webdesigner #programmers #linkedin   \n",
       "499                                                                                                                                                                                                                                                                                                                                                                                                            Здравствуйте, я в поиске новой карьерной возможности и буду признателен(а) за вашу поддержку. Заранее благодарю за все рекомендации контактов, советы или возможности, которые вы можете предложить. #OpenToWork   \n",
       "\n",
       "     likes  comments  reposts  \n",
       "484    5.0       3.0      3.0  \n",
       "487    5.0       7.0      7.0  \n",
       "489    4.0       4.0      9.0  \n",
       "491    7.0       4.0      7.0  \n",
       "499    2.0       4.0      1.0  "
      ]
     },
     "metadata": {},
     "output_type": "display_data"
    }
   ],
   "source": [
    "display(dataset_from_team_10.head())\n",
    "\n",
    "display(dataset_from_team_10.tail())"
   ]
  },
  {
   "cell_type": "markdown",
   "id": "8c5747d8",
   "metadata": {},
   "source": [
    "## Объединение датасетов по ключу url"
   ]
  },
  {
   "cell_type": "markdown",
   "id": "37adfd34",
   "metadata": {},
   "source": [
    "###### Примерный суммарный размер датасет (!без учета уникального ключа!)"
   ]
  },
  {
   "cell_type": "code",
   "execution_count": 53,
   "id": "f0d14b12",
   "metadata": {},
   "outputs": [
    {
     "name": "stdout",
     "output_type": "stream",
     "text": [
      "Суммарный размер датасет: (10330, 50)\n"
     ]
    }
   ],
   "source": [
    "shape_sum_dataset = (\n",
    "    dataset_from_team_2.shape[0] + dataset_from_team_3.shape[0] + dataset_from_team_4.shape[0] + dataset_from_team_8_1.shape[0] + dataset_from_team_8_2.shape[0] + dataset_from_team_10.shape[0],\n",
    "    dataset_from_team_2.shape[1] + dataset_from_team_3.shape[1] + dataset_from_team_4.shape[1] + dataset_from_team_8_1.shape[1] + dataset_from_team_8_2.shape[1] + dataset_from_team_10.shape[1]\n",
    ")\n",
    "print('Суммарный размер датасет:', shape_sum_dataset)"
   ]
  },
  {
   "cell_type": "markdown",
   "id": "457c7ba1",
   "metadata": {},
   "source": [
    "### Датафрейм 2 и 3 команды"
   ]
  },
  {
   "cell_type": "code",
   "execution_count": 54,
   "id": "296de194",
   "metadata": {},
   "outputs": [
    {
     "name": "stdout",
     "output_type": "stream",
     "text": [
      "Размер: (9188, 13)\n"
     ]
    }
   ],
   "source": [
    "# Объединяем датафреймы\n",
    "df = pd.merge(dataset_from_team_2, dataset_from_team_3, on='url', how='outer', suffixes=('_x', '_y'))\n",
    "\n",
    "print('Размер:', df.shape)"
   ]
  },
  {
   "cell_type": "code",
   "execution_count": 55,
   "id": "ea8889bc",
   "metadata": {},
   "outputs": [
    {
     "data": {
      "text/plain": [
       "url               0\n",
       "text_x          256\n",
       "user_head_x     256\n",
       "likes_x         256\n",
       "comments_x      256\n",
       "reposts_x       256\n",
       "user_name      8932\n",
       "user_head_y    8932\n",
       "user_work      8932\n",
       "text_y         8932\n",
       "likes_y        8939\n",
       "reposts_y      8932\n",
       "comments_y     8932\n",
       "dtype: int64"
      ]
     },
     "execution_count": 55,
     "metadata": {},
     "output_type": "execute_result"
    }
   ],
   "source": [
    "df.isna().sum()"
   ]
  },
  {
   "cell_type": "code",
   "execution_count": 56,
   "id": "caf38474",
   "metadata": {},
   "outputs": [
    {
     "name": "stdout",
     "output_type": "stream",
     "text": [
      "<class 'pandas.core.frame.DataFrame'>\n",
      "RangeIndex: 9188 entries, 0 to 9187\n",
      "Data columns (total 13 columns):\n",
      " #   Column       Non-Null Count  Dtype  \n",
      "---  ------       --------------  -----  \n",
      " 0   url          9188 non-null   object \n",
      " 1   text_x       8932 non-null   object \n",
      " 2   user_head_x  8932 non-null   object \n",
      " 3   likes_x      8932 non-null   float64\n",
      " 4   comments_x   8932 non-null   float64\n",
      " 5   reposts_x    8932 non-null   float64\n",
      " 6   user_name    256 non-null    object \n",
      " 7   user_head_y  256 non-null    object \n",
      " 8   user_work    256 non-null    object \n",
      " 9   text_y       256 non-null    object \n",
      " 10  likes_y      249 non-null    float64\n",
      " 11  reposts_y    256 non-null    float64\n",
      " 12  comments_y   256 non-null    float64\n",
      "dtypes: float64(6), object(7)\n",
      "memory usage: 933.3+ KB\n"
     ]
    }
   ],
   "source": [
    "df.info()"
   ]
  },
  {
   "cell_type": "code",
   "execution_count": 57,
   "id": "c979d054",
   "metadata": {},
   "outputs": [],
   "source": [
    "# Объединить значения из колонок user_name_x и user_name_y в колонку user_name\n",
    "df['comments'] = df['comments_x'].fillna(df['comments_y'])\n",
    "df['user_head'] = df['user_head_x'].fillna(df['user_head_y'])\n",
    "df['likes'] = df['likes_x'].fillna(df['likes_y'])\n",
    "df['text'] = df['text_x'].fillna(df['text_y'])\n",
    "df['reposts'] = df['reposts_x'].fillna(df['reposts_y'])\n",
    "\n",
    "# Удалить колонки user_name_x и user_name_y\n",
    "df = df.drop(['comments_x', 'comments_y'], axis=1)\n",
    "df = df.drop(['user_head_x', 'user_head_y'], axis=1)\n",
    "df = df.drop(['likes_x', 'likes_y'], axis=1)\n",
    "df = df.drop(['text_x', 'text_y'], axis=1)\n",
    "df = df.drop(['reposts_x', 'reposts_y'], axis=1)"
   ]
  },
  {
   "cell_type": "code",
   "execution_count": 58,
   "id": "da35ab61",
   "metadata": {},
   "outputs": [
    {
     "name": "stdout",
     "output_type": "stream",
     "text": [
      "<class 'pandas.core.frame.DataFrame'>\n",
      "RangeIndex: 9188 entries, 0 to 9187\n",
      "Data columns (total 8 columns):\n",
      " #   Column     Non-Null Count  Dtype  \n",
      "---  ------     --------------  -----  \n",
      " 0   url        9188 non-null   object \n",
      " 1   user_name  256 non-null    object \n",
      " 2   user_work  256 non-null    object \n",
      " 3   comments   9188 non-null   float64\n",
      " 4   user_head  9188 non-null   object \n",
      " 5   likes      9181 non-null   float64\n",
      " 6   text       9188 non-null   object \n",
      " 7   reposts    9188 non-null   float64\n",
      "dtypes: float64(3), object(5)\n",
      "memory usage: 574.4+ KB\n"
     ]
    }
   ],
   "source": [
    "df.info()"
   ]
  },
  {
   "cell_type": "code",
   "execution_count": 59,
   "id": "ffe1f5d3",
   "metadata": {},
   "outputs": [
    {
     "data": {
      "text/plain": [
       "url             0\n",
       "user_name    8932\n",
       "user_work    8932\n",
       "comments        0\n",
       "user_head       0\n",
       "likes           7\n",
       "text            0\n",
       "reposts         0\n",
       "dtype: int64"
      ]
     },
     "execution_count": 59,
     "metadata": {},
     "output_type": "execute_result"
    }
   ],
   "source": [
    "df.isna().sum()"
   ]
  },
  {
   "cell_type": "code",
   "execution_count": 60,
   "id": "7a4e21a0",
   "metadata": {
    "scrolled": true
   },
   "outputs": [
    {
     "name": "stdout",
     "output_type": "stream",
     "text": [
      "Размер: (9188, 8)\n"
     ]
    }
   ],
   "source": [
    "print('Размер:', df.shape)"
   ]
  },
  {
   "cell_type": "markdown",
   "id": "14e5d086",
   "metadata": {},
   "source": [
    "### Датафрейм 4 команды"
   ]
  },
  {
   "cell_type": "code",
   "execution_count": 61,
   "id": "f123132e",
   "metadata": {},
   "outputs": [
    {
     "name": "stdout",
     "output_type": "stream",
     "text": [
      "Размер: (9978, 13)\n"
     ]
    }
   ],
   "source": [
    "# Объединяем датафреймы\n",
    "df = pd.merge(df, dataset_from_team_4, on='url', how='outer', suffixes=('_x', '_y'))\n",
    "\n",
    "print('Размер:', df.shape)"
   ]
  },
  {
   "cell_type": "code",
   "execution_count": 62,
   "id": "63a7460d",
   "metadata": {},
   "outputs": [
    {
     "data": {
      "text/plain": [
       "url               0\n",
       "user_name_x    9722\n",
       "user_work      9722\n",
       "comments_x      790\n",
       "user_head_x     790\n",
       "likes_x         797\n",
       "text_x          790\n",
       "reposts         790\n",
       "user_name_y    9188\n",
       "user_head_y    9188\n",
       "text_y         9188\n",
       "likes_y        9213\n",
       "comments_y     9188\n",
       "dtype: int64"
      ]
     },
     "execution_count": 62,
     "metadata": {},
     "output_type": "execute_result"
    }
   ],
   "source": [
    "df.isna().sum()"
   ]
  },
  {
   "cell_type": "code",
   "execution_count": 63,
   "id": "55a0f577",
   "metadata": {},
   "outputs": [
    {
     "name": "stdout",
     "output_type": "stream",
     "text": [
      "<class 'pandas.core.frame.DataFrame'>\n",
      "RangeIndex: 9978 entries, 0 to 9977\n",
      "Data columns (total 13 columns):\n",
      " #   Column       Non-Null Count  Dtype  \n",
      "---  ------       --------------  -----  \n",
      " 0   url          9978 non-null   object \n",
      " 1   user_name_x  256 non-null    object \n",
      " 2   user_work    256 non-null    object \n",
      " 3   comments_x   9188 non-null   float64\n",
      " 4   user_head_x  9188 non-null   object \n",
      " 5   likes_x      9181 non-null   float64\n",
      " 6   text_x       9188 non-null   object \n",
      " 7   reposts      9188 non-null   float64\n",
      " 8   user_name_y  790 non-null    object \n",
      " 9   user_head_y  790 non-null    object \n",
      " 10  text_y       790 non-null    object \n",
      " 11  likes_y      765 non-null    float64\n",
      " 12  comments_y   790 non-null    float64\n",
      "dtypes: float64(5), object(8)\n",
      "memory usage: 1013.5+ KB\n"
     ]
    }
   ],
   "source": [
    "df.info()"
   ]
  },
  {
   "cell_type": "code",
   "execution_count": 64,
   "id": "d2354d0f",
   "metadata": {},
   "outputs": [],
   "source": [
    "# Объединить значения из колонок user_name_x и user_name_y в колонку user_name\n",
    "df['user_name'] = df['user_name_x'].fillna(df['user_name_y'])\n",
    "df['comments'] = df['comments_x'].fillna(df['comments_y'])\n",
    "df['user_head'] = df['user_head_x'].fillna(df['user_head_y'])\n",
    "df['likes'] = df['likes_x'].fillna(df['likes_y'])\n",
    "df['text'] = df['text_x'].fillna(df['text_y'])\n",
    "\n",
    "# Удалить колонки user_name_x и user_name_y\n",
    "df = df.drop(['user_name_x', 'user_name_y'], axis=1)\n",
    "df = df.drop(['comments_x', 'comments_y'], axis=1)\n",
    "df = df.drop(['user_head_x', 'user_head_y'], axis=1)\n",
    "df = df.drop(['likes_x', 'likes_y'], axis=1)\n",
    "df = df.drop(['text_x', 'text_y'], axis=1)"
   ]
  },
  {
   "cell_type": "code",
   "execution_count": 65,
   "id": "769d127d",
   "metadata": {},
   "outputs": [
    {
     "name": "stdout",
     "output_type": "stream",
     "text": [
      "<class 'pandas.core.frame.DataFrame'>\n",
      "RangeIndex: 9978 entries, 0 to 9977\n",
      "Data columns (total 8 columns):\n",
      " #   Column     Non-Null Count  Dtype  \n",
      "---  ------     --------------  -----  \n",
      " 0   url        9978 non-null   object \n",
      " 1   user_work  256 non-null    object \n",
      " 2   reposts    9188 non-null   float64\n",
      " 3   user_name  1046 non-null   object \n",
      " 4   comments   9978 non-null   float64\n",
      " 5   user_head  9978 non-null   object \n",
      " 6   likes      9946 non-null   float64\n",
      " 7   text       9978 non-null   object \n",
      "dtypes: float64(3), object(5)\n",
      "memory usage: 623.8+ KB\n"
     ]
    }
   ],
   "source": [
    "df.info()"
   ]
  },
  {
   "cell_type": "code",
   "execution_count": 66,
   "id": "35475bc3",
   "metadata": {},
   "outputs": [
    {
     "data": {
      "text/plain": [
       "url             0\n",
       "user_work    9722\n",
       "reposts       790\n",
       "user_name    8932\n",
       "comments        0\n",
       "user_head       0\n",
       "likes          32\n",
       "text            0\n",
       "dtype: int64"
      ]
     },
     "execution_count": 66,
     "metadata": {},
     "output_type": "execute_result"
    }
   ],
   "source": [
    "df.isna().sum()"
   ]
  },
  {
   "cell_type": "code",
   "execution_count": 67,
   "id": "27a7848d",
   "metadata": {
    "scrolled": true
   },
   "outputs": [
    {
     "name": "stdout",
     "output_type": "stream",
     "text": [
      "Размер: (9978, 8)\n"
     ]
    }
   ],
   "source": [
    "print('Размер:', df.shape)"
   ]
  },
  {
   "cell_type": "markdown",
   "id": "7e5d16b0",
   "metadata": {},
   "source": [
    "### Датафрейм 8 команды"
   ]
  },
  {
   "cell_type": "markdown",
   "id": "362bda27",
   "metadata": {},
   "source": [
    "#### Часть 1"
   ]
  },
  {
   "cell_type": "code",
   "execution_count": 68,
   "id": "1c5dd82e",
   "metadata": {},
   "outputs": [
    {
     "name": "stdout",
     "output_type": "stream",
     "text": [
      "Размер: (10076, 16)\n"
     ]
    }
   ],
   "source": [
    "# Объединяем датафреймы\n",
    "df = pd.merge(df, dataset_from_team_8_1, on='url', how='outer')\n",
    "\n",
    "print('Размер:', df.shape)"
   ]
  },
  {
   "cell_type": "code",
   "execution_count": 69,
   "id": "efc4c1a1",
   "metadata": {},
   "outputs": [
    {
     "data": {
      "text/plain": [
       "url                 0\n",
       "user_work        9820\n",
       "reposts_x         888\n",
       "user_name_x      9030\n",
       "comments_x         98\n",
       "user_head_x        98\n",
       "likes_x           130\n",
       "text_x             98\n",
       "user_name_y      9978\n",
       "user_head_y      9978\n",
       "user_position    9978\n",
       "text_y           9978\n",
       "likes_y          9978\n",
       "comments_y       9978\n",
       "post_url         9978\n",
       "reposts_y        9978\n",
       "dtype: int64"
      ]
     },
     "execution_count": 69,
     "metadata": {},
     "output_type": "execute_result"
    }
   ],
   "source": [
    "df.isna().sum()"
   ]
  },
  {
   "cell_type": "code",
   "execution_count": 70,
   "id": "5df314ae",
   "metadata": {
    "scrolled": false
   },
   "outputs": [
    {
     "name": "stdout",
     "output_type": "stream",
     "text": [
      "<class 'pandas.core.frame.DataFrame'>\n",
      "RangeIndex: 10076 entries, 0 to 10075\n",
      "Data columns (total 16 columns):\n",
      " #   Column         Non-Null Count  Dtype  \n",
      "---  ------         --------------  -----  \n",
      " 0   url            10076 non-null  object \n",
      " 1   user_work      256 non-null    object \n",
      " 2   reposts_x      9188 non-null   float64\n",
      " 3   user_name_x    1046 non-null   object \n",
      " 4   comments_x     9978 non-null   float64\n",
      " 5   user_head_x    9978 non-null   object \n",
      " 6   likes_x        9946 non-null   float64\n",
      " 7   text_x         9978 non-null   object \n",
      " 8   user_name_y    98 non-null     object \n",
      " 9   user_head_y    98 non-null     object \n",
      " 10  user_position  98 non-null     object \n",
      " 11  text_y         98 non-null     object \n",
      " 12  likes_y        98 non-null     float64\n",
      " 13  comments_y     98 non-null     float64\n",
      " 14  post_url       98 non-null     object \n",
      " 15  reposts_y      98 non-null     float64\n",
      "dtypes: float64(6), object(10)\n",
      "memory usage: 1.2+ MB\n"
     ]
    }
   ],
   "source": [
    "df.info()"
   ]
  },
  {
   "cell_type": "code",
   "execution_count": 71,
   "id": "034d1af4",
   "metadata": {},
   "outputs": [],
   "source": [
    "# Объединить значения из колонок user_name_x и user_name_y в колонку user_name\n",
    "df['user_name'] = df['user_name_x'].fillna(df['user_name_y'])\n",
    "df['comments'] = df['comments_x'].fillna(df['comments_y'])\n",
    "df['user_head'] = df['user_head_x'].fillna(df['user_head_y'])\n",
    "df['likes'] = df['likes_x'].fillna(df['likes_y'])\n",
    "df['text'] = df['text_x'].fillna(df['text_y'])\n",
    "\n",
    "# Удалить колонки user_name_x и user_name_y\n",
    "df = df.drop(['user_name_x', 'user_name_y'], axis=1)\n",
    "df = df.drop(['comments_x', 'comments_y'], axis=1)\n",
    "df = df.drop(['user_head_x', 'user_head_y'], axis=1)\n",
    "df = df.drop(['likes_x', 'likes_y'], axis=1)\n",
    "df = df.drop(['text_x', 'text_y'], axis=1)"
   ]
  },
  {
   "cell_type": "code",
   "execution_count": 72,
   "id": "dac2f9b4",
   "metadata": {
    "scrolled": false
   },
   "outputs": [
    {
     "name": "stdout",
     "output_type": "stream",
     "text": [
      "<class 'pandas.core.frame.DataFrame'>\n",
      "RangeIndex: 10076 entries, 0 to 10075\n",
      "Data columns (total 11 columns):\n",
      " #   Column         Non-Null Count  Dtype  \n",
      "---  ------         --------------  -----  \n",
      " 0   url            10076 non-null  object \n",
      " 1   user_work      256 non-null    object \n",
      " 2   reposts_x      9188 non-null   float64\n",
      " 3   user_position  98 non-null     object \n",
      " 4   post_url       98 non-null     object \n",
      " 5   reposts_y      98 non-null     float64\n",
      " 6   user_name      1144 non-null   object \n",
      " 7   comments       10076 non-null  float64\n",
      " 8   user_head      10076 non-null  object \n",
      " 9   likes          10044 non-null  float64\n",
      " 10  text           10076 non-null  object \n",
      "dtypes: float64(4), object(7)\n",
      "memory usage: 866.0+ KB\n"
     ]
    }
   ],
   "source": [
    "df.info()"
   ]
  },
  {
   "cell_type": "code",
   "execution_count": 73,
   "id": "ec34b294",
   "metadata": {
    "scrolled": true
   },
   "outputs": [
    {
     "name": "stdout",
     "output_type": "stream",
     "text": [
      "Размер: (10076, 11)\n"
     ]
    }
   ],
   "source": [
    "print('Размер:', df.shape)"
   ]
  },
  {
   "cell_type": "markdown",
   "id": "2840823b",
   "metadata": {},
   "source": [
    "#### Часть 2"
   ]
  },
  {
   "cell_type": "code",
   "execution_count": 74,
   "id": "ac350cc1",
   "metadata": {},
   "outputs": [
    {
     "name": "stdout",
     "output_type": "stream",
     "text": [
      "Размер: (10284, 19)\n"
     ]
    }
   ],
   "source": [
    "# Объединяем датафреймы\n",
    "df = pd.merge(df, dataset_from_team_8_2, on='url', how='outer')\n",
    "\n",
    "print('Размер:', df.shape)"
   ]
  },
  {
   "cell_type": "code",
   "execution_count": 75,
   "id": "7b0b033c",
   "metadata": {},
   "outputs": [
    {
     "data": {
      "text/plain": [
       "url                    0\n",
       "user_work          10028\n",
       "reposts_x           1096\n",
       "user_position_x    10186\n",
       "post_url_x         10186\n",
       "reposts_y          10186\n",
       "user_name_x         9095\n",
       "comments_x           163\n",
       "user_head_x          163\n",
       "likes_x              195\n",
       "text_x               163\n",
       "user_name_y        10067\n",
       "user_head_y        10067\n",
       "user_position_y    10067\n",
       "text_y             10067\n",
       "likes_y            10067\n",
       "comments_y         10067\n",
       "post_url_y         10067\n",
       "reposts            10067\n",
       "dtype: int64"
      ]
     },
     "execution_count": 75,
     "metadata": {},
     "output_type": "execute_result"
    }
   ],
   "source": [
    "df.isna().sum()"
   ]
  },
  {
   "cell_type": "code",
   "execution_count": 76,
   "id": "221866ed",
   "metadata": {
    "scrolled": false
   },
   "outputs": [
    {
     "name": "stdout",
     "output_type": "stream",
     "text": [
      "<class 'pandas.core.frame.DataFrame'>\n",
      "RangeIndex: 10284 entries, 0 to 10283\n",
      "Data columns (total 19 columns):\n",
      " #   Column           Non-Null Count  Dtype  \n",
      "---  ------           --------------  -----  \n",
      " 0   url              10284 non-null  object \n",
      " 1   user_work        256 non-null    object \n",
      " 2   reposts_x        9188 non-null   float64\n",
      " 3   user_position_x  98 non-null     object \n",
      " 4   post_url_x       98 non-null     object \n",
      " 5   reposts_y        98 non-null     float64\n",
      " 6   user_name_x      1189 non-null   object \n",
      " 7   comments_x       10121 non-null  float64\n",
      " 8   user_head_x      10121 non-null  object \n",
      " 9   likes_x          10089 non-null  float64\n",
      " 10  text_x           10121 non-null  object \n",
      " 11  user_name_y      217 non-null    object \n",
      " 12  user_head_y      217 non-null    object \n",
      " 13  user_position_y  217 non-null    object \n",
      " 14  text_y           217 non-null    object \n",
      " 15  likes_y          217 non-null    float64\n",
      " 16  comments_y       217 non-null    float64\n",
      " 17  post_url_y       217 non-null    object \n",
      " 18  reposts          217 non-null    float64\n",
      "dtypes: float64(7), object(12)\n",
      "memory usage: 1.5+ MB\n"
     ]
    }
   ],
   "source": [
    "df.info()"
   ]
  },
  {
   "cell_type": "code",
   "execution_count": 77,
   "id": "bd47fa78",
   "metadata": {},
   "outputs": [],
   "source": [
    "df['reposts'] = df['reposts_x'].fillna(df['reposts_y'])\n",
    "df['user_position'] = df['user_position_x'].fillna(df['user_position_y'])\n",
    "df['post_url'] = df['post_url_x'].fillna(df['post_url_y'])\n",
    "df['user_name'] = df['user_name_x'].fillna(df['user_name_y'])\n",
    "df['comments'] = df['comments_x'].fillna(df['comments_y'])\n",
    "df['user_head'] = df['user_head_x'].fillna(df['user_head_y'])\n",
    "df['likes'] = df['likes_x'].fillna(df['likes_y'])\n",
    "df['text'] = df['text_x'].fillna(df['text_y'])\n",
    "\n",
    "df = df.drop(['reposts_x', 'reposts_y'], axis=1)\n",
    "df = df.drop(['user_position_x', 'user_position_y'], axis=1)\n",
    "df = df.drop(['post_url_x', 'post_url_y'], axis=1)\n",
    "df = df.drop(['user_name_x', 'user_name_y'], axis=1)\n",
    "df = df.drop(['comments_x', 'comments_y'], axis=1)\n",
    "df = df.drop(['user_head_x', 'user_head_y'], axis=1)\n",
    "df = df.drop(['likes_x', 'likes_y'], axis=1)\n",
    "df = df.drop(['text_x', 'text_y'], axis=1)"
   ]
  },
  {
   "cell_type": "code",
   "execution_count": 78,
   "id": "611e5b4f",
   "metadata": {
    "scrolled": false
   },
   "outputs": [
    {
     "name": "stdout",
     "output_type": "stream",
     "text": [
      "<class 'pandas.core.frame.DataFrame'>\n",
      "RangeIndex: 10284 entries, 0 to 10283\n",
      "Data columns (total 10 columns):\n",
      " #   Column         Non-Null Count  Dtype  \n",
      "---  ------         --------------  -----  \n",
      " 0   url            10284 non-null  object \n",
      " 1   user_work      256 non-null    object \n",
      " 2   reposts        9286 non-null   float64\n",
      " 3   user_position  315 non-null    object \n",
      " 4   post_url       315 non-null    object \n",
      " 5   user_name      1352 non-null   object \n",
      " 6   comments       10284 non-null  float64\n",
      " 7   user_head      10284 non-null  object \n",
      " 8   likes          10252 non-null  float64\n",
      " 9   text           10284 non-null  object \n",
      "dtypes: float64(3), object(7)\n",
      "memory usage: 803.6+ KB\n"
     ]
    }
   ],
   "source": [
    "df.info()"
   ]
  },
  {
   "cell_type": "code",
   "execution_count": 79,
   "id": "a4411623",
   "metadata": {
    "scrolled": true
   },
   "outputs": [
    {
     "name": "stdout",
     "output_type": "stream",
     "text": [
      "Размер: (10284, 10)\n"
     ]
    }
   ],
   "source": [
    "print('Размер:', df.shape)"
   ]
  },
  {
   "cell_type": "markdown",
   "id": "e338c482",
   "metadata": {},
   "source": [
    "### Датафрейм 10 команды"
   ]
  },
  {
   "cell_type": "code",
   "execution_count": 80,
   "id": "04b97722",
   "metadata": {},
   "outputs": [
    {
     "name": "stdout",
     "output_type": "stream",
     "text": [
      "Размер: (10369, 21)\n"
     ]
    }
   ],
   "source": [
    "# Объединяем датафреймы\n",
    "df = pd.merge(df, dataset_from_team_10, on='url', how='outer')\n",
    "\n",
    "print('Размер:', df.shape)"
   ]
  },
  {
   "cell_type": "code",
   "execution_count": 81,
   "id": "bea41632",
   "metadata": {},
   "outputs": [
    {
     "data": {
      "text/plain": [
       "url                     0\n",
       "user_work_x         10113\n",
       "reposts_x            1083\n",
       "user_position       10054\n",
       "post_url            10054\n",
       "user_name_x          9017\n",
       "comments_x             85\n",
       "user_head_x            85\n",
       "likes_x               117\n",
       "text_x                 85\n",
       "user_head_y         10284\n",
       "user_name_y         10284\n",
       "user_tags           10284\n",
       "user_work_y         10284\n",
       "user_common_info    10284\n",
       "user_experience     10284\n",
       "user_location       10284\n",
       "text_y              10284\n",
       "likes_y             10284\n",
       "comments_y          10284\n",
       "reposts_y           10284\n",
       "dtype: int64"
      ]
     },
     "execution_count": 81,
     "metadata": {},
     "output_type": "execute_result"
    }
   ],
   "source": [
    "df.isna().sum()"
   ]
  },
  {
   "cell_type": "code",
   "execution_count": 82,
   "id": "962f89a6",
   "metadata": {
    "scrolled": false
   },
   "outputs": [
    {
     "name": "stdout",
     "output_type": "stream",
     "text": [
      "<class 'pandas.core.frame.DataFrame'>\n",
      "RangeIndex: 10369 entries, 0 to 10368\n",
      "Data columns (total 21 columns):\n",
      " #   Column            Non-Null Count  Dtype  \n",
      "---  ------            --------------  -----  \n",
      " 0   url               10369 non-null  object \n",
      " 1   user_work_x       256 non-null    object \n",
      " 2   reposts_x         9286 non-null   float64\n",
      " 3   user_position     315 non-null    object \n",
      " 4   post_url          315 non-null    object \n",
      " 5   user_name_x       1352 non-null   object \n",
      " 6   comments_x        10284 non-null  float64\n",
      " 7   user_head_x       10284 non-null  object \n",
      " 8   likes_x           10252 non-null  float64\n",
      " 9   text_x            10284 non-null  object \n",
      " 10  user_head_y       85 non-null     object \n",
      " 11  user_name_y       85 non-null     object \n",
      " 12  user_tags         85 non-null     object \n",
      " 13  user_work_y       85 non-null     object \n",
      " 14  user_common_info  85 non-null     object \n",
      " 15  user_experience   85 non-null     float64\n",
      " 16  user_location     85 non-null     object \n",
      " 17  text_y            85 non-null     object \n",
      " 18  likes_y           85 non-null     float64\n",
      " 19  comments_y        85 non-null     float64\n",
      " 20  reposts_y         85 non-null     float64\n",
      "dtypes: float64(7), object(14)\n",
      "memory usage: 1.7+ MB\n"
     ]
    }
   ],
   "source": [
    "df.info()"
   ]
  },
  {
   "cell_type": "code",
   "execution_count": 83,
   "id": "fd91923b",
   "metadata": {},
   "outputs": [],
   "source": [
    "df['user_work'] = df['user_work_x'].fillna(df['user_work_y'])\n",
    "df['reposts'] = df['reposts_x'].fillna(df['reposts_y'])\n",
    "df['user_name'] = df['user_name_x'].fillna(df['user_name_y'])\n",
    "df['comments'] = df['comments_x'].fillna(df['comments_y'])\n",
    "df['user_head'] = df['user_head_x'].fillna(df['user_head_y'])\n",
    "df['likes'] = df['likes_x'].fillna(df['likes_y'])\n",
    "df['text'] = df['text_x'].fillna(df['text_y'])\n",
    "\n",
    "# Удалить колонки user_name_x и user_name_y\n",
    "df = df.drop(['user_work_x', 'user_work_y'], axis=1)\n",
    "df = df.drop(['reposts_x', 'reposts_y'], axis=1)\n",
    "df = df.drop(['user_name_x', 'user_name_y'], axis=1)\n",
    "df = df.drop(['comments_x', 'comments_y'], axis=1)\n",
    "df = df.drop(['user_head_x', 'user_head_y'], axis=1)\n",
    "df = df.drop(['likes_x', 'likes_y'], axis=1)\n",
    "df = df.drop(['text_x', 'text_y'], axis=1)"
   ]
  },
  {
   "cell_type": "code",
   "execution_count": 84,
   "id": "22c706d6",
   "metadata": {
    "scrolled": false
   },
   "outputs": [
    {
     "name": "stdout",
     "output_type": "stream",
     "text": [
      "<class 'pandas.core.frame.DataFrame'>\n",
      "RangeIndex: 10369 entries, 0 to 10368\n",
      "Data columns (total 14 columns):\n",
      " #   Column            Non-Null Count  Dtype  \n",
      "---  ------            --------------  -----  \n",
      " 0   url               10369 non-null  object \n",
      " 1   user_position     315 non-null    object \n",
      " 2   post_url          315 non-null    object \n",
      " 3   user_tags         85 non-null     object \n",
      " 4   user_common_info  85 non-null     object \n",
      " 5   user_experience   85 non-null     float64\n",
      " 6   user_location     85 non-null     object \n",
      " 7   user_work         341 non-null    object \n",
      " 8   reposts           9371 non-null   float64\n",
      " 9   user_name         1437 non-null   object \n",
      " 10  comments          10369 non-null  float64\n",
      " 11  user_head         10369 non-null  object \n",
      " 12  likes             10337 non-null  float64\n",
      " 13  text              10369 non-null  object \n",
      "dtypes: float64(4), object(10)\n",
      "memory usage: 1.1+ MB\n"
     ]
    }
   ],
   "source": [
    "df.info()"
   ]
  },
  {
   "cell_type": "code",
   "execution_count": 85,
   "id": "19094861",
   "metadata": {
    "scrolled": true
   },
   "outputs": [
    {
     "name": "stdout",
     "output_type": "stream",
     "text": [
      "Размер: (10369, 14)\n"
     ]
    }
   ],
   "source": [
    "print('Размер:', df.shape)"
   ]
  },
  {
   "cell_type": "markdown",
   "id": "07bdfdf6",
   "metadata": {},
   "source": [
    "## Предосмотр объединенных датасет"
   ]
  },
  {
   "cell_type": "code",
   "execution_count": 86,
   "id": "d3119237",
   "metadata": {
    "scrolled": false
   },
   "outputs": [
    {
     "name": "stdout",
     "output_type": "stream",
     "text": [
      "<class 'pandas.core.frame.DataFrame'>\n",
      "RangeIndex: 10369 entries, 0 to 10368\n",
      "Data columns (total 14 columns):\n",
      " #   Column            Non-Null Count  Dtype  \n",
      "---  ------            --------------  -----  \n",
      " 0   url               10369 non-null  object \n",
      " 1   user_position     315 non-null    object \n",
      " 2   post_url          315 non-null    object \n",
      " 3   user_tags         85 non-null     object \n",
      " 4   user_common_info  85 non-null     object \n",
      " 5   user_experience   85 non-null     float64\n",
      " 6   user_location     85 non-null     object \n",
      " 7   user_work         341 non-null    object \n",
      " 8   reposts           9371 non-null   float64\n",
      " 9   user_name         1437 non-null   object \n",
      " 10  comments          10369 non-null  float64\n",
      " 11  user_head         10369 non-null  object \n",
      " 12  likes             10337 non-null  float64\n",
      " 13  text              10369 non-null  object \n",
      "dtypes: float64(4), object(10)\n",
      "memory usage: 1.1+ MB\n"
     ]
    }
   ],
   "source": [
    "df.info()"
   ]
  },
  {
   "cell_type": "code",
   "execution_count": 87,
   "id": "d2f9aa85",
   "metadata": {
    "scrolled": false
   },
   "outputs": [
    {
     "data": {
      "text/plain": [
       "url                     0\n",
       "user_position       10054\n",
       "post_url            10054\n",
       "user_tags           10284\n",
       "user_common_info    10284\n",
       "user_experience     10284\n",
       "user_location       10284\n",
       "user_work           10028\n",
       "reposts               998\n",
       "user_name            8932\n",
       "comments                0\n",
       "user_head               0\n",
       "likes                  32\n",
       "text                    0\n",
       "dtype: int64"
      ]
     },
     "execution_count": 87,
     "metadata": {},
     "output_type": "execute_result"
    }
   ],
   "source": [
    "df.isna().sum()"
   ]
  },
  {
   "cell_type": "code",
   "execution_count": 88,
   "id": "9dd6bff7",
   "metadata": {},
   "outputs": [
    {
     "data": {
      "text/html": [
       "<div>\n",
       "<style scoped>\n",
       "    .dataframe tbody tr th:only-of-type {\n",
       "        vertical-align: middle;\n",
       "    }\n",
       "\n",
       "    .dataframe tbody tr th {\n",
       "        vertical-align: top;\n",
       "    }\n",
       "\n",
       "    .dataframe thead th {\n",
       "        text-align: right;\n",
       "    }\n",
       "</style>\n",
       "<table border=\"1\" class=\"dataframe\">\n",
       "  <thead>\n",
       "    <tr style=\"text-align: right;\">\n",
       "      <th></th>\n",
       "      <th>url</th>\n",
       "      <th>user_position</th>\n",
       "      <th>post_url</th>\n",
       "      <th>user_tags</th>\n",
       "      <th>user_common_info</th>\n",
       "      <th>user_experience</th>\n",
       "      <th>user_location</th>\n",
       "      <th>user_work</th>\n",
       "      <th>reposts</th>\n",
       "      <th>user_name</th>\n",
       "      <th>comments</th>\n",
       "      <th>user_head</th>\n",
       "      <th>likes</th>\n",
       "      <th>text</th>\n",
       "    </tr>\n",
       "  </thead>\n",
       "  <tbody>\n",
       "    <tr>\n",
       "      <th>0</th>\n",
       "      <td>https://www.linkedin.com/in/ali-wodan/recent-activity/all/</td>\n",
       "      <td>NaN</td>\n",
       "      <td>NaN</td>\n",
       "      <td>NaN</td>\n",
       "      <td>NaN</td>\n",
       "      <td>NaN</td>\n",
       "      <td>NaN</td>\n",
       "      <td>NaN</td>\n",
       "      <td>0.0</td>\n",
       "      <td>NaN</td>\n",
       "      <td>0.0</td>\n",
       "      <td>Head of Design</td>\n",
       "      <td>1.0</td>\n",
       "      <td>Кстати говоря. Теперь подкаст Миражи доступен в соцсети Вконтакте: https://lnkd.in/gKkrJX9Я наконец разобрался как туда прикрутить RSS :-) #podcast #миражи</td>\n",
       "    </tr>\n",
       "    <tr>\n",
       "      <th>1</th>\n",
       "      <td>https://www.linkedin.com/in/ali-wodan/recent-activity/all/</td>\n",
       "      <td>NaN</td>\n",
       "      <td>NaN</td>\n",
       "      <td>NaN</td>\n",
       "      <td>NaN</td>\n",
       "      <td>NaN</td>\n",
       "      <td>NaN</td>\n",
       "      <td>NaN</td>\n",
       "      <td>0.0</td>\n",
       "      <td>NaN</td>\n",
       "      <td>0.0</td>\n",
       "      <td>Head of Design</td>\n",
       "      <td>1.0</td>\n",
       "      <td>I’m #hiring. Know anyone who might be interested?</td>\n",
       "    </tr>\n",
       "    <tr>\n",
       "      <th>2</th>\n",
       "      <td>https://www.linkedin.com/in/ali-wodan/recent-activity/all/</td>\n",
       "      <td>NaN</td>\n",
       "      <td>NaN</td>\n",
       "      <td>NaN</td>\n",
       "      <td>NaN</td>\n",
       "      <td>NaN</td>\n",
       "      <td>NaN</td>\n",
       "      <td>NaN</td>\n",
       "      <td>0.0</td>\n",
       "      <td>NaN</td>\n",
       "      <td>0.0</td>\n",
       "      <td>Head of Design</td>\n",
       "      <td>6.0</td>\n",
       "      <td>Хэй честной народ! Ищу векторного иллюстратора на проект, с возможным длительным сотрудничеством по итогу. Можно удаленно. Уровень иллюстраций не хуже чем в примере https://lnkd.in/gkrvhxYРепост, пожалуйста)Если ты умеешь так рисовать, напиши мне в личку :-)Hey! I am looking for an Illustrator who can help us with a project! You need to have skills like in the example below or upper. Text me to discuss prices and due :-)#вакансия #vacancy #illustration #иллюстрация #project #проект</td>\n",
       "    </tr>\n",
       "    <tr>\n",
       "      <th>3</th>\n",
       "      <td>https://www.linkedin.com/in/ali-wodan/recent-activity/all/</td>\n",
       "      <td>NaN</td>\n",
       "      <td>NaN</td>\n",
       "      <td>NaN</td>\n",
       "      <td>NaN</td>\n",
       "      <td>NaN</td>\n",
       "      <td>NaN</td>\n",
       "      <td>NaN</td>\n",
       "      <td>0.0</td>\n",
       "      <td>NaN</td>\n",
       "      <td>0.0</td>\n",
       "      <td>Head of Design</td>\n",
       "      <td>1.0</td>\n",
       "      <td>Новый пост подкаста \"Миражи\" на всех платформах:В аудио: https://lnkd.in/giWuSVNВ инстаграме: https://lnkd.in/gbV6yxKН #automotive # # #cars #а патреоне: https://lnkd.in/gfShqTU#саморазвитие #психология #психологиячеловека #психологияжизни #психологияличности #личностныйрост #подкаст #подкастмиражи #маркетинг #осознанность #мысли #мысливслух #установки #влияние #подсознаниеИспользованные звуки, музыка и картинки:Аудиоцитата из фильма \"Формула любви\" Марка ЗахароваJardins du Luxembourg by Jahzzar is licensed under a Attribution-ShareAlike 3.0 International License.prisoner by Luis Prado from the Noun Project</td>\n",
       "    </tr>\n",
       "    <tr>\n",
       "      <th>4</th>\n",
       "      <td>https://www.linkedin.com/in/ali-wodan/recent-activity/all/</td>\n",
       "      <td>NaN</td>\n",
       "      <td>NaN</td>\n",
       "      <td>NaN</td>\n",
       "      <td>NaN</td>\n",
       "      <td>NaN</td>\n",
       "      <td>NaN</td>\n",
       "      <td>NaN</td>\n",
       "      <td>0.0</td>\n",
       "      <td>NaN</td>\n",
       "      <td>0.0</td>\n",
       "      <td>Head of Design</td>\n",
       "      <td>2.0</td>\n",
       "      <td>Подкаст Миражи, Эпизод 13Ошибка невозвратных затратpodcast.ru/1539345144#подкаст #podcast #it #podcasts #psychology #психология #miragespodcast</td>\n",
       "    </tr>\n",
       "  </tbody>\n",
       "</table>\n",
       "</div>"
      ],
      "text/plain": [
       "                                                          url user_position  \\\n",
       "0  https://www.linkedin.com/in/ali-wodan/recent-activity/all/           NaN   \n",
       "1  https://www.linkedin.com/in/ali-wodan/recent-activity/all/           NaN   \n",
       "2  https://www.linkedin.com/in/ali-wodan/recent-activity/all/           NaN   \n",
       "3  https://www.linkedin.com/in/ali-wodan/recent-activity/all/           NaN   \n",
       "4  https://www.linkedin.com/in/ali-wodan/recent-activity/all/           NaN   \n",
       "\n",
       "  post_url user_tags user_common_info  user_experience user_location  \\\n",
       "0      NaN       NaN              NaN              NaN           NaN   \n",
       "1      NaN       NaN              NaN              NaN           NaN   \n",
       "2      NaN       NaN              NaN              NaN           NaN   \n",
       "3      NaN       NaN              NaN              NaN           NaN   \n",
       "4      NaN       NaN              NaN              NaN           NaN   \n",
       "\n",
       "  user_work  reposts user_name  comments       user_head  likes  \\\n",
       "0       NaN      0.0       NaN       0.0  Head of Design    1.0   \n",
       "1       NaN      0.0       NaN       0.0  Head of Design    1.0   \n",
       "2       NaN      0.0       NaN       0.0  Head of Design    6.0   \n",
       "3       NaN      0.0       NaN       0.0  Head of Design    1.0   \n",
       "4       NaN      0.0       NaN       0.0  Head of Design    2.0   \n",
       "\n",
       "                                                                                                                                                                                                                                                                                                                                                                                                                                                                                                                                                                                                                                     text  \n",
       "0                                                                                                                                                                                                                                                                                                                                                                                                                                                                             Кстати говоря. Теперь подкаст Миражи доступен в соцсети Вконтакте: https://lnkd.in/gKkrJX9Я наконец разобрался как туда прикрутить RSS :-) #podcast #миражи  \n",
       "1                                                                                                                                                                                                                                                                                                                                                                                                                                                                                                                                                                                       I’m #hiring. Know anyone who might be interested?  \n",
       "2                                                                                                                                  Хэй честной народ! Ищу векторного иллюстратора на проект, с возможным длительным сотрудничеством по итогу. Можно удаленно. Уровень иллюстраций не хуже чем в примере https://lnkd.in/gkrvhxYРепост, пожалуйста)Если ты умеешь так рисовать, напиши мне в личку :-)Hey! I am looking for an Illustrator who can help us with a project! You need to have skills like in the example below or upper. Text me to discuss prices and due :-)#вакансия #vacancy #illustration #иллюстрация #project #проект  \n",
       "3  Новый пост подкаста \"Миражи\" на всех платформах:В аудио: https://lnkd.in/giWuSVNВ инстаграме: https://lnkd.in/gbV6yxKН #automotive # # #cars #а патреоне: https://lnkd.in/gfShqTU#саморазвитие #психология #психологиячеловека #психологияжизни #психологияличности #личностныйрост #подкаст #подкастмиражи #маркетинг #осознанность #мысли #мысливслух #установки #влияние #подсознаниеИспользованные звуки, музыка и картинки:Аудиоцитата из фильма \"Формула любви\" Марка ЗахароваJardins du Luxembourg by Jahzzar is licensed under a Attribution-ShareAlike 3.0 International License.prisoner by Luis Prado from the Noun Project  \n",
       "4                                                                                                                                                                                                                                                                                                                                                                                                                                                                                         Подкаст Миражи, Эпизод 13Ошибка невозвратных затратpodcast.ru/1539345144#подкаст #podcast #it #podcasts #psychology #психология #miragespodcast  "
      ]
     },
     "execution_count": 88,
     "metadata": {},
     "output_type": "execute_result"
    }
   ],
   "source": [
    "df.head()"
   ]
  },
  {
   "cell_type": "code",
   "execution_count": 89,
   "id": "9d8c516e",
   "metadata": {},
   "outputs": [
    {
     "data": {
      "text/plain": [
       "3"
      ]
     },
     "execution_count": 89,
     "metadata": {},
     "output_type": "execute_result"
    }
   ],
   "source": [
    "# Нет дублирующие значения\n",
    "df.duplicated().sum()"
   ]
  },
  {
   "cell_type": "code",
   "execution_count": 90,
   "id": "865b1a0f",
   "metadata": {},
   "outputs": [
    {
     "data": {
      "text/plain": [
       "9506"
      ]
     },
     "execution_count": 90,
     "metadata": {},
     "output_type": "execute_result"
    }
   ],
   "source": [
    "df['url'].duplicated().sum()"
   ]
  },
  {
   "cell_type": "code",
   "execution_count": 91,
   "id": "617e4e46",
   "metadata": {},
   "outputs": [
    {
     "data": {
      "text/html": [
       "<div>\n",
       "<style scoped>\n",
       "    .dataframe tbody tr th:only-of-type {\n",
       "        vertical-align: middle;\n",
       "    }\n",
       "\n",
       "    .dataframe tbody tr th {\n",
       "        vertical-align: top;\n",
       "    }\n",
       "\n",
       "    .dataframe thead th {\n",
       "        text-align: right;\n",
       "    }\n",
       "</style>\n",
       "<table border=\"1\" class=\"dataframe\">\n",
       "  <thead>\n",
       "    <tr style=\"text-align: right;\">\n",
       "      <th></th>\n",
       "      <th>url</th>\n",
       "      <th>user_position</th>\n",
       "      <th>post_url</th>\n",
       "      <th>user_tags</th>\n",
       "      <th>user_common_info</th>\n",
       "      <th>user_experience</th>\n",
       "      <th>user_location</th>\n",
       "      <th>user_work</th>\n",
       "      <th>reposts</th>\n",
       "      <th>user_name</th>\n",
       "      <th>comments</th>\n",
       "      <th>user_head</th>\n",
       "      <th>likes</th>\n",
       "      <th>text</th>\n",
       "    </tr>\n",
       "  </thead>\n",
       "  <tbody>\n",
       "    <tr>\n",
       "      <th>0</th>\n",
       "      <td>https://www.linkedin.com/in/ali-wodan/recent-activity/all/</td>\n",
       "      <td>NaN</td>\n",
       "      <td>NaN</td>\n",
       "      <td>NaN</td>\n",
       "      <td>NaN</td>\n",
       "      <td>NaN</td>\n",
       "      <td>NaN</td>\n",
       "      <td>NaN</td>\n",
       "      <td>0.0</td>\n",
       "      <td>NaN</td>\n",
       "      <td>0.0</td>\n",
       "      <td>Head of Design</td>\n",
       "      <td>1.0</td>\n",
       "      <td>Кстати говоря. Теперь подкаст Миражи доступен в соцсети Вконтакте: https://lnkd.in/gKkrJX9Я наконец разобрался как туда прикрутить RSS :-) #podcast #миражи</td>\n",
       "    </tr>\n",
       "    <tr>\n",
       "      <th>1</th>\n",
       "      <td>https://www.linkedin.com/in/ali-wodan/recent-activity/all/</td>\n",
       "      <td>NaN</td>\n",
       "      <td>NaN</td>\n",
       "      <td>NaN</td>\n",
       "      <td>NaN</td>\n",
       "      <td>NaN</td>\n",
       "      <td>NaN</td>\n",
       "      <td>NaN</td>\n",
       "      <td>0.0</td>\n",
       "      <td>NaN</td>\n",
       "      <td>0.0</td>\n",
       "      <td>Head of Design</td>\n",
       "      <td>1.0</td>\n",
       "      <td>I’m #hiring. Know anyone who might be interested?</td>\n",
       "    </tr>\n",
       "    <tr>\n",
       "      <th>2</th>\n",
       "      <td>https://www.linkedin.com/in/ali-wodan/recent-activity/all/</td>\n",
       "      <td>NaN</td>\n",
       "      <td>NaN</td>\n",
       "      <td>NaN</td>\n",
       "      <td>NaN</td>\n",
       "      <td>NaN</td>\n",
       "      <td>NaN</td>\n",
       "      <td>NaN</td>\n",
       "      <td>0.0</td>\n",
       "      <td>NaN</td>\n",
       "      <td>0.0</td>\n",
       "      <td>Head of Design</td>\n",
       "      <td>6.0</td>\n",
       "      <td>Хэй честной народ! Ищу векторного иллюстратора на проект, с возможным длительным сотрудничеством по итогу. Можно удаленно. Уровень иллюстраций не хуже чем в примере https://lnkd.in/gkrvhxYРепост, пожалуйста)Если ты умеешь так рисовать, напиши мне в личку :-)Hey! I am looking for an Illustrator who can help us with a project! You need to have skills like in the example below or upper. Text me to discuss prices and due :-)#вакансия #vacancy #illustration #иллюстрация #project #проект</td>\n",
       "    </tr>\n",
       "    <tr>\n",
       "      <th>3</th>\n",
       "      <td>https://www.linkedin.com/in/ali-wodan/recent-activity/all/</td>\n",
       "      <td>NaN</td>\n",
       "      <td>NaN</td>\n",
       "      <td>NaN</td>\n",
       "      <td>NaN</td>\n",
       "      <td>NaN</td>\n",
       "      <td>NaN</td>\n",
       "      <td>NaN</td>\n",
       "      <td>0.0</td>\n",
       "      <td>NaN</td>\n",
       "      <td>0.0</td>\n",
       "      <td>Head of Design</td>\n",
       "      <td>1.0</td>\n",
       "      <td>Новый пост подкаста \"Миражи\" на всех платформах:В аудио: https://lnkd.in/giWuSVNВ инстаграме: https://lnkd.in/gbV6yxKН #automotive # # #cars #а патреоне: https://lnkd.in/gfShqTU#саморазвитие #психология #психологиячеловека #психологияжизни #психологияличности #личностныйрост #подкаст #подкастмиражи #маркетинг #осознанность #мысли #мысливслух #установки #влияние #подсознаниеИспользованные звуки, музыка и картинки:Аудиоцитата из фильма \"Формула любви\" Марка ЗахароваJardins du Luxembourg by Jahzzar is licensed under a Attribution-ShareAlike 3.0 International License.prisoner by Luis Prado from the Noun Project</td>\n",
       "    </tr>\n",
       "    <tr>\n",
       "      <th>4</th>\n",
       "      <td>https://www.linkedin.com/in/ali-wodan/recent-activity/all/</td>\n",
       "      <td>NaN</td>\n",
       "      <td>NaN</td>\n",
       "      <td>NaN</td>\n",
       "      <td>NaN</td>\n",
       "      <td>NaN</td>\n",
       "      <td>NaN</td>\n",
       "      <td>NaN</td>\n",
       "      <td>0.0</td>\n",
       "      <td>NaN</td>\n",
       "      <td>0.0</td>\n",
       "      <td>Head of Design</td>\n",
       "      <td>2.0</td>\n",
       "      <td>Подкаст Миражи, Эпизод 13Ошибка невозвратных затратpodcast.ru/1539345144#подкаст #podcast #it #podcasts #psychology #психология #miragespodcast</td>\n",
       "    </tr>\n",
       "    <tr>\n",
       "      <th>5</th>\n",
       "      <td>https://www.linkedin.com/in/ali-wodan/recent-activity/all/</td>\n",
       "      <td>NaN</td>\n",
       "      <td>NaN</td>\n",
       "      <td>NaN</td>\n",
       "      <td>NaN</td>\n",
       "      <td>NaN</td>\n",
       "      <td>NaN</td>\n",
       "      <td>NaN</td>\n",
       "      <td>0.0</td>\n",
       "      <td>NaN</td>\n",
       "      <td>0.0</td>\n",
       "      <td>Head of Design</td>\n",
       "      <td>1.0</td>\n",
       "      <td>Новый эпизод об эффекте ИКЕА на всех платформах podcast.ru/1539345144</td>\n",
       "    </tr>\n",
       "    <tr>\n",
       "      <th>6</th>\n",
       "      <td>https://www.linkedin.com/in/ali-wodan/recent-activity/all/</td>\n",
       "      <td>NaN</td>\n",
       "      <td>NaN</td>\n",
       "      <td>NaN</td>\n",
       "      <td>NaN</td>\n",
       "      <td>NaN</td>\n",
       "      <td>NaN</td>\n",
       "      <td>NaN</td>\n",
       "      <td>0.0</td>\n",
       "      <td>NaN</td>\n",
       "      <td>0.0</td>\n",
       "      <td>Head of Design</td>\n",
       "      <td>0.0</td>\n",
       "      <td>Редкий случай, когда считаю правильным распространять призыв проявить активную позицию и вмешаться в политическую жизнь государства. Что-то мне подсказывает, что если и эти поправки пройдут, то творчество и просветительство окажутся под угрозой во всем СНГ. О чем конкретно идет речь подробно описал Сергей Попов в своем видео</td>\n",
       "    </tr>\n",
       "    <tr>\n",
       "      <th>7</th>\n",
       "      <td>https://www.linkedin.com/in/ali-wodan/recent-activity/all/</td>\n",
       "      <td>NaN</td>\n",
       "      <td>NaN</td>\n",
       "      <td>NaN</td>\n",
       "      <td>NaN</td>\n",
       "      <td>NaN</td>\n",
       "      <td>NaN</td>\n",
       "      <td>NaN</td>\n",
       "      <td>0.0</td>\n",
       "      <td>NaN</td>\n",
       "      <td>0.0</td>\n",
       "      <td>Head of Design</td>\n",
       "      <td>0.0</td>\n",
       "      <td>podcast.ru/1539345144В новом эпизоде подкаста вы узнаете что такое теория рационального выбора и для чего ее используют, что мешает нам быть рациональными и почему это хорошо. 🧠#саморазвитие #психология #психологиячеловека #психологияжизни #психологияличности #личностныйрост#подкаст #подкастмиражи #маркетинг #осознанность #мысли #мысливслух #установки #влияние #подсознание</td>\n",
       "    </tr>\n",
       "    <tr>\n",
       "      <th>8</th>\n",
       "      <td>https://www.linkedin.com/in/ali-wodan/recent-activity/all/</td>\n",
       "      <td>NaN</td>\n",
       "      <td>NaN</td>\n",
       "      <td>NaN</td>\n",
       "      <td>NaN</td>\n",
       "      <td>NaN</td>\n",
       "      <td>NaN</td>\n",
       "      <td>NaN</td>\n",
       "      <td>0.0</td>\n",
       "      <td>NaN</td>\n",
       "      <td>0.0</td>\n",
       "      <td>Head of Design</td>\n",
       "      <td>1.0</td>\n",
       "      <td>#вакансия #москва #фултайм #дизайнер #hiring #job #headhunt #productdesign #designers #vacancy</td>\n",
       "    </tr>\n",
       "    <tr>\n",
       "      <th>9</th>\n",
       "      <td>https://www.linkedin.com/in/ali-wodan/recent-activity/all/</td>\n",
       "      <td>NaN</td>\n",
       "      <td>NaN</td>\n",
       "      <td>NaN</td>\n",
       "      <td>NaN</td>\n",
       "      <td>NaN</td>\n",
       "      <td>NaN</td>\n",
       "      <td>NaN</td>\n",
       "      <td>0.0</td>\n",
       "      <td>NaN</td>\n",
       "      <td>0.0</td>\n",
       "      <td>Head of Design</td>\n",
       "      <td>0.0</td>\n",
       "      <td>https://lnkd.in/g7-FtA6Новый эпизод на всех платформах</td>\n",
       "    </tr>\n",
       "    <tr>\n",
       "      <th>10</th>\n",
       "      <td>https://www.linkedin.com/in/ali-wodan/recent-activity/all/</td>\n",
       "      <td>NaN</td>\n",
       "      <td>NaN</td>\n",
       "      <td>NaN</td>\n",
       "      <td>NaN</td>\n",
       "      <td>NaN</td>\n",
       "      <td>NaN</td>\n",
       "      <td>NaN</td>\n",
       "      <td>0.0</td>\n",
       "      <td>NaN</td>\n",
       "      <td>0.0</td>\n",
       "      <td>Head of Design</td>\n",
       "      <td>0.0</td>\n",
       "      <td>#москва #офис #фултайм #вакансия #moscow #fulltime #inhouse #vacancy #job2020 #job #recruiting #careers Снова ищу классных коллег к нам в команду AdGuard (adguard.com)Нужны:1) Уверенный мидл продакт дизайнер на основную линейку продуктов (много работы) и маркетинг(мало работы) с хорошим скилом в юай #ui #ux #productdesign #productdesigner https://lnkd.in/gQGY36Q2) Юикс райтер, который приведет в порядок все наши интерфейсные тексты. Тут нужен английский с2, прекрасный русский, опыт работы с UI и способность глубоко разбираться в технических деталях чтобы переводить с айтишного на человеческийhttps://lnkd.in/g2aPaRzПо условиям все классноПодробности, вилки зп, подробные условия в телеграме у нашей @ksenia_hr или по почте hr@performix.ru</td>\n",
       "    </tr>\n",
       "    <tr>\n",
       "      <th>11</th>\n",
       "      <td>https://www.linkedin.com/in/ali-wodan/recent-activity/all/</td>\n",
       "      <td>NaN</td>\n",
       "      <td>NaN</td>\n",
       "      <td>NaN</td>\n",
       "      <td>NaN</td>\n",
       "      <td>NaN</td>\n",
       "      <td>NaN</td>\n",
       "      <td>NaN</td>\n",
       "      <td>0.0</td>\n",
       "      <td>NaN</td>\n",
       "      <td>0.0</td>\n",
       "      <td>Head of Design</td>\n",
       "      <td>2.0</td>\n",
       "      <td>Оп-оп, новый движ :) пока нет нигде, скоро будет везде. Ссылка на чудо чудное https://anchor.fm/mirages, если послушаете и насыпете фидбэка, буду какать радугой (нет)#podcast #psychology #mirages #подкаст #психология #миражи</td>\n",
       "    </tr>\n",
       "    <tr>\n",
       "      <th>12</th>\n",
       "      <td>https://www.linkedin.com/in/ali-wodan/recent-activity/all/</td>\n",
       "      <td>NaN</td>\n",
       "      <td>NaN</td>\n",
       "      <td>NaN</td>\n",
       "      <td>NaN</td>\n",
       "      <td>NaN</td>\n",
       "      <td>NaN</td>\n",
       "      <td>NaN</td>\n",
       "      <td>0.0</td>\n",
       "      <td>NaN</td>\n",
       "      <td>0.0</td>\n",
       "      <td>Head of Design</td>\n",
       "      <td>0.0</td>\n",
       "      <td>В новом эпизоде подкаста говорим про парапланеризм и то, как он совмещается с работой в айти #podcast #it #paraplanning :</td>\n",
       "    </tr>\n",
       "    <tr>\n",
       "      <th>13</th>\n",
       "      <td>https://www.linkedin.com/in/ali-wodan/recent-activity/all/</td>\n",
       "      <td>NaN</td>\n",
       "      <td>NaN</td>\n",
       "      <td>NaN</td>\n",
       "      <td>NaN</td>\n",
       "      <td>NaN</td>\n",
       "      <td>NaN</td>\n",
       "      <td>NaN</td>\n",
       "      <td>0.0</td>\n",
       "      <td>NaN</td>\n",
       "      <td>0.0</td>\n",
       "      <td>Head of Design</td>\n",
       "      <td>11.0</td>\n",
       "      <td>Yeah! #gopractice #productmanagement #datadriven</td>\n",
       "    </tr>\n",
       "    <tr>\n",
       "      <th>14</th>\n",
       "      <td>https://www.linkedin.com/in/ali-wodan/recent-activity/all/</td>\n",
       "      <td>NaN</td>\n",
       "      <td>NaN</td>\n",
       "      <td>NaN</td>\n",
       "      <td>NaN</td>\n",
       "      <td>NaN</td>\n",
       "      <td>NaN</td>\n",
       "      <td>NaN</td>\n",
       "      <td>0.0</td>\n",
       "      <td>NaN</td>\n",
       "      <td>0.0</td>\n",
       "      <td>Head of Design</td>\n",
       "      <td>7.0</td>\n",
       "      <td>Заказчик: И сколько нужно времени на дизайн проекта?Дизайнер: Около 2 недель.Заказчик: У вас 3 дня.Дизайнер: Хорошо, давайте попробую объяснить понятнее:#designer #design #ux #ui #customer #client #deadline #maket #presentation #it #humor #ithumor</td>\n",
       "    </tr>\n",
       "    <tr>\n",
       "      <th>15</th>\n",
       "      <td>https://www.linkedin.com/in/ali-wodan/recent-activity/all/</td>\n",
       "      <td>NaN</td>\n",
       "      <td>NaN</td>\n",
       "      <td>NaN</td>\n",
       "      <td>NaN</td>\n",
       "      <td>NaN</td>\n",
       "      <td>NaN</td>\n",
       "      <td>NaN</td>\n",
       "      <td>0.0</td>\n",
       "      <td>NaN</td>\n",
       "      <td>0.0</td>\n",
       "      <td>Head of Design</td>\n",
       "      <td>2.0</td>\n",
       "      <td>Граждане, сеньора-дизайнера мы тоже нашли, большое спасибо всем кто откликнулся. Всем добра и крутых коллег :)  #product #vacancy #success</td>\n",
       "    </tr>\n",
       "    <tr>\n",
       "      <th>16</th>\n",
       "      <td>https://www.linkedin.com/in/ali-wodan/recent-activity/all/</td>\n",
       "      <td>NaN</td>\n",
       "      <td>NaN</td>\n",
       "      <td>NaN</td>\n",
       "      <td>NaN</td>\n",
       "      <td>NaN</td>\n",
       "      <td>NaN</td>\n",
       "      <td>NaN</td>\n",
       "      <td>0.0</td>\n",
       "      <td>NaN</td>\n",
       "      <td>0.0</td>\n",
       "      <td>Head of Design</td>\n",
       "      <td>1.0</td>\n",
       "      <td>https://lnkd.in/gyTZPbE #articles #psychology</td>\n",
       "    </tr>\n",
       "    <tr>\n",
       "      <th>17</th>\n",
       "      <td>https://www.linkedin.com/in/ali-wodan/recent-activity/all/</td>\n",
       "      <td>NaN</td>\n",
       "      <td>NaN</td>\n",
       "      <td>NaN</td>\n",
       "      <td>NaN</td>\n",
       "      <td>NaN</td>\n",
       "      <td>NaN</td>\n",
       "      <td>NaN</td>\n",
       "      <td>0.0</td>\n",
       "      <td>NaN</td>\n",
       "      <td>0.0</td>\n",
       "      <td>Head of Design</td>\n",
       "      <td>4.0</td>\n",
       "      <td>#vacancy #офис #москва #фултайм #productВсем привет! Мидла себе в команду я нашел, спасибо откликнувшимся :) Теперь у меня новая вакансия (такими темпами можно и эйчаром стать кек) Senior Product Digital Designer!Если вкратце, то нам нужен крутой диз который займется еще одним проектом нашей компании. Нужен кто-то самостоятельный, кто сможет со временем собрать свою команду и выстраивать процессы. Сам я на этот проект тратить время не смогу и буду разве что курировать немножк. Откликнись, герой! Интересный продукт, крутые коллеги и хорошая оплата чеканной монетой ждет тебя) Подробности тут: https://lnkd.in/gVhAaxHОткликаться лучше сюда: hr@performix.ru</td>\n",
       "    </tr>\n",
       "    <tr>\n",
       "      <th>18</th>\n",
       "      <td>https://www.linkedin.com/in/ali-wodan/recent-activity/all/</td>\n",
       "      <td>NaN</td>\n",
       "      <td>NaN</td>\n",
       "      <td>NaN</td>\n",
       "      <td>NaN</td>\n",
       "      <td>NaN</td>\n",
       "      <td>NaN</td>\n",
       "      <td>NaN</td>\n",
       "      <td>0.0</td>\n",
       "      <td>NaN</td>\n",
       "      <td>0.0</td>\n",
       "      <td>Head of Design</td>\n",
       "      <td>8.0</td>\n",
       "      <td>#москва #офис #фултаймИщу классных коллег к нам в команду AdGuard (adguard.com) Что делать:Редизайн и развитие отдельного продукта (промо-сайт + продукт, сложное веб-приложение) и сопровождениеилиUX/UI для веб-приложений и ПО с нуля и на основе дизайн-системыРазработка и поддержка кроссплатформенной дизайн-системыМаркетинговые задачи, лэндинги, письма, оптимизация конверсии сайтовКонтроль качества Что мы ожидаем:Опыт разработки интерфейсов в студии или продуктовых компаниях от 2 летМинимум 2 живых проекта с вашим дизайном в сети, минимум 1 из них сложныйУмение и желание вникать и разбираться, умение думатьSketch как основной инструмент (возможно со временем перейдем на фигму но это не точно) + умение работать на всем что понадобится Что предлагаем:Белая заработная платаКомфортный офис в г. Москве в 5 минутах ходьбы от м. ТульскаяСпортзал, настольный теннис, занятия с тренером, группы по английскому и китайскому языкам в офисеСовременные и удобные рабочие места — мощные маки, хорошие мониторыДМС после испытательного срока Для вопросов и откликов пишите на почту hr@performix.ru или в телеграм @ksenia_hr</td>\n",
       "    </tr>\n",
       "  </tbody>\n",
       "</table>\n",
       "</div>"
      ],
      "text/plain": [
       "                                                           url user_position  \\\n",
       "0   https://www.linkedin.com/in/ali-wodan/recent-activity/all/           NaN   \n",
       "1   https://www.linkedin.com/in/ali-wodan/recent-activity/all/           NaN   \n",
       "2   https://www.linkedin.com/in/ali-wodan/recent-activity/all/           NaN   \n",
       "3   https://www.linkedin.com/in/ali-wodan/recent-activity/all/           NaN   \n",
       "4   https://www.linkedin.com/in/ali-wodan/recent-activity/all/           NaN   \n",
       "5   https://www.linkedin.com/in/ali-wodan/recent-activity/all/           NaN   \n",
       "6   https://www.linkedin.com/in/ali-wodan/recent-activity/all/           NaN   \n",
       "7   https://www.linkedin.com/in/ali-wodan/recent-activity/all/           NaN   \n",
       "8   https://www.linkedin.com/in/ali-wodan/recent-activity/all/           NaN   \n",
       "9   https://www.linkedin.com/in/ali-wodan/recent-activity/all/           NaN   \n",
       "10  https://www.linkedin.com/in/ali-wodan/recent-activity/all/           NaN   \n",
       "11  https://www.linkedin.com/in/ali-wodan/recent-activity/all/           NaN   \n",
       "12  https://www.linkedin.com/in/ali-wodan/recent-activity/all/           NaN   \n",
       "13  https://www.linkedin.com/in/ali-wodan/recent-activity/all/           NaN   \n",
       "14  https://www.linkedin.com/in/ali-wodan/recent-activity/all/           NaN   \n",
       "15  https://www.linkedin.com/in/ali-wodan/recent-activity/all/           NaN   \n",
       "16  https://www.linkedin.com/in/ali-wodan/recent-activity/all/           NaN   \n",
       "17  https://www.linkedin.com/in/ali-wodan/recent-activity/all/           NaN   \n",
       "18  https://www.linkedin.com/in/ali-wodan/recent-activity/all/           NaN   \n",
       "\n",
       "   post_url user_tags user_common_info  user_experience user_location  \\\n",
       "0       NaN       NaN              NaN              NaN           NaN   \n",
       "1       NaN       NaN              NaN              NaN           NaN   \n",
       "2       NaN       NaN              NaN              NaN           NaN   \n",
       "3       NaN       NaN              NaN              NaN           NaN   \n",
       "4       NaN       NaN              NaN              NaN           NaN   \n",
       "5       NaN       NaN              NaN              NaN           NaN   \n",
       "6       NaN       NaN              NaN              NaN           NaN   \n",
       "7       NaN       NaN              NaN              NaN           NaN   \n",
       "8       NaN       NaN              NaN              NaN           NaN   \n",
       "9       NaN       NaN              NaN              NaN           NaN   \n",
       "10      NaN       NaN              NaN              NaN           NaN   \n",
       "11      NaN       NaN              NaN              NaN           NaN   \n",
       "12      NaN       NaN              NaN              NaN           NaN   \n",
       "13      NaN       NaN              NaN              NaN           NaN   \n",
       "14      NaN       NaN              NaN              NaN           NaN   \n",
       "15      NaN       NaN              NaN              NaN           NaN   \n",
       "16      NaN       NaN              NaN              NaN           NaN   \n",
       "17      NaN       NaN              NaN              NaN           NaN   \n",
       "18      NaN       NaN              NaN              NaN           NaN   \n",
       "\n",
       "   user_work  reposts user_name  comments       user_head  likes  \\\n",
       "0        NaN      0.0       NaN       0.0  Head of Design    1.0   \n",
       "1        NaN      0.0       NaN       0.0  Head of Design    1.0   \n",
       "2        NaN      0.0       NaN       0.0  Head of Design    6.0   \n",
       "3        NaN      0.0       NaN       0.0  Head of Design    1.0   \n",
       "4        NaN      0.0       NaN       0.0  Head of Design    2.0   \n",
       "5        NaN      0.0       NaN       0.0  Head of Design    1.0   \n",
       "6        NaN      0.0       NaN       0.0  Head of Design    0.0   \n",
       "7        NaN      0.0       NaN       0.0  Head of Design    0.0   \n",
       "8        NaN      0.0       NaN       0.0  Head of Design    1.0   \n",
       "9        NaN      0.0       NaN       0.0  Head of Design    0.0   \n",
       "10       NaN      0.0       NaN       0.0  Head of Design    0.0   \n",
       "11       NaN      0.0       NaN       0.0  Head of Design    2.0   \n",
       "12       NaN      0.0       NaN       0.0  Head of Design    0.0   \n",
       "13       NaN      0.0       NaN       0.0  Head of Design   11.0   \n",
       "14       NaN      0.0       NaN       0.0  Head of Design    7.0   \n",
       "15       NaN      0.0       NaN       0.0  Head of Design    2.0   \n",
       "16       NaN      0.0       NaN       0.0  Head of Design    1.0   \n",
       "17       NaN      0.0       NaN       0.0  Head of Design    4.0   \n",
       "18       NaN      0.0       NaN       0.0  Head of Design    8.0   \n",
       "\n",
       "                                                                                                                                                                                                                                                                                                                                                                                                                                                                                                                                                                                                                                                                                                                                                                                                                                                                                                                                                                                                                                                                                                                                                              text  \n",
       "0                                                                                                                                                                                                                                                                                                                                                                                                                                                                                                                                                                                                                                                                                                                                                                                                                                                                                                                                                                                                      Кстати говоря. Теперь подкаст Миражи доступен в соцсети Вконтакте: https://lnkd.in/gKkrJX9Я наконец разобрался как туда прикрутить RSS :-) #podcast #миражи  \n",
       "1                                                                                                                                                                                                                                                                                                                                                                                                                                                                                                                                                                                                                                                                                                                                                                                                                                                                                                                                                                                                                                                                                                                I’m #hiring. Know anyone who might be interested?  \n",
       "2                                                                                                                                                                                                                                                                                                                                                                                                                                                                                                                                                                                                                                                           Хэй честной народ! Ищу векторного иллюстратора на проект, с возможным длительным сотрудничеством по итогу. Можно удаленно. Уровень иллюстраций не хуже чем в примере https://lnkd.in/gkrvhxYРепост, пожалуйста)Если ты умеешь так рисовать, напиши мне в личку :-)Hey! I am looking for an Illustrator who can help us with a project! You need to have skills like in the example below or upper. Text me to discuss prices and due :-)#вакансия #vacancy #illustration #иллюстрация #project #проект  \n",
       "3                                                                                                                                                                                                                                                                                                                                                                                                                                                                                                                           Новый пост подкаста \"Миражи\" на всех платформах:В аудио: https://lnkd.in/giWuSVNВ инстаграме: https://lnkd.in/gbV6yxKН #automotive # # #cars #а патреоне: https://lnkd.in/gfShqTU#саморазвитие #психология #психологиячеловека #психологияжизни #психологияличности #личностныйрост #подкаст #подкастмиражи #маркетинг #осознанность #мысли #мысливслух #установки #влияние #подсознаниеИспользованные звуки, музыка и картинки:Аудиоцитата из фильма \"Формула любви\" Марка ЗахароваJardins du Luxembourg by Jahzzar is licensed under a Attribution-ShareAlike 3.0 International License.prisoner by Luis Prado from the Noun Project  \n",
       "4                                                                                                                                                                                                                                                                                                                                                                                                                                                                                                                                                                                                                                                                                                                                                                                                                                                                                                                                                                                                                  Подкаст Миражи, Эпизод 13Ошибка невозвратных затратpodcast.ru/1539345144#подкаст #podcast #it #podcasts #psychology #психология #miragespodcast  \n",
       "5                                                                                                                                                                                                                                                                                                                                                                                                                                                                                                                                                                                                                                                                                                                                                                                                                                                                                                                                                                                                                                                                                            Новый эпизод об эффекте ИКЕА на всех платформах podcast.ru/1539345144  \n",
       "6                                                                                                                                                                                                                                                                                                                                                                                                                                                                                                                                                                                                                                                                                                                                                                                                                           Редкий случай, когда считаю правильным распространять призыв проявить активную позицию и вмешаться в политическую жизнь государства. Что-то мне подсказывает, что если и эти поправки пройдут, то творчество и просветительство окажутся под угрозой во всем СНГ. О чем конкретно идет речь подробно описал Сергей Попов в своем видео  \n",
       "7                                                                                                                                                                                                                                                                                                                                                                                                                                                                                                                                                                                                                                                                                                                                                                          podcast.ru/1539345144В новом эпизоде подкаста вы узнаете что такое теория рационального выбора и для чего ее используют, что мешает нам быть рациональными и почему это хорошо. 🧠#саморазвитие #психология #психологиячеловека #психологияжизни #психологияличности #личностныйрост#подкаст #подкастмиражи #маркетинг #осознанность #мысли #мысливслух #установки #влияние #подсознание  \n",
       "8                                                                                                                                                                                                                                                                                                                                                                                                                                                                                                                                                                                                                                                                                                                                                                                                                                                                                                                                                                                                                                                                   #вакансия #москва #фултайм #дизайнер #hiring #job #headhunt #productdesign #designers #vacancy  \n",
       "9                                                                                                                                                                                                                                                                                                                                                                                                                                                                                                                                                                                                                                                                                                                                                                                                                                                                                                                                                                                                                                                                                                           https://lnkd.in/g7-FtA6Новый эпизод на всех платформах  \n",
       "10                                                                                                                                                                                                                                                                                                                                                                                       #москва #офис #фултайм #вакансия #moscow #fulltime #inhouse #vacancy #job2020 #job #recruiting #careers Снова ищу классных коллег к нам в команду AdGuard (adguard.com)Нужны:1) Уверенный мидл продакт дизайнер на основную линейку продуктов (много работы) и маркетинг(мало работы) с хорошим скилом в юай #ui #ux #productdesign #productdesigner https://lnkd.in/gQGY36Q2) Юикс райтер, который приведет в порядок все наши интерфейсные тексты. Тут нужен английский с2, прекрасный русский, опыт работы с UI и способность глубоко разбираться в технических деталях чтобы переводить с айтишного на человеческийhttps://lnkd.in/g2aPaRzПо условиям все классноПодробности, вилки зп, подробные условия в телеграме у нашей @ksenia_hr или по почте hr@performix.ru  \n",
       "11                                                                                                                                                                                                                                                                                                                                                                                                                                                                                                                                                                                                                                                                                                                                                                                                                                                                                                                                Оп-оп, новый движ :) пока нет нигде, скоро будет везде. Ссылка на чудо чудное https://anchor.fm/mirages, если послушаете и насыпете фидбэка, буду какать радугой (нет)#podcast #psychology #mirages #подкаст #психология #миражи  \n",
       "12                                                                                                                                                                                                                                                                                                                                                                                                                                                                                                                                                                                                                                                                                                                                                                                                                                                                                                                                                                                                                                       В новом эпизоде подкаста говорим про парапланеризм и то, как он совмещается с работой в айти #podcast #it #paraplanning :  \n",
       "13                                                                                                                                                                                                                                                                                                                                                                                                                                                                                                                                                                                                                                                                                                                                                                                                                                                                                                                                                                                                                                                                                                                Yeah! #gopractice #productmanagement #datadriven  \n",
       "14                                                                                                                                                                                                                                                                                                                                                                                                                                                                                                                                                                                                                                                                                                                                                                                                                                                                                                         Заказчик: И сколько нужно времени на дизайн проекта?Дизайнер: Около 2 недель.Заказчик: У вас 3 дня.Дизайнер: Хорошо, давайте попробую объяснить понятнее:#designer #design #ux #ui #customer #client #deadline #maket #presentation #it #humor #ithumor  \n",
       "15                                                                                                                                                                                                                                                                                                                                                                                                                                                                                                                                                                                                                                                                                                                                                                                                                                                                                                                                                                                                                      Граждане, сеньора-дизайнера мы тоже нашли, большое спасибо всем кто откликнулся. Всем добра и крутых коллег :)  #product #vacancy #success  \n",
       "16                                                                                                                                                                                                                                                                                                                                                                                                                                                                                                                                                                                                                                                                                                                                                                                                                                                                                                                                                                                                                                                                                                                   https://lnkd.in/gyTZPbE #articles #psychology  \n",
       "17                                                                                                                                                                                                                                                                                                                                                                                                                                                                            #vacancy #офис #москва #фултайм #productВсем привет! Мидла себе в команду я нашел, спасибо откликнувшимся :) Теперь у меня новая вакансия (такими темпами можно и эйчаром стать кек) Senior Product Digital Designer!Если вкратце, то нам нужен крутой диз который займется еще одним проектом нашей компании. Нужен кто-то самостоятельный, кто сможет со временем собрать свою команду и выстраивать процессы. Сам я на этот проект тратить время не смогу и буду разве что курировать немножк. Откликнись, герой! Интересный продукт, крутые коллеги и хорошая оплата чеканной монетой ждет тебя) Подробности тут: https://lnkd.in/gVhAaxHОткликаться лучше сюда: hr@performix.ru  \n",
       "18  #москва #офис #фултаймИщу классных коллег к нам в команду AdGuard (adguard.com) Что делать:Редизайн и развитие отдельного продукта (промо-сайт + продукт, сложное веб-приложение) и сопровождениеилиUX/UI для веб-приложений и ПО с нуля и на основе дизайн-системыРазработка и поддержка кроссплатформенной дизайн-системыМаркетинговые задачи, лэндинги, письма, оптимизация конверсии сайтовКонтроль качества Что мы ожидаем:Опыт разработки интерфейсов в студии или продуктовых компаниях от 2 летМинимум 2 живых проекта с вашим дизайном в сети, минимум 1 из них сложныйУмение и желание вникать и разбираться, умение думатьSketch как основной инструмент (возможно со временем перейдем на фигму но это не точно) + умение работать на всем что понадобится Что предлагаем:Белая заработная платаКомфортный офис в г. Москве в 5 минутах ходьбы от м. ТульскаяСпортзал, настольный теннис, занятия с тренером, группы по английскому и китайскому языкам в офисеСовременные и удобные рабочие места — мощные маки, хорошие мониторыДМС после испытательного срока Для вопросов и откликов пишите на почту hr@performix.ru или в телеграм @ksenia_hr  "
      ]
     },
     "execution_count": 91,
     "metadata": {},
     "output_type": "execute_result"
    }
   ],
   "source": [
    "df[df['url'] == 'https://www.linkedin.com/in/ali-wodan/recent-activity/all/']"
   ]
  },
  {
   "cell_type": "markdown",
   "id": "d3798d4c",
   "metadata": {},
   "source": [
    "# Предобработка данных"
   ]
  },
  {
   "cell_type": "code",
   "execution_count": 92,
   "id": "b733189b",
   "metadata": {},
   "outputs": [],
   "source": [
    "# функция удаления эмодзи\n",
    "def remove_emojis(text):\n",
    "    emoji_pattern = re.compile(\"[\"\n",
    "                               u\"\\U0001F600-\\U0001F64F\"  # смайлики\n",
    "                               u\"\\U0001F300-\\U0001F5FF\"  # символы и пиктограммы\n",
    "                               u\"\\U0001F680-\\U0001F6FF\"  # транспорт и символы на карте\n",
    "                               u\"\\U0001F1E0-\\U0001F1FF\"  # флаги\n",
    "                               u\"\\U00002500-\\U00002BEF\"  # китайские символы\n",
    "                               # другие разные символы\n",
    "                               u\"\\U00002702-\\U000027B0\"\n",
    "                               u\"\\U00002702-\\U000027B0\"\n",
    "                               u\"\\U000024C2-\\U0001F251\"\n",
    "                               u\"\\U0001f926-\\U0001f937\"\n",
    "                               u\"\\U00010000-\\U0010ffff\"\n",
    "                               u\"\\u2640-\\u2642\" \n",
    "                               u\"\\u2600-\\u2B55\"\n",
    "                               u\"\\u200d\"\n",
    "                               u\"\\u23cf\"\n",
    "                               u\"\\u23e9\"\n",
    "                               u\"\\u231a\"\n",
    "                               u\"\\ufe0f\"  \n",
    "                               u\"\\u3030\"\n",
    "                               \"]+\", flags=re.UNICODE)\n",
    "    # Удаляем эмодзи, используя паттерны\n",
    "    text_without_emojis = emoji_pattern.sub(r'', text)\n",
    "    return text_without_emojis"
   ]
  },
  {
   "cell_type": "code",
   "execution_count": 93,
   "id": "5461eae8",
   "metadata": {},
   "outputs": [],
   "source": [
    "# удаляем эмодзи из постов\n",
    "df['text_lemmatized'] = df['text'].apply(lambda x: remove_emojis(x) if pd.notnull(x) else x)"
   ]
  },
  {
   "cell_type": "code",
   "execution_count": 94,
   "id": "8a349268",
   "metadata": {},
   "outputs": [],
   "source": [
    "# удалим посты на украинском языке\n",
    "\n",
    "# определяем шаблон для украинских символов (по специфичным для данного языка символам)\n",
    "ukrainian_pattern = r'[ЄєІіЇїҐґ]'\n",
    "\n",
    "# создаем маску, указывающую строки, в которых столбец \"post\" содержит текст на украинском языке\n",
    "mask = df['text_lemmatized'].str.contains(ukrainian_pattern, regex=True, na=False)\n",
    "\n",
    "# сохраняем в датафрейме только строки, в которых маска имеет значение False\n",
    "df = df[~mask]"
   ]
  },
  {
   "cell_type": "code",
   "execution_count": 95,
   "id": "ce2c5ba3",
   "metadata": {},
   "outputs": [],
   "source": [
    "# функция лемматизации текста\n",
    "morph = pymorphy2.MorphAnalyzer()\n",
    "def lemmatize_text(text):\n",
    "    lemmatized_words = [morph.parse(word)[0].normal_form for word in text.split()]\n",
    "    return ' '.join(lemmatized_words)\n",
    "\n",
    "# лемматизируем посты\n",
    "df['text_lemmatized'] = df['text_lemmatized'].apply(lemmatize_text)"
   ]
  },
  {
   "cell_type": "code",
   "execution_count": 96,
   "id": "a062cfed",
   "metadata": {},
   "outputs": [],
   "source": [
    "# удаляем слова, которые идут после хэш-тэга\n",
    "df['text_lemmatized'] = df['text_lemmatized'].apply(lambda x: re.sub(r'#[^\\s]+', ' ', x))"
   ]
  },
  {
   "cell_type": "code",
   "execution_count": 97,
   "id": "b807d2ec",
   "metadata": {},
   "outputs": [],
   "source": [
    "# производим замену дефиса на пробел\n",
    "df[\"text_lemmatized\"] = df[\"text_lemmatized\"].str.replace(\"-\", \" \")"
   ]
  },
  {
   "cell_type": "code",
   "execution_count": 98,
   "id": "594cade3",
   "metadata": {},
   "outputs": [],
   "source": [
    "# удаляем лишние текстовые символы (те, которые не состоят из букв русского алфавита)\n",
    "# только русские буквы и пробелы\n",
    "df['text_lemmatized'] = df['text_lemmatized'].str.replace('[^а-яА-ЯёЁ\\s]', ' ', regex=True) "
   ]
  },
  {
   "cell_type": "code",
   "execution_count": 99,
   "id": "c6980981",
   "metadata": {},
   "outputs": [
    {
     "name": "stderr",
     "output_type": "stream",
     "text": [
      "[nltk_data] Downloading package stopwords to\n",
      "[nltk_data]     C:\\Users\\Papin\\AppData\\Roaming\\nltk_data...\n",
      "[nltk_data]   Package stopwords is already up-to-date!\n"
     ]
    }
   ],
   "source": [
    "# скачиваем стоп-слова \n",
    "nltk.download('stopwords')\n",
    "stop_words = set(stopwords.words('russian'))\n",
    "\n",
    "# еще один список от bukvarix.com - список стоп-слов Яндекс Wordstat - (этот список можно дополнить/изменить)\n",
    "file_path_words = os.path.join(file_path, 'stop_words.txt')\n",
    "with open(file_path_words, 'r', encoding='utf-8') as file:\n",
    "    stop_words_buk = file.read()"
   ]
  },
  {
   "cell_type": "code",
   "execution_count": 100,
   "id": "4a6eb273",
   "metadata": {},
   "outputs": [],
   "source": [
    "# удаляем стоп-слова и слова-паразиты\n",
    "df['text_lemmatized'] = df['text_lemmatized'].apply(lambda x: ' '.join([word for word in x.split() if word not in stop_words]))\n",
    "df['text_lemmatized'] = df['text_lemmatized'].apply(lambda x: ' '.join([word for word in x.split() if word.lower() not in stop_words_buk]))"
   ]
  },
  {
   "cell_type": "code",
   "execution_count": 101,
   "id": "d326e369",
   "metadata": {},
   "outputs": [],
   "source": [
    "'''если НЕ оставляем в постах английские слова'''\n",
    "# определяем шаблон регулярного выражения для русских букв\n",
    "pattern = '[^а-яА-ЯёЁ]'\n",
    "# создаем маску, чтобы проверить, содержит ли каждая ячейка русские буквы\n",
    "mask = df['text_lemmatized'].str.contains(pattern, regex=True)\n",
    "# фильтруем датафрейм, используя маску\n",
    "df = df[mask]"
   ]
  },
  {
   "cell_type": "code",
   "execution_count": 102,
   "id": "839fa6a6",
   "metadata": {
    "scrolled": true
   },
   "outputs": [
    {
     "data": {
      "text/html": [
       "<div>\n",
       "<style scoped>\n",
       "    .dataframe tbody tr th:only-of-type {\n",
       "        vertical-align: middle;\n",
       "    }\n",
       "\n",
       "    .dataframe tbody tr th {\n",
       "        vertical-align: top;\n",
       "    }\n",
       "\n",
       "    .dataframe thead th {\n",
       "        text-align: right;\n",
       "    }\n",
       "</style>\n",
       "<table border=\"1\" class=\"dataframe\">\n",
       "  <thead>\n",
       "    <tr style=\"text-align: right;\">\n",
       "      <th></th>\n",
       "      <th>url</th>\n",
       "      <th>user_position</th>\n",
       "      <th>post_url</th>\n",
       "      <th>user_tags</th>\n",
       "      <th>user_common_info</th>\n",
       "      <th>user_experience</th>\n",
       "      <th>user_location</th>\n",
       "      <th>user_work</th>\n",
       "      <th>reposts</th>\n",
       "      <th>user_name</th>\n",
       "      <th>comments</th>\n",
       "      <th>user_head</th>\n",
       "      <th>likes</th>\n",
       "      <th>text</th>\n",
       "      <th>text_lemmatized</th>\n",
       "    </tr>\n",
       "  </thead>\n",
       "  <tbody>\n",
       "    <tr>\n",
       "      <th>0</th>\n",
       "      <td>https://www.linkedin.com/in/ali-wodan/recent-activity/all/</td>\n",
       "      <td>NaN</td>\n",
       "      <td>NaN</td>\n",
       "      <td>NaN</td>\n",
       "      <td>NaN</td>\n",
       "      <td>NaN</td>\n",
       "      <td>NaN</td>\n",
       "      <td>NaN</td>\n",
       "      <td>0.0</td>\n",
       "      <td>NaN</td>\n",
       "      <td>0.0</td>\n",
       "      <td>Head of Design</td>\n",
       "      <td>1.0</td>\n",
       "      <td>Кстати говоря. Теперь подкаст Миражи доступен в соцсети Вконтакте: https://lnkd.in/gKkrJX9Я наконец разобрался как туда прикрутить RSS :-) #podcast #миражи</td>\n",
       "      <td>говоря подкаст мираж доступный соцсеть вконтакте разобраться прикрутить</td>\n",
       "    </tr>\n",
       "    <tr>\n",
       "      <th>2</th>\n",
       "      <td>https://www.linkedin.com/in/ali-wodan/recent-activity/all/</td>\n",
       "      <td>NaN</td>\n",
       "      <td>NaN</td>\n",
       "      <td>NaN</td>\n",
       "      <td>NaN</td>\n",
       "      <td>NaN</td>\n",
       "      <td>NaN</td>\n",
       "      <td>NaN</td>\n",
       "      <td>0.0</td>\n",
       "      <td>NaN</td>\n",
       "      <td>0.0</td>\n",
       "      <td>Head of Design</td>\n",
       "      <td>6.0</td>\n",
       "      <td>Хэй честной народ! Ищу векторного иллюстратора на проект, с возможным длительным сотрудничеством по итогу. Можно удаленно. Уровень иллюстраций не хуже чем в примере https://lnkd.in/gkrvhxYРепост, пожалуйста)Если ты умеешь так рисовать, напиши мне в личку :-)Hey! I am looking for an Illustrator who can help us with a project! You need to have skills like in the example below or upper. Text me to discuss prices and due :-)#вакансия #vacancy #illustration #иллюстрация #project #проект</td>\n",
       "      <td>честной народ искать векторный иллюстратор возможный длительный сотрудничество итогу удаленно уровень иллюстрация уметь рисовать</td>\n",
       "    </tr>\n",
       "    <tr>\n",
       "      <th>3</th>\n",
       "      <td>https://www.linkedin.com/in/ali-wodan/recent-activity/all/</td>\n",
       "      <td>NaN</td>\n",
       "      <td>NaN</td>\n",
       "      <td>NaN</td>\n",
       "      <td>NaN</td>\n",
       "      <td>NaN</td>\n",
       "      <td>NaN</td>\n",
       "      <td>NaN</td>\n",
       "      <td>0.0</td>\n",
       "      <td>NaN</td>\n",
       "      <td>0.0</td>\n",
       "      <td>Head of Design</td>\n",
       "      <td>1.0</td>\n",
       "      <td>Новый пост подкаста \"Миражи\" на всех платформах:В аудио: https://lnkd.in/giWuSVNВ инстаграме: https://lnkd.in/gbV6yxKН #automotive # # #cars #а патреоне: https://lnkd.in/gfShqTU#саморазвитие #психология #психологиячеловека #психологияжизни #психологияличности #личностныйрост #подкаст #подкастмиражи #маркетинг #осознанность #мысли #мысливслух #установки #влияние #подсознаниеИспользованные звуки, музыка и картинки:Аудиоцитата из фильма \"Формула любви\" Марка ЗахароваJardins du Luxembourg by Jahzzar is licensed under a Attribution-ShareAlike 3.0 International License.prisoner by Luis Prado from the Noun Project</td>\n",
       "      <td>подкаст миражи платформах аудио инстаграме патреоне звуки музыка картинки аудиоцитат фильм формула любви марк захарова</td>\n",
       "    </tr>\n",
       "    <tr>\n",
       "      <th>4</th>\n",
       "      <td>https://www.linkedin.com/in/ali-wodan/recent-activity/all/</td>\n",
       "      <td>NaN</td>\n",
       "      <td>NaN</td>\n",
       "      <td>NaN</td>\n",
       "      <td>NaN</td>\n",
       "      <td>NaN</td>\n",
       "      <td>NaN</td>\n",
       "      <td>NaN</td>\n",
       "      <td>0.0</td>\n",
       "      <td>NaN</td>\n",
       "      <td>0.0</td>\n",
       "      <td>Head of Design</td>\n",
       "      <td>2.0</td>\n",
       "      <td>Подкаст Миражи, Эпизод 13Ошибка невозвратных затратpodcast.ru/1539345144#подкаст #podcast #it #podcasts #psychology #психология #miragespodcast</td>\n",
       "      <td>подкаст миражи эпизод ошибка невозвратный затрат</td>\n",
       "    </tr>\n",
       "    <tr>\n",
       "      <th>5</th>\n",
       "      <td>https://www.linkedin.com/in/ali-wodan/recent-activity/all/</td>\n",
       "      <td>NaN</td>\n",
       "      <td>NaN</td>\n",
       "      <td>NaN</td>\n",
       "      <td>NaN</td>\n",
       "      <td>NaN</td>\n",
       "      <td>NaN</td>\n",
       "      <td>NaN</td>\n",
       "      <td>0.0</td>\n",
       "      <td>NaN</td>\n",
       "      <td>0.0</td>\n",
       "      <td>Head of Design</td>\n",
       "      <td>1.0</td>\n",
       "      <td>Новый эпизод об эффекте ИКЕА на всех платформах podcast.ru/1539345144</td>\n",
       "      <td>эпизод эффект икеа платформа</td>\n",
       "    </tr>\n",
       "  </tbody>\n",
       "</table>\n",
       "</div>"
      ],
      "text/plain": [
       "                                                          url user_position  \\\n",
       "0  https://www.linkedin.com/in/ali-wodan/recent-activity/all/           NaN   \n",
       "2  https://www.linkedin.com/in/ali-wodan/recent-activity/all/           NaN   \n",
       "3  https://www.linkedin.com/in/ali-wodan/recent-activity/all/           NaN   \n",
       "4  https://www.linkedin.com/in/ali-wodan/recent-activity/all/           NaN   \n",
       "5  https://www.linkedin.com/in/ali-wodan/recent-activity/all/           NaN   \n",
       "\n",
       "  post_url user_tags user_common_info  user_experience user_location  \\\n",
       "0      NaN       NaN              NaN              NaN           NaN   \n",
       "2      NaN       NaN              NaN              NaN           NaN   \n",
       "3      NaN       NaN              NaN              NaN           NaN   \n",
       "4      NaN       NaN              NaN              NaN           NaN   \n",
       "5      NaN       NaN              NaN              NaN           NaN   \n",
       "\n",
       "  user_work  reposts user_name  comments       user_head  likes  \\\n",
       "0       NaN      0.0       NaN       0.0  Head of Design    1.0   \n",
       "2       NaN      0.0       NaN       0.0  Head of Design    6.0   \n",
       "3       NaN      0.0       NaN       0.0  Head of Design    1.0   \n",
       "4       NaN      0.0       NaN       0.0  Head of Design    2.0   \n",
       "5       NaN      0.0       NaN       0.0  Head of Design    1.0   \n",
       "\n",
       "                                                                                                                                                                                                                                                                                                                                                                                                                                                                                                                                                                                                                                     text  \\\n",
       "0                                                                                                                                                                                                                                                                                                                                                                                                                                                                             Кстати говоря. Теперь подкаст Миражи доступен в соцсети Вконтакте: https://lnkd.in/gKkrJX9Я наконец разобрался как туда прикрутить RSS :-) #podcast #миражи   \n",
       "2                                                                                                                                  Хэй честной народ! Ищу векторного иллюстратора на проект, с возможным длительным сотрудничеством по итогу. Можно удаленно. Уровень иллюстраций не хуже чем в примере https://lnkd.in/gkrvhxYРепост, пожалуйста)Если ты умеешь так рисовать, напиши мне в личку :-)Hey! I am looking for an Illustrator who can help us with a project! You need to have skills like in the example below or upper. Text me to discuss prices and due :-)#вакансия #vacancy #illustration #иллюстрация #project #проект   \n",
       "3  Новый пост подкаста \"Миражи\" на всех платформах:В аудио: https://lnkd.in/giWuSVNВ инстаграме: https://lnkd.in/gbV6yxKН #automotive # # #cars #а патреоне: https://lnkd.in/gfShqTU#саморазвитие #психология #психологиячеловека #психологияжизни #психологияличности #личностныйрост #подкаст #подкастмиражи #маркетинг #осознанность #мысли #мысливслух #установки #влияние #подсознаниеИспользованные звуки, музыка и картинки:Аудиоцитата из фильма \"Формула любви\" Марка ЗахароваJardins du Luxembourg by Jahzzar is licensed under a Attribution-ShareAlike 3.0 International License.prisoner by Luis Prado from the Noun Project   \n",
       "4                                                                                                                                                                                                                                                                                                                                                                                                                                                                                         Подкаст Миражи, Эпизод 13Ошибка невозвратных затратpodcast.ru/1539345144#подкаст #podcast #it #podcasts #psychology #психология #miragespodcast   \n",
       "5                                                                                                                                                                                                                                                                                                                                                                                                                                                                                                                                                                   Новый эпизод об эффекте ИКЕА на всех платформах podcast.ru/1539345144   \n",
       "\n",
       "                                                                                                                    text_lemmatized  \n",
       "0                                                           говоря подкаст мираж доступный соцсеть вконтакте разобраться прикрутить  \n",
       "2  честной народ искать векторный иллюстратор возможный длительный сотрудничество итогу удаленно уровень иллюстрация уметь рисовать  \n",
       "3            подкаст миражи платформах аудио инстаграме патреоне звуки музыка картинки аудиоцитат фильм формула любви марк захарова  \n",
       "4                                                                                  подкаст миражи эпизод ошибка невозвратный затрат  \n",
       "5                                                                                                      эпизод эффект икеа платформа  "
      ]
     },
     "execution_count": 102,
     "metadata": {},
     "output_type": "execute_result"
    }
   ],
   "source": [
    "df.head()"
   ]
  },
  {
   "cell_type": "code",
   "execution_count": 103,
   "id": "d58c5c00",
   "metadata": {},
   "outputs": [
    {
     "name": "stdout",
     "output_type": "stream",
     "text": [
      "<class 'pandas.core.frame.DataFrame'>\n",
      "Index: 3032 entries, 0 to 10368\n",
      "Data columns (total 15 columns):\n",
      " #   Column            Non-Null Count  Dtype  \n",
      "---  ------            --------------  -----  \n",
      " 0   url               3032 non-null   object \n",
      " 1   user_position     43 non-null     object \n",
      " 2   post_url          43 non-null     object \n",
      " 3   user_tags         36 non-null     object \n",
      " 4   user_common_info  36 non-null     object \n",
      " 5   user_experience   36 non-null     float64\n",
      " 6   user_location     36 non-null     object \n",
      " 7   user_work         159 non-null    object \n",
      " 8   reposts           2403 non-null   float64\n",
      " 9   user_name         799 non-null    object \n",
      " 10  comments          3032 non-null   float64\n",
      " 11  user_head         3032 non-null   object \n",
      " 12  likes             3016 non-null   float64\n",
      " 13  text              3032 non-null   object \n",
      " 14  text_lemmatized   3032 non-null   object \n",
      "dtypes: float64(4), object(11)\n",
      "memory usage: 379.0+ KB\n"
     ]
    }
   ],
   "source": [
    "df.info()"
   ]
  },
  {
   "cell_type": "markdown",
   "id": "ddc8d91b",
   "metadata": {},
   "source": [
    "##### Сохранение датасетов"
   ]
  },
  {
   "cell_type": "code",
   "execution_count": 104,
   "id": "a5302032",
   "metadata": {},
   "outputs": [],
   "source": [
    "# Сохраняем датафрейм лемматизации\n",
    "df.to_csv(os.path.join(file_path, 'unity_datasets.csv'))"
   ]
  },
  {
   "cell_type": "markdown",
   "id": "da156ba1",
   "metadata": {},
   "source": [
    "---"
   ]
  },
  {
   "cell_type": "markdown",
   "id": "06af2436",
   "metadata": {},
   "source": [
    "# Векторизация текста"
   ]
  },
  {
   "cell_type": "code",
   "execution_count": 106,
   "id": "c9102449",
   "metadata": {},
   "outputs": [],
   "source": [
    "# filtered_df = df[df['text_lemmatized'].str.contains('обучение|ментор|менторство|менторинг|наставник|наставничество|подопечный', case=False)]\n",
    "\n",
    "'''UPD: 23:21 30.06.2023'''\n",
    "\n",
    "filtered_df = df[df['text_lemmatized'].str.contains('обучение|ментор|менторство|менторинг|наставник|наставничество|\\\n",
    "подопечный|передача|ориентация|сопровождение|консультирование', case=False)]"
   ]
  },
  {
   "cell_type": "code",
   "execution_count": 107,
   "id": "3ac701a9",
   "metadata": {
    "scrolled": false
   },
   "outputs": [
    {
     "name": "stdout",
     "output_type": "stream",
     "text": [
      "<class 'pandas.core.frame.DataFrame'>\n",
      "Index: 265 entries, 18 to 10316\n",
      "Data columns (total 15 columns):\n",
      " #   Column            Non-Null Count  Dtype  \n",
      "---  ------            --------------  -----  \n",
      " 0   url               265 non-null    object \n",
      " 1   user_position     7 non-null      object \n",
      " 2   post_url          7 non-null      object \n",
      " 3   user_tags         4 non-null      object \n",
      " 4   user_common_info  4 non-null      object \n",
      " 5   user_experience   4 non-null      float64\n",
      " 6   user_location     4 non-null      object \n",
      " 7   user_work         23 non-null     object \n",
      " 8   reposts           196 non-null    float64\n",
      " 9   user_name         93 non-null     object \n",
      " 10  comments          265 non-null    float64\n",
      " 11  user_head         265 non-null    object \n",
      " 12  likes             262 non-null    float64\n",
      " 13  text              265 non-null    object \n",
      " 14  text_lemmatized   265 non-null    object \n",
      "dtypes: float64(4), object(11)\n",
      "memory usage: 33.1+ KB\n"
     ]
    }
   ],
   "source": [
    "filtered_df.info()"
   ]
  },
  {
   "cell_type": "code",
   "execution_count": 108,
   "id": "80118ea1",
   "metadata": {},
   "outputs": [
    {
     "data": {
      "text/html": [
       "<div>\n",
       "<style scoped>\n",
       "    .dataframe tbody tr th:only-of-type {\n",
       "        vertical-align: middle;\n",
       "    }\n",
       "\n",
       "    .dataframe tbody tr th {\n",
       "        vertical-align: top;\n",
       "    }\n",
       "\n",
       "    .dataframe thead th {\n",
       "        text-align: right;\n",
       "    }\n",
       "</style>\n",
       "<table border=\"1\" class=\"dataframe\">\n",
       "  <thead>\n",
       "    <tr style=\"text-align: right;\">\n",
       "      <th></th>\n",
       "      <th>url</th>\n",
       "      <th>user_position</th>\n",
       "      <th>post_url</th>\n",
       "      <th>user_tags</th>\n",
       "      <th>user_common_info</th>\n",
       "      <th>user_experience</th>\n",
       "      <th>user_location</th>\n",
       "      <th>user_work</th>\n",
       "      <th>reposts</th>\n",
       "      <th>user_name</th>\n",
       "      <th>comments</th>\n",
       "      <th>user_head</th>\n",
       "      <th>likes</th>\n",
       "      <th>text</th>\n",
       "      <th>text_lemmatized</th>\n",
       "    </tr>\n",
       "  </thead>\n",
       "  <tbody>\n",
       "    <tr>\n",
       "      <th>18</th>\n",
       "      <td>https://www.linkedin.com/in/ali-wodan/recent-activity/all/</td>\n",
       "      <td>NaN</td>\n",
       "      <td>NaN</td>\n",
       "      <td>NaN</td>\n",
       "      <td>NaN</td>\n",
       "      <td>NaN</td>\n",
       "      <td>NaN</td>\n",
       "      <td>NaN</td>\n",
       "      <td>0.0</td>\n",
       "      <td>NaN</td>\n",
       "      <td>0.0</td>\n",
       "      <td>Head of Design</td>\n",
       "      <td>8.000</td>\n",
       "      <td>#москва #офис #фултаймИщу классных коллег к нам в команду AdGuard (adguard.com) Что делать:Редизайн и развитие отдельного продукта (промо-сайт + продукт, сложное веб-приложение) и сопровождениеилиUX/UI для веб-приложений и ПО с нуля и на основе дизайн-системыРазработка и поддержка кроссплатформенной дизайн-системыМаркетинговые задачи, лэндинги, письма, оптимизация конверсии сайтовКонтроль качества Что мы ожидаем:Опыт разработки интерфейсов в студии или продуктовых компаниях от 2 летМинимум 2 живых проекта с вашим дизайном в сети, минимум 1 из них сложныйУмение и желание вникать и разбираться, умение думатьSketch как основной инструмент (возможно со временем перейдем на фигму но это не точно) + умение работать на всем что понадобится Что предлагаем:Белая заработная платаКомфортный офис в г. Москве в 5 минутах ходьбы от м. ТульскаяСпортзал, настольный теннис, занятия с тренером, группы по английскому и китайскому языкам в офисеСовременные и удобные рабочие места — мощные маки, хорошие мониторыДМС после испытательного срока Для вопросов и откликов пишите на почту hr@performix.ru или в телеграм @ksenia_hr</td>\n",
       "      <td>команда редизайн развитие продукт промо продукт сложный веб приложение сопровождениеили веб приложение основа дизайн системыразработка поддержка кроссплатформенный дизайн системымаркетинговый задачи лэндинги письма оптимизация конверсия сайтовконтроль качество ожидаем опыт разработка интерфейс студия продуктовый летминимум живой дизайн минимум сложныйумение желание вникать разбираться умение основной инструмент возможный перейти фигма точно умение понадобиться предлагаем белый заработный платакомфортный офис минута ходьба тульскаяспортзал настольный теннис занятие тренером группа английский китайский офисесовременный рабочий место мощный маки мониторыдмс испытательный срок отклик почта</td>\n",
       "    </tr>\n",
       "    <tr>\n",
       "      <th>114</th>\n",
       "      <td>https://www.linkedin.com/in/tatberezka/recent-activity/all/</td>\n",
       "      <td>NaN</td>\n",
       "      <td>NaN</td>\n",
       "      <td>NaN</td>\n",
       "      <td>NaN</td>\n",
       "      <td>NaN</td>\n",
       "      <td>NaN</td>\n",
       "      <td>NaN</td>\n",
       "      <td>1.0</td>\n",
       "      <td>NaN</td>\n",
       "      <td>0.0</td>\n",
       "      <td>IT - recruiter (ищу системный аналитиков и инженера по нагрузочному тестированию)</td>\n",
       "      <td>6.000</td>\n",
       "      <td>Всем привет! 🙂 🙌 Ищу С#- разработчика с опытом разработки решений Microsoft SharePoint Server 2010 или 2013. в финтех проект. 🔸Формат работы: удаленно, офис/гибрид(если Москва, Саратов, Пенза)/коворкинг (локация РФ).🔸 Занятость: полная занятость🔸 ЗП: до 250 тыс. р. на руки.🔸 Чем предстоит заниматься:Предстоит заниматься развитием и сопровождением текущей системы работы с договорными документами, разработанной на базе Microsoft SharePoint Server (2013).Требуется 1 человек (.Net разработчик) - уровень middle, способный принять самостоятельное решение, оценить требования, оценить длительность реализации по текущим требованиям.🔸 Наши ожидания от кандидата:- Опыт работы на С# / .NET Framework от 2-х лет- Обязательно опыт доработки/поддержки систем на платформе MS SharePoint 2010/2013 в качестве Администратора/Разработчика- Опыт с MS Silverlight 5.0 или WPF- MS Sql Server (2008, 2012)🔻 Компания предлагает вам:- Рабочую технику при необходимости: ноутбук, монитор и т.д.;- ДМС (или спорт) после испытательного срока;- Оплачиваемые профильные внешние курсы, а также доступ к внутренним учебным программам.- Высококомпетентная команда, гибкие методики разработки;- Возможности профессионального роста и развития.telegram: @tatberezkaБуду рада ответить на все вопросы и рассказать про детали :)#net #sharepoint #sql</td>\n",
       "      <td>искать разработчик опыт разработка решение финтех формат удаленно офис гибрид саратов пенза коворкинг локация рф занятость занятость руки предстоять заниматься предстоять заниматься развитие сопровождение текущий система договорный документами разработать база требоваться разработчик уровень способный принять самостоятельный решение оценить требования оценить длительность реализация текущий требованиям ожидание кандидата опыт опыт доработки поддержка система платформа качество администратора разработчика опыт предлагать рабочий техника необходимости ноутбук монитор дмс спорт испытательный срока оплачивать профильный внешний курсы доступ внутренний учебный программам высококомпетентный команда гибкий методика разработки возможность профессиональный развития деталь</td>\n",
       "    </tr>\n",
       "    <tr>\n",
       "      <th>121</th>\n",
       "      <td>https://www.linkedin.com/in/agratoth/recent-activity/all/</td>\n",
       "      <td>NaN</td>\n",
       "      <td>NaN</td>\n",
       "      <td>NaN</td>\n",
       "      <td>NaN</td>\n",
       "      <td>NaN</td>\n",
       "      <td>NaN</td>\n",
       "      <td>NaN</td>\n",
       "      <td>3.0</td>\n",
       "      <td>NaN</td>\n",
       "      <td>3.0</td>\n",
       "      <td>CTO/Co-founder</td>\n",
       "      <td>21.000</td>\n",
       "      <td>Что едят единороги?Уже не первый год я по мере сил своих физических и ментальных оказываю менторскую помощь самым разным ребятам, от начинающих разработчиков (выбрать путь для профессионального развития, собрать роадмап для штудирования книг и т.д.) до HR (в этих наших стеках и фреймворках, как показывает практика, черт ногу сломит, если не вариться в этом постоянно). И неоднократно ребята спрашивали меня - почему я не делаю вебинаров по разным темамИ вот прошли годы, слово “вебинар” уже вышло из моды, заменившись на “воркшоп”, и я, наконец, созрел. А, с учетом на одном дыхании прочитанной нетленки Джеффа Уокера “Запуск!”, созрел даже сразу за деньги. Ну а почему бы и да?Итак, где-нибудь ориентировочно 17 или 18 сентября приглашаю всех заинтересованных на воркшоп. В течение четырех-пяти часов в прямом эфире я буду писать (и объяснять!) целый небольшой агротех-сервис. Да какой сервис! Это будет симулятор большой и взрослой ERP-системы, автоматизирующей деятельность фермы по выращиванию… единорогов. Ну, а почему бы и нет? Для единорогов нужно будет строить единорожни (ну, не конюшни же?), каждый из них будет обладать определенными статами, которые можно будет развивать скрещиванием. Для них надо будет закупать цветы и нектар (все ведь знают, чем питаются единороги?). Единорожий приплод можно будет продавать на внутреннем виртуальном рынке. Этакий небольшой бизнес-симулятор.В целом, за исключением контекста, система будет вполне серьезной, с бизнес-логикой, отложенными задачами и триггерами.Стек проекта:- на бэкенде - FastAPI, за ORM - ormar+alembic, за БД - PostgreSQL, за брокера - NATS, хранилище кэша - Redis, куда ж без него. - на фронтэнде - React 18 без CRA, Typescript, Redux-Toolkit. За UI будет отвечать Tailwind с плагинами. За сборку - Webpack с плагинами. Также есть Babel с плагинами, и PostCSS (угадайте с чем… правильно!), тоже с плагинами. - в инфраструктуре - Docker и nginx. Ansible и Gitlab CI/CD - если успеем.В целом, хочется сделать законченный полностековый проект, от верстки фронта до деплоя и девопсовых свистелок и … плейбуков. Возможно, в рамки одного воркшопа это все и не влезет, но мы будем очень стараться Во всяком случае, я почти обещаю сильно не тупить - проект то уже реализован, буду в него подглядывать, пока никто не видитТеперь про проведение. Проводить буду в формате стрима, в приватном канале youtube. Более вменяемых вариантов я не знаю, не на твич же с таким идти. Ну, может еще в ВК будет дубль трансляции, но это не точноНу и участие. Оно платное. Целых 150-200 рублей с человека! Ибо, как говорил Джокер - “Если ты что-то можешь сделать, не делай это бесплатно”. А годноты будет наваломВ целом, если идея вам зашла - то приветствуются лайки, комментарии и, конечно, репосты. Ну а если вы дочитали до этого места, и даже заинтересованы поприсутствовать на трансляции - смело пишите мне в телегу @agratoth, сделаем чатик и попытаемся все это организовать#react #fastapi #workshop #воркшоп_единороги</td>\n",
       "      <td>единороги мера сила физический ментальный менторский помощь ребятам начинающий разработчик выбрать путь профессиональный развития собрать роадмап штудирование книга стек фреймворках показывать практика черта нога сломит вариться неоднократно вебинар тема годы слово вебинар моды замениться воркшоп созрел учёт дыхание прочитать нетленка джефф уокер запуск созрелый сразу деньги итак ориентировочно воркшоп эфир объяснять целый небольшой агротех сервис сервис симулятор взрослый системы автоматизировать деятельность ферма выращиванию единорогов единорог строить единорожний конюшня обладать статами развивать скрещиванием закупать цветок нектар знают питаться единороги единорожий приплод продавать внутренний виртуальный рынке этакий небольшой бизнес симулятор целом исключение контекста система вполне серьезной бизнес логикой отложить задача триггерами стечь бэкенд бд брокер хранилище кэш фронтэнд отвечать плагинами сборка плагинами плагинами угадать плагинами инфраструктура успеем целом полностековый вёрстка фронт деплоить девопсовый свистелка плейбуков рамка воркшоп влезет стараться всякий случае обещать сильно тупить реализован подглядывать видиттеперь проведение формат стрима приватный канал вменяемый вариант знаю твич идти дубль трансляции точнона участие платное целый рубль джокер бесплатно годнота наваломть целом идея зайти приветствоваться лайки комментарий репосты дочитать места заинтересовать поприсутствовать трансляция смело телега чатик попытаться организовать</td>\n",
       "    </tr>\n",
       "    <tr>\n",
       "      <th>138</th>\n",
       "      <td>https://www.linkedin.com/in/agratoth/recent-activity/all/</td>\n",
       "      <td>NaN</td>\n",
       "      <td>NaN</td>\n",
       "      <td>NaN</td>\n",
       "      <td>NaN</td>\n",
       "      <td>NaN</td>\n",
       "      <td>NaN</td>\n",
       "      <td>NaN</td>\n",
       "      <td>165.0</td>\n",
       "      <td>NaN</td>\n",
       "      <td>449.0</td>\n",
       "      <td>CTO/Co-founder</td>\n",
       "      <td>1.535</td>\n",
       "      <td>Коллеги, прошу репост.Одной из целей 2020 (все же ставят на новый год крутые цели, да? :)) я поставил прокачку mentoring skills. А посему ищу 2-3 добровольца, желающих бесплатно изучать что-то из указанного ниже:- Python + OpenCV- Python (микросервисы и асинхронный веб-бэкенд)- Python (стримминг и высокие нагрузки)- Golang (микросервисы и веб-бэкенд)- С/С++ (системная разработка для linux)Бонусом к каждому из направлений - контейнеризация, git, ci/cd, MongoDB, ClickHouse, AWSМатериала у меня - на три-четыре месяца интенсивного обучения (по каждой из тем, по плюсам даже больше). Очень хочется создавать интересные учебные курсы (как дополнение к коммерческой разработке), и нужно с кем-то пройти этот путь первый раз :) #python #golang #cpp #learning</td>\n",
       "      <td>цель цели прокачка посему искать добровольца бесплатно изучать указанный ниже микросервис асинхронный веб бэкенд стримминг нагрузки микросервис веб бэкенд системный разработка бонус направление контейнеризация материал интенсивный обучение плюс создавать учебный курс дополнение коммерческий разработке путь</td>\n",
       "    </tr>\n",
       "    <tr>\n",
       "      <th>205</th>\n",
       "      <td>https://www.linkedin.com/in/%D0%BF%D0%BE%D0%BB%D0%B8%D0%BD%D0%B0-%D0%BC%D1%83%D1%80%D0%B0%D0%B2%D1%8C%D0%B5%D0%B2%D0%B0-61129220a/recent-activity/all/</td>\n",
       "      <td>NaN</td>\n",
       "      <td>NaN</td>\n",
       "      <td>NaN</td>\n",
       "      <td>NaN</td>\n",
       "      <td>NaN</td>\n",
       "      <td>NaN</td>\n",
       "      <td>NaN</td>\n",
       "      <td>361.0</td>\n",
       "      <td>NaN</td>\n",
       "      <td>85.0</td>\n",
       "      <td>IT Recruiter</td>\n",
       "      <td>1.569</td>\n",
       "      <td>🔵 Самая большая подборка для прокачки soft skills. Сохрани, чтобы улучшить навыки будущего, которые будут востребованы, несмотря на ChatGPT 😁. 🔷 Деловое общение https://lnkd.in/dsv8UXvb🔷 Клиентоцентричность https://lnkd.in/d7myCBkj🔷 Когнитивная гибкость https://lnkd.in/d9k5YTW5🔷 Коммуникация https://lnkd.in/drxjkmK6🔷 Управление командой, проектом, процессом https://lnkd.in/d5H-fDVv🔷 Креативное мышление https://lnkd.in/dkvtabGD🔷 Критическое мышление https://lnkd.in/duM_YByi🔷 Наставничество и менторинг https://lnkd.in/dASq6wrq🔷 Презентация и ораторское искусство https://lnkd.in/dkf6Hbgs🔷 Решение проблем и принятие решений https://lnkd.in/dHm4snNK🔷 Системное мышление https://lnkd.in/d-GhykwW🔷 Стресс-менеджмент https://lnkd.in/dtW8E9jh🔷 Управление ресурсами https://lnkd.in/dU6NCQFb🔷 Целеполагание https://lnkd.in/d4tGZyba🔷 Эмоциональный интеллект https://lnkd.in/drSs3JZm #softskills</td>\n",
       "      <td>подборка прокачка сохрани улучшить навык будущего востребованы несмотря деловой общение клиентоцентричность когнитивный гибкость коммуникация управление командой проектом процесс креативный мышление критический мышление наставничество менторинг презентация ораторский искусство решение проблема принятие решение системный мышление стресс менеджмент управление ресурс целеполагание эмоциональный интеллект</td>\n",
       "    </tr>\n",
       "  </tbody>\n",
       "</table>\n",
       "</div>"
      ],
      "text/plain": [
       "                                                                                                                                                        url  \\\n",
       "18                                                                                               https://www.linkedin.com/in/ali-wodan/recent-activity/all/   \n",
       "114                                                                                             https://www.linkedin.com/in/tatberezka/recent-activity/all/   \n",
       "121                                                                                               https://www.linkedin.com/in/agratoth/recent-activity/all/   \n",
       "138                                                                                               https://www.linkedin.com/in/agratoth/recent-activity/all/   \n",
       "205  https://www.linkedin.com/in/%D0%BF%D0%BE%D0%BB%D0%B8%D0%BD%D0%B0-%D0%BC%D1%83%D1%80%D0%B0%D0%B2%D1%8C%D0%B5%D0%B2%D0%B0-61129220a/recent-activity/all/   \n",
       "\n",
       "    user_position post_url user_tags user_common_info  user_experience  \\\n",
       "18            NaN      NaN       NaN              NaN              NaN   \n",
       "114           NaN      NaN       NaN              NaN              NaN   \n",
       "121           NaN      NaN       NaN              NaN              NaN   \n",
       "138           NaN      NaN       NaN              NaN              NaN   \n",
       "205           NaN      NaN       NaN              NaN              NaN   \n",
       "\n",
       "    user_location user_work  reposts user_name  comments  \\\n",
       "18            NaN       NaN      0.0       NaN       0.0   \n",
       "114           NaN       NaN      1.0       NaN       0.0   \n",
       "121           NaN       NaN      3.0       NaN       3.0   \n",
       "138           NaN       NaN    165.0       NaN     449.0   \n",
       "205           NaN       NaN    361.0       NaN      85.0   \n",
       "\n",
       "                                                                             user_head  \\\n",
       "18                                                                      Head of Design   \n",
       "114  IT - recruiter (ищу системный аналитиков и инженера по нагрузочному тестированию)   \n",
       "121                                                                     CTO/Co-founder   \n",
       "138                                                                     CTO/Co-founder   \n",
       "205                                                                       IT Recruiter   \n",
       "\n",
       "      likes  \\\n",
       "18    8.000   \n",
       "114   6.000   \n",
       "121  21.000   \n",
       "138   1.535   \n",
       "205   1.569   \n",
       "\n",
       "                                                                                                                                                                                                                                                                                                                                                                                                                                                                                                                                                                                                                                                                                                                                                                                                                                                                                                                                                                                                                                                                                                                                                                                                                                                                                                                                                                                                                                                                                                                                                                                                                                                                                                                                                                                                                                                                                                                                                                                                                                                                                                                                                                                                                                                                                                                                                                                                                                                                                                                                                                                                                                                                                                                                                                                                                                                                                                                                                                                                                                                                                         text  \\\n",
       "18                                                                                                                                                                                                                                                                                                                                                                                                                                                                                                                                                                                                                                                                                                                                                                                                                                                                                                                                                                                                                                                                                                                                                                                                                                                                                                                                                                                                                                                                                                                                                                                                                                                                                                                                                                                                                                                                                                                             #москва #офис #фултаймИщу классных коллег к нам в команду AdGuard (adguard.com) Что делать:Редизайн и развитие отдельного продукта (промо-сайт + продукт, сложное веб-приложение) и сопровождениеилиUX/UI для веб-приложений и ПО с нуля и на основе дизайн-системыРазработка и поддержка кроссплатформенной дизайн-системыМаркетинговые задачи, лэндинги, письма, оптимизация конверсии сайтовКонтроль качества Что мы ожидаем:Опыт разработки интерфейсов в студии или продуктовых компаниях от 2 летМинимум 2 живых проекта с вашим дизайном в сети, минимум 1 из них сложныйУмение и желание вникать и разбираться, умение думатьSketch как основной инструмент (возможно со временем перейдем на фигму но это не точно) + умение работать на всем что понадобится Что предлагаем:Белая заработная платаКомфортный офис в г. Москве в 5 минутах ходьбы от м. ТульскаяСпортзал, настольный теннис, занятия с тренером, группы по английскому и китайскому языкам в офисеСовременные и удобные рабочие места — мощные маки, хорошие мониторыДМС после испытательного срока Для вопросов и откликов пишите на почту hr@performix.ru или в телеграм @ksenia_hr   \n",
       "114                                                                                                                                                                                                                                                                                                                                                                                                                                                                                                                                                                                                                                                                                                                                                                                                                                                                                                                                                                                                                                                                                                                                                                                                                                                                                                                                                                                                                                                                                                                                                                                                                                                                                                                   Всем привет! 🙂 🙌 Ищу С#- разработчика с опытом разработки решений Microsoft SharePoint Server 2010 или 2013. в финтех проект. 🔸Формат работы: удаленно, офис/гибрид(если Москва, Саратов, Пенза)/коворкинг (локация РФ).🔸 Занятость: полная занятость🔸 ЗП: до 250 тыс. р. на руки.🔸 Чем предстоит заниматься:Предстоит заниматься развитием и сопровождением текущей системы работы с договорными документами, разработанной на базе Microsoft SharePoint Server (2013).Требуется 1 человек (.Net разработчик) - уровень middle, способный принять самостоятельное решение, оценить требования, оценить длительность реализации по текущим требованиям.🔸 Наши ожидания от кандидата:- Опыт работы на С# / .NET Framework от 2-х лет- Обязательно опыт доработки/поддержки систем на платформе MS SharePoint 2010/2013 в качестве Администратора/Разработчика- Опыт с MS Silverlight 5.0 или WPF- MS Sql Server (2008, 2012)🔻 Компания предлагает вам:- Рабочую технику при необходимости: ноутбук, монитор и т.д.;- ДМС (или спорт) после испытательного срока;- Оплачиваемые профильные внешние курсы, а также доступ к внутренним учебным программам.- Высококомпетентная команда, гибкие методики разработки;- Возможности профессионального роста и развития.telegram: @tatberezkaБуду рада ответить на все вопросы и рассказать про детали :)#net #sharepoint #sql   \n",
       "121  Что едят единороги?Уже не первый год я по мере сил своих физических и ментальных оказываю менторскую помощь самым разным ребятам, от начинающих разработчиков (выбрать путь для профессионального развития, собрать роадмап для штудирования книг и т.д.) до HR (в этих наших стеках и фреймворках, как показывает практика, черт ногу сломит, если не вариться в этом постоянно). И неоднократно ребята спрашивали меня - почему я не делаю вебинаров по разным темамИ вот прошли годы, слово “вебинар” уже вышло из моды, заменившись на “воркшоп”, и я, наконец, созрел. А, с учетом на одном дыхании прочитанной нетленки Джеффа Уокера “Запуск!”, созрел даже сразу за деньги. Ну а почему бы и да?Итак, где-нибудь ориентировочно 17 или 18 сентября приглашаю всех заинтересованных на воркшоп. В течение четырех-пяти часов в прямом эфире я буду писать (и объяснять!) целый небольшой агротех-сервис. Да какой сервис! Это будет симулятор большой и взрослой ERP-системы, автоматизирующей деятельность фермы по выращиванию… единорогов. Ну, а почему бы и нет? Для единорогов нужно будет строить единорожни (ну, не конюшни же?), каждый из них будет обладать определенными статами, которые можно будет развивать скрещиванием. Для них надо будет закупать цветы и нектар (все ведь знают, чем питаются единороги?). Единорожий приплод можно будет продавать на внутреннем виртуальном рынке. Этакий небольшой бизнес-симулятор.В целом, за исключением контекста, система будет вполне серьезной, с бизнес-логикой, отложенными задачами и триггерами.Стек проекта:- на бэкенде - FastAPI, за ORM - ormar+alembic, за БД - PostgreSQL, за брокера - NATS, хранилище кэша - Redis, куда ж без него. - на фронтэнде - React 18 без CRA, Typescript, Redux-Toolkit. За UI будет отвечать Tailwind с плагинами. За сборку - Webpack с плагинами. Также есть Babel с плагинами, и PostCSS (угадайте с чем… правильно!), тоже с плагинами. - в инфраструктуре - Docker и nginx. Ansible и Gitlab CI/CD - если успеем.В целом, хочется сделать законченный полностековый проект, от верстки фронта до деплоя и девопсовых свистелок и … плейбуков. Возможно, в рамки одного воркшопа это все и не влезет, но мы будем очень стараться Во всяком случае, я почти обещаю сильно не тупить - проект то уже реализован, буду в него подглядывать, пока никто не видитТеперь про проведение. Проводить буду в формате стрима, в приватном канале youtube. Более вменяемых вариантов я не знаю, не на твич же с таким идти. Ну, может еще в ВК будет дубль трансляции, но это не точноНу и участие. Оно платное. Целых 150-200 рублей с человека! Ибо, как говорил Джокер - “Если ты что-то можешь сделать, не делай это бесплатно”. А годноты будет наваломВ целом, если идея вам зашла - то приветствуются лайки, комментарии и, конечно, репосты. Ну а если вы дочитали до этого места, и даже заинтересованы поприсутствовать на трансляции - смело пишите мне в телегу @agratoth, сделаем чатик и попытаемся все это организовать#react #fastapi #workshop #воркшоп_единороги   \n",
       "138                                                                                                                                                                                                                                                                                                                                                                                                                                                                                                                                                                                                                                                                                                                                                                                                                                                                                                                                                                                                                                                                                                                                                                                                                                                                                                                                                                                                                                                                                                                                                                                                                                                                                                                                                                                                                                                                                                                                                                                                                                                                                                                                                                                                                                                                                                      Коллеги, прошу репост.Одной из целей 2020 (все же ставят на новый год крутые цели, да? :)) я поставил прокачку mentoring skills. А посему ищу 2-3 добровольца, желающих бесплатно изучать что-то из указанного ниже:- Python + OpenCV- Python (микросервисы и асинхронный веб-бэкенд)- Python (стримминг и высокие нагрузки)- Golang (микросервисы и веб-бэкенд)- С/С++ (системная разработка для linux)Бонусом к каждому из направлений - контейнеризация, git, ci/cd, MongoDB, ClickHouse, AWSМатериала у меня - на три-четыре месяца интенсивного обучения (по каждой из тем, по плюсам даже больше). Очень хочется создавать интересные учебные курсы (как дополнение к коммерческой разработке), и нужно с кем-то пройти этот путь первый раз :) #python #golang #cpp #learning   \n",
       "205                                                                                                                                                                                                                                                                                                                                                                                                                                                                                                                                                                                                                                                                                                                                                                                                                                                                                                                                                                                                                                                                                                                                                                                                                                                                                                                                                                                                                                                                                                                                                                                                                                                                                                                                                                                                                                                                                                                                                                                                                                                                                                                                                                🔵 Самая большая подборка для прокачки soft skills. Сохрани, чтобы улучшить навыки будущего, которые будут востребованы, несмотря на ChatGPT 😁. 🔷 Деловое общение https://lnkd.in/dsv8UXvb🔷 Клиентоцентричность https://lnkd.in/d7myCBkj🔷 Когнитивная гибкость https://lnkd.in/d9k5YTW5🔷 Коммуникация https://lnkd.in/drxjkmK6🔷 Управление командой, проектом, процессом https://lnkd.in/d5H-fDVv🔷 Креативное мышление https://lnkd.in/dkvtabGD🔷 Критическое мышление https://lnkd.in/duM_YByi🔷 Наставничество и менторинг https://lnkd.in/dASq6wrq🔷 Презентация и ораторское искусство https://lnkd.in/dkf6Hbgs🔷 Решение проблем и принятие решений https://lnkd.in/dHm4snNK🔷 Системное мышление https://lnkd.in/d-GhykwW🔷 Стресс-менеджмент https://lnkd.in/dtW8E9jh🔷 Управление ресурсами https://lnkd.in/dU6NCQFb🔷 Целеполагание https://lnkd.in/d4tGZyba🔷 Эмоциональный интеллект https://lnkd.in/drSs3JZm #softskills   \n",
       "\n",
       "                                                                                                                                                                                                                                                                                                                                                                                                                                                                                                                                                                                                                                                                                                                                                                                                                                                                                                                                                                                                                                                                                                                                                                                                                                                                                                                                                                                                                                                                                                                                     text_lemmatized  \n",
       "18                                                                                                                                                                                                                                                                                                                                                                                                                                                                                                                                                                                                                                                                                                                                                                                                                            команда редизайн развитие продукт промо продукт сложный веб приложение сопровождениеили веб приложение основа дизайн системыразработка поддержка кроссплатформенный дизайн системымаркетинговый задачи лэндинги письма оптимизация конверсия сайтовконтроль качество ожидаем опыт разработка интерфейс студия продуктовый летминимум живой дизайн минимум сложныйумение желание вникать разбираться умение основной инструмент возможный перейти фигма точно умение понадобиться предлагаем белый заработный платакомфортный офис минута ходьба тульскаяспортзал настольный теннис занятие тренером группа английский китайский офисесовременный рабочий место мощный маки мониторыдмс испытательный срок отклик почта  \n",
       "114                                                                                                                                                                                                                                                                                                                                                                                                                                                                                                                                                                                                                                                                                                                                            искать разработчик опыт разработка решение финтех формат удаленно офис гибрид саратов пенза коворкинг локация рф занятость занятость руки предстоять заниматься предстоять заниматься развитие сопровождение текущий система договорный документами разработать база требоваться разработчик уровень способный принять самостоятельный решение оценить требования оценить длительность реализация текущий требованиям ожидание кандидата опыт опыт доработки поддержка система платформа качество администратора разработчика опыт предлагать рабочий техника необходимости ноутбук монитор дмс спорт испытательный срока оплачивать профильный внешний курсы доступ внутренний учебный программам высококомпетентный команда гибкий методика разработки возможность профессиональный развития деталь  \n",
       "121  единороги мера сила физический ментальный менторский помощь ребятам начинающий разработчик выбрать путь профессиональный развития собрать роадмап штудирование книга стек фреймворках показывать практика черта нога сломит вариться неоднократно вебинар тема годы слово вебинар моды замениться воркшоп созрел учёт дыхание прочитать нетленка джефф уокер запуск созрелый сразу деньги итак ориентировочно воркшоп эфир объяснять целый небольшой агротех сервис сервис симулятор взрослый системы автоматизировать деятельность ферма выращиванию единорогов единорог строить единорожний конюшня обладать статами развивать скрещиванием закупать цветок нектар знают питаться единороги единорожий приплод продавать внутренний виртуальный рынке этакий небольшой бизнес симулятор целом исключение контекста система вполне серьезной бизнес логикой отложить задача триггерами стечь бэкенд бд брокер хранилище кэш фронтэнд отвечать плагинами сборка плагинами плагинами угадать плагинами инфраструктура успеем целом полностековый вёрстка фронт деплоить девопсовый свистелка плейбуков рамка воркшоп влезет стараться всякий случае обещать сильно тупить реализован подглядывать видиттеперь проведение формат стрима приватный канал вменяемый вариант знаю твич идти дубль трансляции точнона участие платное целый рубль джокер бесплатно годнота наваломть целом идея зайти приветствоваться лайки комментарий репосты дочитать места заинтересовать поприсутствовать трансляция смело телега чатик попытаться организовать  \n",
       "138                                                                                                                                                                                                                                                                                                                                                                                                                                                                                                                                                                                                                                                                                                                                                                                                                                                                                                                                                                                                                                                                                                                                                                                                                              цель цели прокачка посему искать добровольца бесплатно изучать указанный ниже микросервис асинхронный веб бэкенд стримминг нагрузки микросервис веб бэкенд системный разработка бонус направление контейнеризация материал интенсивный обучение плюс создавать учебный курс дополнение коммерческий разработке путь  \n",
       "205                                                                                                                                                                                                                                                                                                                                                                                                                                                                                                                                                                                                                                                                                                                                                                                                                                                                                                                                                                                                                                                                                                                             подборка прокачка сохрани улучшить навык будущего востребованы несмотря деловой общение клиентоцентричность когнитивный гибкость коммуникация управление командой проектом процесс креативный мышление критический мышление наставничество менторинг презентация ораторский искусство решение проблема принятие решение системный мышление стресс менеджмент управление ресурс целеполагание эмоциональный интеллект  "
      ]
     },
     "execution_count": 108,
     "metadata": {},
     "output_type": "execute_result"
    }
   ],
   "source": [
    "filtered_df.head()"
   ]
  },
  {
   "cell_type": "markdown",
   "id": "20e19334",
   "metadata": {},
   "source": [
    "---"
   ]
  },
  {
   "cell_type": "code",
   "execution_count": 109,
   "id": "f15766f3",
   "metadata": {},
   "outputs": [],
   "source": [
    "docs = df['text_lemmatized'].tolist()"
   ]
  },
  {
   "cell_type": "code",
   "execution_count": 110,
   "id": "c44cb4a3",
   "metadata": {},
   "outputs": [],
   "source": [
    "tfidf = TfidfVectorizer(min_df=10, max_df=0.9)"
   ]
  },
  {
   "cell_type": "code",
   "execution_count": 111,
   "id": "56a5a299",
   "metadata": {},
   "outputs": [],
   "source": [
    "x = tfidf.fit_transform(docs)"
   ]
  },
  {
   "cell_type": "code",
   "execution_count": 112,
   "id": "f18367fe",
   "metadata": {},
   "outputs": [
    {
     "data": {
      "text/html": [
       "<style>#sk-container-id-1 {color: black;background-color: white;}#sk-container-id-1 pre{padding: 0;}#sk-container-id-1 div.sk-toggleable {background-color: white;}#sk-container-id-1 label.sk-toggleable__label {cursor: pointer;display: block;width: 100%;margin-bottom: 0;padding: 0.3em;box-sizing: border-box;text-align: center;}#sk-container-id-1 label.sk-toggleable__label-arrow:before {content: \"▸\";float: left;margin-right: 0.25em;color: #696969;}#sk-container-id-1 label.sk-toggleable__label-arrow:hover:before {color: black;}#sk-container-id-1 div.sk-estimator:hover label.sk-toggleable__label-arrow:before {color: black;}#sk-container-id-1 div.sk-toggleable__content {max-height: 0;max-width: 0;overflow: hidden;text-align: left;background-color: #f0f8ff;}#sk-container-id-1 div.sk-toggleable__content pre {margin: 0.2em;color: black;border-radius: 0.25em;background-color: #f0f8ff;}#sk-container-id-1 input.sk-toggleable__control:checked~div.sk-toggleable__content {max-height: 200px;max-width: 100%;overflow: auto;}#sk-container-id-1 input.sk-toggleable__control:checked~label.sk-toggleable__label-arrow:before {content: \"▾\";}#sk-container-id-1 div.sk-estimator input.sk-toggleable__control:checked~label.sk-toggleable__label {background-color: #d4ebff;}#sk-container-id-1 div.sk-label input.sk-toggleable__control:checked~label.sk-toggleable__label {background-color: #d4ebff;}#sk-container-id-1 input.sk-hidden--visually {border: 0;clip: rect(1px 1px 1px 1px);clip: rect(1px, 1px, 1px, 1px);height: 1px;margin: -1px;overflow: hidden;padding: 0;position: absolute;width: 1px;}#sk-container-id-1 div.sk-estimator {font-family: monospace;background-color: #f0f8ff;border: 1px dotted black;border-radius: 0.25em;box-sizing: border-box;margin-bottom: 0.5em;}#sk-container-id-1 div.sk-estimator:hover {background-color: #d4ebff;}#sk-container-id-1 div.sk-parallel-item::after {content: \"\";width: 100%;border-bottom: 1px solid gray;flex-grow: 1;}#sk-container-id-1 div.sk-label:hover label.sk-toggleable__label {background-color: #d4ebff;}#sk-container-id-1 div.sk-serial::before {content: \"\";position: absolute;border-left: 1px solid gray;box-sizing: border-box;top: 0;bottom: 0;left: 50%;z-index: 0;}#sk-container-id-1 div.sk-serial {display: flex;flex-direction: column;align-items: center;background-color: white;padding-right: 0.2em;padding-left: 0.2em;position: relative;}#sk-container-id-1 div.sk-item {position: relative;z-index: 1;}#sk-container-id-1 div.sk-parallel {display: flex;align-items: stretch;justify-content: center;background-color: white;position: relative;}#sk-container-id-1 div.sk-item::before, #sk-container-id-1 div.sk-parallel-item::before {content: \"\";position: absolute;border-left: 1px solid gray;box-sizing: border-box;top: 0;bottom: 0;left: 50%;z-index: -1;}#sk-container-id-1 div.sk-parallel-item {display: flex;flex-direction: column;z-index: 1;position: relative;background-color: white;}#sk-container-id-1 div.sk-parallel-item:first-child::after {align-self: flex-end;width: 50%;}#sk-container-id-1 div.sk-parallel-item:last-child::after {align-self: flex-start;width: 50%;}#sk-container-id-1 div.sk-parallel-item:only-child::after {width: 0;}#sk-container-id-1 div.sk-dashed-wrapped {border: 1px dashed gray;margin: 0 0.4em 0.5em 0.4em;box-sizing: border-box;padding-bottom: 0.4em;background-color: white;}#sk-container-id-1 div.sk-label label {font-family: monospace;font-weight: bold;display: inline-block;line-height: 1.2em;}#sk-container-id-1 div.sk-label-container {text-align: center;}#sk-container-id-1 div.sk-container {/* jupyter's `normalize.less` sets `[hidden] { display: none; }` but bootstrap.min.css set `[hidden] { display: none !important; }` so we also need the `!important` here to be able to override the default hidden behavior on the sphinx rendered scikit-learn.org. See: https://github.com/scikit-learn/scikit-learn/issues/21755 */display: inline-block !important;position: relative;}#sk-container-id-1 div.sk-text-repr-fallback {display: none;}</style><div id=\"sk-container-id-1\" class=\"sk-top-container\"><div class=\"sk-text-repr-fallback\"><pre>TfidfVectorizer(max_df=0.9, min_df=10)</pre><b>In a Jupyter environment, please rerun this cell to show the HTML representation or trust the notebook. <br />On GitHub, the HTML representation is unable to render, please try loading this page with nbviewer.org.</b></div><div class=\"sk-container\" hidden><div class=\"sk-item\"><div class=\"sk-estimator sk-toggleable\"><input class=\"sk-toggleable__control sk-hidden--visually\" id=\"sk-estimator-id-1\" type=\"checkbox\" checked><label for=\"sk-estimator-id-1\" class=\"sk-toggleable__label sk-toggleable__label-arrow\">TfidfVectorizer</label><div class=\"sk-toggleable__content\"><pre>TfidfVectorizer(max_df=0.9, min_df=10)</pre></div></div></div></div></div>"
      ],
      "text/plain": [
       "TfidfVectorizer(max_df=0.9, min_df=10)"
      ]
     },
     "execution_count": 112,
     "metadata": {},
     "output_type": "execute_result"
    }
   ],
   "source": [
    "tfidf.fit(docs)"
   ]
  },
  {
   "cell_type": "code",
   "execution_count": 113,
   "id": "9e0b86e9",
   "metadata": {},
   "outputs": [
    {
     "data": {
      "text/plain": [
       "(3032, 1906)"
      ]
     },
     "execution_count": 113,
     "metadata": {},
     "output_type": "execute_result"
    }
   ],
   "source": [
    "x.shape"
   ]
  },
  {
   "cell_type": "code",
   "execution_count": 114,
   "id": "1145ae08",
   "metadata": {},
   "outputs": [],
   "source": [
    "id2word = {i: token for token, i in tfidf.vocabulary_.items()}"
   ]
  },
  {
   "cell_type": "markdown",
   "id": "1ee5fcd6",
   "metadata": {},
   "source": [
    "**LDA**"
   ]
  },
  {
   "cell_type": "code",
   "execution_count": 115,
   "id": "066c2686",
   "metadata": {},
   "outputs": [],
   "source": [
    "n_topics = 10"
   ]
  },
  {
   "cell_type": "code",
   "execution_count": 116,
   "id": "90096f1f",
   "metadata": {},
   "outputs": [],
   "source": [
    "lda = LatentDirichletAllocation(n_components=n_topics, random_state=31)"
   ]
  },
  {
   "cell_type": "code",
   "execution_count": 117,
   "id": "2c05c558",
   "metadata": {},
   "outputs": [],
   "source": [
    "topics = lda.fit_transform(x)"
   ]
  },
  {
   "cell_type": "code",
   "execution_count": 118,
   "id": "2139458a",
   "metadata": {},
   "outputs": [
    {
     "data": {
      "text/plain": [
       "-97297.67291983709"
      ]
     },
     "execution_count": 118,
     "metadata": {},
     "output_type": "execute_result"
    }
   ],
   "source": [
    "lda.score(x)"
   ]
  },
  {
   "cell_type": "code",
   "execution_count": 119,
   "id": "23b01acb",
   "metadata": {},
   "outputs": [
    {
     "data": {
      "text/plain": [
       "(3032, 10)"
      ]
     },
     "execution_count": 119,
     "metadata": {},
     "output_type": "execute_result"
    }
   ],
   "source": [
    "topics.shape"
   ]
  },
  {
   "cell_type": "markdown",
   "id": "b6b27fb4",
   "metadata": {},
   "source": [
    "###### Ключевые слова"
   ]
  },
  {
   "cell_type": "code",
   "execution_count": 120,
   "id": "b608fa8e",
   "metadata": {
    "scrolled": false
   },
   "outputs": [
    {
     "name": "stdout",
     "output_type": "stream",
     "text": [
      "Тема 1 :\n",
      "коротко, способ, розыгрыш, итог, минус, запустить, трек, джуна, анимация, эфир, разработать, портфолио, подборка, ссылка, презентация, разбор, мобильный, статья, дизайн, приложение\n",
      "\n",
      " \n",
      "Тема 2 :\n",
      "картинка, тема, игра, заметка, отслеживать, вакансии, интересовать, проходить, советовать, резюме, поиск, всема, проверка, следующим, тест, сеть, значок, находка, разработчик, навык\n",
      "\n",
      " \n",
      "Тема 3 :\n",
      "онлайн, видео, сотрудник, команда, помощь, рынок, поиск, найти, проблема, продукт, процесс, опыт, резюме, клиент, бизнес, задача, решение, курс, результат, получить\n",
      "\n",
      " \n",
      "Тема 4 :\n",
      "ролик, предложение, обучение, сайтов, машинный, курс, разработчик, отзыв, рекрутер, искать, эмоция, небольшой, место, возможность, делиться, ура, интервью, защита, инженер, рекомендовать\n",
      "\n",
      " \n",
      "Тема 5 :\n",
      "статья, стартап, давать, видео, достигнуть, рабочий, команда, выразить, масло, формула, фильм, серия, материал, подкаст, экономия, схема, тетрадь, канал, найти, благодарность\n",
      "\n",
      " \n",
      "Тема 6 :\n",
      "американский, предоставить, видеть, конференция, глубина, качество, целом, менеджер, версия, айтишник, подборка, вообще, слово, кофе, кейс, статью, нравиться, карта, вебинар, канал\n",
      "\n",
      " \n",
      "Тема 7 :\n",
      "продуктовый, связь, ссылка, разработки, участие, приложение, поиск, уровень, удалённый, технический, разработчиков, тестирование, продукт, разработка, знание, офис, разработчик, искать, опыт, команда\n",
      "\n",
      " \n",
      "Тема 8 :\n",
      "отрасль, организация, медицинский, карьеры, тренинг, ресурс, форум, ценить, помощь, финансовый, начинающий, резюме, поделиться, доклад, скидка, конференция, онлайн, лендинга, эксперт, курс\n",
      "\n",
      " \n",
      "Тема 9 :\n",
      "развитие, база, информационный, модель, данные, управление, система, услуга, опыт, команда, разработка, бизнес, совет, возможности, контактов, карьерный, поддержку, поиск, возможность, рекомендация\n",
      "\n",
      " \n",
      "Тема 10 :\n",
      "александр, пригодиться, менеджер, присоединяться, чувство, разработчик, лента, специалистов, обзор, яндекс, искать, людейкоторое, специалист, должности, людей, сертификат, заинтересовать, сообщаючтый, должность, удовольствие\n",
      "\n",
      " \n"
     ]
    }
   ],
   "source": [
    "for i in range(n_topics):\n",
    "    c = lda.components_[i, :]\n",
    "    topic_tokens = [id2word.get(token_id) for token_id in np.argsort(c)[-20:]]\n",
    "    print(\"Тема\",i+1, \":\")\n",
    "    print(\", \".join(topic_tokens))\n",
    "    print(\"\\n \")"
   ]
  },
  {
   "cell_type": "markdown",
   "id": "e06b8ff8",
   "metadata": {},
   "source": [
    "**Типичные статьи**"
   ]
  },
  {
   "cell_type": "code",
   "execution_count": 121,
   "id": "643edcc4",
   "metadata": {
    "scrolled": true
   },
   "outputs": [
    {
     "name": "stdout",
     "output_type": "stream",
     "text": [
      "Тема  0\n",
      "📣📣📣 Проект нашей с @christinasuslik команды тем временем попал в подборку лучших сайтов на Tilda!Интересный и очень атмосферный сайт который мы делали вместе с нашей командой уже в топе!Буду рад если поддержите нашу студию и лайкните сайт тут - https://lnkd.in/dQgj_Mcf ❤️А в своем телеграмм канале поделился Figma файлом этого проекта, можно посмотреть и потыкать тут - https://lnkd.in/dAZhhcP9Скоро больше новых проектов !В канале: - Design Help, файл 40+ материалов для повышения ваших скиллов- Розыгрыш консультаций по карьерному треку и разбору портфолио - Прямые эфиры с дизайном - Полезные статьи #design #linkedin #instagram #help #design #webdesign #webdevelopment #graphicdesign #UIUX #digitaldesign #responsivewebdesign #HTML #CSS #JavaScript #webdesigner #webdesignagency #webdesigncompany #webdesignerlife #webdesigncommunity #webdesigninspiration\n",
      "\n",
      "\n",
      "Тема  1\n",
      "Продолжаем апгрейдить нашумевший ⭐️ Гайд для Джунов в IT от Petr Kavliugin ⭐️ Мне дико понравилась инициатива и захотелось дополнить блок по развитию софт-скиллов:·      Soft-skills: https://lnkd.in/ey65TSq6Этот гайд - просто кладезь супер полезной инфы - всё, что нужно знать джуну, который хочет быстро и эффективно прокачаться в IT. Смотрите сами, какие там есть разделы:·      Linkedin. Помощь: https://lnkd.in/eRbnJA5P·      Сайты для поиска работы: https://lnkd.in/ejKArrwk·      ТГ-каналы для поиска вакансий https://lnkd.in/eP7P3iyt·      Подготовка к интервью в иностранную компанию: https://lnkd.in/eFh4kuwr·      Полезные советы Jun-ам: https://lnkd.in/e4jq8VCP·      Резюме и сопроводительное письмо: https://lnkd.in/eMMSCimZ·      Soft-skills: https://lnkd.in/ey65TSq6·      Бесплатные курсы: https://lnkd.in/eRue9U3M·      Консультации и менторство для Junior-ов: https://lnkd.in/eajKsv8m·      Подготовка к TOEFL и IELTS: https://lnkd.in/ecbQcrcV·      Английский язык. Самостоятельное изучение: https://lnkd.in/eXwEBpf4·      Краткое руководство для начинающего PM в IT: https://lnkd.in/esgnsY3kIvan Doronin, Elizar Rezvanov , Ilya Bondar, Anna Sivko, Виктория Игнатенко Denis Ralko, Анастасия Гусева Карьерный консультант, Kseniya Arlovich, Наталья Везломцева Буду благодарна за репост!#linkedin #junior #поискработы #cv #консультации #it #войтивайти #телеграм #вакансии #резюме #pm\n",
      "\n",
      "\n",
      "Тема  2\n",
      "Бесплатная консультация для тех, кто ищет работу в IT, но почему-то не может дойти до оффера или хотя бы получить приглашение на собеседование. Разработчики, аналитики, менеджеры, дизайнеры, HR и другие профессионалы любых уровней, я вас всех приглашаю на звонок, который изменит текущую ситуацию на рынке в вашу пользу 🙌Почему консультация бесплатная?Дело в том, что сейчас я создаю новый крутой продукт для ребят, которые хотят построить карьеру в IT, поэтому собираю информацию о тех проблемах, с которыми они сталкиваются в процессе поиска работы, а взамен даю много пользы, которую вы сможете унести с собой совершенно бесплатно ❤Что за продукт я разрабатываю?Я готовлю практический онлайн-курс, который поможет вам:– найти работу мечты, где задачи будут вас драйвить, а команда - помогать развиваться– увеличить доход в 2-4 раза, чтобы вы смогли позволить себе больше, наслаждаться жизнью и работать в кайф– построить крутую карьеру, составив план индивидуальной траектории развития на годы вперед.Чтобы продукт получился реально классным – мне необходимо пообщаться с вами и задать несколько вопросов.Поэтому я хочу пригласить вас на звонок, который займет примерно 30-40 минут вашего времени, но при этом сэкономит недели и месяцы поисков работы. И не переживайте, я не буду ничего продавать вам на этой встрече 😄На звонке я поспрашиваю вас о том, что у вас сейчас происходит, какие цели вы перед собой сейчас ставите, что вы уже делаете и почему у вас пока что не получается достигнуть результатов.А затем я постараюсь вам прямо на месте подсказать несколько возможных решений вашей ситуации, которые вы сможете испробовать сразу же после звонка.Кто уже попробовал прийти на консультацию - получили много полезных идей и ушли от меня мотивированными воплощать их в жизнь. Так что я рекомендую воспользоваться возможностью, пока она есть.Пишите в личку “Хочу на созвон”, и мы выберем удобное время для звонка, чтобы разобрать вашу ситуацию 😉P.S.: также можно написать в Telegram: https://t.me/enji_rouzили во ВКонтакте: https://vk.com/enjirouz#поиск_работы\n",
      "\n",
      "\n",
      "Тема  3\n",
      "❗❗❗Ты ищешь новую сферу деятельности?❗❗❗Ты готов к системной работе? Тебе нужно дать направление и сориентировать в мире IT? Погнали в IT с нами!🔔🔔🔔Экспресс персональное обучение с наставником IT-профессии с нуля🔔🔔🔔Мы дадим теоретическую и (главное) практическую базу востребованной IT-профессии для возможности трудоустройства на уровне❗❗❗ junoir в IT-компанииАналитика, Управление проектами, DevOps#управлениепроектами #аналитика #devops #обучениеснуля #обучениеIT #IT #управлениеИнтересно? Погнали в IT! Все вопросы в личку\n",
      "\n",
      "\n",
      "Тема  4\n",
      "📹 Как установить цену на продукт / услугу, чтобы не прогореть: https://lnkd.in/egiBg4ekРассказываю о том, как определиться с ценовой политикой, чтобы не прогореть и не демпиновать рынок низкими ценами.[ТАЙМКОДЫ]0:00 - Почему нельзя демпинговать рынок0:25 - Как определить цену на продукт / услугу4:40 - Как проверить, не прогорите ли вы на вашей бизнес-идееДополнительные материалы (рабочая тетрадь и полная схема из видео): https://lnkd.in/eYygVvgNМой Telegram-канал с ответами на ваши вопросы: https://lnkd.in/eCbBMc59\n",
      "\n",
      "\n",
      "Тема  5\n",
      "Today is my birthday, I'm turning 35. The age at which an artist leaves the category of 'young artists' and I'm starting all over again and I'm not scared.  Almost four years of my life and career in art have been taken from me by depression, bipolar disorder and war. I graduated with a master's degree from St. Martins and work with photography. I had exhibitions, art residencies, biennales and festivals. A four-year career hiatus is almost a verdict in the art world.Today, on my birthday, I would like to ask everyone I know who is reading this post to support me.Tell about me - that I exist, that I'm an artist and a awesome community manager, that I'm looking for introductions or collaborations with galleries, curators, art publications in any way you want, in your own words, or just share my website where you can buy my work - in a link, on Facebook, on Instagram, on Telegram - whatever, I'd appreciate any kind word or mention. We never know who will see my work with the help of each and every one of you. Hugs to each and every one of you! Thank you!https://lnkd.in/e6TUjM53 ________________________________________Сегодня мой день рождения, мне исполняется 35. Возраст, в котором художник покидает категорию ‘молодых художников’, а я начинаю все сначала и мне не страшно.  Почти четыре года из моей жизни и карьеры в искусстве у меня отняло заболевание депрессией, биполярным расстройством и война. Я закончила  магистратуру Сент Мартинс и работаю с фотографией. У меня были выставки, арт резиденции, биеннале и фестивали. Четыре года паузы в карьере - почти приговор в мире искусства.Сегодня, в свой день рождения,  я хочу попросить каждого своего знакомого, кто читает этот пост, поддержать меня.Расскажите обо мне - что я есть, что я художник и классный комьюнити менеджер, о том, что я ищу интро или  сотрудничества с галереями, кураторами, арт изданиями в любой удобной вам форме, своими словами или просто поделитесь моим сайтом, на котором можно купить мои работы  - в линке, в фейсбуке, в инста, в телеге - как угодно, я буду благодарна за любое доброе слово и упоминание. Мы никогда не знаем, кто увидит мои работы с помощью каждого из вас. Обнимаю каждого! Спасибо!PS Сайту сегодня 1 день, так что могут быть баги и тд) со всем разберемсяhttps://lnkd.in/e6TUjM53\n",
      "\n",
      "\n",
      "Тема  6\n",
      "Всем привет, в команду Equipmetry требуются middle backend, frontend разработчики и ui/ux дизайнер на full-time.Команда Equipmetry активно развивает в Казахстане направление управление спецтехникой и оборудованием в промышленных компаниях.  Что мы обещаем? Все условия для комфортной работыДостойную зарплату, которая ограничена только вашими skills и стараниями + бонусы и опцион в проекте Доступ к курсам и обучение за счет компании Какие требования?Для Frontend Developer-ов Отличные знания JavaScript, HTML5, CSS3. (CSS Grid Layout, Flexbox)Фреймворк VueJSRest API, Git Наличие опыта кроссбраузерной верстки для разных платформДля Backend Developer-овСтэк технологий для нас не на первом месте. Нужен человек умеющий решать задачи, находить решения и постоянно улучшать свои результаты.Общие требованияПриветствуется знание методологии CI/CDЗнание паттерна MVC Понимание методологии SCRUM и принципы UX/UI Умение писать красивый, структурированный код без мусораПортфолио приветствуетсяОбязательным требованием является умение закрывать задачи в срок Умение планировать сроки исполнения в зависимости от объема работ Желание развиваться и обостренное чувство прекрасного Основной офис – Алматы, можем рассмотреть удаленку #ui/ux #вакансия #работа #backend #frontend\n",
      "\n",
      "\n",
      "Тема  7\n",
      "Cколько на самом деле зарабатывают программисты на старте карьеры? А главное - как быстрее повысить свою зарплату на 20-30, а то и 40% за год? Смотри видео до конца, и узнаешь😉https://lnkd.in/eKtw2shКстати, для тех, кто только начинает свой путь в IT или хочет сменить направление - ловите курсы от онлайн-школы Skillbox со скидкой до 50%: https://lnkd.in/e9aYzVFА кто хочет попробовать прежде, чем покупать - ловите бесплатный доступ на 7 дней к онлайн-курсам и интенсивам Skillbox: https://lnkd.in/eAFG2B4#ityoutubersru #зарплата #программист\n",
      "\n",
      "\n",
      "Тема  8\n",
      " 'Всем привет!В команду Тинькофф открыта вакансия Бизнес-лидер\\xa0в\\xa0новое\\xa0направление\\xa0Tinkoff Software! Tinkoff Software — новое направление бизнеса Тинькоффв центре которого продукты и сервисы с AI и инфраструктурные решения: голосовые технологии для бизнесаречевая аналитикаплатформа для автоматического анализа бизнес-данных и прогнозированиятехнологии идентификации лиц по фото и видео и многое другое. Наша цель — стать одним из крупнейших вендоров софта на рынке РФ и не только.Мы ищем амбициозного лидеракоторый сможет вырастить и масштабировать бизнес Tinkoff Softwareа также будет развивать новые направления монетизации.Ознакомиться с вакансией подробнее и оставить свой отклик можно здесь: https://lnkd.in/gjGntFYCТакже буду рада откликам и рекомендациям в телеграм @kadieva_d или на почте d.kadieva@tinkoff.ruПрисоединяйся к команде Тинькофф!\n",
      "\n",
      "\n",
      "Тема  9\n",
      " 'Без лишних разговороввакансия инженера-программиста 1С для настоящих приключенцев! Хочешь разнообразить унылую повседневность своего города? Езжай в Якутию на восемь месяцев! Там оленисеверное сияние и золотодобывающее предприятиекоторому ты очень нужен.Тебя поселят в благоустроенное общежитиеорганизуют четырехразовое питание за 130 рэ в суткидадут денег (до 100 000) и будут молиться на героя 1Скоторый согласился к ним приехать.После окончания сезона - двухмесячный оплачиваемый отпускчтобы успеть снова адаптироваться к привычной жизни :)\n",
      "\n",
      "\n"
     ]
    }
   ],
   "source": [
    "for i in range(n_topics):\n",
    "    doc_id = np.argmax(topics[:, i])\n",
    "    print(\"Тема \", i)\n",
    "    print(df.iloc[doc_id][\"text\"])\n",
    "    print(\"\\n\")"
   ]
  },
  {
   "cell_type": "markdown",
   "id": "9ae89cf3",
   "metadata": {},
   "source": [
    "Приведенные темы:\n",
    "\n",
    "- Тема 1: Разработка и дизайн приложений или веб-сайтов.\n",
    "- Тема 2: Поиск работы, советы по трудоустройству и развитию профессиональных навыков.\n",
    "- Тема 3: Онлайн-бизнес, продукты и решения для команд и сотрудников.\n",
    "- Тема 4: Обучение, разработка программного обеспечения и отзывы о них.\n",
    "- Тема 5: Материалы для саморазвития, стартапы и благодарность.\n",
    "- Тема 6: Информация о конференциях, качестве разработки и айтишной индустрии.\n",
    "- Тема 7: Продуктовая разработка, тестирование и работа в команде разработчиков.\n",
    "- Тема 8: Карьера, тренинги, ресурсы и различные конференции.\n",
    "- Тема 9: Развитие бизнеса, системы управления и советы по поиску возможностей.\n",
    "- Тема 10: Менеджмент, поиск работы и заинтересованность в IT-специалистах."
   ]
  },
  {
   "cell_type": "markdown",
   "id": "87ca55f3",
   "metadata": {},
   "source": [
    "Если рассмотреть тему одним словом, тогда:\n",
    "\n",
    "- Тема 1: Разработка\n",
    "- Тема 2: Вакансии\n",
    "- Тема 3: Команда\n",
    "- Тема 4: Обучение\n",
    "- Тема 5: Стартап\n",
    "- Тема 6: Конференция\n",
    "- Тема 7: Продуктовый\n",
    "- Тема 8: Карьера\n",
    "- Тема 9: Развитие\n",
    "- Тема 10: Интерес"
   ]
  },
  {
   "cell_type": "markdown",
   "id": "4fb4d744",
   "metadata": {},
   "source": [
    "# Анализ и исследование реактивной темы"
   ]
  },
  {
   "cell_type": "code",
   "execution_count": 121,
   "id": "eae4afe1",
   "metadata": {},
   "outputs": [
    {
     "data": {
      "text/html": [
       "<div>\n",
       "<style scoped>\n",
       "    .dataframe tbody tr th:only-of-type {\n",
       "        vertical-align: middle;\n",
       "    }\n",
       "\n",
       "    .dataframe tbody tr th {\n",
       "        vertical-align: top;\n",
       "    }\n",
       "\n",
       "    .dataframe thead th {\n",
       "        text-align: right;\n",
       "    }\n",
       "</style>\n",
       "<table border=\"1\" class=\"dataframe\">\n",
       "  <thead>\n",
       "    <tr style=\"text-align: right;\">\n",
       "      <th></th>\n",
       "      <th>user_experience</th>\n",
       "      <th>reposts</th>\n",
       "      <th>comments</th>\n",
       "      <th>likes</th>\n",
       "    </tr>\n",
       "  </thead>\n",
       "  <tbody>\n",
       "    <tr>\n",
       "      <th>count</th>\n",
       "      <td>4.000000</td>\n",
       "      <td>169.000000</td>\n",
       "      <td>235.000000</td>\n",
       "      <td>232.000000</td>\n",
       "    </tr>\n",
       "    <tr>\n",
       "      <th>mean</th>\n",
       "      <td>3.750000</td>\n",
       "      <td>9.757396</td>\n",
       "      <td>5.617021</td>\n",
       "      <td>22.843022</td>\n",
       "    </tr>\n",
       "    <tr>\n",
       "      <th>std</th>\n",
       "      <td>4.856267</td>\n",
       "      <td>57.457596</td>\n",
       "      <td>32.101970</td>\n",
       "      <td>74.388795</td>\n",
       "    </tr>\n",
       "    <tr>\n",
       "      <th>min</th>\n",
       "      <td>1.000000</td>\n",
       "      <td>0.000000</td>\n",
       "      <td>0.000000</td>\n",
       "      <td>0.000000</td>\n",
       "    </tr>\n",
       "    <tr>\n",
       "      <th>25%</th>\n",
       "      <td>1.000000</td>\n",
       "      <td>0.000000</td>\n",
       "      <td>0.000000</td>\n",
       "      <td>2.000000</td>\n",
       "    </tr>\n",
       "    <tr>\n",
       "      <th>50%</th>\n",
       "      <td>1.500000</td>\n",
       "      <td>0.000000</td>\n",
       "      <td>0.000000</td>\n",
       "      <td>4.000000</td>\n",
       "    </tr>\n",
       "    <tr>\n",
       "      <th>75%</th>\n",
       "      <td>4.250000</td>\n",
       "      <td>1.000000</td>\n",
       "      <td>1.000000</td>\n",
       "      <td>14.000000</td>\n",
       "    </tr>\n",
       "    <tr>\n",
       "      <th>max</th>\n",
       "      <td>11.000000</td>\n",
       "      <td>562.000000</td>\n",
       "      <td>449.000000</td>\n",
       "      <td>758.000000</td>\n",
       "    </tr>\n",
       "  </tbody>\n",
       "</table>\n",
       "</div>"
      ],
      "text/plain": [
       "       user_experience     reposts    comments       likes\n",
       "count         4.000000  169.000000  235.000000  232.000000\n",
       "mean          3.750000    9.757396    5.617021   22.843022\n",
       "std           4.856267   57.457596   32.101970   74.388795\n",
       "min           1.000000    0.000000    0.000000    0.000000\n",
       "25%           1.000000    0.000000    0.000000    2.000000\n",
       "50%           1.500000    0.000000    0.000000    4.000000\n",
       "75%           4.250000    1.000000    1.000000   14.000000\n",
       "max          11.000000  562.000000  449.000000  758.000000"
      ]
     },
     "execution_count": 121,
     "metadata": {},
     "output_type": "execute_result"
    }
   ],
   "source": [
    "filtered_df.describe()"
   ]
  },
  {
   "cell_type": "code",
   "execution_count": 138,
   "id": "1bdf2eff",
   "metadata": {},
   "outputs": [
    {
     "data": {
      "text/plain": [
       "reposts\n",
       "165.0    1\n",
       "304.0    1\n",
       "361.0    1\n",
       "562.0    1\n",
       "Name: count, dtype: int64"
      ]
     },
     "execution_count": 138,
     "metadata": {},
     "output_type": "execute_result"
    }
   ],
   "source": [
    "# Рассмотрим самые огромные кол-во постов\n",
    "filtered_df[filtered_df['reposts'] > filtered_df['reposts'].max() - 500]['reposts'].sort_values().value_counts()"
   ]
  },
  {
   "cell_type": "code",
   "execution_count": 146,
   "id": "9b3d75b7",
   "metadata": {},
   "outputs": [
    {
     "data": {
      "text/plain": [
       "likes\n",
       "359.0    1\n",
       "449.0    1\n",
       "518.0    1\n",
       "758.0    1\n",
       "Name: count, dtype: int64"
      ]
     },
     "execution_count": 146,
     "metadata": {},
     "output_type": "execute_result"
    }
   ],
   "source": [
    "# Рассмотрим самые огромные кол-во лайков\n",
    "filtered_df[filtered_df['likes'] > filtered_df['likes'].max() - 500]['likes'].sort_values().value_counts()"
   ]
  },
  {
   "cell_type": "markdown",
   "id": "45e6afba",
   "metadata": {},
   "source": [
    "## Распределение данных"
   ]
  },
  {
   "cell_type": "code",
   "execution_count": 122,
   "id": "a96e69c5",
   "metadata": {},
   "outputs": [
    {
     "data": {
      "image/png": "[encoded data removed]",
      "text/plain": [
       "<Figure size 1000x400 with 2 Axes>"
      ]
     },
     "metadata": {},
     "output_type": "display_data"
    }
   ],
   "source": [
    "plt.figure(figsize=(10, 4));\n",
    "\n",
    "plt.subplot(1, 2, 1)\n",
    "filtered_df['reposts'].hist(bins=50);\n",
    "plt.title('Распределение количество репостов');\n",
    "plt.xlabel('Кол-во репостов');\n",
    "plt.ylabel('Частота');\n",
    "\n",
    "plt.subplot(1, 2, 2)\n",
    "filtered_df[filtered_df['reposts'] > 2]['reposts'].hist(bins=50);\n",
    "plt.title('Распределение количество репостов');\n",
    "plt.xlabel('Кол-во репостов');\n",
    "plt.ylabel('Частота');"
   ]
  },
  {
   "cell_type": "code",
   "execution_count": 125,
   "id": "83053395",
   "metadata": {},
   "outputs": [
    {
     "data": {
      "image/png": "[encoded data removed]",
      "text/plain": [
       "<Figure size 1000x400 with 2 Axes>"
      ]
     },
     "metadata": {},
     "output_type": "display_data"
    }
   ],
   "source": [
    "plt.figure(figsize=(10, 4));\n",
    "\n",
    "plt.subplot(1, 2, 1)\n",
    "filtered_df['likes'].hist(bins=50);\n",
    "plt.title('Распределение количество лайков');\n",
    "plt.xlabel('Кол-во лайков');\n",
    "plt.ylabel('Частота');\n",
    "\n",
    "plt.subplot(1, 2, 2)\n",
    "filtered_df[filtered_df['likes'] > 10]['likes'].hist(bins=50);\n",
    "plt.title('Распределение количество лайков');\n",
    "plt.xlabel('Кол-во лайков');\n",
    "plt.ylabel('Частота');"
   ]
  },
  {
   "cell_type": "markdown",
   "id": "c9692278",
   "metadata": {},
   "source": [
    "## Тепловая карта корреляция данных"
   ]
  },
  {
   "cell_type": "code",
   "execution_count": 124,
   "id": "946f5bad",
   "metadata": {},
   "outputs": [
    {
     "data": {
      "image/png": "[encoded data removed]",
      "text/plain": [
       "<Figure size 1000x300 with 2 Axes>"
      ]
     },
     "metadata": {},
     "output_type": "display_data"
    }
   ],
   "source": [
    "plt.figure(figsize=(10, 3))\n",
    "\n",
    "# Вычисление матрицы корреляции и округление до двух знаков после запятой, а также устраняем минусы - используем модуль\n",
    "corr_matrix = np.abs(filtered_df.select_dtypes(include=np.number).corr().round(2))\n",
    "\n",
    "# Построение тепловой карты корреляции\n",
    "heatmap = sb.heatmap(\n",
    "    corr_matrix, \n",
    "    annot=True, \n",
    "    cmap='coolwarm', \n",
    "    fmt='.2f', \n",
    "    annot_kws={\"size\": 15, \"weight\": \"bold\"}, \n",
    "    linewidths=2,\n",
    "    linecolor='black');\n",
    "\n",
    "# Применение настроек шрифта\n",
    "plt.xticks(fontsize=10)\n",
    "plt.yticks(fontsize=10)\n",
    "\n",
    "heatmap.set_ylabel('Названия столбцов датафрейма', fontdict={'size': 5})\n",
    "heatmap.set_xlabel('Названия столбцов датафрейма', fontdict={'size': 10})\n",
    "\n",
    "# Добавление заголовка\n",
    "plt.title('Матрица тепловой карты корреляции', fontdict={'size': 15});\n",
    "\n",
    "plt.show()"
   ]
  },
  {
   "cell_type": "code",
   "execution_count": null,
   "id": "3037eb18",
   "metadata": {},
   "outputs": [],
   "source": []
  },
  {
   "cell_type": "code",
   "execution_count": null,
   "id": "be1ac9cc",
   "metadata": {},
   "outputs": [],
   "source": []
  },
  {
   "cell_type": "code",
   "execution_count": null,
   "id": "4fccedf7",
   "metadata": {},
   "outputs": [],
   "source": []
  }
 ],
 "metadata": {
  "kernelspec": {
   "display_name": "Python 3 (ipykernel)",
   "language": "python",
   "name": "python3"
  },
  "language_info": {
   "codemirror_mode": {
    "name": "ipython",
    "version": 3
   },
   "file_extension": ".py",
   "mimetype": "text/x-python",
   "name": "python",
   "nbconvert_exporter": "python",
   "pygments_lexer": "ipython3",
   "version": "3.10.11"
  },
  "toc": {
   "base_numbering": 1,
   "nav_menu": {},
   "number_sections": true,
   "sideBar": true,
   "skip_h1_title": false,
   "title_cell": "Table of Contents",
   "title_sidebar": "Contents",
   "toc_cell": false,
   "toc_position": {
    "height": "calc(100% - 180px)",
    "left": "10px",
    "top": "150px",
    "width": "374.391px"
   },
   "toc_section_display": true,
   "toc_window_display": true
  }
 },
 "nbformat": 4,
 "nbformat_minor": 5
}
