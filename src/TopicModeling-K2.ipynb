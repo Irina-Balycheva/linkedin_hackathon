{
 "cells": [
  {
   "cell_type": "markdown",
   "id": "c62f1852-4b22-41cb-9472-0e77f3a565b0",
   "metadata": {},
   "source": [
    "# Тeматическое моделирование\n",
    "\n",
    "В этом ноутбуке я покажу, как работает тематическое моделирование (topic modeling) на примере корпуса новостей с сайта Lenta.ru.\n",
    "\n",
    "**Что это такое:**\n",
    "\"Тематическое моделирование — способ построения модели коллекции текстовых документов, которая определяет, к каким темам относится каждый из документов\" [Википедия](https://ru.wikipedia.org/wiki/%D0%A2%D0%B5%D0%BC%D0%B0%D1%82%D0%B8%D1%87%D0%B5%D1%81%D0%BA%D0%BE%D0%B5_%D0%BC%D0%BE%D0%B4%D0%B5%D0%BB%D0%B8%D1%80%D0%BE%D0%B2%D0%B0%D0%BD%D0%B8%D0%B5)\n",
    "\n",
    "**Зачем?**\n",
    "Тематическое моделирование позволяет автоматически выделить основные темы в корпусе текстов (наборе документов); ключевые слова, соответствующие каждой теме, и распределение тем над документами. Т.е. для каждого документа будет получен набор чисел, насколько данный документ принадлежит той или иной теме. \n",
    "\n",
    "В этом ноутбуке я буду использовать открытый датасет, который состоит из новостей с сайта Lenta.ru. Если хотите самостоятельно выполнить пример, то скачайте этот [датасет](https://github.com/yutkin/Lenta.Ru-News-Dataset/releases/download/v1.1/lenta-ru-news.csv.bz2) и распакуйте его в папку с этой тетрадкой.\n",
    "\n",
    "Существует несколько алгоритмов для тематического моделирования. Мы рассмотрим один из самых базовых - LDA (Latent Dirichle Allocation). А более продвинутые алгоритмы ищете на "
   ]
  },
  {
   "cell_type": "code",
   "execution_count": 1,
   "id": "05e14367-7108-4bd4-9c23-0ef50bbe8fa5",
   "metadata": {},
   "outputs": [],
   "source": [
    "import re\n",
    "\n",
    "import pandas as pd\n",
    "import numpy as np\n",
    "import json\n",
    "from sklearn.decomposition import LatentDirichletAllocation\n",
    "from sklearn.feature_extraction.text import TfidfVectorizer\n",
    "from nltk.corpus import stopwords\n",
    "import matplotlib.pyplot as plt\n",
    "\n",
    "pd.set_option('display.max_columns', None)\n",
    "pd.set_option('display.max_colwidth', None)\n",
    "\n",
    "SEED = 42"
   ]
  },
  {
   "cell_type": "markdown",
   "id": "74a8f070-7580-4bff-ad2c-fec955194125",
   "metadata": {},
   "source": [
    "# EDA"
   ]
  },
  {
   "cell_type": "code",
   "execution_count": 2,
   "id": "04257713-482a-43bf-b4c8-27eb90e02c43",
   "metadata": {
    "scrolled": true
   },
   "outputs": [
    {
     "data": {
      "text/html": [
       "<div>\n",
       "<style scoped>\n",
       "    .dataframe tbody tr th:only-of-type {\n",
       "        vertical-align: middle;\n",
       "    }\n",
       "\n",
       "    .dataframe tbody tr th {\n",
       "        vertical-align: top;\n",
       "    }\n",
       "\n",
       "    .dataframe thead th {\n",
       "        text-align: right;\n",
       "    }\n",
       "</style>\n",
       "<table border=\"1\" class=\"dataframe\">\n",
       "  <thead>\n",
       "    <tr style=\"text-align: right;\">\n",
       "      <th></th>\n",
       "      <th>user_id</th>\n",
       "      <th>post</th>\n",
       "      <th>post_lemmatized</th>\n",
       "      <th>likes</th>\n",
       "      <th>comments</th>\n",
       "      <th>reposts</th>\n",
       "      <th>hashtags</th>\n",
       "    </tr>\n",
       "  </thead>\n",
       "  <tbody>\n",
       "    <tr>\n",
       "      <th>0</th>\n",
       "      <td>ali-wodan</td>\n",
       "      <td>Кстати говоря. Теперь подкаст Миражи доступен в соцсети Вконтакте: https://lnkd.in/gKkrJX9Я наконец разобрался как туда прикрутить RSS :-) #podcast #миражи</td>\n",
       "      <td>говоря подкаст мираж доступный соцсеть вконтакте разобраться прикрутить</td>\n",
       "      <td>1</td>\n",
       "      <td>0</td>\n",
       "      <td>0</td>\n",
       "      <td>podcast, миражи</td>\n",
       "    </tr>\n",
       "    <tr>\n",
       "      <th>1</th>\n",
       "      <td>ali-wodan</td>\n",
       "      <td>Хэй честной народ! Ищу векторного иллюстратора на проект, с возможным длительным сотрудничеством по итогу. Можно удаленно. Уровень иллюстраций не хуже чем в примере https://lnkd.in/gkrvhxYРепост, пожалуйста)Если ты умеешь так рисовать, напиши мне в личку :-)Hey! I am looking for an Illustrator who can help us with a project! You need to have skills like in the example below or upper. Text me to discuss prices and due :-)#вакансия #vacancy #illustration #иллюстрация #project #проект</td>\n",
       "      <td>честной народ искать векторный иллюстратор проект возможный длительный сотрудничество итогу удаленно уровень иллюстрация пример репост ести уметь рисовать написать личка</td>\n",
       "      <td>6</td>\n",
       "      <td>0</td>\n",
       "      <td>0</td>\n",
       "      <td>вакансия, vacancy, illustration, иллюстрация, project, проект</td>\n",
       "    </tr>\n",
       "    <tr>\n",
       "      <th>2</th>\n",
       "      <td>ali-wodan</td>\n",
       "      <td>Новый пост подкаста \"Миражи\" на всех платформах:В аудио: https://lnkd.in/giWuSVNВ инстаграме: https://lnkd.in/gbV6yxKН #automotive # # #cars #а патреоне: https://lnkd.in/gfShqTU#саморазвитие #психология #психологиячеловека #психологияжизни #психологияличности #личностныйрост #подкаст #подкастмиражи #маркетинг #осознанность #мысли #мысливслух #установки #влияние #подсознаниеИспользованные звуки, музыка и картинки:Аудиоцитата из фильма \"Формула любви\" Марка ЗахароваJardins du Luxembourg by Jahzzar is licensed under a Attribution-ShareAlike 3.0 International License.prisoner by Luis Prado from the Noun Project</td>\n",
       "      <td>пост подкаст миражи платформах аудио инстаграме патреоне звуки музыка картинки аудиоцитат фильм формула любви марк захарова</td>\n",
       "      <td>1</td>\n",
       "      <td>0</td>\n",
       "      <td>0</td>\n",
       "      <td>automotive, cars, а, саморазвитие, психология, психологиячеловека, психологияжизни, психологияличности, личностныйрост, подкаст, подкастмиражи, маркетинг, осознанность, мысли, мысливслух, установки, влияние, подсознаниеИспользованные</td>\n",
       "    </tr>\n",
       "    <tr>\n",
       "      <th>3</th>\n",
       "      <td>ali-wodan</td>\n",
       "      <td>Подкаст Миражи, Эпизод 13Ошибка невозвратных затратpodcast.ru/1539345144#подкаст #podcast #it #podcasts #psychology #психология #miragespodcast</td>\n",
       "      <td>подкаст миражи эпизод ошибка невозвратный затрат</td>\n",
       "      <td>2</td>\n",
       "      <td>0</td>\n",
       "      <td>0</td>\n",
       "      <td>подкаст, podcast, it, podcasts, psychology, психология, miragespodcast</td>\n",
       "    </tr>\n",
       "    <tr>\n",
       "      <th>4</th>\n",
       "      <td>ali-wodan</td>\n",
       "      <td>Новый эпизод об эффекте ИКЕА на всех платформах podcast.ru/1539345144</td>\n",
       "      <td>эпизод эффект икеа платформа</td>\n",
       "      <td>1</td>\n",
       "      <td>0</td>\n",
       "      <td>0</td>\n",
       "      <td>NaN</td>\n",
       "    </tr>\n",
       "  </tbody>\n",
       "</table>\n",
       "</div>"
      ],
      "text/plain": [
       "     user_id  \\\n",
       "0  ali-wodan   \n",
       "1  ali-wodan   \n",
       "2  ali-wodan   \n",
       "3  ali-wodan   \n",
       "4  ali-wodan   \n",
       "\n",
       "                                                                                                                                                                                                                                                                                                                                                                                                                                                                                                                                                                                                                                     post  \\\n",
       "0                                                                                                                                                                                                                                                                                                                                                                                                                                                                             Кстати говоря. Теперь подкаст Миражи доступен в соцсети Вконтакте: https://lnkd.in/gKkrJX9Я наконец разобрался как туда прикрутить RSS :-) #podcast #миражи   \n",
       "1                                                                                                                                  Хэй честной народ! Ищу векторного иллюстратора на проект, с возможным длительным сотрудничеством по итогу. Можно удаленно. Уровень иллюстраций не хуже чем в примере https://lnkd.in/gkrvhxYРепост, пожалуйста)Если ты умеешь так рисовать, напиши мне в личку :-)Hey! I am looking for an Illustrator who can help us with a project! You need to have skills like in the example below or upper. Text me to discuss prices and due :-)#вакансия #vacancy #illustration #иллюстрация #project #проект   \n",
       "2  Новый пост подкаста \"Миражи\" на всех платформах:В аудио: https://lnkd.in/giWuSVNВ инстаграме: https://lnkd.in/gbV6yxKН #automotive # # #cars #а патреоне: https://lnkd.in/gfShqTU#саморазвитие #психология #психологиячеловека #психологияжизни #психологияличности #личностныйрост #подкаст #подкастмиражи #маркетинг #осознанность #мысли #мысливслух #установки #влияние #подсознаниеИспользованные звуки, музыка и картинки:Аудиоцитата из фильма \"Формула любви\" Марка ЗахароваJardins du Luxembourg by Jahzzar is licensed under a Attribution-ShareAlike 3.0 International License.prisoner by Luis Prado from the Noun Project   \n",
       "3                                                                                                                                                                                                                                                                                                                                                                                                                                                                                         Подкаст Миражи, Эпизод 13Ошибка невозвратных затратpodcast.ru/1539345144#подкаст #podcast #it #podcasts #psychology #психология #miragespodcast   \n",
       "4                                                                                                                                                                                                                                                                                                                                                                                                                                                                                                                                                                   Новый эпизод об эффекте ИКЕА на всех платформах podcast.ru/1539345144   \n",
       "\n",
       "                                                                                                                                                             post_lemmatized  \\\n",
       "0                                                                                                    говоря подкаст мираж доступный соцсеть вконтакте разобраться прикрутить   \n",
       "1  честной народ искать векторный иллюстратор проект возможный длительный сотрудничество итогу удаленно уровень иллюстрация пример репост ести уметь рисовать написать личка   \n",
       "2                                                пост подкаст миражи платформах аудио инстаграме патреоне звуки музыка картинки аудиоцитат фильм формула любви марк захарова   \n",
       "3                                                                                                                           подкаст миражи эпизод ошибка невозвратный затрат   \n",
       "4                                                                                                                                               эпизод эффект икеа платформа   \n",
       "\n",
       "   likes  comments  reposts  \\\n",
       "0      1         0        0   \n",
       "1      6         0        0   \n",
       "2      1         0        0   \n",
       "3      2         0        0   \n",
       "4      1         0        0   \n",
       "\n",
       "                                                                                                                                                                                                                                    hashtags  \n",
       "0                                                                                                                                                                                                                            podcast, миражи  \n",
       "1                                                                                                                                                                              вакансия, vacancy, illustration, иллюстрация, project, проект  \n",
       "2  automotive, cars, а, саморазвитие, психология, психологиячеловека, психологияжизни, психологияличности, личностныйрост, подкаст, подкастмиражи, маркетинг, осознанность, мысли, мысливслух, установки, влияние, подсознаниеИспользованные  \n",
       "3                                                                                                                                                                     подкаст, podcast, it, podcasts, psychology, психология, miragespodcast  \n",
       "4                                                                                                                                                                                                                                        NaN  "
      ]
     },
     "execution_count": 2,
     "metadata": {},
     "output_type": "execute_result"
    }
   ],
   "source": [
    "df = pd.read_csv(\"../datasets/post_lemmatized.csv\", index_col=0)\n",
    "df.head()"
   ]
  },
  {
   "cell_type": "markdown",
   "id": "f3ba6cbe",
   "metadata": {},
   "source": [
    "Наш датасет уже токенизирован и лематизирован. Все равно преведем небольшой анализ."
   ]
  },
  {
   "cell_type": "code",
   "execution_count": 3,
   "id": "e640ea07-3f65-4c8f-8375-ca8d4aef49ab",
   "metadata": {},
   "outputs": [
    {
     "data": {
      "text/plain": [
       "(2264, 7)"
      ]
     },
     "execution_count": 3,
     "metadata": {},
     "output_type": "execute_result"
    }
   ],
   "source": [
    "df.shape"
   ]
  },
  {
   "cell_type": "code",
   "execution_count": 4,
   "id": "effd97e8",
   "metadata": {},
   "outputs": [
    {
     "data": {
      "text/plain": [
       "105"
      ]
     },
     "execution_count": 4,
     "metadata": {},
     "output_type": "execute_result"
    }
   ],
   "source": [
    "# число дублей\n",
    "df.post_lemmatized.duplicated().sum()"
   ]
  },
  {
   "cell_type": "markdown",
   "id": "6628a4eb",
   "metadata": {},
   "source": [
    "Возможно это сообщения рекламного характера. Посмотрим на эти сообщения."
   ]
  },
  {
   "cell_type": "code",
   "execution_count": 5,
   "id": "9c5231e6",
   "metadata": {},
   "outputs": [
    {
     "data": {
      "text/plain": [
       "76                                                                                                                                                                                                                                                                                                                                                                                                                                                                               знать людей заинтересовать\n",
       "82                                                                                                                                                                                                                      настоящий время находиться поиск карьерный возможностей горизонт вызовов благодарить оказать поддержку выражаться форма рекомендация контактов совет возможностей предложить вкратце иметь опыт сфера составлять непрерывный опыт рекрутинг хантинга резюме готовый направить личку\n",
       "263                                                                                                                                                                                                                                                                                                                                                                                       поиск карьерный возможность признателен поддержку благодарить рекомендация контактов совет возможности предложить\n",
       "270                                                                                                                                                                                                                                                                                                                                                                                       поиск карьерный возможность признателен поддержку благодарить рекомендация контактов совет возможности предложить\n",
       "274                                                                                                                                                                                                                                                                                                                                                                                                                                                                удовольствие получил сертификат компания\n",
       "                                                                                                                                                                                                                                                       ...                                                                                                                                                                                                                                                 \n",
       "2140    компания оказывать услуга интеграция любой сферах предлагать полный погружение проект внедрение решение методология означает пройти путь понимание цель бизнес генерировать данные поставка готовый приложение сервер интерпретация результат виде позволить оптимизировать различный аспект работа бизнеса решение включать прогнозирование оценка влияние зависимость всевозможный показателей формирование алгоритм подбор товар услуга пользователей также модели подобрать специально компании\n",
       "2196                                                                                                                                                                                                                                                                                                                                                                                                                                              получил значок навык следующим пройти тест проверка навык\n",
       "2213                                                                                                                                                                                                                                                                                                                                                                                                                                              получил значок навык следующим пройти тест проверка навык\n",
       "2214                                                                                                                                                                                                                                                                                                                                                                                                                                                              начать отслеживать пишу тема интересовать\n",
       "2216                                                                                                                                                                                                                                                                                                                                                                                      поиск карьерный возможность признателен поддержку благодарить рекомендация контактов совет возможности предложить\n",
       "Name: post_lemmatized, Length: 134, dtype: object"
      ]
     },
     "execution_count": 5,
     "metadata": {},
     "output_type": "execute_result"
    }
   ],
   "source": [
    "df[df.post_lemmatized.duplicated(keep=False)].post_lemmatized"
   ]
  },
  {
   "cell_type": "code",
   "execution_count": 6,
   "id": "3bf4d563",
   "metadata": {},
   "outputs": [],
   "source": [
    "# удалим дубли\n",
    "df = df.drop_duplicates(subset='post_lemmatized', ignore_index=True)"
   ]
  },
  {
   "cell_type": "code",
   "execution_count": 7,
   "id": "ebd9ed8c",
   "metadata": {
    "scrolled": false
   },
   "outputs": [
    {
     "name": "stdout",
     "output_type": "stream",
     "text": [
      "<class 'pandas.core.frame.DataFrame'>\n",
      "RangeIndex: 2159 entries, 0 to 2158\n",
      "Data columns (total 7 columns):\n",
      " #   Column           Non-Null Count  Dtype \n",
      "---  ------           --------------  ----- \n",
      " 0   user_id          2159 non-null   object\n",
      " 1   post             2159 non-null   object\n",
      " 2   post_lemmatized  2159 non-null   object\n",
      " 3   likes            2159 non-null   int64 \n",
      " 4   comments         2159 non-null   int64 \n",
      " 5   reposts          2159 non-null   int64 \n",
      " 6   hashtags         1371 non-null   object\n",
      "dtypes: int64(3), object(4)\n",
      "memory usage: 118.2+ KB\n"
     ]
    }
   ],
   "source": [
    "df.info()"
   ]
  },
  {
   "cell_type": "markdown",
   "id": "ea14ca65",
   "metadata": {},
   "source": [
    "Оценим размеры постов в количестве символов и количестве слов."
   ]
  },
  {
   "cell_type": "code",
   "execution_count": 8,
   "id": "99503c80",
   "metadata": {},
   "outputs": [],
   "source": [
    "# подсчет числа символов\n",
    "def count_chars(text):\n",
    "    return(len(text))\n",
    "\n",
    "# подсчет числа слов\n",
    "def count_words(text):\n",
    "    return(len(text.split()))"
   ]
  },
  {
   "cell_type": "code",
   "execution_count": 9,
   "id": "bf1a6d27",
   "metadata": {},
   "outputs": [],
   "source": [
    "df['num_chars'] = df.post_lemmatized.apply(count_chars)\n",
    "df['num_words'] = df.post_lemmatized.apply(count_words)"
   ]
  },
  {
   "cell_type": "markdown",
   "id": "e1b3d866-e51c-4616-b027-897092665126",
   "metadata": {},
   "source": [
    "Всего в датасете чуть более 2 тыс. постов. Для каждого есть автор (user_id), содержание (post_lemmatized) и реакции (likes, comments, reposts). Не у всех пользователей указаны хештеги."
   ]
  },
  {
   "cell_type": "code",
   "execution_count": 10,
   "id": "69cf398a",
   "metadata": {},
   "outputs": [
    {
     "data": {
      "image/png": "[encoded data removed]",
      "text/plain": [
       "<Figure size 1000x400 with 2 Axes>"
      ]
     },
     "metadata": {},
     "output_type": "display_data"
    }
   ],
   "source": [
    "plt.figure(figsize=(10, 4))\n",
    "plt.subplot(1, 2, 1)\n",
    "df.num_chars.hist(bins=50)\n",
    "plt.title('Распределение постов по количеству символов'), plt.xlabel('Число символов')\n",
    "plt.subplot(1, 2, 2)\n",
    "df.num_words.hist(bins=50)\n",
    "plt.title('Распределение постов по количеству слов'), plt.xlabel('Число слов');"
   ]
  },
  {
   "cell_type": "code",
   "execution_count": 11,
   "id": "4c83b0c6",
   "metadata": {
    "scrolled": false
   },
   "outputs": [
    {
     "data": {
      "text/html": [
       "<div>\n",
       "<style scoped>\n",
       "    .dataframe tbody tr th:only-of-type {\n",
       "        vertical-align: middle;\n",
       "    }\n",
       "\n",
       "    .dataframe tbody tr th {\n",
       "        vertical-align: top;\n",
       "    }\n",
       "\n",
       "    .dataframe thead th {\n",
       "        text-align: right;\n",
       "    }\n",
       "</style>\n",
       "<table border=\"1\" class=\"dataframe\">\n",
       "  <thead>\n",
       "    <tr style=\"text-align: right;\">\n",
       "      <th></th>\n",
       "      <th>user_id</th>\n",
       "      <th>post</th>\n",
       "      <th>post_lemmatized</th>\n",
       "      <th>likes</th>\n",
       "      <th>comments</th>\n",
       "      <th>reposts</th>\n",
       "      <th>hashtags</th>\n",
       "      <th>num_chars</th>\n",
       "      <th>num_words</th>\n",
       "    </tr>\n",
       "  </thead>\n",
       "  <tbody>\n",
       "    <tr>\n",
       "      <th>2156</th>\n",
       "      <td>elminaliev</td>\n",
       "      <td>Один из главных инсайтов, что я понял и осознал к своим 26 годам. Слова Сократа. Популярные, да, но недостаточно их просто знать. Пока они не станут частью жизни, они бессмысленны.</td>\n",
       "      <td>главный инсайтов понять осознать годам слово сократа популярные недостаточно знать стать часть жизни бессмысленны</td>\n",
       "      <td>7</td>\n",
       "      <td>0</td>\n",
       "      <td>0</td>\n",
       "      <td>NaN</td>\n",
       "      <td>113</td>\n",
       "      <td>14</td>\n",
       "    </tr>\n",
       "    <tr>\n",
       "      <th>2157</th>\n",
       "      <td>elminaliev</td>\n",
       "      <td>Впервые спустя 4 месяца вернулся к силовым тренировкам. В принципе это был медленный путь возвращения: сначала тренировки пресса и растяжка (в апреле), чтобы вспомнить, что такое нагрузка после того, как мозг решил, что надо «отдохнуть» в феврале; затем кардио тренировки на пульсе 110, а сейчас наконец силовые тренировки в умеренном темпе и с максимально правильным дыханием Мораль, которую я для себя вывел, — всё должно быть постепенно. наскоком ничего не возьмешь: ни один город, ни один разум, ни одну цель. Всё начинается с нуля. Хоть и сложно начинать с нуля, но необходимо. После февраля я не знал, когда вернусь полноценно к тренировкам и вернусь ли, потому что сердечно-сосудистая и нервная системы не чувствовали себя на 100%. Да и сейчас не в идеальном состоянии, но я на нужном пути. Возвращаюсь. Это лето для всех как лето: отдых, арбузы, загар, посиделки с шашлыками. Для меня будет летом, чтобы вернуться на прежний уровень физически и работать над ментальной составляющей The obstacle is the way</td>\n",
       "      <td>впервые спустя вернуться силовой тренировкам принцип медленный путь возвращения сначала тренировка пресса растяжка апреле вспомнить нагрузка мозг решил отдохнуть феврале затем кардио тренировка пульс силовой тренировка умеренный темп максимально правильный дыхание мораль вывел должный постепенно наскоком возьмешь разум цель начинаться нуля сложно начинать нуля необходимо знал вернуться полноценно тренировка вернуться сердечно сосудистый нервный система чувствовать идеальный состоянии нужный пути возвращаюсь лето лето отдых арбузы загар посиделки шашлыками летом вернуться прежний уровень физически работать ментальный составлять</td>\n",
       "      <td>2</td>\n",
       "      <td>0</td>\n",
       "      <td>0</td>\n",
       "      <td>NaN</td>\n",
       "      <td>634</td>\n",
       "      <td>75</td>\n",
       "    </tr>\n",
       "    <tr>\n",
       "      <th>2158</th>\n",
       "      <td>elminaliev</td>\n",
       "      <td>Рассказал в своём телеграм канале об опыте съёмок для Самоката и почему хочу выступить в Лондоне. Check it out</td>\n",
       "      <td>рассказать телеграм канал опыт съёмка самокат почему выступить лондоне</td>\n",
       "      <td>2</td>\n",
       "      <td>0</td>\n",
       "      <td>0</td>\n",
       "      <td>NaN</td>\n",
       "      <td>70</td>\n",
       "      <td>9</td>\n",
       "    </tr>\n",
       "  </tbody>\n",
       "</table>\n",
       "</div>"
      ],
      "text/plain": [
       "         user_id  \\\n",
       "2156  elminaliev   \n",
       "2157  elminaliev   \n",
       "2158  elminaliev   \n",
       "\n",
       "                                                                                                                                                                                                                                                                                                                                                                                                                                                                                                                                                                                                                                                                                                                                                                                                                                                                                                                                                                                                                                                       post  \\\n",
       "2156                                                                                                                                                                                                                                                                                                                                                                                                                                                                                                                                                                                                                                                                                                                                                                                                                                                                   Один из главных инсайтов, что я понял и осознал к своим 26 годам. Слова Сократа. Популярные, да, но недостаточно их просто знать. Пока они не станут частью жизни, они бессмысленны.   \n",
       "2157  Впервые спустя 4 месяца вернулся к силовым тренировкам. В принципе это был медленный путь возвращения: сначала тренировки пресса и растяжка (в апреле), чтобы вспомнить, что такое нагрузка после того, как мозг решил, что надо «отдохнуть» в феврале; затем кардио тренировки на пульсе 110, а сейчас наконец силовые тренировки в умеренном темпе и с максимально правильным дыханием Мораль, которую я для себя вывел, — всё должно быть постепенно. наскоком ничего не возьмешь: ни один город, ни один разум, ни одну цель. Всё начинается с нуля. Хоть и сложно начинать с нуля, но необходимо. После февраля я не знал, когда вернусь полноценно к тренировкам и вернусь ли, потому что сердечно-сосудистая и нервная системы не чувствовали себя на 100%. Да и сейчас не в идеальном состоянии, но я на нужном пути. Возвращаюсь. Это лето для всех как лето: отдых, арбузы, загар, посиделки с шашлыками. Для меня будет летом, чтобы вернуться на прежний уровень физически и работать над ментальной составляющей The obstacle is the way   \n",
       "2158                                                                                                                                                                                                                                                                                                                                                                                                                                                                                                                                                                                                                                                                                                                                                                                                                                                                                                                                        Рассказал в своём телеграм канале об опыте съёмок для Самоката и почему хочу выступить в Лондоне. Check it out    \n",
       "\n",
       "                                                                                                                                                                                                                                                                                                                                                                                                                                                                                                                                                                                                                                                 post_lemmatized  \\\n",
       "2156                                                                                                                                                                                                                                                                                                                                                                                                                                                                                                                                           главный инсайтов понять осознать годам слово сократа популярные недостаточно знать стать часть жизни бессмысленны   \n",
       "2157  впервые спустя вернуться силовой тренировкам принцип медленный путь возвращения сначала тренировка пресса растяжка апреле вспомнить нагрузка мозг решил отдохнуть феврале затем кардио тренировка пульс силовой тренировка умеренный темп максимально правильный дыхание мораль вывел должный постепенно наскоком возьмешь разум цель начинаться нуля сложно начинать нуля необходимо знал вернуться полноценно тренировка вернуться сердечно сосудистый нервный система чувствовать идеальный состоянии нужный пути возвращаюсь лето лето отдых арбузы загар посиделки шашлыками летом вернуться прежний уровень физически работать ментальный составлять   \n",
       "2158                                                                                                                                                                                                                                                                                                                                                                                                                                                                                                                                                                                      рассказать телеграм канал опыт съёмка самокат почему выступить лондоне   \n",
       "\n",
       "      likes  comments  reposts hashtags  num_chars  num_words  \n",
       "2156      7         0        0      NaN        113         14  \n",
       "2157      2         0        0      NaN        634         75  \n",
       "2158      2         0        0      NaN         70          9  "
      ]
     },
     "execution_count": 11,
     "metadata": {},
     "output_type": "execute_result"
    }
   ],
   "source": [
    "df.tail(3)"
   ]
  },
  {
   "cell_type": "code",
   "execution_count": 12,
   "id": "06229f09",
   "metadata": {},
   "outputs": [
    {
     "data": {
      "text/plain": [
       "count    2159.000000\n",
       "mean      438.035201\n",
       "std       477.541175\n",
       "min         9.000000\n",
       "25%        86.000000\n",
       "50%       250.000000\n",
       "75%       620.000000\n",
       "max      2290.000000\n",
       "Name: num_chars, dtype: float64"
      ]
     },
     "execution_count": 12,
     "metadata": {},
     "output_type": "execute_result"
    }
   ],
   "source": [
    "# характеристики постов по символам\n",
    "df.num_chars.describe()"
   ]
  },
  {
   "cell_type": "code",
   "execution_count": 13,
   "id": "ce9f808b",
   "metadata": {
    "scrolled": true
   },
   "outputs": [
    {
     "data": {
      "text/plain": [
       "count    2159.000000\n",
       "mean       49.678092\n",
       "std        54.012155\n",
       "min         2.000000\n",
       "25%        10.000000\n",
       "50%        29.000000\n",
       "75%        70.000000\n",
       "max       251.000000\n",
       "Name: num_words, dtype: float64"
      ]
     },
     "execution_count": 13,
     "metadata": {},
     "output_type": "execute_result"
    }
   ],
   "source": [
    "# характеристики постов по словам\n",
    "df.num_words.describe()"
   ]
  },
  {
   "cell_type": "markdown",
   "id": "578e8f51",
   "metadata": {},
   "source": [
    "Большая часть постов короткие. Медианный размер поста 250 символов 29 слов. Наверно есть смысл отбросить посты попадающие в 1 квартиль по числу символов и слов."
   ]
  },
  {
   "cell_type": "code",
   "execution_count": 14,
   "id": "a50d7d19",
   "metadata": {},
   "outputs": [
    {
     "data": {
      "text/plain": [
       "(86, 10)"
      ]
     },
     "execution_count": 14,
     "metadata": {},
     "output_type": "execute_result"
    }
   ],
   "source": [
    "q1_chars = round(df.num_chars.quantile(0.25))\n",
    "q1_words = round(df.num_words.quantile(0.25))\n",
    "q1_chars, q1_words"
   ]
  },
  {
   "cell_type": "code",
   "execution_count": 15,
   "id": "f9efd614",
   "metadata": {},
   "outputs": [
    {
     "data": {
      "text/plain": [
       "0     говоря подкаст мираж доступный соцсеть вконтакте разобраться прикрутить\n",
       "3                            подкаст миражи эпизод ошибка невозвратный затрат\n",
       "4                                                эпизод эффект икеа платформа\n",
       "7                                                            эпизод платформа\n",
       "10              эпизод подкаст говорить парапланеризм совмещаться работа айти\n",
       "Name: post_lemmatized, dtype: object"
      ]
     },
     "execution_count": 15,
     "metadata": {},
     "output_type": "execute_result"
    }
   ],
   "source": [
    "# оценка мелких текстов\n",
    "df.query('num_chars < @q1_chars and num_words < @q1_words').post_lemmatized.head()"
   ]
  },
  {
   "cell_type": "code",
   "execution_count": 16,
   "id": "4d1a324a",
   "metadata": {},
   "outputs": [
    {
     "data": {
      "text/plain": [
       "122                       прочитать хабра отличный материал слить карьера системный аналитика деле статья системный аналитика вообще любой разумный человека ценный перечислить важный софт скилы добавить ссылка материал советами подтянуть общем искренне рекомендую\n",
       "159                                           девочка девушки пусть весна сердце душе пусть марта каждый хотеться петь танцевать гулять наслаждаться жизнью пусть мужчина позволять хрупкий нежными дарить ласка заботу носить рука всячески жизнь счастливее прекрасны\n",
       "278               работать киый нии вернадского отдел котоырть совместно китайский учёный заниматься разработка оконный стёкол цель минимизация потеря тепло окна сделать оптически прозрачный прототип аккумулировать солнечный энергия вечером отдавать вовнутрь дома\n",
       "337    короновирус рецессия мировой экономики сокращения увольнения давать взглянуть стороны кризис начало нового думаете возрасти кол стартапов именно стоить находить единомышленник запираться гараж энергетик протеиновый батончиками думаете долго продлиться спад\n",
       "471          канал телеграм скоро точно сказать завести отличный решением благодаря связь темы поднимать важный интересный знакомый совершенно незнакомый людям вдохновляет молча читает писать предложение интересный темах делиться постами поделиться пост читателям\n",
       "Name: post_lemmatized, dtype: object"
      ]
     },
     "execution_count": 16,
     "metadata": {},
     "output_type": "execute_result"
    }
   ],
   "source": [
    "# оценка медианных текстов\n",
    "df.query('num_chars == 250 or num_words == 29').post_lemmatized.head()"
   ]
  },
  {
   "cell_type": "code",
   "execution_count": 17,
   "id": "9f7459d8",
   "metadata": {},
   "outputs": [
    {
     "data": {
      "text/plain": [
       "14    классный коллега команда редизайн развитие отдельный продукт промо сайт продукт сложный веб приложение сопровождениеили веб приложение основа дизайн системыразработка поддержка кроссплатформенный дизайн системымаркетинговый задачи лэндинги письма оптимизация конверсия сайтовконтроль качество ожидаем опыт разработка интерфейс студия продуктовый компания летминимум живой проект дизайн сети минимум сложныйумение желание вникать разбираться умение думать основной инструмент возможный время перейти фигма точно умение работать понадобиться предлагаем белый заработный платакомфортный офис минута ходьба тульскаяспортзал настольный теннис занятие тренером группа английский китайский язык офисесовременный удобный рабочий место мощный маки мониторыдмс испытательный срок вопрос отклик писать почта телеграм\n",
       "19                                                                                                                                                                                        каждый заказчик идти индивидуальный путь развития каждый запросы возможности план стратегия работы каждый важно получать индивидуальный решение запрос любой сложности юпитер находить поставить вопрос лет разрабатывать внедрять самый современный решение база передовой технология ведущий производителей юпитер интегратор поколения означает использовать шаблон работе индивидуальный подход каждый проекту самый актуальный решения соответствовать цель задача бизнеса друзья юпитер социальный сетях подписываться аккаунт готовый помочь найти вопрос помните будущее технологиями несколько шаг опережать потребность бизнес компании\n",
       "25                                                                      друзья работе генеральный коммерческий директор развитие направление крупный компания руководство разработка продажа система видеонаблюдение аналитики крупный холдинг опыт работа транзакционный бизнесе консультанты старший консультанты менеджер директор продажа госсектор крупный вендор директор продажа инженерный решение крупный российский системный интегратор фонд крупный розничный сеть директор продажа казахстан крупный вендора директор продажа грузия крупный вендоракраткий требование позиция найти профиле претендовать вышеперечисленный ролей высылать резюме соответствовать требование позиция сразу связаться ести сохранить появление интересный возможность незамедлительно оповестить такж рекомендация репостам отличный настроения\n",
       "Name: post_lemmatized, dtype: object"
      ]
     },
     "execution_count": 17,
     "metadata": {},
     "output_type": "execute_result"
    }
   ],
   "source": [
    "# оценка больших текстов\n",
    "df.query('num_chars >= 620 and num_words >= 70').post_lemmatized.head(3)"
   ]
  },
  {
   "cell_type": "code",
   "execution_count": 18,
   "id": "41faeb58",
   "metadata": {},
   "outputs": [],
   "source": [
    "# удалаяем короткие посты\n",
    "df = df.query('num_chars >= @q1_chars and num_words >= @q1_words')"
   ]
  },
  {
   "cell_type": "code",
   "execution_count": 19,
   "id": "090496d5",
   "metadata": {
    "scrolled": true
   },
   "outputs": [
    {
     "name": "stdout",
     "output_type": "stream",
     "text": [
      "<class 'pandas.core.frame.DataFrame'>\n",
      "Index: 1615 entries, 1 to 2157\n",
      "Data columns (total 9 columns):\n",
      " #   Column           Non-Null Count  Dtype \n",
      "---  ------           --------------  ----- \n",
      " 0   user_id          1615 non-null   object\n",
      " 1   post             1615 non-null   object\n",
      " 2   post_lemmatized  1615 non-null   object\n",
      " 3   likes            1615 non-null   int64 \n",
      " 4   comments         1615 non-null   int64 \n",
      " 5   reposts          1615 non-null   int64 \n",
      " 6   hashtags         1083 non-null   object\n",
      " 7   num_chars        1615 non-null   int64 \n",
      " 8   num_words        1615 non-null   int64 \n",
      "dtypes: int64(5), object(4)\n",
      "memory usage: 126.2+ KB\n"
     ]
    }
   ],
   "source": [
    "# оценка датасета после фильтрации\n",
    "df.info()"
   ]
  },
  {
   "cell_type": "markdown",
   "id": "4261cd2b",
   "metadata": {},
   "source": [
    "Наш датасет сократился на четверть."
   ]
  },
  {
   "cell_type": "markdown",
   "id": "dbe3e2cf-4eee-4791-920e-2f15d7e408f7",
   "metadata": {},
   "source": [
    "# Моделирование"
   ]
  },
  {
   "cell_type": "markdown",
   "id": "9ee26cb6-e682-43ed-ba93-32212486112b",
   "metadata": {},
   "source": [
    "## Подготовка текстов"
   ]
  },
  {
   "cell_type": "markdown",
   "id": "d51a353e-6397-4135-90f5-4d7a2f2676d8",
   "metadata": {},
   "source": [
    "Складываем все тексты в один список."
   ]
  },
  {
   "cell_type": "code",
   "execution_count": 20,
   "id": "fd353ec5-8db2-4460-89f5-bc6f88df4e4c",
   "metadata": {},
   "outputs": [],
   "source": [
    "docs = df[\"post_lemmatized\"].tolist()"
   ]
  },
  {
   "cell_type": "code",
   "execution_count": 21,
   "id": "c7f0ae1f",
   "metadata": {},
   "outputs": [
    {
     "data": {
      "text/plain": [
       "['честной народ искать векторный иллюстратор проект возможный длительный сотрудничество итогу удаленно уровень иллюстрация пример репост ести уметь рисовать написать личка',\n",
       " 'пост подкаст миражи платформах аудио инстаграме патреоне звуки музыка картинки аудиоцитат фильм формула любви марк захарова',\n",
       " 'редкий случай считать правильный распространять призыв проявить активный позиция вмешаться политический жизнь государства подсказывает поправка пройдут творчество просветительство оказаться угроза снг конкретно идти речь подробно описать попов видео',\n",
       " 'снова искать классный коллега команда нужны уверенный мидло продакт дизайнер основный линейка продукт работы маркетинг мать работы скил юай юикс райтер привести порядок интерфейсный тексты нужный английский прекрасный русский опыт работа способность глубоко разбираться технический деталь переводить айтишный человеческий условие классноподробности вилка зп подробный условие телеграм почта',\n",
       " 'заказчик сколько нужно время дизайн проекта дизайнер около недель заказчик дизайнер давать попробовать объяснить понятнее']"
      ]
     },
     "execution_count": 21,
     "metadata": {},
     "output_type": "execute_result"
    }
   ],
   "source": [
    "# первые пять элементов\n",
    "docs[:5]"
   ]
  },
  {
   "cell_type": "markdown",
   "id": "f4220f36-13fa-4a86-95f3-6d44d0bd83f6",
   "metadata": {},
   "source": [
    "## Векторизация текстов"
   ]
  },
  {
   "cell_type": "markdown",
   "id": "06cb43e2-df43-4cb8-a78b-43c4acfa5309",
   "metadata": {},
   "source": [
    "Теперь необходимо перевести тексты и слова, из которых они состоят, в числовое представление, т.е. провести векторизацию. Для этого можно используем метод Tf-iDf."
   ]
  },
  {
   "cell_type": "code",
   "execution_count": 22,
   "id": "6bff388d-dd5a-438c-a5ce-b7d739452586",
   "metadata": {},
   "outputs": [],
   "source": [
    "# создаем модель векторизации\n",
    "tfidf = TfidfVectorizer(min_df=9, max_df=0.9)"
   ]
  },
  {
   "cell_type": "code",
   "execution_count": 23,
   "id": "366d58eb-801e-461e-8cca-7db7feb520c1",
   "metadata": {},
   "outputs": [
    {
     "name": "stdout",
     "output_type": "stream",
     "text": [
      "CPU times: total: 188 ms\n",
      "Wall time: 190 ms\n"
     ]
    }
   ],
   "source": [
    "%%time\n",
    "# обучим модель и получим векотрное представление для каждого текста\n",
    "x = tfidf.fit_transform(docs)"
   ]
  },
  {
   "cell_type": "code",
   "execution_count": 25,
   "id": "091efa54-5db8-423b-a9d3-e43b376a69a9",
   "metadata": {
    "scrolled": true
   },
   "outputs": [
    {
     "data": {
      "text/plain": [
       "(1615, 1945)"
      ]
     },
     "execution_count": 25,
     "metadata": {},
     "output_type": "execute_result"
    }
   ],
   "source": [
    "# размер полученной матрицы\n",
    "x.shape"
   ]
  },
  {
   "cell_type": "markdown",
   "id": "dcdc3280-13fe-490a-a294-0e139d2a4e04",
   "metadata": {},
   "source": [
    "Теперь составим словарь {id_токена: токен} - он пригодится нам позднее."
   ]
  },
  {
   "cell_type": "code",
   "execution_count": 26,
   "id": "43d0d38e",
   "metadata": {},
   "outputs": [
    {
     "data": {
      "text/plain": [
       "array(['абсолютно', 'автоматизация', 'автоматизированный', ..., 'языком',\n",
       "       'яндекс', 'яркий'], dtype=object)"
      ]
     },
     "execution_count": 26,
     "metadata": {},
     "output_type": "execute_result"
    }
   ],
   "source": [
    "# список слов векторизатора\n",
    "tfidf.get_feature_names_out()"
   ]
  },
  {
   "cell_type": "code",
   "execution_count": 27,
   "id": "60d3ead5-7d38-4417-b333-191e153da469",
   "metadata": {},
   "outputs": [],
   "source": [
    "# словарь\n",
    "id2word = {i: token for i, token in enumerate(tfidf.get_feature_names_out())}"
   ]
  },
  {
   "cell_type": "code",
   "execution_count": 28,
   "id": "281e2a8a",
   "metadata": {
    "scrolled": true
   },
   "outputs": [
    {
     "data": {
      "text/plain": [
       "('абсолютно', 'автоматизация', 'автоматизированный', 'память', 'тяжело')"
      ]
     },
     "execution_count": 28,
     "metadata": {},
     "output_type": "execute_result"
    }
   ],
   "source": [
    "# примеры слов в словаре\n",
    "id2word[0], id2word[1], id2word[2], id2word[1000], id2word[1761]"
   ]
  },
  {
   "cell_type": "markdown",
   "id": "835dc774-04ca-4486-820e-c053ae1c5299",
   "metadata": {},
   "source": [
    "## LDA"
   ]
  },
  {
   "cell_type": "markdown",
   "id": "5030b8e4-cdeb-4c6d-a6c2-3ea5bf72d9be",
   "metadata": {},
   "source": [
    "Теперь можем запустить алгоритм LDA. Зададим количество тем равное 15."
   ]
  },
  {
   "cell_type": "code",
   "execution_count": 29,
   "id": "e2f92219-5f50-41d2-91be-5f07796ed677",
   "metadata": {},
   "outputs": [],
   "source": [
    "# число тем\n",
    "n_topics = 10"
   ]
  },
  {
   "cell_type": "code",
   "execution_count": 30,
   "id": "95d47fc3-498c-46bc-933d-8aee42382350",
   "metadata": {},
   "outputs": [],
   "source": [
    "# создаем модель\n",
    "lda = LatentDirichletAllocation(\n",
    "    n_components=n_topics,\n",
    "    max_iter=120,\n",
    "    batch_size=64,\n",
    "    random_state=SEED\n",
    ")"
   ]
  },
  {
   "cell_type": "code",
   "execution_count": 31,
   "id": "9d510749-149f-42fb-b751-1488e7a886ee",
   "metadata": {},
   "outputs": [
    {
     "name": "stdout",
     "output_type": "stream",
     "text": [
      "CPU times: total: 45.1 s\n",
      "Wall time: 45.3 s\n"
     ]
    }
   ],
   "source": [
    "%%time\n",
    "# обучаем модель на матрице векторизированных текстов\n",
    "topics = lda.fit_transform(x)"
   ]
  },
  {
   "cell_type": "code",
   "execution_count": 32,
   "id": "a6cfd6aa",
   "metadata": {},
   "outputs": [
    {
     "data": {
      "text/plain": [
       "-75023.94427893005"
      ]
     },
     "execution_count": 32,
     "metadata": {},
     "output_type": "execute_result"
    }
   ],
   "source": [
    "# метрика показывает приблизительное логарифмическое правдоподобие\n",
    "lda.score(x)"
   ]
  },
  {
   "cell_type": "code",
   "execution_count": 33,
   "id": "589f0747-f262-4ce8-9a04-154f7a32831e",
   "metadata": {},
   "outputs": [
    {
     "data": {
      "text/plain": [
       "(1615, 10)"
      ]
     },
     "execution_count": 33,
     "metadata": {},
     "output_type": "execute_result"
    }
   ],
   "source": [
    "# рамер полученной матрицы\n",
    "topics.shape"
   ]
  },
  {
   "cell_type": "markdown",
   "id": "52b2d01e-d6aa-4750-a2f7-864c7ae21333",
   "metadata": {},
   "source": [
    "Получили массив размера 1564x15. Строки здесь - отдельные тексты, а колонки - 15 выделенных тем. В каждой ячейке стоит вероятность того, что данный текст относится к данной теме. Это то самое распределение тем над документами."
   ]
  },
  {
   "cell_type": "code",
   "execution_count": 34,
   "id": "a61baee0",
   "metadata": {
    "scrolled": false
   },
   "outputs": [
    {
     "data": {
      "text/plain": [
       "array([[0.02211703, 0.02211784, 0.02211703, 0.0221259 , 0.02211706,\n",
       "        0.02211704, 0.02211703, 0.80093425, 0.0221197 , 0.02211711],\n",
       "       [0.03365759, 0.03365759, 0.69707213, 0.03366634, 0.03365759,\n",
       "        0.03365759, 0.03365759, 0.03365839, 0.03365759, 0.03365759],\n",
       "       [0.02070071, 0.02070066, 0.02070066, 0.38820495, 0.2568786 ,\n",
       "        0.02070066, 0.02070066, 0.21001152, 0.0207009 , 0.02070066],\n",
       "       [0.01547964, 0.01547973, 0.01547976, 0.17222709, 0.04879705,\n",
       "        0.01547966, 0.01547963, 0.67061434, 0.01548345, 0.01547965],\n",
       "       [0.02444707, 0.02444707, 0.02444707, 0.59001656, 0.02444788,\n",
       "        0.02444707, 0.02444707, 0.21440494, 0.02444788, 0.02444742]])"
      ]
     },
     "execution_count": 34,
     "metadata": {},
     "output_type": "execute_result"
    }
   ],
   "source": [
    "# оценим вероятности пренадлежности первых 5 текстов к топикам\n",
    "topics[:5]"
   ]
  },
  {
   "cell_type": "markdown",
   "id": "03864c01",
   "metadata": {},
   "source": [
    "Для наглядности, выберем несколько случайных записей и построим графики полученных вероятностей принадлежности текста к топикам."
   ]
  },
  {
   "cell_type": "code",
   "execution_count": 35,
   "id": "bdf4d093",
   "metadata": {},
   "outputs": [
    {
     "data": {
      "image/png": "[encoded data removed]",
      "text/plain": [
       "<Figure size 1000x1000 with 6 Axes>"
      ]
     },
     "metadata": {},
     "output_type": "display_data"
    }
   ],
   "source": [
    "plt.figure(figsize=(10,10))\n",
    "for i in range(6):\n",
    "    idx = np.random.randint(0, topics.shape[0])\n",
    "    plt.subplot(3, 2, i+1)\n",
    "    plt.plot(topics[idx])"
   ]
  },
  {
   "cell_type": "markdown",
   "id": "879a33e7-8179-48ff-9f29-edf66ba34329",
   "metadata": {},
   "source": [
    "### Ключевые слова"
   ]
  },
  {
   "cell_type": "markdown",
   "id": "bf4f9208-bc32-4a32-995c-0c78d7e703e4",
   "metadata": {},
   "source": [
    "Теперь извлечём ключевые слова для каждой из 20 тем. В свойсте _components_ _ лежит матрица соответствия слов темам. Пройдёмся по каждой из 20 выделенных тем и для каждой возьмём ТОП-20 слов."
   ]
  },
  {
   "cell_type": "markdown",
   "id": "b7d7f478-6fe8-41f2-8f5b-18e8924eafda",
   "metadata": {},
   "source": [
    "По очереди пройдёмся по каждой теме (первое измерение массиа) и выберем ТОП-20 слов, наиболее характерных для этой темы. Потом по индексу слова обратимся к словарю и узнаем, что это за слово."
   ]
  },
  {
   "cell_type": "code",
   "execution_count": 36,
   "id": "22943201-2961-46a2-b925-6a0c2f41c6f8",
   "metadata": {},
   "outputs": [
    {
     "name": "stdout",
     "output_type": "stream",
     "text": [
      "Тема 1 :\n",
      "состояться, страны, промышленный, вакансий, лежать, упростить, интеллекта, верю, статус, казахстана, ребят\n",
      "\n",
      " \n",
      "Тема 2 :\n",
      "поиск, энергия, карьерный, предназначить, рекомендация, возможности, предложить, совет, благодарить, контактов, поддержку\n",
      "\n",
      " \n",
      "Тема 3 :\n",
      "суть, разработать, фильм, хобби, инстаграм, назвать, магазин, задача, главный, логотип, стиль\n",
      "\n",
      " \n",
      "Тема 4 :\n",
      "решение, продукт, нужно, каждый, вопрос, работа, бизнес, работать, время, человек, компания\n",
      "\n",
      " \n",
      "Тема 5 :\n",
      "нейросеть, следовать, вариант, слово, казаться, знать, нравиться, голова, изображение, правило, мысль\n",
      "\n",
      " \n",
      "Тема 6 :\n",
      "интересоваться, регистрация, программы, пятница, языка, департамент, рекомендации, финтех, митапа, доклад, подписаться\n",
      "\n",
      " \n",
      "Тема 7 :\n",
      "проверять, экспертный, линия, учиться, исключительно, память, месте, сотрудника, подойти, индивидуально, сервисом\n",
      "\n",
      " \n",
      "Тема 8 :\n",
      "поиск, разработчик, знание, вакансия, резюме, проект, разработка, команда, искать, работа, опыт\n",
      "\n",
      " \n",
      "Тема 9 :\n",
      "зарабатывать, направление, услуг, книгу, начинать, сменить, посетить, школа, скидка, онлайн, ловить\n",
      "\n",
      " \n",
      "Тема 10 :\n",
      "устройство, консалтинг, веб, проверка, бизнес, страница, просмотреть, оказывать, приложений, разработка, услуга\n",
      "\n",
      " \n"
     ]
    }
   ],
   "source": [
    "for i in range(n_topics):\n",
    "    c = lda.components_[i, :]\n",
    "    topic_tokens = [id2word.get(token_id) for token_id in np.argsort(c)[-11:]]\n",
    "    print(\"Тема\",i+1, \":\")\n",
    "    print(\", \".join(topic_tokens))\n",
    "    print(\"\\n \")"
   ]
  },
  {
   "cell_type": "markdown",
   "id": "c79be3dc-87e2-4ff7-986e-eaee3e8b7b91",
   "metadata": {},
   "source": [
    "По полученным ключевым словам можно составить представление о содержании той или иной темы. При этом слова в топиках пересекаются, например:\n",
    "\n",
    "- слово \"поиск\" в темах 2 и 8 на первой позиции,\n",
    "- слово \"разработка\" в темах 3, 8, 10,\n",
    "- слово \"работа\" в 3,4,8 темах,\n",
    "- слово \"услуг\" в 8 и 9 темах,\n",
    "- слово \"бизнес\" в 4 и 10."
   ]
  },
  {
   "cell_type": "markdown",
   "id": "34921b4f-2611-4a05-9ab2-7d4e4857a6cc",
   "metadata": {},
   "source": [
    "### Типичные статьи"
   ]
  },
  {
   "cell_type": "markdown",
   "id": "201ebeab-f859-4b6c-8f24-213c875fee74",
   "metadata": {},
   "source": [
    "Теперь для каждой темы возьмём по одному документу, который хорошо соответсвует этой теме. Для этого заглянем в массив _topics_."
   ]
  },
  {
   "cell_type": "code",
   "execution_count": 37,
   "id": "07d1a6e6-b179-44e7-8220-d8aff056bfa8",
   "metadata": {
    "scrolled": false
   },
   "outputs": [
    {
     "name": "stdout",
     "output_type": "stream",
     "text": [
      "Тема  0\n",
      "С 11 по 13 августа в г.Калуга состоится IX Форум по цифровизации оборонно-промышленного комплекса России #ИТОПК2020.Программа мероприятия доступна на сайте: https://xn--h1aelen.xn--p1ai/На фото совместный стенд RASSE (I-Teco Group) и Security Code.#it #security\n",
      "\n",
      "\n",
      "Тема  1\n",
      "Здравствуйте, я в поиске новой карьерной возможности в QA/тестировании и буду признательна за вашу поддержку. Заранее благодарю за все рекомендации контактов, советы или возможности, которые вы можете предложить. Hello, I am looking for a new career opportunity in QA/testing and would appreciate your support. Thank you in advance for all the contact recommendations, tips or opportunities that you can offer.#OpenToWork #QAEngineer #QASpecialist #Tester #ManualTester #Testing #qa #Тестировщик #ТестированиеTelegram: @kris_ozhogEmail: kris94ozhog@gmail.com\n",
      "\n",
      "\n",
      "Тема  2\n",
      "Коллеги по бизнесу, а так же читатели Linkedin. Прошу поддержать моего друга в его уже хороших начинаниях :) Подпишитесь на его инстаграм @ddnn.shop . А знаете что там? Чехлы - на ВАШ телефон! Кожаные, силиконовые, с вашим принтом, с блесточками, чехол-книжка! Любой, а может у вас есть Apple Watch? Так залетайте, там прикольные браслетики! Я не навязываю вам свой пост, но дело ваше. (Чехлы дешевле чем в любом ТЦ в 3-2 раза)\n",
      "\n",
      "\n",
      "Тема  3\n",
      "Регулярно читаю СМИ о развитии ритейла, и часто вижу такие новости:- первый магазин «Пятёрочка» откроется во Владивостоке;- «Gloria Jeans» откроет первые магазины сети в Иркутске и Челябинске;- в РФ заработала сеть мультибрендовых магазинов «Ремарк».На встречах с руководителями торговых сетей мы обсуждаем в том числе вопросы, как происходит открытие торговых точек (как организован процесс, где происходит взаимодействие подразделений и т.д.). Часто слышу от них, что данный процесс не оцифрован вообще или оцифрован частично, и это приводит к следующим проблемам: нет единой системы, долгий процесс согласования и сбора документов и т.д.Сразу вспоминаю кейс компании «ВкусВилл», в котором над открытием нового магазина работает почти вся компания. Оцифровав процесс открытия торговой точки с помощью BPM-системы «Первая Форма», компания получила единое решение, где работают все участники процесса: от менеджеров по развитию территории до ремонтных подрядчиков. И исключила ситуации, когда вопрос решается устно или в стороннем мессенджере. Делюсь ссылкой на закрытый контент-хаб, где вы найдете запись вебинара от образовательного проекта «EdTech Retail», информацию о решении «Первая Форма» и кейсе «ВкусВилл»:  https://lnkd.in/dk7g2RjQБуду рад лично обсудить возможности применения системы в Вашей компании!#retail #edtech #fmcg #it\n",
      "\n",
      "\n",
      "Тема  4\n",
      "Я часто встречаю букву \"Z\" на общественном транспорте, на заднем стекле автомобилей в общественных местах. Мне сначала это всё не нравилось и раздражало. Но потом я задумался, и вы знаете, я думаю что \"Z\" это правильно, это про Россию. Посудите сами:Zависть и ненавистьZаводы обанкроченыZакрылись магазиныZарплаты мизерныеZаграницу нельзяСоцсети ZабаненыZанавес опускается#Z\n",
      "\n",
      "\n",
      "Тема  5\n",
      "Запретный плод сладок. Не удивлюсь, если у LinkedIn посещаемость выросла. Зато теперь соц.сеть ещё больше про IT. По крайней мере айтишники точно знают, как сюда попасть.\n",
      "\n",
      "\n",
      "Тема  6\n",
      "В моей бумажной библиотеке исключительно книги с автографами авторов и сегодня очередное пополнение: \"Развитие памяти по методикам спецслужб\". Большое спасибо любимой Альпина Паблишерз и Sergey Turko.\n",
      "\n",
      "\n",
      "Тема  7\n",
      "Новые статьи в Design Help!Собрал для вас новые интересные и очень полезные материалы!Новинки: - Чек-лист: заполняем Linkedin. ЭЙЧ составили крутой чек лист, который поможе заполнить линк - Требования к графическим интерфейсам. Одна памятка ответит на все ваши вопросы- 7 000 иконок бесплатно. Сервис с 7к иконок для ваших проетков. Скорее забирай  А тем временем в Design Help 45 материалов, которые помогут тебе прокачать навыки в UX/UI, ответить на вопросы по поиску работы и помогут создать твой проект! Скорее переходи и прокачивайся - https://lnkd.in/eZP44eyW Мой телеграмм канал - https://lnkd.in/dF6vEVJXТам куча полезногоВ канале: - Design Help, файл 40+ материалов для повышения ваших скиллов- Розыгрыш консультаций по карьерному треку и разбору портфолио - Прямые эфиры с дизайном - Полезные статьи #design #linkedin #instagram #help #design #webdesign #webdevelopment #graphicdesign #UIUX #digitaldesign #responsivewebdesign #HTML #CSS #JavaScript #webdesigner #webdesignagency #webdesigncompany #webdesignerlife #webdesigncommunity #webdesigninspiration\n",
      "\n",
      "\n",
      "Тема  8\n",
      "Хотели знать, как выглядит день из жизни программиста? Я покажу, как проходит моя рабочая неделя и, надеюсь, ваша тоже  https://lnkd.in/dG-bZgyДа что там моя неделя. Даже в таких гигантах, как Microsoft, Google, Yandex, V Kontakte LLC и Mail.ru Group разработчикам это знакомо. Особенно, начинающим.Кстати, для тех, кто только начинает свой путь в IT или хочет сменить направление - ловите курсы от онлайн-школы Skillbox со скидкой до 50%: https://lnkd.in/e9aYzVF#ityoutubersru #программирование #программист #разработка #shorts #microsoft #google\n",
      "\n",
      "\n",
      "Тема  9\n",
      "С радостью сообщаю, что я оказываю бизнес-услуги #OpenForBusiness. Просмотрите мою страницу услуг #datascience #machinelearning #bigdata #deeplearning #ai #linkedin #бизнес #data #dataanalytics #analytics #ml #artificialintelligence «Разработка и интеграция Data Science решений» «Разработка пользовательского ПО, Веб-разработка, Разработка приложений, Разработка баз данных, Составление технической документации, Разработка пользовательских интерфейсов, ИТ-консалтинг, Управление проектами» и «Разработка облачных приложений».\n",
      "\n",
      "\n"
     ]
    }
   ],
   "source": [
    "for i in range(n_topics):\n",
    "    doc_id = np.argmax(topics[:, i])\n",
    "    print(\"Тема \", i)\n",
    "    print(df.iloc[doc_id][\"post\"])\n",
    "    print(\"\\n\")"
   ]
  },
  {
   "cell_type": "markdown",
   "id": "9d396f94-6583-448c-aed2-b7affa82e3b4",
   "metadata": {},
   "source": [
    "Типичные статьи, в целом хорошо согласуются с ключевыми словами, которые мы выделили. Например, первая выделенная тема - про египтологию и археологию. \n",
    " В тоже время, мы видим и очень короткие тексты, например 4 и 14. Это подсказывает дальнейшие шаги. Например:\n",
    "  - удалить из корпуса текстов очень короткие статьи. Чтобы правильно задать порог отсечения, необходимо построить распределение текстов по длине.   - возможно, ключевыми словами, на которые ориентировался алгоритм, стали названия информационных агентств - РБК и ИТАР-ТАСС. Стоит подумать о том, чтобы добавить эти слова в стоп-лист. "
   ]
  },
  {
   "cell_type": "markdown",
   "id": "cde09df7-da5c-4002-9c6a-37d6b1ad39ea",
   "metadata": {},
   "source": [
    "А ещё вы всегда можете сделать шаг назад и дополнить модель. Например:\n",
    "- пополнить список стоп-слов (просмотрите внимательно ключевые слова каждой из тем - нет ли там случайных слов?);\n",
    "- изменить настройки Tf-idF;\n",
    "- увеличить/уменьшить количество тем;\n",
    "- обучать LDA чуть дольше;\n",
    "- заменить LDA на другой алгоритм тематического моделирояни."
   ]
  },
  {
   "cell_type": "markdown",
   "id": "a5d040dd-5988-4107-b009-bf71da05d794",
   "metadata": {},
   "source": [
    "# Полезные ссылки\n",
    "\n",
    "- [Вики](https://ru.wikipedia.org/wiki/%D0%A2%D0%B5%D0%BC%D0%B0%D1%82%D0%B8%D1%87%D0%B5%D1%81%D0%BA%D0%BE%D0%B5_%D0%BC%D0%BE%D0%B4%D0%B5%D0%BB%D0%B8%D1%80%D0%BE%D0%B2%D0%B0%D0%BD%D0%B8%D0%B5)\n",
    "\n",
    "- [История о том, как прочитать 120 тысяч анекдотов и не рассмеяться раньше времени](https://habr.com/ru/companies/otus/articles/723306/)\n",
    "\n",
    "- [Видеоурок \"Анализ текстовых данных тематическое моделирование комментариев Вконтакте\"](https://www.youtube.com/watch?v=0DnfzQdbwQw)\n",
    "\n",
    "- [LDA в Sklearn](https://scikit-learn.org/0.16/modules/generated/sklearn.lda.LDA.html)\n",
    "\n",
    "- [Topic Modeling разными алгоритмами](https://scikit-learn.org/stable/auto_examples/applications/plot_topics_extraction_with_nmf_lda.html#sphx-glr-auto-examples-applications-plot-topics-extraction-with-nmf-lda-py)\n",
    "\n",
    "- [Более академическое описание тематического моделировния](http://www.machinelearning.ru/wiki/index.php?title=%D0%A2%D0%B5%D0%BC%D0%B0%D1%82%D0%B8%D1%87%D0%B5%D1%81%D0%BA%D0%BE%D0%B5_%D0%BC%D0%BE%D0%B4%D0%B5%D0%BB%D0%B8%D1%80%D0%BE%D0%B2%D0%B0%D0%BD%D0%B8%D0%B5)"
   ]
  },
  {
   "cell_type": "code",
   "execution_count": null,
   "id": "d7641afc-f84a-4c3b-812c-d4f872338094",
   "metadata": {},
   "outputs": [],
   "source": []
  }
 ],
 "metadata": {
  "kernelspec": {
   "display_name": "Python 3 (ipykernel)",
   "language": "python",
   "name": "python3"
  },
  "language_info": {
   "codemirror_mode": {
    "name": "ipython",
    "version": 3
   },
   "file_extension": ".py",
   "mimetype": "text/x-python",
   "name": "python",
   "nbconvert_exporter": "python",
   "pygments_lexer": "ipython3",
   "version": "3.10.11"
  },
  "toc": {
   "base_numbering": 1,
   "nav_menu": {},
   "number_sections": true,
   "sideBar": true,
   "skip_h1_title": false,
   "title_cell": "Оглавление",
   "title_sidebar": "Содержание",
   "toc_cell": false,
   "toc_position": {},
   "toc_section_display": true,
   "toc_window_display": false
  },
  "toc-autonumbering": true,
  "varInspector": {
   "cols": {
    "lenName": 16,
    "lenType": 16,
    "lenVar": 40
   },
   "kernels_config": {
    "python": {
     "delete_cmd_postfix": "",
     "delete_cmd_prefix": "del ",
     "library": "var_list.py",
     "varRefreshCmd": "print(var_dic_list())"
    },
    "r": {
     "delete_cmd_postfix": ") ",
     "delete_cmd_prefix": "rm(",
     "library": "var_list.r",
     "varRefreshCmd": "cat(var_dic_list()) "
    }
   },
   "types_to_exclude": [
    "module",
    "function",
    "builtin_function_or_method",
    "instance",
    "_Feature"
   ],
   "window_display": false
  }
 },
 "nbformat": 4,
 "nbformat_minor": 5
}
