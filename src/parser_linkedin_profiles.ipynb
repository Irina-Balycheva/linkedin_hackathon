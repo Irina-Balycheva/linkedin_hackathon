{
 "cells": [
  {
   "cell_type": "markdown",
   "id": "3a4945da",
   "metadata": {},
   "source": [
    "# Код для получения списка профилей соотвествующих поисковым запросам в LinkedIn"
   ]
  },
  {
   "cell_type": "code",
   "execution_count": null,
   "id": "8483716a",
   "metadata": {
    "tags": []
   },
   "outputs": [],
   "source": [
    "import time\n",
    "import configparser\n",
    "import random\n",
    "import re\n",
    "import os.path\n",
    "\n",
    "import pandas as pd\n",
    "from bs4 import BeautifulSoup\n",
    "from selenium import webdriver\n",
    "from selenium.webdriver.common.by import By"
   ]
  },
  {
   "cell_type": "markdown",
   "id": "85d78d11",
   "metadata": {},
   "source": [
    "**Загружаем конфиг**"
   ]
  },
  {
   "cell_type": "code",
   "execution_count": null,
   "id": "e617131f",
   "metadata": {
    "tags": []
   },
   "outputs": [],
   "source": [
    "# путь к файлу расширения для Chrome \"Доступ к LinkedIn\"\n",
    "EXTENSION_PATH = '1.5_0.crx'\n",
    "\n",
    "# конфиг\n",
    "CFG_FILE = 'parser.ini'\n",
    "\n",
    "DATA_PATH = '../datasets/'\n",
    "\n",
    "\"\"\"\n",
    "файл конфигурации необходимо предварительно создать,\n",
    "формат файла parser.ini:\n",
    "[LINKEDIN]\n",
    "USER_LOGIN = эл_почта_без_кавычек\n",
    "USER_PASSWORD = пароль\n",
    "\"\"\";\n",
    "\n",
    "# загружаем данные из конфига\n",
    "conf = configparser.ConfigParser()\n",
    "try:\n",
    "    conf.read(CFG_FILE)\n",
    "    USER_LOGIN = conf['LINKEDIN']['USER_LOGIN']\n",
    "    USER_PASSWORD = conf['LINKEDIN']['USER_PASSWORD']\n",
    "except:\n",
    "    print(f'Не удалось прочитать файл конфигурации: {CFG_FILE}')"
   ]
  },
  {
   "cell_type": "markdown",
   "id": "e8e3ed83",
   "metadata": {},
   "source": [
    "**Общие процедуры и функции**"
   ]
  },
  {
   "cell_type": "code",
   "execution_count": null,
   "id": "1610defa",
   "metadata": {
    "code_folding": []
   },
   "outputs": [],
   "source": [
    "# формируем запрос на поиск людей по ключевым словам\n",
    "def search_people_url(keywords, tags, page_num=1):\n",
    "    \"\"\"\n",
    "    Функция на вход получает ключевые слова,\n",
    "    список тем публикаций для поиска и номер страницы.\n",
    "    Возвращает url для запроса страницы.\n",
    "    \"\"\"\n",
    "    # преобразуем теги\n",
    "    tags_str = str(tags).replace(\" \", \"\").replace(\"'\", '\"')\n",
    "    \n",
    "    # формируем строку запроса\n",
    "    search_url = 'https://www.linkedin.com/search/results/people/'\n",
    "    search_url += f'?keywords={keywords}'\n",
    "    search_url += '&origin=FACETED_SEARCH'\n",
    "    search_url += f'&page={page_num}'\n",
    "    search_url += '&profileLanguage=[\"ru\"]'\n",
    "    # темы публикаций (хештеги)\n",
    "    search_url += f'&talksAbout={tags_str}'\n",
    "    \n",
    "    return search_url"
   ]
  },
  {
   "cell_type": "code",
   "execution_count": null,
   "id": "c12cdf38",
   "metadata": {
    "code_folding": []
   },
   "outputs": [],
   "source": [
    "# получаем список профилей на странице\n",
    "def get_profiles(driver):\n",
    "    \"\"\"\n",
    "    Функция получает драйвер открытой страницы,\n",
    "    ищет ссылки на доступные профили пользователей и возвращает\n",
    "    список id пользователей.\n",
    "    \"\"\"\n",
    "    # список найденных профилей\n",
    "    profiles = []\n",
    "\n",
    "    # ищем на странице ссылки на профили\n",
    "    finded_profiles = driver.find_elements(\n",
    "        By.CSS_SELECTOR, \"span.entity-result__title-text a.app-aware-link\"\n",
    "    )\n",
    "    for profile in finded_profiles:\n",
    "        # получаем url на профиль пользователя\n",
    "        url = profile.get_attribute(\"href\")\n",
    "        # если url ссылается на доступный профиль\n",
    "        if 'linkedin.com/in' in url:\n",
    "            # оставляем только id профиля\n",
    "            profile_id = url.split('?')[0].split('/in/')[1]\n",
    "            # добавляем id в список\n",
    "            profiles.append(profile_id)\n",
    "\n",
    "    # избавляемся от дублей, если вдруг появятся\n",
    "    profiles = list(set(profiles))\n",
    "    return profiles"
   ]
  },
  {
   "cell_type": "markdown",
   "id": "9034d2b0",
   "metadata": {},
   "source": [
    "**Создаем и запускаем браузер**"
   ]
  },
  {
   "cell_type": "code",
   "execution_count": null,
   "id": "bf539023",
   "metadata": {},
   "outputs": [],
   "source": [
    "# подключаем расширение к драйверу\n",
    "options = webdriver.ChromeOptions()\n",
    "options.add_extension(EXTENSION_PATH)\n",
    "\n",
    "# меняем стратегию - ждать, пока свойство document.readyState примет значение interactive\n",
    "options.page_load_strategy = 'eager'\n",
    "\n",
    "# запускаем Chrome с расширением\n",
    "driver = webdriver.Chrome(options=options)"
   ]
  },
  {
   "cell_type": "markdown",
   "id": "4ef375a0",
   "metadata": {},
   "source": [
    "**Вход в LinkedIn**"
   ]
  },
  {
   "cell_type": "code",
   "execution_count": null,
   "id": "d8ae334e",
   "metadata": {
    "scrolled": false
   },
   "outputs": [],
   "source": [
    "# открываем страницу входа linkedIn, необходимо отключить двухфакторную аутонтификацию\n",
    "driver.get(\"https://linkedin.com/uas/login\")\n",
    "\n",
    "# ожидаем загрузку страницы\n",
    "time.sleep(3)\n",
    "\n",
    "# поле ввода имени пользователя\n",
    "username = driver.find_element(By.ID, \"username\")\n",
    "# вводим свой Email\n",
    "username.send_keys(USER_LOGIN)\n",
    "\n",
    "# поле ввода пароля\n",
    "pword = driver.find_element(By.ID, \"password\")\n",
    "# вводим пароль\n",
    "pword.send_keys(USER_PASSWORD)\n",
    "\n",
    "# нажимаем кнопку Войти\n",
    "driver.find_element(By.XPATH, \"//button[@type='submit']\").click()"
   ]
  },
  {
   "cell_type": "markdown",
   "id": "3f60c263",
   "metadata": {},
   "source": [
    "**Параметры парсинга**"
   ]
  },
  {
   "cell_type": "code",
   "execution_count": null,
   "id": "31d4f996",
   "metadata": {},
   "outputs": [],
   "source": [
    "# параметры поисковых запросов, теги, темы публикаций\n",
    "\n",
    "#KEYWORDS = 'разработка по'\n",
    "#TAGS = ['softwaredevelopment', 'webdevelopment', 'startup', 'it', 'design']\n",
    "#CSV_FILE_NAME = os.path.join(DATA_PATH, 'profiles_id_1.csv')\n",
    "\n",
    "#KEYWORDS = 'devops'\n",
    "#TAGS = ['devops', 'aws', 'python', 'cloud', 'kubernetes']\n",
    "#CSV_FILE_NAME = os.path.join(DATA_PATH, 'profiles_id_2.csv')\n",
    "\n",
    "#KEYWORDS = 'data science'\n",
    "#TAGS = ['datascience', 'machinelearning', 'ai', 'artificialintelligence', 'dataanalytics']\n",
    "#CSV_FILE_NAME = os.path.join(DATA_PATH, 'profiles_id_3.csv')\n",
    "\n",
    "#KEYWORDS = 'project management'\n",
    "#TAGS = ['projectmanagement', 'business', 'agile', 'scrum', 'it']\n",
    "#CSV_FILE_NAME = os.path.join(DATA_PATH, 'profiles_id_4.csv')\n",
    "\n",
    "KEYWORDS = 'design ui ux'\n",
    "TAGS = ['design', 'webdesign', 'ux', 'ui', 'uxdesign', 'uidesign']\n",
    "CSV_FILE_NAME = os.path.join(DATA_PATH, 'profiles_id_5.csv')"
   ]
  },
  {
   "cell_type": "markdown",
   "id": "0f4168dc",
   "metadata": {},
   "source": [
    "**Собираем ID пользователей**"
   ]
  },
  {
   "cell_type": "code",
   "execution_count": null,
   "id": "f9c8deec",
   "metadata": {
    "scrolled": true
   },
   "outputs": [],
   "source": [
    "# число страниц для парсинга, в бесплатном аккаунте доступно не более 100\n",
    "NUM_PAGES = 100\n",
    "\n",
    "# пустой датафрейм для id пользователей\n",
    "df = pd.DataFrame(columns=['id'])\n",
    "\n",
    "for page_num in range(1, NUM_PAGES+1):\n",
    "    \n",
    "    # выводим номер страницы, в случае сбоя можно будет начать новый парсинг с нее\n",
    "    print(page_num, end='  ')\n",
    "    \n",
    "    # формируем url запроса\n",
    "    people_url = search_people_url(KEYWORDS, TAGS, page_num=page_num)\n",
    "    \n",
    "    # запрашиваем и открываем страницу\n",
    "    driver.get(people_url)\n",
    "    \n",
    "    # получаем и добавляем список найденных id профилей на странице\n",
    "    profiles_id = get_profiles(driver)\n",
    "    \n",
    "    # добавляем данные в датафрейм\n",
    "    df = pd.concat(\n",
    "        [df, pd.DataFrame({'id': profiles_id})]\n",
    "    ).reset_index(drop=True)\n",
    "    \n",
    "    # сохраняем в CSV\n",
    "    df.to_csv(CSV_FILE_NAME)\n",
    "\n",
    "    time.sleep(random.uniform(3, 5))"
   ]
  },
  {
   "cell_type": "code",
   "execution_count": null,
   "id": "3dbd8a82",
   "metadata": {},
   "outputs": [],
   "source": [
    "# закрываем браузер\n",
    "driver.quit()"
   ]
  },
  {
   "cell_type": "markdown",
   "id": "1a37912a",
   "metadata": {},
   "source": [
    "**Результат**"
   ]
  },
  {
   "cell_type": "code",
   "execution_count": null,
   "id": "b683fcc4",
   "metadata": {},
   "outputs": [],
   "source": [
    "# профили\n",
    "df.info()"
   ]
  },
  {
   "cell_type": "code",
   "execution_count": null,
   "id": "b2876ce1",
   "metadata": {},
   "outputs": [],
   "source": []
  }
 ],
 "metadata": {
  "kernelspec": {
   "display_name": "Python 3 (ipykernel)",
   "language": "python",
   "name": "python3"
  },
  "language_info": {
   "codemirror_mode": {
    "name": "ipython",
    "version": 3
   },
   "file_extension": ".py",
   "mimetype": "text/x-python",
   "name": "python",
   "nbconvert_exporter": "python",
   "pygments_lexer": "ipython3",
   "version": "3.10.11"
  },
  "toc": {
   "base_numbering": 1,
   "nav_menu": {},
   "number_sections": false,
   "sideBar": true,
   "skip_h1_title": false,
   "title_cell": "Содержание",
   "title_sidebar": "Оглавление",
   "toc_cell": false,
   "toc_position": {
    "height": "calc(100% - 180px)",
    "left": "10px",
    "top": "150px",
    "width": "294.55px"
   },
   "toc_section_display": true,
   "toc_window_display": false
  },
  "toc-autonumbering": false,
  "toc-showcode": false,
  "toc-showmarkdowntxt": false,
  "varInspector": {
   "cols": {
    "lenName": 16,
    "lenType": 16,
    "lenVar": 40
   },
   "kernels_config": {
    "python": {
     "delete_cmd_postfix": "",
     "delete_cmd_prefix": "del ",
     "library": "var_list.py",
     "varRefreshCmd": "print(var_dic_list())"
    },
    "r": {
     "delete_cmd_postfix": ") ",
     "delete_cmd_prefix": "rm(",
     "library": "var_list.r",
     "varRefreshCmd": "cat(var_dic_list()) "
    }
   },
   "position": {
    "height": "187.85px",
    "left": "889.4px",
    "right": "20px",
    "top": "113px",
    "width": "320.4px"
   },
   "types_to_exclude": [
    "module",
    "function",
    "builtin_function_or_method",
    "instance",
    "_Feature"
   ],
   "window_display": false
  }
 },
 "nbformat": 4,
 "nbformat_minor": 5
}
