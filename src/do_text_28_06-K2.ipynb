{
 "cells": [
  {
   "cell_type": "code",
   "execution_count": 1,
   "id": "3998aa68",
   "metadata": {},
   "outputs": [],
   "source": [
    "# pip install pymorphy2 >> None"
   ]
  },
  {
   "cell_type": "code",
   "execution_count": 2,
   "id": "72e004e1",
   "metadata": {},
   "outputs": [],
   "source": [
    "import pandas as pd\n",
    "import numpy as np\n",
    "import os\n",
    "import re\n",
    "import pymorphy2\n",
    "import nltk\n",
    "from nltk.corpus import stopwords\n",
    "import matplotlib.pyplot as plt\n",
    "from sklearn.decomposition import LatentDirichletAllocation\n",
    "from sklearn.feature_extraction.text import TfidfVectorizer\n",
    "from nltk.corpus import stopwords\n",
    "pd.set_option('display.max_rows', None)\n",
    "pd.set_option('display.max_columns', None)\n",
    "pd.set_option('display.max_colwidth', None)"
   ]
  },
  {
   "cell_type": "code",
   "execution_count": 3,
   "id": "28aabe56",
   "metadata": {},
   "outputs": [],
   "source": [
    "# задаем директорию\n",
    "file_path = '../datasets/'"
   ]
  },
  {
   "cell_type": "code",
   "execution_count": 4,
   "id": "4288a377",
   "metadata": {},
   "outputs": [],
   "source": [
    "# открываем файлы с данными\n",
    "posts = pd.read_csv(os.path.join(file_path, 'posts.csv'), index_col=0)\n",
    "profiles = pd.read_csv(os.path.join(file_path, 'profiles.csv'), index_col=0)"
   ]
  },
  {
   "cell_type": "code",
   "execution_count": 5,
   "id": "b44e2892",
   "metadata": {},
   "outputs": [
    {
     "data": {
      "text/html": [
       "<div>\n",
       "<style scoped>\n",
       "    .dataframe tbody tr th:only-of-type {\n",
       "        vertical-align: middle;\n",
       "    }\n",
       "\n",
       "    .dataframe tbody tr th {\n",
       "        vertical-align: top;\n",
       "    }\n",
       "\n",
       "    .dataframe thead th {\n",
       "        text-align: right;\n",
       "    }\n",
       "</style>\n",
       "<table border=\"1\" class=\"dataframe\">\n",
       "  <thead>\n",
       "    <tr style=\"text-align: right;\">\n",
       "      <th></th>\n",
       "      <th>user_id</th>\n",
       "      <th>text</th>\n",
       "      <th>likes</th>\n",
       "      <th>comments</th>\n",
       "      <th>reposts</th>\n",
       "    </tr>\n",
       "  </thead>\n",
       "  <tbody>\n",
       "    <tr>\n",
       "      <th>0</th>\n",
       "      <td>ali-wodan</td>\n",
       "      <td>Кстати говоря. Теперь подкаст Миражи доступен в соцсети Вконтакте: https://lnkd.in/gKkrJX9Я наконец разобрался как туда прикрутить RSS :-) #podcast #миражи</td>\n",
       "      <td>1</td>\n",
       "      <td>0</td>\n",
       "      <td>0</td>\n",
       "    </tr>\n",
       "    <tr>\n",
       "      <th>1</th>\n",
       "      <td>ali-wodan</td>\n",
       "      <td>I’m #hiring. Know anyone who might be interested?</td>\n",
       "      <td>1</td>\n",
       "      <td>0</td>\n",
       "      <td>0</td>\n",
       "    </tr>\n",
       "  </tbody>\n",
       "</table>\n",
       "</div>"
      ],
      "text/plain": [
       "     user_id  \\\n",
       "0  ali-wodan   \n",
       "1  ali-wodan   \n",
       "\n",
       "                                                                                                                                                          text  \\\n",
       "0  Кстати говоря. Теперь подкаст Миражи доступен в соцсети Вконтакте: https://lnkd.in/gKkrJX9Я наконец разобрался как туда прикрутить RSS :-) #podcast #миражи   \n",
       "1                                                                                                            I’m #hiring. Know anyone who might be interested?   \n",
       "\n",
       "  likes  comments  reposts  \n",
       "0     1         0        0  \n",
       "1     1         0        0  "
      ]
     },
     "execution_count": 5,
     "metadata": {},
     "output_type": "execute_result"
    }
   ],
   "source": [
    "# открываем датафрейм с постами\n",
    "posts.head(2)"
   ]
  },
  {
   "cell_type": "code",
   "execution_count": 6,
   "id": "c6d0477d",
   "metadata": {
    "scrolled": true
   },
   "outputs": [
    {
     "data": {
      "text/html": [
       "<div>\n",
       "<style scoped>\n",
       "    .dataframe tbody tr th:only-of-type {\n",
       "        vertical-align: middle;\n",
       "    }\n",
       "\n",
       "    .dataframe tbody tr th {\n",
       "        vertical-align: top;\n",
       "    }\n",
       "\n",
       "    .dataframe thead th {\n",
       "        text-align: right;\n",
       "    }\n",
       "</style>\n",
       "<table border=\"1\" class=\"dataframe\">\n",
       "  <thead>\n",
       "    <tr style=\"text-align: right;\">\n",
       "      <th></th>\n",
       "      <th>id</th>\n",
       "      <th>user_name</th>\n",
       "      <th>user_head</th>\n",
       "      <th>user_work</th>\n",
       "      <th>user_position</th>\n",
       "      <th>user_tags</th>\n",
       "      <th>user_location</th>\n",
       "      <th>user_viewers</th>\n",
       "      <th>user_contacts</th>\n",
       "      <th>user_common_info</th>\n",
       "    </tr>\n",
       "  </thead>\n",
       "  <tbody>\n",
       "    <tr>\n",
       "      <th>0</th>\n",
       "      <td>ali-wodan</td>\n",
       "      <td>Ali Wodan</td>\n",
       "      <td>Head of Design</td>\n",
       "      <td>Performix</td>\n",
       "      <td>Head Of Design</td>\n",
       "      <td>podcast, it</td>\n",
       "      <td>Москва, Московская область, Россия</td>\n",
       "      <td>2 391</td>\n",
       "      <td>500+</td>\n",
       "      <td>I am a digital product design lead. I've been designing digital systems for years. Teams creating, management, design process building, user research, analytics etc. it's all that i like to do. Also I am into psychology, music, philosophy.</td>\n",
       "    </tr>\n",
       "    <tr>\n",
       "      <th>1</th>\n",
       "      <td>ikotow</td>\n",
       "      <td>Игорь Котов</td>\n",
       "      <td>Директор по производству – Технократия</td>\n",
       "      <td>Технократия</td>\n",
       "      <td>Технократия</td>\n",
       "      <td>it, обучение, менеджмент, технологии, производство</td>\n",
       "      <td>Казань, Республика Татарстан, Россия</td>\n",
       "      <td>340</td>\n",
       "      <td>338</td>\n",
       "      <td>Making IT production great again! Создатель сервиса для управления ресурсами: Resourcer.appМой telegram-канал: https://t.me/pastikotow</td>\n",
       "    </tr>\n",
       "  </tbody>\n",
       "</table>\n",
       "</div>"
      ],
      "text/plain": [
       "          id    user_name                               user_head  \\\n",
       "0  ali-wodan    Ali Wodan                          Head of Design   \n",
       "1     ikotow  Игорь Котов  Директор по производству – Технократия   \n",
       "\n",
       "     user_work   user_position  \\\n",
       "0    Performix  Head Of Design   \n",
       "1  Технократия     Технократия   \n",
       "\n",
       "                                            user_tags  \\\n",
       "0                                         podcast, it   \n",
       "1  it, обучение, менеджмент, технологии, производство   \n",
       "\n",
       "                          user_location user_viewers user_contacts  \\\n",
       "0    Москва, Московская область, Россия        2 391          500+   \n",
       "1  Казань, Республика Татарстан, Россия          340           338   \n",
       "\n",
       "                                                                                                                                                                                                                                  user_common_info  \n",
       "0  I am a digital product design lead. I've been designing digital systems for years. Teams creating, management, design process building, user research, analytics etc. it's all that i like to do. Also I am into psychology, music, philosophy.  \n",
       "1                                                                                                           Making IT production great again! Создатель сервиса для управления ресурсами: Resourcer.appМой telegram-канал: https://t.me/pastikotow  "
      ]
     },
     "execution_count": 6,
     "metadata": {},
     "output_type": "execute_result"
    }
   ],
   "source": [
    "# открываем датафрейм с информацией о пользователях\n",
    "profiles.head(2)"
   ]
  },
  {
   "cell_type": "code",
   "execution_count": 7,
   "id": "335ccc00",
   "metadata": {},
   "outputs": [],
   "source": [
    "# переименуем столбец text в post для лучшего отражения содержимого\n",
    "posts = posts.rename(columns={'text': 'post'})"
   ]
  },
  {
   "cell_type": "markdown",
   "id": "8795f831",
   "metadata": {},
   "source": [
    "**Предобработка данных**"
   ]
  },
  {
   "cell_type": "code",
   "execution_count": 8,
   "id": "b733189b",
   "metadata": {},
   "outputs": [],
   "source": [
    "# функция удаления эмодзи\n",
    "def remove_emojis(text):\n",
    "    emoji_pattern = re.compile(\"[\"\n",
    "                               u\"\\U0001F600-\\U0001F64F\"  # смайлики\n",
    "                               u\"\\U0001F300-\\U0001F5FF\"  # символы и пиктограммы\n",
    "                               u\"\\U0001F680-\\U0001F6FF\"  # транспорт и символы на карте\n",
    "                               u\"\\U0001F1E0-\\U0001F1FF\"  # флаги\n",
    "                               u\"\\U00002500-\\U00002BEF\"  # китайские символы\n",
    "                               # другие разные символы\n",
    "                               u\"\\U00002702-\\U000027B0\"\n",
    "                               u\"\\U00002702-\\U000027B0\"\n",
    "                               u\"\\U000024C2-\\U0001F251\"\n",
    "                               u\"\\U0001f926-\\U0001f937\"\n",
    "                               u\"\\U00010000-\\U0010ffff\"\n",
    "                               u\"\\u2640-\\u2642\" \n",
    "                               u\"\\u2600-\\u2B55\"\n",
    "                               u\"\\u200d\"\n",
    "                               u\"\\u23cf\"\n",
    "                               u\"\\u23e9\"\n",
    "                               u\"\\u231a\"\n",
    "                               u\"\\ufe0f\"  \n",
    "                               u\"\\u3030\"\n",
    "                               \"]+\", flags=re.UNICODE)\n",
    "    # Удаляем эмодзи, используя паттерны\n",
    "    text_without_emojis = emoji_pattern.sub(r'', text)\n",
    "    return text_without_emojis\n",
    "\n",
    "# удаляем эмодзи из постов\n",
    "posts['post'] = posts['post'].apply(lambda x: remove_emojis(x) if pd.notnull(x) else x)"
   ]
  },
  {
   "cell_type": "code",
   "execution_count": 9,
   "id": "8a349268",
   "metadata": {},
   "outputs": [],
   "source": [
    "# удалим посты на украинском языке\n",
    "# определяем шаблон для украинских символов (по специфичным для данного языка символам)\n",
    "ukrainian_pattern = r'[ЄєІіЇїҐґ]'\n",
    "\n",
    "# создаем маску, указывающую строки, в которых столбец \"post\" содержит текст на украинском языке\n",
    "mask = posts['post'].str.contains(ukrainian_pattern, regex=True, na=False)\n",
    "\n",
    "# сохраняем в датафрейме только строки, в которых маска имеет значение False\n",
    "posts = posts[~mask]"
   ]
  },
  {
   "cell_type": "code",
   "execution_count": 10,
   "id": "715c1d32",
   "metadata": {},
   "outputs": [],
   "source": [
    "# сохраняем хэштэги в отдельный столбец перед их удалением из постов\n",
    "posts['hashtags'] = posts['post'].str.findall(r'#([^\\s]+)').apply(lambda x: ', '.join(x))"
   ]
  },
  {
   "cell_type": "code",
   "execution_count": 11,
   "id": "ce2c5ba3",
   "metadata": {},
   "outputs": [
    {
     "name": "stdout",
     "output_type": "stream",
     "text": [
      "CPU times: total: 2min 5s\n",
      "Wall time: 2min 9s\n"
     ]
    }
   ],
   "source": [
    "%%time\n",
    "# функция лемматизации текста\n",
    "morph = pymorphy2.MorphAnalyzer()\n",
    "def lemmatize_text(text):\n",
    "    lemmatized_words = [morph.parse(word)[0].normal_form for word in text.split()]\n",
    "    return ' '.join(lemmatized_words)\n",
    "\n",
    "# лемматизируем посты\n",
    "posts['post_lemmatized'] = posts['post'].apply(lemmatize_text)"
   ]
  },
  {
   "cell_type": "code",
   "execution_count": 12,
   "id": "a062cfed",
   "metadata": {},
   "outputs": [],
   "source": [
    "# удаляем слова, которые идут после хэш-тэга\n",
    "posts['post_lemmatized'] = posts['post_lemmatized'].apply(lambda x: re.sub(r'#[^\\s]+', ' ', x))"
   ]
  },
  {
   "cell_type": "code",
   "execution_count": 13,
   "id": "b807d2ec",
   "metadata": {},
   "outputs": [],
   "source": [
    "# производим замену дефиса на пробел\n",
    "posts[\"post_lemmatized\"] = posts[\"post_lemmatized\"].str.replace(\"-\", \" \")"
   ]
  },
  {
   "cell_type": "code",
   "execution_count": 14,
   "id": "594cade3",
   "metadata": {},
   "outputs": [],
   "source": [
    "# удаляем лишние текстовые символы (те, которые не состоят из букв русского алфавита)\n",
    "# только русские буквы и пробелы\n",
    "posts['post_lemmatized'] = posts['post_lemmatized'].str.replace('[^а-яА-ЯёЁ\\s]', ' ', regex=True) "
   ]
  },
  {
   "cell_type": "code",
   "execution_count": 15,
   "id": "c6980981",
   "metadata": {},
   "outputs": [
    {
     "name": "stderr",
     "output_type": "stream",
     "text": [
      "[nltk_data] Downloading package stopwords to\n",
      "[nltk_data]     C:\\Users\\Alex\\AppData\\Roaming\\nltk_data...\n",
      "[nltk_data]   Package stopwords is already up-to-date!\n"
     ]
    }
   ],
   "source": [
    "# скачиваем стоп-слова \n",
    "nltk.download('stopwords')\n",
    "stop_words = set(stopwords.words('russian'))\n",
    "\n",
    "# еще один список от bukvarix.com - список стоп-слов Яндекс Wordstat - (этот список можно дополнить/изменить)\n",
    "file_path_words = os.path.join(file_path, 'stop_words.txt')\n",
    "with open(file_path_words, 'r', encoding='utf-8') as file:\n",
    "    stop_words_buk = file.read()"
   ]
  },
  {
   "cell_type": "code",
   "execution_count": 16,
   "id": "4a6eb273",
   "metadata": {},
   "outputs": [],
   "source": [
    "# удаляем стоп-слова и слова-паразиты\n",
    "posts['post_lemmatized'] = posts['post_lemmatized'].apply(lambda x: ' '.join([word for word in x.split() if word not in stop_words]))\n",
    "posts['post_lemmatized'] = posts['post_lemmatized'].apply(lambda x: ' '.join([word for word in x.split() if word.lower() not in stop_words_buk]))"
   ]
  },
  {
   "cell_type": "code",
   "execution_count": 17,
   "id": "d326e369",
   "metadata": {},
   "outputs": [],
   "source": [
    "'''если НЕ оставляем в постах английские слова'''\n",
    "# определяем шаблон регулярного выражения для русских букв\n",
    "pattern = '[^а-яА-ЯёЁ]'\n",
    "# создаем маску, чтобы проверить, содержит ли каждая ячейка русские буквы\n",
    "mask = posts['post_lemmatized'].str.contains(pattern, regex=True)\n",
    "# фильтруем датафрейм, используя маску\n",
    "posts = posts[mask]"
   ]
  },
  {
   "cell_type": "code",
   "execution_count": 18,
   "id": "839fa6a6",
   "metadata": {},
   "outputs": [
    {
     "data": {
      "text/html": [
       "<div>\n",
       "<style scoped>\n",
       "    .dataframe tbody tr th:only-of-type {\n",
       "        vertical-align: middle;\n",
       "    }\n",
       "\n",
       "    .dataframe tbody tr th {\n",
       "        vertical-align: top;\n",
       "    }\n",
       "\n",
       "    .dataframe thead th {\n",
       "        text-align: right;\n",
       "    }\n",
       "</style>\n",
       "<table border=\"1\" class=\"dataframe\">\n",
       "  <thead>\n",
       "    <tr style=\"text-align: right;\">\n",
       "      <th></th>\n",
       "      <th>user_id</th>\n",
       "      <th>post</th>\n",
       "      <th>likes</th>\n",
       "      <th>comments</th>\n",
       "      <th>reposts</th>\n",
       "      <th>hashtags</th>\n",
       "      <th>post_lemmatized</th>\n",
       "    </tr>\n",
       "  </thead>\n",
       "  <tbody>\n",
       "    <tr>\n",
       "      <th>0</th>\n",
       "      <td>ali-wodan</td>\n",
       "      <td>Кстати говоря. Теперь подкаст Миражи доступен в соцсети Вконтакте: https://lnkd.in/gKkrJX9Я наконец разобрался как туда прикрутить RSS :-) #podcast #миражи</td>\n",
       "      <td>1</td>\n",
       "      <td>0</td>\n",
       "      <td>0</td>\n",
       "      <td>podcast, миражи</td>\n",
       "      <td>говоря подкаст мираж доступный соцсеть вконтакте разобраться прикрутить</td>\n",
       "    </tr>\n",
       "    <tr>\n",
       "      <th>2</th>\n",
       "      <td>ali-wodan</td>\n",
       "      <td>Хэй честной народ! Ищу векторного иллюстратора на проект, с возможным длительным сотрудничеством по итогу. Можно удаленно. Уровень иллюстраций не хуже чем в примере https://lnkd.in/gkrvhxYРепост, пожалуйста)Если ты умеешь так рисовать, напиши мне в личку :-)Hey! I am looking for an Illustrator who can help us with a project! You need to have skills like in the example below or upper. Text me to discuss prices and due :-)#вакансия #vacancy #illustration #иллюстрация #project #проект</td>\n",
       "      <td>6</td>\n",
       "      <td>0</td>\n",
       "      <td>0</td>\n",
       "      <td>вакансия, vacancy, illustration, иллюстрация, project, проект</td>\n",
       "      <td>честной народ искать векторный иллюстратор проект возможный длительный сотрудничество итогу удаленно уровень иллюстрация пример репост ести уметь рисовать написать личка</td>\n",
       "    </tr>\n",
       "    <tr>\n",
       "      <th>3</th>\n",
       "      <td>ali-wodan</td>\n",
       "      <td>Новый пост подкаста \"Миражи\" на всех платформах:В аудио: https://lnkd.in/giWuSVNВ инстаграме: https://lnkd.in/gbV6yxKН #automotive # # #cars #а патреоне: https://lnkd.in/gfShqTU#саморазвитие #психология #психологиячеловека #психологияжизни #психологияличности #личностныйрост #подкаст #подкастмиражи #маркетинг #осознанность #мысли #мысливслух #установки #влияние #подсознаниеИспользованные звуки, музыка и картинки:Аудиоцитата из фильма \"Формула любви\" Марка ЗахароваJardins du Luxembourg by Jahzzar is licensed under a Attribution-ShareAlike 3.0 International License.prisoner by Luis Prado from the Noun Project</td>\n",
       "      <td>1</td>\n",
       "      <td>0</td>\n",
       "      <td>0</td>\n",
       "      <td>automotive, cars, а, саморазвитие, психология, психологиячеловека, психологияжизни, психологияличности, личностныйрост, подкаст, подкастмиражи, маркетинг, осознанность, мысли, мысливслух, установки, влияние, подсознаниеИспользованные</td>\n",
       "      <td>пост подкаст миражи платформах аудио инстаграме патреоне звуки музыка картинки аудиоцитат фильм формула любви марк захарова</td>\n",
       "    </tr>\n",
       "    <tr>\n",
       "      <th>4</th>\n",
       "      <td>ali-wodan</td>\n",
       "      <td>Подкаст Миражи, Эпизод 13Ошибка невозвратных затратpodcast.ru/1539345144#подкаст #podcast #it #podcasts #psychology #психология #miragespodcast</td>\n",
       "      <td>2</td>\n",
       "      <td>0</td>\n",
       "      <td>0</td>\n",
       "      <td>подкаст, podcast, it, podcasts, psychology, психология, miragespodcast</td>\n",
       "      <td>подкаст миражи эпизод ошибка невозвратный затрат</td>\n",
       "    </tr>\n",
       "    <tr>\n",
       "      <th>5</th>\n",
       "      <td>ali-wodan</td>\n",
       "      <td>Новый эпизод об эффекте ИКЕА на всех платформах podcast.ru/1539345144</td>\n",
       "      <td>1</td>\n",
       "      <td>0</td>\n",
       "      <td>0</td>\n",
       "      <td></td>\n",
       "      <td>эпизод эффект икеа платформа</td>\n",
       "    </tr>\n",
       "  </tbody>\n",
       "</table>\n",
       "</div>"
      ],
      "text/plain": [
       "     user_id  \\\n",
       "0  ali-wodan   \n",
       "2  ali-wodan   \n",
       "3  ali-wodan   \n",
       "4  ali-wodan   \n",
       "5  ali-wodan   \n",
       "\n",
       "                                                                                                                                                                                                                                                                                                                                                                                                                                                                                                                                                                                                                                     post  \\\n",
       "0                                                                                                                                                                                                                                                                                                                                                                                                                                                                             Кстати говоря. Теперь подкаст Миражи доступен в соцсети Вконтакте: https://lnkd.in/gKkrJX9Я наконец разобрался как туда прикрутить RSS :-) #podcast #миражи   \n",
       "2                                                                                                                                  Хэй честной народ! Ищу векторного иллюстратора на проект, с возможным длительным сотрудничеством по итогу. Можно удаленно. Уровень иллюстраций не хуже чем в примере https://lnkd.in/gkrvhxYРепост, пожалуйста)Если ты умеешь так рисовать, напиши мне в личку :-)Hey! I am looking for an Illustrator who can help us with a project! You need to have skills like in the example below or upper. Text me to discuss prices and due :-)#вакансия #vacancy #illustration #иллюстрация #project #проект   \n",
       "3  Новый пост подкаста \"Миражи\" на всех платформах:В аудио: https://lnkd.in/giWuSVNВ инстаграме: https://lnkd.in/gbV6yxKН #automotive # # #cars #а патреоне: https://lnkd.in/gfShqTU#саморазвитие #психология #психологиячеловека #психологияжизни #психологияличности #личностныйрост #подкаст #подкастмиражи #маркетинг #осознанность #мысли #мысливслух #установки #влияние #подсознаниеИспользованные звуки, музыка и картинки:Аудиоцитата из фильма \"Формула любви\" Марка ЗахароваJardins du Luxembourg by Jahzzar is licensed under a Attribution-ShareAlike 3.0 International License.prisoner by Luis Prado from the Noun Project   \n",
       "4                                                                                                                                                                                                                                                                                                                                                                                                                                                                                         Подкаст Миражи, Эпизод 13Ошибка невозвратных затратpodcast.ru/1539345144#подкаст #podcast #it #podcasts #psychology #психология #miragespodcast   \n",
       "5                                                                                                                                                                                                                                                                                                                                                                                                                                                                                                                                                                   Новый эпизод об эффекте ИКЕА на всех платформах podcast.ru/1539345144   \n",
       "\n",
       "  likes  comments  reposts  \\\n",
       "0     1         0        0   \n",
       "2     6         0        0   \n",
       "3     1         0        0   \n",
       "4     2         0        0   \n",
       "5     1         0        0   \n",
       "\n",
       "                                                                                                                                                                                                                                    hashtags  \\\n",
       "0                                                                                                                                                                                                                            podcast, миражи   \n",
       "2                                                                                                                                                                              вакансия, vacancy, illustration, иллюстрация, project, проект   \n",
       "3  automotive, cars, а, саморазвитие, психология, психологиячеловека, психологияжизни, психологияличности, личностныйрост, подкаст, подкастмиражи, маркетинг, осознанность, мысли, мысливслух, установки, влияние, подсознаниеИспользованные   \n",
       "4                                                                                                                                                                     подкаст, podcast, it, podcasts, psychology, психология, miragespodcast   \n",
       "5                                                                                                                                                                                                                                              \n",
       "\n",
       "                                                                                                                                                             post_lemmatized  \n",
       "0                                                                                                    говоря подкаст мираж доступный соцсеть вконтакте разобраться прикрутить  \n",
       "2  честной народ искать векторный иллюстратор проект возможный длительный сотрудничество итогу удаленно уровень иллюстрация пример репост ести уметь рисовать написать личка  \n",
       "3                                                пост подкаст миражи платформах аудио инстаграме патреоне звуки музыка картинки аудиоцитат фильм формула любви марк захарова  \n",
       "4                                                                                                                           подкаст миражи эпизод ошибка невозвратный затрат  \n",
       "5                                                                                                                                               эпизод эффект икеа платформа  "
      ]
     },
     "execution_count": 18,
     "metadata": {},
     "output_type": "execute_result"
    }
   ],
   "source": [
    "posts.head()"
   ]
  },
  {
   "cell_type": "code",
   "execution_count": 19,
   "id": "06697bb2",
   "metadata": {
    "scrolled": true
   },
   "outputs": [
    {
     "name": "stdout",
     "output_type": "stream",
     "text": [
      "<class 'pandas.core.frame.DataFrame'>\n",
      "Index: 2275 entries, 0 to 8894\n",
      "Data columns (total 7 columns):\n",
      " #   Column           Non-Null Count  Dtype \n",
      "---  ------           --------------  ----- \n",
      " 0   user_id          2275 non-null   object\n",
      " 1   post             2275 non-null   object\n",
      " 2   likes            2275 non-null   object\n",
      " 3   comments         2275 non-null   int64 \n",
      " 4   reposts          2275 non-null   int64 \n",
      " 5   hashtags         2275 non-null   object\n",
      " 6   post_lemmatized  2275 non-null   object\n",
      "dtypes: int64(2), object(5)\n",
      "memory usage: 142.2+ KB\n"
     ]
    }
   ],
   "source": [
    "posts.info()"
   ]
  },
  {
   "cell_type": "markdown",
   "id": "e57876ed",
   "metadata": {},
   "source": [
    "Объединяем датафреймы"
   ]
  },
  {
   "cell_type": "code",
   "execution_count": 20,
   "id": "6c805aa9",
   "metadata": {},
   "outputs": [],
   "source": [
    "# переименуем столбец id в user_id в датафрейме profiles, для последующего объединения с posts\n",
    "profiles = profiles.rename(columns={'id': 'user_id'})"
   ]
  },
  {
   "cell_type": "code",
   "execution_count": 21,
   "id": "56fdc9f2",
   "metadata": {},
   "outputs": [],
   "source": [
    "# объединяем датафреймы\n",
    "df = pd.merge(posts, profiles, on='user_id')"
   ]
  },
  {
   "cell_type": "code",
   "execution_count": 22,
   "id": "18c78b8f",
   "metadata": {},
   "outputs": [],
   "source": [
    "# удаляем дубликаты\n",
    "df.drop_duplicates(inplace=True)"
   ]
  },
  {
   "cell_type": "code",
   "execution_count": 23,
   "id": "9eddf485",
   "metadata": {},
   "outputs": [],
   "source": [
    "# удаляем из столбца likes точки, запятые и пробелы\n",
    "df[\"likes\"] = df[\"likes\"].replace(r'\\.|\\,|\\s', '', regex=True)\n",
    "\n",
    "# меняем тип данных сотлбца likes на integer\n",
    "df[\"likes\"] = df[\"likes\"].astype(\"int64\")"
   ]
  },
  {
   "cell_type": "code",
   "execution_count": 24,
   "id": "58f5fe96",
   "metadata": {
    "scrolled": false
   },
   "outputs": [
    {
     "name": "stdout",
     "output_type": "stream",
     "text": [
      "<class 'pandas.core.frame.DataFrame'>\n",
      "Index: 2264 entries, 0 to 2274\n",
      "Data columns (total 16 columns):\n",
      " #   Column            Non-Null Count  Dtype \n",
      "---  ------            --------------  ----- \n",
      " 0   user_id           2264 non-null   object\n",
      " 1   post              2264 non-null   object\n",
      " 2   likes             2264 non-null   int64 \n",
      " 3   comments          2264 non-null   int64 \n",
      " 4   reposts           2264 non-null   int64 \n",
      " 5   hashtags          2264 non-null   object\n",
      " 6   post_lemmatized   2264 non-null   object\n",
      " 7   user_name         2264 non-null   object\n",
      " 8   user_head         2264 non-null   object\n",
      " 9   user_work         2176 non-null   object\n",
      " 10  user_position     2264 non-null   object\n",
      " 11  user_tags         574 non-null    object\n",
      " 12  user_location     2257 non-null   object\n",
      " 13  user_viewers      2264 non-null   object\n",
      " 14  user_contacts     2264 non-null   object\n",
      " 15  user_common_info  2075 non-null   object\n",
      "dtypes: int64(3), object(13)\n",
      "memory usage: 300.7+ KB\n"
     ]
    }
   ],
   "source": [
    "df.info()"
   ]
  },
  {
   "cell_type": "code",
   "execution_count": 25,
   "id": "aa8b402a",
   "metadata": {},
   "outputs": [],
   "source": [
    "# Сохраняем датафрейм\n",
    "df.to_csv(os.path.join(file_path, 'linkedin.csv'))\n",
    "\n",
    "# Сохраняем датафрейм лемматизации\n",
    "df[[\n",
    "    'user_id', 'post', 'post_lemmatized', 'likes', 'comments', 'reposts', 'hashtags'\n",
    "]].to_csv(os.path.join(file_path, 'post_lemmatized.csv'))"
   ]
  },
  {
   "cell_type": "code",
   "execution_count": 26,
   "id": "786b5101",
   "metadata": {},
   "outputs": [
    {
     "data": {
      "text/html": [
       "<div>\n",
       "<style scoped>\n",
       "    .dataframe tbody tr th:only-of-type {\n",
       "        vertical-align: middle;\n",
       "    }\n",
       "\n",
       "    .dataframe tbody tr th {\n",
       "        vertical-align: top;\n",
       "    }\n",
       "\n",
       "    .dataframe thead th {\n",
       "        text-align: right;\n",
       "    }\n",
       "</style>\n",
       "<table border=\"1\" class=\"dataframe\">\n",
       "  <thead>\n",
       "    <tr style=\"text-align: right;\">\n",
       "      <th></th>\n",
       "      <th>user_id</th>\n",
       "      <th>post</th>\n",
       "      <th>likes</th>\n",
       "      <th>comments</th>\n",
       "      <th>reposts</th>\n",
       "      <th>hashtags</th>\n",
       "      <th>post_lemmatized</th>\n",
       "      <th>user_name</th>\n",
       "      <th>user_head</th>\n",
       "      <th>user_work</th>\n",
       "      <th>user_position</th>\n",
       "      <th>user_tags</th>\n",
       "      <th>user_location</th>\n",
       "      <th>user_viewers</th>\n",
       "      <th>user_contacts</th>\n",
       "      <th>user_common_info</th>\n",
       "    </tr>\n",
       "  </thead>\n",
       "  <tbody>\n",
       "    <tr>\n",
       "      <th>963</th>\n",
       "      <td>yekaterina-raipova-b13b73a0</td>\n",
       "      <td>Начальник отдела внутренних коммуникаций - заместитель начальника управления г. Астана ТОО \"Корпорация Казахмыс\" Обязанности:• Формирование и поддержание в актуальном состоянии карты стейкхолдеров по каналам и процессам подразделения (коммуникации, этика, бренд и корпоративные события)• Формирование, актуализация стратегии внутренних коммуникаций, бюджета направления и подготовка отчетности по нему• Проведение коучинга для ключевых спикеров относительно стратегии внутренних коммуникаций и бренда работодателя • Оказание методологической поддержки проектам внутри компании (в рамках управления изменениями Необходимые компетенции:• Высшее профессиональное образование (PR, журналистика, HR, менеджмент);• Наличие курсов повышения квалификации (сертификаты не старше 3-х лет);• Опыт выстраивания отношений с топ-менеджерами;• Опыт работы с обратной связью от руководителей;• Опыт взаимодействия с различными группами стейкхолдерами;• Опыт на управленческой должности - не менее 2-х лет;• Опыт работы в промышленных предприятиях и ГМК приветствуется• Знание основ психологии управления персоналом• Аналитическое и стратегическое мышление Знание казахского  языка обязательно Что предлагаем мы:• Команда профессионалов цифрового обучения• Сложные и интересные задачи• Конкурентная заработная плата• График работы: 5/2Ekaterina.Raipova@kazakhmys.kz</td>\n",
       "      <td>5</td>\n",
       "      <td>1</td>\n",
       "      <td>0</td>\n",
       "      <td></td>\n",
       "      <td>начальник отдел внутренний коммуникация заместитель начальник управление тоо корпорация казахмыс обязанности формирование поддержание актуальный состояние карта стейкхолдер канал процесс подразделение коммуникации этика бренд корпоративный события формирование актуализация стратегия внутренний коммуникаций бюджет направление подготовка отчётность проведение коучинга ключевой спикер относительно стратегия внутренний коммуникация бренд работодатель оказание методологический поддержка проект внутри компания рамка управление изменение необходимый компетенции высокий профессиональный образование журналистика менеджмент наличие курс повышение квалификация сертификат старший лет опыт выстраивание отношение топ менеджерами опыт работа связь руководителей опыт взаимодействие различный группа стейкхолдерами опыт управленческий должность лет опыт работа промышленный предприятие гмк приветствуется знание основа психология управление персоналом аналитический стратегический мышление знание казахский язык обязательно предлагать команда профессионал цифровой обучения сложный интересный задачи конкурентный заработный плата график работы</td>\n",
       "      <td>Yekaterina Raipova</td>\n",
       "      <td>Human Resource Management</td>\n",
       "      <td>Kazakhmys Corporation</td>\n",
       "      <td>Менеджер по адаптации персонала</td>\n",
       "      <td>NaN</td>\n",
       "      <td>Nur-Sultan, Kazakhstan</td>\n",
       "      <td>772</td>\n",
       "      <td>500+</td>\n",
       "      <td>Достижения: наняла за 4 года болеет 200 -специалистов блока IT (мануальные тестировщики, QA инженеры, Frontц-end разработчики: React, Angular и т.д.; Back-end разработчики: Oracle PL/SQL, Siebel, ЦФТ, .Net/C#, Java, PHP, IBM BPM, Интеграционная Шина Tibco; DevOps инженеры, Администраторы БД Oracle, MS SQL, PostgreSQL и т.д.).</td>\n",
       "    </tr>\n",
       "    <tr>\n",
       "      <th>84</th>\n",
       "      <td>agratoth</td>\n",
       "      <td>#react #nextjs #typescriptНаписал статью на Хабр, вдруг кому окажется полезной. Тема несложная, асинхронный алертинг в React/NextJS приложении, но вышло вроде неплохо. Любой конструктивной критике буду рад</td>\n",
       "      <td>1</td>\n",
       "      <td>0</td>\n",
       "      <td>0</td>\n",
       "      <td>react, nextjs, typescriptНаписал</td>\n",
       "      <td>статья хабр оказаться полезной тема несложная асинхронный алертинг приложении выйти вроде неплохо любой конструктивный критика</td>\n",
       "      <td>Anton Berdnikov</td>\n",
       "      <td>CTO/Co-founder</td>\n",
       "      <td>Cloudberry.bi</td>\n",
       "      <td>Chief Technical Officer/Co-founder</td>\n",
       "      <td>NaN</td>\n",
       "      <td>Russia</td>\n",
       "      <td>4,569</td>\n",
       "      <td>500+</td>\n",
       "      <td>Разработка нейросетей на python/keras.io + tensorflowРазработка микросервисов на golangРазработка высоконагруженных приложенийСистемная разработка на golangСистемная разработка на C/C++</td>\n",
       "    </tr>\n",
       "    <tr>\n",
       "      <th>718</th>\n",
       "      <td>enjirouz</td>\n",
       "      <td>Мечтаешь разработать свою игру и заработать на ней? Тогда посмотри это видео!В нем я поделюсь с тобой, как всего за 7 шагов пройти цикл создания игры твоей мечты от разработки идеи до получения финансирования на создание собственной игровой студии. Я расскажу тебе о типичных ошибках, которые допускают новички, а также дам рекомендации, благодаря которым ты сможешь найти хорошую команду, выпустить совместно с ней действительно качественный продукт и получить деньги на его развитие! #gamedevelopment #gamedev #каксоздатьигру #xyz</td>\n",
       "      <td>0</td>\n",
       "      <td>0</td>\n",
       "      <td>0</td>\n",
       "      <td>gamedevelopment, gamedev, каксоздатьигру, xyz</td>\n",
       "      <td>мечтать разработать игра заработать посмотреть видео немой поделиться шаг пройти цикл создание игра мечта разработка идея получение финансирование создание собственный игровой студии рассказать типичный ошибках допускать новички также дать рекомендации благодаря смочь найти команду выпустить совместно действительно качественный продукт получить деньга развитие</td>\n",
       "      <td>Tatyana Babicheva</td>\n",
       "      <td>Lead Frontend Developer, Career Coach</td>\n",
       "      <td>Yandex</td>\n",
       "      <td>Frontend Web Developer</td>\n",
       "      <td>NaN</td>\n",
       "      <td>Yekaterinburg, Sverdlovsk, Russia</td>\n",
       "      <td>3,716</td>\n",
       "      <td>500+</td>\n",
       "      <td>I develop highly loaded cross-platform web applications on React + TypeScript, which are used by more than 100 million people per month, as well as automate routine processes in the team, create flexible integrated solutions for tasks of any complexity.GitHub: https://github.com/EnjiRouz</td>\n",
       "    </tr>\n",
       "    <tr>\n",
       "      <th>179</th>\n",
       "      <td>olgaperun</td>\n",
       "      <td>Лидер – одиночка? Так бывает?Бывает такой тип лидеров, кто работает сам по себеТакие лидеры-одиночки не создают командыИм нравится осознавать, что к успеху они пришли сами, единолично (это не так, результат – всегда итог коллективной работы)Они опасаются конкуренции, боятся, что кто-то может справиться лучше нихСтремятся максимально много сделать самиВерят в то, что могут справиться с любой задачей Не чувствуют общий результатНе делегируют, а максимально дистанцируют других от проектаТакой подход затормаживает реализацию проектаС лидером-одиночкой результат проекта может быть хуже ожидаемогоЛидер-интроверт - такой стиль общения может быть вызван особенностью темперамента#проектноеуправление #управлениепроектами #экспертвуправлении #команда #погналивit #лидерство</td>\n",
       "      <td>0</td>\n",
       "      <td>0</td>\n",
       "      <td>0</td>\n",
       "      <td>проектноеуправление, управлениепроектами, экспертвуправлении, команда, погналивit, лидерство</td>\n",
       "      <td>лидер одиночка бывает бывать тип лидеров работать себетакий лидер одиночка создавать командыий нравиться осознавать успех прислать сами единолично результат итог коллективный работы онить опасаться конкуренции боятся справиться нихстремиться максимально сделать самиверить справиться любой задача чувствовать общий результатня делегируют максимально дистанцировать проектатака подход затормаживать реализация проектас лидер одиночка результат проект ожидаемоголидер интроверт стиль общение вызвать особенность темперамента</td>\n",
       "      <td>Olga Filatova</td>\n",
       "      <td>CPO, Директор портфеля проектов</td>\n",
       "      <td>Оренбургский Государственный Педагогический Университет (ОГПУ)</td>\n",
       "      <td>Директор направления тиражирования и миграции</td>\n",
       "      <td>NaN</td>\n",
       "      <td>Russia</td>\n",
       "      <td>534</td>\n",
       "      <td>500+</td>\n",
       "      <td>- Опыт управления 13 лет;- 6 лет топ позиции в ИТ компаниях; - Управление командами 70 человек;- 13 лет управление командами разработки;- 7 лет управления распределенными командами;- Управление портфелем проектов - более 5 проектов;- 15 созданных команд с нуля;- 15 созданных продуктов с нуля;- 30 успешных проектов; - 40 проектов на пресейл;- 5 лет работа на кредитных проектах Сбербанка.</td>\n",
       "    </tr>\n",
       "    <tr>\n",
       "      <th>14</th>\n",
       "      <td>ali-wodan</td>\n",
       "      <td>#москва #офис #фултаймИщу классных коллег к нам в команду AdGuard (adguard.com) Что делать:Редизайн и развитие отдельного продукта (промо-сайт + продукт, сложное веб-приложение) и сопровождениеилиUX/UI для веб-приложений и ПО с нуля и на основе дизайн-системыРазработка и поддержка кроссплатформенной дизайн-системыМаркетинговые задачи, лэндинги, письма, оптимизация конверсии сайтовКонтроль качества Что мы ожидаем:Опыт разработки интерфейсов в студии или продуктовых компаниях от 2 летМинимум 2 живых проекта с вашим дизайном в сети, минимум 1 из них сложныйУмение и желание вникать и разбираться, умение думатьSketch как основной инструмент (возможно со временем перейдем на фигму но это не точно) + умение работать на всем что понадобится Что предлагаем:Белая заработная платаКомфортный офис в г. Москве в 5 минутах ходьбы от м. ТульскаяСпортзал, настольный теннис, занятия с тренером, группы по английскому и китайскому языкам в офисеСовременные и удобные рабочие места — мощные маки, хорошие мониторыДМС после испытательного срока Для вопросов и откликов пишите на почту hr@performix.ru или в телеграм @ksenia_hr</td>\n",
       "      <td>8</td>\n",
       "      <td>0</td>\n",
       "      <td>0</td>\n",
       "      <td>москва, офис, фултаймИщу</td>\n",
       "      <td>классный коллега команда редизайн развитие отдельный продукт промо сайт продукт сложный веб приложение сопровождениеили веб приложение основа дизайн системыразработка поддержка кроссплатформенный дизайн системымаркетинговый задачи лэндинги письма оптимизация конверсия сайтовконтроль качество ожидаем опыт разработка интерфейс студия продуктовый компания летминимум живой проект дизайн сети минимум сложныйумение желание вникать разбираться умение думать основной инструмент возможный время перейти фигма точно умение работать понадобиться предлагаем белый заработный платакомфортный офис минута ходьба тульскаяспортзал настольный теннис занятие тренером группа английский китайский язык офисесовременный удобный рабочий место мощный маки мониторыдмс испытательный срок вопрос отклик писать почта телеграм</td>\n",
       "      <td>Ali Wodan</td>\n",
       "      <td>Head of Design</td>\n",
       "      <td>Performix</td>\n",
       "      <td>Head Of Design</td>\n",
       "      <td>podcast, it</td>\n",
       "      <td>Москва, Московская область, Россия</td>\n",
       "      <td>2 391</td>\n",
       "      <td>500+</td>\n",
       "      <td>I am a digital product design lead. I've been designing digital systems for years. Teams creating, management, design process building, user research, analytics etc. it's all that i like to do. Also I am into psychology, music, philosophy.</td>\n",
       "    </tr>\n",
       "  </tbody>\n",
       "</table>\n",
       "</div>"
      ],
      "text/plain": [
       "                         user_id  \\\n",
       "963  yekaterina-raipova-b13b73a0   \n",
       "84                      agratoth   \n",
       "718                     enjirouz   \n",
       "179                    olgaperun   \n",
       "14                     ali-wodan   \n",
       "\n",
       "                                                                                                                                                                                                                                                                                                                                                                                                                                                                                                                                                                                                                                                                                                                                                                                                                                                                                                                                                                                                                                                                                                                                                                                                                                                                                                                                                                                                     post  \\\n",
       "963  Начальник отдела внутренних коммуникаций - заместитель начальника управления г. Астана ТОО \"Корпорация Казахмыс\" Обязанности:• Формирование и поддержание в актуальном состоянии карты стейкхолдеров по каналам и процессам подразделения (коммуникации, этика, бренд и корпоративные события)• Формирование, актуализация стратегии внутренних коммуникаций, бюджета направления и подготовка отчетности по нему• Проведение коучинга для ключевых спикеров относительно стратегии внутренних коммуникаций и бренда работодателя • Оказание методологической поддержки проектам внутри компании (в рамках управления изменениями Необходимые компетенции:• Высшее профессиональное образование (PR, журналистика, HR, менеджмент);• Наличие курсов повышения квалификации (сертификаты не старше 3-х лет);• Опыт выстраивания отношений с топ-менеджерами;• Опыт работы с обратной связью от руководителей;• Опыт взаимодействия с различными группами стейкхолдерами;• Опыт на управленческой должности - не менее 2-х лет;• Опыт работы в промышленных предприятиях и ГМК приветствуется• Знание основ психологии управления персоналом• Аналитическое и стратегическое мышление Знание казахского  языка обязательно Что предлагаем мы:• Команда профессионалов цифрового обучения• Сложные и интересные задачи• Конкурентная заработная плата• График работы: 5/2Ekaterina.Raipova@kazakhmys.kz   \n",
       "84                                                                                                                                                                                                                                                                                                                                                                                                                                                                                                                                                                                                                                                                                                                                                                                                                                                                                                                                                                                                                                                                                                                                                                                          #react #nextjs #typescriptНаписал статью на Хабр, вдруг кому окажется полезной. Тема несложная, асинхронный алертинг в React/NextJS приложении, но вышло вроде неплохо. Любой конструктивной критике буду рад   \n",
       "718                                                                                                                                                                                                                                                                                                                                                                                                                                                                                                                                                                                                                                                                                                                                                                                                                                                  Мечтаешь разработать свою игру и заработать на ней? Тогда посмотри это видео!В нем я поделюсь с тобой, как всего за 7 шагов пройти цикл создания игры твоей мечты от разработки идеи до получения финансирования на создание собственной игровой студии. Я расскажу тебе о типичных ошибках, которые допускают новички, а также дам рекомендации, благодаря которым ты сможешь найти хорошую команду, выпустить совместно с ней действительно качественный продукт и получить деньги на его развитие! #gamedevelopment #gamedev #каксоздатьигру #xyz   \n",
       "179                                                                                                                                                                                                                                                                                                                                                                                                                                                                                                                                                                                                  Лидер – одиночка? Так бывает?Бывает такой тип лидеров, кто работает сам по себеТакие лидеры-одиночки не создают командыИм нравится осознавать, что к успеху они пришли сами, единолично (это не так, результат – всегда итог коллективной работы)Они опасаются конкуренции, боятся, что кто-то может справиться лучше нихСтремятся максимально много сделать самиВерят в то, что могут справиться с любой задачей Не чувствуют общий результатНе делегируют, а максимально дистанцируют других от проектаТакой подход затормаживает реализацию проектаС лидером-одиночкой результат проекта может быть хуже ожидаемогоЛидер-интроверт - такой стиль общения может быть вызван особенностью темперамента#проектноеуправление #управлениепроектами #экспертвуправлении #команда #погналивit #лидерство   \n",
       "14                                                                                                                                                                                                                                         #москва #офис #фултаймИщу классных коллег к нам в команду AdGuard (adguard.com) Что делать:Редизайн и развитие отдельного продукта (промо-сайт + продукт, сложное веб-приложение) и сопровождениеилиUX/UI для веб-приложений и ПО с нуля и на основе дизайн-системыРазработка и поддержка кроссплатформенной дизайн-системыМаркетинговые задачи, лэндинги, письма, оптимизация конверсии сайтовКонтроль качества Что мы ожидаем:Опыт разработки интерфейсов в студии или продуктовых компаниях от 2 летМинимум 2 живых проекта с вашим дизайном в сети, минимум 1 из них сложныйУмение и желание вникать и разбираться, умение думатьSketch как основной инструмент (возможно со временем перейдем на фигму но это не точно) + умение работать на всем что понадобится Что предлагаем:Белая заработная платаКомфортный офис в г. Москве в 5 минутах ходьбы от м. ТульскаяСпортзал, настольный теннис, занятия с тренером, группы по английскому и китайскому языкам в офисеСовременные и удобные рабочие места — мощные маки, хорошие мониторыДМС после испытательного срока Для вопросов и откликов пишите на почту hr@performix.ru или в телеграм @ksenia_hr   \n",
       "\n",
       "     likes  comments  reposts  \\\n",
       "963      5         1        0   \n",
       "84       1         0        0   \n",
       "718      0         0        0   \n",
       "179      0         0        0   \n",
       "14       8         0        0   \n",
       "\n",
       "                                                                                         hashtags  \\\n",
       "963                                                                                                 \n",
       "84                                                               react, nextjs, typescriptНаписал   \n",
       "718                                                 gamedevelopment, gamedev, каксоздатьигру, xyz   \n",
       "179  проектноеуправление, управлениепроектами, экспертвуправлении, команда, погналивit, лидерство   \n",
       "14                                                                       москва, офис, фултаймИщу   \n",
       "\n",
       "                                                                                                                                                                                                                                                                                                                                                                                                                                                                                                                                                                                                                                                                                                                                                                                                                                                                                                                                                                                                                                                                                                                                                                       post_lemmatized  \\\n",
       "963  начальник отдел внутренний коммуникация заместитель начальник управление тоо корпорация казахмыс обязанности формирование поддержание актуальный состояние карта стейкхолдер канал процесс подразделение коммуникации этика бренд корпоративный события формирование актуализация стратегия внутренний коммуникаций бюджет направление подготовка отчётность проведение коучинга ключевой спикер относительно стратегия внутренний коммуникация бренд работодатель оказание методологический поддержка проект внутри компания рамка управление изменение необходимый компетенции высокий профессиональный образование журналистика менеджмент наличие курс повышение квалификация сертификат старший лет опыт выстраивание отношение топ менеджерами опыт работа связь руководителей опыт взаимодействие различный группа стейкхолдерами опыт управленческий должность лет опыт работа промышленный предприятие гмк приветствуется знание основа психология управление персоналом аналитический стратегический мышление знание казахский язык обязательно предлагать команда профессионал цифровой обучения сложный интересный задачи конкурентный заработный плата график работы   \n",
       "84                                                                                                                                                                                                                                                                                                                                                                                                                                                                                                                                                                                                                                                                                                                                                                                                                                                                                                                                                                                                                                                      статья хабр оказаться полезной тема несложная асинхронный алертинг приложении выйти вроде неплохо любой конструктивный критика   \n",
       "718                                                                                                                                                                                                                                                                                                                                                                                                                                                                                                                                                                                                                                                                                                                                                                                                         мечтать разработать игра заработать посмотреть видео немой поделиться шаг пройти цикл создание игра мечта разработка идея получение финансирование создание собственный игровой студии рассказать типичный ошибках допускать новички также дать рекомендации благодаря смочь найти команду выпустить совместно действительно качественный продукт получить деньга развитие   \n",
       "179                                                                                                                                                                                                                                                                                                                                                                                                                                                                                                                                                                                                                                         лидер одиночка бывает бывать тип лидеров работать себетакий лидер одиночка создавать командыий нравиться осознавать успех прислать сами единолично результат итог коллективный работы онить опасаться конкуренции боятся справиться нихстремиться максимально сделать самиверить справиться любой задача чувствовать общий результатня делегируют максимально дистанцировать проектатака подход затормаживать реализация проектас лидер одиночка результат проект ожидаемоголидер интроверт стиль общение вызвать особенность темперамента   \n",
       "14                                                                                                                                                                                                                                                                                                                                               классный коллега команда редизайн развитие отдельный продукт промо сайт продукт сложный веб приложение сопровождениеили веб приложение основа дизайн системыразработка поддержка кроссплатформенный дизайн системымаркетинговый задачи лэндинги письма оптимизация конверсия сайтовконтроль качество ожидаем опыт разработка интерфейс студия продуктовый компания летминимум живой проект дизайн сети минимум сложныйумение желание вникать разбираться умение думать основной инструмент возможный время перейти фигма точно умение работать понадобиться предлагаем белый заработный платакомфортный офис минута ходьба тульскаяспортзал настольный теннис занятие тренером группа английский китайский язык офисесовременный удобный рабочий место мощный маки мониторыдмс испытательный срок вопрос отклик писать почта телеграм   \n",
       "\n",
       "              user_name                              user_head  \\\n",
       "963  Yekaterina Raipova              Human Resource Management   \n",
       "84      Anton Berdnikov                         CTO/Co-founder   \n",
       "718   Tatyana Babicheva  Lead Frontend Developer, Career Coach   \n",
       "179       Olga Filatova        CPO, Директор портфеля проектов   \n",
       "14            Ali Wodan                         Head of Design   \n",
       "\n",
       "                                                          user_work  \\\n",
       "963                                           Kazakhmys Corporation   \n",
       "84                                                    Cloudberry.bi   \n",
       "718                                                          Yandex   \n",
       "179  Оренбургский Государственный Педагогический Университет (ОГПУ)   \n",
       "14                                                        Performix   \n",
       "\n",
       "                                     user_position    user_tags  \\\n",
       "963                Менеджер по адаптации персонала          NaN   \n",
       "84              Chief Technical Officer/Co-founder          NaN   \n",
       "718                         Frontend Web Developer          NaN   \n",
       "179  Директор направления тиражирования и миграции          NaN   \n",
       "14                                  Head Of Design  podcast, it   \n",
       "\n",
       "                          user_location user_viewers user_contacts  \\\n",
       "963              Nur-Sultan, Kazakhstan          772          500+   \n",
       "84                               Russia        4,569          500+   \n",
       "718   Yekaterinburg, Sverdlovsk, Russia        3,716          500+   \n",
       "179                              Russia          534          500+   \n",
       "14   Москва, Московская область, Россия        2 391          500+   \n",
       "\n",
       "                                                                                                                                                                                                                                                                                                                                                                                          user_common_info  \n",
       "963                                                                Достижения: наняла за 4 года болеет 200 -специалистов блока IT (мануальные тестировщики, QA инженеры, Frontц-end разработчики: React, Angular и т.д.; Back-end разработчики: Oracle PL/SQL, Siebel, ЦФТ, .Net/C#, Java, PHP, IBM BPM, Интеграционная Шина Tibco; DevOps инженеры, Администраторы БД Oracle, MS SQL, PostgreSQL и т.д.).  \n",
       "84                                                                                                                                                                                                               Разработка нейросетей на python/keras.io + tensorflowРазработка микросервисов на golangРазработка высоконагруженных приложенийСистемная разработка на golangСистемная разработка на C/C++  \n",
       "718                                                                                                       I develop highly loaded cross-platform web applications on React + TypeScript, which are used by more than 100 million people per month, as well as automate routine processes in the team, create flexible integrated solutions for tasks of any complexity.GitHub: https://github.com/EnjiRouz  \n",
       "179  - Опыт управления 13 лет;- 6 лет топ позиции в ИТ компаниях; - Управление командами 70 человек;- 13 лет управление командами разработки;- 7 лет управления распределенными командами;- Управление портфелем проектов - более 5 проектов;- 15 созданных команд с нуля;- 15 созданных продуктов с нуля;- 30 успешных проектов; - 40 проектов на пресейл;- 5 лет работа на кредитных проектах Сбербанка.  \n",
       "14                                                                                                                                                         I am a digital product design lead. I've been designing digital systems for years. Teams creating, management, design process building, user research, analytics etc. it's all that i like to do. Also I am into psychology, music, philosophy.  "
      ]
     },
     "execution_count": 26,
     "metadata": {},
     "output_type": "execute_result"
    }
   ],
   "source": [
    "df.sample(5)"
   ]
  },
  {
   "cell_type": "code",
   "execution_count": null,
   "id": "d12f64da",
   "metadata": {},
   "outputs": [],
   "source": []
  }
 ],
 "metadata": {
  "kernelspec": {
   "display_name": "Python 3 (ipykernel)",
   "language": "python",
   "name": "python3"
  },
  "language_info": {
   "codemirror_mode": {
    "name": "ipython",
    "version": 3
   },
   "file_extension": ".py",
   "mimetype": "text/x-python",
   "name": "python",
   "nbconvert_exporter": "python",
   "pygments_lexer": "ipython3",
   "version": "3.10.11"
  },
  "toc": {
   "base_numbering": 1,
   "nav_menu": {},
   "number_sections": true,
   "sideBar": true,
   "skip_h1_title": false,
   "title_cell": "Table of Contents",
   "title_sidebar": "Contents",
   "toc_cell": false,
   "toc_position": {
    "height": "calc(100% - 180px)",
    "left": "10px",
    "top": "150px",
    "width": "374.391px"
   },
   "toc_section_display": true,
   "toc_window_display": false
  },
  "varInspector": {
   "cols": {
    "lenName": 16,
    "lenType": 16,
    "lenVar": 40
   },
   "kernels_config": {
    "python": {
     "delete_cmd_postfix": "",
     "delete_cmd_prefix": "del ",
     "library": "var_list.py",
     "varRefreshCmd": "print(var_dic_list())"
    },
    "r": {
     "delete_cmd_postfix": ") ",
     "delete_cmd_prefix": "rm(",
     "library": "var_list.r",
     "varRefreshCmd": "cat(var_dic_list()) "
    }
   },
   "types_to_exclude": [
    "module",
    "function",
    "builtin_function_or_method",
    "instance",
    "_Feature"
   ],
   "window_display": false
  }
 },
 "nbformat": 4,
 "nbformat_minor": 5
}
