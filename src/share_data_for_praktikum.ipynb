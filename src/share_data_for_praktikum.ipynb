{
 "cells": [
  {
   "cell_type": "markdown",
   "id": "93737e32",
   "metadata": {},
   "source": [
    "**Экспорт данных для других команд**\n",
    "\n",
    "I. ФАЙЛ. От вашей команды должен быть сформирован csv-файл, в котором есть колоноки (обязательно):\n",
    "\n",
    "           - url поста/профиля (не пустое)\n",
    "           - текст поста (не пустое)\n",
    "           - профессия (не пустое)\n",
    "           - количество комментариев (может быть пустым)\n",
    "           - количество реакций (может быть пустым)\n",
    "\n",
    "Разделение колонок через точку с запятой. Остальные колонки - опционально."
   ]
  },
  {
   "cell_type": "code",
   "execution_count": 191,
   "id": "dbd4c4c4",
   "metadata": {},
   "outputs": [],
   "source": [
    "import os\n",
    "import pandas as pd"
   ]
  },
  {
   "cell_type": "code",
   "execution_count": 192,
   "id": "ae305994",
   "metadata": {},
   "outputs": [],
   "source": [
    "# задаем директорию\n",
    "file_path = '../datasets/'"
   ]
  },
  {
   "cell_type": "code",
   "execution_count": 193,
   "id": "02b06de3",
   "metadata": {},
   "outputs": [],
   "source": [
    "# открываем файлы с данными\n",
    "posts = pd.read_csv(os.path.join(file_path, 'posts.csv'), index_col=0)\n",
    "profiles = pd.read_csv(os.path.join(file_path, 'profiles.csv'), index_col=0)"
   ]
  },
  {
   "cell_type": "code",
   "execution_count": 194,
   "id": "fb065f4a",
   "metadata": {},
   "outputs": [],
   "source": [
    "# переименуем столбец id в user_id в датафрейме profiles, для последующего объединения с posts\n",
    "profiles = profiles.rename(columns={'id': 'user_id'})"
   ]
  },
  {
   "cell_type": "code",
   "execution_count": 195,
   "id": "cd3f3919",
   "metadata": {},
   "outputs": [],
   "source": [
    "# объединяем датафреймы\n",
    "df = pd.merge(posts, profiles, on='user_id')"
   ]
  },
  {
   "cell_type": "code",
   "execution_count": 196,
   "id": "f842dc9b",
   "metadata": {},
   "outputs": [],
   "source": [
    "# url на все посты пользователя\n",
    "def id_to_url(user_id):\n",
    "    return f'https://www.linkedin.com/in/{user_id}/recent-activity/all/'"
   ]
  },
  {
   "cell_type": "code",
   "execution_count": 197,
   "id": "04534240",
   "metadata": {},
   "outputs": [],
   "source": [
    "df['url'] = df.user_id.apply(id_to_url)"
   ]
  },
  {
   "cell_type": "code",
   "execution_count": 198,
   "id": "f5111dc3",
   "metadata": {
    "scrolled": false
   },
   "outputs": [
    {
     "name": "stdout",
     "output_type": "stream",
     "text": [
      "<class 'pandas.core.frame.DataFrame'>\n",
      "RangeIndex: 9004 entries, 0 to 9003\n",
      "Data columns (total 15 columns):\n",
      " #   Column            Non-Null Count  Dtype \n",
      "---  ------            --------------  ----- \n",
      " 0   user_id           9004 non-null   object\n",
      " 1   text              9004 non-null   object\n",
      " 2   likes             9004 non-null   object\n",
      " 3   comments          9004 non-null   int64 \n",
      " 4   reposts           9004 non-null   int64 \n",
      " 5   user_name         9004 non-null   object\n",
      " 6   user_head         9004 non-null   object\n",
      " 7   user_work         8469 non-null   object\n",
      " 8   user_position     9004 non-null   object\n",
      " 9   user_tags         2720 non-null   object\n",
      " 10  user_location     8966 non-null   object\n",
      " 11  user_viewers      9004 non-null   object\n",
      " 12  user_contacts     9004 non-null   object\n",
      " 13  user_common_info  8597 non-null   object\n",
      " 14  url               9004 non-null   object\n",
      "dtypes: int64(2), object(13)\n",
      "memory usage: 1.0+ MB\n"
     ]
    }
   ],
   "source": [
    "df.info()"
   ]
  },
  {
   "cell_type": "code",
   "execution_count": 199,
   "id": "d6bf8e94",
   "metadata": {},
   "outputs": [],
   "source": [
    "df_export = df[['url', 'text', 'user_head', 'likes', 'comments', 'reposts']]"
   ]
  },
  {
   "cell_type": "code",
   "execution_count": 200,
   "id": "f1ff8594",
   "metadata": {},
   "outputs": [
    {
     "name": "stdout",
     "output_type": "stream",
     "text": [
      "<class 'pandas.core.frame.DataFrame'>\n",
      "RangeIndex: 9004 entries, 0 to 9003\n",
      "Data columns (total 6 columns):\n",
      " #   Column     Non-Null Count  Dtype \n",
      "---  ------     --------------  ----- \n",
      " 0   url        9004 non-null   object\n",
      " 1   text       9004 non-null   object\n",
      " 2   user_head  9004 non-null   object\n",
      " 3   likes      9004 non-null   object\n",
      " 4   comments   9004 non-null   int64 \n",
      " 5   reposts    9004 non-null   int64 \n",
      "dtypes: int64(2), object(4)\n",
      "memory usage: 422.2+ KB\n"
     ]
    }
   ],
   "source": [
    "df_export.info()"
   ]
  },
  {
   "cell_type": "code",
   "execution_count": 201,
   "id": "a53ff88a",
   "metadata": {},
   "outputs": [
    {
     "data": {
      "text/html": [
       "<div>\n",
       "<style scoped>\n",
       "    .dataframe tbody tr th:only-of-type {\n",
       "        vertical-align: middle;\n",
       "    }\n",
       "\n",
       "    .dataframe tbody tr th {\n",
       "        vertical-align: top;\n",
       "    }\n",
       "\n",
       "    .dataframe thead th {\n",
       "        text-align: right;\n",
       "    }\n",
       "</style>\n",
       "<table border=\"1\" class=\"dataframe\">\n",
       "  <thead>\n",
       "    <tr style=\"text-align: right;\">\n",
       "      <th></th>\n",
       "      <th>url</th>\n",
       "      <th>text</th>\n",
       "      <th>user_head</th>\n",
       "      <th>likes</th>\n",
       "      <th>comments</th>\n",
       "      <th>reposts</th>\n",
       "    </tr>\n",
       "  </thead>\n",
       "  <tbody>\n",
       "    <tr>\n",
       "      <th>6268</th>\n",
       "      <td>https://www.linkedin.com/in/antonlenskiy/recen...</td>\n",
       "      <td>Интересная рассылка от mvideo@sender.mvideo.ru...</td>\n",
       "      <td>Cybersecurity expert with 10 years of experien...</td>\n",
       "      <td>0</td>\n",
       "      <td>0</td>\n",
       "      <td>0</td>\n",
       "    </tr>\n",
       "    <tr>\n",
       "      <th>2985</th>\n",
       "      <td>https://www.linkedin.com/in/yurii-zinych/recen...</td>\n",
       "      <td>Минув рівно рік від початку повномасштабного р...</td>\n",
       "      <td>Senior Business Development Executive | Helpin...</td>\n",
       "      <td>6</td>\n",
       "      <td>0</td>\n",
       "      <td>1</td>\n",
       "    </tr>\n",
       "    <tr>\n",
       "      <th>6348</th>\n",
       "      <td>https://www.linkedin.com/in/katerynaovchar/rec...</td>\n",
       "      <td>Would you like such a robot to charge your car...</td>\n",
       "      <td>EV Charging Software Executive at Extrawest Gm...</td>\n",
       "      <td>22</td>\n",
       "      <td>4</td>\n",
       "      <td>2</td>\n",
       "    </tr>\n",
       "    <tr>\n",
       "      <th>6909</th>\n",
       "      <td>https://www.linkedin.com/in/viktoryia-dziuka-5...</td>\n",
       "      <td>How to simplify life?In an age of information ...</td>\n",
       "      <td>Business Development Manager at DigitalMara</td>\n",
       "      <td>0</td>\n",
       "      <td>0</td>\n",
       "      <td>0</td>\n",
       "    </tr>\n",
       "    <tr>\n",
       "      <th>6434</th>\n",
       "      <td>https://www.linkedin.com/in/valeryiayatsuk/rec...</td>\n",
       "      <td>Hello everyone!🟥       Here is another new cas...</td>\n",
       "      <td>Business Development Manager (Wialon)</td>\n",
       "      <td>13</td>\n",
       "      <td>1</td>\n",
       "      <td>2</td>\n",
       "    </tr>\n",
       "    <tr>\n",
       "      <th>4579</th>\n",
       "      <td>https://www.linkedin.com/in/olena-koval-b3b501...</td>\n",
       "      <td>Are Virtual Reality meetings the future of wor...</td>\n",
       "      <td>Business Development Manager | Full-Cycle Soft...</td>\n",
       "      <td>17</td>\n",
       "      <td>0</td>\n",
       "      <td>2</td>\n",
       "    </tr>\n",
       "    <tr>\n",
       "      <th>4173</th>\n",
       "      <td>https://www.linkedin.com/in/dmitry-butyrin-60a...</td>\n",
       "      <td>Dear Requestum customers and friends, thanks f...</td>\n",
       "      <td>CEO  at Requestum | UA, Latvia, Estonian resid...</td>\n",
       "      <td>4</td>\n",
       "      <td>0</td>\n",
       "      <td>0</td>\n",
       "    </tr>\n",
       "    <tr>\n",
       "      <th>8361</th>\n",
       "      <td>https://www.linkedin.com/in/andrrey/recent-act...</td>\n",
       "      <td>Last year HM Treasury launched a Consultation ...</td>\n",
       "      <td>Cloud Computing and AI</td>\n",
       "      <td>2</td>\n",
       "      <td>0</td>\n",
       "      <td>0</td>\n",
       "    </tr>\n",
       "    <tr>\n",
       "      <th>2083</th>\n",
       "      <td>https://www.linkedin.com/in/ferrethikky/recent...</td>\n",
       "      <td>Пример сетки для мобильных проектов. #ux #mobi...</td>\n",
       "      <td>Product Designer | User Interface Designer wit...</td>\n",
       "      <td>6</td>\n",
       "      <td>0</td>\n",
       "      <td>0</td>\n",
       "    </tr>\n",
       "    <tr>\n",
       "      <th>2504</th>\n",
       "      <td>https://www.linkedin.com/in/moeidsaleem/recent...</td>\n",
       "      <td>Eacaping Rat race is a mindset not a lifestyle...</td>\n",
       "      <td>Head of Tech / Hands-on Tech Lead - Node.js / ...</td>\n",
       "      <td>2</td>\n",
       "      <td>0</td>\n",
       "      <td>0</td>\n",
       "    </tr>\n",
       "  </tbody>\n",
       "</table>\n",
       "</div>"
      ],
      "text/plain": [
       "                                                    url  \\\n",
       "6268  https://www.linkedin.com/in/antonlenskiy/recen...   \n",
       "2985  https://www.linkedin.com/in/yurii-zinych/recen...   \n",
       "6348  https://www.linkedin.com/in/katerynaovchar/rec...   \n",
       "6909  https://www.linkedin.com/in/viktoryia-dziuka-5...   \n",
       "6434  https://www.linkedin.com/in/valeryiayatsuk/rec...   \n",
       "4579  https://www.linkedin.com/in/olena-koval-b3b501...   \n",
       "4173  https://www.linkedin.com/in/dmitry-butyrin-60a...   \n",
       "8361  https://www.linkedin.com/in/andrrey/recent-act...   \n",
       "2083  https://www.linkedin.com/in/ferrethikky/recent...   \n",
       "2504  https://www.linkedin.com/in/moeidsaleem/recent...   \n",
       "\n",
       "                                                   text  \\\n",
       "6268  Интересная рассылка от mvideo@sender.mvideo.ru...   \n",
       "2985  Минув рівно рік від початку повномасштабного р...   \n",
       "6348  Would you like such a robot to charge your car...   \n",
       "6909  How to simplify life?In an age of information ...   \n",
       "6434  Hello everyone!🟥       Here is another new cas...   \n",
       "4579  Are Virtual Reality meetings the future of wor...   \n",
       "4173  Dear Requestum customers and friends, thanks f...   \n",
       "8361  Last year HM Treasury launched a Consultation ...   \n",
       "2083  Пример сетки для мобильных проектов. #ux #mobi...   \n",
       "2504  Eacaping Rat race is a mindset not a lifestyle...   \n",
       "\n",
       "                                              user_head likes  comments  \\\n",
       "6268  Cybersecurity expert with 10 years of experien...     0         0   \n",
       "2985  Senior Business Development Executive | Helpin...     6         0   \n",
       "6348  EV Charging Software Executive at Extrawest Gm...    22         4   \n",
       "6909        Business Development Manager at DigitalMara     0         0   \n",
       "6434              Business Development Manager (Wialon)    13         1   \n",
       "4579  Business Development Manager | Full-Cycle Soft...    17         0   \n",
       "4173  CEO  at Requestum | UA, Latvia, Estonian resid...     4         0   \n",
       "8361                             Cloud Computing and AI     2         0   \n",
       "2083  Product Designer | User Interface Designer wit...     6         0   \n",
       "2504  Head of Tech / Hands-on Tech Lead - Node.js / ...     2         0   \n",
       "\n",
       "      reposts  \n",
       "6268        0  \n",
       "2985        1  \n",
       "6348        2  \n",
       "6909        0  \n",
       "6434        2  \n",
       "4579        2  \n",
       "4173        0  \n",
       "8361        0  \n",
       "2083        0  \n",
       "2504        0  "
      ]
     },
     "execution_count": 201,
     "metadata": {},
     "output_type": "execute_result"
    }
   ],
   "source": [
    "df_export.sample(10)"
   ]
  },
  {
   "cell_type": "code",
   "execution_count": 202,
   "id": "ded1a555",
   "metadata": {},
   "outputs": [],
   "source": [
    "df_export.to_csv(os.path.join(file_path, 'linkedin_data_from_K2.csv'), sep=';')"
   ]
  },
  {
   "cell_type": "code",
   "execution_count": 203,
   "id": "1c2c6fb1",
   "metadata": {},
   "outputs": [
    {
     "data": {
      "text/plain": [
       "401"
      ]
     },
     "execution_count": 203,
     "metadata": {},
     "output_type": "execute_result"
    }
   ],
   "source": [
    "df_export.url.nunique()"
   ]
  },
  {
   "cell_type": "code",
   "execution_count": null,
   "id": "83bf2059",
   "metadata": {},
   "outputs": [],
   "source": []
  }
 ],
 "metadata": {
  "kernelspec": {
   "display_name": "Python 3 (ipykernel)",
   "language": "python",
   "name": "python3"
  },
  "language_info": {
   "codemirror_mode": {
    "name": "ipython",
    "version": 3
   },
   "file_extension": ".py",
   "mimetype": "text/x-python",
   "name": "python",
   "nbconvert_exporter": "python",
   "pygments_lexer": "ipython3",
   "version": "3.10.11"
  },
  "toc": {
   "base_numbering": 1,
   "nav_menu": {},
   "number_sections": true,
   "sideBar": true,
   "skip_h1_title": false,
   "title_cell": "Оглавление",
   "title_sidebar": "Содержание",
   "toc_cell": false,
   "toc_position": {},
   "toc_section_display": true,
   "toc_window_display": false
  },
  "varInspector": {
   "cols": {
    "lenName": 16,
    "lenType": 16,
    "lenVar": 40
   },
   "kernels_config": {
    "python": {
     "delete_cmd_postfix": "",
     "delete_cmd_prefix": "del ",
     "library": "var_list.py",
     "varRefreshCmd": "print(var_dic_list())"
    },
    "r": {
     "delete_cmd_postfix": ") ",
     "delete_cmd_prefix": "rm(",
     "library": "var_list.r",
     "varRefreshCmd": "cat(var_dic_list()) "
    }
   },
   "types_to_exclude": [
    "module",
    "function",
    "builtin_function_or_method",
    "instance",
    "_Feature"
   ],
   "window_display": false
  }
 },
 "nbformat": 4,
 "nbformat_minor": 5
}
