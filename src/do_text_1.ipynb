{
 "cells": [
  {
   "cell_type": "code",
   "execution_count": 1,
   "id": "3998aa68",
   "metadata": {},
   "outputs": [],
   "source": [
    "# pip install pymorphy2 >> None"
   ]
  },
  {
   "cell_type": "code",
   "execution_count": 2,
   "id": "72e004e1",
   "metadata": {},
   "outputs": [],
   "source": [
    "import pandas as pd\n",
    "import os\n",
    "import re\n",
    "import pymorphy2\n",
    "import nltk\n",
    "from nltk.corpus import stopwords\n",
    "import matplotlib.pyplot as plt\n",
    "pd.set_option('display.max_rows', None)\n",
    "pd.set_option('display.max_columns', None)\n",
    "pd.set_option('display.max_colwidth', None)"
   ]
  },
  {
   "cell_type": "code",
   "execution_count": 3,
   "id": "28aabe56",
   "metadata": {},
   "outputs": [],
   "source": [
    "# задаем директорию\n",
    "file_path = '../datasets/'"
   ]
  },
  {
   "cell_type": "code",
   "execution_count": 4,
   "id": "4288a377",
   "metadata": {},
   "outputs": [],
   "source": [
    "# открываем файлы с данными\n",
    "posts = pd.read_csv(os.path.join(file_path, 'posts.csv'), index_col=0)\n",
    "profiles = pd.read_csv(os.path.join(file_path, 'profiles.csv'), index_col=0)"
   ]
  },
  {
   "cell_type": "code",
   "execution_count": 5,
   "id": "b44e2892",
   "metadata": {},
   "outputs": [
    {
     "data": {
      "text/html": [
       "<div>\n",
       "<style scoped>\n",
       "    .dataframe tbody tr th:only-of-type {\n",
       "        vertical-align: middle;\n",
       "    }\n",
       "\n",
       "    .dataframe tbody tr th {\n",
       "        vertical-align: top;\n",
       "    }\n",
       "\n",
       "    .dataframe thead th {\n",
       "        text-align: right;\n",
       "    }\n",
       "</style>\n",
       "<table border=\"1\" class=\"dataframe\">\n",
       "  <thead>\n",
       "    <tr style=\"text-align: right;\">\n",
       "      <th></th>\n",
       "      <th>user_id</th>\n",
       "      <th>text</th>\n",
       "      <th>likes</th>\n",
       "      <th>comments</th>\n",
       "      <th>reposts</th>\n",
       "    </tr>\n",
       "  </thead>\n",
       "  <tbody>\n",
       "    <tr>\n",
       "      <th>0</th>\n",
       "      <td>ali-wodan</td>\n",
       "      <td>Кстати говоря. Теперь подкаст Миражи доступен в соцсети Вконтакте: https://lnkd.in/gKkrJX9Я наконец разобрался как туда прикрутить RSS :-) #podcast #миражи</td>\n",
       "      <td>1</td>\n",
       "      <td>0</td>\n",
       "      <td>0</td>\n",
       "    </tr>\n",
       "    <tr>\n",
       "      <th>1</th>\n",
       "      <td>ali-wodan</td>\n",
       "      <td>I’m #hiring. Know anyone who might be interested?</td>\n",
       "      <td>1</td>\n",
       "      <td>0</td>\n",
       "      <td>0</td>\n",
       "    </tr>\n",
       "  </tbody>\n",
       "</table>\n",
       "</div>"
      ],
      "text/plain": [
       "     user_id  \\\n",
       "0  ali-wodan   \n",
       "1  ali-wodan   \n",
       "\n",
       "                                                                                                                                                          text  \\\n",
       "0  Кстати говоря. Теперь подкаст Миражи доступен в соцсети Вконтакте: https://lnkd.in/gKkrJX9Я наконец разобрался как туда прикрутить RSS :-) #podcast #миражи   \n",
       "1                                                                                                            I’m #hiring. Know anyone who might be interested?   \n",
       "\n",
       "  likes  comments  reposts  \n",
       "0     1         0        0  \n",
       "1     1         0        0  "
      ]
     },
     "execution_count": 5,
     "metadata": {},
     "output_type": "execute_result"
    }
   ],
   "source": [
    "# открываем датафрейм с постами\n",
    "posts.head(2)"
   ]
  },
  {
   "cell_type": "code",
   "execution_count": 6,
   "id": "c6d0477d",
   "metadata": {
    "scrolled": true
   },
   "outputs": [
    {
     "data": {
      "text/html": [
       "<div>\n",
       "<style scoped>\n",
       "    .dataframe tbody tr th:only-of-type {\n",
       "        vertical-align: middle;\n",
       "    }\n",
       "\n",
       "    .dataframe tbody tr th {\n",
       "        vertical-align: top;\n",
       "    }\n",
       "\n",
       "    .dataframe thead th {\n",
       "        text-align: right;\n",
       "    }\n",
       "</style>\n",
       "<table border=\"1\" class=\"dataframe\">\n",
       "  <thead>\n",
       "    <tr style=\"text-align: right;\">\n",
       "      <th></th>\n",
       "      <th>id</th>\n",
       "      <th>user_name</th>\n",
       "      <th>user_head</th>\n",
       "      <th>user_work</th>\n",
       "      <th>user_position</th>\n",
       "      <th>user_tags</th>\n",
       "      <th>user_location</th>\n",
       "      <th>user_viewers</th>\n",
       "      <th>user_contacts</th>\n",
       "      <th>user_common_info</th>\n",
       "    </tr>\n",
       "  </thead>\n",
       "  <tbody>\n",
       "    <tr>\n",
       "      <th>0</th>\n",
       "      <td>ali-wodan</td>\n",
       "      <td>Ali Wodan</td>\n",
       "      <td>Head of Design</td>\n",
       "      <td>Performix</td>\n",
       "      <td>Head Of Design</td>\n",
       "      <td>podcast, it</td>\n",
       "      <td>Москва, Московская область, Россия</td>\n",
       "      <td>2 391</td>\n",
       "      <td>500+</td>\n",
       "      <td>I am a digital product design lead. I've been designing digital systems for years. Teams creating, management, design process building, user research, analytics etc. it's all that i like to do. Also I am into psychology, music, philosophy.</td>\n",
       "    </tr>\n",
       "    <tr>\n",
       "      <th>1</th>\n",
       "      <td>ikotow</td>\n",
       "      <td>Игорь Котов</td>\n",
       "      <td>Директор по производству – Технократия</td>\n",
       "      <td>Технократия</td>\n",
       "      <td>Технократия</td>\n",
       "      <td>it, обучение, менеджмент, технологии, производство</td>\n",
       "      <td>Казань, Республика Татарстан, Россия</td>\n",
       "      <td>340</td>\n",
       "      <td>338</td>\n",
       "      <td>Making IT production great again! Создатель сервиса для управления ресурсами: Resourcer.appМой telegram-канал: https://t.me/pastikotow</td>\n",
       "    </tr>\n",
       "  </tbody>\n",
       "</table>\n",
       "</div>"
      ],
      "text/plain": [
       "          id    user_name                               user_head  \\\n",
       "0  ali-wodan    Ali Wodan                          Head of Design   \n",
       "1     ikotow  Игорь Котов  Директор по производству – Технократия   \n",
       "\n",
       "     user_work   user_position  \\\n",
       "0    Performix  Head Of Design   \n",
       "1  Технократия     Технократия   \n",
       "\n",
       "                                            user_tags  \\\n",
       "0                                         podcast, it   \n",
       "1  it, обучение, менеджмент, технологии, производство   \n",
       "\n",
       "                          user_location user_viewers user_contacts  \\\n",
       "0    Москва, Московская область, Россия        2 391          500+   \n",
       "1  Казань, Республика Татарстан, Россия          340           338   \n",
       "\n",
       "                                                                                                                                                                                                                                  user_common_info  \n",
       "0  I am a digital product design lead. I've been designing digital systems for years. Teams creating, management, design process building, user research, analytics etc. it's all that i like to do. Also I am into psychology, music, philosophy.  \n",
       "1                                                                                                           Making IT production great again! Создатель сервиса для управления ресурсами: Resourcer.appМой telegram-канал: https://t.me/pastikotow  "
      ]
     },
     "execution_count": 6,
     "metadata": {},
     "output_type": "execute_result"
    }
   ],
   "source": [
    "# открываем датафрейм с информацией о пользователях\n",
    "profiles.head(2)"
   ]
  },
  {
   "cell_type": "code",
   "execution_count": 7,
   "id": "335ccc00",
   "metadata": {},
   "outputs": [],
   "source": [
    "# переименуем столбец text в post для лучшего отражения содержимого\n",
    "posts = posts.rename(columns={'text': 'post'})"
   ]
  },
  {
   "cell_type": "markdown",
   "id": "8795f831",
   "metadata": {},
   "source": [
    "**Предобработка данных**"
   ]
  },
  {
   "cell_type": "code",
   "execution_count": 8,
   "id": "b733189b",
   "metadata": {},
   "outputs": [],
   "source": [
    "# функция удаления эмодзи\n",
    "def remove_emojis(text):\n",
    "    emoji_pattern = re.compile(\"[\"\n",
    "                               u\"\\U0001F600-\\U0001F64F\"  # смайлики\n",
    "                               u\"\\U0001F300-\\U0001F5FF\"  # символы и пиктограммы\n",
    "                               u\"\\U0001F680-\\U0001F6FF\"  # транспорт и символы на карте\n",
    "                               u\"\\U0001F1E0-\\U0001F1FF\"  # флаги\n",
    "                               u\"\\U00002500-\\U00002BEF\"  # китайские символы\n",
    "                               # другие разные символы\n",
    "                               u\"\\U00002702-\\U000027B0\"\n",
    "                               u\"\\U00002702-\\U000027B0\"\n",
    "                               u\"\\U000024C2-\\U0001F251\"\n",
    "                               u\"\\U0001f926-\\U0001f937\"\n",
    "                               u\"\\U00010000-\\U0010ffff\"\n",
    "                               u\"\\u2640-\\u2642\" \n",
    "                               u\"\\u2600-\\u2B55\"\n",
    "                               u\"\\u200d\"\n",
    "                               u\"\\u23cf\"\n",
    "                               u\"\\u23e9\"\n",
    "                               u\"\\u231a\"\n",
    "                               u\"\\ufe0f\"  \n",
    "                               u\"\\u3030\"\n",
    "                               \"]+\", flags=re.UNICODE)\n",
    "    # Удаляем эмодзи, используя паттерны\n",
    "    text_without_emojis = emoji_pattern.sub(r'', text)\n",
    "    return text_without_emojis\n",
    "\n",
    "# удаляем эмодзи из постов\n",
    "posts['post'] = posts['post'].apply(lambda x: remove_emojis(x) if pd.notnull(x) else x)"
   ]
  },
  {
   "cell_type": "code",
   "execution_count": 9,
   "id": "8a349268",
   "metadata": {},
   "outputs": [],
   "source": [
    "# удалим посты на украинском языке\n",
    "\n",
    "# определяем шаблон для украинских символов (по специфичным для данного языка символам)\n",
    "ukrainian_pattern = r'[ЄєІіЇїҐґ]'\n",
    "\n",
    "# создаем маску, указывающую строки, в которых столбец \"post\" содержит текст на украинском языке\n",
    "mask = posts['post'].str.contains(ukrainian_pattern, regex=True, na=False)\n",
    "\n",
    "# сохраняем в датафрейме только строки, в которых маска имеет значение False\n",
    "posts = posts[~mask]\n",
    "\n",
    "# определяем шаблон для украинских символов\n",
    "# ukrainian_pattern = r'[ЄєІіЇїҐґ]'\n",
    "\n",
    "# # сохраняем в датафрейме только те строки, в которых столбец \"post\" не содержит текста на украинском языке\n",
    "# posts = posts[~posts['post'].str.contains(ukrainian_pattern, regex=True, na=False)]"
   ]
  },
  {
   "cell_type": "code",
   "execution_count": 10,
   "id": "0f537ab2",
   "metadata": {},
   "outputs": [],
   "source": [
    "def add_space_after_link_before_russian_and_hashtag(text):\n",
    "    # Ищем ключевые слова \"https\" или \"http\", за которыми следуют ссылки\n",
    "    key_https = r'(https?://\\S+?)([А-Яа-яЁё]|(?=\\s)|(?=#))'\n",
    "    \n",
    "    # Для расстановки пробела\n",
    "    replacement = r'\\1 \\2'\n",
    "    \n",
    "    return re.sub(key_https, replacement, text)\n",
    "\n",
    "def add_space_after_link_after_english(text):\n",
    "    # Ищем ключевое слово \"https\" после английской буквы (до ссылки)\n",
    "    key_https = r'(?<=[A-Za-z])https'\n",
    "    \n",
    "    # Для расстановки пробела\n",
    "    replacement = r' https'\n",
    "    \n",
    "    return re.sub(key_https, replacement, text)"
   ]
  },
  {
   "cell_type": "code",
   "execution_count": 11,
   "id": "1fba621e",
   "metadata": {},
   "outputs": [],
   "source": [
    "# Расставим пробелы после ссылки перед русской буквы и хэштега\n",
    "posts['post'] = posts['post'].apply(add_space_after_link_before_russian_and_hashtag)\n",
    "\n",
    "# Расставим пробелы перед ссылкой после английских букв\n",
    "posts['post'] = posts['post'].apply(add_space_after_link_after_english)"
   ]
  },
  {
   "cell_type": "code",
   "execution_count": 12,
   "id": "7a0a5c89",
   "metadata": {},
   "outputs": [
    {
     "data": {
      "text/plain": [
       "0                                                                                                                                                                                                                                                                                                                                               Кстати говоря. Теперь подкаст Миражи доступен в соцсети Вконтакте: https://lnkd.in/gKkrJX9 Я наконец разобрался как туда прикрутить RSS :-) #podcast #миражи\n",
       "2    Хэй честной народ! Ищу векторного иллюстратора на проект, с возможным длительным сотрудничеством по итогу. Можно удаленно. Уровень иллюстраций не хуже чем в примере https://lnkd.in/gkrvhxY Репост, пожалуйста)Если ты умеешь так рисовать, напиши мне в личку :-)Hey! I am looking for an Illustrator who can help us with a project! You need to have skills like in the example below or upper. Text me to discuss prices and due :-)#вакансия #vacancy #illustration #иллюстрация #project #проект\n",
       "Name: post, dtype: object"
      ]
     },
     "execution_count": 12,
     "metadata": {},
     "output_type": "execute_result"
    }
   ],
   "source": [
    "# Проверим\n",
    "posts.loc[posts['post'].str.contains('http'), 'post'].head(2)"
   ]
  },
  {
   "cell_type": "code",
   "execution_count": 13,
   "id": "1c127020",
   "metadata": {},
   "outputs": [
    {
     "data": {
      "text/plain": [
       "8585                                                                                                                                                                                                                                                                                                                                                                                                                                                                                                                                                                                                                                                                                                                                                                                                                  Today I published my first tech article. Check it out https://lnkd.in/gyW9TSw  . Leave comment below your thoughts about it. #reactnative #responsivedesign #javascript\n",
       "8597    Данные в макетах - 101. Интерфейс в ваших макетах должен выглядеть точно так, как его будет видеть юзер. Другими словами, всегда нужно забивать реалистичные, отличные друг от друга данные! 02. Если вы забиваете разные данные - вы проверяете интерфейс на гибкость. Можете увидеть не очевидные edge-кейсы и сразу же их отработать. Например, придумать правила поведения элементов.03. Разберём пример на картинке ↑↑↑ Дизайнер заранее выяснил, какие данные могут быть в табличке. Примерил их. После «примерки» стало очевидно, что табличка не справляется с отображением данных. В итоге, дизайнер решил, увеличить высоту ячеек, чтобы влезало больше текста. 04. Решение может не самое идеальное, но важно, что дизайнер учел состояние системы, когда данных стало много.05. Совет: запросите табличку с реалистичными данными перед началом проектирования. Чтобы не выдумывать и знать с чем имеете дело.Продолжение в моём телеграм-канале → https://bit.ly/43Up7Zz\n",
       "Name: post, dtype: object"
      ]
     },
     "execution_count": 13,
     "metadata": {},
     "output_type": "execute_result"
    }
   ],
   "source": [
    "# Проверим\n",
    "posts.loc[posts['post'].str.contains('http'), 'post'].tail(2)"
   ]
  },
  {
   "cell_type": "code",
   "execution_count": 14,
   "id": "400654be",
   "metadata": {},
   "outputs": [
    {
     "data": {
      "text/html": [
       "<div>\n",
       "<style scoped>\n",
       "    .dataframe tbody tr th:only-of-type {\n",
       "        vertical-align: middle;\n",
       "    }\n",
       "\n",
       "    .dataframe tbody tr th {\n",
       "        vertical-align: top;\n",
       "    }\n",
       "\n",
       "    .dataframe thead th {\n",
       "        text-align: right;\n",
       "    }\n",
       "</style>\n",
       "<table border=\"1\" class=\"dataframe\">\n",
       "  <thead>\n",
       "    <tr style=\"text-align: right;\">\n",
       "      <th></th>\n",
       "      <th>user_id</th>\n",
       "      <th>post</th>\n",
       "      <th>likes</th>\n",
       "      <th>comments</th>\n",
       "      <th>reposts</th>\n",
       "    </tr>\n",
       "  </thead>\n",
       "  <tbody>\n",
       "    <tr>\n",
       "      <th>0</th>\n",
       "      <td>ali-wodan</td>\n",
       "      <td>Кстати говоря. Теперь подкаст Миражи доступен в соцсети Вконтакте: https://lnkd.in/gKkrJX9 Я наконец разобрался как туда прикрутить RSS :-) #podcast #миражи</td>\n",
       "      <td>1</td>\n",
       "      <td>0</td>\n",
       "      <td>0</td>\n",
       "    </tr>\n",
       "    <tr>\n",
       "      <th>1</th>\n",
       "      <td>ali-wodan</td>\n",
       "      <td>I’m #hiring. Know anyone who might be interested?</td>\n",
       "      <td>1</td>\n",
       "      <td>0</td>\n",
       "      <td>0</td>\n",
       "    </tr>\n",
       "    <tr>\n",
       "      <th>2</th>\n",
       "      <td>ali-wodan</td>\n",
       "      <td>Хэй честной народ! Ищу векторного иллюстратора на проект, с возможным длительным сотрудничеством по итогу. Можно удаленно. Уровень иллюстраций не хуже чем в примере https://lnkd.in/gkrvhxY Репост, пожалуйста)Если ты умеешь так рисовать, напиши мне в личку :-)Hey! I am looking for an Illustrator who can help us with a project! You need to have skills like in the example below or upper. Text me to discuss prices and due :-)#вакансия #vacancy #illustration #иллюстрация #project #проект</td>\n",
       "      <td>6</td>\n",
       "      <td>0</td>\n",
       "      <td>0</td>\n",
       "    </tr>\n",
       "    <tr>\n",
       "      <th>3</th>\n",
       "      <td>ali-wodan</td>\n",
       "      <td>Новый пост подкаста \"Миражи\" на всех платформах:В аудио: https://lnkd.in/giWuSVN В инстаграме: https://lnkd.in/gbV6yxK Н #automotive # # #cars #а патреоне: https://lnkd.in/gfShqTU #саморазвитие #психология #психологиячеловека #психологияжизни #психологияличности #личностныйрост #подкаст #подкастмиражи #маркетинг #осознанность #мысли #мысливслух #установки #влияние #подсознаниеИспользованные звуки, музыка и картинки:Аудиоцитата из фильма \"Формула любви\" Марка ЗахароваJardins du Luxembourg by Jahzzar is licensed under a Attribution-ShareAlike 3.0 International License.prisoner by Luis Prado from the Noun Project</td>\n",
       "      <td>1</td>\n",
       "      <td>0</td>\n",
       "      <td>0</td>\n",
       "    </tr>\n",
       "    <tr>\n",
       "      <th>4</th>\n",
       "      <td>ali-wodan</td>\n",
       "      <td>Подкаст Миражи, Эпизод 13Ошибка невозвратных затратpodcast.ru/1539345144#подкаст #podcast #it #podcasts #psychology #психология #miragespodcast</td>\n",
       "      <td>2</td>\n",
       "      <td>0</td>\n",
       "      <td>0</td>\n",
       "    </tr>\n",
       "  </tbody>\n",
       "</table>\n",
       "</div>"
      ],
      "text/plain": [
       "     user_id  \\\n",
       "0  ali-wodan   \n",
       "1  ali-wodan   \n",
       "2  ali-wodan   \n",
       "3  ali-wodan   \n",
       "4  ali-wodan   \n",
       "\n",
       "                                                                                                                                                                                                                                                                                                                                                                                                                                                                                                                                                                                                                                        post  \\\n",
       "0                                                                                                                                                                                                                                                                                                                                                                                                                                                                               Кстати говоря. Теперь подкаст Миражи доступен в соцсети Вконтакте: https://lnkd.in/gKkrJX9 Я наконец разобрался как туда прикрутить RSS :-) #podcast #миражи   \n",
       "1                                                                                                                                                                                                                                                                                                                                                                                                                                                                                                                                                                                          I’m #hiring. Know anyone who might be interested?   \n",
       "2                                                                                                                                    Хэй честной народ! Ищу векторного иллюстратора на проект, с возможным длительным сотрудничеством по итогу. Можно удаленно. Уровень иллюстраций не хуже чем в примере https://lnkd.in/gkrvhxY Репост, пожалуйста)Если ты умеешь так рисовать, напиши мне в личку :-)Hey! I am looking for an Illustrator who can help us with a project! You need to have skills like in the example below or upper. Text me to discuss prices and due :-)#вакансия #vacancy #illustration #иллюстрация #project #проект   \n",
       "3  Новый пост подкаста \"Миражи\" на всех платформах:В аудио: https://lnkd.in/giWuSVN В инстаграме: https://lnkd.in/gbV6yxK Н #automotive # # #cars #а патреоне: https://lnkd.in/gfShqTU #саморазвитие #психология #психологиячеловека #психологияжизни #психологияличности #личностныйрост #подкаст #подкастмиражи #маркетинг #осознанность #мысли #мысливслух #установки #влияние #подсознаниеИспользованные звуки, музыка и картинки:Аудиоцитата из фильма \"Формула любви\" Марка ЗахароваJardins du Luxembourg by Jahzzar is licensed under a Attribution-ShareAlike 3.0 International License.prisoner by Luis Prado from the Noun Project   \n",
       "4                                                                                                                                                                                                                                                                                                                                                                                                                                                                                            Подкаст Миражи, Эпизод 13Ошибка невозвратных затратpodcast.ru/1539345144#подкаст #podcast #it #podcasts #psychology #психология #miragespodcast   \n",
       "\n",
       "  likes  comments  reposts  \n",
       "0     1         0        0  \n",
       "1     1         0        0  \n",
       "2     6         0        0  \n",
       "3     1         0        0  \n",
       "4     2         0        0  "
      ]
     },
     "execution_count": 14,
     "metadata": {},
     "output_type": "execute_result"
    }
   ],
   "source": [
    "posts.head()"
   ]
  },
  {
   "cell_type": "code",
   "execution_count": 15,
   "id": "ce2c5ba3",
   "metadata": {},
   "outputs": [],
   "source": [
    "# функция лемматизации текста\n",
    "morph = pymorphy2.MorphAnalyzer()\n",
    "def lemmatize_text(text):\n",
    "    lemmatized_words = [morph.parse(word)[0].normal_form for word in text.split()]\n",
    "    return ' '.join(lemmatized_words)\n",
    "\n",
    "# лемматизируем посты\n",
    "posts['post_lemmatized'] = posts['post'].apply(lemmatize_text)"
   ]
  },
  {
   "cell_type": "code",
   "execution_count": 16,
   "id": "a062cfed",
   "metadata": {},
   "outputs": [],
   "source": [
    "# удаляем слова, которые идут после хэш-тэга\n",
    "posts['post_lemmatized'] = posts['post_lemmatized'].apply(lambda x: re.sub(r'#[^\\s]+', '', x))"
   ]
  },
  {
   "cell_type": "code",
   "execution_count": 17,
   "id": "b807d2ec",
   "metadata": {},
   "outputs": [],
   "source": [
    "# производим замену дефиса на пробел\n",
    "posts[\"post_lemmatized\"] = posts[\"post_lemmatized\"].str.replace(\"-\", \" \")"
   ]
  },
  {
   "cell_type": "code",
   "execution_count": 18,
   "id": "594cade3",
   "metadata": {},
   "outputs": [],
   "source": [
    "# удаляем лишние текстовые символы (те, которые не состоят из букв русского алфавита)\n",
    "\n",
    "# только русские буквы и пробелы\n",
    "posts['post_lemmatized'] = posts['post_lemmatized'].str.replace('[^а-яА-ЯёЁ\\s]', '', regex=True) \n",
    "\n",
    "# только русские, английские буквы и пробелы\n",
    "# posts['post_lemmatized'] = posts['post_lemmatized'].apply(lambda x: re.sub(r'[^а-яА-ЯёЁa-zA-Z\\s]', ' ', x))\n",
    "\n",
    "# Шаблон '\\W' в методе str.replace() представляет любой символ, не состоящий из слов, в т.ч. пробелы.\n",
    "# Шаблон '[^\\w\\s]' пробелы оставляет, '[^\\w\\s\\d]' + цифры"
   ]
  },
  {
   "cell_type": "code",
   "execution_count": 19,
   "id": "c6980981",
   "metadata": {},
   "outputs": [
    {
     "name": "stderr",
     "output_type": "stream",
     "text": [
      "[nltk_data] Downloading package stopwords to\n",
      "[nltk_data]     C:\\Users\\Alex\\AppData\\Roaming\\nltk_data...\n",
      "[nltk_data]   Package stopwords is already up-to-date!\n"
     ]
    }
   ],
   "source": [
    "# скачиваем стоп-слова \n",
    "nltk.download('stopwords')\n",
    "stop_words = set(stopwords.words('russian'))\n",
    "\n",
    "# еще один список от bukvarix.com - список стоп-слов Яндекс Wordstat - (этот список можно дополнить/изменить)\n",
    "file_path_words = os.path.join(file_path, 'stop_words.txt')\n",
    "with open(file_path_words, 'r', encoding='utf-8') as file:\n",
    "    stop_words_buk = file.read()"
   ]
  },
  {
   "cell_type": "code",
   "execution_count": 20,
   "id": "4a6eb273",
   "metadata": {},
   "outputs": [],
   "source": [
    "# удаляем стоп-слова и слова-паразиты\n",
    "posts['post_lemmatized'] = posts['post_lemmatized'].apply(lambda x: ' '.join([word for word in x.split() if word not in stop_words]))\n",
    "posts['post_lemmatized'] = posts['post_lemmatized'].apply(lambda x: ' '.join([word for word in x.split() if word.lower() not in stop_words_buk]))"
   ]
  },
  {
   "cell_type": "code",
   "execution_count": 21,
   "id": "d326e369",
   "metadata": {},
   "outputs": [],
   "source": [
    "'''если НЕ оставляем в постах английские слова'''\n",
    "# определяем шаблон регулярного выражения для русских букв\n",
    "pattern = '[^а-яА-ЯёЁ]'\n",
    "# создаем маску, чтобы проверить, содержит ли каждая ячейка русские буквы\n",
    "mask = posts['post_lemmatized'].str.contains(pattern, regex=True)\n",
    "# фильтруем датафрейм, используя маску\n",
    "posts = posts[mask]\n",
    "\n",
    "# '''если оставляем в постах английские слова'''\n",
    "# pattern = '[^а-яА-ЯёЁ]'\n",
    "# mask = posts['post_lemmatized'].str.contains(pattern, regex=True)\n",
    "# posts = posts[mask]\n",
    "\n",
    "# english_letters_mask = posts['post_lemmatized'].str.match(r'^[a-zA-Z\\s]+$')\n",
    "# posts = posts[~english_letters_mask]"
   ]
  },
  {
   "cell_type": "code",
   "execution_count": 22,
   "id": "839fa6a6",
   "metadata": {},
   "outputs": [
    {
     "data": {
      "text/html": [
       "<div>\n",
       "<style scoped>\n",
       "    .dataframe tbody tr th:only-of-type {\n",
       "        vertical-align: middle;\n",
       "    }\n",
       "\n",
       "    .dataframe tbody tr th {\n",
       "        vertical-align: top;\n",
       "    }\n",
       "\n",
       "    .dataframe thead th {\n",
       "        text-align: right;\n",
       "    }\n",
       "</style>\n",
       "<table border=\"1\" class=\"dataframe\">\n",
       "  <thead>\n",
       "    <tr style=\"text-align: right;\">\n",
       "      <th></th>\n",
       "      <th>user_id</th>\n",
       "      <th>post</th>\n",
       "      <th>likes</th>\n",
       "      <th>comments</th>\n",
       "      <th>reposts</th>\n",
       "      <th>post_lemmatized</th>\n",
       "    </tr>\n",
       "  </thead>\n",
       "  <tbody>\n",
       "    <tr>\n",
       "      <th>0</th>\n",
       "      <td>ali-wodan</td>\n",
       "      <td>Кстати говоря. Теперь подкаст Миражи доступен в соцсети Вконтакте: https://lnkd.in/gKkrJX9 Я наконец разобрался как туда прикрутить RSS :-) #podcast #миражи</td>\n",
       "      <td>1</td>\n",
       "      <td>0</td>\n",
       "      <td>0</td>\n",
       "      <td>кстати говоря подкаст мираж доступный соцсеть вконтакте разобраться туда прикрутить</td>\n",
       "    </tr>\n",
       "    <tr>\n",
       "      <th>2</th>\n",
       "      <td>ali-wodan</td>\n",
       "      <td>Хэй честной народ! Ищу векторного иллюстратора на проект, с возможным длительным сотрудничеством по итогу. Можно удаленно. Уровень иллюстраций не хуже чем в примере https://lnkd.in/gkrvhxY Репост, пожалуйста)Если ты умеешь так рисовать, напиши мне в личку :-)Hey! I am looking for an Illustrator who can help us with a project! You need to have skills like in the example below or upper. Text me to discuss prices and due :-)#вакансия #vacancy #illustration #иллюстрация #project #проект</td>\n",
       "      <td>6</td>\n",
       "      <td>0</td>\n",
       "      <td>0</td>\n",
       "      <td>хэй честной народ искать векторный иллюстратор проект возможный длительный сотрудничество итогу удаленно уровень иллюстрация плохой пример репост пожалуйстаести уметь рисовать написать личка</td>\n",
       "    </tr>\n",
       "    <tr>\n",
       "      <th>3</th>\n",
       "      <td>ali-wodan</td>\n",
       "      <td>Новый пост подкаста \"Миражи\" на всех платформах:В аудио: https://lnkd.in/giWuSVN В инстаграме: https://lnkd.in/gbV6yxK Н #automotive # # #cars #а патреоне: https://lnkd.in/gfShqTU #саморазвитие #психология #психологиячеловека #психологияжизни #психологияличности #личностныйрост #подкаст #подкастмиражи #маркетинг #осознанность #мысли #мысливслух #установки #влияние #подсознаниеИспользованные звуки, музыка и картинки:Аудиоцитата из фильма \"Формула любви\" Марка ЗахароваJardins du Luxembourg by Jahzzar is licensed under a Attribution-ShareAlike 3.0 International License.prisoner by Luis Prado from the Noun Project</td>\n",
       "      <td>1</td>\n",
       "      <td>0</td>\n",
       "      <td>0</td>\n",
       "      <td>новый пост подкаст миражи платформахть аудио инстаграме патреоне звуки музыка картинкиаудиоцитат фильм формула любви марк захарова</td>\n",
       "    </tr>\n",
       "    <tr>\n",
       "      <th>4</th>\n",
       "      <td>ali-wodan</td>\n",
       "      <td>Подкаст Миражи, Эпизод 13Ошибка невозвратных затратpodcast.ru/1539345144#подкаст #podcast #it #podcasts #psychology #психология #miragespodcast</td>\n",
       "      <td>2</td>\n",
       "      <td>0</td>\n",
       "      <td>0</td>\n",
       "      <td>подкаст миражи эпизод ошибка невозвратный затрат</td>\n",
       "    </tr>\n",
       "    <tr>\n",
       "      <th>5</th>\n",
       "      <td>ali-wodan</td>\n",
       "      <td>Новый эпизод об эффекте ИКЕА на всех платформах podcast.ru/1539345144</td>\n",
       "      <td>1</td>\n",
       "      <td>0</td>\n",
       "      <td>0</td>\n",
       "      <td>новый эпизод эффект икеа платформа</td>\n",
       "    </tr>\n",
       "  </tbody>\n",
       "</table>\n",
       "</div>"
      ],
      "text/plain": [
       "     user_id  \\\n",
       "0  ali-wodan   \n",
       "2  ali-wodan   \n",
       "3  ali-wodan   \n",
       "4  ali-wodan   \n",
       "5  ali-wodan   \n",
       "\n",
       "                                                                                                                                                                                                                                                                                                                                                                                                                                                                                                                                                                                                                                        post  \\\n",
       "0                                                                                                                                                                                                                                                                                                                                                                                                                                                                               Кстати говоря. Теперь подкаст Миражи доступен в соцсети Вконтакте: https://lnkd.in/gKkrJX9 Я наконец разобрался как туда прикрутить RSS :-) #podcast #миражи   \n",
       "2                                                                                                                                    Хэй честной народ! Ищу векторного иллюстратора на проект, с возможным длительным сотрудничеством по итогу. Можно удаленно. Уровень иллюстраций не хуже чем в примере https://lnkd.in/gkrvhxY Репост, пожалуйста)Если ты умеешь так рисовать, напиши мне в личку :-)Hey! I am looking for an Illustrator who can help us with a project! You need to have skills like in the example below or upper. Text me to discuss prices and due :-)#вакансия #vacancy #illustration #иллюстрация #project #проект   \n",
       "3  Новый пост подкаста \"Миражи\" на всех платформах:В аудио: https://lnkd.in/giWuSVN В инстаграме: https://lnkd.in/gbV6yxK Н #automotive # # #cars #а патреоне: https://lnkd.in/gfShqTU #саморазвитие #психология #психологиячеловека #психологияжизни #психологияличности #личностныйрост #подкаст #подкастмиражи #маркетинг #осознанность #мысли #мысливслух #установки #влияние #подсознаниеИспользованные звуки, музыка и картинки:Аудиоцитата из фильма \"Формула любви\" Марка ЗахароваJardins du Luxembourg by Jahzzar is licensed under a Attribution-ShareAlike 3.0 International License.prisoner by Luis Prado from the Noun Project   \n",
       "4                                                                                                                                                                                                                                                                                                                                                                                                                                                                                            Подкаст Миражи, Эпизод 13Ошибка невозвратных затратpodcast.ru/1539345144#подкаст #podcast #it #podcasts #psychology #психология #miragespodcast   \n",
       "5                                                                                                                                                                                                                                                                                                                                                                                                                                                                                                                                                                      Новый эпизод об эффекте ИКЕА на всех платформах podcast.ru/1539345144   \n",
       "\n",
       "  likes  comments  reposts  \\\n",
       "0     1         0        0   \n",
       "2     6         0        0   \n",
       "3     1         0        0   \n",
       "4     2         0        0   \n",
       "5     1         0        0   \n",
       "\n",
       "                                                                                                                                                                                  post_lemmatized  \n",
       "0                                                                                                             кстати говоря подкаст мираж доступный соцсеть вконтакте разобраться туда прикрутить  \n",
       "2  хэй честной народ искать векторный иллюстратор проект возможный длительный сотрудничество итогу удаленно уровень иллюстрация плохой пример репост пожалуйстаести уметь рисовать написать личка  \n",
       "3                                                              новый пост подкаст миражи платформахть аудио инстаграме патреоне звуки музыка картинкиаудиоцитат фильм формула любви марк захарова  \n",
       "4                                                                                                                                                подкаст миражи эпизод ошибка невозвратный затрат  \n",
       "5                                                                                                                                                              новый эпизод эффект икеа платформа  "
      ]
     },
     "execution_count": 22,
     "metadata": {},
     "output_type": "execute_result"
    }
   ],
   "source": [
    "posts.head()"
   ]
  },
  {
   "cell_type": "code",
   "execution_count": 23,
   "id": "9b18b6b9",
   "metadata": {},
   "outputs": [],
   "source": [
    "# Удаляем ключевое слово https, потому что они не могут преобразовать в векторизацию текстов, т.к. нет смысловых нагрузков\n",
    "def remove_https_before_space(text):\n",
    "    # Ищем ключевое слово \"https\" за которым следует любой непробельный символ до пробела\n",
    "    key_https = r\"(https)(\\S*\\s)\"\n",
    "    \n",
    "    # Находим все соответствия ключевому слову \"https\" и словам после него до пробела\n",
    "    matches = re.findall(key_https, text)\n",
    "    \n",
    "    # Удаляем найденные слова\n",
    "    for match in matches:\n",
    "        word = match[1]\n",
    "        text = text.replace('https' + word, \"\")\n",
    "    \n",
    "    return text.strip()"
   ]
  },
  {
   "cell_type": "code",
   "execution_count": 24,
   "id": "a18812f9",
   "metadata": {},
   "outputs": [],
   "source": [
    "# удаляем слова, которые идут по ключевому слову https\n",
    "posts['post_lemmatized'] = posts['post_lemmatized'].apply(remove_https_before_space)"
   ]
  },
  {
   "cell_type": "code",
   "execution_count": 25,
   "id": "9b052059",
   "metadata": {},
   "outputs": [
    {
     "data": {
      "text/html": [
       "<div>\n",
       "<style scoped>\n",
       "    .dataframe tbody tr th:only-of-type {\n",
       "        vertical-align: middle;\n",
       "    }\n",
       "\n",
       "    .dataframe tbody tr th {\n",
       "        vertical-align: top;\n",
       "    }\n",
       "\n",
       "    .dataframe thead th {\n",
       "        text-align: right;\n",
       "    }\n",
       "</style>\n",
       "<table border=\"1\" class=\"dataframe\">\n",
       "  <thead>\n",
       "    <tr style=\"text-align: right;\">\n",
       "      <th></th>\n",
       "      <th>user_id</th>\n",
       "      <th>post</th>\n",
       "      <th>likes</th>\n",
       "      <th>comments</th>\n",
       "      <th>reposts</th>\n",
       "      <th>post_lemmatized</th>\n",
       "    </tr>\n",
       "  </thead>\n",
       "  <tbody>\n",
       "    <tr>\n",
       "      <th>217</th>\n",
       "      <td>olgaperun</td>\n",
       "      <td>«5 пороков команды» Патрик Ленсиони - 1 порок - взаимное недоверие</td>\n",
       "      <td>0</td>\n",
       "      <td>0</td>\n",
       "      <td>0</td>\n",
       "      <td>порок команды патрик ленсиони порка взаимный недоверие</td>\n",
       "    </tr>\n",
       "    <tr>\n",
       "      <th>8523</th>\n",
       "      <td>metheoryt</td>\n",
       "      <td>Всегда приятно смотреть на целеустремлённого человека</td>\n",
       "      <td>1</td>\n",
       "      <td>1</td>\n",
       "      <td>0</td>\n",
       "      <td>приятно смотреть целеустремлённый человек</td>\n",
       "    </tr>\n",
       "    <tr>\n",
       "      <th>1840</th>\n",
       "      <td>bexultan-aukenov-022a521b9</td>\n",
       "      <td>Аналитики и HR!Есть кто ищет в команду стажера/начального специалиста?Есть кандидат с сертификатами Power BI, SQL, замечательным английским и просто отличный человекЕсли есть, напишите мне, скину резюме@onebeka tg</td>\n",
       "      <td>43</td>\n",
       "      <td>3</td>\n",
       "      <td>1</td>\n",
       "      <td>аналитик искать команда стажераначальный специалистаесть кандидат сертификат замечательный английский просто отличный человекести написать скинуть резюме</td>\n",
       "    </tr>\n",
       "    <tr>\n",
       "      <th>3110</th>\n",
       "      <td>elizaveta-kalinina-3aab58214</td>\n",
       "      <td>Как вы понимаете, что перешли на новый профессиональный уровень? Я не имею в виду грейды - джун, мидл и синьор-помидор. Я про промежуточные ступени, проходя через которые, добиваешься «звания». Мне интересно узнать именно о промежуточных уровнях. Скажу за себя, я обычно чувствую, что я перешла на новую ступень, выполнив такую задачу, которая была выше моих сил. Это задача, в которой намного больше взаимосвязей, чем в обычной. Задача, которая с первого взгляда кажется неосознаваемой и неосязаемой. Задача, на которой осознаю такие вещи, к которым до настоящего момента не прикасалась в рамках работы. И чувство триумфа, которое испытываю, сдав макеты)Вот после такого я чувствую себя супер-героем, который смог! и стал еще «взрослее».</td>\n",
       "      <td>5</td>\n",
       "      <td>0</td>\n",
       "      <td>0</td>\n",
       "      <td>понимаете переслать новый профессиональный уровень иметь вид грейд джун мидло синьор помидор промежуточный ступени проходить добиваться звания интересно узнать именно промежуточный уровнях сказать обычно чувствую перейти новый ступень выполнить задачу выше сил задача намного большой взаимосвязей обычной задача первый взгляд казаться неосознаваемый неосязаемой задача осознавать вещи настоящий момент прикасаться рамка работы чувство триумфа испытываю сдать макетывот чувствовать супер героем смог стать ещё взрослее</td>\n",
       "    </tr>\n",
       "    <tr>\n",
       "      <th>2381</th>\n",
       "      <td>yury-zhukovsky</td>\n",
       "      <td>Всем привет!Понимать и правильно составлять SQL-запросы – важный навык для работы в QA. На w3schools.com можно отлично прокачать данный навык, а уже после изучать DBeaver.Недавно загрузил свои результаты изучения SQL на GitHub (link на репозиторий – https://lnkd.in/dW-RBipA).  Выполнил 21 задание, начиная от простых запросов к более сложным.#sql #w3schools #qa #qualityassurance #opentowork #ksendzov</td>\n",
       "      <td>3</td>\n",
       "      <td>2</td>\n",
       "      <td>0</td>\n",
       "      <td>приветпонимать правильно составлять запрос важный навык работа отлично прокачать данный навык изучать недавно загрузить результат изучение репозиторий выполнить задание начинать простой запрос сложным</td>\n",
       "    </tr>\n",
       "    <tr>\n",
       "      <th>1712</th>\n",
       "      <td>prof-egor-piskaykin-31b53768</td>\n",
       "      <td>Вашему вниманию успешный кейс из Казахстана.Обеспечение работоспособности и безопасности производства при снижении расхода масла на 30%.</td>\n",
       "      <td>0</td>\n",
       "      <td>0</td>\n",
       "      <td>0</td>\n",
       "      <td>ваш внимание успешный кейс казахстанаобеспечение работоспособность безопасность производство снижение расход масло</td>\n",
       "    </tr>\n",
       "    <tr>\n",
       "      <th>625</th>\n",
       "      <td>viktoriamatveeva</td>\n",
       "      <td>С удовольствием сообщаю, что я получил(а) новый сертификат «EF SET English Certificate 66/100 (C1 Proficient)» от компании EF Standard English Test (EF SET) !</td>\n",
       "      <td>2</td>\n",
       "      <td>0</td>\n",
       "      <td>0</td>\n",
       "      <td>удовольствие сообщаю получила новый сертификат компания</td>\n",
       "    </tr>\n",
       "    <tr>\n",
       "      <th>1539</th>\n",
       "      <td>kris-kostina</td>\n",
       "      <td>Как правильно растить сеть контактов в LinkedIn?Не все знают, как пользоваться фильтрами в LinkedIn, чтобы находить нужных людей и быстро растить релевантную сеть контактов. А ведь это ну очень просто. Каждую неделю вы можете добавлять до 100 новых человек. Если использовать этот лимит по максимуму: 100 человек * 4 недели * 3 месяца ≈ 1⃣2⃣0⃣0⃣ человек, а это уже приличный профиль с хорошим рейтингом.Почему количество контактов важно? Больше релевантных контактов  более “тёплая” связь с рекрутерами и потенциальными руководителями при подаче на зарубежные вакансии. Кроме того, чем больше контактов  выше рейтинг SSI  выше ваш профиль будет в поисках рекрутеров  чаще будете получать приглашения от компаний сами, никуда не подаваясь. Как правильно растить сеть контактов с нуля - смотрите в слайдах #linkedin #ssi #jobsearch #connections #network</td>\n",
       "      <td>150</td>\n",
       "      <td>37</td>\n",
       "      <td>6</td>\n",
       "      <td>правильно растить сеть контакт ич всё знают пользоваться фильтр находить нужный человек быстро растить релевантный сеть контактов очень просто каждый неделя добавлять новый человек использовать лимит максимуму человек неделя месяц человек приличный профиль хороший рейтингомпочий количество контакт важно большой релевантный контакт тёплая связь рекрутер потенциальный руководитель подача зарубежный вакансии кроме большой контакт выше рейтинг выше ваш профиль поиск рекрутер частый получать приглашение компания сами никуда подаваясь правильно растить сеть контакт нуль смотреть слайд</td>\n",
       "    </tr>\n",
       "    <tr>\n",
       "      <th>1841</th>\n",
       "      <td>bexultan-aukenov-022a521b9</td>\n",
       "      <td>#freelance #fullstackДля тех, кому интересна разработка на фрилансеДрузья ищут FullStack Разработчиков для выполнения проектов под заказ, проектов много, рук не хватаетПроекты как и по мобильной разработке, так и сайты пилятСтэк не важен, главное опыт 1-2 годаЦена договорнаяСкидывайте свое резюме или портфолио мне в tg @onebeka</td>\n",
       "      <td>30</td>\n",
       "      <td>2</td>\n",
       "      <td>3</td>\n",
       "      <td>интересный разработка фриланседрузие искать разработчик выполнение проект заказ проект рука хватаетпроект мобильный разработке сайт пилятстэк важен главное опыт годацена договорнаяскидывать резюме портфолио</td>\n",
       "    </tr>\n",
       "    <tr>\n",
       "      <th>3664</th>\n",
       "      <td>yuliii</td>\n",
       "      <td>Продукт для ребят с РПП. Наконец-то вышел! Скорее записывайтесь к Игорю!</td>\n",
       "      <td>0</td>\n",
       "      <td>0</td>\n",
       "      <td>0</td>\n",
       "      <td>продукт ребята рпп вышел скорее записываться игорю</td>\n",
       "    </tr>\n",
       "    <tr>\n",
       "      <th>3070</th>\n",
       "      <td>votumam</td>\n",
       "      <td>Ищем уверенный Junior, начинающий middle iOS и Android разработчиков в B2B проект холдинга. Закидайте резюмешки в ТГ Lia KimРепосты и лайки приветствуются</td>\n",
       "      <td>46</td>\n",
       "      <td>5</td>\n",
       "      <td>2</td>\n",
       "      <td>искать уверенный начинающий разработчик проект холдинга закидать резюмешок тг репост лайк приветствоваться</td>\n",
       "    </tr>\n",
       "    <tr>\n",
       "      <th>6295</th>\n",
       "      <td>antonlenskiy</td>\n",
       "      <td>С 11 по 13 августа в г.Калуга состоится IX Форум по цифровизации оборонно-промышленного комплекса России #ИТОПК2020.Программа мероприятия доступна на сайте: https://xn--h1aelen.xn--p1ai/ На фото совместный стенд RASSE (I-Teco Group) и Security Code.#it #security</td>\n",
       "      <td>3</td>\n",
       "      <td>0</td>\n",
       "      <td>0</td>\n",
       "      <td>август гкалуга состояться форум цифровизация оборонно промышленный комплекс россия мероприятие доступный сайте фото совместный стенд</td>\n",
       "    </tr>\n",
       "    <tr>\n",
       "      <th>6236</th>\n",
       "      <td>antonlenskiy</td>\n",
       "      <td>#Защита #информации в финансовых организациях с помощью #UserGate https://lnkd.in/d2mmQTB2 #cybersecurity #infosec #ITsecurity #bank #finance #ИБ #инфобез #кибербезопасность #compliance</td>\n",
       "      <td>0</td>\n",
       "      <td>0</td>\n",
       "      <td>0</td>\n",
       "      <td>финансовый организация помощь</td>\n",
       "    </tr>\n",
       "    <tr>\n",
       "      <th>1144</th>\n",
       "      <td>enjirouz</td>\n",
       "      <td>Как побороть прокрастинацию и стать продуктивным?Часто такое бывает, что ты откладываешь начало нового дела на неопределённый срок или не можешь выполнить простую задачу просто потому, что лень?Тогда скорее беги смотреть видео: https://lnkd.in/dMCvsFg В нём мы поговорим о том, что такое прокрастинация, в чём её причины, как с ней бороться и сохранять продуктивность в течение дня.После этого видео ты научишься:- ставить цели так, чтобы достигать их;- взвешенно принимать сложные решения;- расставлять приоритеты;- применять способы концентрации на задаче;- делать первый шаг в новую жизнь.Ну и подписаться не забудь! Скоро начнём разбирать, как нужно вести себя на собеседовании, и какие вопросы чаще всего задают IT-специалистам. Не пропусти!#прокрастинация #лень #мотивация</td>\n",
       "      <td>0</td>\n",
       "      <td>0</td>\n",
       "      <td>0</td>\n",
       "      <td>побороть прокрастинация стать продуктивнымчасто бывает откладывать начало новый дело неопределённый срок выполнить простой задача просто леньтогда скорее бежать смотреть видео поговорить прокрастинация её причины бороться сохранять продуктивность течение дняпосле видео научишься ставить цель достигать взвешенно принимать сложный решения расставлять приоритеты применять способ концентрация задаче делать первый шаг новый жизньич подписаться забудь скоро начать разбирать нужно вести собеседовании вопрос частый задавать специалистам пропусти</td>\n",
       "    </tr>\n",
       "    <tr>\n",
       "      <th>1195</th>\n",
       "      <td>thearsen</td>\n",
       "      <td>Как думаете, что означает этот значок? Вы сразу поняли смысл или нужно было немного подумать? Напишите ваши догадки в комментах. Но если вам нужны варианты (можно проголосовать реакцией):   - душ,  - расчёска,  - еда,  - нет идей / напишу в комментах.· · ·контекст: поисковая выдача на www.sj.se· · · p.s. я сейчас в поиске фуллтайм позиции UX+UI дизайнера. Если есть открытая вакансия или можете порекомендовать — буду благодарен. Резюме и ссылки в профиле.· · · #icons #graphic #design #symbol #visualdesign #ui #иконки #дизайн</td>\n",
       "      <td>55</td>\n",
       "      <td>81</td>\n",
       "      <td>1</td>\n",
       "      <td>думаете означать значок сразу понять смысл нужно немного подумать написать ваш догадка комментах нужный вариант можный проголосовать реакцией душ расчёска еда идея написать комментах контекст поисковый выдача поиск фуллтайм позиция дизайнера открытый вакансия порекомендовать благодарен резюме ссылка профиле</td>\n",
       "    </tr>\n",
       "    <tr>\n",
       "      <th>3096</th>\n",
       "      <td>votumam</td>\n",
       "      <td>Если вы недавно стали менеджером в IT и ищете ментора — буду рад им стать :)Научу жарить диджитал-проекты, как горячие пирожки. Будете сдавать работу в срок, на зависть друзьям и коллегам.Пишите в личные сообщения, обсудим.</td>\n",
       "      <td>39</td>\n",
       "      <td>17</td>\n",
       "      <td>1</td>\n",
       "      <td>недавно стать менеджер искать ментор рад стать научить жарить диджитал проекты горячий пирожки сдавать работа срок зависть друг коллегамписать личный сообщения обсудим</td>\n",
       "    </tr>\n",
       "    <tr>\n",
       "      <th>1072</th>\n",
       "      <td>enjirouz</td>\n",
       "      <td>Как протестировать бизнес-идею с минимальными вложениями: https://lnkd.in/eQcpw-vK Рассказываю о том, как протестировать спрос на бизнес-идею, чтобы не потратить время, силы и деньги на разработку продукта, который никому не нужен.[ТАЙМКОДЫ]0:00 - Как бесплатно проверить спрос на бизнес-идею1:25 - Как собрать лендинг для тестирования идеи продукта5:15 - Что должно быть в рекламных объявлениях и зачем нужно тестировать идею, а не готовый продуктВидео: https://lnkd.in/eQcpw-vK Дополнительные материалы (рабочая тетрадь с формулами для расчетов и полная схема из видео): https://lnkd.in/eYygVvgN</td>\n",
       "      <td>0</td>\n",
       "      <td>0</td>\n",
       "      <td>0</td>\n",
       "      <td>протестировать бизнес идея минимальный вложениями рассказывать протестировать спрос бизнес идею потратить время сила деньга разработка продукта никто нужентаймкоды бесплатно проверить спрос бизнес идею собрать лендинга тестирование идея продукта должный рекламный объявление нужно тестировать идею готовый продуктвидео дополнительный материал рабочий тетрадь формула расчёт полный схема видео</td>\n",
       "    </tr>\n",
       "    <tr>\n",
       "      <th>1527</th>\n",
       "      <td>kris-kostina</td>\n",
       "      <td>Раскладываем карты и ждём оффер Штрафное видео для моего канала https://t.me/it_psycho  #юмор #эзотерика #поискработы</td>\n",
       "      <td>52</td>\n",
       "      <td>11</td>\n",
       "      <td>0</td>\n",
       "      <td>раскладывать карта ждать оффера штрафной видео канал</td>\n",
       "    </tr>\n",
       "    <tr>\n",
       "      <th>250</th>\n",
       "      <td>olgaperun</td>\n",
       "      <td>Небольшой отзыв#погналивit#проектноеуправление</td>\n",
       "      <td>0</td>\n",
       "      <td>0</td>\n",
       "      <td>0</td>\n",
       "      <td>небольшой отзыв</td>\n",
       "    </tr>\n",
       "    <tr>\n",
       "      <th>3442</th>\n",
       "      <td>%D0%B5%D1%80%D0%BB%D0%B0%D0%BD-%D0%B0%D1%85%D0%BC%D0%B5%D1%82%D0%BE%D0%B2-32532258</td>\n",
       "      <td>Центральный рынок .Я уже говорил о том, что мы планомерно готовимся к выходу на центральный рынок - США. Задача непростая, но мы считаем возможная. Первым десантировался Рашид. Он уже провел там достаточно долгое время, и уже есть первые наработки. Когда он приехал, он привез мне шляпу в виде сувенира. Собственно отсюда и появилась идея поста. Так что будем осваивать незнакомый пока для нас Дикий запад!Пожелайте нам удачи!</td>\n",
       "      <td>29</td>\n",
       "      <td>13</td>\n",
       "      <td>0</td>\n",
       "      <td>центральный рынок говорить планомерно готовиться выход центральный рынок сша задача непростая считать возможная первый десантироваться рашид провести достаточно долгий время первый наработки приехал привезти шляпа вид сувенира собственно отсюда появиться идея поста осваивать незнакомый пока дикий западпожелать удачи</td>\n",
       "    </tr>\n",
       "  </tbody>\n",
       "</table>\n",
       "</div>"
      ],
      "text/plain": [
       "                                                                                 user_id  \\\n",
       "217                                                                            olgaperun   \n",
       "8523                                                                           metheoryt   \n",
       "1840                                                          bexultan-aukenov-022a521b9   \n",
       "3110                                                        elizaveta-kalinina-3aab58214   \n",
       "2381                                                                      yury-zhukovsky   \n",
       "1712                                                        prof-egor-piskaykin-31b53768   \n",
       "625                                                                     viktoriamatveeva   \n",
       "1539                                                                        kris-kostina   \n",
       "1841                                                          bexultan-aukenov-022a521b9   \n",
       "3664                                                                              yuliii   \n",
       "3070                                                                             votumam   \n",
       "6295                                                                        antonlenskiy   \n",
       "6236                                                                        antonlenskiy   \n",
       "1144                                                                            enjirouz   \n",
       "1195                                                                            thearsen   \n",
       "3096                                                                             votumam   \n",
       "1072                                                                            enjirouz   \n",
       "1527                                                                        kris-kostina   \n",
       "250                                                                            olgaperun   \n",
       "3442  %D0%B5%D1%80%D0%BB%D0%B0%D0%BD-%D0%B0%D1%85%D0%BC%D0%B5%D1%82%D0%BE%D0%B2-32532258   \n",
       "\n",
       "                                                                                                                                                                                                                                                                                                                                                                                                                                                                                                                                                                                                                                                                                                                                                                                                                                                                                     post  \\\n",
       "217                                                                                                                                                                                                                                                                                                                                                                                                                                                                                                                                                                                                                                                                                                                                                                                                                    «5 пороков команды» Патрик Ленсиони - 1 порок - взаимное недоверие   \n",
       "8523                                                                                                                                                                                                                                                                                                                                                                                                                                                                                                                                                                                                                                                                                                                                                                                                                                Всегда приятно смотреть на целеустремлённого человека   \n",
       "1840                                                                                                                                                                                                                                                                                                                                                                                                                                                                                                                                                                                                                                                                Аналитики и HR!Есть кто ищет в команду стажера/начального специалиста?Есть кандидат с сертификатами Power BI, SQL, замечательным английским и просто отличный человекЕсли есть, напишите мне, скину резюме@onebeka tg   \n",
       "3110                                                                                                                   Как вы понимаете, что перешли на новый профессиональный уровень? Я не имею в виду грейды - джун, мидл и синьор-помидор. Я про промежуточные ступени, проходя через которые, добиваешься «звания». Мне интересно узнать именно о промежуточных уровнях. Скажу за себя, я обычно чувствую, что я перешла на новую ступень, выполнив такую задачу, которая была выше моих сил. Это задача, в которой намного больше взаимосвязей, чем в обычной. Задача, которая с первого взгляда кажется неосознаваемой и неосязаемой. Задача, на которой осознаю такие вещи, к которым до настоящего момента не прикасалась в рамках работы. И чувство триумфа, которое испытываю, сдав макеты)Вот после такого я чувствую себя супер-героем, который смог! и стал еще «взрослее».   \n",
       "2381                                                                                                                                                                                                                                                                                                                                                                                                                                                                   Всем привет!Понимать и правильно составлять SQL-запросы – важный навык для работы в QA. На w3schools.com можно отлично прокачать данный навык, а уже после изучать DBeaver.Недавно загрузил свои результаты изучения SQL на GitHub (link на репозиторий – https://lnkd.in/dW-RBipA).  Выполнил 21 задание, начиная от простых запросов к более сложным.#sql #w3schools #qa #qualityassurance #opentowork #ksendzov   \n",
       "1712                                                                                                                                                                                                                                                                                                                                                                                                                                                                                                                                                                                                                                                                                                                                             Вашему вниманию успешный кейс из Казахстана.Обеспечение работоспособности и безопасности производства при снижении расхода масла на 30%.   \n",
       "625                                                                                                                                                                                                                                                                                                                                                                                                                                                                                                                                                                                                                                                                                                                        С удовольствием сообщаю, что я получил(а) новый сертификат «EF SET English Certificate 66/100 (C1 Proficient)» от компании EF Standard English Test (EF SET) !   \n",
       "1539  Как правильно растить сеть контактов в LinkedIn?Не все знают, как пользоваться фильтрами в LinkedIn, чтобы находить нужных людей и быстро растить релевантную сеть контактов. А ведь это ну очень просто. Каждую неделю вы можете добавлять до 100 новых человек. Если использовать этот лимит по максимуму: 100 человек * 4 недели * 3 месяца ≈ 1⃣2⃣0⃣0⃣ человек, а это уже приличный профиль с хорошим рейтингом.Почему количество контактов важно? Больше релевантных контактов  более “тёплая” связь с рекрутерами и потенциальными руководителями при подаче на зарубежные вакансии. Кроме того, чем больше контактов  выше рейтинг SSI  выше ваш профиль будет в поисках рекрутеров  чаще будете получать приглашения от компаний сами, никуда не подаваясь. Как правильно растить сеть контактов с нуля - смотрите в слайдах #linkedin #ssi #jobsearch #connections #network   \n",
       "1841                                                                                                                                                                                                                                                                                                                                                                                                                                                                                                                                            #freelance #fullstackДля тех, кому интересна разработка на фрилансеДрузья ищут FullStack Разработчиков для выполнения проектов под заказ, проектов много, рук не хватаетПроекты как и по мобильной разработке, так и сайты пилятСтэк не важен, главное опыт 1-2 годаЦена договорнаяСкидывайте свое резюме или портфолио мне в tg @onebeka   \n",
       "3664                                                                                                                                                                                                                                                                                                                                                                                                                                                                                                                                                                                                                                                                                                                                                                                                            Продукт для ребят с РПП. Наконец-то вышел! Скорее записывайтесь к Игорю!    \n",
       "3070                                                                                                                                                                                                                                                                                                                                                                                                                                                                                                                                                                                                                                                                                                                          Ищем уверенный Junior, начинающий middle iOS и Android разработчиков в B2B проект холдинга. Закидайте резюмешки в ТГ Lia KimРепосты и лайки приветствуются    \n",
       "6295                                                                                                                                                                                                                                                                                                                                                                                                                                                                                                                                                                                                               С 11 по 13 августа в г.Калуга состоится IX Форум по цифровизации оборонно-промышленного комплекса России #ИТОПК2020.Программа мероприятия доступна на сайте: https://xn--h1aelen.xn--p1ai/ На фото совместный стенд RASSE (I-Teco Group) и Security Code.#it #security   \n",
       "6236                                                                                                                                                                                                                                                                                                                                                                                                                                                                                                                                                                                                                                                                                            #Защита #информации в финансовых организациях с помощью #UserGate https://lnkd.in/d2mmQTB2 #cybersecurity #infosec #ITsecurity #bank #finance #ИБ #инфобез #кибербезопасность #compliance   \n",
       "1144                                                                           Как побороть прокрастинацию и стать продуктивным?Часто такое бывает, что ты откладываешь начало нового дела на неопределённый срок или не можешь выполнить простую задачу просто потому, что лень?Тогда скорее беги смотреть видео: https://lnkd.in/dMCvsFg В нём мы поговорим о том, что такое прокрастинация, в чём её причины, как с ней бороться и сохранять продуктивность в течение дня.После этого видео ты научишься:- ставить цели так, чтобы достигать их;- взвешенно принимать сложные решения;- расставлять приоритеты;- применять способы концентрации на задаче;- делать первый шаг в новую жизнь.Ну и подписаться не забудь! Скоро начнём разбирать, как нужно вести себя на собеседовании, и какие вопросы чаще всего задают IT-специалистам. Не пропусти!#прокрастинация #лень #мотивация   \n",
       "1195                                                                                                                                                                                                                                                                                                                                    Как думаете, что означает этот значок? Вы сразу поняли смысл или нужно было немного подумать? Напишите ваши догадки в комментах. Но если вам нужны варианты (можно проголосовать реакцией):   - душ,  - расчёска,  - еда,  - нет идей / напишу в комментах.· · ·контекст: поисковая выдача на www.sj.se· · · p.s. я сейчас в поиске фуллтайм позиции UX+UI дизайнера. Если есть открытая вакансия или можете порекомендовать — буду благодарен. Резюме и ссылки в профиле.· · · #icons #graphic #design #symbol #visualdesign #ui #иконки #дизайн   \n",
       "3096                                                                                                                                                                                                                                                                                                                                                                                                                                                                                                                                                                                                                                                      Если вы недавно стали менеджером в IT и ищете ментора — буду рад им стать :)Научу жарить диджитал-проекты, как горячие пирожки. Будете сдавать работу в срок, на зависть друзьям и коллегам.Пишите в личные сообщения, обсудим.   \n",
       "1072                                                                                                                                                                                                                                                                Как протестировать бизнес-идею с минимальными вложениями: https://lnkd.in/eQcpw-vK Рассказываю о том, как протестировать спрос на бизнес-идею, чтобы не потратить время, силы и деньги на разработку продукта, который никому не нужен.[ТАЙМКОДЫ]0:00 - Как бесплатно проверить спрос на бизнес-идею1:25 - Как собрать лендинг для тестирования идеи продукта5:15 - Что должно быть в рекламных объявлениях и зачем нужно тестировать идею, а не готовый продуктВидео: https://lnkd.in/eQcpw-vK Дополнительные материалы (рабочая тетрадь с формулами для расчетов и полная схема из видео): https://lnkd.in/eYygVvgN   \n",
       "1527                                                                                                                                                                                                                                                                                                                                                                                                                                                                                                                                                                                                                                                                                                                                                                Раскладываем карты и ждём оффер Штрафное видео для моего канала https://t.me/it_psycho  #юмор #эзотерика #поискработы   \n",
       "250                                                                                                                                                                                                                                                                                                                                                                                                                                                                                                                                                                                                                                                                                                                                                                                                                                        Небольшой отзыв#погналивit#проектноеуправление   \n",
       "3442                                                                                                                                                                                                                                                                                                                                                                                                                                           Центральный рынок .Я уже говорил о том, что мы планомерно готовимся к выходу на центральный рынок - США. Задача непростая, но мы считаем возможная. Первым десантировался Рашид. Он уже провел там достаточно долгое время, и уже есть первые наработки. Когда он приехал, он привез мне шляпу в виде сувенира. Собственно отсюда и появилась идея поста. Так что будем осваивать незнакомый пока для нас Дикий запад!Пожелайте нам удачи!   \n",
       "\n",
       "     likes  comments  reposts  \\\n",
       "217      0         0        0   \n",
       "8523     1         1        0   \n",
       "1840    43         3        1   \n",
       "3110     5         0        0   \n",
       "2381     3         2        0   \n",
       "1712     0         0        0   \n",
       "625      2         0        0   \n",
       "1539   150        37        6   \n",
       "1841    30         2        3   \n",
       "3664     0         0        0   \n",
       "3070    46         5        2   \n",
       "6295     3         0        0   \n",
       "6236     0         0        0   \n",
       "1144     0         0        0   \n",
       "1195    55        81        1   \n",
       "3096    39        17        1   \n",
       "1072     0         0        0   \n",
       "1527    52        11        0   \n",
       "250      0         0        0   \n",
       "3442    29        13        0   \n",
       "\n",
       "                                                                                                                                                                                                                                                                                                                                                                                                                                                                                                                                                                                                post_lemmatized  \n",
       "217                                                                                                                                                                                                                                                                                                                                                                                                                                                                                                                                                      порок команды патрик ленсиони порка взаимный недоверие  \n",
       "8523                                                                                                                                                                                                                                                                                                                                                                                                                                                                                                                                                                  приятно смотреть целеустремлённый человек  \n",
       "1840                                                                                                                                                                                                                                                                                                                                                                                                                                                  аналитик искать команда стажераначальный специалистаесть кандидат сертификат замечательный английский просто отличный человекести написать скинуть резюме  \n",
       "3110                                                                      понимаете переслать новый профессиональный уровень иметь вид грейд джун мидло синьор помидор промежуточный ступени проходить добиваться звания интересно узнать именно промежуточный уровнях сказать обычно чувствую перейти новый ступень выполнить задачу выше сил задача намного большой взаимосвязей обычной задача первый взгляд казаться неосознаваемый неосязаемой задача осознавать вещи настоящий момент прикасаться рамка работы чувство триумфа испытываю сдать макетывот чувствовать супер героем смог стать ещё взрослее  \n",
       "2381                                                                                                                                                                                                                                                                                                                                                                                                   приветпонимать правильно составлять запрос важный навык работа отлично прокачать данный навык изучать недавно загрузить результат изучение репозиторий выполнить задание начинать простой запрос сложным  \n",
       "1712                                                                                                                                                                                                                                                                                                                                                                                                                                                                                         ваш внимание успешный кейс казахстанаобеспечение работоспособность безопасность производство снижение расход масло  \n",
       "625                                                                                                                                                                                                                                                                                                                                                                                                                                                                                                                                                     удовольствие сообщаю получила новый сертификат компания  \n",
       "1539  правильно растить сеть контакт ич всё знают пользоваться фильтр находить нужный человек быстро растить релевантный сеть контактов очень просто каждый неделя добавлять новый человек использовать лимит максимуму человек неделя месяц человек приличный профиль хороший рейтингомпочий количество контакт важно большой релевантный контакт тёплая связь рекрутер потенциальный руководитель подача зарубежный вакансии кроме большой контакт выше рейтинг выше ваш профиль поиск рекрутер частый получать приглашение компания сами никуда подаваясь правильно растить сеть контакт нуль смотреть слайд  \n",
       "1841                                                                                                                                                                                                                                                                                                                                                                                             интересный разработка фриланседрузие искать разработчик выполнение проект заказ проект рука хватаетпроект мобильный разработке сайт пилятстэк важен главное опыт годацена договорнаяскидывать резюме портфолио  \n",
       "3664                                                                                                                                                                                                                                                                                                                                                                                                                                                                                                                                                         продукт ребята рпп вышел скорее записываться игорю  \n",
       "3070                                                                                                                                                                                                                                                                                                                                                                                                                                                                                                 искать уверенный начинающий разработчик проект холдинга закидать резюмешок тг репост лайк приветствоваться  \n",
       "6295                                                                                                                                                                                                                                                                                                                                                                                                                                                                       август гкалуга состояться форум цифровизация оборонно промышленный комплекс россия мероприятие доступный сайте фото совместный стенд  \n",
       "6236                                                                                                                                                                                                                                                                                                                                                                                                                                                                                                                                                                              финансовый организация помощь  \n",
       "1144                                            побороть прокрастинация стать продуктивнымчасто бывает откладывать начало новый дело неопределённый срок выполнить простой задача просто леньтогда скорее бежать смотреть видео поговорить прокрастинация её причины бороться сохранять продуктивность течение дняпосле видео научишься ставить цель достигать взвешенно принимать сложный решения расставлять приоритеты применять способ концентрация задаче делать первый шаг новый жизньич подписаться забудь скоро начать разбирать нужно вести собеседовании вопрос частый задавать специалистам пропусти  \n",
       "1195                                                                                                                                                                                                                                                                                       думаете означать значок сразу понять смысл нужно немного подумать написать ваш догадка комментах нужный вариант можный проголосовать реакцией душ расчёска еда идея написать комментах контекст поисковый выдача поиск фуллтайм позиция дизайнера открытый вакансия порекомендовать благодарен резюме ссылка профиле  \n",
       "3096                                                                                                                                                                                                                                                                                                                                                                                                                                    недавно стать менеджер искать ментор рад стать научить жарить диджитал проекты горячий пирожки сдавать работа срок зависть друг коллегамписать личный сообщения обсудим  \n",
       "1072                                                                                                                                                                                                   протестировать бизнес идея минимальный вложениями рассказывать протестировать спрос бизнес идею потратить время сила деньга разработка продукта никто нужентаймкоды бесплатно проверить спрос бизнес идею собрать лендинга тестирование идея продукта должный рекламный объявление нужно тестировать идею готовый продуктвидео дополнительный материал рабочий тетрадь формула расчёт полный схема видео  \n",
       "1527                                                                                                                                                                                                                                                                                                                                                                                                                                                                                                                                                       раскладывать карта ждать оффера штрафной видео канал  \n",
       "250                                                                                                                                                                                                                                                                                                                                                                                                                                                                                                                                                                                             небольшой отзыв  \n",
       "3442                                                                                                                                                                                                                                                                              центральный рынок говорить планомерно готовиться выход центральный рынок сша задача непростая считать возможная первый десантироваться рашид провести достаточно долгий время первый наработки приехал привезти шляпа вид сувенира собственно отсюда появиться идея поста осваивать незнакомый пока дикий западпожелать удачи  "
      ]
     },
     "execution_count": 25,
     "metadata": {},
     "output_type": "execute_result"
    }
   ],
   "source": [
    "posts.sample(20)"
   ]
  },
  {
   "cell_type": "code",
   "execution_count": 26,
   "id": "06697bb2",
   "metadata": {
    "scrolled": true
   },
   "outputs": [
    {
     "name": "stdout",
     "output_type": "stream",
     "text": [
      "<class 'pandas.core.frame.DataFrame'>\n",
      "Index: 2118 entries, 0 to 8597\n",
      "Data columns (total 6 columns):\n",
      " #   Column           Non-Null Count  Dtype \n",
      "---  ------           --------------  ----- \n",
      " 0   user_id          2118 non-null   object\n",
      " 1   post             2118 non-null   object\n",
      " 2   likes            2118 non-null   object\n",
      " 3   comments         2118 non-null   int64 \n",
      " 4   reposts          2118 non-null   int64 \n",
      " 5   post_lemmatized  2118 non-null   object\n",
      "dtypes: int64(2), object(4)\n",
      "memory usage: 115.8+ KB\n"
     ]
    }
   ],
   "source": [
    "posts.info()"
   ]
  },
  {
   "cell_type": "markdown",
   "id": "e57876ed",
   "metadata": {},
   "source": [
    "Объединяем датафреймы"
   ]
  },
  {
   "cell_type": "code",
   "execution_count": 27,
   "id": "6c805aa9",
   "metadata": {},
   "outputs": [],
   "source": [
    "# переименуем столбец id в user_id в датафрейме profiles, для последующего объединения с posts\n",
    "profiles = profiles.rename(columns={'id': 'user_id'})"
   ]
  },
  {
   "cell_type": "code",
   "execution_count": 28,
   "id": "56fdc9f2",
   "metadata": {},
   "outputs": [],
   "source": [
    "# объединяем датафреймы\n",
    "df = pd.merge(posts, profiles, on='user_id')"
   ]
  },
  {
   "cell_type": "code",
   "execution_count": 29,
   "id": "3876077c",
   "metadata": {},
   "outputs": [],
   "source": [
    "# удаляем лишние столбцы\n",
    "#df = df.drop(columns=['Unnamed: 0_x', 'Unnamed: 0_y'], axis=1)"
   ]
  },
  {
   "cell_type": "code",
   "execution_count": 30,
   "id": "18c78b8f",
   "metadata": {},
   "outputs": [],
   "source": [
    "# удаляем дубликаты\n",
    "df.drop_duplicates(inplace=True)"
   ]
  },
  {
   "cell_type": "code",
   "execution_count": 31,
   "id": "9eddf485",
   "metadata": {},
   "outputs": [],
   "source": [
    "# удаляем из столбца likes точки, запятые и пробелы\n",
    "df[\"likes\"] = df[\"likes\"].replace(r'\\.|\\,|\\s', '', regex=True)\n",
    "\n",
    "# меняем тип данных сотлбца likes на integer\n",
    "df[\"likes\"] = df[\"likes\"].astype(\"int64\")"
   ]
  },
  {
   "cell_type": "code",
   "execution_count": 32,
   "id": "58f5fe96",
   "metadata": {
    "scrolled": false
   },
   "outputs": [
    {
     "name": "stdout",
     "output_type": "stream",
     "text": [
      "<class 'pandas.core.frame.DataFrame'>\n",
      "Index: 2109 entries, 0 to 2117\n",
      "Data columns (total 15 columns):\n",
      " #   Column            Non-Null Count  Dtype \n",
      "---  ------            --------------  ----- \n",
      " 0   user_id           2109 non-null   object\n",
      " 1   post              2109 non-null   object\n",
      " 2   likes             2109 non-null   int64 \n",
      " 3   comments          2109 non-null   int64 \n",
      " 4   reposts           2109 non-null   int64 \n",
      " 5   post_lemmatized   2109 non-null   object\n",
      " 6   user_name         2109 non-null   object\n",
      " 7   user_head         2109 non-null   object\n",
      " 8   user_work         2020 non-null   object\n",
      " 9   user_position     2109 non-null   object\n",
      " 10  user_tags         401 non-null    object\n",
      " 11  user_location     2102 non-null   object\n",
      " 12  user_viewers      2109 non-null   object\n",
      " 13  user_contacts     2109 non-null   object\n",
      " 14  user_common_info  1917 non-null   object\n",
      "dtypes: int64(3), object(12)\n",
      "memory usage: 263.6+ KB\n"
     ]
    }
   ],
   "source": [
    "df.info()"
   ]
  },
  {
   "cell_type": "code",
   "execution_count": 33,
   "id": "aa8b402a",
   "metadata": {},
   "outputs": [],
   "source": [
    "# Сохраняем датафрейм\n",
    "df.to_csv(os.path.join(file_path, 'linkedin.csv'))\n",
    "\n",
    "# Сохраняем датафрейм лемматизации\n",
    "df[[\n",
    "    'user_id', 'post_lemmatized', 'likes', 'comments', 'reposts'\n",
    "]].to_csv(os.path.join(file_path, 'post_lemmatized.csv'))"
   ]
  },
  {
   "cell_type": "markdown",
   "id": "da156ba1",
   "metadata": {},
   "source": [
    "---"
   ]
  },
  {
   "cell_type": "markdown",
   "id": "7723f3a6",
   "metadata": {},
   "source": [
    "**Оценка полученных данных**"
   ]
  },
  {
   "cell_type": "code",
   "execution_count": 34,
   "id": "3e27f627",
   "metadata": {
    "scrolled": false
   },
   "outputs": [],
   "source": [
    "# загружаем датафрейм с лемматизированным текстом\n",
    "df_lem = pd.read_csv(os.path.join(file_path, 'post_lemmatized.csv'), index_col=0)"
   ]
  },
  {
   "cell_type": "code",
   "execution_count": 35,
   "id": "e48b3c65",
   "metadata": {
    "scrolled": true
   },
   "outputs": [
    {
     "data": {
      "text/html": [
       "<div>\n",
       "<style scoped>\n",
       "    .dataframe tbody tr th:only-of-type {\n",
       "        vertical-align: middle;\n",
       "    }\n",
       "\n",
       "    .dataframe tbody tr th {\n",
       "        vertical-align: top;\n",
       "    }\n",
       "\n",
       "    .dataframe thead th {\n",
       "        text-align: right;\n",
       "    }\n",
       "</style>\n",
       "<table border=\"1\" class=\"dataframe\">\n",
       "  <thead>\n",
       "    <tr style=\"text-align: right;\">\n",
       "      <th></th>\n",
       "      <th>user_id</th>\n",
       "      <th>post_lemmatized</th>\n",
       "      <th>likes</th>\n",
       "      <th>comments</th>\n",
       "      <th>reposts</th>\n",
       "    </tr>\n",
       "  </thead>\n",
       "  <tbody>\n",
       "    <tr>\n",
       "      <th>0</th>\n",
       "      <td>ali-wodan</td>\n",
       "      <td>кстати говоря подкаст мираж доступный соцсеть вконтакте разобраться туда прикрутить</td>\n",
       "      <td>1</td>\n",
       "      <td>0</td>\n",
       "      <td>0</td>\n",
       "    </tr>\n",
       "    <tr>\n",
       "      <th>1</th>\n",
       "      <td>ali-wodan</td>\n",
       "      <td>хэй честной народ искать векторный иллюстратор проект возможный длительный сотрудничество итогу удаленно уровень иллюстрация плохой пример репост пожалуйстаести уметь рисовать написать личка</td>\n",
       "      <td>6</td>\n",
       "      <td>0</td>\n",
       "      <td>0</td>\n",
       "    </tr>\n",
       "  </tbody>\n",
       "</table>\n",
       "</div>"
      ],
      "text/plain": [
       "     user_id  \\\n",
       "0  ali-wodan   \n",
       "1  ali-wodan   \n",
       "\n",
       "                                                                                                                                                                                  post_lemmatized  \\\n",
       "0                                                                                                             кстати говоря подкаст мираж доступный соцсеть вконтакте разобраться туда прикрутить   \n",
       "1  хэй честной народ искать векторный иллюстратор проект возможный длительный сотрудничество итогу удаленно уровень иллюстрация плохой пример репост пожалуйстаести уметь рисовать написать личка   \n",
       "\n",
       "   likes  comments  reposts  \n",
       "0      1         0        0  \n",
       "1      6         0        0  "
      ]
     },
     "execution_count": 35,
     "metadata": {},
     "output_type": "execute_result"
    }
   ],
   "source": [
    "df_lem.head(2)"
   ]
  },
  {
   "cell_type": "code",
   "execution_count": 36,
   "id": "be59d822",
   "metadata": {},
   "outputs": [],
   "source": [
    "# подсчет числа символов\n",
    "def count_chars(text):\n",
    "    return(len(text))\n",
    "\n",
    "# подсчет числа слов\n",
    "def count_words(text):\n",
    "    return(len(text.split()))"
   ]
  },
  {
   "cell_type": "code",
   "execution_count": 37,
   "id": "6d92a2bc",
   "metadata": {},
   "outputs": [],
   "source": [
    "df_lem['num_chars'] = df_lem.post_lemmatized.apply(count_chars)\n",
    "df_lem['num_words'] = df_lem.post_lemmatized.apply(count_words)"
   ]
  },
  {
   "cell_type": "code",
   "execution_count": 38,
   "id": "b522b47f",
   "metadata": {
    "scrolled": false
   },
   "outputs": [
    {
     "data": {
      "text/html": [
       "<div>\n",
       "<style scoped>\n",
       "    .dataframe tbody tr th:only-of-type {\n",
       "        vertical-align: middle;\n",
       "    }\n",
       "\n",
       "    .dataframe tbody tr th {\n",
       "        vertical-align: top;\n",
       "    }\n",
       "\n",
       "    .dataframe thead th {\n",
       "        text-align: right;\n",
       "    }\n",
       "</style>\n",
       "<table border=\"1\" class=\"dataframe\">\n",
       "  <thead>\n",
       "    <tr style=\"text-align: right;\">\n",
       "      <th></th>\n",
       "      <th>user_id</th>\n",
       "      <th>post_lemmatized</th>\n",
       "      <th>likes</th>\n",
       "      <th>comments</th>\n",
       "      <th>reposts</th>\n",
       "      <th>num_chars</th>\n",
       "      <th>num_words</th>\n",
       "    </tr>\n",
       "  </thead>\n",
       "  <tbody>\n",
       "    <tr>\n",
       "      <th>2113</th>\n",
       "      <td>metheoryt</td>\n",
       "      <td>делать команда спасибо ваш поддержку</td>\n",
       "      <td>3</td>\n",
       "      <td>0</td>\n",
       "      <td>0</td>\n",
       "      <td>36</td>\n",
       "      <td>5</td>\n",
       "    </tr>\n",
       "    <tr>\n",
       "      <th>2114</th>\n",
       "      <td>metheoryt</td>\n",
       "      <td>спасибо подавать пример</td>\n",
       "      <td>3</td>\n",
       "      <td>0</td>\n",
       "      <td>0</td>\n",
       "      <td>23</td>\n",
       "      <td>3</td>\n",
       "    </tr>\n",
       "    <tr>\n",
       "      <th>2115</th>\n",
       "      <td>metheoryt</td>\n",
       "      <td>виталий цой удовольствие работать</td>\n",
       "      <td>6</td>\n",
       "      <td>1</td>\n",
       "      <td>0</td>\n",
       "      <td>33</td>\n",
       "      <td>4</td>\n",
       "    </tr>\n",
       "    <tr>\n",
       "      <th>2116</th>\n",
       "      <td>jasurkurbanov</td>\n",
       "      <td>привет рассматривать вакансия разработчик хороший уметь разрабатывать любопытно поработать инструментамиуметь фокусироваться условие неопределённость помогать сфокусироваться другим также делиться опыт знаниями писать понятный код постепенно повышать понятность кодовый база проектеть профиль большой информация</td>\n",
       "      <td>4</td>\n",
       "      <td>0</td>\n",
       "      <td>0</td>\n",
       "      <td>311</td>\n",
       "      <td>32</td>\n",
       "    </tr>\n",
       "    <tr>\n",
       "      <th>2117</th>\n",
       "      <td>vgnity</td>\n",
       "      <td>дать макет интерфейс ваш макет должный выглядеть точно видеть юзер словами нужно забивать реалистичные отличный друг друг данные забивать разный дать проверять интерфейс гибкость увидеть очевидный кейс сразу отработать например придумать правило поведение элементов разобрать пример картинка дизайнер заранее выяснил дать табличке примерить примерки стать очевидно табличка справляться отображение данных итоге дизайнер решил увеличить высота ячеек влезать большой текста решение самый идеальное важно дизайнер учесть состояние системы данные стать совет запросить табличка реалистичный данные начало проектирования выдумывать знать иметь делопродолжение телеграм канал</td>\n",
       "      <td>7</td>\n",
       "      <td>0</td>\n",
       "      <td>1</td>\n",
       "      <td>669</td>\n",
       "      <td>82</td>\n",
       "    </tr>\n",
       "  </tbody>\n",
       "</table>\n",
       "</div>"
      ],
      "text/plain": [
       "            user_id  \\\n",
       "2113      metheoryt   \n",
       "2114      metheoryt   \n",
       "2115      metheoryt   \n",
       "2116  jasurkurbanov   \n",
       "2117         vgnity   \n",
       "\n",
       "                                                                                                                                                                                                                                                                                                                                                                                                                                                                                                                                                                                                                                                                                    post_lemmatized  \\\n",
       "2113                                                                                                                                                                                                                                                                                                                                                                                                                                                                                                                                                                                                                                                           делать команда спасибо ваш поддержку   \n",
       "2114                                                                                                                                                                                                                                                                                                                                                                                                                                                                                                                                                                                                                                                                        спасибо подавать пример   \n",
       "2115                                                                                                                                                                                                                                                                                                                                                                                                                                                                                                                                                                                                                                                              виталий цой удовольствие работать   \n",
       "2116                                                                                                                                                                                                                                                                                                                                                                        привет рассматривать вакансия разработчик хороший уметь разрабатывать любопытно поработать инструментамиуметь фокусироваться условие неопределённость помогать сфокусироваться другим также делиться опыт знаниями писать понятный код постепенно повышать понятность кодовый база проектеть профиль большой информация   \n",
       "2117  дать макет интерфейс ваш макет должный выглядеть точно видеть юзер словами нужно забивать реалистичные отличный друг друг данные забивать разный дать проверять интерфейс гибкость увидеть очевидный кейс сразу отработать например придумать правило поведение элементов разобрать пример картинка дизайнер заранее выяснил дать табличке примерить примерки стать очевидно табличка справляться отображение данных итоге дизайнер решил увеличить высота ячеек влезать большой текста решение самый идеальное важно дизайнер учесть состояние системы данные стать совет запросить табличка реалистичный данные начало проектирования выдумывать знать иметь делопродолжение телеграм канал   \n",
       "\n",
       "      likes  comments  reposts  num_chars  num_words  \n",
       "2113      3         0        0         36          5  \n",
       "2114      3         0        0         23          3  \n",
       "2115      6         1        0         33          4  \n",
       "2116      4         0        0        311         32  \n",
       "2117      7         0        1        669         82  "
      ]
     },
     "execution_count": 38,
     "metadata": {},
     "output_type": "execute_result"
    }
   ],
   "source": [
    "df_lem.tail()"
   ]
  },
  {
   "cell_type": "code",
   "execution_count": 39,
   "id": "9cc6dd60",
   "metadata": {},
   "outputs": [
    {
     "data": {
      "image/png": "[encoded data removed]",
      "text/plain": [
       "<Figure size 1000x400 with 2 Axes>"
      ]
     },
     "metadata": {},
     "output_type": "display_data"
    }
   ],
   "source": [
    "plt.figure(figsize=(10, 4))\n",
    "plt.subplot(1, 2, 1)\n",
    "df_lem.num_chars.hist(bins=50)\n",
    "plt.title('Распределение постов по количеству символов'), plt.xlabel('Число символов')\n",
    "plt.subplot(1, 2, 2)\n",
    "df_lem.num_words.hist(bins=50)\n",
    "plt.title('Распределение постов по количеству слов'), plt.xlabel('Число слов');"
   ]
  },
  {
   "cell_type": "code",
   "execution_count": 40,
   "id": "bf675f23",
   "metadata": {
    "scrolled": true
   },
   "outputs": [
    {
     "data": {
      "text/plain": [
       "count    2109.000000\n",
       "mean      423.779516\n",
       "std       482.325041\n",
       "min         7.000000\n",
       "25%        81.000000\n",
       "50%       229.000000\n",
       "75%       586.000000\n",
       "max      2351.000000\n",
       "Name: num_chars, dtype: float64"
      ]
     },
     "execution_count": 40,
     "metadata": {},
     "output_type": "execute_result"
    }
   ],
   "source": [
    "# характеристики постов по символам\n",
    "df_lem.num_chars.describe()"
   ]
  },
  {
   "cell_type": "code",
   "execution_count": 41,
   "id": "1f86567d",
   "metadata": {},
   "outputs": [
    {
     "data": {
      "text/plain": [
       "count    2109.000000\n",
       "mean       48.344239\n",
       "std        54.759358\n",
       "min         2.000000\n",
       "25%         9.000000\n",
       "50%        27.000000\n",
       "75%        67.000000\n",
       "max       265.000000\n",
       "Name: num_words, dtype: float64"
      ]
     },
     "execution_count": 41,
     "metadata": {},
     "output_type": "execute_result"
    }
   ],
   "source": [
    "# характеристики постов по словам\n",
    "df_lem.num_words.describe()"
   ]
  },
  {
   "cell_type": "markdown",
   "id": "1d849cc5",
   "metadata": {},
   "source": [
    "Большая часть постов короткие. Медианный размер поста 229 символов 27 слов. Наверно есть смысл отбросить посты менее 100 символов и 10 слов."
   ]
  },
  {
   "cell_type": "code",
   "execution_count": 42,
   "id": "3f99fc52",
   "metadata": {},
   "outputs": [
    {
     "name": "stdout",
     "output_type": "stream",
     "text": [
      "<class 'pandas.core.frame.DataFrame'>\n",
      "Index: 1490 entries, 1 to 2117\n",
      "Data columns (total 7 columns):\n",
      " #   Column           Non-Null Count  Dtype \n",
      "---  ------           --------------  ----- \n",
      " 0   user_id          1490 non-null   object\n",
      " 1   post_lemmatized  1490 non-null   object\n",
      " 2   likes            1490 non-null   int64 \n",
      " 3   comments         1490 non-null   int64 \n",
      " 4   reposts          1490 non-null   int64 \n",
      " 5   num_chars        1490 non-null   int64 \n",
      " 6   num_words        1490 non-null   int64 \n",
      "dtypes: int64(5), object(2)\n",
      "memory usage: 93.1+ KB\n"
     ]
    }
   ],
   "source": [
    "# оценка датасета после фильтрации\n",
    "df_lem.query('num_chars >= 100 and num_words >= 10').info()"
   ]
  },
  {
   "cell_type": "code",
   "execution_count": 43,
   "id": "78e31caa",
   "metadata": {},
   "outputs": [
    {
     "data": {
      "text/plain": [
       "3                                  подкаст миражи эпизод ошибка невозвратный затрат\n",
       "4                                                новый эпизод эффект икеа платформа\n",
       "7                                                            новый эпизод платформа\n",
       "10              новый эпизод подкаст говорить парапланеризм совмещаться работа айти\n",
       "17    написать день статья технократия работать процесс изменений залетать почитать\n",
       "Name: post_lemmatized, dtype: object"
      ]
     },
     "execution_count": 43,
     "metadata": {},
     "output_type": "execute_result"
    }
   ],
   "source": [
    "# оценка мелких текстов\n",
    "df_lem.query('num_chars < 100 and num_words < 10').post_lemmatized.head()"
   ]
  },
  {
   "cell_type": "code",
   "execution_count": 44,
   "id": "dc3db5c4",
   "metadata": {},
   "outputs": [
    {
     "data": {
      "text/plain": [
       "50     разработать приложение помогать действовать будущее учёный быстро решать монотонный задачи связанный проведение эксперимент биологический лабораториях создать мобильный приложение английский языке предусмотреть необходимый функционал научный исследование биолабораториях подробно\n",
       "270                                                                      друзья нужный дизайнерпросить помочь найти работа благодарный признателен готовый отжать первый заработка каждый день всё большой разочаровываться площадка поиск работы всё дело навыках помочь друга референс опыту\n",
       "351                           спорить заказчик инфографик подойти хороший объяснение работа приложение строителейпросить помочь оценить инфографик являться информативной просто оставить цифра комментариях возможности рассказать почемуть умышленно писать говорить пример заказчика пример\n",
       "382                                                       праздником коллега деть программист праздник программистов отмечать день года число выбрать количество различный значений выразить помощь восьмиразрядный байта также максимальный целый степень число превышать количество день год\n",
       "474                         привет находиться поиск работа дизайнеромпознакомиться связаться телеграмме ести коротко подтянуться знание опыт делиться сменить тильда дальнейший возможно перейти функциональный быстрей проектировать проект добровольный началах поучаствовать хакатон яндекс\n",
       "Name: post_lemmatized, dtype: object"
      ]
     },
     "execution_count": 44,
     "metadata": {},
     "output_type": "execute_result"
    }
   ],
   "source": [
    "# оценка медианных текстов\n",
    "df_lem.query('num_chars == 229 or num_words == 27').post_lemmatized.head()"
   ]
  },
  {
   "cell_type": "code",
   "execution_count": 45,
   "id": "66e3afcb",
   "metadata": {
    "scrolled": false
   },
   "outputs": [
    {
     "data": {
      "text/plain": [
       "38                                                                 сегодня произойти ситуация взять утро июнь экскурсия аквапарк человек старший детей оплата перевод тинькофф гид отеля ночью средний дочь становиться плохо тошнит день температура понятный дело завтра никуда поедем писать гид отменить поездка вернуть деньги ответ прийти скриншот пользовательский соглашение следующий условиями возврат деньга возможный спустя час бронирование поездка час бронирование поездка возврат стоимость переть пункт поездка остаться менее часов деньга возврат подлежат поздний час заказ деньга возврат подлежать вызвать ребёнок скорый справка медиков любой расклад ребёнок вернуть деньги вызов скорый евро остальной покрывать страховка половина стоимость билета оплатить ещё пара час потратить общение врач оформление документов ребёнок настолько плохо вызывать скорую естественно никто давать почитать договор бронирование предоплата билета всё пишу посетовать судьбу видеть случай аж несколько аналогия бизнесом гид классический менеджер продажам красиво рассказать плюс продукта продал рассказать никакой юридический нюанс звёздочка договора мораль менеджер продажам продажа рассказывать ваш клиент всё нюансы хотя бегло говорить обратить внимание пункт договора подобный деталь никак повлиять отказ клиента помнить предупредили готовый брать ответственность думать негативно непредвиденный случиться заранее предупредили всё честно отдельный прикол приём платёж перевод тинькофф отпуск обычно расслабон обращать внимание понимаю переводить рублях цена доллар сверху официальный курс цб рф накинуть рублей перевод улыбнулся мол прикольно человек зарабатывают ещё год бизнес привыкнуть платить опыт ничто отрезвлять заставлять мозг работать другому понимание ситуация позволить обмануть недоглядел недопонял предусмотрел деньга самый ужасный плата ошибка опыт зато самый легко измеримая нужно учиться чужой ошибках ошибка заплатить деньга вобъться голова повлиять гораздо сильнее мораль внимательный ошибиться заплатить опыт деньгами нормально очень отрезвлять делать подобный ошибка будущее менять мышление привычки вопрос пока решить перенос поездка июнь предпоследний день отпуска\n",
       "55     привет хотеть поделиться новость сервис май команда провести ряд обновлений значительно улучшить опыт работа пользователей доделать инструмент анализ страницы значительно расширить функционал добавить анализ переспама рекомендация улучшение релевантность страница планировать выпустить близкий время полноценный статья видео инструкция обновление раздел сервиса добавить фильтр урла раздел сбор позиций появиться фильтрация конкретный страница сайт просмотр динамика позиция поисковый системах добавить поисковый система менеджер задач смочь отслеживать поисковый система яндекс осуществить сбор позиций обновить модуль календарь монитор позиций календарь раздел сбор позиций стать гораздо удобный использование добавить возможность выбор любой дат раздел сбор позиций добавить столбец дата тегирование страниц столбец называться тегирование немой указать дата последний тегирование конкретный страницы кроме навести курсор дату всплывать окно показать всё предыдущий тегирование страницы графика раздел сбор позиций добавить вертикальный линии показывать дата тегирования также наглядно отслеживать тегирование страница ваш сайт видеть влиять изменение позиция поисковый система течение времени легко сравнить изменение позиция тегирование страницы также узнать сколько время пройти последний тегирования кнопка запрос протегированный страницами раздел сбор позиций добавить новый кнопка запрос протегированный страницами включение отфильтровываться дать динамика позиция запрос протегировать ранее страниц сохранять настройка фильтр статистика раздел сбор позиций сервис запоминать выбрать параметр просмотр график количество запрос топ топ топ топ топ обнулять переход графика соседний вкладок выгрузка позиций урлов каждый дата сбора экспорт данные динамика позиция запрос формат таблица выгружаться дать позиция поисковый выдача сайт выбрать диапазон дат ссылка релевантный каждый конкретный запрос каждый дата сбор позиций количество активный тег раздел страница проекта просматривать показатель сайта большой прийтись самостоятельно считать активный тег каждый протегировать страница сервис автоматически подсчитать вывести отдельный колонку сервис сайт компании\n",
       "70                                                                                                               привет компания компания энтузиаст мир фанат разработка качественный программный решение основный миссия создать помощь программа интегрировать цифровой среда повысить эффективность процесс клиентовнаш команда искать продукт дбо фл банковский проект формат работа желанию удаленноофисгибрид ести москва саратов пензаковоркинг занятость полный занятость зп тыс рукич предстоять заниматьсятехнический лидерство реализация проект дбо физлицревью программный архитектура решение инфраструктура развертыванияучастие развитие архитектура решения проработка интеграционный потоковтехнический координация внутренний внешний командразбор инцидент методика недопущениявыработка решение мониторинг обеспечение отказоустойчивости планомерный увеличение доступность решениякоординация служба банк обеспечение бесперебойный работа иить решение инцидентовпринятие ключевой технический решение проектаанализ функциональный нефункциональный требование контекст архитектура система платформыучастие постановка задача аналитик разработчикамаудит принять системный аналитик решений выбор оптимальный способ реализация бизнес требование соответствие принять подход ожидание кандидатапонимание концепция ограничение распределённый системопыт разработка высоконагруженный приложение архитектура качество ведущий разработчика системный архитектор лидаопыт управление команда разработка опыт проектирование нуль развитие микросервисный платформа плюс перевод монолитахорошеий знание шаблон проектирование интеграцииэкспертный знание язык программирование опыт разработка архитектурный документация компонентная функциональная развёртывание тдзнание платформа опыт работа субд построение кластераопыт работа либо список уверенный знание методология принцип разработка компания предлагать рабочий техника необходимость ноутбук монитор тд дмс ить спорт испытательный срока оплачивать профильный внешний курсы также доступ внутренний учебный программам высококомпетентный команда гибкий методика разработки возможность профессиональный рост развития рада ответить всё вопрос рассказать деталь\n",
       "104               рассказывать почему год мысль уйти решить остаться промежуток ещё история неожиданно войти бизнес котикамивсе начаться вполне невинно жена решить купить котёнок мейн куна айтишник покупают сначала собирать данные визуализировать информация проводить диагностик оказаться выставка кошек высмотреть красивый большой кота познакомиться хозяевамичерез время приехать выбирать котенка стать общаться постепенно подружились ребята большой питомник подмосковье очень хороший содержание животных вольер больший красивый мейн кун импортный кровей общаясь поняли серьёзный бизнес хватать айтишной составляющей помочь международный связями вызваться помочь заняться оптимизация сайт преуспеть наладить продажа котик цифровой канал постепенно стать разбираться теме выяснилось любой бизнесе подводный камнейздоровие животных кошка болеют лечить ещё нужно принимать превентивный мера вовремя прививать однако возить сто гол очередь ветеринар невозможно оплачивать выезд врач часто очень накладно поэтому постепенно становиться немножко кошачий ветеринаром ещё котёнок рождаются увлекательный процесс необходимый постоянно улучшать породный линию мир существовать серьёзный ассоциация клуб владелец мейн кунов каждый разный требование содержание животных разный стандарт животное далее питомник входить серьёзный американский ассоциацию поэтому нужно освежать линию хороший питомник рамка порода страна существовать единицы жена прийтись вспомнить генетик школьный курса начать планировать линии поняли россия найти нужный хвост профессиональный сленг называть котов стать связываться европейский питомник налаживать контакт ассоциации сказать просто питомник животное продадут очень дорого попросить евро животинку купить евро предоставить питомник информация ваш линия родословный животных общем всё получилось прийтись срочно изучать норвежский французский поехать знакомиться хозяин питомник европа итог животное дважды получать награда выставка европа первый россии думал принимать участие род чемпионатах гордиться радоваться факт далёкий расскажу почему котобизнес большой эмоции деньги интересно почему котёнок стоить маленький рубль продолжение следует говориться\n",
       "279                                               прошедшее выходной трудно назвать выходными проходить часовой курс оказание первый помощи давний мечта исполниться научиться оказывать комплекс сердечно лёгочный реанимации теории практика манекен обратный связью показывать уровень овладение техникоймный интересный теория практический закрепление позволить продуктивный освоить курсэкзамен отдельный история первый этап первичныйвторичный осмотр пострадавшего наложение повязок жгутовый турникетов помощь перекрытие верхний дыхательный путь тд второй этап нечтос команда несколько человек заходить закрытый ранее помещение обнаруживать несколько разноплановый пострадавших роль очень реалистично играть спасатели ранее проходить курс достаться лежать живот мужчина вытекать голова кровью девушка обморожение кисть рука ещё девушка металлический предметом торчать руки одежда окружающий пространство обильно залить кровью процесс оказание первый помощь сопутствовать внешний фактор кровь стоны крики истеричный состояние пострадать создавать стрессовый ситуация позволять ощутить полный погружение реальный происшествиецель организатор курс достигнуть навык получены всё вступить ряд добровольцев спасателейобучение оказание первый помощь проходить рамка федеральный проект спасатель рядом ставить цель решение социально значимый проблема увеличить шанс выживание родных близких друг посторонний человек счёт возможность оказание случай беды квалифицировать помощь приезд бригада скорый помощиинформация сайт проект данные статистика случай оказание квалифицировать первый помощь течение первый часа выживаемость пострадать повышаться большинство критический состояние требовать незамедлительный реакция минуты скорость обеспечить подготовить очевидец происшествия главный задача добровольный спасатель оказать помощь первый минута происшествие поддержать жизнь пострадать прибытие скорый помощиуважать коллеги неравнодушный теме просить сделать репост данный сообщения возможно благодаря найтись желать пройти курс квалифицировать спасатель стать следствие большой выжить людей попасть различный жизненный ситуации угрожать жизни заранее спасибоадрес проекта спасательрядомрф\n",
       "Name: post_lemmatized, dtype: object"
      ]
     },
     "execution_count": 45,
     "metadata": {},
     "output_type": "execute_result"
    }
   ],
   "source": [
    "# оценка больших текстов\n",
    "df_lem.query('num_chars >= 2000 and num_words >= 200').post_lemmatized.head()"
   ]
  },
  {
   "cell_type": "code",
   "execution_count": null,
   "id": "f15766f3",
   "metadata": {},
   "outputs": [],
   "source": []
  }
 ],
 "metadata": {
  "kernelspec": {
   "display_name": "Python 3 (ipykernel)",
   "language": "python",
   "name": "python3"
  },
  "language_info": {
   "codemirror_mode": {
    "name": "ipython",
    "version": 3
   },
   "file_extension": ".py",
   "mimetype": "text/x-python",
   "name": "python",
   "nbconvert_exporter": "python",
   "pygments_lexer": "ipython3",
   "version": "3.10.11"
  },
  "toc": {
   "base_numbering": 1,
   "nav_menu": {},
   "number_sections": true,
   "sideBar": true,
   "skip_h1_title": false,
   "title_cell": "Table of Contents",
   "title_sidebar": "Contents",
   "toc_cell": false,
   "toc_position": {
    "height": "calc(100% - 180px)",
    "left": "10px",
    "top": "150px",
    "width": "374.391px"
   },
   "toc_section_display": true,
   "toc_window_display": false
  },
  "varInspector": {
   "cols": {
    "lenName": 16,
    "lenType": 16,
    "lenVar": 40
   },
   "kernels_config": {
    "python": {
     "delete_cmd_postfix": "",
     "delete_cmd_prefix": "del ",
     "library": "var_list.py",
     "varRefreshCmd": "print(var_dic_list())"
    },
    "r": {
     "delete_cmd_postfix": ") ",
     "delete_cmd_prefix": "rm(",
     "library": "var_list.r",
     "varRefreshCmd": "cat(var_dic_list()) "
    }
   },
   "types_to_exclude": [
    "module",
    "function",
    "builtin_function_or_method",
    "instance",
    "_Feature"
   ],
   "window_display": false
  }
 },
 "nbformat": 4,
 "nbformat_minor": 5
}
