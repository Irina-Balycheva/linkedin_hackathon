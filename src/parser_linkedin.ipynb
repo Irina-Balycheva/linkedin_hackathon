{
 "cells": [
  {
   "cell_type": "markdown",
   "id": "3a4945da",
   "metadata": {},
   "source": [
    "# Код для парсинга профилей и постов LinkedIn"
   ]
  },
  {
   "cell_type": "code",
   "execution_count": 1,
   "id": "8483716a",
   "metadata": {
    "tags": []
   },
   "outputs": [],
   "source": [
    "import time\n",
    "import re\n",
    "import configparser\n",
    "\n",
    "from bs4 import BeautifulSoup\n",
    "from selenium import webdriver\n",
    "from selenium.webdriver.common.by import By\n",
    "from selenium.webdriver.common.desired_capabilities import DesiredCapabilities"
   ]
  },
  {
   "cell_type": "markdown",
   "id": "85d78d11",
   "metadata": {},
   "source": [
    "**Загружаем конфиг**"
   ]
  },
  {
   "cell_type": "code",
   "execution_count": 2,
   "id": "e617131f",
   "metadata": {
    "tags": []
   },
   "outputs": [],
   "source": [
    "# путь к файлу расширения для Chrome \"Доступ к LinkedIn\"\n",
    "EXTENSION_PATH = '1.5_0.crx'\n",
    "\n",
    "# конфиг\n",
    "CFG_FILE = 'parser.ini'\n",
    "\n",
    "\"\"\"\n",
    "файл конфигурации необходимо предварительно создать,\n",
    "формат файла parser.ini:\n",
    "[LINKEDIN]\n",
    "USER_LOGIN = эл_почта_без_кавычек\n",
    "USER_PASSWORD = пароль\n",
    "\"\"\";\n",
    "\n",
    "# загружаем данные из конфига\n",
    "conf = configparser.ConfigParser()\n",
    "try:\n",
    "    conf.read(CFG_FILE)\n",
    "    USER_LOGIN = conf['LINKEDIN']['USER_LOGIN']\n",
    "    USER_PASSWORD = conf['LINKEDIN']['USER_PASSWORD']\n",
    "except:\n",
    "    logging.error(f'Не удалось прочитать файл конфигурации: {CFG_FILE}')\n",
    "    quit() # нужен только при переносе кода в .py"
   ]
  },
  {
   "cell_type": "markdown",
   "id": "e8e3ed83",
   "metadata": {},
   "source": [
    "**Общие процедуры и функции**"
   ]
  },
  {
   "cell_type": "code",
   "execution_count": 3,
   "id": "534bd189",
   "metadata": {
    "code_folding": [
     1
    ]
   },
   "outputs": [],
   "source": [
    "# получить и отобразить информацию профиля\n",
    "def get_and_print_profile_info(driver, profile_url):\n",
    "    driver.get(profile_url)        # открываем ссылку profile_url\n",
    "\n",
    "    # извлекаем код страницы\n",
    "    src = driver.page_source\n",
    "\n",
    "    # предеаем код страницы в парсер\n",
    "    soup = BeautifulSoup(src, 'lxml')\n",
    "    soup.prettify()\n",
    "\n",
    "    # извлекаем HTML содержаший имя и заголовок\n",
    "    intro = soup.find('div', {'class': 'pv-text-details__left-panel'})\n",
    "\n",
    "    #print(f'''{intro}''') # вывод содержимого для контроля\n",
    "\n",
    "    # в случае ошибки попробуйте изменить используемые здесь теги\n",
    "    name_loc = intro.find(\"h1\")\n",
    "\n",
    "    # получаем имя\n",
    "    name = name_loc.get_text().strip()\n",
    "\n",
    "    # заголовок, обычно тут пишут где работает или специальность\n",
    "    works_at_loc = intro.find(\"div\", {'class': 'text-body-medium'})\n",
    "\n",
    "    # получаем компанию или специальность\n",
    "    works_at = works_at_loc.get_text().strip()\n",
    "\n",
    "    print(f'''\n",
    "    Name --> {name},\n",
    "    Works At --> {works_at}\n",
    "    ''')\n",
    "\n",
    "    # суффикс к url профиля для отображения всех публикаций пользователя\n",
    "    POSTS_URL_SUFFIX = 'recent-activity/all/'\n",
    "\n",
    "    time.sleep(0.5)\n",
    "\n",
    "    # текущий url профиля пользователя\n",
    "    cur_profile_url = driver.current_url\n",
    "    print(f'''\n",
    "    Profile URL --> {cur_profile_url}\n",
    "    ''')\n",
    "\n",
    "    # получим все публикации пользователя\n",
    "    get_and_print_user_posts(driver, cur_profile_url + POSTS_URL_SUFFIX)"
   ]
  },
  {
   "cell_type": "code",
   "execution_count": 4,
   "id": "f3829aaa",
   "metadata": {
    "code_folding": [
     1
    ]
   },
   "outputs": [],
   "source": [
    "# прокрутка страницы, для подгрузки динамического контента\n",
    "def get_scrolled_page(driver, num_scrolls=15, pause_time=1.5):\n",
    "    \"\"\"\n",
    "    Функция прокручивает страницу, загруженную в экземпляр driver,\n",
    "    num_scrolls раз, с pause_time паузами между прокрутками.\n",
    "    Возвращает код страницы.\n",
    "    \"\"\"\n",
    "    # получим высоту прокрутки\n",
    "    last_height = driver.execute_script(\"return document.body.scrollHeight\")\n",
    "\n",
    "    for i in range(num_scrolls):\n",
    "        # прокрутка вниз\n",
    "        driver.execute_script(\"window.scrollTo(0, document.body.scrollHeight);\")\n",
    "\n",
    "        # ожидаем загрузку страницы\n",
    "        time.sleep(pause_time)\n",
    "\n",
    "        # новая высота прокрутки и сравниваем с последней высотой прокрутки\n",
    "        new_height = driver.execute_script(\"return document.body.scrollHeight\")\n",
    "        if new_height == last_height:\n",
    "            break\n",
    "        last_height = new_height\n",
    "\n",
    "    return driver.page_source"
   ]
  },
  {
   "cell_type": "code",
   "execution_count": 5,
   "id": "2f998e07",
   "metadata": {
    "code_folding": [
     1
    ]
   },
   "outputs": [],
   "source": [
    "# получить и отобразить все публикации из профиля\n",
    "def get_and_print_user_posts(driver, posts_url):\n",
    "    driver.get(posts_url)\n",
    "\n",
    "    # получаем код проскроленой страницы\n",
    "    src = get_scrolled_page(driver)\n",
    "\n",
    "    # передаем код страницы в парсер\n",
    "    soup = BeautifulSoup(src, 'lxml')\n",
    "    soup.prettify()\n",
    "\n",
    "    # получаем список постов\n",
    "    posts = soup.find_all('li', class_='profile-creator-shared-feed-update__container')\n",
    "\n",
    "    print(f'''\n",
    "    Number of posts: {len(posts)}\n",
    "    ''')\n",
    "    for post_src in posts:\n",
    "        # блок с текстом поста\n",
    "#        post_text_div = post_src.find('div', {'class': 'feed-shared-update-v2__description-wrapper mr2'})\n",
    "        post_text_div = post_src.find('div', {'class': 'feed-shared-update-v2__description-wrapper'})\n",
    "\n",
    "        if post_text_div is not None:\n",
    "            # текст поста\n",
    "            post_text = post_text_div.find('span', {'dir': 'ltr'})\n",
    "        else:\n",
    "            post_text = None\n",
    "\n",
    "        # если пост содержит текст\n",
    "        if post_text is not None:\n",
    "            post_text = post_text.get_text().strip()\n",
    "            print(f'''\n",
    "            Post text: {post_text}\n",
    "            ''')\n",
    "\n",
    "        # число реакций на пост\n",
    "        reaction_cnt = post_src.find('span', {'class': 'social-details-social-counts__reactions-count'})\n",
    "\n",
    "        # если число реакций записано в виде текста, то используем другое имя класса\n",
    "        if reaction_cnt is None:\n",
    "            reaction_cnt = post_src.find('span', {'class': 'social-details-social-counts__social-proof-text'})\n",
    "\n",
    "        if reaction_cnt is not None:\n",
    "            reaction_cnt = reaction_cnt.get_text().strip()\n",
    "            print(f'''\n",
    "            Reactions: {reaction_cnt}\n",
    "            ''')\n",
    "\n",
    "    return"
   ]
  },
  {
   "cell_type": "markdown",
   "id": "9034d2b0",
   "metadata": {},
   "source": [
    "**Создаем и запускаем браузер**"
   ]
  },
  {
   "cell_type": "code",
   "execution_count": 6,
   "id": "bf539023",
   "metadata": {},
   "outputs": [],
   "source": [
    "# подключаем расширение к драйверу\n",
    "options = webdriver.ChromeOptions()\n",
    "options.add_extension(EXTENSION_PATH)\n",
    "\n",
    "# меняем стратегию - ждать, пока свойство document.readyState примет значение interactive\n",
    "options.page_load_strategy = 'eager'\n",
    "\n",
    "# запускаем Chrome с расширением\n",
    "driver = webdriver.Chrome(options=options)"
   ]
  },
  {
   "cell_type": "markdown",
   "id": "4ef375a0",
   "metadata": {},
   "source": [
    "**Вход в LinkedIn**"
   ]
  },
  {
   "cell_type": "code",
   "execution_count": 7,
   "id": "d8ae334e",
   "metadata": {
    "scrolled": false
   },
   "outputs": [],
   "source": [
    "# открываем страницу входа linkedIn, необходимо отключить двухфакторную аутонтификацию\n",
    "driver.get(\"https://linkedin.com/uas/login\")\n",
    "\n",
    "# ожидаем загрузку страницы\n",
    "time.sleep(3.5)\n",
    "\n",
    "# поле ввода имени пользователя\n",
    "username = driver.find_element(By.ID, \"username\")\n",
    "\n",
    "# вводим свой Email\n",
    "username.send_keys(USER_LOGIN)\n",
    "\n",
    "# поле ввода пароля\n",
    "pword = driver.find_element(By.ID, \"password\")\n",
    "\n",
    "# вводим пароль\n",
    "pword.send_keys(USER_PASSWORD)\n",
    "\n",
    "# нажимаем кнопку Войти\n",
    "# Формат (синтаксис) написания XPath --> //tagname[@attribute='value']\n",
    "driver.find_element(By.XPATH, \"//button[@type='submit']\").click()"
   ]
  },
  {
   "cell_type": "markdown",
   "id": "c92a82a0",
   "metadata": {},
   "source": [
    "**Тестовый парсинг профиля и публикаций**"
   ]
  },
  {
   "cell_type": "code",
   "execution_count": 11,
   "id": "964c4433",
   "metadata": {
    "scrolled": false
   },
   "outputs": [
    {
     "name": "stdout",
     "output_type": "stream",
     "text": [
      "\n",
      "    Name --> Alina Peshkur,\n",
      "    Works At --> Digital Business Analyst ▪ Mentor for BAs\n",
      "    \n",
      "\n",
      "    Profile URL --> https://www.linkedin.com/in/alina-peshkur/\n",
      "    \n",
      "\n",
      "    Number of posts: 20\n",
      "    \n",
      "\n",
      "            Post text: О моей субличности бизнес-аналитикаПредыстория: Я “вошла в айти” только на софт- и хард скиллах по 1С. В период онбординга зачитывалась статьями analyst.by и искала для себя истинный путь становления бизнес-аналитиком.  Мой мозг игнорировал информацию о книге Карла Вигерса и о профессиональных курсах, но цеплялся за любое упоминание о Шерлоке Холмсе. Поэтому сперва прочитала все книги о Холмсе с непоколебимой верой, что именно Он раскроет секреты и научит ремеслу анализа )) Сейчас у меня новый проект и нахожусь на любимейшем этапе, когда получаю сообщение типа “Алина, нужна помощь по тикету” и просыпается Он. Мой внутренний Шерлок Холмс, которого уже не остановить. Я готовлю кофе, затачиваю простые карандаши, устраиваюсь поудобнее и начинаю расследование! Шаг за шагом вычитываю каждую строчку тикета, придираюсь к каждому слову, рисую майнд карты и выписываю вопросы. И какое же это удовольствие, когда сходятся пазлы. Трехкратное Обожаю. Раскладывать сложное на простое и понятное - любимая часть моей работы и в порывах безысходности поддерживаю себя вопросом What would Sherlock Holmes do?\n",
      "            \n",
      "\n",
      "            Reactions: 35\n",
      "            \n",
      "\n",
      "            Post text: Беларуские бизнес-аналитикиФизически устаю от большого потока полезной информации, поэтому ограничиваю себя несколькими источниками, которым доверяю и которые пришлись по душе. Уже 1,5 года слежу только за двумя беларускими бизнес-аналитиками. Вчера на dev.by как раз вышла статья одного из них, так что делюсь и горячо рекомендую Alena Harapeka📌 Видео “Документирование требований на Scrum проекте”📎 https://lnkd.in/dgRsG9UX▪Видео посмотрела “до дыр” )) ▪Смотрю каждый год и каждый раз замечаю новое для себя▪В итоге закинула скрины с видоса в Miro и обращаюсь туда за поддержкойРекомендую посмотреть:✓ начинающим БА на организацию документации в боевых условиях;✓ продолжающим БА на “а как ещё может быть”, потому что на некоторых новых проектах ломаешь голову, как оптимально всё организовать и написать; ✓ тем, кто готовит портфолио/Case Study, чтобы найти хорошие референсы. 📌 Телеграм-канал \"О бизнес-анализе и не только\"📎 https://t.me/harapekaМой островок здравого смысла, основанный на реальных рабочих кейсах. Рекомендую канал: ✓ продолжающим БА, чтобы не застрять на одном уровне и найти способы решения проблем на проектах;✓ тем, кто ищет себя и смотрит в сторону РО. Возможно моя симпатия объясняется тем, что хочу такими же способами профессионально реализовываться и ”bring value to society”! )) Верю, что мои маленькие шаги в менторстве и постинге ведут именно туда. Что касается статьи, то в Норвегии свою профессию описываю именно как Переводчик с нормального языка на «программерский».📎 https://lnkd.in/d4HzC6GBПотому что по факту страна небольшая, рынок небольшой и работа БА распределена между всеми членами команды. Профессия Digital Business Analyst здесь только зарождается в компаниях-гигантах и я не уверена, что приживётся в условиях развития ИИ.\n",
      "            \n",
      "\n",
      "            Reactions: 61\n",
      "            \n",
      "\n",
      "            Post text: Начинаем неделю с приятных новостей! Мы открываем набор на третий поток программы Login to Tech 🎉Это отличная возможность для женщин, которые хотят работать в IT, но не знают, с чего начать. За 3 месяца ты познакомишься с разными профессиями в этой сфере, сможешь понять, что тебе подходит, структурируешь свой предыдущий опыт и подготовишься к входу в IT, создав свое резюме и пройдя тестовые собеседования.Начинаем 29 мая! Регистрация и более подробная информация по ссылке: https://lnkd.in/dDr6JmDR Важно! Если ты заполняла анкету в лист ожидания, то дополнительно заполнять анкету не надо.Проект Women in Tech реализуется Центром гендерных исследований ЕГУ, при финансовой поддержке Европейского союза. #EUforBelarus #ЕСдляБеларусі #wintech #womenintechbelarus #womenintech\n",
      "            \n",
      "\n",
      "            Reactions: 146\n",
      "            \n",
      "\n",
      "            Post text: Абсолютно согласна с постом и бережно напоминаю бизнес-аналитикам превентивно готовить порфолио.  Я так не сделала, поэтому сейчас моё портфолио - это выполненные тестовые задания в Miro )) Про Case Study для бизнес-аналитиков написала Veronika Baeva в инстаграме, доступ по ссылке - https://lnkd.in/dpD2ebsmЕсли вам нужен дабл-чек своих артефактов, то you are welcome!\n",
      "            \n",
      "\n",
      "            Reactions: 6\n",
      "            \n",
      "\n",
      "            Post text: 𝐄𝐪𝐮𝐢𝐭𝐲-𝐟𝐨𝐜𝐮𝐬𝐞𝐝 𝐝𝐞𝐬𝐢𝐠𝐧 𝐢𝐧 𝐚𝐜𝐭𝐢𝐨𝐧 𝐚𝐭 𝐈𝐤𝐞𝐚 (𝐎𝐬𝐥𝐨).✅ Терминал самообслуживания расположен ниже, чем остальные, что позволяет оформить заказ людям невысокого роста/детям/инвалидам-колясочникам.  Для меня Equity-focused и Inclusive design - ЛИЧНАЯ БОЛЬ, поэтому я так на этом сфокусирована и уже писала пост об экспозиции для слепых людей в музее Мунка. ▶️ Во-первых, переживаю как мои немолодые родители приедут в гости в Норвегию без знания английского языка и с опытом путешествий только по Украине и Туркменистану. ▶️ Во-вторых, моя троюродная сестра родила сына с врождённым пороком развития кисти руки. Соглашусь с мнением, что это не трагично и важно какое отношению к этому будут транслировать сами родители. Но они живут в городе Смолевичи и объективно есть “пара моментов”, которые излишне расписывать, поэтому здесь я абсолютно эмпанирую родственникам. Мне нравится, что в Норвегии это норма, когда в спортивном магазине работает консультантом инвалид-колясочник. Или когда видела в окно, как темнокожий мальчик лет 10-ти едет на инвалидном кресле в школу, а вместе с ним едет норвежец, опираясь на это кресло и что-то активно рассказывая :)) ▫️ Я горжусь кейсами, в которых проектировала интерфейсы для пользователей-дальтоников и для пользователей с низким уровнем компьютерной грамотности. ▫️ Аксессабилити и инклюзивность для меня были интуитивно понятными, но курс Google по основам UX дизайна разорвал мою реальность. Убеждена, что именно эмиграция помогла мне понять и почувствовать этот обучающий материал.▫️ Люблю работу бизнес-аналитиком за возможность разрабатывать решения, которые помогают людям в разных контекстах. К этой любви добавляю опыт, новые знания, насмотренность, эмпатию и верю, что создам что-то важное и ценное ❤️\n",
      "            \n",
      "\n",
      "            Reactions: 13\n",
      "            \n",
      "\n",
      "            Post text: I’ve started my new education in a UX Researcher/UX Designer role.“Have a good sense for visuals” - at introductory lessons, I paid attention to this skill for #uxdesigners Well, I want to share my Instagram account with film photos with you. Follow the link and check out my good aesthetic taste, understanding of composition and feeling of colours :)https://lnkd.in/d4nQc9T2\n",
      "            \n",
      "\n",
      "            Reactions: 5\n",
      "            \n",
      "\n",
      "            Post text: One day of my working routine in Tbilisi )) #hardwork\n",
      "            \n",
      "\n",
      "            Reactions: 10\n",
      "            \n",
      "\n",
      "            Post text: Вчера был День Рождения у cообщества белорусских бизнес и системных аналитиков - analyst.by12 лет! Ура! :) Спасибо организаторам и спикерам за праздник, полный полезности и любви к своему делу.  Рада, что я прошла отбор и поучаствовала в воркшопе \"The art of user stories\" от Viktar StarastsenkaДля меня это был супер ценный воркшоп, потому что знаю много теории по #userstories, но при её применении на практике у меня были проблемы. Теперь я закрыла часть гэпов и знаю: 1. Как поэтапно \"раскручивать\" сторю от верхнеуровневого формата \"As...I want...that\" до полного артефакта, который можно брать в разработку. 2. По каким критериям нужно/можно проверить сторю и Acceptance Criteria.3. Когда, зачем и как распиливать (to split) сторю. 4. Как аргументировать команде применение user stories на проекте, когда это нужно. 5. Свою ошибку на последнем проекте и что нужно было делать, когда я \"застряла\" на одном из этапов. Грустно, но полезно. P.S-1. Здорово, что ребята внутри моей группы делились, как они работают со сторями на своих реальных проектах.P.S-2. Приятно и неожиданно видеть на воркшопе столько знакомых лиц! :)) После теории и её закреплении на воркшопе, следующим шагом должно быть действие - применение user stories на практике, так что #OpenForNewOpportunities #BusinessAnalyst\n",
      "            \n",
      "\n",
      "            Reactions: 42\n",
      "            \n",
      "\n",
      "            Post text: Lifelong Learning #BARRS2021\n",
      "            \n",
      "\n",
      "            Post text: Моя новая прелесть от Olga Cherkasova, которой не хватало для уверенного перехода на англоязычные спеки. Клаааасссс! )) #HappyGlobalBADay!\n",
      "            \n",
      "\n",
      "            Reactions: 11\n",
      "            \n",
      "\n",
      "            Post text: Ура, дождалась! )) См. https://lnkd.in/eEdubUShСпасибо за такую рубрику Softeq MinskЭто было душевно и казалась, что я сижу рядом на 3-м стуле )) Тезиcно о том, что мне понравилось и что хотелось бы себе напомнить: 1) Бизнес-аналитик - это бульдозер, который проходит первым и пытается всё разгрести. Иногда самосвал :) 2) При входе в новый домен важно знать, в какую сторону гуглить и в какой момент нужно остановиться, ибо гуглить можно бесконечно. Когда остановиться - моя боль, люблю теорию )) 3) Обязательно нужно записывать слово в слово за клиентом.4) Крутость BA зависит от того, насколько счастливы команда, клиент и конечный пользователь. 5) Софт скиллы важнее хард скиллов, потому что их сложнее определить и долго тренировать. Мой must have по софт скиллам - личная психотерапия )) 6) Лучшей способ узнать, какие скиллы прокачивать - это запросить фидбек у команды. 7) Ревью решения/спеки - must have. 8) Боль BA - \"требования недостаточно хорошо прописаны\", \"слишком детальные требования\" )) 9) Важно натренировать в себе навык: когда критикуют твою работу, не нужно это принимать на себя и близко к сердцу. Это шанс увидеть место, где можно усовершенствоваться. 10) BA формирует имидж компании в глазах клиента.\n",
      "            \n",
      "\n",
      "            Reactions: 14\n",
      "            \n"
     ]
    }
   ],
   "source": [
    "# выполним тестовый парсинг\n",
    "get_and_print_profile_info(driver, 'https://www.linkedin.com/in/alina-peshkur/')"
   ]
  },
  {
   "cell_type": "markdown",
   "id": "5715e8d5",
   "metadata": {},
   "source": [
    "**Парсинг результатов поискового запроса**"
   ]
  },
  {
   "cell_type": "code",
   "execution_count": 12,
   "id": "ca1d1e18",
   "metadata": {
    "scrolled": true
   },
   "outputs": [
    {
     "name": "stdout",
     "output_type": "stream",
     "text": [
      "\n",
      "Найдено профилей: 44\n",
      "\n"
     ]
    }
   ],
   "source": [
    "# открываем страницу поиска\n",
    "# поиск по: data scientist\n",
    "driver.get('https://www.linkedin.com/search/results/people/?keywords=data%20scientist&origin=CLUSTER_EXPANSION&sid=1gy')\n",
    "\n",
    "# список URL профилей пользователей\n",
    "profile_urls = []\n",
    "\n",
    "# число страниц для парсинга\n",
    "NUM_PAGES_TO_PARSE = 5\n",
    "\n",
    "# собираем URL-адреса профилей со страницы результатов поиска\n",
    "for i in range(NUM_PAGES_TO_PARSE):\n",
    "    search_result_links = driver.find_elements(By.CSS_SELECTOR, \"div.entity-result__item a.app-aware-link\")\n",
    "\n",
    "    for link in search_result_links:\n",
    "        href = link.get_attribute(\"href\")\n",
    "        if 'linkedin.com/in' in href:\n",
    "            profile_urls.append(href)\n",
    "\n",
    "    # !!! кнопку [Далее >] не всегда находит, чаще нет чем да, возможно нужно выполнить скролл страницы вниз\n",
    "    next_button = driver.find_element(By.CLASS_NAME,'artdeco-pagination__button--next')\n",
    "    next_button.click()\n",
    "    \n",
    "    time.sleep(2)\n",
    "\n",
    "# убираем повторы, оставляем уникальные профили\n",
    "profile_urls = list(set(profile_urls))\n",
    "\n",
    "print(f'''\n",
    "Найдено профилей: {len(profile_urls)}\n",
    "''')"
   ]
  },
  {
   "cell_type": "markdown",
   "id": "9c617bba",
   "metadata": {},
   "source": [
    "**Парсим посты из профилей**"
   ]
  },
  {
   "cell_type": "code",
   "execution_count": null,
   "id": "67d95030",
   "metadata": {
    "scrolled": false
   },
   "outputs": [],
   "source": [
    "# парсим посты\n",
    "for profile_url in profile_urls:\n",
    "    get_and_print_profile_info(driver, profile_url)\n",
    "    time.sleep(2)"
   ]
  },
  {
   "cell_type": "code",
   "execution_count": null,
   "id": "3dbd8a82",
   "metadata": {},
   "outputs": [],
   "source": [
    "# закрываем браузер\n",
    "driver.quit()"
   ]
  },
  {
   "cell_type": "code",
   "execution_count": null,
   "id": "b7fb5352",
   "metadata": {
    "scrolled": false
   },
   "outputs": [],
   "source": []
  },
  {
   "cell_type": "code",
   "execution_count": null,
   "id": "d09be7d4",
   "metadata": {},
   "outputs": [],
   "source": []
  }
 ],
 "metadata": {
  "kernelspec": {
   "display_name": "Python 3 (ipykernel)",
   "language": "python",
   "name": "python3"
  },
  "language_info": {
   "codemirror_mode": {
    "name": "ipython",
    "version": 3
   },
   "file_extension": ".py",
   "mimetype": "text/x-python",
   "name": "python",
   "nbconvert_exporter": "python",
   "pygments_lexer": "ipython3",
   "version": "3.10.11"
  },
  "toc": {
   "base_numbering": 1,
   "nav_menu": {},
   "number_sections": false,
   "sideBar": true,
   "skip_h1_title": false,
   "title_cell": "Содержание",
   "title_sidebar": "Оглавление",
   "toc_cell": false,
   "toc_position": {
    "height": "calc(100% - 180px)",
    "left": "10px",
    "top": "150px",
    "width": "294.55px"
   },
   "toc_section_display": true,
   "toc_window_display": false
  },
  "toc-autonumbering": false,
  "toc-showcode": false,
  "toc-showmarkdowntxt": false,
  "varInspector": {
   "cols": {
    "lenName": 16,
    "lenType": 16,
    "lenVar": 40
   },
   "kernels_config": {
    "python": {
     "delete_cmd_postfix": "",
     "delete_cmd_prefix": "del ",
     "library": "var_list.py",
     "varRefreshCmd": "print(var_dic_list())"
    },
    "r": {
     "delete_cmd_postfix": ") ",
     "delete_cmd_prefix": "rm(",
     "library": "var_list.r",
     "varRefreshCmd": "cat(var_dic_list()) "
    }
   },
   "position": {
    "height": "187.85px",
    "left": "890.4px",
    "right": "20px",
    "top": "113px",
    "width": "320.4px"
   },
   "types_to_exclude": [
    "module",
    "function",
    "builtin_function_or_method",
    "instance",
    "_Feature"
   ],
   "window_display": false
  }
 },
 "nbformat": 4,
 "nbformat_minor": 5
}
