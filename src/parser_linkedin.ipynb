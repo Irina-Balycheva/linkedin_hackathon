{
 "cells": [
  {
   "cell_type": "markdown",
   "id": "3a4945da",
   "metadata": {},
   "source": [
    "# Код для парсинга профилей и постов LinkedIn"
   ]
  },
  {
   "cell_type": "code",
   "execution_count": 1,
   "id": "8483716a",
   "metadata": {
    "tags": []
   },
   "outputs": [],
   "source": [
    "import time\n",
    "import configparser\n",
    "import random\n",
    "import re\n",
    "import os.path\n",
    "\n",
    "import pandas as pd\n",
    "from bs4 import BeautifulSoup\n",
    "from selenium import webdriver\n",
    "from selenium.webdriver.common.by import By\n",
    "from selenium.webdriver.common.keys import Keys\n",
    "from selenium.webdriver.common.desired_capabilities import DesiredCapabilities\n",
    "\n",
    "SEED = 42"
   ]
  },
  {
   "cell_type": "markdown",
   "id": "85d78d11",
   "metadata": {},
   "source": [
    "**Загружаем конфиг**"
   ]
  },
  {
   "cell_type": "code",
   "execution_count": 2,
   "id": "e617131f",
   "metadata": {
    "tags": []
   },
   "outputs": [],
   "source": [
    "# путь к файлу расширения для Chrome \"Доступ к LinkedIn\"\n",
    "EXTENSION_PATH = '1.5_0.crx'\n",
    "\n",
    "# конфиг\n",
    "CFG_FILE = 'parser.ini'\n",
    "\n",
    "\"\"\"\n",
    "файл конфигурации необходимо предварительно создать,\n",
    "формат файла parser.ini:\n",
    "[LINKEDIN]\n",
    "USER_LOGIN = эл_почта_без_кавычек\n",
    "USER_PASSWORD = пароль\n",
    "\"\"\";\n",
    "\n",
    "# загружаем данные из конфига\n",
    "conf = configparser.ConfigParser()\n",
    "try:\n",
    "    conf.read(CFG_FILE)\n",
    "    USER_LOGIN = conf['LINKEDIN']['USER_LOGIN']\n",
    "    USER_PASSWORD = conf['LINKEDIN']['USER_PASSWORD']\n",
    "except:\n",
    "    print(f'Не удалось прочитать файл конфигурации: {CFG_FILE}')\n",
    "    quit() # нужен только при переносе кода в .py"
   ]
  },
  {
   "cell_type": "markdown",
   "id": "e8e3ed83",
   "metadata": {},
   "source": [
    "**Общие процедуры и функции**"
   ]
  },
  {
   "cell_type": "code",
   "execution_count": 3,
   "id": "f3829aaa",
   "metadata": {
    "code_folding": [
     1
    ]
   },
   "outputs": [],
   "source": [
    "# прокрутка страницы, для подгрузки динамического контента\n",
    "def get_scrolled_page(driver, num_scrolls=15, pause_time=0.5):\n",
    "    \"\"\"\n",
    "    Функция прокручивает страницу, загруженную в экземпляр driver,\n",
    "    num_scrolls раз, с pause_time паузами между прокрутками.\n",
    "    Возвращает код страницы.\n",
    "    # получим высоту прокрутки\n",
    "    \"\"\"\n",
    "    for i in range(num_scrolls):\n",
    "        time.sleep(random.uniform(pause_time, 3))\n",
    "        \n",
    "        driver.find_element(\n",
    "            By.CSS_SELECTOR, \"body.render-mode-BIGPIPE\"\n",
    "        ).send_keys(Keys.PAGE_DOWN)        \n",
    "\n",
    "    return driver"
   ]
  },
  {
   "cell_type": "code",
   "execution_count": 4,
   "id": "1610defa",
   "metadata": {
    "code_folding": [
     1
    ]
   },
   "outputs": [],
   "source": [
    "# формируем запрос на поиск людей по ключевым словам\n",
    "def search_people_url(keywords, tags, page_num=1):\n",
    "    \"\"\"\n",
    "    Функция на вход получает ключевые слова,\n",
    "    список тем публикаций для поиска и номер страницы.\n",
    "    Возвращает url для запроса страницы.\n",
    "    \"\"\"\n",
    "    # преобразуем теги в строку\n",
    "    tags_str = str(tags).replace(\" \", \"\").replace(\"'\", '\"')\n",
    "    \n",
    "    # формируем строку запроса\n",
    "    search_url = 'https://www.linkedin.com/search/results/people/'\n",
    "    search_url += f'?keywords={keywords}'\n",
    "    search_url += '&origin=FACETED_SEARCH'\n",
    "    search_url += f'&page={page_num}'\n",
    "    search_url += '&profileLanguage=[\"ru\"]'\n",
    "    # темы публикаций (хештеги)\n",
    "    search_url += f'&talksAbout={tags_str}'\n",
    "    \n",
    "    return search_url"
   ]
  },
  {
   "cell_type": "code",
   "execution_count": 5,
   "id": "c12cdf38",
   "metadata": {
    "code_folding": [
     1
    ]
   },
   "outputs": [],
   "source": [
    "# получаем список профилей на странице\n",
    "def get_profiles(driver):\n",
    "    \"\"\"\n",
    "    Функция получает драйвер открытой страницы,\n",
    "    ищет ссылки на доступные профили пользователей и возвращает\n",
    "    список id пользователей.\n",
    "    \"\"\"\n",
    "    # список найденных профилей\n",
    "    profiles = []\n",
    "\n",
    "    # ищем на странице ссылки на профили\n",
    "    finded_profiles = driver.find_elements(\n",
    "        By.CSS_SELECTOR, \"span.entity-result__title-text a.app-aware-link\"\n",
    "    )\n",
    "    for profile in finded_profiles:\n",
    "        # получаем url на профиль пользователя\n",
    "        url = profile.get_attribute(\"href\")\n",
    "        # если url ссылается на доступный профиль\n",
    "        if 'linkedin.com/in' in url:\n",
    "            # оставляем только id профиля\n",
    "            profile_id = url.split('?')[0].split('/in/')[1]\n",
    "            # добавляем id в список\n",
    "            profiles.append(profile_id)\n",
    "\n",
    "    # избавляемся от дублей, если вдруг появятся\n",
    "    profiles = list(set(profiles))\n",
    "    return profiles"
   ]
  },
  {
   "cell_type": "code",
   "execution_count": 6,
   "id": "316dcd15",
   "metadata": {
    "code_folding": [
     1
    ]
   },
   "outputs": [],
   "source": [
    "# собираем информацию о пользователе\n",
    "def get_user_info(driver, user_id):\n",
    "    \"\"\"\n",
    "    Функция парсит со страницы профиля информацию о пользователе.\n",
    "    На вход получает, драйвер и идентификатор пользователя.\n",
    "    На выходе возвращает список\n",
    "    \"\"\"\n",
    "    # прокручиваем страницу до конца что бы подгрузился динамический контент\n",
    "    driver = get_scrolled_page(driver, num_scrolls=3, pause_time=1.5)\n",
    "\n",
    "    # извлекаем код страницы\n",
    "    src = driver.page_source\n",
    "\n",
    "    # предеаем код страницы в парсер\n",
    "    soup = BeautifulSoup(src, 'lxml')    \n",
    "    \n",
    "    # извлекаем HTML содержаший имя и заголовок\n",
    "    intro = soup.find('div', {'class': 'mt2 relative'})\n",
    "\n",
    "    # получаем имя\n",
    "    user_name = ''\n",
    "    try:\n",
    "        name_loc = intro.find(\"h1\")\n",
    "        user_name = name_loc.get_text().strip()\n",
    "    except: ...\n",
    "\n",
    "    # заголовок, обычно тут пишут где работает или специальность или навыки\n",
    "    user_head = ''\n",
    "    try:\n",
    "        head_at_loc = intro.find(\"div\", {'class': 'text-body-medium'})\n",
    "        user_head = head_at_loc.get_text().strip()\n",
    "    except: ...\n",
    "\n",
    "    # получаем теги\n",
    "    user_tags = ''\n",
    "    try:\n",
    "        # темы публикаций\n",
    "        tags_at_loc = intro.find(\"div\", {'class': 'text-body-small t-black--light break-words mt2'})\n",
    "        # уточняем \n",
    "        tags_at_loc = tags_at_loc.find('span', {'aria-hidden': 'true'})\n",
    "        # убираем лишние символы\n",
    "        user_tags = tags_at_loc.get_text().split(':')[1].strip()\n",
    "        user_tags = user_tags.replace('#','').replace(' и',',')\n",
    "    except: ...\n",
    "\n",
    "    # получаем локацию пользователя\n",
    "    user_location = ''\n",
    "    try:\n",
    "        location_at_loc = intro.find(\"div\", {'class': 'pv-text-details__left-panel mt2'})\n",
    "        # уточняем\n",
    "        location_at_loc = location_at_loc.find('span', {'class': 'text-body-small'})\n",
    "        user_location = location_at_loc.get_text().strip()\n",
    "    except: ...\n",
    "\n",
    "    # место работы\n",
    "    user_work = ''\n",
    "    try:\n",
    "        work_at_loc = intro.find(\"div\", {'class': 'inline-show-more-text'})\n",
    "        user_work = work_at_loc.get_text().strip()\n",
    "    except: ...\n",
    "\n",
    "    # количество отслеживающих и контактов\n",
    "    user_viewwers, user_contacts = '0', '0'\n",
    "    try:\n",
    "        stat_at_loc = soup.find(\"ul\", {'class': 'pv-top-card--list pv-top-card--list-bullet'})\n",
    "        user_viewwers = stat_at_loc.find_all(\"span\")[0].get_text().strip()\n",
    "        user_contacts = stat_at_loc.find_all(\"span\")[2].get_text().strip()\n",
    "    except: ...\n",
    "\n",
    "    # общие сведения\n",
    "    user_common_info = ''\n",
    "    try:\n",
    "        common_at_loc = soup.find(\"div\", {'class': 'display-flex ph5 pv3'})\n",
    "        user_common_info = common_at_loc.find_all('span')[0].get_text().strip()\n",
    "    except: ...\n",
    "\n",
    "    # должность\n",
    "    user_position = ''\n",
    "    try:\n",
    "        position_at_loc = soup.find(\"ul\", {'class': 'pvs-list'})\n",
    "        user_position = position_at_loc.find_all('span')[0].get_text().strip()\n",
    "    except: ...\n",
    "        \n",
    "    return [\n",
    "        user_name, user_head, user_work, user_position, user_tags,\n",
    "        user_location, user_viewwers, user_contacts, user_common_info\n",
    "    ]"
   ]
  },
  {
   "cell_type": "code",
   "execution_count": 7,
   "id": "0e66624b",
   "metadata": {
    "code_folding": [
     1
    ],
    "scrolled": true
   },
   "outputs": [],
   "source": [
    "# парсим данные публикации\n",
    "def get_post_info(post):\n",
    "    \"\"\"\n",
    "    Функция на вход получает блок кода с публикацией.\n",
    "    Возвращает список параметров публикации: текст и реакции.\n",
    "    \"\"\"\n",
    "    # текст поста\n",
    "    post_text = 'no text'\n",
    "    try:\n",
    "        post_text = post.find('span', {'class': 'break-words'}).get_text().strip()\n",
    "    except: ...\n",
    "\n",
    "    # блок реакций на пост\n",
    "    likes, comments, reposts = '0', '0', '0'\n",
    "    try:\n",
    "        reaсtions = post.find('ul', {'class': 'social-details-social-counts'})\n",
    "        try:\n",
    "            likes = reaсtions.find(\n",
    "                'span', {'class': 'social-details-social-counts__reactions-count'}\n",
    "            ).get_text().strip().replace('\\xa0', ' ')\n",
    "            \n",
    "        except: ...\n",
    "        try:\n",
    "            comments = reaсtions.find(\n",
    "                'li', {'class': 'social-details-social-counts__comments'}\n",
    "            ).get_text().strip().replace('\\xa0', ' ')\n",
    "            comments = re.match('^[\\d]+', comments)[0]\n",
    "        except: ...\n",
    "        try:\n",
    "            reposts = reaсtions.find(\n",
    "                'li', {'class': 'social-details-social-counts__item social-details-social-counts__item--with-social-proof'}\n",
    "            ).get_text().strip().replace('\\xa0', ' ')\n",
    "            reposts = re.match('^[\\d]+', reposts)[0]\n",
    "        except: ...\n",
    "    except: ...\n",
    "        \n",
    "    return [post_text, likes, comments, reposts]"
   ]
  },
  {
   "cell_type": "markdown",
   "id": "9034d2b0",
   "metadata": {},
   "source": [
    "**Создаем и запускаем браузер**"
   ]
  },
  {
   "cell_type": "code",
   "execution_count": 8,
   "id": "bf539023",
   "metadata": {},
   "outputs": [],
   "source": [
    "# подключаем расширение к драйверу\n",
    "options = webdriver.ChromeOptions()\n",
    "options.add_extension(EXTENSION_PATH)\n",
    "\n",
    "# меняем стратегию - ждать, пока свойство document.readyState примет значение interactive\n",
    "options.page_load_strategy = 'eager'\n",
    "\n",
    "# запускаем Chrome с расширением\n",
    "driver = webdriver.Chrome(options=options)"
   ]
  },
  {
   "cell_type": "markdown",
   "id": "4ef375a0",
   "metadata": {},
   "source": [
    "**Вход в LinkedIn**"
   ]
  },
  {
   "cell_type": "code",
   "execution_count": 9,
   "id": "d8ae334e",
   "metadata": {
    "scrolled": false
   },
   "outputs": [],
   "source": [
    "# открываем страницу входа linkedIn, необходимо отключить двухфакторную аутонтификацию\n",
    "driver.get(\"https://linkedin.com/uas/login\")\n",
    "\n",
    "# ожидаем загрузку страницы\n",
    "time.sleep(4)\n",
    "\n",
    "# поле ввода имени пользователя\n",
    "username = driver.find_element(By.ID, \"username\")\n",
    "\n",
    "# вводим свой Email\n",
    "username.send_keys(USER_LOGIN)\n",
    "\n",
    "# поле ввода пароля\n",
    "pword = driver.find_element(By.ID, \"password\")\n",
    "\n",
    "# вводим пароль\n",
    "pword.send_keys(USER_PASSWORD)\n",
    "\n",
    "# нажимаем кнопку Войти\n",
    "# Формат (синтаксис) написания XPath --> //tagname[@attribute='value']\n",
    "driver.find_element(By.XPATH, \"//button[@type='submit']\").click()"
   ]
  },
  {
   "cell_type": "markdown",
   "id": "3f60c263",
   "metadata": {},
   "source": [
    "**Параметры парсинга**"
   ]
  },
  {
   "cell_type": "code",
   "execution_count": 10,
   "id": "31d4f996",
   "metadata": {},
   "outputs": [],
   "source": [
    "# теги, темы публикаций\n",
    "\n",
    "#KEYWORDS = 'разработка по'\n",
    "#TAGS = ['softwaredevelopment', 'webdevelopment', 'startup', 'it', 'design']\n",
    "#CSV_FILE_NAME = 'profiles_id_1.csv'\n",
    "\n",
    "#KEYWORDS = 'devops'\n",
    "#TAGS = ['devops', 'aws', 'python', 'cloud', 'kubernetes']\n",
    "#CSV_FILE_NAME = 'profiles_id_2.csv'\n",
    "\n",
    "#KEYWORDS = 'data science'\n",
    "#TAGS = ['datascience', 'machinelearning', 'ai', 'artificialintelligence', 'dataanalytics']\n",
    "#CSV_FILE_NAME = 'profiles_id_3.csv'\n",
    "\n",
    "#KEYWORDS = 'project management'\n",
    "#TAGS = ['projectmanagement', 'business', 'agile', 'scrum', 'it']\n",
    "#CSV_FILE_NAME = 'profiles_id_4.csv'\n",
    "\n",
    "KEYWORDS = 'design ui ux'\n",
    "TAGS = ['design', 'webdesign', 'ux', 'ui', 'uxdesign', 'uidesign']\n",
    "CSV_FILE_NAME = 'profiles_id_5.csv'"
   ]
  },
  {
   "cell_type": "markdown",
   "id": "0f4168dc",
   "metadata": {},
   "source": [
    "**Собираем ID пользователей**"
   ]
  },
  {
   "cell_type": "code",
   "execution_count": null,
   "id": "f9c8deec",
   "metadata": {
    "scrolled": true
   },
   "outputs": [],
   "source": [
    "\"\"\"\n",
    "# число страниц для парсинга, в бесплатном аккаунте доступно не более 100\n",
    "NUM_PAGES = 100\n",
    "\n",
    "# пустой датафрейм для id пользователей\n",
    "df = pd.DataFrame(columns=['id'])\n",
    "\n",
    "for page_num in range(1, NUM_PAGES+1):\n",
    "    \n",
    "    # выводим номер страницы, в случае сбоя можно будет начать новый парсинг с нее\n",
    "    print(page_num, end='  ')\n",
    "    \n",
    "    # формируем url запроса\n",
    "    people_url = search_people_url(KEYWORDS, TAGS, page_num=page_num)\n",
    "    \n",
    "    # запрашиваем и открываем страницу\n",
    "    driver.get(people_url)\n",
    "    \n",
    "    # получаем и добавляем список найденных id профилей на странице\n",
    "    profiles_id = get_profiles(driver)\n",
    "    \n",
    "    # добавляем данные в датафрейм\n",
    "    df = pd.concat(\n",
    "        [df, pd.DataFrame({'id': profiles_id})]\n",
    "    ).reset_index(drop=True)\n",
    "    \n",
    "    # сохраняем в CSV\n",
    "    df.to_csv(CSV_FILE_NAME)\n",
    "\n",
    "    time.sleep(random.uniform(3, 5))\n",
    "\"\"\";"
   ]
  },
  {
   "cell_type": "markdown",
   "id": "e4000a58",
   "metadata": {},
   "source": [
    "**Собираем все id в один датафрейм**"
   ]
  },
  {
   "cell_type": "code",
   "execution_count": 21,
   "id": "7d812fdd",
   "metadata": {},
   "outputs": [],
   "source": [
    "# имя файла для сохранения профилей юзеров\n",
    "CSV_PROFILES_FILE_NAME = 'profiles.csv'\n",
    "\n",
    "# названия столбцов для хранения данных о пользователях\n",
    "profile_columns = [\n",
    "    'user_name', # имя\n",
    "    'user_head', # заголовок\n",
    "    'user_work', # последннее/текущее место работы\n",
    "    'user_position', # должность\n",
    "    'user_tags', # теги, интересы\n",
    "    'user_location', # адрес\n",
    "    'user_viewers', # число подписчиков\n",
    "    'user_contacts', # число контактов\n",
    "    'user_common_info' # общая информация\n",
    "]"
   ]
  },
  {
   "cell_type": "code",
   "execution_count": 22,
   "id": "d8afcedd",
   "metadata": {},
   "outputs": [
    {
     "name": "stdout",
     "output_type": "stream",
     "text": [
      "Всего профилей: 1709\n"
     ]
    }
   ],
   "source": [
    "# если файл с профилями уже существует\n",
    "if os.path.exists(CSV_PROFILES_FILE_NAME):\n",
    "    # загружаем датафрейм из файла\n",
    "    df = pd.read_csv(CSV_PROFILES_FILE_NAME, index_col=0)\n",
    "else:\n",
    "    # список файлов c id пользователей\n",
    "    list_csv_files = [\n",
    "        'profiles_id_1.csv',\n",
    "        'profiles_id_2.csv',\n",
    "        'profiles_id_3.csv',\n",
    "        'profiles_id_4.csv',\n",
    "        'profiles_id_5.csv',\n",
    "    ]\n",
    "    # пустой DF\n",
    "    df = pd.DataFrame(columns=['id'])\n",
    "\n",
    "    # соберем все файлы в один DF\n",
    "    for csv_file in list_csv_files:\n",
    "        df = pd.concat(\n",
    "            [df, pd.read_csv(csv_file, index_col=0)]\n",
    "        ).reset_index(drop=True)\n",
    "\n",
    "    # удаляем дубли\n",
    "    df = df.drop_duplicates()\n",
    "\n",
    "    df = df.reindex(columns = df.columns.tolist() + profile_columns)\n",
    "\n",
    "print('Всего профилей:', len(df))"
   ]
  },
  {
   "cell_type": "code",
   "execution_count": 23,
   "id": "1a5d3d3d",
   "metadata": {},
   "outputs": [
    {
     "name": "stdout",
     "output_type": "stream",
     "text": [
      "<class 'pandas.core.frame.DataFrame'>\n",
      "Index: 1709 entries, 0 to 1864\n",
      "Data columns (total 10 columns):\n",
      " #   Column            Non-Null Count  Dtype \n",
      "---  ------            --------------  ----- \n",
      " 0   id                1709 non-null   object\n",
      " 1   user_name         6 non-null      object\n",
      " 2   user_head         6 non-null      object\n",
      " 3   user_work         6 non-null      object\n",
      " 4   user_position     6 non-null      object\n",
      " 5   user_tags         6 non-null      object\n",
      " 6   user_location     6 non-null      object\n",
      " 7   user_viewers      6 non-null      object\n",
      " 8   user_contacts     6 non-null      object\n",
      " 9   user_common_info  5 non-null      object\n",
      "dtypes: object(10)\n",
      "memory usage: 146.9+ KB\n"
     ]
    }
   ],
   "source": [
    "df.info()"
   ]
  },
  {
   "cell_type": "markdown",
   "id": "9c617bba",
   "metadata": {},
   "source": [
    "**Парсим профили и посты**"
   ]
  },
  {
   "cell_type": "code",
   "execution_count": 24,
   "id": "c242a530",
   "metadata": {},
   "outputs": [],
   "source": [
    "# имя файла для сохранения публикаций\n",
    "CSV_POSTS_FILE_NAME = 'posts.csv'\n",
    "\n",
    "# названия столбцов для хранения публикаций\n",
    "posts_columns = [\n",
    "    'user_id', # id профиля\n",
    "    'text', # текст публикации\n",
    "    'likes', # количество реакций\n",
    "    'comments', # количество комментариев\n",
    "    'reposts', # количество комментариев\n",
    "]"
   ]
  },
  {
   "cell_type": "code",
   "execution_count": 25,
   "id": "370ba5ca",
   "metadata": {},
   "outputs": [],
   "source": [
    "# если файл с профилями уже существует\n",
    "if os.path.exists(CSV_POSTS_FILE_NAME):\n",
    "    # загружаем датафрейм из файла\n",
    "    df_posts = pd.read_csv(CSV_POSTS_FILE_NAME, index_col=0)\n",
    "else:\n",
    "    # пустой датафрейм для текстов публикаций\n",
    "    df_posts = pd.DataFrame(columns=posts_columns)"
   ]
  },
  {
   "cell_type": "code",
   "execution_count": 26,
   "id": "939fb94e",
   "metadata": {
    "scrolled": true
   },
   "outputs": [
    {
     "name": "stdout",
     "output_type": "stream",
     "text": [
      "<class 'pandas.core.frame.DataFrame'>\n",
      "Index: 52 entries, 0 to 51\n",
      "Data columns (total 5 columns):\n",
      " #   Column    Non-Null Count  Dtype \n",
      "---  ------    --------------  ----- \n",
      " 0   user_id   52 non-null     object\n",
      " 1   text      52 non-null     object\n",
      " 2   likes     52 non-null     int64 \n",
      " 3   comments  52 non-null     int64 \n",
      " 4   reposts   52 non-null     int64 \n",
      "dtypes: int64(3), object(2)\n",
      "memory usage: 2.4+ KB\n"
     ]
    }
   ],
   "source": [
    "df_posts.info()"
   ]
  },
  {
   "cell_type": "code",
   "execution_count": 27,
   "id": "3587431f",
   "metadata": {},
   "outputs": [
    {
     "data": {
      "text/plain": [
       "6"
      ]
     },
     "execution_count": 27,
     "metadata": {},
     "output_type": "execute_result"
    }
   ],
   "source": [
    "# с какого профиля стартуем\n",
    "start_idx = df.user_name.nunique()\n",
    "start_idx"
   ]
  },
  {
   "cell_type": "code",
   "execution_count": null,
   "id": "feb69ac3",
   "metadata": {},
   "outputs": [
    {
     "name": "stdout",
     "output_type": "stream",
     "text": [
      "ellomend\n",
      "posts: 19\n",
      "1 2 3 4 5 6 7 8 9 10 11 12 13 14 15 16 17 18 19 \n",
      "anton-kartunov-97415661\n",
      "posts: 5\n",
      "1 2 3 4 5 \n",
      "%D0%B0%D0%BD%D0%B4%D1%80%D0%B5%D0%B9-%D1%87%D0%B5%D1%80%D0%BD%D0%BE%D1%83%D1%81%D0%BE%D0%B2-630355101\n",
      "posts: 34\n",
      "1 2 3 4 5 6 7 8 9 10 11 12 13 14 15 16 17 18 19 20 21 22 23 24 25 26 27 28 29 30 31 32 33 34 \n",
      "tatberezka\n",
      "posts: 14\n",
      "1 2 3 4 5 6 7 8 9 10 11 12 13 14 \n",
      "agratoth\n",
      "posts: 28\n",
      "1 2 3 4 5 6 7 8 9 10 11 12 13 14 15 16 17 18 19 20 21 22 23 24 25 26 27 28 \n",
      "vladbadaev\n",
      "posts: 4\n",
      "1 2 3 4 \n",
      "mikhailsolovyev\n",
      "posts: 50\n",
      "1 2 3 4 5 6 7 8 9 10 11 12 13 14 15 16 17 18 19 20 21 22 23 24 25 26 27 28 29 30 31 32 33 34 35 36 37 38 39 40 41 42 43 44 45 46 47 48 49 50 \n",
      "hanagantig\n",
      "posts: 6\n",
      "1 2 3 4 5 6 \n",
      "%D0%BF%D0%BE%D0%BB%D0%B8%D0%BD%D0%B0-%D0%BC%D1%83%D1%80%D0%B0%D0%B2%D1%8C%D0%B5%D0%B2%D0%B0-61129220a\n",
      "posts: 8\n",
      "1 2 3 4 5 6 7 8 \n",
      "olgaperun\n",
      "posts: 80\n",
      "1 2 3 4 5 6 7 8 9 10 11 12 13 14 15 16 17 18 19 20 21 22 23 24 25 26 27 28 29 30 31 32 33 34 35 36 37 38 39 40 41 42 43 44 45 46 47 48 49 50 51 52 53 54 55 56 57 58 59 60 61 62 63 64 65 66 67 68 69 70 71 72 73 74 75 76 77 78 79 80 \n",
      "anna-nurgaleeva-ba9a6338\n",
      "posts: 12\n",
      "1 2 3 4 5 6 7 8 9 10 11 12 \n",
      "lobova-m\n",
      "posts: 6\n",
      "1 2 3 4 5 6 \n",
      "mikhail1331\n",
      "posts: 13\n",
      "1 2 3 4 5 6 7 8 9 10 11 12 13 \n",
      "mkazlouski\n",
      "posts: 0\n",
      "\n",
      "%D0%B0%D0%BB%D0%B5%D0%BA%D1%81%D0%B5%D0%B9-%D0%BB%D0%B0%D0%BF%D1%88%D0%B8%D0%BD-a41616b9\n",
      "posts: 32\n",
      "1 2 3 4 5 6 7 8 9 10 11 12 13 14 15 16 17 18 19 20 21 22 23 24 25 26 27 28 29 30 31 32 \n",
      "userexy\n",
      "posts: 40\n",
      "1 2 3 4 5 6 7 8 9 10 11 12 13 14 15 16 17 18 19 20 21 22 23 24 25 26 27 28 29 30 31 32 33 34 35 36 37 38 39 40 \n",
      "marina-bibilati-a36884198\n",
      "posts: 4\n",
      "1 2 3 4 \n",
      "elizaveta-morozooova\n",
      "posts: 2\n",
      "1 2 \n",
      "ildar-abdullin\n",
      "posts: 40\n",
      "1 2 3 4 5 6 7 8 9 10 11 12 13 14 15 16 17 18 19 20 21 22 23 24 25 26 27 28 29 30 31 32 33 34 35 36 37 38 39 40 \n",
      "alexander-ui\n"
     ]
    }
   ],
   "source": [
    "# парсим данные из профилей\n",
    "for profile_id in df.id[start_idx:]:\n",
    "    \n",
    "    # для контроля выводим на экран текущий ID профиля\n",
    "    print(profile_id)\n",
    "    \n",
    "    # получаем url профиля пользователя\n",
    "    profile_url = f'https://www.linkedin.com/in/{profile_id}/'\n",
    "\n",
    "    # открываем ссылку profile_url\n",
    "    driver.get(profile_url)\n",
    "\n",
    "    # парсим информацию профиля\n",
    "    user_info = get_user_info(driver, profile_id)\n",
    "    \n",
    "    # сохраняем данные в датафрейм\n",
    "    df.loc[df.id == profile_id, profile_columns] = user_info\n",
    "    \n",
    "    # сохраняем в CSV\n",
    "    df.to_csv(CSV_PROFILES_FILE_NAME)\n",
    "    \n",
    "    # пауза\n",
    "    time.sleep(random.uniform(10, 20))\n",
    "    \n",
    "    # URL на все публикации пользователя\n",
    "    posts_url = f'https://www.linkedin.com/in/{profile_id}/recent-activity/all/'\n",
    "\n",
    "    driver.get(posts_url)\n",
    "\n",
    "    # получаем код проскроленой страницы\n",
    "    src = get_scrolled_page(driver, num_scrolls=25, pause_time=0.5).page_source\n",
    "\n",
    "    # передаем код страницы в парсер\n",
    "    soup = BeautifulSoup(src, 'lxml')\n",
    "\n",
    "    # получаем список постов\n",
    "    posts_block = soup.find_all(\n",
    "        'li', {'class': 'profile-creator-shared-feed-update__container'}\n",
    "    )\n",
    "\n",
    "    print(f'posts: {len(posts_block)}')\n",
    "\n",
    "    count_posts = 1\n",
    "    \n",
    "    for post in posts_block:\n",
    "        \n",
    "        # номер поста для контроля\n",
    "        print(count_posts, end=' ')\n",
    "        count_posts += 1\n",
    "        \n",
    "        # получаем данные публикации\n",
    "        post_info = get_post_info(post)\n",
    "        \n",
    "        if not post_info[0] == 'no text':\n",
    "            # добавляем данные в датафрейм\n",
    "            df_posts.loc[len(df_posts.index)] = [profile_id] + post_info\n",
    "        \n",
    "        # сохраняем в CSV\n",
    "        df_posts.to_csv(CSV_POSTS_FILE_NAME)\n",
    "    \n",
    "    print()"
   ]
  },
  {
   "cell_type": "code",
   "execution_count": null,
   "id": "3dbd8a82",
   "metadata": {},
   "outputs": [],
   "source": [
    "# закрываем браузер\n",
    "driver.quit()"
   ]
  },
  {
   "cell_type": "markdown",
   "id": "1a37912a",
   "metadata": {},
   "source": [
    "**Результат**"
   ]
  },
  {
   "cell_type": "code",
   "execution_count": null,
   "id": "b683fcc4",
   "metadata": {},
   "outputs": [],
   "source": [
    "# профили\n",
    "df.info()"
   ]
  },
  {
   "cell_type": "code",
   "execution_count": null,
   "id": "b797d2a7",
   "metadata": {},
   "outputs": [],
   "source": [
    "# публикации\n",
    "df_posts.info()"
   ]
  },
  {
   "cell_type": "code",
   "execution_count": null,
   "id": "b2876ce1",
   "metadata": {},
   "outputs": [],
   "source": []
  }
 ],
 "metadata": {
  "kernelspec": {
   "display_name": "Python 3 (ipykernel)",
   "language": "python",
   "name": "python3"
  },
  "language_info": {
   "codemirror_mode": {
    "name": "ipython",
    "version": 3
   },
   "file_extension": ".py",
   "mimetype": "text/x-python",
   "name": "python",
   "nbconvert_exporter": "python",
   "pygments_lexer": "ipython3",
   "version": "3.10.11"
  },
  "toc": {
   "base_numbering": 1,
   "nav_menu": {},
   "number_sections": false,
   "sideBar": true,
   "skip_h1_title": false,
   "title_cell": "Содержание",
   "title_sidebar": "Оглавление",
   "toc_cell": false,
   "toc_position": {
    "height": "calc(100% - 180px)",
    "left": "10px",
    "top": "150px",
    "width": "294.55px"
   },
   "toc_section_display": true,
   "toc_window_display": false
  },
  "toc-autonumbering": false,
  "toc-showcode": false,
  "toc-showmarkdowntxt": false,
  "varInspector": {
   "cols": {
    "lenName": 16,
    "lenType": 16,
    "lenVar": 40
   },
   "kernels_config": {
    "python": {
     "delete_cmd_postfix": "",
     "delete_cmd_prefix": "del ",
     "library": "var_list.py",
     "varRefreshCmd": "print(var_dic_list())"
    },
    "r": {
     "delete_cmd_postfix": ") ",
     "delete_cmd_prefix": "rm(",
     "library": "var_list.r",
     "varRefreshCmd": "cat(var_dic_list()) "
    }
   },
   "position": {
    "height": "187.85px",
    "left": "889.4px",
    "right": "20px",
    "top": "113px",
    "width": "320.4px"
   },
   "types_to_exclude": [
    "module",
    "function",
    "builtin_function_or_method",
    "instance",
    "_Feature"
   ],
   "window_display": false
  }
 },
 "nbformat": 4,
 "nbformat_minor": 5
}
