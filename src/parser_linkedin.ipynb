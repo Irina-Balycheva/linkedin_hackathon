{
 "cells": [
  {
   "cell_type": "markdown",
   "id": "3a4945da",
   "metadata": {},
   "source": [
    "# Код для парсинга профилей и постов LinkedIn"
   ]
  },
  {
   "cell_type": "code",
   "execution_count": null,
   "id": "8483716a",
   "metadata": {
    "tags": []
   },
   "outputs": [],
   "source": [
    "import time\n",
    "import configparser\n",
    "import random\n",
    "\n",
    "import pandas as pd\n",
    "from bs4 import BeautifulSoup\n",
    "from selenium import webdriver\n",
    "from selenium.webdriver.common.by import By\n",
    "from selenium.webdriver.common.desired_capabilities import DesiredCapabilities"
   ]
  },
  {
   "cell_type": "markdown",
   "id": "85d78d11",
   "metadata": {},
   "source": [
    "**Загружаем конфиг**"
   ]
  },
  {
   "cell_type": "code",
   "execution_count": null,
   "id": "e617131f",
   "metadata": {
    "tags": []
   },
   "outputs": [],
   "source": [
    "# путь к файлу расширения для Chrome \"Доступ к LinkedIn\"\n",
    "EXTENSION_PATH = '1.5_0.crx'\n",
    "\n",
    "# конфиг\n",
    "CFG_FILE = 'parser.ini'\n",
    "\n",
    "\"\"\"\n",
    "файл конфигурации необходимо предварительно создать,\n",
    "формат файла parser.ini:\n",
    "[LINKEDIN]\n",
    "USER_LOGIN = эл_почта_без_кавычек\n",
    "USER_PASSWORD = пароль\n",
    "\"\"\";\n",
    "\n",
    "# загружаем данные из конфига\n",
    "conf = configparser.ConfigParser()\n",
    "try:\n",
    "    conf.read(CFG_FILE)\n",
    "    USER_LOGIN = conf['LINKEDIN']['USER_LOGIN']\n",
    "    USER_PASSWORD = conf['LINKEDIN']['USER_PASSWORD']\n",
    "except:\n",
    "    print(f'Не удалось прочитать файл конфигурации: {CFG_FILE}')\n",
    "    quit() # нужен только при переносе кода в .py"
   ]
  },
  {
   "cell_type": "markdown",
   "id": "e8e3ed83",
   "metadata": {},
   "source": [
    "**Общие процедуры и функции**"
   ]
  },
  {
   "cell_type": "code",
   "execution_count": null,
   "id": "534bd189",
   "metadata": {
    "code_folding": [
     1
    ]
   },
   "outputs": [],
   "source": [
    "# получить и отобразить информацию профиля\n",
    "def get_and_print_profile_info(driver, profile_url):\n",
    "    driver.get(profile_url)        # открываем ссылку profile_url\n",
    "\n",
    "    # извлекаем код страницы\n",
    "    src = driver.page_source\n",
    "\n",
    "    # предеаем код страницы в парсер\n",
    "    soup = BeautifulSoup(src, 'lxml')\n",
    "    #soup.prettify()\n",
    "\n",
    "    # извлекаем HTML содержаший имя и заголовок\n",
    "    intro = soup.find('div', {'class': 'pv-text-details__left-panel'})\n",
    "\n",
    "    #print(f'''{intro}''') # вывод содержимого для контроля\n",
    "\n",
    "    # в случае ошибки попробуйте изменить используемые здесь теги\n",
    "    name_loc = intro.find(\"h1\")\n",
    "\n",
    "    # получаем имя\n",
    "    name = name_loc.get_text().strip()\n",
    "\n",
    "    # заголовок, обычно тут пишут где работает или специальность\n",
    "    works_at_loc = intro.find(\"div\", {'class': 'text-body-medium'})\n",
    "\n",
    "    # получаем компанию или специальность\n",
    "    works_at = works_at_loc.get_text().strip()\n",
    "\n",
    "    print(f'''\n",
    "    Name --> {name},\n",
    "    Works At --> {works_at}\n",
    "    ''')\n",
    "\n",
    "    # суффикс к url профиля для отображения всех публикаций пользователя\n",
    "    POSTS_URL_SUFFIX = 'recent-activity/all/'\n",
    "\n",
    "    time.sleep(random.uniform(0.5, 1.5))\n",
    "\n",
    "    # текущий url профиля пользователя\n",
    "    cur_profile_url = driver.current_url\n",
    "    print(f'''\n",
    "    Profile URL --> {cur_profile_url}\n",
    "    ''')\n",
    "\n",
    "    # получим все публикации пользователя\n",
    "    get_and_print_user_posts(driver, cur_profile_url + POSTS_URL_SUFFIX)"
   ]
  },
  {
   "cell_type": "code",
   "execution_count": null,
   "id": "f3829aaa",
   "metadata": {
    "code_folding": [
     1
    ]
   },
   "outputs": [],
   "source": [
    "# прокрутка страницы, для подгрузки динамического контента\n",
    "def get_scrolled_page(driver, num_scrolls=15, pause_time=1.5):\n",
    "    \"\"\"\n",
    "    Функция прокручивает страницу, загруженную в экземпляр driver,\n",
    "    num_scrolls раз, с pause_time паузами между прокрутками.\n",
    "    Возвращает код страницы.\n",
    "    \"\"\"\n",
    "    # получим высоту прокрутки\n",
    "    last_height = driver.execute_script(\"return document.body.scrollHeight\")\n",
    "\n",
    "    for i in range(num_scrolls):\n",
    "        # прокрутка вниз\n",
    "        driver.execute_script(\"window.scrollTo(0, document.body.scrollHeight);\")\n",
    "\n",
    "        # ожидаем загрузку страницы\n",
    "        time.sleep(random.uniform(pause_time, pause_time+1))\n",
    "\n",
    "        # новая высота прокрутки и сравниваем с последней высотой прокрутки\n",
    "        new_height = driver.execute_script(\"return document.body.scrollHeight\")\n",
    "        if new_height == last_height:\n",
    "            break\n",
    "        last_height = new_height\n",
    "\n",
    "    return driver"
   ]
  },
  {
   "cell_type": "code",
   "execution_count": null,
   "id": "2f998e07",
   "metadata": {
    "code_folding": [
     1
    ]
   },
   "outputs": [],
   "source": [
    "# получить и отобразить все публикации из профиля\n",
    "def get_and_print_user_posts(driver, posts_url):\n",
    "    driver.get(posts_url)\n",
    "\n",
    "    # получаем код проскроленой страницы\n",
    "    src = get_scrolled_page(driver).page_source\n",
    "\n",
    "    # передаем код страницы в парсер\n",
    "    soup = BeautifulSoup(src, 'lxml')\n",
    "    #soup.prettify()\n",
    "\n",
    "    # получаем список постов\n",
    "    posts = soup.find_all('li', class_='profile-creator-shared-feed-update__container')\n",
    "\n",
    "    print(f'''\n",
    "    Number of posts: {len(posts)}\n",
    "    ''')\n",
    "    for post_src in posts:\n",
    "        # блок с текстом поста\n",
    "#        post_text_div = post_src.find('div', {'class': 'feed-shared-update-v2__description-wrapper mr2'})\n",
    "        post_text_div = post_src.find('div', {'class': 'feed-shared-update-v2__description-wrapper'})\n",
    "\n",
    "        if post_text_div is not None:\n",
    "            # текст поста\n",
    "            post_text = post_text_div.find('span', {'dir': 'ltr'})\n",
    "        else:\n",
    "            post_text = None\n",
    "\n",
    "        # если пост содержит текст\n",
    "        if post_text is not None:\n",
    "            post_text = post_text.get_text().strip()\n",
    "            print(f'''\n",
    "            Post text: {post_text}\n",
    "            ''')\n",
    "\n",
    "        # число реакций на пост\n",
    "        reaction_cnt = post_src.find('span', {'class': 'social-details-social-counts__reactions-count'})\n",
    "\n",
    "        # если число реакций записано в виде текста, то используем другое имя класса\n",
    "        if reaction_cnt is None:\n",
    "            reaction_cnt = post_src.find('span', {'class': 'social-details-social-counts__social-proof-text'})\n",
    "\n",
    "        if reaction_cnt is not None:\n",
    "            reaction_cnt = reaction_cnt.get_text().strip()\n",
    "            print(f'''\n",
    "            Reactions: {reaction_cnt}\n",
    "            ''')\n",
    "\n",
    "    return"
   ]
  },
  {
   "cell_type": "code",
   "execution_count": null,
   "id": "1610defa",
   "metadata": {
    "code_folding": [
     1
    ]
   },
   "outputs": [],
   "source": [
    "# формируем запрос на поиск людей по ключевым словам\n",
    "def search_people_url(keywords, tags, page_num=1):\n",
    "    \"\"\"\n",
    "    Функция на вход получает ключевые слова,\n",
    "    список тем публикаций для поиска и номер страницы.\n",
    "    Возвращает url для запроса страницы.\n",
    "    \"\"\"\n",
    "    # преобразуем теги в строку\n",
    "    tags_str = str(tags).replace(\" \", \"\").replace(\"'\", '\"')\n",
    "    \n",
    "    # формируем строку запроса\n",
    "    search_url = 'https://www.linkedin.com/search/results/people/'\n",
    "    search_url += f'?keywords={keywords}'\n",
    "    search_url += '&origin=FACETED_SEARCH'\n",
    "    search_url += f'&page={page_num}'\n",
    "    search_url += '&profileLanguage=[\"ru\"]'\n",
    "    # темы публикаций (хештеги)\n",
    "    search_url += f'&talksAbout={tags_str}'\n",
    "    \n",
    "    return search_url"
   ]
  },
  {
   "cell_type": "code",
   "execution_count": null,
   "id": "c12cdf38",
   "metadata": {
    "code_folding": [
     1
    ]
   },
   "outputs": [],
   "source": [
    "# получаем список профилей на странице\n",
    "def get_profiles(driver):\n",
    "    \"\"\"\n",
    "    Функция получает драйвер открытой страницы,\n",
    "    ищет ссылки на доступные профили пользователей и возвращает\n",
    "    список id пользователей.\n",
    "    \"\"\"\n",
    "    # список найденных профилей\n",
    "    profiles = []\n",
    "\n",
    "    # ищем на странице ссылки на профили\n",
    "    finded_profiles = driver.find_elements(\n",
    "        By.CSS_SELECTOR, \"span.entity-result__title-text a.app-aware-link\"\n",
    "    )\n",
    "    for profile in finded_profiles:\n",
    "        # получаем url на профиль пользователя\n",
    "        url = profile.get_attribute(\"href\")\n",
    "        # если url ссылается на доступный профиль\n",
    "        if 'linkedin.com/in' in url:\n",
    "            # оставляем только id профиля\n",
    "            profile_id = url.split('?')[0].split('/in/')[1]\n",
    "            # добавляем id в список\n",
    "            profiles.append(profile_id)\n",
    "\n",
    "    # избавляемся от дублей, если вдруг появятся\n",
    "    profiles = list(set(profiles))\n",
    "    return profiles"
   ]
  },
  {
   "cell_type": "markdown",
   "id": "9034d2b0",
   "metadata": {},
   "source": [
    "**Создаем и запускаем браузер**"
   ]
  },
  {
   "cell_type": "code",
   "execution_count": null,
   "id": "bf539023",
   "metadata": {},
   "outputs": [],
   "source": [
    "# подключаем расширение к драйверу\n",
    "options = webdriver.ChromeOptions()\n",
    "options.add_extension(EXTENSION_PATH)\n",
    "\n",
    "# меняем стратегию - ждать, пока свойство document.readyState примет значение interactive\n",
    "options.page_load_strategy = 'eager'\n",
    "\n",
    "# запускаем Chrome с расширением\n",
    "driver = webdriver.Chrome(options=options)"
   ]
  },
  {
   "cell_type": "markdown",
   "id": "4ef375a0",
   "metadata": {},
   "source": [
    "**Вход в LinkedIn**"
   ]
  },
  {
   "cell_type": "code",
   "execution_count": null,
   "id": "d8ae334e",
   "metadata": {
    "scrolled": false
   },
   "outputs": [],
   "source": [
    "# открываем страницу входа linkedIn, необходимо отключить двухфакторную аутонтификацию\n",
    "driver.get(\"https://linkedin.com/uas/login\")\n",
    "\n",
    "# ожидаем загрузку страницы\n",
    "time.sleep(4)\n",
    "\n",
    "# поле ввода имени пользователя\n",
    "username = driver.find_element(By.ID, \"username\")\n",
    "\n",
    "# вводим свой Email\n",
    "username.send_keys(USER_LOGIN)\n",
    "\n",
    "# поле ввода пароля\n",
    "pword = driver.find_element(By.ID, \"password\")\n",
    "\n",
    "# вводим пароль\n",
    "pword.send_keys(USER_PASSWORD)\n",
    "\n",
    "# нажимаем кнопку Войти\n",
    "# Формат (синтаксис) написания XPath --> //tagname[@attribute='value']\n",
    "driver.find_element(By.XPATH, \"//button[@type='submit']\").click()"
   ]
  },
  {
   "cell_type": "markdown",
   "id": "3f60c263",
   "metadata": {},
   "source": [
    "**Параметры парсинга**"
   ]
  },
  {
   "cell_type": "code",
   "execution_count": null,
   "id": "31d4f996",
   "metadata": {},
   "outputs": [],
   "source": [
    "# теги, темы публикаций\n",
    "\n",
    "#KEYWORDS = 'разработка по'\n",
    "#TAGS = ['softwaredevelopment', 'webdevelopment', 'startup', 'it', 'design']\n",
    "#CSV_FILE_NAME = 'profiles_id_1.csv'\n",
    "\n",
    "#KEYWORDS = 'devops'\n",
    "#TAGS = ['devops', 'aws', 'python', 'cloud', 'kubernetes']\n",
    "#CSV_FILE_NAME = 'profiles_id_2.csv'\n",
    "\n",
    "#KEYWORDS = 'data science'\n",
    "#TAGS = ['datascience', 'machinelearning', 'ai', 'artificialintelligence', 'dataanalytics']\n",
    "#CSV_FILE_NAME = 'profiles_id_3.csv'\n",
    "\n",
    "#KEYWORDS = 'project management'\n",
    "#TAGS = ['projectmanagement', 'business', 'agile', 'scrum', 'it']\n",
    "#CSV_FILE_NAME = 'profiles_id_4.csv'\n",
    "\n",
    "#KEYWORDS = 'design ui ux'\n",
    "#TAGS = ['design', 'webdesign', 'ux', 'ui', 'uxdesign', 'uidesign']\n",
    "#CSV_FILE_NAME = 'profiles_id_5.csv'\n",
    "\n",
    "KEYWORDS = 'анализ данных'\n",
    "TAGS = ['marketing', 'ai', 'datascience', 'productmanagement', 'machinelearning']\n",
    "CSV_FILE_NAME = 'profiles_id_6.csv'\n",
    "\n",
    "# число страниц для парсинга, в бесплатном аккаунте доступно не более 100\n",
    "NUM_PAGES = 100"
   ]
  },
  {
   "cell_type": "markdown",
   "id": "0f4168dc",
   "metadata": {},
   "source": [
    "**Собираем ID пользователей**"
   ]
  },
  {
   "cell_type": "code",
   "execution_count": null,
   "id": "f9c8deec",
   "metadata": {
    "scrolled": true
   },
   "outputs": [],
   "source": [
    "# пустой датафрейм для id пользователей\n",
    "df = pd.DataFrame(columns=['id'])\n",
    "\n",
    "for page_num in range(1, NUM_PAGES+1):\n",
    "    \n",
    "    # выводим номер страницы, в случае сбоя можно будет начать новый парсинг с нее\n",
    "    print(page_num, end='  ')\n",
    "    \n",
    "    # формируем url запроса\n",
    "    people_url = search_people_url(KEYWORDS, TAGS, page_num=page_num)\n",
    "    \n",
    "    # запрашиваем и открываем страницу\n",
    "    driver.get(people_url)\n",
    "    \n",
    "    # получаем и добавляем список найденных id профилей на странице\n",
    "    profiles_id = get_profiles(driver)\n",
    "    \n",
    "    # добавляем данные в датафрейм\n",
    "    df = pd.concat(\n",
    "        [df, pd.DataFrame({'id': profiles_id})]\n",
    "    ).reset_index(drop=True)\n",
    "    \n",
    "    # сохраняем в CSV\n",
    "    df.to_csv(CSV_FILE_NAME)\n",
    "\n",
    "    time.sleep(random.uniform(5, 10))"
   ]
  },
  {
   "cell_type": "markdown",
   "id": "e4000a58",
   "metadata": {},
   "source": [
    "**Собираем все id в один датафрейм**"
   ]
  },
  {
   "cell_type": "code",
   "execution_count": null,
   "id": "d8afcedd",
   "metadata": {},
   "outputs": [],
   "source": [
    "# список файлов c id пользователей\n",
    "list_csv_files = [\n",
    "    'profiles_id_1.csv',\n",
    "    'profiles_id_2.csv',\n",
    "    'profiles_id_3.csv',\n",
    "    'profiles_id_4.csv',\n",
    "    'profiles_id_5.csv',\n",
    "    'profiles_id_6.csv',\n",
    "]\n",
    "\n",
    "# очистим данные\n",
    "df = pd.DataFrame(columns=['id'])\n",
    "\n",
    "# соберем все файлы в один DF\n",
    "for csv_file in list_csv_files:\n",
    "    df = pd.concat(\n",
    "        [df, pd.read_csv(csv_file, index_col=0)]\n",
    "    ).reset_index(drop=True)\n",
    "    \n",
    "# удаляем дубли\n",
    "df = df.drop_duplicates()"
   ]
  },
  {
   "cell_type": "code",
   "execution_count": null,
   "id": "f6ec972d",
   "metadata": {},
   "outputs": [],
   "source": [
    "print('Всего профилей:', len(df))"
   ]
  },
  {
   "cell_type": "code",
   "execution_count": null,
   "id": "3dbd8a82",
   "metadata": {},
   "outputs": [],
   "source": [
    "# закрываем браузер\n",
    "driver.quit()"
   ]
  },
  {
   "cell_type": "markdown",
   "id": "a024688d",
   "metadata": {
    "scrolled": false
   },
   "source": [
    "Какую информацию нам нужно получить.\n",
    "\n",
    "Из профилей пользователей:\n",
    "\n",
    "- Ссылка\n",
    "- Имя\n",
    "- Возраст (нет), можно попробовать Дата присоединения\n",
    "- Теги\n",
    "- Локация\n",
    "- Компания\n",
    "- Должность\n",
    "- Направление, Опыт\n",
    "\n",
    "И публикаций:\n",
    "\n",
    "- Текст поста\n",
    "- Количество лайков\n",
    "- Количество комментариев\n"
   ]
  },
  {
   "cell_type": "code",
   "execution_count": null,
   "id": "d09be7d4",
   "metadata": {},
   "outputs": [],
   "source": []
  }
 ],
 "metadata": {
  "kernelspec": {
   "display_name": "Python 3 (ipykernel)",
   "language": "python",
   "name": "python3"
  },
  "language_info": {
   "codemirror_mode": {
    "name": "ipython",
    "version": 3
   },
   "file_extension": ".py",
   "mimetype": "text/x-python",
   "name": "python",
   "nbconvert_exporter": "python",
   "pygments_lexer": "ipython3",
   "version": "3.10.11"
  },
  "toc": {
   "base_numbering": 1,
   "nav_menu": {},
   "number_sections": false,
   "sideBar": true,
   "skip_h1_title": false,
   "title_cell": "Содержание",
   "title_sidebar": "Оглавление",
   "toc_cell": false,
   "toc_position": {
    "height": "calc(100% - 180px)",
    "left": "10px",
    "top": "150px",
    "width": "294.55px"
   },
   "toc_section_display": true,
   "toc_window_display": false
  },
  "toc-autonumbering": false,
  "toc-showcode": false,
  "toc-showmarkdowntxt": false,
  "varInspector": {
   "cols": {
    "lenName": 16,
    "lenType": 16,
    "lenVar": 40
   },
   "kernels_config": {
    "python": {
     "delete_cmd_postfix": "",
     "delete_cmd_prefix": "del ",
     "library": "var_list.py",
     "varRefreshCmd": "print(var_dic_list())"
    },
    "r": {
     "delete_cmd_postfix": ") ",
     "delete_cmd_prefix": "rm(",
     "library": "var_list.r",
     "varRefreshCmd": "cat(var_dic_list()) "
    }
   },
   "position": {
    "height": "187.85px",
    "left": "889.4px",
    "right": "20px",
    "top": "113px",
    "width": "320.4px"
   },
   "types_to_exclude": [
    "module",
    "function",
    "builtin_function_or_method",
    "instance",
    "_Feature"
   ],
   "window_display": false
  }
 },
 "nbformat": 4,
 "nbformat_minor": 5
}
